{
 "cells": [
  {
   "cell_type": "code",
   "execution_count": 1,
   "metadata": {},
   "outputs": [],
   "source": [
    "from geopy.distance import geodesic"
   ]
  },
  {
   "cell_type": "code",
   "execution_count": 2,
   "metadata": {},
   "outputs": [
    {
     "data": {
      "text/plain": [
       "11747.614407836463"
      ]
     },
     "execution_count": 2,
     "metadata": {},
     "output_type": "execute_result"
    }
   ],
   "source": [
    "p1 = [20.865049413789375, 106.66617777502275]\n",
    "p2 = [0,0]\n",
    "geodesic(p1,p2).km "
   ]
  },
  {
   "cell_type": "code",
   "execution_count": 25,
   "metadata": {},
   "outputs": [],
   "source": [
    "import pandas as pd\n",
    "import json\n",
    "from shapely.geometry import Polygon\n",
    "import csv"
   ]
  },
  {
   "cell_type": "code",
   "execution_count": 33,
   "metadata": {},
   "outputs": [
    {
     "name": "stdout",
     "output_type": "stream",
     "text": [
      "CSV file 'polygons.csv' has been created.\n"
     ]
    }
   ],
   "source": [
    "path = r'C:\\Users\\duphong.hua\\Downloads\\halong_test_hexagon.csv'\n",
    "df = pd.read_csv(path)\n",
    "name = df['hub_name'].to_list()\n",
    "polygon = df['extra_data'].to_dict()\n",
    "# c = [[i,c] for i,c in zip(n,p)]\n",
    "with open('polygons.csv', mode='w', newline='') as file:\n",
    "    writer = csv.writer(file)\n",
    "    writer.writerow([\"polygon\"])\n",
    "    \n",
    "    for key, value in polygon.items():\n",
    "        entry = json.loads(value)\n",
    "        points = entry['geo_data']['points']        \n",
    "        polygon = Polygon(points)\n",
    "        polygon_wkt = polygon.wkt\n",
    "        writer.writerow([polygon_wkt])"
   ]
  },
  {
   "cell_type": "code",
   "execution_count": 15,
   "metadata": {},
   "outputs": [
    {
     "data": {
      "text/html": [
       "<div>\n",
       "<style scoped>\n",
       "    .dataframe tbody tr th:only-of-type {\n",
       "        vertical-align: middle;\n",
       "    }\n",
       "\n",
       "    .dataframe tbody tr th {\n",
       "        vertical-align: top;\n",
       "    }\n",
       "\n",
       "    .dataframe thead th {\n",
       "        text-align: right;\n",
       "    }\n",
       "</style>\n",
       "<table border=\"1\" class=\"dataframe\">\n",
       "  <thead>\n",
       "    <tr style=\"text-align: right;\">\n",
       "      <th></th>\n",
       "      <th>id</th>\n",
       "      <th>extra_data</th>\n",
       "      <th>hub_name</th>\n",
       "    </tr>\n",
       "  </thead>\n",
       "  <tbody>\n",
       "    <tr>\n",
       "      <th>0</th>\n",
       "      <td>1269</td>\n",
       "      <td>{\"perimeter\":38036.98518019098,\"geo_data\":{\"po...</td>\n",
       "      <td>HaLongAll_Ops</td>\n",
       "    </tr>\n",
       "    <tr>\n",
       "      <th>1</th>\n",
       "      <td>1270</td>\n",
       "      <td>{\"perimeter\":4593.419260772009,\"geo_data\":{\"po...</td>\n",
       "      <td>HaLong_TranPhu</td>\n",
       "    </tr>\n",
       "    <tr>\n",
       "      <th>2</th>\n",
       "      <td>1271</td>\n",
       "      <td>{\"perimeter\":1998.4527766600727,\"geo_data\":{\"p...</td>\n",
       "      <td>HaLong_ToHienThanh</td>\n",
       "    </tr>\n",
       "    <tr>\n",
       "      <th>3</th>\n",
       "      <td>1272</td>\n",
       "      <td>{\"perimeter\":2194.1702926763173,\"geo_data\":{\"p...</td>\n",
       "      <td>HaLong_HoYetKieu</td>\n",
       "    </tr>\n",
       "    <tr>\n",
       "      <th>4</th>\n",
       "      <td>1273</td>\n",
       "      <td>{\"perimeter\":1299.3942077633092,\"geo_data\":{\"p...</td>\n",
       "      <td>HaLong_CaoThang</td>\n",
       "    </tr>\n",
       "    <tr>\n",
       "      <th>5</th>\n",
       "      <td>1274</td>\n",
       "      <td>{\"perimeter\":3169.211888837147,\"geo_data\":{\"po...</td>\n",
       "      <td>HaLong_Khu1</td>\n",
       "    </tr>\n",
       "    <tr>\n",
       "      <th>6</th>\n",
       "      <td>1275</td>\n",
       "      <td>{\"perimeter\":3580.9816980703727,\"geo_data\":{\"p...</td>\n",
       "      <td>HaLong_HongHa</td>\n",
       "    </tr>\n",
       "    <tr>\n",
       "      <th>7</th>\n",
       "      <td>1276</td>\n",
       "      <td>{\"perimeter\":3027.9872174955462,\"geo_data\":{\"p...</td>\n",
       "      <td>HaLong_HongHai</td>\n",
       "    </tr>\n",
       "    <tr>\n",
       "      <th>8</th>\n",
       "      <td>1277</td>\n",
       "      <td>{\"perimeter\":3454.750931493424,\"geo_data\":{\"po...</td>\n",
       "      <td>HaLong_HongHai2</td>\n",
       "    </tr>\n",
       "  </tbody>\n",
       "</table>\n",
       "</div>"
      ],
      "text/plain": [
       "     id                                         extra_data            hub_name\n",
       "0  1269  {\"perimeter\":38036.98518019098,\"geo_data\":{\"po...       HaLongAll_Ops\n",
       "1  1270  {\"perimeter\":4593.419260772009,\"geo_data\":{\"po...      HaLong_TranPhu\n",
       "2  1271  {\"perimeter\":1998.4527766600727,\"geo_data\":{\"p...  HaLong_ToHienThanh\n",
       "3  1272  {\"perimeter\":2194.1702926763173,\"geo_data\":{\"p...    HaLong_HoYetKieu\n",
       "4  1273  {\"perimeter\":1299.3942077633092,\"geo_data\":{\"p...     HaLong_CaoThang\n",
       "5  1274  {\"perimeter\":3169.211888837147,\"geo_data\":{\"po...         HaLong_Khu1\n",
       "6  1275  {\"perimeter\":3580.9816980703727,\"geo_data\":{\"p...       HaLong_HongHa\n",
       "7  1276  {\"perimeter\":3027.9872174955462,\"geo_data\":{\"p...      HaLong_HongHai\n",
       "8  1277  {\"perimeter\":3454.750931493424,\"geo_data\":{\"po...     HaLong_HongHai2"
      ]
     },
     "execution_count": 15,
     "metadata": {},
     "output_type": "execute_result"
    }
   ],
   "source": [
    "df"
   ]
  }
 ],
 "metadata": {
  "kernelspec": {
   "display_name": "Python 3",
   "language": "python",
   "name": "python3"
  },
  "language_info": {
   "codemirror_mode": {
    "name": "ipython",
    "version": 3
   },
   "file_extension": ".py",
   "mimetype": "text/x-python",
   "name": "python",
   "nbconvert_exporter": "python",
   "pygments_lexer": "ipython3",
   "version": "3.12.3"
  }
 },
 "nbformat": 4,
 "nbformat_minor": 2
}
