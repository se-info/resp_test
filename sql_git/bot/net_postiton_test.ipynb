{
 "cells": [
  {
   "cell_type": "code",
   "execution_count": 1,
   "metadata": {},
   "outputs": [],
   "source": [
    "import telebot\n",
    "import pandas as pd\n",
    "import re\n",
    "import random\n",
    "from pycoingecko import CoinGeckoAPI\n",
    "import gspread\n",
    "from oauth2client.service_account import ServiceAccountCredentials\n",
    "import pandas as pd\n",
    "import numpy as np\n",
    "import time"
   ]
  },
  {
   "cell_type": "code",
   "execution_count": 26,
   "metadata": {},
   "outputs": [],
   "source": [
    "def call_coin_price(crypto,currency='usd'):\n",
    "\t# global id_\n",
    "\tid_ = 'none'\n",
    "\tcg = CoinGeckoAPI()\n",
    "# \tprint(crypto)\n",
    "\tlist_coin = cg.get_coins_list()\n",
    "\tsymbol = crypto\n",
    "\tif crypto == 'iota':\n",
    "\t\tsymbol = 'miota'\n",
    "\telse:\n",
    "\t\tsymbol = crypto\n",
    "\t# symbol = crypto\n",
    "\tfor i, list_sym in enumerate(list_coin):\n",
    "\t\tif(symbol == list_sym['symbol'].lower()) and i >0:\n",
    "# \t\t\tprint('i: ',i)\n",
    "\t\t\tid_ = list_coin[i]['id']\n",
    "\tcurrency = currency\n",
    "\tif id_ == 'none':\n",
    "\t\treturn 'có cái loz'\n",
    "# \tprint(id_)\n",
    "\tprice = cg.get_price(ids=id_, vs_currencies=currency)\n",
    "\tresult = price[id_][currency]\n",
    "\treturn result"
   ]
  },
  {
   "cell_type": "code",
   "execution_count": 3,
   "metadata": {},
   "outputs": [],
   "source": [
    "def num_finance(number,crypto):\n",
    "\tif crypto == 'btc':\n",
    "\t\tnum_digit = 6\n",
    "\telif crypto == 'none':\n",
    "\t\tnum_digit = 4\n",
    "\telse:\n",
    "\t\tnum_digit = 2\n",
    "\n",
    "\tif number == '':\n",
    "\t\tresult = '-'\n",
    "\telif float(number) <0:\n",
    "\t\tresult = str('({:,.{}f})').format(abs(float(number)),num_digit)\n",
    "\telif float(number) == 0:\n",
    "\t\tresult = '-'\n",
    "\telse:\n",
    "\t\tresult = str('{:,.{}f}').format(float(number),num_digit)\n",
    "\treturn result"
   ]
  },
  {
   "cell_type": "markdown",
   "metadata": {},
   "source": [
    "### Xu ly column"
   ]
  },
  {
   "cell_type": "code",
   "execution_count": 43,
   "metadata": {},
   "outputs": [],
   "source": [
    "def rename_column(data,col_list):\n",
    "    for col in col_list: \n",
    "        df.rename(columns={col: str(col).strip().lower()},inplace = True)"
   ]
  },
  {
   "cell_type": "code",
   "execution_count": 44,
   "metadata": {},
   "outputs": [],
   "source": [
    "rename_column(data = df,col_list = df.columns)"
   ]
  },
  {
   "cell_type": "code",
   "execution_count": 45,
   "metadata": {},
   "outputs": [
    {
     "data": {
      "text/plain": [
       "Index(['name', 'exchange', 'ccy', 'remaining_qty', 'current_avg_price',\n",
       "       'holding_value', 'buy_quantity', 'avg_purchasing_price', 'total_cost',\n",
       "       'sell_quantity', 'avg_selling_price', 'total_sales', 'pnl', 'pnl %'],\n",
       "      dtype='object')"
      ]
     },
     "execution_count": 45,
     "metadata": {},
     "output_type": "execute_result"
    }
   ],
   "source": [
    "df.columns"
   ]
  },
  {
   "cell_type": "code",
   "execution_count": 5,
   "metadata": {},
   "outputs": [],
   "source": [
    "scope = ['https://spreadsheets.google.com/feeds','https://www.googleapis.com/auth/drive']\n",
    "\n",
    "credentials = ServiceAccountCredentials.from_json_keyfile_name('creds.json', scope) # Your json file here\n",
    "\n",
    "gc = gspread.authorize(credentials)\n",
    "\n",
    "wks = gc.open_by_key('1W2_tdPIPJ8rNPMi4eYcN8NOzq2pEqM_83n85CT3Nqxo').worksheet(\"summary\")"
   ]
  },
  {
   "cell_type": "code",
   "execution_count": 7,
   "metadata": {},
   "outputs": [],
   "source": [
    "data = wks.get_all_values()"
   ]
  },
  {
   "cell_type": "code",
   "execution_count": 9,
   "metadata": {},
   "outputs": [],
   "source": [
    "headers = data.pop(0)"
   ]
  },
  {
   "cell_type": "code",
   "execution_count": 10,
   "metadata": {},
   "outputs": [],
   "source": [
    "df = pd.DataFrame(data, columns=headers)"
   ]
  },
  {
   "cell_type": "code",
   "execution_count": 94,
   "metadata": {},
   "outputs": [
    {
     "data": {
      "text/plain": [
       "['BTC', 'DIA', 'POND', 'EKT', 'FILDA', 'JULD', 'NEST', 'ZKS']"
      ]
     },
     "execution_count": 94,
     "metadata": {},
     "output_type": "execute_result"
    }
   ],
   "source": [
    "holder = 'K'\n",
    "df[(df['name'] == holder) & (df['remaining_qty'].astype('float64') >0 )]\n",
    "list_coin = df[(df['name'] == holder) & (df['remaining_qty'].astype('float64') >0 )]['ccy'].tolist()\n",
    "pnl = df[(df['name'] == holder) & (df['remaining_qty'].astype('float64') >0 )]['pnl'].tolist()\n",
    "remain_qty = df[(df['name'] == holder) & (df['remaining_qty'].astype('float64') >0 )]['remaining_qty'].astype('float64').tolist()\n",
    "list_coin"
   ]
  },
  {
   "cell_type": "markdown",
   "metadata": {},
   "source": [
    "- market_value = float(remain_qty) * float(market_price)\n",
    "- net_position = market_value + float(pnl)"
   ]
  },
  {
   "cell_type": "code",
   "execution_count": 62,
   "metadata": {},
   "outputs": [
    {
     "data": {
      "text/plain": [
       "['2.4608',\n",
       " '-50.0486',\n",
       " '-50.1080',\n",
       " '-20.0400',\n",
       " '-70.1335',\n",
       " '-10.0180',\n",
       " '-8.0156',\n",
       " '-100.1595']"
      ]
     },
     "execution_count": 62,
     "metadata": {},
     "output_type": "execute_result"
    }
   ],
   "source": [
    "pnl"
   ]
  },
  {
   "cell_type": "code",
   "execution_count": 60,
   "metadata": {},
   "outputs": [
    {
     "data": {
      "text/plain": [
       "['BTC', 'DIA', 'POND', 'EKT', 'FILDA', 'JULD', 'NEST', 'ZKS']"
      ]
     },
     "execution_count": 60,
     "metadata": {},
     "output_type": "execute_result"
    }
   ],
   "source": [
    "list_coin.tolist()"
   ]
  },
  {
   "cell_type": "code",
   "execution_count": 66,
   "metadata": {},
   "outputs": [
    {
     "data": {
      "text/plain": [
       "'BTC'"
      ]
     },
     "execution_count": 66,
     "metadata": {},
     "output_type": "execute_result"
    }
   ],
   "source": [
    "len(lis)"
   ]
  },
  {
   "cell_type": "code",
   "execution_count": 77,
   "metadata": {},
   "outputs": [
    {
     "data": {
      "text/plain": [
       "'0.000002'"
      ]
     },
     "execution_count": 77,
     "metadata": {},
     "output_type": "execute_result"
    }
   ],
   "source": [
    "remain_qty[0]"
   ]
  },
  {
   "cell_type": "code",
   "execution_count": 139,
   "metadata": {},
   "outputs": [
    {
     "name": "stdout",
     "output_type": "stream",
     "text": [
      "---- 0 ----\n",
      "56997\n",
      "2e-06\n",
      "0.113994 --- 2.574794\n",
      "---- 1 ----\n",
      "2.46\n",
      "20.955\n",
      "51.549299999999995 --- 1.5006999999999948\n",
      "---- 2 ----\n",
      "0.148271\n",
      "332.39\n",
      "49.28379768999999 --- -0.824202310000004\n",
      "---- 3 ----\n",
      "0.00543896\n",
      "3496.5\n",
      "19.017323639999997 --- -1.022676360000002\n",
      "---- 4 ----\n",
      "0.452597\n",
      "134.36\n",
      "60.81093292000001 --- -9.322567079999985\n",
      "---- 5 ----\n",
      "0.278878\n",
      "36.12\n",
      "10.07307336 --- 0.05507335999999974\n",
      "---- 6 ----\n",
      "0.03804346\n",
      "201.96\n",
      "7.6832571816 --- -0.332342818399999\n",
      "---- 7 ----\n",
      "2.55\n",
      "37.74\n",
      "96.237 --- -3.9224999999999994\n"
     ]
    },
    {
     "data": {
      "text/plain": [
       "-11.293721208399994"
      ]
     },
     "execution_count": 139,
     "metadata": {},
     "output_type": "execute_result"
    }
   ],
   "source": [
    "list_price = []\n",
    "list_net_position = []\n",
    "total_net_position = 0\n",
    "for i in range(0,len(list_coin)):\n",
    "    crypto = list_coin[i]\n",
    "    market_price = call_coin_price(str(crypto).lower())\n",
    "#     list_price.append(price)\n",
    "    print('----',i,'----')\n",
    "    print(market_price)\n",
    "    print(remain_qty[i])\n",
    "    market_value = float(remain_qty[i])*market_price\n",
    "    net_position = market_value+float(pnl[i])\n",
    "    \n",
    "    print(market_value,'---',net_position)\n",
    "    list_net_position.append(net_position)\n",
    "    total_net_position += net_position\n",
    "    content += '''{} --- {}   --- $ {} \\n'''.format(crypto,num_finance(remain_qty[i],crypto=crypto),num_finance(net_position,crypto = crypto))\n",
    "list_price\n",
    "total_net_position"
   ]
  },
  {
   "cell_type": "code",
   "execution_count": 141,
   "metadata": {},
   "outputs": [
    {
     "name": "stdout",
     "output_type": "stream",
     "text": [
      "ZKS --- 37.74   --- $ (3.92) \n",
      "BTC --- 0.00   --- $ 2.57 \n",
      "DIA --- 20.95   --- $ 1.50 \n",
      "POND --- 332.39   --- $ (0.82) \n",
      "EKT --- 3,496.50   --- $ (1.02) \n",
      "FILDA --- 134.36   --- $ (9.32) \n",
      "JULD --- 36.12   --- $ 0.06 \n",
      "NEST --- 201.96   --- $ (0.33) \n",
      "ZKS --- 37.74   --- $ (3.92) \n",
      "\n"
     ]
    }
   ],
   "source": [
    "print(content)"
   ]
  },
  {
   "cell_type": "code",
   "execution_count": 104,
   "metadata": {},
   "outputs": [
    {
     "data": {
      "text/plain": [
       "[2.5752919999999997,\n",
       " 1.919799999999995,\n",
       " -0.012838319999993075,\n",
       " -1.000578479999998,\n",
       " -9.169934119999994,\n",
       " 0.07374739999999846,\n",
       " -0.5231223127999991,\n",
       " -3.545099999999991]"
      ]
     },
     "execution_count": 104,
     "metadata": {},
     "output_type": "execute_result"
    }
   ],
   "source": [
    "list_coin\n",
    "remain_qty\n",
    "list_net_position"
   ]
  },
  {
   "cell_type": "code",
   "execution_count": 126,
   "metadata": {},
   "outputs": [],
   "source": [
    "text = '''<b>Shark K - Portfolio</b>\\n\n",
    "CCY --- remain_qty --- Net_Position\\n'''"
   ]
  },
  {
   "cell_type": "code",
   "execution_count": 135,
   "metadata": {},
   "outputs": [],
   "source": [
    "content = '''{} --- {}   --- $ {} \\n'''.format(list_coin[0],num_finance(remain_qty[0],crypto='btc'),num_finance(list_net_position[0],crypto = 'none'))"
   ]
  },
  {
   "cell_type": "code",
   "execution_count": 136,
   "metadata": {},
   "outputs": [
    {
     "data": {
      "text/plain": [
       "'BTC --- 0.000002   --- $ 2.5753 \\n'"
      ]
     },
     "execution_count": 136,
     "metadata": {},
     "output_type": "execute_result"
    }
   ],
   "source": [
    "content"
   ]
  },
  {
   "cell_type": "code",
   "execution_count": 137,
   "metadata": {},
   "outputs": [
    {
     "name": "stdout",
     "output_type": "stream",
     "text": [
      "<b>Shark K - Portfolio</b>\n",
      "\n",
      "CCY --- remain_qty --- Net_Position\n",
      "BTC --- 0.000002   --- $ 2.5753 \n",
      "\n"
     ]
    }
   ],
   "source": [
    "print(text+content)"
   ]
  },
  {
   "cell_type": "code",
   "execution_count": 109,
   "metadata": {},
   "outputs": [
    {
     "data": {
      "text/plain": [
       "'<b>Shark K - Portfolio</b>\\n'"
      ]
     },
     "execution_count": 109,
     "metadata": {},
     "output_type": "execute_result"
    }
   ],
   "source": [
    "text"
   ]
  },
  {
   "cell_type": "code",
   "execution_count": 101,
   "metadata": {},
   "outputs": [
    {
     "data": {
      "text/plain": [
       "-10.11967761739999"
      ]
     },
     "execution_count": 101,
     "metadata": {},
     "output_type": "execute_result"
    }
   ],
   "source": [
    "sum(list_net_position)"
   ]
  },
  {
   "cell_type": "code",
   "execution_count": 96,
   "metadata": {},
   "outputs": [
    {
     "data": {
      "text/plain": [
       "2e-06"
      ]
     },
     "execution_count": 96,
     "metadata": {},
     "output_type": "execute_result"
    }
   ],
   "source": [
    "remain_qty"
   ]
  },
  {
   "cell_type": "code",
   "execution_count": 20,
   "metadata": {},
   "outputs": [
    {
     "name": "stdout",
     "output_type": "stream",
     "text": [
      "btc\n",
      "i:  782\n",
      "bitcoin\n"
     ]
    },
    {
     "data": {
      "text/plain": [
       "57069"
      ]
     },
     "execution_count": 20,
     "metadata": {},
     "output_type": "execute_result"
    }
   ],
   "source": [
    "call_coin_price(crypto = 'btc')"
   ]
  }
 ],
 "metadata": {
  "kernelspec": {
   "display_name": "Python 3",
   "language": "python",
   "name": "python3"
  },
  "language_info": {
   "codemirror_mode": {
    "name": "ipython",
    "version": 3
   },
   "file_extension": ".py",
   "mimetype": "text/x-python",
   "name": "python",
   "nbconvert_exporter": "python",
   "pygments_lexer": "ipython3",
   "version": "3.6.7"
  }
 },
 "nbformat": 4,
 "nbformat_minor": 4
}
