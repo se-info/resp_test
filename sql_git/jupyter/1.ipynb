{
 "cells": [
  {
   "cell_type": "code",
   "execution_count": 1,
   "metadata": {},
   "outputs": [],
   "source": [
    "import pandas as pd"
   ]
  },
  {
   "cell_type": "code",
   "execution_count": 2,
   "metadata": {},
   "outputs": [],
   "source": [
    "df = pd.read_csv('spxi_raw.csv')"
   ]
  },
  {
   "cell_type": "code",
   "execution_count": 3,
   "metadata": {},
   "outputs": [
    {
     "data": {
      "text/plain": [
       "Index(['id', 'uid', 'shipper_id', 'order_code', 'shopee_order_code',\n",
       "       'customer_id', 'created_timestamp', 'canceled_timestamp',\n",
       "       'created_date', 'distance', 'source', 'order_type', 'order_status',\n",
       "       'cancel_by', 'city_name', 'city_group', 'city_id', 'district_id',\n",
       "       'is_asap', 'cancel_reason', 'pick_failed_reason', 'lt_submit_to_cancel',\n",
       "       'lt_deliver', 'lt_return', 'delivered_timestamp', 'returned_timestamp',\n",
       "       'sender_name', 'sender_phone', 'sender_address', 'receiver_name',\n",
       "       'receiver_phone', 'receiver_address', 'first_auto_assign_timestamp',\n",
       "       'first_incharge_timestamp', 'last_incharge_timestamp',\n",
       "       'picked_timestamp', 'bad_weather_fee', 'late_night_service_fee',\n",
       "       'holiday_service_fee', 'assigning_count', 'weight', 'quantity',\n",
       "       'max_arrived_at_buyer_timestamp', 'max_arrived_at_merchant_timestamp',\n",
       "       'assign_type', 'order_assign_type', 'peak_mode_name', 'delivery_id',\n",
       "       'eta_pick_time', 'eta_drop_time', 'pick_latitude', 'pick_longitude',\n",
       "       'drop_latitude', 'drop_longitude', 'group_id', 'hub_id', 'pick_hub_id',\n",
       "       'drop_hub_id', 'driver_policy', 'grass_date'],\n",
       "      dtype='object')"
      ]
     },
     "execution_count": 3,
     "metadata": {},
     "output_type": "execute_result"
    }
   ],
   "source": [
    "df.columns"
   ]
  }
 ],
 "metadata": {
  "kernelspec": {
   "display_name": "Python 3",
   "language": "python",
   "name": "python3"
  },
  "language_info": {
   "codemirror_mode": {
    "name": "ipython",
    "version": 3
   },
   "file_extension": ".py",
   "mimetype": "text/x-python",
   "name": "python",
   "nbconvert_exporter": "python",
   "pygments_lexer": "ipython3",
   "version": "3.6.8"
  }
 },
 "nbformat": 4,
 "nbformat_minor": 2
}
