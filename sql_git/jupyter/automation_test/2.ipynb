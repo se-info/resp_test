{
 "cells": [
  {
   "cell_type": "code",
   "execution_count": 20,
   "metadata": {},
   "outputs": [],
   "source": [
    "from selenium import webdriver\n",
    "\n",
    "# Set the path to the ChromeDriver executable\n",
    "chrome_driver_path = r'C:\\Program Files\\Google\\Chrome\\Application\\chrome.exe'\n",
    "\n",
    "# Create a Chrome WebDriver instance\n",
    "driver = webdriver.Chrome()\n",
    "\n",
    "# Open a URL in Chrome\n",
    "driver.get('https://www.google.com')\n",
    "\n",
    "# Perform further actions or automation with Chrome\n",
    "\n",
    "# Close the browser"
   ]
  },
  {
   "cell_type": "code",
   "execution_count": 4,
   "metadata": {},
   "outputs": [],
   "source": [
    "import sum_list as sl"
   ]
  },
  {
   "cell_type": "code",
   "execution_count": 7,
   "metadata": {},
   "outputs": [],
   "source": [
    "import pyautogui\n",
    "x, y = pyautogui.position()"
   ]
  },
  {
   "cell_type": "markdown",
   "metadata": {},
   "source": []
  },
  {
   "cell_type": "code",
   "execution_count": 2,
   "metadata": {},
   "outputs": [],
   "source": [
    "import turtle"
   ]
  },
  {
   "cell_type": "code",
   "execution_count": 8,
   "metadata": {},
   "outputs": [],
   "source": [
    "def get_mouse_click_coor(x,y):\n",
    "   print [x,y]\n",
    "# turtle.onscreenclick(get_mouse_click_coor)"
   ]
  },
  {
   "cell_type": "code",
   "execution_count": null,
   "metadata": {},
   "outputs": [],
   "source": [
    "import time\n",
    "import pyautogui\n",
    "from datetime import datetime\n",
    "import keyboard\n",
    "\n",
    "pyautogui.FAILSAFE = False \n",
    "click_button = 'left'  # Choose 'left' or 'right' for the mouse button\n",
    "num_clicks = 5  # Number of clicks per trigger (default: 5)\n",
    "delay_minutes = 10 # Delay in minutes before starting auto-clicks (default)\n",
    "i = 0 # default value\n",
    "def auto_click():\n",
    "    \"\"\"\n",
    "    Performs the specified number of clicks at the current mouse position.\n",
    "    \"\"\"\n",
    "    for _ in range(num_clicks):\n",
    "        # Move the mouse to the specified coordinates\n",
    "        pyautogui.moveTo(89,61)\n",
    "        # Perform the click\n",
    "        pyautogui.click()\t\n",
    "\t# delay time per click\n",
    "        time.sleep(1.5) \n",
    "        \n",
    "        print(f'Click {_}')\n",
    "\n",
    "if __name__ == '__main__':\n",
    "    print(f\"Auto-clicks will start in {delay_minutes} minutes.\")\n",
    "    print(\"Press 'esc' to stop the script.\")\n",
    "    keyboard.add_hotkey('esc', lambda: exit(0))  # Stop script with 'esc' key\n",
    "\n",
    "while True:\n",
    "    i += 1\n",
    "    if (i == 1 or i % (delay_minutes*60) == 0):\n",
    "        auto_click()\n",
    "        print(f'Click at {datetime.now()}')\n",
    "        # break\n",
    "        # print the time when the auto click trigger\n",
    "    time.sleep(1)  # Sleep for 1 second"
   ]
  },
  {
   "cell_type": "code",
   "execution_count": 1,
   "metadata": {},
   "outputs": [
    {
     "data": {
      "text/plain": [
       "['',\n",
       " '',\n",
       " '',\n",
       " '● 2.ipynb - sql_git - Visual Studio Code',\n",
       " 'SeaTalk',\n",
       " '103.238.235.169 - Remote Desktop Connection',\n",
       " 'Gemini - Google Chrome',\n",
       " '[Driver Ops] Workplace - Google Sheets - Google Chrome',\n",
       " 'File Explorer',\n",
       " '',\n",
       " '',\n",
       " '',\n",
       " 'Setup',\n",
       " 'Settings',\n",
       " 'Settings',\n",
       " '',\n",
       " 'Calculator',\n",
       " 'Calculator',\n",
       " '',\n",
       " '',\n",
       " '',\n",
       " '',\n",
       " '',\n",
       " '',\n",
       " 'Microsoft Text Input Application',\n",
       " 'Program Manager']"
      ]
     },
     "execution_count": 1,
     "metadata": {},
     "output_type": "execute_result"
    }
   ],
   "source": [
    "import pygetwindow as gw\n",
    "import pywinauto\n",
    "from pywinauto.application import Application\n",
    "import pyautogui\n",
    "# Lấy danh sách các cửa sổ đang mở\n",
    "# windows = gw.getWindowsWithTitle('BlueStacks App Player')\n",
    "# hwnd = pyautogui.getWindowsWithTitle('activate windowns - Google Chrome')\n",
    "# if hwnd != []:\n",
    "#     try:\n",
    "#         hwnd[0].activate()\n",
    "#     except:\n",
    "#         hwnd[0].minimize()\n",
    "#         hwnd[0].maximize()\n",
    "pyautogui.getAllTitles()"
   ]
  },
  {
   "cell_type": "code",
   "execution_count": 1,
   "metadata": {},
   "outputs": [
    {
     "name": "stdout",
     "output_type": "stream",
     "text": [
      "Hotkey pressed. Exiting the program.\n",
      "No suitable Chrome window found.\n",
      "Hotkey pressed. Exiting the program.\n",
      "Press 'esc' to stop the script.\n"
     ]
    }
   ],
   "source": [
    "import time\n",
    "import pyautogui\n",
    "from datetime import datetime\n",
    "import keyboard\n",
    "import pygetwindow as gw\n",
    "import pywinauto\n",
    "from pywinauto.application import Application\n",
    "\n",
    "pyautogui.FAILSAFE = False \n",
    "click_button = 'left'  # Choose 'left' or 'right' for the mouse button\n",
    "num_clicks = 600  # Number of clicks per trigger (default: 5)\n",
    "delay_minutes = 30 # Delay in minutes before starting auto-clicks (default)\n",
    "i = 0 # default value\n",
    "def auto_click():\n",
    "    \"\"\"\n",
    "    Performs the specified number of clicks at the current mouse position.\n",
    "    \"\"\"\n",
    "    for _ in range(num_clicks):\n",
    "        if keyboard.is_pressed('esc'):\n",
    "            print(\"Hotkey pressed. Exiting the program.\")\n",
    "            break\n",
    "        # Move the mouse to the specified coordinates\n",
    "        pyautogui.moveTo(952,676)\n",
    "        # Perform the click\n",
    "        pyautogui.click()\n",
    "        time.sleep(0.1)\n",
    "def active_chrome():\n",
    "    # pyautogui.getAllTitles() # get all title on windowns\n",
    "    # hwnd = [window for window in gw.getWindowsWithTitle('Google Chrome')  if 'nodepay' not in window.title.lower()]\n",
    "    hwnd = [window for window in pyautogui.getWindowsWithTitle('Google Chrome')  if 'nodepay' not in window.title.lower()]\n",
    "    if hwnd != []:\n",
    "        try:\n",
    "            hwnd[0].activate()\n",
    "            auto_click()\n",
    "        except:\n",
    "            hwnd[0].minimize()\n",
    "            hwnd[0].maximize()\n",
    "def main_task():\n",
    "    if active_chrome():\n",
    "        auto_click()\n",
    "    else:\n",
    "        print(\"No suitable Chrome window found.\")\n",
    " # Stop script with 'esc' key\n",
    "while True:\n",
    "    i += 1\n",
    "    if (i == 1 or i % (delay_minutes*60) == 0) :\n",
    "        main_task()\n",
    "    #     print('turn on')\n",
    "        # print(f'Click at {datetime.now()}')\n",
    "        # break\n",
    "        # print the time when the auto click trigger\n",
    "            # time.sleep(0.1)  # Sleep for 1 second\n",
    "    if keyboard.is_pressed('esc'):\n",
    "        print(\"Hotkey pressed. Exiting the program.\")\n",
    "        break          \n",
    "if __name__ == '__main__':\n",
    "    # print(f\"Auto-clicks will start in {delay_minutes} minutes.\")\n",
    "    print(\"Press 'esc' to stop the script.\")\n",
    "    keyboard.add_hotkey('esc', lambda: exit(0)) "
   ]
  }
 ],
 "metadata": {
  "kernelspec": {
   "display_name": "Python 3",
   "language": "python",
   "name": "python3"
  },
  "language_info": {
   "codemirror_mode": {
    "name": "ipython",
    "version": 3
   },
   "file_extension": ".py",
   "mimetype": "text/x-python",
   "name": "python",
   "nbconvert_exporter": "python",
   "pygments_lexer": "ipython3",
   "version": "3.12.3"
  }
 },
 "nbformat": 4,
 "nbformat_minor": 2
}
