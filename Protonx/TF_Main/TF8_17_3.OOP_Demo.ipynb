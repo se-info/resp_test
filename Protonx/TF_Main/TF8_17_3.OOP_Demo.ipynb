{
  "nbformat": 4,
  "nbformat_minor": 0,
  "metadata": {
    "colab": {
      "provenance": []
    },
    "kernelspec": {
      "name": "python3",
      "display_name": "Python 3"
    },
    "language_info": {
      "name": "python"
    }
  },
  "cells": [
    {
      "cell_type": "code",
      "execution_count": null,
      "metadata": {
        "id": "YsJYVT6Cq22C"
      },
      "outputs": [],
      "source": [
        "class Oto():\n",
        "    def __init__(self):\n",
        "        self.num_wheels = 4\n",
        "        self.num_doors = 4\n",
        "        self.num_seats = 4\n",
        "\n",
        "    def sound(self):\n",
        "        print(\"Vroom\")"
      ]
    },
    {
      "cell_type": "code",
      "source": [
        "oto1 = Oto()\n",
        "oto1.num_wheels\n",
        "oto1.sound()"
      ],
      "metadata": {
        "colab": {
          "base_uri": "https://localhost:8080/"
        },
        "id": "gjRUNyvkrErd",
        "outputId": "bfa0d609-1f7c-407f-999f-78371da1a357"
      },
      "execution_count": null,
      "outputs": [
        {
          "output_type": "stream",
          "name": "stdout",
          "text": [
            "Vroom\n"
          ]
        }
      ]
    },
    {
      "cell_type": "code",
      "source": [
        "oto2 = Oto()\n",
        "oto2.num_wheels"
      ],
      "metadata": {
        "colab": {
          "base_uri": "https://localhost:8080/"
        },
        "id": "haJMoOUtrH3V",
        "outputId": "1acfae5f-94ef-4a29-9439-5fb57c7ddeba"
      },
      "execution_count": null,
      "outputs": [
        {
          "output_type": "execute_result",
          "data": {
            "text/plain": [
              "4"
            ]
          },
          "metadata": {},
          "execution_count": 10
        }
      ]
    },
    {
      "cell_type": "code",
      "source": [
        "class HondaOto(Oto):\n",
        "    def __init__(self):\n",
        "        super().__init__()\n",
        "\n",
        "    def sound(self):\n",
        "        print(\"Bạch bạch bạch\")"
      ],
      "metadata": {
        "id": "d03DRe3ZrOgj"
      },
      "execution_count": null,
      "outputs": []
    },
    {
      "cell_type": "code",
      "source": [
        "hondaoto1 = HondaOto()\n",
        "hondaoto1.num_wheels\n",
        "hondaoto1.sound()"
      ],
      "metadata": {
        "colab": {
          "base_uri": "https://localhost:8080/"
        },
        "id": "8IV6ot3frWBA",
        "outputId": "cdf378dd-7935-4308-85ea-ef090d84517b"
      },
      "execution_count": null,
      "outputs": [
        {
          "output_type": "stream",
          "name": "stdout",
          "text": [
            "Bạch bạch bạch\n"
          ]
        }
      ]
    },
    {
      "cell_type": "code",
      "source": [
        "class FordOto(Oto):\n",
        "    def __init__(self):\n",
        "        super().__init__()\n",
        "\n",
        "    def sound(self):\n",
        "        print(\"Bé bé bé\")"
      ],
      "metadata": {
        "id": "c9mhr4M9rdj3"
      },
      "execution_count": null,
      "outputs": []
    },
    {
      "cell_type": "code",
      "source": [
        "fordOto1 = FordOto()\n",
        "fordOto1.num_wheels\n",
        "\n",
        "fordOto1.sound()"
      ],
      "metadata": {
        "colab": {
          "base_uri": "https://localhost:8080/"
        },
        "id": "RRxzJCr-rgUu",
        "outputId": "d928c2d3-6c40-449f-d231-60a080f4048e"
      },
      "execution_count": null,
      "outputs": [
        {
          "output_type": "stream",
          "name": "stdout",
          "text": [
            "Bé bé bé\n"
          ]
        }
      ]
    },
    {
      "cell_type": "code",
      "source": [],
      "metadata": {
        "id": "s11xG1GmsOVv"
      },
      "execution_count": null,
      "outputs": []
    }
  ]
}