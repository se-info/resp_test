{
 "cells": [
  {
   "cell_type": "code",
   "execution_count": 1,
   "metadata": {},
   "outputs": [],
   "source": [
    "# map library\n",
    "import geopandas as gpd\n",
    "from shapely.geometry import Polygon\n",
    "import pandas as pd \n",
    "from shapely.geometry import Point, Polygon\n",
    "from shapely.geometry import Point, MultiPoint\n",
    "import folium\n",
    "from geopy.distance import distance\n",
    "from geopy.distance import geodesic\n",
    "import csv"
   ]
  },
  {
   "cell_type": "code",
   "execution_count": 4,
   "metadata": {},
   "outputs": [],
   "source": [
    "file = pd.read_csv('tayho_bactuliem.csv')\n",
    "hub_name = file['hub_name'].to_list()\n",
    "list_lat = file['hub_lat'].to_list()\n",
    "list_long = file['hub_long'].to_list()\n",
    "hub_priority = file['hub_priority'].to_list()\n",
    "city_id = file['city_id'].to_list()\n",
    "\n",
    "final_list = [[i,k,c,d] for i,k,c,d in zip(list_long,list_lat,hub_name,hub_priority)]\n",
    "final_list_v2 = [[(i,k),c,z,d] for i,k,c,z,d in zip(list_lat,list_long,hub_name,hub_priority,city_id)]\n",
    "check_distance = [[d,(a,c)] for d,a,c in zip(hub_name,list_lat,list_long)]\n",
    "dict_ = {}\n",
    "dict_v2 = {}\n",
    "for i in hub_name: \n",
    "    dict_.update({i:{'list_lon':[],'list_lat':[],'hub_priority':[]}})\n",
    "    dict_v2.update({i:{'list':[]}})\n",
    "for i in final_list:\n",
    "    dict_[i[2]]['list_lon'].append(i[0])\n",
    "    dict_[i[2]]['list_lat'].append(i[1])\n",
    "    dict_[i[2]]['hub_priority'].append(i[-1])\n",
    "for c in check_distance:\n",
    "    dict_v2[c[0]]['list'].append(c[-1])    "
   ]
  },
  {
   "cell_type": "code",
   "execution_count": null,
   "metadata": {},
   "outputs": [],
   "source": [
    "# display map\n",
    "crs = 'epsg:4326'\n",
    "map = folium.Map([21.003351607333453,105.82016076193361], tiles='cartodbpositron', zoom_start=13,prefer_canvas=True)\n",
    "for i in dict_: \n",
    "    polygon_geom = Polygon(zip(dict_[i] ['list_lon'],dict_[i] ['list_lat']))\n",
    "    polygon = gpd.GeoDataFrame(index=[0], crs=crs, geometry=[polygon_geom])\n",
    "    if dict_[i]['hub_priority'][0] == 1:\n",
    "        style_options = {'fillColor': 'red', 'color': 'black', 'weight': 2, 'fillOpacity': 0.5}\n",
    "        folium.GeoJson(polygon, style_function=lambda x: style_options,\n",
    "                   name=i,\n",
    "                   tooltip=i).add_to(map)\n",
    "    if dict_[i]['hub_priority'][0] != 1:\n",
    "        style_options_2 = {'fillColor': 'grey', 'color': 'black', 'weight': 2, 'fillOpacity': 0.5}\n",
    "        folium.GeoJson(polygon, style_function=lambda x: style_options_2,\n",
    "                   name=i,\n",
    "                   tooltip=i).add_to(map)  \n",
    "    # polygon.to_file(filename=f'polygon{i}.geojson', driver='GeoJSON')\n",
    "    # polygon.to_file(filename=f'polygon{i}.shp', driver=\"ESRI Shapefile\")    \n",
    "map.save('test_map.html')    \n"
   ]
  },
  {
   "cell_type": "code",
   "execution_count": 6,
   "metadata": {},
   "outputs": [],
   "source": [
    "hub_dict = {}\n",
    "for i in hub_name: \n",
    "    hub_dict.update({i:{'geo':[],'priority':set(),'order_pool':[],'city_id':set()}})\n",
    "for k in final_list_v2: \n",
    "    hub_dict[k[1]]['geo'].append(k[0])\n",
    "    hub_dict[k[1]]['priority'].add(k[2])\n",
    "    hub_dict[k[1]]['city_id'].add(k[-1])"
   ]
  },
  {
   "cell_type": "code",
   "execution_count": null,
   "metadata": {},
   "outputs": [],
   "source": [
    "order = pd.read_csv('4jul_raw.csv')\n",
    "order_dict = {}\n",
    "order_list = order['order_code'].to_list()\n",
    "pick_lat = order['pick_latitude'].to_list()\n",
    "pick_long = order['pick_longitude'].to_list()\n",
    "drop_lat = order['drop_latitude'].to_list()\n",
    "drop_long = order['drop_longitude'].to_list()\n",
    "order_distance = order['distance'].to_list()\n",
    "hour = order['created_hour'].to_list()\n",
    "city_id = order['city_id'].to_list()\n",
    "\n",
    "order_summary = [[z,(a,b),(c,d),k,e,o] for z,a,b,c,d,k,e,o in zip(order_list,pick_lat,pick_long,drop_lat,drop_long,hour,order_distance,city_id)]\n",
    "map_check = [[[i,j],d] for i,j,d in zip(pick_lat,pick_long,order_list)]\n",
    "for i in order_list: \n",
    "    order_dict.update({i:{'pick_lat_long':[],'drop_lat_long':[],'order_distance':[],'pick_hub_name':{},'drop_hub_name':{},\n",
    "                           'distance_border':[],'final_pick_hub':set(),'final_drop_hub':set(),'final_distance_border':[],'hub_name':{},'hour':[],'city_id':[]}})     \n",
    "for z in order_summary:\n",
    "    order_dict[z[0]]['pick_lat_long'].append(z[1])\n",
    "    order_dict[z[0]]['drop_lat_long'].append(z[2])\n",
    "    order_dict[z[0]]['hour'].append(z[3])    \n",
    "    order_dict[z[0]]['order_distance'].append(z[4])\n",
    "    order_dict[z[0]]['city_id'].append(z[-1])\n",
    "    "
   ]
  },
  {
   "cell_type": "code",
   "execution_count": null,
   "metadata": {},
   "outputs": [],
   "source": [
    "for z in hub_dict:\n",
    "    a = Polygon(hub_dict[z]['geo'])\n",
    "    for d in order_dict:\n",
    "        # print(list(hub_dict[z]['city_id'])[0],order_dict[d]['city_id'][0])\n",
    "        if list(hub_dict[z]['city_id'])[0] == order_dict[d]['city_id'][0]:            \n",
    "           pick = Point(order_dict[d]['pick_lat_long'])\n",
    "           drop = Point(order_dict[d]['drop_lat_long'])\n",
    "           check_pick = pick.within(a)\n",
    "           check_drop = drop.within(a)\n",
    "           if check_pick == True and check_drop == True: \n",
    "               order_dict[d]['hub_name'].update({z:[]})\n",
    "           if check_pick == True: \n",
    "               order_dict[d]['pick_hub_name'].update({z:[]})\n",
    "           if check_drop == True:             \n",
    "               order_dict[d]['drop_hub_name'].update({z:[]})\n"
   ]
  }
 ],
 "metadata": {
  "kernelspec": {
   "display_name": "Python 3",
   "language": "python",
   "name": "python3"
  },
  "language_info": {
   "codemirror_mode": {
    "name": "ipython",
    "version": 3
   },
   "file_extension": ".py",
   "mimetype": "text/x-python",
   "name": "python",
   "nbconvert_exporter": "python",
   "pygments_lexer": "ipython3",
   "version": "3.12.3"
  }
 },
 "nbformat": 4,
 "nbformat_minor": 2
}
