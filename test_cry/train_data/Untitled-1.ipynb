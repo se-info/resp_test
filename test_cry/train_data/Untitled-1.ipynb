{
 "cells": [
  {
   "cell_type": "code",
   "execution_count": 1,
   "metadata": {},
   "outputs": [],
   "source": [
    "import numpy as np\n",
    "import pandas as pd\n",
    "from pandas_profiling import ProfileReport"
   ]
  },
  {
   "cell_type": "code",
   "execution_count": 2,
   "metadata": {},
   "outputs": [],
   "source": [
    "a = np.array([[1,2],[3,4]])"
   ]
  },
  {
   "cell_type": "code",
   "execution_count": 3,
   "metadata": {},
   "outputs": [],
   "source": [
    "c = np.array([\n",
    "    [\n",
    "      [1,2,3,4],\n",
    "      [5,6,7,8]  \n",
    "    ],\n",
    "        [\n",
    "      [1,2,3,4],\n",
    "      [5,6,7,8]  \n",
    "    ],\n",
    "        [\n",
    "      [1,2,3,4],\n",
    "      [5,6,7,8]  \n",
    "    ]\n",
    "    \n",
    "])"
   ]
  },
  {
   "cell_type": "code",
   "execution_count": 5,
   "metadata": {},
   "outputs": [
    {
     "data": {
      "text/plain": [
       "(3, 2, 4)"
      ]
     },
     "execution_count": 5,
     "metadata": {},
     "output_type": "execute_result"
    }
   ],
   "source": [
    "c.shape"
   ]
  },
  {
   "cell_type": "code",
   "execution_count": 73,
   "metadata": {},
   "outputs": [
    {
     "name": "stdout",
     "output_type": "stream",
     "text": [
      "50.0 -50.00000000000001 -5.466356401171527\n",
      "Kết quả: -5.466\n"
     ]
    }
   ],
   "source": [
    "import numpy as np\n",
    "import math\n",
    "def exercise02(x):\n",
    "  \"\"\"\n",
    "  Đầu vào:\n",
    "    - x là số thực dạng Python\n",
    "    - Ví dụ 0.2\n",
    "  Đầu ra:\n",
    "    - Hàm trả về giá trị đạo hàm của hàm f tại x - được lưu vào biến result\n",
    "    - result là số thực dạng Python. Ví dụ 0.3\n",
    "  Lưu ý: chỉ cần viết công thức, không sử dụng GradientTape.\n",
    "  \"\"\"\n",
    "  # Lập trình tại đây\n",
    "  t1 = x**2\n",
    "  t2 = 1/x\n",
    "  t3 = np.exp(x)\n",
    "  dfdx1 = 5*t2**2 * 2*x\n",
    "  dfdx2 = 10*t1*t2 * (-x**-2)\n",
    "  dfdx3 = -3*t3**2 * t3\n",
    "  print(dfdx1,dfdx2,dfdx3)\n",
    "  result = dfdx1 + dfdx2 + dfdx3 \n",
    "  # result = 10/x + -10/x + -3*np.exp(3*x)\n",
    "\n",
    "  # Chuyển giá trị đầu ra về Python float\n",
    "  return round(float(result), 3)\n",
    "  \n",
    "  \n",
    "try:\n",
    "  dfdx = exercise02(0.2)\n",
    "  print('Kết quả: {}'.format(\"{:.3f}\".format(dfdx)))\n",
    "except Exception as e:\n",
    "  print(\"Lỗi thực thi: \", e)"
   ]
  },
  {
   "cell_type": "code",
   "execution_count": 74,
   "metadata": {},
   "outputs": [
    {
     "ename": "IndentationError",
     "evalue": "unexpected indent (<ipython-input-74-caa0bda6bdaa>, line 7)",
     "output_type": "error",
     "traceback": [
      "\u001b[1;36m  File \u001b[1;32m\"<ipython-input-74-caa0bda6bdaa>\"\u001b[1;36m, line \u001b[1;32m7\u001b[0m\n\u001b[1;33m    x1 = tf.constant(x1)\u001b[0m\n\u001b[1;37m    ^\u001b[0m\n\u001b[1;31mIndentationError\u001b[0m\u001b[1;31m:\u001b[0m unexpected indent\n"
     ]
    }
   ],
   "source": [
    "import tensorflow as tf\n",
    "  # Lập trình tại đây\n",
    "  # TODO 1. Chuyển số thực thành tf.constant\n",
    "  x1 = tf.constant(x1)\n",
    "  x2 = tf.constant(x2)\n",
    "  x3 = tf.constant(x3)\n",
    "\n",
    "  # TODO 2. Khởi tạo Gradient Tape.\n",
    "  with tf.GradientTape(persistent = True) as g:\n",
    "    g.watch(x1)\n",
    "    g.watch(x2)\n",
    "    g.watch(x3)\n",
    "\n",
    "    # TODO 3. Lập trình công thức hàm f\n",
    "    f = x1**2*x2**3*x3 + 2*x1**2*x2\n",
    "\n",
    "  # TODO 4. Tính toán đạo hàm\n",
    "  df_x1 = g.gradient(f,x1)\n",
    "  df_x2 = g.gradient(f,x2)\n",
    "  df_x3 = g.gradient(f,x3)\n",
    "\n",
    "  result = [df_x1, df_x2, df_x3]\n",
    "  # Chuyển giá trị đầu ra về Python float\n",
    "  return [round(float(item), 3) for item in result]\n",
    "  \n",
    "try:\n",
    "  print(exercise06(0.2, 0.5, 8.0))\n",
    "except Exception as e:\n",
    "  print(\"Lỗi thực thi: \", e)"
   ]
  },
  {
   "cell_type": "code",
   "execution_count": 2,
   "metadata": {},
   "outputs": [
    {
     "ename": "NameError",
     "evalue": "name 'y' is not defined",
     "output_type": "error",
     "traceback": [
      "\u001b[1;31m---------------------------------------------------------------------------\u001b[0m",
      "\u001b[1;31mNameError\u001b[0m                                 Traceback (most recent call last)",
      "\u001b[1;32m<ipython-input-2-4a09232fb417>\u001b[0m in \u001b[0;36m<module>\u001b[1;34m\u001b[0m\n\u001b[0;32m      1\u001b[0m \u001b[1;32mimport\u001b[0m \u001b[0mnumpy\u001b[0m \u001b[1;32mas\u001b[0m \u001b[0mnp\u001b[0m\u001b[1;33m\u001b[0m\u001b[1;33m\u001b[0m\u001b[0m\n\u001b[1;32m----> 2\u001b[1;33m \u001b[0mnp\u001b[0m\u001b[1;33m.\u001b[0m\u001b[0msqueeze\u001b[0m\u001b[1;33m(\u001b[0m\u001b[0mnp\u001b[0m\u001b[1;33m.\u001b[0m\u001b[0meye\u001b[0m\u001b[1;33m(\u001b[0m\u001b[1;36m2\u001b[0m\u001b[1;33m)\u001b[0m\u001b[1;33m[\u001b[0m\u001b[0my\u001b[0m\u001b[1;33m.\u001b[0m\u001b[0mreshape\u001b[0m\u001b[1;33m(\u001b[0m\u001b[1;33m-\u001b[0m\u001b[1;36m1\u001b[0m\u001b[1;33m)\u001b[0m\u001b[1;33m]\u001b[0m\u001b[1;33m)\u001b[0m\u001b[1;33m\u001b[0m\u001b[1;33m\u001b[0m\u001b[0m\n\u001b[0m",
      "\u001b[1;31mNameError\u001b[0m: name 'y' is not defined"
     ]
    }
   ],
   "source": [
    "import numpy as np\n",
    "y = np.array([[9], [7]])\n",
    "np.squeeze(np.eye(2)[y.reshape(-1)])"
   ]
  }
 ],
 "metadata": {
  "kernelspec": {
   "display_name": "Python 3",
   "language": "python",
   "name": "python3"
  },
  "language_info": {
   "codemirror_mode": {
    "name": "ipython",
    "version": 3
   },
   "file_extension": ".py",
   "mimetype": "text/x-python",
   "name": "python",
   "nbconvert_exporter": "python",
   "pygments_lexer": "ipython3",
   "version": "3.6.8"
  },
  "orig_nbformat": 4,
  "vscode": {
   "interpreter": {
    "hash": "5ff7bbb815d55287564ea5e92594775b2d6af9887dcb7b339b15b9f01559d026"
   }
  }
 },
 "nbformat": 4,
 "nbformat_minor": 2
}
