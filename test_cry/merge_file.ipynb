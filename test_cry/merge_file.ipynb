{
 "cells": [
  {
   "cell_type": "code",
   "execution_count": 1,
   "metadata": {},
   "outputs": [],
   "source": [
    "import glob\n",
    "import pandas as pd\n",
    "merge_file = []"
   ]
  },
  {
   "cell_type": "code",
   "execution_count": 5,
   "metadata": {},
   "outputs": [
    {
     "data": {
      "text/plain": [
       "[]"
      ]
     },
     "execution_count": 5,
     "metadata": {},
     "output_type": "execute_result"
    }
   ],
   "source": [
    "glob.glob('*.csv')"
   ]
  },
  {
   "cell_type": "code",
   "execution_count": 39,
   "metadata": {},
   "outputs": [],
   "source": [
    "for file_name in glob.glob('*.csv'):\n",
    "    csv_files = pd.read_csv(file_name)\n",
    "    merge_file.append(csv_files)\n",
    "df = pd.concat(merge_file,ignore_index=True)       "
   ]
  },
  {
   "cell_type": "code",
   "execution_count": null,
   "metadata": {},
   "outputs": [],
   "source": []
  },
  {
   "cell_type": "code",
   "execution_count": 40,
   "metadata": {},
   "outputs": [
    {
     "data": {
      "text/html": [
       "<div>\n",
       "<style scoped>\n",
       "    .dataframe tbody tr th:only-of-type {\n",
       "        vertical-align: middle;\n",
       "    }\n",
       "\n",
       "    .dataframe tbody tr th {\n",
       "        vertical-align: top;\n",
       "    }\n",
       "\n",
       "    .dataframe thead th {\n",
       "        text-align: right;\n",
       "    }\n",
       "</style>\n",
       "<table border=\"1\" class=\"dataframe\">\n",
       "  <thead>\n",
       "    <tr style=\"text-align: right;\">\n",
       "      <th>autopay_date</th>\n",
       "      <th>city_name</th>\n",
       "      <th>2023-12-29</th>\n",
       "      <th>2023-12-30</th>\n",
       "      <th>2023-12-31</th>\n",
       "      <th>2024-01-01</th>\n",
       "    </tr>\n",
       "  </thead>\n",
       "  <tbody>\n",
       "    <tr>\n",
       "      <th>0</th>\n",
       "      <td>HCM City</td>\n",
       "      <td>37054500.0</td>\n",
       "      <td>118645000.0</td>\n",
       "      <td>110327500.0</td>\n",
       "      <td>22008500.0</td>\n",
       "    </tr>\n",
       "    <tr>\n",
       "      <th>1</th>\n",
       "      <td>Ha Noi City</td>\n",
       "      <td>27151500.0</td>\n",
       "      <td>86860000.0</td>\n",
       "      <td>69645000.0</td>\n",
       "      <td>14409500.0</td>\n",
       "    </tr>\n",
       "    <tr>\n",
       "      <th>2</th>\n",
       "      <td>Hai Phong City</td>\n",
       "      <td>NaN</td>\n",
       "      <td>2515500.0</td>\n",
       "      <td>2250000.0</td>\n",
       "      <td>NaN</td>\n",
       "    </tr>\n",
       "  </tbody>\n",
       "</table>\n",
       "</div>"
      ],
      "text/plain": [
       "autopay_date       city_name  2023-12-29   2023-12-30   2023-12-31  2024-01-01\n",
       "0                   HCM City  37054500.0  118645000.0  110327500.0  22008500.0\n",
       "1                Ha Noi City  27151500.0   86860000.0   69645000.0  14409500.0\n",
       "2             Hai Phong City         NaN    2515500.0    2250000.0         NaN"
      ]
     },
     "execution_count": 40,
     "metadata": {},
     "output_type": "execute_result"
    }
   ],
   "source": [
    "# final_raw.groupby()\n",
    "pd.pivot_table(df, values = 'diff', index=['city_name'], columns = 'autopay_date',aggfunc='sum').reset_index()"
   ]
  },
  {
   "cell_type": "code",
   "execution_count": 13,
   "metadata": {},
   "outputs": [],
   "source": [
    "df.to_csv('final_file.csv',encoding='utf-8-sig')"
   ]
  }
 ],
 "metadata": {
  "kernelspec": {
   "display_name": "Python 3",
   "language": "python",
   "name": "python3"
  },
  "language_info": {
   "codemirror_mode": {
    "name": "ipython",
    "version": 3
   },
   "file_extension": ".py",
   "mimetype": "text/x-python",
   "name": "python",
   "nbconvert_exporter": "python",
   "pygments_lexer": "ipython3",
   "version": "3.6.8"
  }
 },
 "nbformat": 4,
 "nbformat_minor": 2
}
