{
 "cells": [
  {
   "cell_type": "code",
   "execution_count": 2,
   "metadata": {},
   "outputs": [],
   "source": [
    "import pandas as pd\n",
    "import requests"
   ]
  },
  {
   "cell_type": "code",
   "execution_count": 13,
   "metadata": {},
   "outputs": [],
   "source": [
    "# df = pd.read_csv('epod.csv')\n",
    "# df"
   ]
  },
  {
   "cell_type": "code",
   "execution_count": null,
   "metadata": {},
   "outputs": [],
   "source": [
    "path = 'https://down-tx-vn.img.susercontent.com/'\n",
    "df = pd.read_csv('epod_raw.csv')\n",
    "dir = 'C:/Users/duphong.hua/Documents/phong_document/pod/'\n",
    "for i in range(0,len(df)+1):\n",
    "    response = requests.get(path+df['image_urls_at_drop'][i])\n",
    "    if response.status_code == 200:\n",
    "    # Save the image to a file\n",
    "        with open( dir+f'{df['order_code'][i]}.jpg', 'wb') as file:\n",
    "            file.write(response.content)\n",
    "        # print('Image downloaded successfully.')\n",
    "    else:\n",
    "        print(f'Failed to download image. Status code: {response.status_code}')"
   ]
  },
  {
   "cell_type": "code",
   "execution_count": 8,
   "metadata": {},
   "outputs": [
    {
     "data": {
      "text/plain": [
       "165486"
      ]
     },
     "execution_count": 8,
     "metadata": {},
     "output_type": "execute_result"
    }
   ],
   "source": [
    "# len(df)"
   ]
  }
 ],
 "metadata": {
  "kernelspec": {
   "display_name": "Python 3",
   "language": "python",
   "name": "python3"
  },
  "language_info": {
   "codemirror_mode": {
    "name": "ipython",
    "version": 3
   },
   "file_extension": ".py",
   "mimetype": "text/x-python",
   "name": "python",
   "nbconvert_exporter": "python",
   "pygments_lexer": "ipython3",
   "version": "3.12.3"
  }
 },
 "nbformat": 4,
 "nbformat_minor": 2
}
