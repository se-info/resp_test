{
 "cells": [
  {
   "cell_type": "markdown",
   "metadata": {},
   "source": [
    "***\n",
    "Removed file not have label by os lib \n",
    "*** "
   ]
  },
  {
   "cell_type": "code",
   "execution_count": 1,
   "metadata": {},
   "outputs": [
    {
     "name": "stdout",
     "output_type": "stream",
     "text": [
      "remove C:\\Users\\duphong.hua\\Documents\\phong_document\\git\\resp_test\\test_yolo\\pod\\240703E0158G.jpg remove C:\\Users\\duphong.hua\\Documents\\phong_document\\git\\resp_test\\test_yolo\\pod\\240703E017LV.jpg remove C:\\Users\\duphong.hua\\Documents\\phong_document\\git\\resp_test\\test_yolo\\pod\\240703E021X3.jpg remove C:\\Users\\duphong.hua\\Documents\\phong_document\\git\\resp_test\\test_yolo\\pod\\240703E024TU.jpg remove C:\\Users\\duphong.hua\\Documents\\phong_document\\git\\resp_test\\test_yolo\\pod\\240703E027FY.jpg remove C:\\Users\\duphong.hua\\Documents\\phong_document\\git\\resp_test\\test_yolo\\pod\\240703E035FR.jpg remove C:\\Users\\duphong.hua\\Documents\\phong_document\\git\\resp_test\\test_yolo\\pod\\240703E08RTD.jpg remove C:\\Users\\duphong.hua\\Documents\\phong_document\\git\\resp_test\\test_yolo\\pod\\240703E101P4.jpg remove C:\\Users\\duphong.hua\\Documents\\phong_document\\git\\resp_test\\test_yolo\\pod\\240703E10QSJ.jpg remove C:\\Users\\duphong.hua\\Documents\\phong_document\\git\\resp_test\\test_yolo\\pod\\240703E11AAW.jpg remove C:\\Users\\duphong.hua\\Documents\\phong_document\\git\\resp_test\\test_yolo\\pod\\240703E123IL.jpg remove C:\\Users\\duphong.hua\\Documents\\phong_document\\git\\resp_test\\test_yolo\\pod\\240703E124FI.jpg remove C:\\Users\\duphong.hua\\Documents\\phong_document\\git\\resp_test\\test_yolo\\pod\\240703E12JUA.jpg remove C:\\Users\\duphong.hua\\Documents\\phong_document\\git\\resp_test\\test_yolo\\pod\\240703E1344Y.jpg remove C:\\Users\\duphong.hua\\Documents\\phong_document\\git\\resp_test\\test_yolo\\pod\\240703E134KV.jpg remove C:\\Users\\duphong.hua\\Documents\\phong_document\\git\\resp_test\\test_yolo\\pod\\240703E13FSU.jpg remove C:\\Users\\duphong.hua\\Documents\\phong_document\\git\\resp_test\\test_yolo\\pod\\240703E13WB1.jpg remove C:\\Users\\duphong.hua\\Documents\\phong_document\\git\\resp_test\\test_yolo\\pod\\240703E13YF3.jpg remove C:\\Users\\duphong.hua\\Documents\\phong_document\\git\\resp_test\\test_yolo\\pod\\240703E16Z2H.jpg remove C:\\Users\\duphong.hua\\Documents\\phong_document\\git\\resp_test\\test_yolo\\pod\\240703E17LN7.jpg remove C:\\Users\\duphong.hua\\Documents\\phong_document\\git\\resp_test\\test_yolo\\pod\\240703E17XD5.jpg remove C:\\Users\\duphong.hua\\Documents\\phong_document\\git\\resp_test\\test_yolo\\pod\\240703E18L1R.jpg remove C:\\Users\\duphong.hua\\Documents\\phong_document\\git\\resp_test\\test_yolo\\pod\\240703E18NWS.jpg remove C:\\Users\\duphong.hua\\Documents\\phong_document\\git\\resp_test\\test_yolo\\pod\\240703E18OVM.jpg remove C:\\Users\\duphong.hua\\Documents\\phong_document\\git\\resp_test\\test_yolo\\pod\\240703E18X0X.jpg remove C:\\Users\\duphong.hua\\Documents\\phong_document\\git\\resp_test\\test_yolo\\pod\\240703E193AJ.jpg remove C:\\Users\\duphong.hua\\Documents\\phong_document\\git\\resp_test\\test_yolo\\pod\\240703E207LC.jpg remove C:\\Users\\duphong.hua\\Documents\\phong_document\\git\\resp_test\\test_yolo\\pod\\240703E20I3V.jpg remove C:\\Users\\duphong.hua\\Documents\\phong_document\\git\\resp_test\\test_yolo\\pod\\240703E20Q1K.jpg remove C:\\Users\\duphong.hua\\Documents\\phong_document\\git\\resp_test\\test_yolo\\pod\\240703E231CM.jpg remove C:\\Users\\duphong.hua\\Documents\\phong_document\\git\\resp_test\\test_yolo\\pod\\240703E24FO4.jpg remove C:\\Users\\duphong.hua\\Documents\\phong_document\\git\\resp_test\\test_yolo\\pod\\240703E24G7M.jpg remove C:\\Users\\duphong.hua\\Documents\\phong_document\\git\\resp_test\\test_yolo\\pod\\240703E24IZP.jpg remove C:\\Users\\duphong.hua\\Documents\\phong_document\\git\\resp_test\\test_yolo\\pod\\240703E24RZ8.jpg remove C:\\Users\\duphong.hua\\Documents\\phong_document\\git\\resp_test\\test_yolo\\pod\\240703E25J87.jpg remove C:\\Users\\duphong.hua\\Documents\\phong_document\\git\\resp_test\\test_yolo\\pod\\240703E25UDZ.jpg remove C:\\Users\\duphong.hua\\Documents\\phong_document\\git\\resp_test\\test_yolo\\pod\\240703E26I5T.jpg remove C:\\Users\\duphong.hua\\Documents\\phong_document\\git\\resp_test\\test_yolo\\pod\\240703E27BLG.jpg remove C:\\Users\\duphong.hua\\Documents\\phong_document\\git\\resp_test\\test_yolo\\pod\\240703E283RC.jpg remove C:\\Users\\duphong.hua\\Documents\\phong_document\\git\\resp_test\\test_yolo\\pod\\240703E284F4.jpg remove C:\\Users\\duphong.hua\\Documents\\phong_document\\git\\resp_test\\test_yolo\\pod\\240703E28ETX.jpg remove C:\\Users\\duphong.hua\\Documents\\phong_document\\git\\resp_test\\test_yolo\\pod\\240703E28I12.jpg remove C:\\Users\\duphong.hua\\Documents\\phong_document\\git\\resp_test\\test_yolo\\pod\\240703E28XBC.jpg remove C:\\Users\\duphong.hua\\Documents\\phong_document\\git\\resp_test\\test_yolo\\pod\\240703E30S5C.jpg remove C:\\Users\\duphong.hua\\Documents\\phong_document\\git\\resp_test\\test_yolo\\pod\\240703E31CJL.jpg remove C:\\Users\\duphong.hua\\Documents\\phong_document\\git\\resp_test\\test_yolo\\pod\\240703E31KDR.jpg remove C:\\Users\\duphong.hua\\Documents\\phong_document\\git\\resp_test\\test_yolo\\pod\\240703E34JGM.jpg remove C:\\Users\\duphong.hua\\Documents\\phong_document\\git\\resp_test\\test_yolo\\pod\\240703E35YGT.jpg remove C:\\Users\\duphong.hua\\Documents\\phong_document\\git\\resp_test\\test_yolo\\pod\\240703E369UL.jpg remove C:\\Users\\duphong.hua\\Documents\\phong_document\\git\\resp_test\\test_yolo\\pod\\240703E36HK8.jpg remove C:\\Users\\duphong.hua\\Documents\\phong_document\\git\\resp_test\\test_yolo\\pod\\240703E38W1J.jpg remove C:\\Users\\duphong.hua\\Documents\\phong_document\\git\\resp_test\\test_yolo\\pod\\240703E40NAM.jpg remove C:\\Users\\duphong.hua\\Documents\\phong_document\\git\\resp_test\\test_yolo\\pod\\240703E40YUT.jpg remove C:\\Users\\duphong.hua\\Documents\\phong_document\\git\\resp_test\\test_yolo\\pod\\240703E41KCE.jpg remove C:\\Users\\duphong.hua\\Documents\\phong_document\\git\\resp_test\\test_yolo\\pod\\240703E44NPP.jpg remove C:\\Users\\duphong.hua\\Documents\\phong_document\\git\\resp_test\\test_yolo\\pod\\240703E45G6B.jpg remove C:\\Users\\duphong.hua\\Documents\\phong_document\\git\\resp_test\\test_yolo\\pod\\240703E477CZ.jpg remove C:\\Users\\duphong.hua\\Documents\\phong_document\\git\\resp_test\\test_yolo\\pod\\240703E47DRE.jpg remove C:\\Users\\duphong.hua\\Documents\\phong_document\\git\\resp_test\\test_yolo\\pod\\240703E483GG.jpg remove C:\\Users\\duphong.hua\\Documents\\phong_document\\git\\resp_test\\test_yolo\\pod\\240703E487VA.jpg remove C:\\Users\\duphong.hua\\Documents\\phong_document\\git\\resp_test\\test_yolo\\pod\\240703E48IY1.jpg remove C:\\Users\\duphong.hua\\Documents\\phong_document\\git\\resp_test\\test_yolo\\pod\\240703E49D4B.jpg remove C:\\Users\\duphong.hua\\Documents\\phong_document\\git\\resp_test\\test_yolo\\pod\\240703E49MU8.jpg remove C:\\Users\\duphong.hua\\Documents\\phong_document\\git\\resp_test\\test_yolo\\pod\\240703E49NFG.jpg remove C:\\Users\\duphong.hua\\Documents\\phong_document\\git\\resp_test\\test_yolo\\pod\\240703E49XHE.jpg remove C:\\Users\\duphong.hua\\Documents\\phong_document\\git\\resp_test\\test_yolo\\pod\\240703E508NK.jpg remove C:\\Users\\duphong.hua\\Documents\\phong_document\\git\\resp_test\\test_yolo\\pod\\240703E512HR.jpg remove C:\\Users\\duphong.hua\\Documents\\phong_document\\git\\resp_test\\test_yolo\\pod\\240703E520DW.jpg remove C:\\Users\\duphong.hua\\Documents\\phong_document\\git\\resp_test\\test_yolo\\pod\\240703E53GJT.jpg remove C:\\Users\\duphong.hua\\Documents\\phong_document\\git\\resp_test\\test_yolo\\pod\\240703E53KIR.jpg remove C:\\Users\\duphong.hua\\Documents\\phong_document\\git\\resp_test\\test_yolo\\pod\\240703E53XGX.jpg remove C:\\Users\\duphong.hua\\Documents\\phong_document\\git\\resp_test\\test_yolo\\pod\\240703E53YO8.jpg remove C:\\Users\\duphong.hua\\Documents\\phong_document\\git\\resp_test\\test_yolo\\pod\\240703E544RK.jpg remove C:\\Users\\duphong.hua\\Documents\\phong_document\\git\\resp_test\\test_yolo\\pod\\240703E545L0.jpg remove C:\\Users\\duphong.hua\\Documents\\phong_document\\git\\resp_test\\test_yolo\\pod\\240703E5460D.jpg remove C:\\Users\\duphong.hua\\Documents\\phong_document\\git\\resp_test\\test_yolo\\pod\\240703E54Y10.jpg remove C:\\Users\\duphong.hua\\Documents\\phong_document\\git\\resp_test\\test_yolo\\pod\\240703E563SX.jpg remove C:\\Users\\duphong.hua\\Documents\\phong_document\\git\\resp_test\\test_yolo\\pod\\240703E568PE.jpg remove C:\\Users\\duphong.hua\\Documents\\phong_document\\git\\resp_test\\test_yolo\\pod\\240703E575KW.jpg remove C:\\Users\\duphong.hua\\Documents\\phong_document\\git\\resp_test\\test_yolo\\pod\\240703E588FL.jpg remove C:\\Users\\duphong.hua\\Documents\\phong_document\\git\\resp_test\\test_yolo\\pod\\240703E59U1Y.jpg remove C:\\Users\\duphong.hua\\Documents\\phong_document\\git\\resp_test\\test_yolo\\pod\\240703E5C0D6.jpg remove C:\\Users\\duphong.hua\\Documents\\phong_document\\git\\resp_test\\test_yolo\\pod\\240703E5C806.jpg remove C:\\Users\\duphong.hua\\Documents\\phong_document\\git\\resp_test\\test_yolo\\pod\\240703E5CR3E.jpg remove C:\\Users\\duphong.hua\\Documents\\phong_document\\git\\resp_test\\test_yolo\\pod\\240703E5EQ5U.jpg remove C:\\Users\\duphong.hua\\Documents\\phong_document\\git\\resp_test\\test_yolo\\pod\\240703E5H22O.jpg remove C:\\Users\\duphong.hua\\Documents\\phong_document\\git\\resp_test\\test_yolo\\pod\\240703E5I8TU.jpg remove C:\\Users\\duphong.hua\\Documents\\phong_document\\git\\resp_test\\test_yolo\\pod\\240703E5MJ6E.jpg remove C:\\Users\\duphong.hua\\Documents\\phong_document\\git\\resp_test\\test_yolo\\pod\\240703E5N0A6.jpg remove C:\\Users\\duphong.hua\\Documents\\phong_document\\git\\resp_test\\test_yolo\\pod\\240703E5Q7RG.jpg remove C:\\Users\\duphong.hua\\Documents\\phong_document\\git\\resp_test\\test_yolo\\pod\\240703E5R19N.jpg remove C:\\Users\\duphong.hua\\Documents\\phong_document\\git\\resp_test\\test_yolo\\pod\\240703E5RHZK.jpg remove C:\\Users\\duphong.hua\\Documents\\phong_document\\git\\resp_test\\test_yolo\\pod\\240703E5RXXT.jpg remove C:\\Users\\duphong.hua\\Documents\\phong_document\\git\\resp_test\\test_yolo\\pod\\240703E5SABR.jpg remove C:\\Users\\duphong.hua\\Documents\\phong_document\\git\\resp_test\\test_yolo\\pod\\240703E5UBFZ.jpg remove C:\\Users\\duphong.hua\\Documents\\phong_document\\git\\resp_test\\test_yolo\\pod\\240703E5US0V.jpg remove C:\\Users\\duphong.hua\\Documents\\phong_document\\git\\resp_test\\test_yolo\\pod\\240703E5VFGZ.jpg remove C:\\Users\\duphong.hua\\Documents\\phong_document\\git\\resp_test\\test_yolo\\pod\\240703E5W64M.jpg remove C:\\Users\\duphong.hua\\Documents\\phong_document\\git\\resp_test\\test_yolo\\pod\\240703E5WUFG.jpg remove C:\\Users\\duphong.hua\\Documents\\phong_document\\git\\resp_test\\test_yolo\\pod\\240703E6050Z.jpg remove C:\\Users\\duphong.hua\\Documents\\phong_document\\git\\resp_test\\test_yolo\\pod\\240703E60G2N.jpg remove C:\\Users\\duphong.hua\\Documents\\phong_document\\git\\resp_test\\test_yolo\\pod\\240703E60N4B.jpg remove C:\\Users\\duphong.hua\\Documents\\phong_document\\git\\resp_test\\test_yolo\\pod\\240703E61J5Q.jpg remove C:\\Users\\duphong.hua\\Documents\\phong_document\\git\\resp_test\\test_yolo\\pod\\240703E61POJ.jpg remove C:\\Users\\duphong.hua\\Documents\\phong_document\\git\\resp_test\\test_yolo\\pod\\240703E6243E.jpg remove C:\\Users\\duphong.hua\\Documents\\phong_document\\git\\resp_test\\test_yolo\\pod\\240703E640WD.jpg remove C:\\Users\\duphong.hua\\Documents\\phong_document\\git\\resp_test\\test_yolo\\pod\\240703E643EL.jpg remove C:\\Users\\duphong.hua\\Documents\\phong_document\\git\\resp_test\\test_yolo\\pod\\240703E65AKA.jpg remove C:\\Users\\duphong.hua\\Documents\\phong_document\\git\\resp_test\\test_yolo\\pod\\240703E65PYF.jpg remove C:\\Users\\duphong.hua\\Documents\\phong_document\\git\\resp_test\\test_yolo\\pod\\240703E663W7.jpg remove C:\\Users\\duphong.hua\\Documents\\phong_document\\git\\resp_test\\test_yolo\\pod\\240703E66JCT.jpg remove C:\\Users\\duphong.hua\\Documents\\phong_document\\git\\resp_test\\test_yolo\\pod\\240703E66KK6.jpg remove C:\\Users\\duphong.hua\\Documents\\phong_document\\git\\resp_test\\test_yolo\\pod\\240703E67C7Q.jpg remove C:\\Users\\duphong.hua\\Documents\\phong_document\\git\\resp_test\\test_yolo\\pod\\240703E685TX.jpg remove C:\\Users\\duphong.hua\\Documents\\phong_document\\git\\resp_test\\test_yolo\\pod\\240703E689M6.jpg remove C:\\Users\\duphong.hua\\Documents\\phong_document\\git\\resp_test\\test_yolo\\pod\\240703E68DB6.jpg remove C:\\Users\\duphong.hua\\Documents\\phong_document\\git\\resp_test\\test_yolo\\pod\\240703E68L8J.jpg remove C:\\Users\\duphong.hua\\Documents\\phong_document\\git\\resp_test\\test_yolo\\pod\\240703E6ADCJ.jpg remove C:\\Users\\duphong.hua\\Documents\\phong_document\\git\\resp_test\\test_yolo\\pod\\240703E6B4Q1.jpg remove C:\\Users\\duphong.hua\\Documents\\phong_document\\git\\resp_test\\test_yolo\\pod\\240703E6BOHB.jpg remove C:\\Users\\duphong.hua\\Documents\\phong_document\\git\\resp_test\\test_yolo\\pod\\240703E6BR8M.jpg remove C:\\Users\\duphong.hua\\Documents\\phong_document\\git\\resp_test\\test_yolo\\pod\\240703E6BWZX.jpg remove C:\\Users\\duphong.hua\\Documents\\phong_document\\git\\resp_test\\test_yolo\\pod\\240703E6CHJ2.jpg remove C:\\Users\\duphong.hua\\Documents\\phong_document\\git\\resp_test\\test_yolo\\pod\\240703E6CVJF.jpg remove C:\\Users\\duphong.hua\\Documents\\phong_document\\git\\resp_test\\test_yolo\\pod\\240703E6CXQY.jpg remove C:\\Users\\duphong.hua\\Documents\\phong_document\\git\\resp_test\\test_yolo\\pod\\240703E6E2D8.jpg remove C:\\Users\\duphong.hua\\Documents\\phong_document\\git\\resp_test\\test_yolo\\pod\\240703E6EGU7.jpg remove C:\\Users\\duphong.hua\\Documents\\phong_document\\git\\resp_test\\test_yolo\\pod\\240703E6EXSY.jpg remove C:\\Users\\duphong.hua\\Documents\\phong_document\\git\\resp_test\\test_yolo\\pod\\240703E6F17F.jpg remove C:\\Users\\duphong.hua\\Documents\\phong_document\\git\\resp_test\\test_yolo\\pod\\240703E6F9BA.jpg remove C:\\Users\\duphong.hua\\Documents\\phong_document\\git\\resp_test\\test_yolo\\pod\\240703E6FDBJ.jpg remove C:\\Users\\duphong.hua\\Documents\\phong_document\\git\\resp_test\\test_yolo\\pod\\240703E6FQRI.jpg remove C:\\Users\\duphong.hua\\Documents\\phong_document\\git\\resp_test\\test_yolo\\pod\\240703E6G22Q.jpg remove C:\\Users\\duphong.hua\\Documents\\phong_document\\git\\resp_test\\test_yolo\\pod\\240703E6GCE7.jpg remove C:\\Users\\duphong.hua\\Documents\\phong_document\\git\\resp_test\\test_yolo\\pod\\240703E6GP7U.jpg remove C:\\Users\\duphong.hua\\Documents\\phong_document\\git\\resp_test\\test_yolo\\pod\\240703E6H3JL.jpg remove C:\\Users\\duphong.hua\\Documents\\phong_document\\git\\resp_test\\test_yolo\\pod\\240703E6H3VD.jpg remove C:\\Users\\duphong.hua\\Documents\\phong_document\\git\\resp_test\\test_yolo\\pod\\240703E6HXJ7.jpg remove C:\\Users\\duphong.hua\\Documents\\phong_document\\git\\resp_test\\test_yolo\\pod\\240703E6IMA7.jpg remove C:\\Users\\duphong.hua\\Documents\\phong_document\\git\\resp_test\\test_yolo\\pod\\240703E6IW07.jpg remove C:\\Users\\duphong.hua\\Documents\\phong_document\\git\\resp_test\\test_yolo\\pod\\240703E6KGFW.jpg remove C:\\Users\\duphong.hua\\Documents\\phong_document\\git\\resp_test\\test_yolo\\pod\\240703E6KQE7.jpg remove C:\\Users\\duphong.hua\\Documents\\phong_document\\git\\resp_test\\test_yolo\\pod\\240703E6L6QN.jpg remove C:\\Users\\duphong.hua\\Documents\\phong_document\\git\\resp_test\\test_yolo\\pod\\240703E6L87D.jpg remove C:\\Users\\duphong.hua\\Documents\\phong_document\\git\\resp_test\\test_yolo\\pod\\240703E6LVTG.jpg remove C:\\Users\\duphong.hua\\Documents\\phong_document\\git\\resp_test\\test_yolo\\pod\\240703E6MPPK.jpg remove C:\\Users\\duphong.hua\\Documents\\phong_document\\git\\resp_test\\test_yolo\\pod\\240703E6NDEN.jpg remove C:\\Users\\duphong.hua\\Documents\\phong_document\\git\\resp_test\\test_yolo\\pod\\240703E6NVBV.jpg remove C:\\Users\\duphong.hua\\Documents\\phong_document\\git\\resp_test\\test_yolo\\pod\\240703E6NZ5S.jpg remove C:\\Users\\duphong.hua\\Documents\\phong_document\\git\\resp_test\\test_yolo\\pod\\240703E6O1YF.jpg remove C:\\Users\\duphong.hua\\Documents\\phong_document\\git\\resp_test\\test_yolo\\pod\\240703E6OLO3.jpg remove C:\\Users\\duphong.hua\\Documents\\phong_document\\git\\resp_test\\test_yolo\\pod\\240703E6OYS8.jpg remove C:\\Users\\duphong.hua\\Documents\\phong_document\\git\\resp_test\\test_yolo\\pod\\240703E6PZTA.jpg remove C:\\Users\\duphong.hua\\Documents\\phong_document\\git\\resp_test\\test_yolo\\pod\\240703E6RP89.jpg remove C:\\Users\\duphong.hua\\Documents\\phong_document\\git\\resp_test\\test_yolo\\pod\\240703E6S998.jpg remove C:\\Users\\duphong.hua\\Documents\\phong_document\\git\\resp_test\\test_yolo\\pod\\240703E6T7XF.jpg remove C:\\Users\\duphong.hua\\Documents\\phong_document\\git\\resp_test\\test_yolo\\pod\\240703E6TPQX.jpg remove C:\\Users\\duphong.hua\\Documents\\phong_document\\git\\resp_test\\test_yolo\\pod\\240703E6U7R5.jpg remove C:\\Users\\duphong.hua\\Documents\\phong_document\\git\\resp_test\\test_yolo\\pod\\240703E6WYCA.jpg remove C:\\Users\\duphong.hua\\Documents\\phong_document\\git\\resp_test\\test_yolo\\pod\\240703E6YB8K.jpg remove C:\\Users\\duphong.hua\\Documents\\phong_document\\git\\resp_test\\test_yolo\\pod\\240703E6YLQ2.jpg remove C:\\Users\\duphong.hua\\Documents\\phong_document\\git\\resp_test\\test_yolo\\pod\\240703E6Z1XB.jpg remove C:\\Users\\duphong.hua\\Documents\\phong_document\\git\\resp_test\\test_yolo\\pod\\240703E6Z9NX.jpg remove C:\\Users\\duphong.hua\\Documents\\phong_document\\git\\resp_test\\test_yolo\\pod\\240703E6ZO4P.jpg remove C:\\Users\\duphong.hua\\Documents\\phong_document\\git\\resp_test\\test_yolo\\pod\\240703E6ZYDL.jpg remove C:\\Users\\duphong.hua\\Documents\\phong_document\\git\\resp_test\\test_yolo\\pod\\240703E70QJQ.jpg remove C:\\Users\\duphong.hua\\Documents\\phong_document\\git\\resp_test\\test_yolo\\pod\\240703E70QTG.jpg remove C:\\Users\\duphong.hua\\Documents\\phong_document\\git\\resp_test\\test_yolo\\pod\\240703E71JKF.jpg remove C:\\Users\\duphong.hua\\Documents\\phong_document\\git\\resp_test\\test_yolo\\pod\\240703E71K7R.jpg remove C:\\Users\\duphong.hua\\Documents\\phong_document\\git\\resp_test\\test_yolo\\pod\\240703E749FX.jpg remove C:\\Users\\duphong.hua\\Documents\\phong_document\\git\\resp_test\\test_yolo\\pod\\240703E76V6J.jpg remove C:\\Users\\duphong.hua\\Documents\\phong_document\\git\\resp_test\\test_yolo\\pod\\240703E771TN.jpg remove C:\\Users\\duphong.hua\\Documents\\phong_document\\git\\resp_test\\test_yolo\\pod\\240703E78KYQ.jpg remove C:\\Users\\duphong.hua\\Documents\\phong_document\\git\\resp_test\\test_yolo\\pod\\240703E79MCY.jpg remove C:\\Users\\duphong.hua\\Documents\\phong_document\\git\\resp_test\\test_yolo\\pod\\240703E79YQM.jpg remove C:\\Users\\duphong.hua\\Documents\\phong_document\\git\\resp_test\\test_yolo\\pod\\240703E7AJYJ.jpg remove C:\\Users\\duphong.hua\\Documents\\phong_document\\git\\resp_test\\test_yolo\\pod\\240703E7B00P.jpg remove C:\\Users\\duphong.hua\\Documents\\phong_document\\git\\resp_test\\test_yolo\\pod\\240703E7B5MG.jpg remove C:\\Users\\duphong.hua\\Documents\\phong_document\\git\\resp_test\\test_yolo\\pod\\240703E7BTTO.jpg remove C:\\Users\\duphong.hua\\Documents\\phong_document\\git\\resp_test\\test_yolo\\pod\\240703E7C5Y0.jpg remove C:\\Users\\duphong.hua\\Documents\\phong_document\\git\\resp_test\\test_yolo\\pod\\240703E7C98J.jpg remove C:\\Users\\duphong.hua\\Documents\\phong_document\\git\\resp_test\\test_yolo\\pod\\240703E7CQ26.jpg remove C:\\Users\\duphong.hua\\Documents\\phong_document\\git\\resp_test\\test_yolo\\pod\\240703E7EUMD.jpg remove C:\\Users\\duphong.hua\\Documents\\phong_document\\git\\resp_test\\test_yolo\\pod\\240703E7EYUB.jpg remove C:\\Users\\duphong.hua\\Documents\\phong_document\\git\\resp_test\\test_yolo\\pod\\240703E7GIFC.jpg remove C:\\Users\\duphong.hua\\Documents\\phong_document\\git\\resp_test\\test_yolo\\pod\\240703E7GTSF.jpg remove C:\\Users\\duphong.hua\\Documents\\phong_document\\git\\resp_test\\test_yolo\\pod\\240703E7J6VS.jpg remove C:\\Users\\duphong.hua\\Documents\\phong_document\\git\\resp_test\\test_yolo\\pod\\240703E7KI10.jpg remove C:\\Users\\duphong.hua\\Documents\\phong_document\\git\\resp_test\\test_yolo\\pod\\240703E7KXMO.jpg remove C:\\Users\\duphong.hua\\Documents\\phong_document\\git\\resp_test\\test_yolo\\pod\\240703E7L5H6.jpg remove C:\\Users\\duphong.hua\\Documents\\phong_document\\git\\resp_test\\test_yolo\\pod\\240703E7LD5U.jpg remove C:\\Users\\duphong.hua\\Documents\\phong_document\\git\\resp_test\\test_yolo\\pod\\240703E7LEHU.jpg remove C:\\Users\\duphong.hua\\Documents\\phong_document\\git\\resp_test\\test_yolo\\pod\\240703E7M5ZB.jpg remove C:\\Users\\duphong.hua\\Documents\\phong_document\\git\\resp_test\\test_yolo\\pod\\240703E7MH5I.jpg remove C:\\Users\\duphong.hua\\Documents\\phong_document\\git\\resp_test\\test_yolo\\pod\\240703E7MIGN.jpg remove C:\\Users\\duphong.hua\\Documents\\phong_document\\git\\resp_test\\test_yolo\\pod\\240703E7MPVV.jpg remove C:\\Users\\duphong.hua\\Documents\\phong_document\\git\\resp_test\\test_yolo\\pod\\240703E7NP8B.jpg remove C:\\Users\\duphong.hua\\Documents\\phong_document\\git\\resp_test\\test_yolo\\pod\\240703E7P4WI.jpg remove C:\\Users\\duphong.hua\\Documents\\phong_document\\git\\resp_test\\test_yolo\\pod\\240703E7P4YE.jpg remove C:\\Users\\duphong.hua\\Documents\\phong_document\\git\\resp_test\\test_yolo\\pod\\240703E7PB2I.jpg remove C:\\Users\\duphong.hua\\Documents\\phong_document\\git\\resp_test\\test_yolo\\pod\\240703E7Q3XO.jpg remove C:\\Users\\duphong.hua\\Documents\\phong_document\\git\\resp_test\\test_yolo\\pod\\240703E7QIFR.jpg remove C:\\Users\\duphong.hua\\Documents\\phong_document\\git\\resp_test\\test_yolo\\pod\\240703E7QJ4F.jpg remove C:\\Users\\duphong.hua\\Documents\\phong_document\\git\\resp_test\\test_yolo\\pod\\240703E7RZ4K.jpg remove C:\\Users\\duphong.hua\\Documents\\phong_document\\git\\resp_test\\test_yolo\\pod\\240703E7T6KL.jpg remove C:\\Users\\duphong.hua\\Documents\\phong_document\\git\\resp_test\\test_yolo\\pod\\240703E7W5A8.jpg remove C:\\Users\\duphong.hua\\Documents\\phong_document\\git\\resp_test\\test_yolo\\pod\\240703E7WOKB.jpg remove C:\\Users\\duphong.hua\\Documents\\phong_document\\git\\resp_test\\test_yolo\\pod\\240703E7X6WC.jpg remove C:\\Users\\duphong.hua\\Documents\\phong_document\\git\\resp_test\\test_yolo\\pod\\240703E7Y33F.jpg remove C:\\Users\\duphong.hua\\Documents\\phong_document\\git\\resp_test\\test_yolo\\pod\\240703E7YC2G.jpg remove C:\\Users\\duphong.hua\\Documents\\phong_document\\git\\resp_test\\test_yolo\\pod\\240703E7YEDL.jpg remove C:\\Users\\duphong.hua\\Documents\\phong_document\\git\\resp_test\\test_yolo\\pod\\240703E7YS2Y.jpg remove C:\\Users\\duphong.hua\\Documents\\phong_document\\git\\resp_test\\test_yolo\\pod\\240703E80O1N.jpg remove C:\\Users\\duphong.hua\\Documents\\phong_document\\git\\resp_test\\test_yolo\\pod\\240703E81EJJ.jpg remove C:\\Users\\duphong.hua\\Documents\\phong_document\\git\\resp_test\\test_yolo\\pod\\240703E82483.jpg remove C:\\Users\\duphong.hua\\Documents\\phong_document\\git\\resp_test\\test_yolo\\pod\\240703E83US4.jpg remove C:\\Users\\duphong.hua\\Documents\\phong_document\\git\\resp_test\\test_yolo\\pod\\240703E841Z5.jpg remove C:\\Users\\duphong.hua\\Documents\\phong_document\\git\\resp_test\\test_yolo\\pod\\240703E84R14.jpg remove C:\\Users\\duphong.hua\\Documents\\phong_document\\git\\resp_test\\test_yolo\\pod\\240703E85L4T.jpg remove C:\\Users\\duphong.hua\\Documents\\phong_document\\git\\resp_test\\test_yolo\\pod\\240703E88WN4.jpg remove C:\\Users\\duphong.hua\\Documents\\phong_document\\git\\resp_test\\test_yolo\\pod\\240703E88XKK.jpg remove C:\\Users\\duphong.hua\\Documents\\phong_document\\git\\resp_test\\test_yolo\\pod\\240703E88ZZT.jpg remove C:\\Users\\duphong.hua\\Documents\\phong_document\\git\\resp_test\\test_yolo\\pod\\240703E895TZ.jpg remove C:\\Users\\duphong.hua\\Documents\\phong_document\\git\\resp_test\\test_yolo\\pod\\240703E89Q3Z.jpg remove C:\\Users\\duphong.hua\\Documents\\phong_document\\git\\resp_test\\test_yolo\\pod\\240703E8A4W0.jpg remove C:\\Users\\duphong.hua\\Documents\\phong_document\\git\\resp_test\\test_yolo\\pod\\240703E8D2BN.jpg remove C:\\Users\\duphong.hua\\Documents\\phong_document\\git\\resp_test\\test_yolo\\pod\\240703E8DF3G.jpg remove C:\\Users\\duphong.hua\\Documents\\phong_document\\git\\resp_test\\test_yolo\\pod\\240703E8DTII.jpg remove C:\\Users\\duphong.hua\\Documents\\phong_document\\git\\resp_test\\test_yolo\\pod\\240703E8E4JR.jpg remove C:\\Users\\duphong.hua\\Documents\\phong_document\\git\\resp_test\\test_yolo\\pod\\240703E8FRQR.jpg remove C:\\Users\\duphong.hua\\Documents\\phong_document\\git\\resp_test\\test_yolo\\pod\\240703E8G4R8.jpg remove C:\\Users\\duphong.hua\\Documents\\phong_document\\git\\resp_test\\test_yolo\\pod\\240703E8GTDN.jpg remove C:\\Users\\duphong.hua\\Documents\\phong_document\\git\\resp_test\\test_yolo\\pod\\240703E8H91S.jpg remove C:\\Users\\duphong.hua\\Documents\\phong_document\\git\\resp_test\\test_yolo\\pod\\240703E8HOT1.jpg remove C:\\Users\\duphong.hua\\Documents\\phong_document\\git\\resp_test\\test_yolo\\pod\\240703E8I5M2.jpg remove C:\\Users\\duphong.hua\\Documents\\phong_document\\git\\resp_test\\test_yolo\\pod\\240703E8JTQK.jpg remove C:\\Users\\duphong.hua\\Documents\\phong_document\\git\\resp_test\\test_yolo\\pod\\240703E8JX9T.jpg remove C:\\Users\\duphong.hua\\Documents\\phong_document\\git\\resp_test\\test_yolo\\pod\\240703E8KOLH.jpg remove C:\\Users\\duphong.hua\\Documents\\phong_document\\git\\resp_test\\test_yolo\\pod\\240703E8LFF1.jpg remove C:\\Users\\duphong.hua\\Documents\\phong_document\\git\\resp_test\\test_yolo\\pod\\240703E8LOX2.jpg remove C:\\Users\\duphong.hua\\Documents\\phong_document\\git\\resp_test\\test_yolo\\pod\\240703E8LY2S.jpg remove C:\\Users\\duphong.hua\\Documents\\phong_document\\git\\resp_test\\test_yolo\\pod\\240703E8MW72.jpg remove C:\\Users\\duphong.hua\\Documents\\phong_document\\git\\resp_test\\test_yolo\\pod\\240703E8NLCN.jpg remove C:\\Users\\duphong.hua\\Documents\\phong_document\\git\\resp_test\\test_yolo\\pod\\240703E8O3ER.jpg remove C:\\Users\\duphong.hua\\Documents\\phong_document\\git\\resp_test\\test_yolo\\pod\\240703E8OJ0H.jpg remove C:\\Users\\duphong.hua\\Documents\\phong_document\\git\\resp_test\\test_yolo\\pod\\240703E8ONQE.jpg remove C:\\Users\\duphong.hua\\Documents\\phong_document\\git\\resp_test\\test_yolo\\pod\\240703E8OR6J.jpg remove C:\\Users\\duphong.hua\\Documents\\phong_document\\git\\resp_test\\test_yolo\\pod\\240703E8ORKG.jpg remove C:\\Users\\duphong.hua\\Documents\\phong_document\\git\\resp_test\\test_yolo\\pod\\240703E8OY54.jpg remove C:\\Users\\duphong.hua\\Documents\\phong_document\\git\\resp_test\\test_yolo\\pod\\240703E8P3US.jpg remove C:\\Users\\duphong.hua\\Documents\\phong_document\\git\\resp_test\\test_yolo\\pod\\240703E8PAGN.jpg remove C:\\Users\\duphong.hua\\Documents\\phong_document\\git\\resp_test\\test_yolo\\pod\\240703E8Q01K.jpg remove C:\\Users\\duphong.hua\\Documents\\phong_document\\git\\resp_test\\test_yolo\\pod\\240703E8Q4TW.jpg remove C:\\Users\\duphong.hua\\Documents\\phong_document\\git\\resp_test\\test_yolo\\pod\\240703E8QVHS.jpg remove C:\\Users\\duphong.hua\\Documents\\phong_document\\git\\resp_test\\test_yolo\\pod\\240703E8SPC3.jpg remove C:\\Users\\duphong.hua\\Documents\\phong_document\\git\\resp_test\\test_yolo\\pod\\240703E8T017.jpg remove C:\\Users\\duphong.hua\\Documents\\phong_document\\git\\resp_test\\test_yolo\\pod\\240703E8TIJB.jpg remove C:\\Users\\duphong.hua\\Documents\\phong_document\\git\\resp_test\\test_yolo\\pod\\240703E8UHX8.jpg remove C:\\Users\\duphong.hua\\Documents\\phong_document\\git\\resp_test\\test_yolo\\pod\\240703E8VB0Y.jpg remove C:\\Users\\duphong.hua\\Documents\\phong_document\\git\\resp_test\\test_yolo\\pod\\240703E8VQ30.jpg remove C:\\Users\\duphong.hua\\Documents\\phong_document\\git\\resp_test\\test_yolo\\pod\\240703E8W6ZU.jpg remove C:\\Users\\duphong.hua\\Documents\\phong_document\\git\\resp_test\\test_yolo\\pod\\240703E8XEU9.jpg remove C:\\Users\\duphong.hua\\Documents\\phong_document\\git\\resp_test\\test_yolo\\pod\\240703E8XVS5.jpg remove C:\\Users\\duphong.hua\\Documents\\phong_document\\git\\resp_test\\test_yolo\\pod\\240703E8ZPU4.jpg remove C:\\Users\\duphong.hua\\Documents\\phong_document\\git\\resp_test\\test_yolo\\pod\\240703E90Y2T.jpg remove C:\\Users\\duphong.hua\\Documents\\phong_document\\git\\resp_test\\test_yolo\\pod\\240703E91XV0.jpg remove C:\\Users\\duphong.hua\\Documents\\phong_document\\git\\resp_test\\test_yolo\\pod\\240703E93ET1.jpg remove C:\\Users\\duphong.hua\\Documents\\phong_document\\git\\resp_test\\test_yolo\\pod\\240703E93Z3K.jpg remove C:\\Users\\duphong.hua\\Documents\\phong_document\\git\\resp_test\\test_yolo\\pod\\240703E94ZHY.jpg remove C:\\Users\\duphong.hua\\Documents\\phong_document\\git\\resp_test\\test_yolo\\pod\\240703E975RN.jpg remove C:\\Users\\duphong.hua\\Documents\\phong_document\\git\\resp_test\\test_yolo\\pod\\240703E97786.jpg remove C:\\Users\\duphong.hua\\Documents\\phong_document\\git\\resp_test\\test_yolo\\pod\\240703E99NIZ.jpg remove C:\\Users\\duphong.hua\\Documents\\phong_document\\git\\resp_test\\test_yolo\\pod\\240703E99NX3.jpg remove C:\\Users\\duphong.hua\\Documents\\phong_document\\git\\resp_test\\test_yolo\\pod\\240703E99UIE.jpg remove C:\\Users\\duphong.hua\\Documents\\phong_document\\git\\resp_test\\test_yolo\\pod\\240703E9ACAR.jpg remove C:\\Users\\duphong.hua\\Documents\\phong_document\\git\\resp_test\\test_yolo\\pod\\240703E9B0J7.jpg remove C:\\Users\\duphong.hua\\Documents\\phong_document\\git\\resp_test\\test_yolo\\pod\\240703E9D6R4.jpg remove C:\\Users\\duphong.hua\\Documents\\phong_document\\git\\resp_test\\test_yolo\\pod\\240703E9DSYA.jpg remove C:\\Users\\duphong.hua\\Documents\\phong_document\\git\\resp_test\\test_yolo\\pod\\240703E9E1SH.jpg remove C:\\Users\\duphong.hua\\Documents\\phong_document\\git\\resp_test\\test_yolo\\pod\\240703E9EALP.jpg remove C:\\Users\\duphong.hua\\Documents\\phong_document\\git\\resp_test\\test_yolo\\pod\\240703E9EBSY.jpg remove C:\\Users\\duphong.hua\\Documents\\phong_document\\git\\resp_test\\test_yolo\\pod\\240703E9ECKU.jpg remove C:\\Users\\duphong.hua\\Documents\\phong_document\\git\\resp_test\\test_yolo\\pod\\240703E9ELHM.jpg remove C:\\Users\\duphong.hua\\Documents\\phong_document\\git\\resp_test\\test_yolo\\pod\\240703E9F39B.jpg remove C:\\Users\\duphong.hua\\Documents\\phong_document\\git\\resp_test\\test_yolo\\pod\\240703E9F4MT.jpg remove C:\\Users\\duphong.hua\\Documents\\phong_document\\git\\resp_test\\test_yolo\\pod\\240703E9FMSU.jpg remove C:\\Users\\duphong.hua\\Documents\\phong_document\\git\\resp_test\\test_yolo\\pod\\240703E9H5P7.jpg remove C:\\Users\\duphong.hua\\Documents\\phong_document\\git\\resp_test\\test_yolo\\pod\\240703E9HNTP.jpg remove C:\\Users\\duphong.hua\\Documents\\phong_document\\git\\resp_test\\test_yolo\\pod\\240703E9I5JZ.jpg remove C:\\Users\\duphong.hua\\Documents\\phong_document\\git\\resp_test\\test_yolo\\pod\\240703E9J1Q2.jpg remove C:\\Users\\duphong.hua\\Documents\\phong_document\\git\\resp_test\\test_yolo\\pod\\240703E9LLAA.jpg remove C:\\Users\\duphong.hua\\Documents\\phong_document\\git\\resp_test\\test_yolo\\pod\\240703E9LU8X.jpg remove C:\\Users\\duphong.hua\\Documents\\phong_document\\git\\resp_test\\test_yolo\\pod\\240703E9M28T.jpg remove C:\\Users\\duphong.hua\\Documents\\phong_document\\git\\resp_test\\test_yolo\\pod\\240703E9MGIC.jpg remove C:\\Users\\duphong.hua\\Documents\\phong_document\\git\\resp_test\\test_yolo\\pod\\240703E9MUK9.jpg remove C:\\Users\\duphong.hua\\Documents\\phong_document\\git\\resp_test\\test_yolo\\pod\\240703E9MW9H.jpg remove C:\\Users\\duphong.hua\\Documents\\phong_document\\git\\resp_test\\test_yolo\\pod\\240703E9NG68.jpg remove C:\\Users\\duphong.hua\\Documents\\phong_document\\git\\resp_test\\test_yolo\\pod\\240703E9NU7N.jpg remove C:\\Users\\duphong.hua\\Documents\\phong_document\\git\\resp_test\\test_yolo\\pod\\240703E9O6H8.jpg remove C:\\Users\\duphong.hua\\Documents\\phong_document\\git\\resp_test\\test_yolo\\pod\\240703E9PVNR.jpg remove C:\\Users\\duphong.hua\\Documents\\phong_document\\git\\resp_test\\test_yolo\\pod\\240703E9PVRQ.jpg remove C:\\Users\\duphong.hua\\Documents\\phong_document\\git\\resp_test\\test_yolo\\pod\\240703E9Q5AE.jpg remove C:\\Users\\duphong.hua\\Documents\\phong_document\\git\\resp_test\\test_yolo\\pod\\240703E9R7Z3.jpg remove C:\\Users\\duphong.hua\\Documents\\phong_document\\git\\resp_test\\test_yolo\\pod\\240703E9STFQ.jpg remove C:\\Users\\duphong.hua\\Documents\\phong_document\\git\\resp_test\\test_yolo\\pod\\240703E9T2BM.jpg remove C:\\Users\\duphong.hua\\Documents\\phong_document\\git\\resp_test\\test_yolo\\pod\\240703E9TXB8.jpg remove C:\\Users\\duphong.hua\\Documents\\phong_document\\git\\resp_test\\test_yolo\\pod\\240703E9U2A7.jpg remove C:\\Users\\duphong.hua\\Documents\\phong_document\\git\\resp_test\\test_yolo\\pod\\240703E9VVRX.jpg remove C:\\Users\\duphong.hua\\Documents\\phong_document\\git\\resp_test\\test_yolo\\pod\\240703E9XSY7.jpg remove C:\\Users\\duphong.hua\\Documents\\phong_document\\git\\resp_test\\test_yolo\\pod\\240703E9XV1L.jpg remove C:\\Users\\duphong.hua\\Documents\\phong_document\\git\\resp_test\\test_yolo\\pod\\240703E9YZGV.jpg remove C:\\Users\\duphong.hua\\Documents\\phong_document\\git\\resp_test\\test_yolo\\pod\\240703E9ZYWG.jpg remove C:\\Users\\duphong.hua\\Documents\\phong_document\\git\\resp_test\\test_yolo\\pod\\240703EA10EV.jpg remove C:\\Users\\duphong.hua\\Documents\\phong_document\\git\\resp_test\\test_yolo\\pod\\240703EA1RY0.jpg remove C:\\Users\\duphong.hua\\Documents\\phong_document\\git\\resp_test\\test_yolo\\pod\\240703EA2BHG.jpg remove C:\\Users\\duphong.hua\\Documents\\phong_document\\git\\resp_test\\test_yolo\\pod\\240703EA3KSW.jpg remove C:\\Users\\duphong.hua\\Documents\\phong_document\\git\\resp_test\\test_yolo\\pod\\240703EA3T0R.jpg remove C:\\Users\\duphong.hua\\Documents\\phong_document\\git\\resp_test\\test_yolo\\pod\\240703EA4CO1.jpg remove C:\\Users\\duphong.hua\\Documents\\phong_document\\git\\resp_test\\test_yolo\\pod\\240703EA4DMO.jpg remove C:\\Users\\duphong.hua\\Documents\\phong_document\\git\\resp_test\\test_yolo\\pod\\240703EA52DF.jpg remove C:\\Users\\duphong.hua\\Documents\\phong_document\\git\\resp_test\\test_yolo\\pod\\240703EA66MX.jpg remove C:\\Users\\duphong.hua\\Documents\\phong_document\\git\\resp_test\\test_yolo\\pod\\240703EA6CPJ.jpg remove C:\\Users\\duphong.hua\\Documents\\phong_document\\git\\resp_test\\test_yolo\\pod\\240703EA6VLM.jpg remove C:\\Users\\duphong.hua\\Documents\\phong_document\\git\\resp_test\\test_yolo\\pod\\240703EAC74C.jpg remove C:\\Users\\duphong.hua\\Documents\\phong_document\\git\\resp_test\\test_yolo\\pod\\240703EAD4C1.jpg remove C:\\Users\\duphong.hua\\Documents\\phong_document\\git\\resp_test\\test_yolo\\pod\\240703EADMYH.jpg remove C:\\Users\\duphong.hua\\Documents\\phong_document\\git\\resp_test\\test_yolo\\pod\\240703EAEP6Q.jpg remove C:\\Users\\duphong.hua\\Documents\\phong_document\\git\\resp_test\\test_yolo\\pod\\240703EAF2TG.jpg remove C:\\Users\\duphong.hua\\Documents\\phong_document\\git\\resp_test\\test_yolo\\pod\\240703EAGV4I.jpg remove C:\\Users\\duphong.hua\\Documents\\phong_document\\git\\resp_test\\test_yolo\\pod\\240703EAIERH.jpg remove C:\\Users\\duphong.hua\\Documents\\phong_document\\git\\resp_test\\test_yolo\\pod\\240703EAJAA1.jpg remove C:\\Users\\duphong.hua\\Documents\\phong_document\\git\\resp_test\\test_yolo\\pod\\240703EAJOR8.jpg remove C:\\Users\\duphong.hua\\Documents\\phong_document\\git\\resp_test\\test_yolo\\pod\\240703EAKFAK.jpg remove C:\\Users\\duphong.hua\\Documents\\phong_document\\git\\resp_test\\test_yolo\\pod\\240703EAO0R8.jpg remove C:\\Users\\duphong.hua\\Documents\\phong_document\\git\\resp_test\\test_yolo\\pod\\240703EAQNK5.jpg remove C:\\Users\\duphong.hua\\Documents\\phong_document\\git\\resp_test\\test_yolo\\pod\\240703EAS3YJ.jpg remove C:\\Users\\duphong.hua\\Documents\\phong_document\\git\\resp_test\\test_yolo\\pod\\240703EATRXI.jpg remove C:\\Users\\duphong.hua\\Documents\\phong_document\\git\\resp_test\\test_yolo\\pod\\240703EATV7N.jpg remove C:\\Users\\duphong.hua\\Documents\\phong_document\\git\\resp_test\\test_yolo\\pod\\240703EAU1I6.jpg remove C:\\Users\\duphong.hua\\Documents\\phong_document\\git\\resp_test\\test_yolo\\pod\\240703EAU9IK.jpg remove C:\\Users\\duphong.hua\\Documents\\phong_document\\git\\resp_test\\test_yolo\\pod\\240703EAUX2A.jpg remove C:\\Users\\duphong.hua\\Documents\\phong_document\\git\\resp_test\\test_yolo\\pod\\240703EAV4DI.jpg remove C:\\Users\\duphong.hua\\Documents\\phong_document\\git\\resp_test\\test_yolo\\pod\\240703EAWTGC.jpg remove C:\\Users\\duphong.hua\\Documents\\phong_document\\git\\resp_test\\test_yolo\\pod\\240703EAXFQE.jpg remove C:\\Users\\duphong.hua\\Documents\\phong_document\\git\\resp_test\\test_yolo\\pod\\240703EAYJ0O.jpg remove C:\\Users\\duphong.hua\\Documents\\phong_document\\git\\resp_test\\test_yolo\\pod\\240703EAYYHN.jpg remove C:\\Users\\duphong.hua\\Documents\\phong_document\\git\\resp_test\\test_yolo\\pod\\240703EAZ3KD.jpg remove C:\\Users\\duphong.hua\\Documents\\phong_document\\git\\resp_test\\test_yolo\\pod\\240703EB3QEX.jpg remove C:\\Users\\duphong.hua\\Documents\\phong_document\\git\\resp_test\\test_yolo\\pod\\240703EB42CK.jpg remove C:\\Users\\duphong.hua\\Documents\\phong_document\\git\\resp_test\\test_yolo\\pod\\240703EB4X3D.jpg remove C:\\Users\\duphong.hua\\Documents\\phong_document\\git\\resp_test\\test_yolo\\pod\\240703EB5VNC.jpg remove C:\\Users\\duphong.hua\\Documents\\phong_document\\git\\resp_test\\test_yolo\\pod\\240703EB6I19.jpg remove C:\\Users\\duphong.hua\\Documents\\phong_document\\git\\resp_test\\test_yolo\\pod\\240703EB6JX8.jpg remove C:\\Users\\duphong.hua\\Documents\\phong_document\\git\\resp_test\\test_yolo\\pod\\240703EB6PLB.jpg remove C:\\Users\\duphong.hua\\Documents\\phong_document\\git\\resp_test\\test_yolo\\pod\\240703EB92IU.jpg remove C:\\Users\\duphong.hua\\Documents\\phong_document\\git\\resp_test\\test_yolo\\pod\\240703EB9BZT.jpg remove C:\\Users\\duphong.hua\\Documents\\phong_document\\git\\resp_test\\test_yolo\\pod\\240703EB9NAS.jpg remove C:\\Users\\duphong.hua\\Documents\\phong_document\\git\\resp_test\\test_yolo\\pod\\240703EBACYK.jpg remove C:\\Users\\duphong.hua\\Documents\\phong_document\\git\\resp_test\\test_yolo\\pod\\240703EBCDVO.jpg remove C:\\Users\\duphong.hua\\Documents\\phong_document\\git\\resp_test\\test_yolo\\pod\\240703EBCFZU.jpg remove C:\\Users\\duphong.hua\\Documents\\phong_document\\git\\resp_test\\test_yolo\\pod\\240703EBCO9Q.jpg remove C:\\Users\\duphong.hua\\Documents\\phong_document\\git\\resp_test\\test_yolo\\pod\\240703EBCUT2.jpg remove C:\\Users\\duphong.hua\\Documents\\phong_document\\git\\resp_test\\test_yolo\\pod\\240703EBEEGA.jpg remove C:\\Users\\duphong.hua\\Documents\\phong_document\\git\\resp_test\\test_yolo\\pod\\240703EBJECJ.jpg remove C:\\Users\\duphong.hua\\Documents\\phong_document\\git\\resp_test\\test_yolo\\pod\\240703EBMPB3.jpg remove C:\\Users\\duphong.hua\\Documents\\phong_document\\git\\resp_test\\test_yolo\\pod\\240703EBOOWB.jpg remove C:\\Users\\duphong.hua\\Documents\\phong_document\\git\\resp_test\\test_yolo\\pod\\240703EBQPA9.jpg remove C:\\Users\\duphong.hua\\Documents\\phong_document\\git\\resp_test\\test_yolo\\pod\\240703EBRBOX.jpg remove C:\\Users\\duphong.hua\\Documents\\phong_document\\git\\resp_test\\test_yolo\\pod\\240703EBRXHI.jpg remove C:\\Users\\duphong.hua\\Documents\\phong_document\\git\\resp_test\\test_yolo\\pod\\240703EBSH8H.jpg remove C:\\Users\\duphong.hua\\Documents\\phong_document\\git\\resp_test\\test_yolo\\pod\\240703EBSQRG.jpg remove C:\\Users\\duphong.hua\\Documents\\phong_document\\git\\resp_test\\test_yolo\\pod\\240703EBTX7R.jpg remove C:\\Users\\duphong.hua\\Documents\\phong_document\\git\\resp_test\\test_yolo\\pod\\240703EBUEQ6.jpg remove C:\\Users\\duphong.hua\\Documents\\phong_document\\git\\resp_test\\test_yolo\\pod\\240703EBVCMU.jpg remove C:\\Users\\duphong.hua\\Documents\\phong_document\\git\\resp_test\\test_yolo\\pod\\240703EBXESX.jpg remove C:\\Users\\duphong.hua\\Documents\\phong_document\\git\\resp_test\\test_yolo\\pod\\240703EBYO5S.jpg remove C:\\Users\\duphong.hua\\Documents\\phong_document\\git\\resp_test\\test_yolo\\pod\\240703EC1LY5.jpg remove C:\\Users\\duphong.hua\\Documents\\phong_document\\git\\resp_test\\test_yolo\\pod\\240703EC1NJR.jpg remove C:\\Users\\duphong.hua\\Documents\\phong_document\\git\\resp_test\\test_yolo\\pod\\240703EC6IT5.jpg remove C:\\Users\\duphong.hua\\Documents\\phong_document\\git\\resp_test\\test_yolo\\pod\\240703EC7B8L.jpg remove C:\\Users\\duphong.hua\\Documents\\phong_document\\git\\resp_test\\test_yolo\\pod\\240703EC8UR3.jpg remove C:\\Users\\duphong.hua\\Documents\\phong_document\\git\\resp_test\\test_yolo\\pod\\240703EC9VQE.jpg remove C:\\Users\\duphong.hua\\Documents\\phong_document\\git\\resp_test\\test_yolo\\pod\\240703ECANHC.jpg remove C:\\Users\\duphong.hua\\Documents\\phong_document\\git\\resp_test\\test_yolo\\pod\\240703ECAQJV.jpg remove C:\\Users\\duphong.hua\\Documents\\phong_document\\git\\resp_test\\test_yolo\\pod\\240703ECB6W2.jpg remove C:\\Users\\duphong.hua\\Documents\\phong_document\\git\\resp_test\\test_yolo\\pod\\240703ECBNN6.jpg remove C:\\Users\\duphong.hua\\Documents\\phong_document\\git\\resp_test\\test_yolo\\pod\\240703ECBT99.jpg remove C:\\Users\\duphong.hua\\Documents\\phong_document\\git\\resp_test\\test_yolo\\pod\\240703ECCRRD.jpg remove C:\\Users\\duphong.hua\\Documents\\phong_document\\git\\resp_test\\test_yolo\\pod\\240703ECDSX4.jpg remove C:\\Users\\duphong.hua\\Documents\\phong_document\\git\\resp_test\\test_yolo\\pod\\240703ECEXMP.jpg remove C:\\Users\\duphong.hua\\Documents\\phong_document\\git\\resp_test\\test_yolo\\pod\\240703ECF1YT.jpg remove C:\\Users\\duphong.hua\\Documents\\phong_document\\git\\resp_test\\test_yolo\\pod\\240703ECFBSX.jpg remove C:\\Users\\duphong.hua\\Documents\\phong_document\\git\\resp_test\\test_yolo\\pod\\240703ECFJKQ.jpg remove C:\\Users\\duphong.hua\\Documents\\phong_document\\git\\resp_test\\test_yolo\\pod\\240703ECGPPE.jpg remove C:\\Users\\duphong.hua\\Documents\\phong_document\\git\\resp_test\\test_yolo\\pod\\240703ECHJU1.jpg remove C:\\Users\\duphong.hua\\Documents\\phong_document\\git\\resp_test\\test_yolo\\pod\\240703ECIH3F.jpg remove C:\\Users\\duphong.hua\\Documents\\phong_document\\git\\resp_test\\test_yolo\\pod\\240703ECJPXL.jpg remove C:\\Users\\duphong.hua\\Documents\\phong_document\\git\\resp_test\\test_yolo\\pod\\240703ECLV52.jpg remove C:\\Users\\duphong.hua\\Documents\\phong_document\\git\\resp_test\\test_yolo\\pod\\240703ECN2WG.jpg remove C:\\Users\\duphong.hua\\Documents\\phong_document\\git\\resp_test\\test_yolo\\pod\\240703ECNMIX.jpg remove C:\\Users\\duphong.hua\\Documents\\phong_document\\git\\resp_test\\test_yolo\\pod\\240703ECNXSF.jpg remove C:\\Users\\duphong.hua\\Documents\\phong_document\\git\\resp_test\\test_yolo\\pod\\240703ECODJA.jpg remove C:\\Users\\duphong.hua\\Documents\\phong_document\\git\\resp_test\\test_yolo\\pod\\240703ECPAYB.jpg remove C:\\Users\\duphong.hua\\Documents\\phong_document\\git\\resp_test\\test_yolo\\pod\\240703ECPTTN.jpg remove C:\\Users\\duphong.hua\\Documents\\phong_document\\git\\resp_test\\test_yolo\\pod\\240703ECR62F.jpg remove C:\\Users\\duphong.hua\\Documents\\phong_document\\git\\resp_test\\test_yolo\\pod\\240703ECR6SY.jpg remove C:\\Users\\duphong.hua\\Documents\\phong_document\\git\\resp_test\\test_yolo\\pod\\240703ECRESY.jpg remove C:\\Users\\duphong.hua\\Documents\\phong_document\\git\\resp_test\\test_yolo\\pod\\240703ECS0LE.jpg remove C:\\Users\\duphong.hua\\Documents\\phong_document\\git\\resp_test\\test_yolo\\pod\\240703ECTRJN.jpg remove C:\\Users\\duphong.hua\\Documents\\phong_document\\git\\resp_test\\test_yolo\\pod\\240703ECVA6F.jpg remove C:\\Users\\duphong.hua\\Documents\\phong_document\\git\\resp_test\\test_yolo\\pod\\240703ECVCEL.jpg remove C:\\Users\\duphong.hua\\Documents\\phong_document\\git\\resp_test\\test_yolo\\pod\\240703ECWLWM.jpg remove C:\\Users\\duphong.hua\\Documents\\phong_document\\git\\resp_test\\test_yolo\\pod\\240703ECX4R9.jpg remove C:\\Users\\duphong.hua\\Documents\\phong_document\\git\\resp_test\\test_yolo\\pod\\240703ECX66U.jpg remove C:\\Users\\duphong.hua\\Documents\\phong_document\\git\\resp_test\\test_yolo\\pod\\240703ECXE17.jpg remove C:\\Users\\duphong.hua\\Documents\\phong_document\\git\\resp_test\\test_yolo\\pod\\240703ECXO8O.jpg remove C:\\Users\\duphong.hua\\Documents\\phong_document\\git\\resp_test\\test_yolo\\pod\\240703ECY6P7.jpg remove C:\\Users\\duphong.hua\\Documents\\phong_document\\git\\resp_test\\test_yolo\\pod\\240703ECY85N.jpg remove C:\\Users\\duphong.hua\\Documents\\phong_document\\git\\resp_test\\test_yolo\\pod\\240703ECYIOJ.jpg remove C:\\Users\\duphong.hua\\Documents\\phong_document\\git\\resp_test\\test_yolo\\pod\\240703ECZMO4.jpg remove C:\\Users\\duphong.hua\\Documents\\phong_document\\git\\resp_test\\test_yolo\\pod\\240703ED03LZ.jpg remove C:\\Users\\duphong.hua\\Documents\\phong_document\\git\\resp_test\\test_yolo\\pod\\240703ED2MJ9.jpg remove C:\\Users\\duphong.hua\\Documents\\phong_document\\git\\resp_test\\test_yolo\\pod\\240703ED480Y.jpg remove C:\\Users\\duphong.hua\\Documents\\phong_document\\git\\resp_test\\test_yolo\\pod\\240703ED5BQU.jpg remove C:\\Users\\duphong.hua\\Documents\\phong_document\\git\\resp_test\\test_yolo\\pod\\240703ED6G6R.jpg remove C:\\Users\\duphong.hua\\Documents\\phong_document\\git\\resp_test\\test_yolo\\pod\\240703ED6PAW.jpg remove C:\\Users\\duphong.hua\\Documents\\phong_document\\git\\resp_test\\test_yolo\\pod\\240703ED76CU.jpg remove C:\\Users\\duphong.hua\\Documents\\phong_document\\git\\resp_test\\test_yolo\\pod\\240703ED8157.jpg remove C:\\Users\\duphong.hua\\Documents\\phong_document\\git\\resp_test\\test_yolo\\pod\\240703ED8X7Z.jpg remove C:\\Users\\duphong.hua\\Documents\\phong_document\\git\\resp_test\\test_yolo\\pod\\240703ED96HX.jpg remove C:\\Users\\duphong.hua\\Documents\\phong_document\\git\\resp_test\\test_yolo\\pod\\240703ED9S7K.jpg remove C:\\Users\\duphong.hua\\Documents\\phong_document\\git\\resp_test\\test_yolo\\pod\\240703EDCX4Y.jpg remove C:\\Users\\duphong.hua\\Documents\\phong_document\\git\\resp_test\\test_yolo\\pod\\240703EDD3EN.jpg remove C:\\Users\\duphong.hua\\Documents\\phong_document\\git\\resp_test\\test_yolo\\pod\\240703EDE9Z8.jpg remove C:\\Users\\duphong.hua\\Documents\\phong_document\\git\\resp_test\\test_yolo\\pod\\240703EDET1Y.jpg remove C:\\Users\\duphong.hua\\Documents\\phong_document\\git\\resp_test\\test_yolo\\pod\\240703EDF4LT.jpg remove C:\\Users\\duphong.hua\\Documents\\phong_document\\git\\resp_test\\test_yolo\\pod\\240703EDFCY3.jpg remove C:\\Users\\duphong.hua\\Documents\\phong_document\\git\\resp_test\\test_yolo\\pod\\240703EDGBOU.jpg remove C:\\Users\\duphong.hua\\Documents\\phong_document\\git\\resp_test\\test_yolo\\pod\\240703EDHNYI.jpg remove C:\\Users\\duphong.hua\\Documents\\phong_document\\git\\resp_test\\test_yolo\\pod\\240703EDIFGD.jpg remove C:\\Users\\duphong.hua\\Documents\\phong_document\\git\\resp_test\\test_yolo\\pod\\240703EDIUXI.jpg remove C:\\Users\\duphong.hua\\Documents\\phong_document\\git\\resp_test\\test_yolo\\pod\\240703EDJHQV.jpg remove C:\\Users\\duphong.hua\\Documents\\phong_document\\git\\resp_test\\test_yolo\\pod\\240703EDJR90.jpg remove C:\\Users\\duphong.hua\\Documents\\phong_document\\git\\resp_test\\test_yolo\\pod\\240703EDKRGD.jpg remove C:\\Users\\duphong.hua\\Documents\\phong_document\\git\\resp_test\\test_yolo\\pod\\240703EDLTLK.jpg remove C:\\Users\\duphong.hua\\Documents\\phong_document\\git\\resp_test\\test_yolo\\pod\\240703EDLU9E.jpg remove C:\\Users\\duphong.hua\\Documents\\phong_document\\git\\resp_test\\test_yolo\\pod\\240703EDM85C.jpg remove C:\\Users\\duphong.hua\\Documents\\phong_document\\git\\resp_test\\test_yolo\\pod\\240703EDMNTZ.jpg remove C:\\Users\\duphong.hua\\Documents\\phong_document\\git\\resp_test\\test_yolo\\pod\\240703EDMQSX.jpg remove C:\\Users\\duphong.hua\\Documents\\phong_document\\git\\resp_test\\test_yolo\\pod\\240703EDMT4X.jpg remove C:\\Users\\duphong.hua\\Documents\\phong_document\\git\\resp_test\\test_yolo\\pod\\240703EDNY9G.jpg remove C:\\Users\\duphong.hua\\Documents\\phong_document\\git\\resp_test\\test_yolo\\pod\\240703EDNYT0.jpg remove C:\\Users\\duphong.hua\\Documents\\phong_document\\git\\resp_test\\test_yolo\\pod\\240703EDONXI.jpg remove C:\\Users\\duphong.hua\\Documents\\phong_document\\git\\resp_test\\test_yolo\\pod\\240703EDOSYZ.jpg remove C:\\Users\\duphong.hua\\Documents\\phong_document\\git\\resp_test\\test_yolo\\pod\\240703EDP7NP.jpg remove C:\\Users\\duphong.hua\\Documents\\phong_document\\git\\resp_test\\test_yolo\\pod\\240703EDQDGZ.jpg remove C:\\Users\\duphong.hua\\Documents\\phong_document\\git\\resp_test\\test_yolo\\pod\\240703EDRFO2.jpg remove C:\\Users\\duphong.hua\\Documents\\phong_document\\git\\resp_test\\test_yolo\\pod\\240703EDRRFW.jpg remove C:\\Users\\duphong.hua\\Documents\\phong_document\\git\\resp_test\\test_yolo\\pod\\240703EDRSXL.jpg remove C:\\Users\\duphong.hua\\Documents\\phong_document\\git\\resp_test\\test_yolo\\pod\\240703EDS8MQ.jpg remove C:\\Users\\duphong.hua\\Documents\\phong_document\\git\\resp_test\\test_yolo\\pod\\240703EDSFVJ.jpg remove C:\\Users\\duphong.hua\\Documents\\phong_document\\git\\resp_test\\test_yolo\\pod\\240703EDSXQ2.jpg remove C:\\Users\\duphong.hua\\Documents\\phong_document\\git\\resp_test\\test_yolo\\pod\\240703EDT05R.jpg remove C:\\Users\\duphong.hua\\Documents\\phong_document\\git\\resp_test\\test_yolo\\pod\\240703EDT06M.jpg remove C:\\Users\\duphong.hua\\Documents\\phong_document\\git\\resp_test\\test_yolo\\pod\\240703EDUEUU.jpg remove C:\\Users\\duphong.hua\\Documents\\phong_document\\git\\resp_test\\test_yolo\\pod\\240703EDULLT.jpg remove C:\\Users\\duphong.hua\\Documents\\phong_document\\git\\resp_test\\test_yolo\\pod\\240703EDULTF.jpg remove C:\\Users\\duphong.hua\\Documents\\phong_document\\git\\resp_test\\test_yolo\\pod\\240703EDV1YD.jpg remove C:\\Users\\duphong.hua\\Documents\\phong_document\\git\\resp_test\\test_yolo\\pod\\240703EDVNGW.jpg remove C:\\Users\\duphong.hua\\Documents\\phong_document\\git\\resp_test\\test_yolo\\pod\\240703EDW35V.jpg remove C:\\Users\\duphong.hua\\Documents\\phong_document\\git\\resp_test\\test_yolo\\pod\\240703EDWHZ8.jpg remove C:\\Users\\duphong.hua\\Documents\\phong_document\\git\\resp_test\\test_yolo\\pod\\240703EDWZU8.jpg remove C:\\Users\\duphong.hua\\Documents\\phong_document\\git\\resp_test\\test_yolo\\pod\\240703EDX5ZA.jpg remove C:\\Users\\duphong.hua\\Documents\\phong_document\\git\\resp_test\\test_yolo\\pod\\240703EDXPEZ.jpg remove C:\\Users\\duphong.hua\\Documents\\phong_document\\git\\resp_test\\test_yolo\\pod\\240703EDY643.jpg remove C:\\Users\\duphong.hua\\Documents\\phong_document\\git\\resp_test\\test_yolo\\pod\\240703EDY9E3.jpg remove C:\\Users\\duphong.hua\\Documents\\phong_document\\git\\resp_test\\test_yolo\\pod\\240703EDZ1S8.jpg remove C:\\Users\\duphong.hua\\Documents\\phong_document\\git\\resp_test\\test_yolo\\pod\\240703EDZE4C.jpg remove C:\\Users\\duphong.hua\\Documents\\phong_document\\git\\resp_test\\test_yolo\\pod\\240703EE2DL4.jpg remove C:\\Users\\duphong.hua\\Documents\\phong_document\\git\\resp_test\\test_yolo\\pod\\240703EE2PH2.jpg remove C:\\Users\\duphong.hua\\Documents\\phong_document\\git\\resp_test\\test_yolo\\pod\\240703EE3EKG.jpg remove C:\\Users\\duphong.hua\\Documents\\phong_document\\git\\resp_test\\test_yolo\\pod\\240703EE41LF.jpg remove C:\\Users\\duphong.hua\\Documents\\phong_document\\git\\resp_test\\test_yolo\\pod\\240703EE4LUY.jpg remove C:\\Users\\duphong.hua\\Documents\\phong_document\\git\\resp_test\\test_yolo\\pod\\240703EE4T2F.jpg remove C:\\Users\\duphong.hua\\Documents\\phong_document\\git\\resp_test\\test_yolo\\pod\\240703EE568B.jpg remove C:\\Users\\duphong.hua\\Documents\\phong_document\\git\\resp_test\\test_yolo\\pod\\240703EE6QQK.jpg remove C:\\Users\\duphong.hua\\Documents\\phong_document\\git\\resp_test\\test_yolo\\pod\\240703EE6YFN.jpg remove C:\\Users\\duphong.hua\\Documents\\phong_document\\git\\resp_test\\test_yolo\\pod\\240703EE78SM.jpg remove C:\\Users\\duphong.hua\\Documents\\phong_document\\git\\resp_test\\test_yolo\\pod\\240703EE78XH.jpg remove C:\\Users\\duphong.hua\\Documents\\phong_document\\git\\resp_test\\test_yolo\\pod\\240703EE7BJA.jpg remove C:\\Users\\duphong.hua\\Documents\\phong_document\\git\\resp_test\\test_yolo\\pod\\240703EE7GE3.jpg remove C:\\Users\\duphong.hua\\Documents\\phong_document\\git\\resp_test\\test_yolo\\pod\\240703EE8JOE.jpg remove C:\\Users\\duphong.hua\\Documents\\phong_document\\git\\resp_test\\test_yolo\\pod\\240703EE9VY7.jpg remove C:\\Users\\duphong.hua\\Documents\\phong_document\\git\\resp_test\\test_yolo\\pod\\240703EEA1Z6.jpg remove C:\\Users\\duphong.hua\\Documents\\phong_document\\git\\resp_test\\test_yolo\\pod\\240703EEAEA8.jpg remove C:\\Users\\duphong.hua\\Documents\\phong_document\\git\\resp_test\\test_yolo\\pod\\240703EEBF0H.jpg remove C:\\Users\\duphong.hua\\Documents\\phong_document\\git\\resp_test\\test_yolo\\pod\\240703EEBIF6.jpg remove C:\\Users\\duphong.hua\\Documents\\phong_document\\git\\resp_test\\test_yolo\\pod\\240703EEDRNQ.jpg remove C:\\Users\\duphong.hua\\Documents\\phong_document\\git\\resp_test\\test_yolo\\pod\\240703EEEDWE.jpg remove C:\\Users\\duphong.hua\\Documents\\phong_document\\git\\resp_test\\test_yolo\\pod\\240703EEEIXK.jpg remove C:\\Users\\duphong.hua\\Documents\\phong_document\\git\\resp_test\\test_yolo\\pod\\240703EEEKVN.jpg remove C:\\Users\\duphong.hua\\Documents\\phong_document\\git\\resp_test\\test_yolo\\pod\\240703EEF8YG.jpg remove C:\\Users\\duphong.hua\\Documents\\phong_document\\git\\resp_test\\test_yolo\\pod\\240703EEHH0S.jpg remove C:\\Users\\duphong.hua\\Documents\\phong_document\\git\\resp_test\\test_yolo\\pod\\240703EEI9M2.jpg remove C:\\Users\\duphong.hua\\Documents\\phong_document\\git\\resp_test\\test_yolo\\pod\\240703EEIISP.jpg remove C:\\Users\\duphong.hua\\Documents\\phong_document\\git\\resp_test\\test_yolo\\pod\\240703EEJAG3.jpg remove C:\\Users\\duphong.hua\\Documents\\phong_document\\git\\resp_test\\test_yolo\\pod\\240703EEJTU2.jpg remove C:\\Users\\duphong.hua\\Documents\\phong_document\\git\\resp_test\\test_yolo\\pod\\240703EEKE3P.jpg remove C:\\Users\\duphong.hua\\Documents\\phong_document\\git\\resp_test\\test_yolo\\pod\\240703EEKJNB.jpg remove C:\\Users\\duphong.hua\\Documents\\phong_document\\git\\resp_test\\test_yolo\\pod\\240703EELH1A.jpg remove C:\\Users\\duphong.hua\\Documents\\phong_document\\git\\resp_test\\test_yolo\\pod\\240703EELVN7.jpg remove C:\\Users\\duphong.hua\\Documents\\phong_document\\git\\resp_test\\test_yolo\\pod\\240703EEMJDZ.jpg remove C:\\Users\\duphong.hua\\Documents\\phong_document\\git\\resp_test\\test_yolo\\pod\\240703EEN2QE.jpg remove C:\\Users\\duphong.hua\\Documents\\phong_document\\git\\resp_test\\test_yolo\\pod\\240703EENNEC.jpg remove C:\\Users\\duphong.hua\\Documents\\phong_document\\git\\resp_test\\test_yolo\\pod\\240703EENQ6P.jpg remove C:\\Users\\duphong.hua\\Documents\\phong_document\\git\\resp_test\\test_yolo\\pod\\240703EEP3BP.jpg remove C:\\Users\\duphong.hua\\Documents\\phong_document\\git\\resp_test\\test_yolo\\pod\\240703EEPDJH.jpg remove C:\\Users\\duphong.hua\\Documents\\phong_document\\git\\resp_test\\test_yolo\\pod\\240703EEQR43.jpg remove C:\\Users\\duphong.hua\\Documents\\phong_document\\git\\resp_test\\test_yolo\\pod\\240703EEQY5G.jpg remove C:\\Users\\duphong.hua\\Documents\\phong_document\\git\\resp_test\\test_yolo\\pod\\240703EERHSO.jpg remove C:\\Users\\duphong.hua\\Documents\\phong_document\\git\\resp_test\\test_yolo\\pod\\240703EES6XG.jpg remove C:\\Users\\duphong.hua\\Documents\\phong_document\\git\\resp_test\\test_yolo\\pod\\240703EEU6X4.jpg remove C:\\Users\\duphong.hua\\Documents\\phong_document\\git\\resp_test\\test_yolo\\pod\\240703EEUGAZ.jpg remove C:\\Users\\duphong.hua\\Documents\\phong_document\\git\\resp_test\\test_yolo\\pod\\240703EEUSM5.jpg remove C:\\Users\\duphong.hua\\Documents\\phong_document\\git\\resp_test\\test_yolo\\pod\\240703EEUVQH.jpg remove C:\\Users\\duphong.hua\\Documents\\phong_document\\git\\resp_test\\test_yolo\\pod\\240703EEVDSV.jpg remove C:\\Users\\duphong.hua\\Documents\\phong_document\\git\\resp_test\\test_yolo\\pod\\240703EEVYRV.jpg remove C:\\Users\\duphong.hua\\Documents\\phong_document\\git\\resp_test\\test_yolo\\pod\\240703EEVZK0.jpg remove C:\\Users\\duphong.hua\\Documents\\phong_document\\git\\resp_test\\test_yolo\\pod\\240703EEWBOH.jpg remove C:\\Users\\duphong.hua\\Documents\\phong_document\\git\\resp_test\\test_yolo\\pod\\240703EEWEPY.jpg remove C:\\Users\\duphong.hua\\Documents\\phong_document\\git\\resp_test\\test_yolo\\pod\\240703EEXJOG.jpg remove C:\\Users\\duphong.hua\\Documents\\phong_document\\git\\resp_test\\test_yolo\\pod\\240703EEZ6IG.jpg remove C:\\Users\\duphong.hua\\Documents\\phong_document\\git\\resp_test\\test_yolo\\pod\\240703EF0939.jpg remove C:\\Users\\duphong.hua\\Documents\\phong_document\\git\\resp_test\\test_yolo\\pod\\240703EF0FY5.jpg remove C:\\Users\\duphong.hua\\Documents\\phong_document\\git\\resp_test\\test_yolo\\pod\\240703EF0IMS.jpg remove C:\\Users\\duphong.hua\\Documents\\phong_document\\git\\resp_test\\test_yolo\\pod\\240703EF2OJT.jpg remove C:\\Users\\duphong.hua\\Documents\\phong_document\\git\\resp_test\\test_yolo\\pod\\240703EF3BFS.jpg remove C:\\Users\\duphong.hua\\Documents\\phong_document\\git\\resp_test\\test_yolo\\pod\\240703EF41VS.jpg remove C:\\Users\\duphong.hua\\Documents\\phong_document\\git\\resp_test\\test_yolo\\pod\\240703EF4DFU.jpg remove C:\\Users\\duphong.hua\\Documents\\phong_document\\git\\resp_test\\test_yolo\\pod\\240703EF4KU3.jpg remove C:\\Users\\duphong.hua\\Documents\\phong_document\\git\\resp_test\\test_yolo\\pod\\240703EF4QED.jpg remove C:\\Users\\duphong.hua\\Documents\\phong_document\\git\\resp_test\\test_yolo\\pod\\240703EF59Q6.jpg remove C:\\Users\\duphong.hua\\Documents\\phong_document\\git\\resp_test\\test_yolo\\pod\\240703EF59SE.jpg remove C:\\Users\\duphong.hua\\Documents\\phong_document\\git\\resp_test\\test_yolo\\pod\\240703EF5JN9.jpg remove C:\\Users\\duphong.hua\\Documents\\phong_document\\git\\resp_test\\test_yolo\\pod\\240703EF617G.jpg remove C:\\Users\\duphong.hua\\Documents\\phong_document\\git\\resp_test\\test_yolo\\pod\\240703EF67TB.jpg remove C:\\Users\\duphong.hua\\Documents\\phong_document\\git\\resp_test\\test_yolo\\pod\\240703EF6DH2.jpg remove C:\\Users\\duphong.hua\\Documents\\phong_document\\git\\resp_test\\test_yolo\\pod\\240703EF8OVQ.jpg remove C:\\Users\\duphong.hua\\Documents\\phong_document\\git\\resp_test\\test_yolo\\pod\\240703EF8ZFC.jpg remove C:\\Users\\duphong.hua\\Documents\\phong_document\\git\\resp_test\\test_yolo\\pod\\240703EF91ZQ.jpg remove C:\\Users\\duphong.hua\\Documents\\phong_document\\git\\resp_test\\test_yolo\\pod\\240703EF9607.jpg remove C:\\Users\\duphong.hua\\Documents\\phong_document\\git\\resp_test\\test_yolo\\pod\\240703EFAJHN.jpg remove C:\\Users\\duphong.hua\\Documents\\phong_document\\git\\resp_test\\test_yolo\\pod\\240703EFDDXY.jpg remove C:\\Users\\duphong.hua\\Documents\\phong_document\\git\\resp_test\\test_yolo\\pod\\240703EFDF0A.jpg remove C:\\Users\\duphong.hua\\Documents\\phong_document\\git\\resp_test\\test_yolo\\pod\\240703EFECWY.jpg remove C:\\Users\\duphong.hua\\Documents\\phong_document\\git\\resp_test\\test_yolo\\pod\\240703EFF0RN.jpg remove C:\\Users\\duphong.hua\\Documents\\phong_document\\git\\resp_test\\test_yolo\\pod\\240703EFFI8E.jpg remove C:\\Users\\duphong.hua\\Documents\\phong_document\\git\\resp_test\\test_yolo\\pod\\240703EFGK09.jpg remove C:\\Users\\duphong.hua\\Documents\\phong_document\\git\\resp_test\\test_yolo\\pod\\240703EFH3DF.jpg remove C:\\Users\\duphong.hua\\Documents\\phong_document\\git\\resp_test\\test_yolo\\pod\\240703EFI107.jpg remove C:\\Users\\duphong.hua\\Documents\\phong_document\\git\\resp_test\\test_yolo\\pod\\240703EFIDD8.jpg remove C:\\Users\\duphong.hua\\Documents\\phong_document\\git\\resp_test\\test_yolo\\pod\\240703EFIUS1.jpg remove C:\\Users\\duphong.hua\\Documents\\phong_document\\git\\resp_test\\test_yolo\\pod\\240703EFJF72.jpg remove C:\\Users\\duphong.hua\\Documents\\phong_document\\git\\resp_test\\test_yolo\\pod\\240703EFKB3R.jpg remove C:\\Users\\duphong.hua\\Documents\\phong_document\\git\\resp_test\\test_yolo\\pod\\240703EFKGHO.jpg remove C:\\Users\\duphong.hua\\Documents\\phong_document\\git\\resp_test\\test_yolo\\pod\\240703EFKP9H.jpg remove C:\\Users\\duphong.hua\\Documents\\phong_document\\git\\resp_test\\test_yolo\\pod\\240703EFKYA0.jpg remove C:\\Users\\duphong.hua\\Documents\\phong_document\\git\\resp_test\\test_yolo\\pod\\240703EFL75W.jpg remove C:\\Users\\duphong.hua\\Documents\\phong_document\\git\\resp_test\\test_yolo\\pod\\240703EFL88K.jpg remove C:\\Users\\duphong.hua\\Documents\\phong_document\\git\\resp_test\\test_yolo\\pod\\240703EFLYLM.jpg remove C:\\Users\\duphong.hua\\Documents\\phong_document\\git\\resp_test\\test_yolo\\pod\\240703EFM80W.jpg remove C:\\Users\\duphong.hua\\Documents\\phong_document\\git\\resp_test\\test_yolo\\pod\\240703EFMG3P.jpg remove C:\\Users\\duphong.hua\\Documents\\phong_document\\git\\resp_test\\test_yolo\\pod\\240703EFN1SB.jpg remove C:\\Users\\duphong.hua\\Documents\\phong_document\\git\\resp_test\\test_yolo\\pod\\240703EFN8OD.jpg remove C:\\Users\\duphong.hua\\Documents\\phong_document\\git\\resp_test\\test_yolo\\pod\\240703EFNQF0.jpg remove C:\\Users\\duphong.hua\\Documents\\phong_document\\git\\resp_test\\test_yolo\\pod\\240703EFNYP4.jpg remove C:\\Users\\duphong.hua\\Documents\\phong_document\\git\\resp_test\\test_yolo\\pod\\240703EFPJWV.jpg remove C:\\Users\\duphong.hua\\Documents\\phong_document\\git\\resp_test\\test_yolo\\pod\\240703EFQ2PI.jpg remove C:\\Users\\duphong.hua\\Documents\\phong_document\\git\\resp_test\\test_yolo\\pod\\240703EFRJJU.jpg remove C:\\Users\\duphong.hua\\Documents\\phong_document\\git\\resp_test\\test_yolo\\pod\\240703EFRZBX.jpg remove C:\\Users\\duphong.hua\\Documents\\phong_document\\git\\resp_test\\test_yolo\\pod\\240703EFU0Y9.jpg remove C:\\Users\\duphong.hua\\Documents\\phong_document\\git\\resp_test\\test_yolo\\pod\\240703EFU1S5.jpg remove C:\\Users\\duphong.hua\\Documents\\phong_document\\git\\resp_test\\test_yolo\\pod\\240703EFU4FS.jpg remove C:\\Users\\duphong.hua\\Documents\\phong_document\\git\\resp_test\\test_yolo\\pod\\240703EFU5UN.jpg remove C:\\Users\\duphong.hua\\Documents\\phong_document\\git\\resp_test\\test_yolo\\pod\\240703EFUALJ.jpg remove C:\\Users\\duphong.hua\\Documents\\phong_document\\git\\resp_test\\test_yolo\\pod\\240703EFUMEW.jpg remove C:\\Users\\duphong.hua\\Documents\\phong_document\\git\\resp_test\\test_yolo\\pod\\240703EFV7UJ.jpg remove C:\\Users\\duphong.hua\\Documents\\phong_document\\git\\resp_test\\test_yolo\\pod\\240703EFVVZ2.jpg remove C:\\Users\\duphong.hua\\Documents\\phong_document\\git\\resp_test\\test_yolo\\pod\\240703EFWA8S.jpg remove C:\\Users\\duphong.hua\\Documents\\phong_document\\git\\resp_test\\test_yolo\\pod\\240703EFY52U.jpg remove C:\\Users\\duphong.hua\\Documents\\phong_document\\git\\resp_test\\test_yolo\\pod\\240703EFYBF3.jpg remove C:\\Users\\duphong.hua\\Documents\\phong_document\\git\\resp_test\\test_yolo\\pod\\240703EFZJ18.jpg remove C:\\Users\\duphong.hua\\Documents\\phong_document\\git\\resp_test\\test_yolo\\pod\\240703EFZTDM.jpg remove C:\\Users\\duphong.hua\\Documents\\phong_document\\git\\resp_test\\test_yolo\\pod\\240703EG07RV.jpg remove C:\\Users\\duphong.hua\\Documents\\phong_document\\git\\resp_test\\test_yolo\\pod\\240703EG0BJ4.jpg remove C:\\Users\\duphong.hua\\Documents\\phong_document\\git\\resp_test\\test_yolo\\pod\\240703EG1FKS.jpg remove C:\\Users\\duphong.hua\\Documents\\phong_document\\git\\resp_test\\test_yolo\\pod\\240703EG1GHJ.jpg remove C:\\Users\\duphong.hua\\Documents\\phong_document\\git\\resp_test\\test_yolo\\pod\\240703EG343G.jpg remove C:\\Users\\duphong.hua\\Documents\\phong_document\\git\\resp_test\\test_yolo\\pod\\240703EG36MR.jpg remove C:\\Users\\duphong.hua\\Documents\\phong_document\\git\\resp_test\\test_yolo\\pod\\240703EG36NB.jpg remove C:\\Users\\duphong.hua\\Documents\\phong_document\\git\\resp_test\\test_yolo\\pod\\240703EG36YW.jpg remove C:\\Users\\duphong.hua\\Documents\\phong_document\\git\\resp_test\\test_yolo\\pod\\240703EG3IQZ.jpg remove C:\\Users\\duphong.hua\\Documents\\phong_document\\git\\resp_test\\test_yolo\\pod\\240703EG3XJQ.jpg remove C:\\Users\\duphong.hua\\Documents\\phong_document\\git\\resp_test\\test_yolo\\pod\\240703EG4GFP.jpg remove C:\\Users\\duphong.hua\\Documents\\phong_document\\git\\resp_test\\test_yolo\\pod\\240703EG6QYM.jpg remove C:\\Users\\duphong.hua\\Documents\\phong_document\\git\\resp_test\\test_yolo\\pod\\240703EG7RGZ.jpg remove C:\\Users\\duphong.hua\\Documents\\phong_document\\git\\resp_test\\test_yolo\\pod\\240703EG8MYR.jpg remove C:\\Users\\duphong.hua\\Documents\\phong_document\\git\\resp_test\\test_yolo\\pod\\240703EG9CGE.jpg remove C:\\Users\\duphong.hua\\Documents\\phong_document\\git\\resp_test\\test_yolo\\pod\\240703EG9DZS.jpg remove C:\\Users\\duphong.hua\\Documents\\phong_document\\git\\resp_test\\test_yolo\\pod\\240703EG9I4G.jpg remove C:\\Users\\duphong.hua\\Documents\\phong_document\\git\\resp_test\\test_yolo\\pod\\240703EGA510.jpg remove C:\\Users\\duphong.hua\\Documents\\phong_document\\git\\resp_test\\test_yolo\\pod\\240703EGAXBK.jpg remove C:\\Users\\duphong.hua\\Documents\\phong_document\\git\\resp_test\\test_yolo\\pod\\240703EGBFIN.jpg remove C:\\Users\\duphong.hua\\Documents\\phong_document\\git\\resp_test\\test_yolo\\pod\\240703EGBJIT.jpg remove C:\\Users\\duphong.hua\\Documents\\phong_document\\git\\resp_test\\test_yolo\\pod\\240703EGBORX.jpg remove C:\\Users\\duphong.hua\\Documents\\phong_document\\git\\resp_test\\test_yolo\\pod\\240703EGBPAU.jpg remove C:\\Users\\duphong.hua\\Documents\\phong_document\\git\\resp_test\\test_yolo\\pod\\240703EGC6XU.jpg remove C:\\Users\\duphong.hua\\Documents\\phong_document\\git\\resp_test\\test_yolo\\pod\\240703EGCPP3.jpg remove C:\\Users\\duphong.hua\\Documents\\phong_document\\git\\resp_test\\test_yolo\\pod\\240703EGCYG5.jpg remove C:\\Users\\duphong.hua\\Documents\\phong_document\\git\\resp_test\\test_yolo\\pod\\240703EGDCMR.jpg remove C:\\Users\\duphong.hua\\Documents\\phong_document\\git\\resp_test\\test_yolo\\pod\\240703EGEF9G.jpg remove C:\\Users\\duphong.hua\\Documents\\phong_document\\git\\resp_test\\test_yolo\\pod\\240703EGGUYG.jpg remove C:\\Users\\duphong.hua\\Documents\\phong_document\\git\\resp_test\\test_yolo\\pod\\240703EGHF8Y.jpg remove C:\\Users\\duphong.hua\\Documents\\phong_document\\git\\resp_test\\test_yolo\\pod\\240703EGKBKP.jpg remove C:\\Users\\duphong.hua\\Documents\\phong_document\\git\\resp_test\\test_yolo\\pod\\240703EGKC0X.jpg remove C:\\Users\\duphong.hua\\Documents\\phong_document\\git\\resp_test\\test_yolo\\pod\\240703EGKTRZ.jpg remove C:\\Users\\duphong.hua\\Documents\\phong_document\\git\\resp_test\\test_yolo\\pod\\240703EGKVRF.jpg remove C:\\Users\\duphong.hua\\Documents\\phong_document\\git\\resp_test\\test_yolo\\pod\\240703EGL53I.jpg remove C:\\Users\\duphong.hua\\Documents\\phong_document\\git\\resp_test\\test_yolo\\pod\\240703EGM7OI.jpg remove C:\\Users\\duphong.hua\\Documents\\phong_document\\git\\resp_test\\test_yolo\\pod\\240703EGMC9C.jpg remove C:\\Users\\duphong.hua\\Documents\\phong_document\\git\\resp_test\\test_yolo\\pod\\240703EGN96J.jpg remove C:\\Users\\duphong.hua\\Documents\\phong_document\\git\\resp_test\\test_yolo\\pod\\240703EGNASW.jpg remove C:\\Users\\duphong.hua\\Documents\\phong_document\\git\\resp_test\\test_yolo\\pod\\240703EGP90F.jpg remove C:\\Users\\duphong.hua\\Documents\\phong_document\\git\\resp_test\\test_yolo\\pod\\240703EGPCRH.jpg remove C:\\Users\\duphong.hua\\Documents\\phong_document\\git\\resp_test\\test_yolo\\pod\\240703EGPXFJ.jpg remove C:\\Users\\duphong.hua\\Documents\\phong_document\\git\\resp_test\\test_yolo\\pod\\240703EGRAOD.jpg remove C:\\Users\\duphong.hua\\Documents\\phong_document\\git\\resp_test\\test_yolo\\pod\\240703EGROKN.jpg remove C:\\Users\\duphong.hua\\Documents\\phong_document\\git\\resp_test\\test_yolo\\pod\\240703EGT7WV.jpg remove C:\\Users\\duphong.hua\\Documents\\phong_document\\git\\resp_test\\test_yolo\\pod\\240703EGTUFZ.jpg remove C:\\Users\\duphong.hua\\Documents\\phong_document\\git\\resp_test\\test_yolo\\pod\\240703EGUZNG.jpg remove C:\\Users\\duphong.hua\\Documents\\phong_document\\git\\resp_test\\test_yolo\\pod\\240703EGWRBB.jpg remove C:\\Users\\duphong.hua\\Documents\\phong_document\\git\\resp_test\\test_yolo\\pod\\240703EGXO7N.jpg remove C:\\Users\\duphong.hua\\Documents\\phong_document\\git\\resp_test\\test_yolo\\pod\\240703EGYA11.jpg remove C:\\Users\\duphong.hua\\Documents\\phong_document\\git\\resp_test\\test_yolo\\pod\\240703EGYFVC.jpg remove C:\\Users\\duphong.hua\\Documents\\phong_document\\git\\resp_test\\test_yolo\\pod\\240703EGZMX0.jpg remove C:\\Users\\duphong.hua\\Documents\\phong_document\\git\\resp_test\\test_yolo\\pod\\240703EGZTBG.jpg remove C:\\Users\\duphong.hua\\Documents\\phong_document\\git\\resp_test\\test_yolo\\pod\\240703EH0ENK.jpg remove C:\\Users\\duphong.hua\\Documents\\phong_document\\git\\resp_test\\test_yolo\\pod\\240703EH0HAQ.jpg remove C:\\Users\\duphong.hua\\Documents\\phong_document\\git\\resp_test\\test_yolo\\pod\\240703EH1MMH.jpg remove C:\\Users\\duphong.hua\\Documents\\phong_document\\git\\resp_test\\test_yolo\\pod\\240703EH270P.jpg remove C:\\Users\\duphong.hua\\Documents\\phong_document\\git\\resp_test\\test_yolo\\pod\\240703EH283R.jpg remove C:\\Users\\duphong.hua\\Documents\\phong_document\\git\\resp_test\\test_yolo\\pod\\240703EH3C23.jpg remove C:\\Users\\duphong.hua\\Documents\\phong_document\\git\\resp_test\\test_yolo\\pod\\240703EH4A1P.jpg remove C:\\Users\\duphong.hua\\Documents\\phong_document\\git\\resp_test\\test_yolo\\pod\\240703EH4N0U.jpg remove C:\\Users\\duphong.hua\\Documents\\phong_document\\git\\resp_test\\test_yolo\\pod\\240703EH6XDX.jpg remove C:\\Users\\duphong.hua\\Documents\\phong_document\\git\\resp_test\\test_yolo\\pod\\240703EH72RH.jpg remove C:\\Users\\duphong.hua\\Documents\\phong_document\\git\\resp_test\\test_yolo\\pod\\240703EH7BMR.jpg remove C:\\Users\\duphong.hua\\Documents\\phong_document\\git\\resp_test\\test_yolo\\pod\\240703EH7EQC.jpg remove C:\\Users\\duphong.hua\\Documents\\phong_document\\git\\resp_test\\test_yolo\\pod\\240703EH7SUT.jpg remove C:\\Users\\duphong.hua\\Documents\\phong_document\\git\\resp_test\\test_yolo\\pod\\240703EH9PUV.jpg remove C:\\Users\\duphong.hua\\Documents\\phong_document\\git\\resp_test\\test_yolo\\pod\\240703EH9XYX.jpg remove C:\\Users\\duphong.hua\\Documents\\phong_document\\git\\resp_test\\test_yolo\\pod\\240703EHATIA.jpg remove C:\\Users\\duphong.hua\\Documents\\phong_document\\git\\resp_test\\test_yolo\\pod\\240703EHB2B4.jpg remove C:\\Users\\duphong.hua\\Documents\\phong_document\\git\\resp_test\\test_yolo\\pod\\240703EHCHUW.jpg remove C:\\Users\\duphong.hua\\Documents\\phong_document\\git\\resp_test\\test_yolo\\pod\\240703EHD0OH.jpg remove C:\\Users\\duphong.hua\\Documents\\phong_document\\git\\resp_test\\test_yolo\\pod\\240703EHDN65.jpg remove C:\\Users\\duphong.hua\\Documents\\phong_document\\git\\resp_test\\test_yolo\\pod\\240703EHEPYF.jpg remove C:\\Users\\duphong.hua\\Documents\\phong_document\\git\\resp_test\\test_yolo\\pod\\240703EHEZJP.jpg remove C:\\Users\\duphong.hua\\Documents\\phong_document\\git\\resp_test\\test_yolo\\pod\\240703EHF50W.jpg remove C:\\Users\\duphong.hua\\Documents\\phong_document\\git\\resp_test\\test_yolo\\pod\\240703EHF64I.jpg remove C:\\Users\\duphong.hua\\Documents\\phong_document\\git\\resp_test\\test_yolo\\pod\\240703EHFAJ7.jpg remove C:\\Users\\duphong.hua\\Documents\\phong_document\\git\\resp_test\\test_yolo\\pod\\240703EHG639.jpg remove C:\\Users\\duphong.hua\\Documents\\phong_document\\git\\resp_test\\test_yolo\\pod\\240703EHGWRS.jpg remove C:\\Users\\duphong.hua\\Documents\\phong_document\\git\\resp_test\\test_yolo\\pod\\240703EHGWUG.jpg remove C:\\Users\\duphong.hua\\Documents\\phong_document\\git\\resp_test\\test_yolo\\pod\\240703EHHT5I.jpg remove C:\\Users\\duphong.hua\\Documents\\phong_document\\git\\resp_test\\test_yolo\\pod\\240703EHHV2Z.jpg remove C:\\Users\\duphong.hua\\Documents\\phong_document\\git\\resp_test\\test_yolo\\pod\\240703EHIMJC.jpg remove C:\\Users\\duphong.hua\\Documents\\phong_document\\git\\resp_test\\test_yolo\\pod\\240703EHJLDM.jpg remove C:\\Users\\duphong.hua\\Documents\\phong_document\\git\\resp_test\\test_yolo\\pod\\240703EHK70J.jpg remove C:\\Users\\duphong.hua\\Documents\\phong_document\\git\\resp_test\\test_yolo\\pod\\240703EHM6WT.jpg remove C:\\Users\\duphong.hua\\Documents\\phong_document\\git\\resp_test\\test_yolo\\pod\\240703EHN96E.jpg remove C:\\Users\\duphong.hua\\Documents\\phong_document\\git\\resp_test\\test_yolo\\pod\\240703EHNADU.jpg remove C:\\Users\\duphong.hua\\Documents\\phong_document\\git\\resp_test\\test_yolo\\pod\\240703EHNLBS.jpg remove C:\\Users\\duphong.hua\\Documents\\phong_document\\git\\resp_test\\test_yolo\\pod\\240703EHNN9W.jpg remove C:\\Users\\duphong.hua\\Documents\\phong_document\\git\\resp_test\\test_yolo\\pod\\240703EHPRNF.jpg remove C:\\Users\\duphong.hua\\Documents\\phong_document\\git\\resp_test\\test_yolo\\pod\\240703EHQIQR.jpg remove C:\\Users\\duphong.hua\\Documents\\phong_document\\git\\resp_test\\test_yolo\\pod\\240703EHQL3S.jpg remove C:\\Users\\duphong.hua\\Documents\\phong_document\\git\\resp_test\\test_yolo\\pod\\240703EHQPTV.jpg remove C:\\Users\\duphong.hua\\Documents\\phong_document\\git\\resp_test\\test_yolo\\pod\\240703EHRI5J.jpg remove C:\\Users\\duphong.hua\\Documents\\phong_document\\git\\resp_test\\test_yolo\\pod\\240703EHRKDW.jpg remove C:\\Users\\duphong.hua\\Documents\\phong_document\\git\\resp_test\\test_yolo\\pod\\240703EHRVPP.jpg remove C:\\Users\\duphong.hua\\Documents\\phong_document\\git\\resp_test\\test_yolo\\pod\\240703EHSCZ2.jpg remove C:\\Users\\duphong.hua\\Documents\\phong_document\\git\\resp_test\\test_yolo\\pod\\240703EHSI6B.jpg remove C:\\Users\\duphong.hua\\Documents\\phong_document\\git\\resp_test\\test_yolo\\pod\\240703EHSKIY.jpg remove C:\\Users\\duphong.hua\\Documents\\phong_document\\git\\resp_test\\test_yolo\\pod\\240703EHT2CM.jpg remove C:\\Users\\duphong.hua\\Documents\\phong_document\\git\\resp_test\\test_yolo\\pod\\240703EHUKXQ.jpg remove C:\\Users\\duphong.hua\\Documents\\phong_document\\git\\resp_test\\test_yolo\\pod\\240703EHUN7U.jpg remove C:\\Users\\duphong.hua\\Documents\\phong_document\\git\\resp_test\\test_yolo\\pod\\240703EHUOXF.jpg remove C:\\Users\\duphong.hua\\Documents\\phong_document\\git\\resp_test\\test_yolo\\pod\\240703EHV6WI.jpg remove C:\\Users\\duphong.hua\\Documents\\phong_document\\git\\resp_test\\test_yolo\\pod\\240703EHVVXA.jpg remove C:\\Users\\duphong.hua\\Documents\\phong_document\\git\\resp_test\\test_yolo\\pod\\240703EHX405.jpg remove C:\\Users\\duphong.hua\\Documents\\phong_document\\git\\resp_test\\test_yolo\\pod\\240703EHX92O.jpg remove C:\\Users\\duphong.hua\\Documents\\phong_document\\git\\resp_test\\test_yolo\\pod\\240703EHX9ZM.jpg remove C:\\Users\\duphong.hua\\Documents\\phong_document\\git\\resp_test\\test_yolo\\pod\\240703EHXKUS.jpg remove C:\\Users\\duphong.hua\\Documents\\phong_document\\git\\resp_test\\test_yolo\\pod\\240703EHZ1WX.jpg remove C:\\Users\\duphong.hua\\Documents\\phong_document\\git\\resp_test\\test_yolo\\pod\\240703EI08AT.jpg remove C:\\Users\\duphong.hua\\Documents\\phong_document\\git\\resp_test\\test_yolo\\pod\\240703EI08KR.jpg remove C:\\Users\\duphong.hua\\Documents\\phong_document\\git\\resp_test\\test_yolo\\pod\\240703EI1KAV.jpg remove C:\\Users\\duphong.hua\\Documents\\phong_document\\git\\resp_test\\test_yolo\\pod\\240703EI1QVC.jpg remove C:\\Users\\duphong.hua\\Documents\\phong_document\\git\\resp_test\\test_yolo\\pod\\240703EI1XVF.jpg remove C:\\Users\\duphong.hua\\Documents\\phong_document\\git\\resp_test\\test_yolo\\pod\\240703EI2618.jpg remove C:\\Users\\duphong.hua\\Documents\\phong_document\\git\\resp_test\\test_yolo\\pod\\240703EI33US.jpg remove C:\\Users\\duphong.hua\\Documents\\phong_document\\git\\resp_test\\test_yolo\\pod\\240703EI4B9Z.jpg remove C:\\Users\\duphong.hua\\Documents\\phong_document\\git\\resp_test\\test_yolo\\pod\\240703EI55QG.jpg remove C:\\Users\\duphong.hua\\Documents\\phong_document\\git\\resp_test\\test_yolo\\pod\\240703EI66PQ.jpg remove C:\\Users\\duphong.hua\\Documents\\phong_document\\git\\resp_test\\test_yolo\\pod\\240703EI69QE.jpg remove C:\\Users\\duphong.hua\\Documents\\phong_document\\git\\resp_test\\test_yolo\\pod\\240703EI82A7.jpg remove C:\\Users\\duphong.hua\\Documents\\phong_document\\git\\resp_test\\test_yolo\\pod\\240703EI8BF5.jpg remove C:\\Users\\duphong.hua\\Documents\\phong_document\\git\\resp_test\\test_yolo\\pod\\240703EI91D8.jpg remove C:\\Users\\duphong.hua\\Documents\\phong_document\\git\\resp_test\\test_yolo\\pod\\240703EI9DXI.jpg remove C:\\Users\\duphong.hua\\Documents\\phong_document\\git\\resp_test\\test_yolo\\pod\\240703EI9NME.jpg remove C:\\Users\\duphong.hua\\Documents\\phong_document\\git\\resp_test\\test_yolo\\pod\\240703EIA364.jpg remove C:\\Users\\duphong.hua\\Documents\\phong_document\\git\\resp_test\\test_yolo\\pod\\240703EIA7D9.jpg remove C:\\Users\\duphong.hua\\Documents\\phong_document\\git\\resp_test\\test_yolo\\pod\\240703EIAHGH.jpg remove C:\\Users\\duphong.hua\\Documents\\phong_document\\git\\resp_test\\test_yolo\\pod\\240703EIBR9R.jpg remove C:\\Users\\duphong.hua\\Documents\\phong_document\\git\\resp_test\\test_yolo\\pod\\240703EID7E3.jpg remove C:\\Users\\duphong.hua\\Documents\\phong_document\\git\\resp_test\\test_yolo\\pod\\240703EIDDSU.jpg remove C:\\Users\\duphong.hua\\Documents\\phong_document\\git\\resp_test\\test_yolo\\pod\\240703EIE1TG.jpg remove C:\\Users\\duphong.hua\\Documents\\phong_document\\git\\resp_test\\test_yolo\\pod\\240703EIEMCU.jpg remove C:\\Users\\duphong.hua\\Documents\\phong_document\\git\\resp_test\\test_yolo\\pod\\240703EIG0B2.jpg remove C:\\Users\\duphong.hua\\Documents\\phong_document\\git\\resp_test\\test_yolo\\pod\\240703EIGH8J.jpg remove C:\\Users\\duphong.hua\\Documents\\phong_document\\git\\resp_test\\test_yolo\\pod\\240703EIGL6V.jpg remove C:\\Users\\duphong.hua\\Documents\\phong_document\\git\\resp_test\\test_yolo\\pod\\240703EIGUED.jpg remove C:\\Users\\duphong.hua\\Documents\\phong_document\\git\\resp_test\\test_yolo\\pod\\240703EIHBRX.jpg remove C:\\Users\\duphong.hua\\Documents\\phong_document\\git\\resp_test\\test_yolo\\pod\\240703EIHUPI.jpg remove C:\\Users\\duphong.hua\\Documents\\phong_document\\git\\resp_test\\test_yolo\\pod\\240703EII11T.jpg remove C:\\Users\\duphong.hua\\Documents\\phong_document\\git\\resp_test\\test_yolo\\pod\\240703EIJA9F.jpg remove C:\\Users\\duphong.hua\\Documents\\phong_document\\git\\resp_test\\test_yolo\\pod\\240703EIJJK1.jpg remove C:\\Users\\duphong.hua\\Documents\\phong_document\\git\\resp_test\\test_yolo\\pod\\240703EIJPZX.jpg remove C:\\Users\\duphong.hua\\Documents\\phong_document\\git\\resp_test\\test_yolo\\pod\\240703EIJR8F.jpg remove C:\\Users\\duphong.hua\\Documents\\phong_document\\git\\resp_test\\test_yolo\\pod\\240703EIKCNW.jpg remove C:\\Users\\duphong.hua\\Documents\\phong_document\\git\\resp_test\\test_yolo\\pod\\240703EIKN0B.jpg remove C:\\Users\\duphong.hua\\Documents\\phong_document\\git\\resp_test\\test_yolo\\pod\\240703EIKTYZ.jpg remove C:\\Users\\duphong.hua\\Documents\\phong_document\\git\\resp_test\\test_yolo\\pod\\240703EIKVYD.jpg remove C:\\Users\\duphong.hua\\Documents\\phong_document\\git\\resp_test\\test_yolo\\pod\\240703EILBLM.jpg remove C:\\Users\\duphong.hua\\Documents\\phong_document\\git\\resp_test\\test_yolo\\pod\\240703EIM9SC.jpg remove C:\\Users\\duphong.hua\\Documents\\phong_document\\git\\resp_test\\test_yolo\\pod\\240703EIMBP6.jpg remove C:\\Users\\duphong.hua\\Documents\\phong_document\\git\\resp_test\\test_yolo\\pod\\240703EIMKIV.jpg remove C:\\Users\\duphong.hua\\Documents\\phong_document\\git\\resp_test\\test_yolo\\pod\\240703EINS2Z.jpg remove C:\\Users\\duphong.hua\\Documents\\phong_document\\git\\resp_test\\test_yolo\\pod\\240703EIOCC9.jpg remove C:\\Users\\duphong.hua\\Documents\\phong_document\\git\\resp_test\\test_yolo\\pod\\240703EIP19T.jpg remove C:\\Users\\duphong.hua\\Documents\\phong_document\\git\\resp_test\\test_yolo\\pod\\240703EIQNST.jpg remove C:\\Users\\duphong.hua\\Documents\\phong_document\\git\\resp_test\\test_yolo\\pod\\240703EIQYEH.jpg remove C:\\Users\\duphong.hua\\Documents\\phong_document\\git\\resp_test\\test_yolo\\pod\\240703EIROTX.jpg remove C:\\Users\\duphong.hua\\Documents\\phong_document\\git\\resp_test\\test_yolo\\pod\\240703EIS5S5.jpg remove C:\\Users\\duphong.hua\\Documents\\phong_document\\git\\resp_test\\test_yolo\\pod\\240703EISL8Z.jpg remove C:\\Users\\duphong.hua\\Documents\\phong_document\\git\\resp_test\\test_yolo\\pod\\240703EISUNH.jpg remove C:\\Users\\duphong.hua\\Documents\\phong_document\\git\\resp_test\\test_yolo\\pod\\240703EITG8N.jpg remove C:\\Users\\duphong.hua\\Documents\\phong_document\\git\\resp_test\\test_yolo\\pod\\240703EIUN9U.jpg remove C:\\Users\\duphong.hua\\Documents\\phong_document\\git\\resp_test\\test_yolo\\pod\\240703EIV0MH.jpg remove C:\\Users\\duphong.hua\\Documents\\phong_document\\git\\resp_test\\test_yolo\\pod\\240703EIVBTC.jpg remove C:\\Users\\duphong.hua\\Documents\\phong_document\\git\\resp_test\\test_yolo\\pod\\240703EIVQUZ.jpg remove C:\\Users\\duphong.hua\\Documents\\phong_document\\git\\resp_test\\test_yolo\\pod\\240703EIVSUI.jpg remove C:\\Users\\duphong.hua\\Documents\\phong_document\\git\\resp_test\\test_yolo\\pod\\240703EIW9P8.jpg remove C:\\Users\\duphong.hua\\Documents\\phong_document\\git\\resp_test\\test_yolo\\pod\\240703EIXJYK.jpg remove C:\\Users\\duphong.hua\\Documents\\phong_document\\git\\resp_test\\test_yolo\\pod\\240703EIXUG1.jpg remove C:\\Users\\duphong.hua\\Documents\\phong_document\\git\\resp_test\\test_yolo\\pod\\240703EIYBOJ.jpg remove C:\\Users\\duphong.hua\\Documents\\phong_document\\git\\resp_test\\test_yolo\\pod\\240703EIZ763.jpg remove C:\\Users\\duphong.hua\\Documents\\phong_document\\git\\resp_test\\test_yolo\\pod\\240703EJ0QDZ.jpg remove C:\\Users\\duphong.hua\\Documents\\phong_document\\git\\resp_test\\test_yolo\\pod\\240703EJ2QKI.jpg remove C:\\Users\\duphong.hua\\Documents\\phong_document\\git\\resp_test\\test_yolo\\pod\\240703EJ2YA5.jpg remove C:\\Users\\duphong.hua\\Documents\\phong_document\\git\\resp_test\\test_yolo\\pod\\240703EJ32G6.jpg remove C:\\Users\\duphong.hua\\Documents\\phong_document\\git\\resp_test\\test_yolo\\pod\\240703EJ421U.jpg remove C:\\Users\\duphong.hua\\Documents\\phong_document\\git\\resp_test\\test_yolo\\pod\\240703EJ4DER.jpg remove C:\\Users\\duphong.hua\\Documents\\phong_document\\git\\resp_test\\test_yolo\\pod\\240703EJ4P8I.jpg remove C:\\Users\\duphong.hua\\Documents\\phong_document\\git\\resp_test\\test_yolo\\pod\\240703EJ4ZDD.jpg remove C:\\Users\\duphong.hua\\Documents\\phong_document\\git\\resp_test\\test_yolo\\pod\\240703EJ52WT.jpg remove C:\\Users\\duphong.hua\\Documents\\phong_document\\git\\resp_test\\test_yolo\\pod\\240703EJ7VMD.jpg remove C:\\Users\\duphong.hua\\Documents\\phong_document\\git\\resp_test\\test_yolo\\pod\\240703EJ9XKY.jpg remove C:\\Users\\duphong.hua\\Documents\\phong_document\\git\\resp_test\\test_yolo\\pod\\240703EJA98Z.jpg remove C:\\Users\\duphong.hua\\Documents\\phong_document\\git\\resp_test\\test_yolo\\pod\\240703EJADRH.jpg remove C:\\Users\\duphong.hua\\Documents\\phong_document\\git\\resp_test\\test_yolo\\pod\\240703EJBQCL.jpg remove C:\\Users\\duphong.hua\\Documents\\phong_document\\git\\resp_test\\test_yolo\\pod\\240703EJCOIZ.jpg remove C:\\Users\\duphong.hua\\Documents\\phong_document\\git\\resp_test\\test_yolo\\pod\\240703EJCRBQ.jpg remove C:\\Users\\duphong.hua\\Documents\\phong_document\\git\\resp_test\\test_yolo\\pod\\240703EJEII6.jpg remove C:\\Users\\duphong.hua\\Documents\\phong_document\\git\\resp_test\\test_yolo\\pod\\240703EJGDWO.jpg remove C:\\Users\\duphong.hua\\Documents\\phong_document\\git\\resp_test\\test_yolo\\pod\\240703EJGKFF.jpg remove C:\\Users\\duphong.hua\\Documents\\phong_document\\git\\resp_test\\test_yolo\\pod\\240703EJIUXV.jpg remove C:\\Users\\duphong.hua\\Documents\\phong_document\\git\\resp_test\\test_yolo\\pod\\240703EJJJUL.jpg remove C:\\Users\\duphong.hua\\Documents\\phong_document\\git\\resp_test\\test_yolo\\pod\\240703EJJMID.jpg remove C:\\Users\\duphong.hua\\Documents\\phong_document\\git\\resp_test\\test_yolo\\pod\\240703EJJSD9.jpg remove C:\\Users\\duphong.hua\\Documents\\phong_document\\git\\resp_test\\test_yolo\\pod\\240703EJJTON.jpg remove C:\\Users\\duphong.hua\\Documents\\phong_document\\git\\resp_test\\test_yolo\\pod\\240703EJLC6A.jpg remove C:\\Users\\duphong.hua\\Documents\\phong_document\\git\\resp_test\\test_yolo\\pod\\240703EJO2NV.jpg remove C:\\Users\\duphong.hua\\Documents\\phong_document\\git\\resp_test\\test_yolo\\pod\\240703EJO97J.jpg remove C:\\Users\\duphong.hua\\Documents\\phong_document\\git\\resp_test\\test_yolo\\pod\\240703EJOK3K.jpg remove C:\\Users\\duphong.hua\\Documents\\phong_document\\git\\resp_test\\test_yolo\\pod\\240703EJR1RV.jpg remove C:\\Users\\duphong.hua\\Documents\\phong_document\\git\\resp_test\\test_yolo\\pod\\240703EJRN5G.jpg remove C:\\Users\\duphong.hua\\Documents\\phong_document\\git\\resp_test\\test_yolo\\pod\\240703EJSJJG.jpg remove C:\\Users\\duphong.hua\\Documents\\phong_document\\git\\resp_test\\test_yolo\\pod\\240703EJT376.jpg remove C:\\Users\\duphong.hua\\Documents\\phong_document\\git\\resp_test\\test_yolo\\pod\\240703EJW0EI.jpg remove C:\\Users\\duphong.hua\\Documents\\phong_document\\git\\resp_test\\test_yolo\\pod\\240703EJWCRA.jpg remove C:\\Users\\duphong.hua\\Documents\\phong_document\\git\\resp_test\\test_yolo\\pod\\240703EJWG7K.jpg remove C:\\Users\\duphong.hua\\Documents\\phong_document\\git\\resp_test\\test_yolo\\pod\\240703EJXDIZ.jpg remove C:\\Users\\duphong.hua\\Documents\\phong_document\\git\\resp_test\\test_yolo\\pod\\240703EJZ8FU.jpg remove C:\\Users\\duphong.hua\\Documents\\phong_document\\git\\resp_test\\test_yolo\\pod\\240703EK096A.jpg remove C:\\Users\\duphong.hua\\Documents\\phong_document\\git\\resp_test\\test_yolo\\pod\\240703EK0MUV.jpg remove C:\\Users\\duphong.hua\\Documents\\phong_document\\git\\resp_test\\test_yolo\\pod\\240703EK1J9N.jpg remove C:\\Users\\duphong.hua\\Documents\\phong_document\\git\\resp_test\\test_yolo\\pod\\240703EK1OC2.jpg remove C:\\Users\\duphong.hua\\Documents\\phong_document\\git\\resp_test\\test_yolo\\pod\\240703EK4X17.jpg remove C:\\Users\\duphong.hua\\Documents\\phong_document\\git\\resp_test\\test_yolo\\pod\\240703EK51PX.jpg remove C:\\Users\\duphong.hua\\Documents\\phong_document\\git\\resp_test\\test_yolo\\pod\\240703EK6AE0.jpg remove C:\\Users\\duphong.hua\\Documents\\phong_document\\git\\resp_test\\test_yolo\\pod\\240703EK6ZPZ.jpg remove C:\\Users\\duphong.hua\\Documents\\phong_document\\git\\resp_test\\test_yolo\\pod\\240703EK7IFV.jpg remove C:\\Users\\duphong.hua\\Documents\\phong_document\\git\\resp_test\\test_yolo\\pod\\240703EK851N.jpg remove C:\\Users\\duphong.hua\\Documents\\phong_document\\git\\resp_test\\test_yolo\\pod\\240703EK8P76.jpg remove C:\\Users\\duphong.hua\\Documents\\phong_document\\git\\resp_test\\test_yolo\\pod\\240703EK9NTW.jpg remove C:\\Users\\duphong.hua\\Documents\\phong_document\\git\\resp_test\\test_yolo\\pod\\240703EK9UB1.jpg remove C:\\Users\\duphong.hua\\Documents\\phong_document\\git\\resp_test\\test_yolo\\pod\\240703EK9V1H.jpg remove C:\\Users\\duphong.hua\\Documents\\phong_document\\git\\resp_test\\test_yolo\\pod\\240703EKA59Y.jpg remove C:\\Users\\duphong.hua\\Documents\\phong_document\\git\\resp_test\\test_yolo\\pod\\240703EKAEUV.jpg remove C:\\Users\\duphong.hua\\Documents\\phong_document\\git\\resp_test\\test_yolo\\pod\\240703EKB21D.jpg remove C:\\Users\\duphong.hua\\Documents\\phong_document\\git\\resp_test\\test_yolo\\pod\\240703EKBZY8.jpg remove C:\\Users\\duphong.hua\\Documents\\phong_document\\git\\resp_test\\test_yolo\\pod\\240703EKDL0V.jpg remove C:\\Users\\duphong.hua\\Documents\\phong_document\\git\\resp_test\\test_yolo\\pod\\240703EKDLQX.jpg remove C:\\Users\\duphong.hua\\Documents\\phong_document\\git\\resp_test\\test_yolo\\pod\\240703EKDPO2.jpg remove C:\\Users\\duphong.hua\\Documents\\phong_document\\git\\resp_test\\test_yolo\\pod\\240703EKE03G.jpg remove C:\\Users\\duphong.hua\\Documents\\phong_document\\git\\resp_test\\test_yolo\\pod\\240703EKEGI1.jpg remove C:\\Users\\duphong.hua\\Documents\\phong_document\\git\\resp_test\\test_yolo\\pod\\240703EKEIAH.jpg remove C:\\Users\\duphong.hua\\Documents\\phong_document\\git\\resp_test\\test_yolo\\pod\\240703EKEMYM.jpg remove C:\\Users\\duphong.hua\\Documents\\phong_document\\git\\resp_test\\test_yolo\\pod\\240703EKFEBL.jpg remove C:\\Users\\duphong.hua\\Documents\\phong_document\\git\\resp_test\\test_yolo\\pod\\240703EKG2R6.jpg remove C:\\Users\\duphong.hua\\Documents\\phong_document\\git\\resp_test\\test_yolo\\pod\\240703EKGGQO.jpg remove C:\\Users\\duphong.hua\\Documents\\phong_document\\git\\resp_test\\test_yolo\\pod\\240703EKH03I.jpg remove C:\\Users\\duphong.hua\\Documents\\phong_document\\git\\resp_test\\test_yolo\\pod\\240703EKH6V3.jpg remove C:\\Users\\duphong.hua\\Documents\\phong_document\\git\\resp_test\\test_yolo\\pod\\240703EKIGJL.jpg remove C:\\Users\\duphong.hua\\Documents\\phong_document\\git\\resp_test\\test_yolo\\pod\\240703EKIN24.jpg remove C:\\Users\\duphong.hua\\Documents\\phong_document\\git\\resp_test\\test_yolo\\pod\\240703EKKUXL.jpg remove C:\\Users\\duphong.hua\\Documents\\phong_document\\git\\resp_test\\test_yolo\\pod\\240703EKLXMZ.jpg remove C:\\Users\\duphong.hua\\Documents\\phong_document\\git\\resp_test\\test_yolo\\pod\\240703EKM7JT.jpg remove C:\\Users\\duphong.hua\\Documents\\phong_document\\git\\resp_test\\test_yolo\\pod\\240703EKNBRZ.jpg remove C:\\Users\\duphong.hua\\Documents\\phong_document\\git\\resp_test\\test_yolo\\pod\\240703EKNEOF.jpg remove C:\\Users\\duphong.hua\\Documents\\phong_document\\git\\resp_test\\test_yolo\\pod\\240703EKNUVA.jpg remove C:\\Users\\duphong.hua\\Documents\\phong_document\\git\\resp_test\\test_yolo\\pod\\240703EKNXM9.jpg remove C:\\Users\\duphong.hua\\Documents\\phong_document\\git\\resp_test\\test_yolo\\pod\\240703EKO4FL.jpg remove C:\\Users\\duphong.hua\\Documents\\phong_document\\git\\resp_test\\test_yolo\\pod\\240703EKOPIC.jpg remove C:\\Users\\duphong.hua\\Documents\\phong_document\\git\\resp_test\\test_yolo\\pod\\240703EKOREP.jpg remove C:\\Users\\duphong.hua\\Documents\\phong_document\\git\\resp_test\\test_yolo\\pod\\240703EKP4PS.jpg remove C:\\Users\\duphong.hua\\Documents\\phong_document\\git\\resp_test\\test_yolo\\pod\\240703EKPTUU.jpg remove C:\\Users\\duphong.hua\\Documents\\phong_document\\git\\resp_test\\test_yolo\\pod\\240703EKQRUO.jpg remove C:\\Users\\duphong.hua\\Documents\\phong_document\\git\\resp_test\\test_yolo\\pod\\240703EKQTUT.jpg remove C:\\Users\\duphong.hua\\Documents\\phong_document\\git\\resp_test\\test_yolo\\pod\\240703EKQWFC.jpg remove C:\\Users\\duphong.hua\\Documents\\phong_document\\git\\resp_test\\test_yolo\\pod\\240703EKTRNU.jpg remove C:\\Users\\duphong.hua\\Documents\\phong_document\\git\\resp_test\\test_yolo\\pod\\240703EKUXRG.jpg remove C:\\Users\\duphong.hua\\Documents\\phong_document\\git\\resp_test\\test_yolo\\pod\\240703EKV9LZ.jpg remove C:\\Users\\duphong.hua\\Documents\\phong_document\\git\\resp_test\\test_yolo\\pod\\240703EKVYE0.jpg remove C:\\Users\\duphong.hua\\Documents\\phong_document\\git\\resp_test\\test_yolo\\pod\\240703EKVZLW.jpg remove C:\\Users\\duphong.hua\\Documents\\phong_document\\git\\resp_test\\test_yolo\\pod\\240703EKW0A4.jpg remove C:\\Users\\duphong.hua\\Documents\\phong_document\\git\\resp_test\\test_yolo\\pod\\240703EKW1PD.jpg remove C:\\Users\\duphong.hua\\Documents\\phong_document\\git\\resp_test\\test_yolo\\pod\\240703EKYL3S.jpg remove C:\\Users\\duphong.hua\\Documents\\phong_document\\git\\resp_test\\test_yolo\\pod\\240703EKYVV8.jpg remove C:\\Users\\duphong.hua\\Documents\\phong_document\\git\\resp_test\\test_yolo\\pod\\240703EKZB4I.jpg remove C:\\Users\\duphong.hua\\Documents\\phong_document\\git\\resp_test\\test_yolo\\pod\\240703EL0GUU.jpg remove C:\\Users\\duphong.hua\\Documents\\phong_document\\git\\resp_test\\test_yolo\\pod\\240703EL1Q5Z.jpg remove C:\\Users\\duphong.hua\\Documents\\phong_document\\git\\resp_test\\test_yolo\\pod\\240703EL2JBQ.jpg remove C:\\Users\\duphong.hua\\Documents\\phong_document\\git\\resp_test\\test_yolo\\pod\\240703EL3EVV.jpg remove C:\\Users\\duphong.hua\\Documents\\phong_document\\git\\resp_test\\test_yolo\\pod\\240703EL3I5S.jpg remove C:\\Users\\duphong.hua\\Documents\\phong_document\\git\\resp_test\\test_yolo\\pod\\240703EL3VMJ.jpg remove C:\\Users\\duphong.hua\\Documents\\phong_document\\git\\resp_test\\test_yolo\\pod\\240703EL3YJA.jpg remove C:\\Users\\duphong.hua\\Documents\\phong_document\\git\\resp_test\\test_yolo\\pod\\240703EL5FXX.jpg remove C:\\Users\\duphong.hua\\Documents\\phong_document\\git\\resp_test\\test_yolo\\pod\\240703EL5LBB.jpg remove C:\\Users\\duphong.hua\\Documents\\phong_document\\git\\resp_test\\test_yolo\\pod\\240703EL5TTH.jpg remove C:\\Users\\duphong.hua\\Documents\\phong_document\\git\\resp_test\\test_yolo\\pod\\240703EL6401.jpg remove C:\\Users\\duphong.hua\\Documents\\phong_document\\git\\resp_test\\test_yolo\\pod\\240703EL6YPG.jpg remove C:\\Users\\duphong.hua\\Documents\\phong_document\\git\\resp_test\\test_yolo\\pod\\240703EL7HDC.jpg remove C:\\Users\\duphong.hua\\Documents\\phong_document\\git\\resp_test\\test_yolo\\pod\\240703EL7QI9.jpg remove C:\\Users\\duphong.hua\\Documents\\phong_document\\git\\resp_test\\test_yolo\\pod\\240703EL88NU.jpg remove C:\\Users\\duphong.hua\\Documents\\phong_document\\git\\resp_test\\test_yolo\\pod\\240703EL8A3D.jpg remove C:\\Users\\duphong.hua\\Documents\\phong_document\\git\\resp_test\\test_yolo\\pod\\240703EL8E2P.jpg remove C:\\Users\\duphong.hua\\Documents\\phong_document\\git\\resp_test\\test_yolo\\pod\\240703EL8PH6.jpg remove C:\\Users\\duphong.hua\\Documents\\phong_document\\git\\resp_test\\test_yolo\\pod\\240703EL9BVA.jpg remove C:\\Users\\duphong.hua\\Documents\\phong_document\\git\\resp_test\\test_yolo\\pod\\240703ELAUEG.jpg remove C:\\Users\\duphong.hua\\Documents\\phong_document\\git\\resp_test\\test_yolo\\pod\\240703ELD5V2.jpg remove C:\\Users\\duphong.hua\\Documents\\phong_document\\git\\resp_test\\test_yolo\\pod\\240703ELD7N3.jpg remove C:\\Users\\duphong.hua\\Documents\\phong_document\\git\\resp_test\\test_yolo\\pod\\240703ELD97V.jpg remove C:\\Users\\duphong.hua\\Documents\\phong_document\\git\\resp_test\\test_yolo\\pod\\240703ELDCL1.jpg remove C:\\Users\\duphong.hua\\Documents\\phong_document\\git\\resp_test\\test_yolo\\pod\\240703ELDROS.jpg remove C:\\Users\\duphong.hua\\Documents\\phong_document\\git\\resp_test\\test_yolo\\pod\\240703ELFFFP.jpg remove C:\\Users\\duphong.hua\\Documents\\phong_document\\git\\resp_test\\test_yolo\\pod\\240703ELFTIL.jpg remove C:\\Users\\duphong.hua\\Documents\\phong_document\\git\\resp_test\\test_yolo\\pod\\240703ELFZ2O.jpg remove C:\\Users\\duphong.hua\\Documents\\phong_document\\git\\resp_test\\test_yolo\\pod\\240703ELGGFK.jpg remove C:\\Users\\duphong.hua\\Documents\\phong_document\\git\\resp_test\\test_yolo\\pod\\240703ELHNYN.jpg remove C:\\Users\\duphong.hua\\Documents\\phong_document\\git\\resp_test\\test_yolo\\pod\\240703ELI28Q.jpg remove C:\\Users\\duphong.hua\\Documents\\phong_document\\git\\resp_test\\test_yolo\\pod\\240703ELIQUC.jpg remove C:\\Users\\duphong.hua\\Documents\\phong_document\\git\\resp_test\\test_yolo\\pod\\240703ELJ0V9.jpg remove C:\\Users\\duphong.hua\\Documents\\phong_document\\git\\resp_test\\test_yolo\\pod\\240703ELK3AC.jpg remove C:\\Users\\duphong.hua\\Documents\\phong_document\\git\\resp_test\\test_yolo\\pod\\240703ELL8RI.jpg remove C:\\Users\\duphong.hua\\Documents\\phong_document\\git\\resp_test\\test_yolo\\pod\\240703ELLC7F.jpg remove C:\\Users\\duphong.hua\\Documents\\phong_document\\git\\resp_test\\test_yolo\\pod\\240703ELLHH8.jpg remove C:\\Users\\duphong.hua\\Documents\\phong_document\\git\\resp_test\\test_yolo\\pod\\240703ELM2DW.jpg remove C:\\Users\\duphong.hua\\Documents\\phong_document\\git\\resp_test\\test_yolo\\pod\\240703ELM5UJ.jpg remove C:\\Users\\duphong.hua\\Documents\\phong_document\\git\\resp_test\\test_yolo\\pod\\240703ELMGH8.jpg remove C:\\Users\\duphong.hua\\Documents\\phong_document\\git\\resp_test\\test_yolo\\pod\\240703ELNSQV.jpg remove C:\\Users\\duphong.hua\\Documents\\phong_document\\git\\resp_test\\test_yolo\\pod\\240703ELNUGR.jpg remove C:\\Users\\duphong.hua\\Documents\\phong_document\\git\\resp_test\\test_yolo\\pod\\240703ELPHC6.jpg remove C:\\Users\\duphong.hua\\Documents\\phong_document\\git\\resp_test\\test_yolo\\pod\\240703ELPY34.jpg remove C:\\Users\\duphong.hua\\Documents\\phong_document\\git\\resp_test\\test_yolo\\pod\\240703ELQB0T.jpg remove C:\\Users\\duphong.hua\\Documents\\phong_document\\git\\resp_test\\test_yolo\\pod\\240703ELQGLB.jpg remove C:\\Users\\duphong.hua\\Documents\\phong_document\\git\\resp_test\\test_yolo\\pod\\240703ELQHJH.jpg remove C:\\Users\\duphong.hua\\Documents\\phong_document\\git\\resp_test\\test_yolo\\pod\\240703ELRICO.jpg remove C:\\Users\\duphong.hua\\Documents\\phong_document\\git\\resp_test\\test_yolo\\pod\\240703ELS9TY.jpg remove C:\\Users\\duphong.hua\\Documents\\phong_document\\git\\resp_test\\test_yolo\\pod\\240703ELSM5R.jpg remove C:\\Users\\duphong.hua\\Documents\\phong_document\\git\\resp_test\\test_yolo\\pod\\240703ELSUTG.jpg remove C:\\Users\\duphong.hua\\Documents\\phong_document\\git\\resp_test\\test_yolo\\pod\\240703ELT5KF.jpg remove C:\\Users\\duphong.hua\\Documents\\phong_document\\git\\resp_test\\test_yolo\\pod\\240703ELTBLU.jpg remove C:\\Users\\duphong.hua\\Documents\\phong_document\\git\\resp_test\\test_yolo\\pod\\240703ELTIIZ.jpg remove C:\\Users\\duphong.hua\\Documents\\phong_document\\git\\resp_test\\test_yolo\\pod\\240703ELU85F.jpg remove C:\\Users\\duphong.hua\\Documents\\phong_document\\git\\resp_test\\test_yolo\\pod\\240703ELVDYB.jpg remove C:\\Users\\duphong.hua\\Documents\\phong_document\\git\\resp_test\\test_yolo\\pod\\240703ELYBT9.jpg remove C:\\Users\\duphong.hua\\Documents\\phong_document\\git\\resp_test\\test_yolo\\pod\\240703ELZD3U.jpg remove C:\\Users\\duphong.hua\\Documents\\phong_document\\git\\resp_test\\test_yolo\\pod\\240703EM12LP.jpg remove C:\\Users\\duphong.hua\\Documents\\phong_document\\git\\resp_test\\test_yolo\\pod\\240703EM23BF.jpg remove C:\\Users\\duphong.hua\\Documents\\phong_document\\git\\resp_test\\test_yolo\\pod\\240703EM3C6C.jpg remove C:\\Users\\duphong.hua\\Documents\\phong_document\\git\\resp_test\\test_yolo\\pod\\240703EM3LGI.jpg remove C:\\Users\\duphong.hua\\Documents\\phong_document\\git\\resp_test\\test_yolo\\pod\\240703EM46U7.jpg remove C:\\Users\\duphong.hua\\Documents\\phong_document\\git\\resp_test\\test_yolo\\pod\\240703EM5AY5.jpg remove C:\\Users\\duphong.hua\\Documents\\phong_document\\git\\resp_test\\test_yolo\\pod\\240703EM5BWU.jpg remove C:\\Users\\duphong.hua\\Documents\\phong_document\\git\\resp_test\\test_yolo\\pod\\240703EM5HJK.jpg remove C:\\Users\\duphong.hua\\Documents\\phong_document\\git\\resp_test\\test_yolo\\pod\\240703EM5SV8.jpg remove C:\\Users\\duphong.hua\\Documents\\phong_document\\git\\resp_test\\test_yolo\\pod\\240703EM75KF.jpg remove C:\\Users\\duphong.hua\\Documents\\phong_document\\git\\resp_test\\test_yolo\\pod\\240703EMABL5.jpg remove C:\\Users\\duphong.hua\\Documents\\phong_document\\git\\resp_test\\test_yolo\\pod\\240703EMBB7U.jpg remove C:\\Users\\duphong.hua\\Documents\\phong_document\\git\\resp_test\\test_yolo\\pod\\240703EMBO6T.jpg remove C:\\Users\\duphong.hua\\Documents\\phong_document\\git\\resp_test\\test_yolo\\pod\\240703EMCDD3.jpg remove C:\\Users\\duphong.hua\\Documents\\phong_document\\git\\resp_test\\test_yolo\\pod\\240703EMD3GK.jpg remove C:\\Users\\duphong.hua\\Documents\\phong_document\\git\\resp_test\\test_yolo\\pod\\240703EMEGHG.jpg remove C:\\Users\\duphong.hua\\Documents\\phong_document\\git\\resp_test\\test_yolo\\pod\\240703EMFNJ8.jpg remove C:\\Users\\duphong.hua\\Documents\\phong_document\\git\\resp_test\\test_yolo\\pod\\240703EMH1CD.jpg remove C:\\Users\\duphong.hua\\Documents\\phong_document\\git\\resp_test\\test_yolo\\pod\\240703EMHDPN.jpg remove C:\\Users\\duphong.hua\\Documents\\phong_document\\git\\resp_test\\test_yolo\\pod\\240703EMJPX5.jpg remove C:\\Users\\duphong.hua\\Documents\\phong_document\\git\\resp_test\\test_yolo\\pod\\240703EMKR03.jpg remove C:\\Users\\duphong.hua\\Documents\\phong_document\\git\\resp_test\\test_yolo\\pod\\240703EMKS2S.jpg remove C:\\Users\\duphong.hua\\Documents\\phong_document\\git\\resp_test\\test_yolo\\pod\\240703EMLVTU.jpg remove C:\\Users\\duphong.hua\\Documents\\phong_document\\git\\resp_test\\test_yolo\\pod\\240703EMMPU9.jpg remove C:\\Users\\duphong.hua\\Documents\\phong_document\\git\\resp_test\\test_yolo\\pod\\240703EMNJKQ.jpg remove C:\\Users\\duphong.hua\\Documents\\phong_document\\git\\resp_test\\test_yolo\\pod\\240703EMOD3S.jpg remove C:\\Users\\duphong.hua\\Documents\\phong_document\\git\\resp_test\\test_yolo\\pod\\240703EMPH3M.jpg remove C:\\Users\\duphong.hua\\Documents\\phong_document\\git\\resp_test\\test_yolo\\pod\\240703EMPPWQ.jpg remove C:\\Users\\duphong.hua\\Documents\\phong_document\\git\\resp_test\\test_yolo\\pod\\240703EMQ0H8.jpg remove C:\\Users\\duphong.hua\\Documents\\phong_document\\git\\resp_test\\test_yolo\\pod\\240703EMQHA7.jpg remove C:\\Users\\duphong.hua\\Documents\\phong_document\\git\\resp_test\\test_yolo\\pod\\240703EMQZM4.jpg remove C:\\Users\\duphong.hua\\Documents\\phong_document\\git\\resp_test\\test_yolo\\pod\\240703EMR43Z.jpg remove C:\\Users\\duphong.hua\\Documents\\phong_document\\git\\resp_test\\test_yolo\\pod\\240703EMRA68.jpg remove C:\\Users\\duphong.hua\\Documents\\phong_document\\git\\resp_test\\test_yolo\\pod\\240703EMRPB8.jpg remove C:\\Users\\duphong.hua\\Documents\\phong_document\\git\\resp_test\\test_yolo\\pod\\240703EMSDNB.jpg remove C:\\Users\\duphong.hua\\Documents\\phong_document\\git\\resp_test\\test_yolo\\pod\\240703EMSEC5.jpg remove C:\\Users\\duphong.hua\\Documents\\phong_document\\git\\resp_test\\test_yolo\\pod\\240703EMTHSS.jpg remove C:\\Users\\duphong.hua\\Documents\\phong_document\\git\\resp_test\\test_yolo\\pod\\240703EMTX7Y.jpg remove C:\\Users\\duphong.hua\\Documents\\phong_document\\git\\resp_test\\test_yolo\\pod\\240703EMUZ3R.jpg remove C:\\Users\\duphong.hua\\Documents\\phong_document\\git\\resp_test\\test_yolo\\pod\\240703EMVUIL.jpg remove C:\\Users\\duphong.hua\\Documents\\phong_document\\git\\resp_test\\test_yolo\\pod\\240703EMWS9Y.jpg remove C:\\Users\\duphong.hua\\Documents\\phong_document\\git\\resp_test\\test_yolo\\pod\\240703EMXT6M.jpg remove C:\\Users\\duphong.hua\\Documents\\phong_document\\git\\resp_test\\test_yolo\\pod\\240703EMY9QQ.jpg remove C:\\Users\\duphong.hua\\Documents\\phong_document\\git\\resp_test\\test_yolo\\pod\\240703EMYW1L.jpg remove C:\\Users\\duphong.hua\\Documents\\phong_document\\git\\resp_test\\test_yolo\\pod\\240703EMZ9VF.jpg remove C:\\Users\\duphong.hua\\Documents\\phong_document\\git\\resp_test\\test_yolo\\pod\\240703EMZORP.jpg remove C:\\Users\\duphong.hua\\Documents\\phong_document\\git\\resp_test\\test_yolo\\pod\\240703EN0QOB.jpg remove C:\\Users\\duphong.hua\\Documents\\phong_document\\git\\resp_test\\test_yolo\\pod\\240703EN27AG.jpg remove C:\\Users\\duphong.hua\\Documents\\phong_document\\git\\resp_test\\test_yolo\\pod\\240703EN2J75.jpg remove C:\\Users\\duphong.hua\\Documents\\phong_document\\git\\resp_test\\test_yolo\\pod\\240703EN2MOA.jpg remove C:\\Users\\duphong.hua\\Documents\\phong_document\\git\\resp_test\\test_yolo\\pod\\240703EN2RHE.jpg remove C:\\Users\\duphong.hua\\Documents\\phong_document\\git\\resp_test\\test_yolo\\pod\\240703EN2XMD.jpg remove C:\\Users\\duphong.hua\\Documents\\phong_document\\git\\resp_test\\test_yolo\\pod\\240703EN3787.jpg remove C:\\Users\\duphong.hua\\Documents\\phong_document\\git\\resp_test\\test_yolo\\pod\\240703EN3C0O.jpg remove C:\\Users\\duphong.hua\\Documents\\phong_document\\git\\resp_test\\test_yolo\\pod\\240703EN3IXA.jpg remove C:\\Users\\duphong.hua\\Documents\\phong_document\\git\\resp_test\\test_yolo\\pod\\240703EN3XL4.jpg remove C:\\Users\\duphong.hua\\Documents\\phong_document\\git\\resp_test\\test_yolo\\pod\\240703EN49OZ.jpg remove C:\\Users\\duphong.hua\\Documents\\phong_document\\git\\resp_test\\test_yolo\\pod\\240703EN4OEX.jpg remove C:\\Users\\duphong.hua\\Documents\\phong_document\\git\\resp_test\\test_yolo\\pod\\240703EN5EEE.jpg remove C:\\Users\\duphong.hua\\Documents\\phong_document\\git\\resp_test\\test_yolo\\pod\\240703EN6C3R.jpg remove C:\\Users\\duphong.hua\\Documents\\phong_document\\git\\resp_test\\test_yolo\\pod\\240703EN7DOP.jpg remove C:\\Users\\duphong.hua\\Documents\\phong_document\\git\\resp_test\\test_yolo\\pod\\240703EN7JNX.jpg remove C:\\Users\\duphong.hua\\Documents\\phong_document\\git\\resp_test\\test_yolo\\pod\\240703EN89Q2.jpg remove C:\\Users\\duphong.hua\\Documents\\phong_document\\git\\resp_test\\test_yolo\\pod\\240703EN8EVR.jpg remove C:\\Users\\duphong.hua\\Documents\\phong_document\\git\\resp_test\\test_yolo\\pod\\240703EN9L1S.jpg remove C:\\Users\\duphong.hua\\Documents\\phong_document\\git\\resp_test\\test_yolo\\pod\\240703ENAUEY.jpg remove C:\\Users\\duphong.hua\\Documents\\phong_document\\git\\resp_test\\test_yolo\\pod\\240703ENAWS5.jpg remove C:\\Users\\duphong.hua\\Documents\\phong_document\\git\\resp_test\\test_yolo\\pod\\240703ENBQBQ.jpg remove C:\\Users\\duphong.hua\\Documents\\phong_document\\git\\resp_test\\test_yolo\\pod\\240703ENDC9Z.jpg remove C:\\Users\\duphong.hua\\Documents\\phong_document\\git\\resp_test\\test_yolo\\pod\\240703ENEHT3.jpg remove C:\\Users\\duphong.hua\\Documents\\phong_document\\git\\resp_test\\test_yolo\\pod\\240703ENF7AL.jpg remove C:\\Users\\duphong.hua\\Documents\\phong_document\\git\\resp_test\\test_yolo\\pod\\240703ENFY9Y.jpg remove C:\\Users\\duphong.hua\\Documents\\phong_document\\git\\resp_test\\test_yolo\\pod\\240703ENG3NK.jpg remove C:\\Users\\duphong.hua\\Documents\\phong_document\\git\\resp_test\\test_yolo\\pod\\240703ENGF3P.jpg remove C:\\Users\\duphong.hua\\Documents\\phong_document\\git\\resp_test\\test_yolo\\pod\\240703ENGINL.jpg remove C:\\Users\\duphong.hua\\Documents\\phong_document\\git\\resp_test\\test_yolo\\pod\\240703ENH0L3.jpg remove C:\\Users\\duphong.hua\\Documents\\phong_document\\git\\resp_test\\test_yolo\\pod\\240703ENHCDM.jpg remove C:\\Users\\duphong.hua\\Documents\\phong_document\\git\\resp_test\\test_yolo\\pod\\240703ENHJ7A.jpg remove C:\\Users\\duphong.hua\\Documents\\phong_document\\git\\resp_test\\test_yolo\\pod\\240703ENI2F1.jpg remove C:\\Users\\duphong.hua\\Documents\\phong_document\\git\\resp_test\\test_yolo\\pod\\240703ENK0DN.jpg remove C:\\Users\\duphong.hua\\Documents\\phong_document\\git\\resp_test\\test_yolo\\pod\\240703ENKE66.jpg remove C:\\Users\\duphong.hua\\Documents\\phong_document\\git\\resp_test\\test_yolo\\pod\\240703ENKLU0.jpg remove C:\\Users\\duphong.hua\\Documents\\phong_document\\git\\resp_test\\test_yolo\\pod\\240703ENMXEY.jpg remove C:\\Users\\duphong.hua\\Documents\\phong_document\\git\\resp_test\\test_yolo\\pod\\240703ENN8I1.jpg remove C:\\Users\\duphong.hua\\Documents\\phong_document\\git\\resp_test\\test_yolo\\pod\\240703ENOXVN.jpg remove C:\\Users\\duphong.hua\\Documents\\phong_document\\git\\resp_test\\test_yolo\\pod\\240703ENPAJ4.jpg remove C:\\Users\\duphong.hua\\Documents\\phong_document\\git\\resp_test\\test_yolo\\pod\\240703ENPISK.jpg remove C:\\Users\\duphong.hua\\Documents\\phong_document\\git\\resp_test\\test_yolo\\pod\\240703ENQ3YJ.jpg remove C:\\Users\\duphong.hua\\Documents\\phong_document\\git\\resp_test\\test_yolo\\pod\\240703ENQR4F.jpg remove C:\\Users\\duphong.hua\\Documents\\phong_document\\git\\resp_test\\test_yolo\\pod\\240703ENR7EY.jpg remove C:\\Users\\duphong.hua\\Documents\\phong_document\\git\\resp_test\\test_yolo\\pod\\240703ENS6WD.jpg remove C:\\Users\\duphong.hua\\Documents\\phong_document\\git\\resp_test\\test_yolo\\pod\\240703ENTJWT.jpg remove C:\\Users\\duphong.hua\\Documents\\phong_document\\git\\resp_test\\test_yolo\\pod\\240703ENTYI4.jpg remove C:\\Users\\duphong.hua\\Documents\\phong_document\\git\\resp_test\\test_yolo\\pod\\240703ENV8QW.jpg remove C:\\Users\\duphong.hua\\Documents\\phong_document\\git\\resp_test\\test_yolo\\pod\\240703ENV9SN.jpg remove C:\\Users\\duphong.hua\\Documents\\phong_document\\git\\resp_test\\test_yolo\\pod\\240703ENW136.jpg remove C:\\Users\\duphong.hua\\Documents\\phong_document\\git\\resp_test\\test_yolo\\pod\\240703ENYHS4.jpg remove C:\\Users\\duphong.hua\\Documents\\phong_document\\git\\resp_test\\test_yolo\\pod\\240703ENZNDQ.jpg remove C:\\Users\\duphong.hua\\Documents\\phong_document\\git\\resp_test\\test_yolo\\pod\\240703ENZUMA.jpg remove C:\\Users\\duphong.hua\\Documents\\phong_document\\git\\resp_test\\test_yolo\\pod\\240703EO0UDV.jpg remove C:\\Users\\duphong.hua\\Documents\\phong_document\\git\\resp_test\\test_yolo\\pod\\240703EO16NV.jpg remove C:\\Users\\duphong.hua\\Documents\\phong_document\\git\\resp_test\\test_yolo\\pod\\240703EO1P3B.jpg remove C:\\Users\\duphong.hua\\Documents\\phong_document\\git\\resp_test\\test_yolo\\pod\\240703EO1Q5O.jpg remove C:\\Users\\duphong.hua\\Documents\\phong_document\\git\\resp_test\\test_yolo\\pod\\240703EO25HD.jpg remove C:\\Users\\duphong.hua\\Documents\\phong_document\\git\\resp_test\\test_yolo\\pod\\240703EO2JNX.jpg remove C:\\Users\\duphong.hua\\Documents\\phong_document\\git\\resp_test\\test_yolo\\pod\\240703EO3013.jpg remove C:\\Users\\duphong.hua\\Documents\\phong_document\\git\\resp_test\\test_yolo\\pod\\240703EO389X.jpg remove C:\\Users\\duphong.hua\\Documents\\phong_document\\git\\resp_test\\test_yolo\\pod\\240703EO4N1R.jpg remove C:\\Users\\duphong.hua\\Documents\\phong_document\\git\\resp_test\\test_yolo\\pod\\240703EO4TE0.jpg remove C:\\Users\\duphong.hua\\Documents\\phong_document\\git\\resp_test\\test_yolo\\pod\\240703EO69QB.jpg remove C:\\Users\\duphong.hua\\Documents\\phong_document\\git\\resp_test\\test_yolo\\pod\\240703EO69TP.jpg remove C:\\Users\\duphong.hua\\Documents\\phong_document\\git\\resp_test\\test_yolo\\pod\\240703EO6X0B.jpg remove C:\\Users\\duphong.hua\\Documents\\phong_document\\git\\resp_test\\test_yolo\\pod\\240703EO6XJ0.jpg remove C:\\Users\\duphong.hua\\Documents\\phong_document\\git\\resp_test\\test_yolo\\pod\\240703EO75SC.jpg remove C:\\Users\\duphong.hua\\Documents\\phong_document\\git\\resp_test\\test_yolo\\pod\\240703EO7KP1.jpg remove C:\\Users\\duphong.hua\\Documents\\phong_document\\git\\resp_test\\test_yolo\\pod\\240703EO7U5L.jpg remove C:\\Users\\duphong.hua\\Documents\\phong_document\\git\\resp_test\\test_yolo\\pod\\240703EO8H95.jpg remove C:\\Users\\duphong.hua\\Documents\\phong_document\\git\\resp_test\\test_yolo\\pod\\240703EOB706.jpg remove C:\\Users\\duphong.hua\\Documents\\phong_document\\git\\resp_test\\test_yolo\\pod\\240703EOBBIU.jpg remove C:\\Users\\duphong.hua\\Documents\\phong_document\\git\\resp_test\\test_yolo\\pod\\240703EOBGB5.jpg remove C:\\Users\\duphong.hua\\Documents\\phong_document\\git\\resp_test\\test_yolo\\pod\\240703EOEF3P.jpg remove C:\\Users\\duphong.hua\\Documents\\phong_document\\git\\resp_test\\test_yolo\\pod\\240703EOF06Z.jpg remove C:\\Users\\duphong.hua\\Documents\\phong_document\\git\\resp_test\\test_yolo\\pod\\240703EOHOGV.jpg remove C:\\Users\\duphong.hua\\Documents\\phong_document\\git\\resp_test\\test_yolo\\pod\\240703EOI4NN.jpg remove C:\\Users\\duphong.hua\\Documents\\phong_document\\git\\resp_test\\test_yolo\\pod\\240703EOIDJM.jpg remove C:\\Users\\duphong.hua\\Documents\\phong_document\\git\\resp_test\\test_yolo\\pod\\240703EOJLQW.jpg remove C:\\Users\\duphong.hua\\Documents\\phong_document\\git\\resp_test\\test_yolo\\pod\\240703EOMFHD.jpg remove C:\\Users\\duphong.hua\\Documents\\phong_document\\git\\resp_test\\test_yolo\\pod\\240703EOMMKF.jpg remove C:\\Users\\duphong.hua\\Documents\\phong_document\\git\\resp_test\\test_yolo\\pod\\240703EOMU10.jpg remove C:\\Users\\duphong.hua\\Documents\\phong_document\\git\\resp_test\\test_yolo\\pod\\240703EONRP5.jpg remove C:\\Users\\duphong.hua\\Documents\\phong_document\\git\\resp_test\\test_yolo\\pod\\240703EOO4ZH.jpg remove C:\\Users\\duphong.hua\\Documents\\phong_document\\git\\resp_test\\test_yolo\\pod\\240703EOOD3X.jpg remove C:\\Users\\duphong.hua\\Documents\\phong_document\\git\\resp_test\\test_yolo\\pod\\240703EOOGJ3.jpg remove C:\\Users\\duphong.hua\\Documents\\phong_document\\git\\resp_test\\test_yolo\\pod\\240703EOOGNA.jpg remove C:\\Users\\duphong.hua\\Documents\\phong_document\\git\\resp_test\\test_yolo\\pod\\240703EOP46S.jpg remove C:\\Users\\duphong.hua\\Documents\\phong_document\\git\\resp_test\\test_yolo\\pod\\240703EOQ4KZ.jpg remove C:\\Users\\duphong.hua\\Documents\\phong_document\\git\\resp_test\\test_yolo\\pod\\240703EOQJTU.jpg remove C:\\Users\\duphong.hua\\Documents\\phong_document\\git\\resp_test\\test_yolo\\pod\\240703EOQVKJ.jpg remove C:\\Users\\duphong.hua\\Documents\\phong_document\\git\\resp_test\\test_yolo\\pod\\240703EOR0R7.jpg remove C:\\Users\\duphong.hua\\Documents\\phong_document\\git\\resp_test\\test_yolo\\pod\\240703EORIG9.jpg remove C:\\Users\\duphong.hua\\Documents\\phong_document\\git\\resp_test\\test_yolo\\pod\\240703EORU2C.jpg remove C:\\Users\\duphong.hua\\Documents\\phong_document\\git\\resp_test\\test_yolo\\pod\\240703EORZY0.jpg remove C:\\Users\\duphong.hua\\Documents\\phong_document\\git\\resp_test\\test_yolo\\pod\\240703EOS6SL.jpg remove C:\\Users\\duphong.hua\\Documents\\phong_document\\git\\resp_test\\test_yolo\\pod\\240703EOUPVW.jpg remove C:\\Users\\duphong.hua\\Documents\\phong_document\\git\\resp_test\\test_yolo\\pod\\240703EOVSSL.jpg remove C:\\Users\\duphong.hua\\Documents\\phong_document\\git\\resp_test\\test_yolo\\pod\\240703EOVXD7.jpg remove C:\\Users\\duphong.hua\\Documents\\phong_document\\git\\resp_test\\test_yolo\\pod\\240703EOW99M.jpg remove C:\\Users\\duphong.hua\\Documents\\phong_document\\git\\resp_test\\test_yolo\\pod\\240703EOX7UT.jpg remove C:\\Users\\duphong.hua\\Documents\\phong_document\\git\\resp_test\\test_yolo\\pod\\240703EOXXOZ.jpg remove C:\\Users\\duphong.hua\\Documents\\phong_document\\git\\resp_test\\test_yolo\\pod\\240703EOXXU1.jpg remove C:\\Users\\duphong.hua\\Documents\\phong_document\\git\\resp_test\\test_yolo\\pod\\240703EP0KWM.jpg remove C:\\Users\\duphong.hua\\Documents\\phong_document\\git\\resp_test\\test_yolo\\pod\\240703EP1JYW.jpg remove C:\\Users\\duphong.hua\\Documents\\phong_document\\git\\resp_test\\test_yolo\\pod\\240703EP1N97.jpg remove C:\\Users\\duphong.hua\\Documents\\phong_document\\git\\resp_test\\test_yolo\\pod\\240703EP47LT.jpg remove C:\\Users\\duphong.hua\\Documents\\phong_document\\git\\resp_test\\test_yolo\\pod\\240703EP4LD3.jpg remove C:\\Users\\duphong.hua\\Documents\\phong_document\\git\\resp_test\\test_yolo\\pod\\240703EP4PNM.jpg remove C:\\Users\\duphong.hua\\Documents\\phong_document\\git\\resp_test\\test_yolo\\pod\\240703EP4QID.jpg remove C:\\Users\\duphong.hua\\Documents\\phong_document\\git\\resp_test\\test_yolo\\pod\\240703EP5MQC.jpg remove C:\\Users\\duphong.hua\\Documents\\phong_document\\git\\resp_test\\test_yolo\\pod\\240703EP7DDH.jpg remove C:\\Users\\duphong.hua\\Documents\\phong_document\\git\\resp_test\\test_yolo\\pod\\240703EP8L32.jpg remove C:\\Users\\duphong.hua\\Documents\\phong_document\\git\\resp_test\\test_yolo\\pod\\240703EP8QGB.jpg remove C:\\Users\\duphong.hua\\Documents\\phong_document\\git\\resp_test\\test_yolo\\pod\\240703EP8VL8.jpg remove C:\\Users\\duphong.hua\\Documents\\phong_document\\git\\resp_test\\test_yolo\\pod\\240703EP91VL.jpg remove C:\\Users\\duphong.hua\\Documents\\phong_document\\git\\resp_test\\test_yolo\\pod\\240703EP9J78.jpg remove C:\\Users\\duphong.hua\\Documents\\phong_document\\git\\resp_test\\test_yolo\\pod\\240703EPA1NI.jpg remove C:\\Users\\duphong.hua\\Documents\\phong_document\\git\\resp_test\\test_yolo\\pod\\240703EPAHLG.jpg remove C:\\Users\\duphong.hua\\Documents\\phong_document\\git\\resp_test\\test_yolo\\pod\\240703EPAR3P.jpg remove C:\\Users\\duphong.hua\\Documents\\phong_document\\git\\resp_test\\test_yolo\\pod\\240703EPB22L.jpg remove C:\\Users\\duphong.hua\\Documents\\phong_document\\git\\resp_test\\test_yolo\\pod\\240703EPBP15.jpg remove C:\\Users\\duphong.hua\\Documents\\phong_document\\git\\resp_test\\test_yolo\\pod\\240703EPCRU1.jpg remove C:\\Users\\duphong.hua\\Documents\\phong_document\\git\\resp_test\\test_yolo\\pod\\240703EPEGQD.jpg remove C:\\Users\\duphong.hua\\Documents\\phong_document\\git\\resp_test\\test_yolo\\pod\\240703EPF2H8.jpg remove C:\\Users\\duphong.hua\\Documents\\phong_document\\git\\resp_test\\test_yolo\\pod\\240703EPFDR8.jpg remove C:\\Users\\duphong.hua\\Documents\\phong_document\\git\\resp_test\\test_yolo\\pod\\240703EPFODT.jpg remove C:\\Users\\duphong.hua\\Documents\\phong_document\\git\\resp_test\\test_yolo\\pod\\240703EPFPXC.jpg remove C:\\Users\\duphong.hua\\Documents\\phong_document\\git\\resp_test\\test_yolo\\pod\\240703EPG8IH.jpg remove C:\\Users\\duphong.hua\\Documents\\phong_document\\git\\resp_test\\test_yolo\\pod\\240703EPGM5R.jpg remove C:\\Users\\duphong.hua\\Documents\\phong_document\\git\\resp_test\\test_yolo\\pod\\240703EPGO3K.jpg remove C:\\Users\\duphong.hua\\Documents\\phong_document\\git\\resp_test\\test_yolo\\pod\\240703EPHDAW.jpg remove C:\\Users\\duphong.hua\\Documents\\phong_document\\git\\resp_test\\test_yolo\\pod\\240703EPJ8LW.jpg remove C:\\Users\\duphong.hua\\Documents\\phong_document\\git\\resp_test\\test_yolo\\pod\\240703EPJZBT.jpg remove C:\\Users\\duphong.hua\\Documents\\phong_document\\git\\resp_test\\test_yolo\\pod\\240703EPKTHZ.jpg remove C:\\Users\\duphong.hua\\Documents\\phong_document\\git\\resp_test\\test_yolo\\pod\\240703EPL4DQ.jpg remove C:\\Users\\duphong.hua\\Documents\\phong_document\\git\\resp_test\\test_yolo\\pod\\240703EPMYQG.jpg remove C:\\Users\\duphong.hua\\Documents\\phong_document\\git\\resp_test\\test_yolo\\pod\\240703EPN0V1.jpg remove C:\\Users\\duphong.hua\\Documents\\phong_document\\git\\resp_test\\test_yolo\\pod\\240703EPN64X.jpg remove C:\\Users\\duphong.hua\\Documents\\phong_document\\git\\resp_test\\test_yolo\\pod\\240703EPNG6O.jpg remove C:\\Users\\duphong.hua\\Documents\\phong_document\\git\\resp_test\\test_yolo\\pod\\240703EPOQC2.jpg remove C:\\Users\\duphong.hua\\Documents\\phong_document\\git\\resp_test\\test_yolo\\pod\\240703EPQ6D2.jpg remove C:\\Users\\duphong.hua\\Documents\\phong_document\\git\\resp_test\\test_yolo\\pod\\240703EPQXYK.jpg remove C:\\Users\\duphong.hua\\Documents\\phong_document\\git\\resp_test\\test_yolo\\pod\\240703EPRKGN.jpg remove C:\\Users\\duphong.hua\\Documents\\phong_document\\git\\resp_test\\test_yolo\\pod\\240703EPUV2K.jpg remove C:\\Users\\duphong.hua\\Documents\\phong_document\\git\\resp_test\\test_yolo\\pod\\240703EPV252.jpg remove C:\\Users\\duphong.hua\\Documents\\phong_document\\git\\resp_test\\test_yolo\\pod\\240703EPX99X.jpg remove C:\\Users\\duphong.hua\\Documents\\phong_document\\git\\resp_test\\test_yolo\\pod\\240703EPXMYF.jpg remove C:\\Users\\duphong.hua\\Documents\\phong_document\\git\\resp_test\\test_yolo\\pod\\240703EPY2SN.jpg remove C:\\Users\\duphong.hua\\Documents\\phong_document\\git\\resp_test\\test_yolo\\pod\\240703EPYDE2.jpg remove C:\\Users\\duphong.hua\\Documents\\phong_document\\git\\resp_test\\test_yolo\\pod\\240703EPYH7C.jpg remove C:\\Users\\duphong.hua\\Documents\\phong_document\\git\\resp_test\\test_yolo\\pod\\240703EPYTWB.jpg remove C:\\Users\\duphong.hua\\Documents\\phong_document\\git\\resp_test\\test_yolo\\pod\\240703EPZF50.jpg remove C:\\Users\\duphong.hua\\Documents\\phong_document\\git\\resp_test\\test_yolo\\pod\\240703EPZLXG.jpg remove C:\\Users\\duphong.hua\\Documents\\phong_document\\git\\resp_test\\test_yolo\\pod\\240703EPZN1P.jpg remove C:\\Users\\duphong.hua\\Documents\\phong_document\\git\\resp_test\\test_yolo\\pod\\240703EPZV6Y.jpg remove C:\\Users\\duphong.hua\\Documents\\phong_document\\git\\resp_test\\test_yolo\\pod\\240703EPZY10.jpg remove C:\\Users\\duphong.hua\\Documents\\phong_document\\git\\resp_test\\test_yolo\\pod\\240703EQ3PSC.jpg remove C:\\Users\\duphong.hua\\Documents\\phong_document\\git\\resp_test\\test_yolo\\pod\\240703EQ3QF1.jpg remove C:\\Users\\duphong.hua\\Documents\\phong_document\\git\\resp_test\\test_yolo\\pod\\240703EQ47NR.jpg remove C:\\Users\\duphong.hua\\Documents\\phong_document\\git\\resp_test\\test_yolo\\pod\\240703EQ4Z0N.jpg remove C:\\Users\\duphong.hua\\Documents\\phong_document\\git\\resp_test\\test_yolo\\pod\\240703EQ575G.jpg remove C:\\Users\\duphong.hua\\Documents\\phong_document\\git\\resp_test\\test_yolo\\pod\\240703EQ6NLP.jpg remove C:\\Users\\duphong.hua\\Documents\\phong_document\\git\\resp_test\\test_yolo\\pod\\240703EQ7NN2.jpg remove C:\\Users\\duphong.hua\\Documents\\phong_document\\git\\resp_test\\test_yolo\\pod\\240703EQ7NXV.jpg remove C:\\Users\\duphong.hua\\Documents\\phong_document\\git\\resp_test\\test_yolo\\pod\\240703EQ80NA.jpg remove C:\\Users\\duphong.hua\\Documents\\phong_document\\git\\resp_test\\test_yolo\\pod\\240703EQ8INI.jpg remove C:\\Users\\duphong.hua\\Documents\\phong_document\\git\\resp_test\\test_yolo\\pod\\240703EQ8L4A.jpg remove C:\\Users\\duphong.hua\\Documents\\phong_document\\git\\resp_test\\test_yolo\\pod\\240703EQAPME.jpg remove C:\\Users\\duphong.hua\\Documents\\phong_document\\git\\resp_test\\test_yolo\\pod\\240703EQBWL5.jpg remove C:\\Users\\duphong.hua\\Documents\\phong_document\\git\\resp_test\\test_yolo\\pod\\240703EQD808.jpg remove C:\\Users\\duphong.hua\\Documents\\phong_document\\git\\resp_test\\test_yolo\\pod\\240703EQEQ02.jpg remove C:\\Users\\duphong.hua\\Documents\\phong_document\\git\\resp_test\\test_yolo\\pod\\240703EQEQKU.jpg remove C:\\Users\\duphong.hua\\Documents\\phong_document\\git\\resp_test\\test_yolo\\pod\\240703EQEUFP.jpg remove C:\\Users\\duphong.hua\\Documents\\phong_document\\git\\resp_test\\test_yolo\\pod\\240703EQEXSL.jpg remove C:\\Users\\duphong.hua\\Documents\\phong_document\\git\\resp_test\\test_yolo\\pod\\240703EQEY5I.jpg remove C:\\Users\\duphong.hua\\Documents\\phong_document\\git\\resp_test\\test_yolo\\pod\\240703EQF814.jpg remove C:\\Users\\duphong.hua\\Documents\\phong_document\\git\\resp_test\\test_yolo\\pod\\240703EQFBVM.jpg remove C:\\Users\\duphong.hua\\Documents\\phong_document\\git\\resp_test\\test_yolo\\pod\\240703EQJ20V.jpg remove C:\\Users\\duphong.hua\\Documents\\phong_document\\git\\resp_test\\test_yolo\\pod\\240703EQK7N0.jpg remove C:\\Users\\duphong.hua\\Documents\\phong_document\\git\\resp_test\\test_yolo\\pod\\240703EQKNRZ.jpg remove C:\\Users\\duphong.hua\\Documents\\phong_document\\git\\resp_test\\test_yolo\\pod\\240703EQLNHN.jpg remove C:\\Users\\duphong.hua\\Documents\\phong_document\\git\\resp_test\\test_yolo\\pod\\240703EQLWGH.jpg remove C:\\Users\\duphong.hua\\Documents\\phong_document\\git\\resp_test\\test_yolo\\pod\\240703EQM2EG.jpg remove C:\\Users\\duphong.hua\\Documents\\phong_document\\git\\resp_test\\test_yolo\\pod\\240703EQMCJ2.jpg remove C:\\Users\\duphong.hua\\Documents\\phong_document\\git\\resp_test\\test_yolo\\pod\\240703EQN0YR.jpg remove C:\\Users\\duphong.hua\\Documents\\phong_document\\git\\resp_test\\test_yolo\\pod\\240703EQODHM.jpg remove C:\\Users\\duphong.hua\\Documents\\phong_document\\git\\resp_test\\test_yolo\\pod\\240703EQOI49.jpg remove C:\\Users\\duphong.hua\\Documents\\phong_document\\git\\resp_test\\test_yolo\\pod\\240703EQP2DS.jpg remove C:\\Users\\duphong.hua\\Documents\\phong_document\\git\\resp_test\\test_yolo\\pod\\240703EQQBM7.jpg remove C:\\Users\\duphong.hua\\Documents\\phong_document\\git\\resp_test\\test_yolo\\pod\\240703EQRX2H.jpg remove C:\\Users\\duphong.hua\\Documents\\phong_document\\git\\resp_test\\test_yolo\\pod\\240703EQSA8H.jpg remove C:\\Users\\duphong.hua\\Documents\\phong_document\\git\\resp_test\\test_yolo\\pod\\240703EQSRO0.jpg remove C:\\Users\\duphong.hua\\Documents\\phong_document\\git\\resp_test\\test_yolo\\pod\\240703EQT4U9.jpg remove C:\\Users\\duphong.hua\\Documents\\phong_document\\git\\resp_test\\test_yolo\\pod\\240703EQTBUN.jpg remove C:\\Users\\duphong.hua\\Documents\\phong_document\\git\\resp_test\\test_yolo\\pod\\240703EQTGE2.jpg remove C:\\Users\\duphong.hua\\Documents\\phong_document\\git\\resp_test\\test_yolo\\pod\\240703EQTQHE.jpg remove C:\\Users\\duphong.hua\\Documents\\phong_document\\git\\resp_test\\test_yolo\\pod\\240703EQU4IF.jpg remove C:\\Users\\duphong.hua\\Documents\\phong_document\\git\\resp_test\\test_yolo\\pod\\240703EQWM2G.jpg remove C:\\Users\\duphong.hua\\Documents\\phong_document\\git\\resp_test\\test_yolo\\pod\\240703EQX45E.jpg remove C:\\Users\\duphong.hua\\Documents\\phong_document\\git\\resp_test\\test_yolo\\pod\\240703EQXR3J.jpg remove C:\\Users\\duphong.hua\\Documents\\phong_document\\git\\resp_test\\test_yolo\\pod\\240703EQYO6S.jpg remove C:\\Users\\duphong.hua\\Documents\\phong_document\\git\\resp_test\\test_yolo\\pod\\240703EQYX9N.jpg remove C:\\Users\\duphong.hua\\Documents\\phong_document\\git\\resp_test\\test_yolo\\pod\\240703EQZID1.jpg remove C:\\Users\\duphong.hua\\Documents\\phong_document\\git\\resp_test\\test_yolo\\pod\\240703ER0BSQ.jpg remove C:\\Users\\duphong.hua\\Documents\\phong_document\\git\\resp_test\\test_yolo\\pod\\240703ER2LK0.jpg remove C:\\Users\\duphong.hua\\Documents\\phong_document\\git\\resp_test\\test_yolo\\pod\\240703ER3DDZ.jpg remove C:\\Users\\duphong.hua\\Documents\\phong_document\\git\\resp_test\\test_yolo\\pod\\240703ER4XNH.jpg remove C:\\Users\\duphong.hua\\Documents\\phong_document\\git\\resp_test\\test_yolo\\pod\\240703ER563L.jpg remove C:\\Users\\duphong.hua\\Documents\\phong_document\\git\\resp_test\\test_yolo\\pod\\240703ER64KJ.jpg remove C:\\Users\\duphong.hua\\Documents\\phong_document\\git\\resp_test\\test_yolo\\pod\\240703ER6ERT.jpg remove C:\\Users\\duphong.hua\\Documents\\phong_document\\git\\resp_test\\test_yolo\\pod\\240703ER6N8G.jpg remove C:\\Users\\duphong.hua\\Documents\\phong_document\\git\\resp_test\\test_yolo\\pod\\240703ER8AQR.jpg remove C:\\Users\\duphong.hua\\Documents\\phong_document\\git\\resp_test\\test_yolo\\pod\\240703ER8PVT.jpg remove C:\\Users\\duphong.hua\\Documents\\phong_document\\git\\resp_test\\test_yolo\\pod\\240703ER93XH.jpg remove C:\\Users\\duphong.hua\\Documents\\phong_document\\git\\resp_test\\test_yolo\\pod\\240703ER9VCW.jpg remove C:\\Users\\duphong.hua\\Documents\\phong_document\\git\\resp_test\\test_yolo\\pod\\240703ERC4PX.jpg remove C:\\Users\\duphong.hua\\Documents\\phong_document\\git\\resp_test\\test_yolo\\pod\\240703ERCXPV.jpg remove C:\\Users\\duphong.hua\\Documents\\phong_document\\git\\resp_test\\test_yolo\\pod\\240703ERDENR.jpg remove C:\\Users\\duphong.hua\\Documents\\phong_document\\git\\resp_test\\test_yolo\\pod\\240703ERDH5H.jpg remove C:\\Users\\duphong.hua\\Documents\\phong_document\\git\\resp_test\\test_yolo\\pod\\240703EREFOJ.jpg remove C:\\Users\\duphong.hua\\Documents\\phong_document\\git\\resp_test\\test_yolo\\pod\\240703EREYN1.jpg remove C:\\Users\\duphong.hua\\Documents\\phong_document\\git\\resp_test\\test_yolo\\pod\\240703ERF30R.jpg remove C:\\Users\\duphong.hua\\Documents\\phong_document\\git\\resp_test\\test_yolo\\pod\\240703ERG3RL.jpg remove C:\\Users\\duphong.hua\\Documents\\phong_document\\git\\resp_test\\test_yolo\\pod\\240703ERHJXB.jpg remove C:\\Users\\duphong.hua\\Documents\\phong_document\\git\\resp_test\\test_yolo\\pod\\240703ERHQBX.jpg remove C:\\Users\\duphong.hua\\Documents\\phong_document\\git\\resp_test\\test_yolo\\pod\\240703ERHRQ4.jpg remove C:\\Users\\duphong.hua\\Documents\\phong_document\\git\\resp_test\\test_yolo\\pod\\240703ERIGG7.jpg remove C:\\Users\\duphong.hua\\Documents\\phong_document\\git\\resp_test\\test_yolo\\pod\\240703ERILMB.jpg remove C:\\Users\\duphong.hua\\Documents\\phong_document\\git\\resp_test\\test_yolo\\pod\\240703ERJ30J.jpg remove C:\\Users\\duphong.hua\\Documents\\phong_document\\git\\resp_test\\test_yolo\\pod\\240703ERJAZR.jpg remove C:\\Users\\duphong.hua\\Documents\\phong_document\\git\\resp_test\\test_yolo\\pod\\240703ERJM3B.jpg remove C:\\Users\\duphong.hua\\Documents\\phong_document\\git\\resp_test\\test_yolo\\pod\\240703ERK3W4.jpg remove C:\\Users\\duphong.hua\\Documents\\phong_document\\git\\resp_test\\test_yolo\\pod\\240703ERLOKQ.jpg remove C:\\Users\\duphong.hua\\Documents\\phong_document\\git\\resp_test\\test_yolo\\pod\\240703ERMNN6.jpg remove C:\\Users\\duphong.hua\\Documents\\phong_document\\git\\resp_test\\test_yolo\\pod\\240703ERMTNZ.jpg remove C:\\Users\\duphong.hua\\Documents\\phong_document\\git\\resp_test\\test_yolo\\pod\\240703ERNE48.jpg remove C:\\Users\\duphong.hua\\Documents\\phong_document\\git\\resp_test\\test_yolo\\pod\\240703ERNGRR.jpg remove C:\\Users\\duphong.hua\\Documents\\phong_document\\git\\resp_test\\test_yolo\\pod\\240703ERNJFP.jpg remove C:\\Users\\duphong.hua\\Documents\\phong_document\\git\\resp_test\\test_yolo\\pod\\240703ERNP3P.jpg remove C:\\Users\\duphong.hua\\Documents\\phong_document\\git\\resp_test\\test_yolo\\pod\\240703EROCT6.jpg remove C:\\Users\\duphong.hua\\Documents\\phong_document\\git\\resp_test\\test_yolo\\pod\\240703ERPU5S.jpg remove C:\\Users\\duphong.hua\\Documents\\phong_document\\git\\resp_test\\test_yolo\\pod\\240703ERPWZ5.jpg remove C:\\Users\\duphong.hua\\Documents\\phong_document\\git\\resp_test\\test_yolo\\pod\\240703ERQJ6I.jpg remove C:\\Users\\duphong.hua\\Documents\\phong_document\\git\\resp_test\\test_yolo\\pod\\240703ERQUNC.jpg remove C:\\Users\\duphong.hua\\Documents\\phong_document\\git\\resp_test\\test_yolo\\pod\\240703ERRF6I.jpg remove C:\\Users\\duphong.hua\\Documents\\phong_document\\git\\resp_test\\test_yolo\\pod\\240703ERS3MY.jpg remove C:\\Users\\duphong.hua\\Documents\\phong_document\\git\\resp_test\\test_yolo\\pod\\240703ERS8I6.jpg remove C:\\Users\\duphong.hua\\Documents\\phong_document\\git\\resp_test\\test_yolo\\pod\\240703ERSHCZ.jpg remove C:\\Users\\duphong.hua\\Documents\\phong_document\\git\\resp_test\\test_yolo\\pod\\240703ERSRF9.jpg remove C:\\Users\\duphong.hua\\Documents\\phong_document\\git\\resp_test\\test_yolo\\pod\\240703ERT0GH.jpg remove C:\\Users\\duphong.hua\\Documents\\phong_document\\git\\resp_test\\test_yolo\\pod\\240703ERT3LK.jpg remove C:\\Users\\duphong.hua\\Documents\\phong_document\\git\\resp_test\\test_yolo\\pod\\240703ERVBGG.jpg remove C:\\Users\\duphong.hua\\Documents\\phong_document\\git\\resp_test\\test_yolo\\pod\\240703ERVHG5.jpg remove C:\\Users\\duphong.hua\\Documents\\phong_document\\git\\resp_test\\test_yolo\\pod\\240703ERVM0E.jpg remove C:\\Users\\duphong.hua\\Documents\\phong_document\\git\\resp_test\\test_yolo\\pod\\240703ERWGS4.jpg remove C:\\Users\\duphong.hua\\Documents\\phong_document\\git\\resp_test\\test_yolo\\pod\\240703ERWIFB.jpg remove C:\\Users\\duphong.hua\\Documents\\phong_document\\git\\resp_test\\test_yolo\\pod\\240703ERXUZK.jpg remove C:\\Users\\duphong.hua\\Documents\\phong_document\\git\\resp_test\\test_yolo\\pod\\240703ERYUV4.jpg remove C:\\Users\\duphong.hua\\Documents\\phong_document\\git\\resp_test\\test_yolo\\pod\\240703ERZ0DU.jpg remove C:\\Users\\duphong.hua\\Documents\\phong_document\\git\\resp_test\\test_yolo\\pod\\240703ERZ3ZQ.jpg remove C:\\Users\\duphong.hua\\Documents\\phong_document\\git\\resp_test\\test_yolo\\pod\\240703ERZDC1.jpg remove C:\\Users\\duphong.hua\\Documents\\phong_document\\git\\resp_test\\test_yolo\\pod\\240703ES1MKE.jpg remove C:\\Users\\duphong.hua\\Documents\\phong_document\\git\\resp_test\\test_yolo\\pod\\240703ES296W.jpg remove C:\\Users\\duphong.hua\\Documents\\phong_document\\git\\resp_test\\test_yolo\\pod\\240703ES2AKK.jpg remove C:\\Users\\duphong.hua\\Documents\\phong_document\\git\\resp_test\\test_yolo\\pod\\240703ES2ICU.jpg remove C:\\Users\\duphong.hua\\Documents\\phong_document\\git\\resp_test\\test_yolo\\pod\\240703ES2Y60.jpg remove C:\\Users\\duphong.hua\\Documents\\phong_document\\git\\resp_test\\test_yolo\\pod\\240703ES4B0L.jpg remove C:\\Users\\duphong.hua\\Documents\\phong_document\\git\\resp_test\\test_yolo\\pod\\240703ES4GZS.jpg remove C:\\Users\\duphong.hua\\Documents\\phong_document\\git\\resp_test\\test_yolo\\pod\\240703ES55OX.jpg remove C:\\Users\\duphong.hua\\Documents\\phong_document\\git\\resp_test\\test_yolo\\pod\\240703ES6NZF.jpg remove C:\\Users\\duphong.hua\\Documents\\phong_document\\git\\resp_test\\test_yolo\\pod\\240703ES81DX.jpg remove C:\\Users\\duphong.hua\\Documents\\phong_document\\git\\resp_test\\test_yolo\\pod\\240703ES8C9H.jpg remove C:\\Users\\duphong.hua\\Documents\\phong_document\\git\\resp_test\\test_yolo\\pod\\240703ES8JOV.jpg remove C:\\Users\\duphong.hua\\Documents\\phong_document\\git\\resp_test\\test_yolo\\pod\\240703ES8RJO.jpg remove C:\\Users\\duphong.hua\\Documents\\phong_document\\git\\resp_test\\test_yolo\\pod\\240703ES93I2.jpg remove C:\\Users\\duphong.hua\\Documents\\phong_document\\git\\resp_test\\test_yolo\\pod\\240703ESAMXX.jpg remove C:\\Users\\duphong.hua\\Documents\\phong_document\\git\\resp_test\\test_yolo\\pod\\240703ESB1J6.jpg remove C:\\Users\\duphong.hua\\Documents\\phong_document\\git\\resp_test\\test_yolo\\pod\\240703ESCLDD.jpg remove C:\\Users\\duphong.hua\\Documents\\phong_document\\git\\resp_test\\test_yolo\\pod\\240703ESCYFU.jpg remove C:\\Users\\duphong.hua\\Documents\\phong_document\\git\\resp_test\\test_yolo\\pod\\240703ESD9M1.jpg remove C:\\Users\\duphong.hua\\Documents\\phong_document\\git\\resp_test\\test_yolo\\pod\\240703ESEJ96.jpg remove C:\\Users\\duphong.hua\\Documents\\phong_document\\git\\resp_test\\test_yolo\\pod\\240703ESF8DS.jpg remove C:\\Users\\duphong.hua\\Documents\\phong_document\\git\\resp_test\\test_yolo\\pod\\240703ESGI1P.jpg remove C:\\Users\\duphong.hua\\Documents\\phong_document\\git\\resp_test\\test_yolo\\pod\\240703ESICTC.jpg remove C:\\Users\\duphong.hua\\Documents\\phong_document\\git\\resp_test\\test_yolo\\pod\\240703ESJ93S.jpg remove C:\\Users\\duphong.hua\\Documents\\phong_document\\git\\resp_test\\test_yolo\\pod\\240703ESJEHB.jpg remove C:\\Users\\duphong.hua\\Documents\\phong_document\\git\\resp_test\\test_yolo\\pod\\240703ESKTPR.jpg remove C:\\Users\\duphong.hua\\Documents\\phong_document\\git\\resp_test\\test_yolo\\pod\\240703ESL8SI.jpg remove C:\\Users\\duphong.hua\\Documents\\phong_document\\git\\resp_test\\test_yolo\\pod\\240703ESNWXI.jpg remove C:\\Users\\duphong.hua\\Documents\\phong_document\\git\\resp_test\\test_yolo\\pod\\240703ESQNLE.jpg remove C:\\Users\\duphong.hua\\Documents\\phong_document\\git\\resp_test\\test_yolo\\pod\\240703ESS85K.jpg remove C:\\Users\\duphong.hua\\Documents\\phong_document\\git\\resp_test\\test_yolo\\pod\\240703ESSUNP.jpg remove C:\\Users\\duphong.hua\\Documents\\phong_document\\git\\resp_test\\test_yolo\\pod\\240703ESTI12.jpg remove C:\\Users\\duphong.hua\\Documents\\phong_document\\git\\resp_test\\test_yolo\\pod\\240703ESV9H5.jpg remove C:\\Users\\duphong.hua\\Documents\\phong_document\\git\\resp_test\\test_yolo\\pod\\240703ESVF8W.jpg remove C:\\Users\\duphong.hua\\Documents\\phong_document\\git\\resp_test\\test_yolo\\pod\\240703ESVOC4.jpg remove C:\\Users\\duphong.hua\\Documents\\phong_document\\git\\resp_test\\test_yolo\\pod\\240703ESVPUO.jpg remove C:\\Users\\duphong.hua\\Documents\\phong_document\\git\\resp_test\\test_yolo\\pod\\240703ESXSQ6.jpg remove C:\\Users\\duphong.hua\\Documents\\phong_document\\git\\resp_test\\test_yolo\\pod\\240703ESXUMB.jpg remove C:\\Users\\duphong.hua\\Documents\\phong_document\\git\\resp_test\\test_yolo\\pod\\240703ESY4QD.jpg remove C:\\Users\\duphong.hua\\Documents\\phong_document\\git\\resp_test\\test_yolo\\pod\\240703ESYP4I.jpg remove C:\\Users\\duphong.hua\\Documents\\phong_document\\git\\resp_test\\test_yolo\\pod\\240703ESZIUE.jpg remove C:\\Users\\duphong.hua\\Documents\\phong_document\\git\\resp_test\\test_yolo\\pod\\240703ET02R8.jpg remove C:\\Users\\duphong.hua\\Documents\\phong_document\\git\\resp_test\\test_yolo\\pod\\240703ET13VD.jpg remove C:\\Users\\duphong.hua\\Documents\\phong_document\\git\\resp_test\\test_yolo\\pod\\240703ET2P5E.jpg remove C:\\Users\\duphong.hua\\Documents\\phong_document\\git\\resp_test\\test_yolo\\pod\\240703ET2VLX.jpg remove C:\\Users\\duphong.hua\\Documents\\phong_document\\git\\resp_test\\test_yolo\\pod\\240703ET2XPB.jpg remove C:\\Users\\duphong.hua\\Documents\\phong_document\\git\\resp_test\\test_yolo\\pod\\240703ET31X0.jpg remove C:\\Users\\duphong.hua\\Documents\\phong_document\\git\\resp_test\\test_yolo\\pod\\240703ET37BO.jpg remove C:\\Users\\duphong.hua\\Documents\\phong_document\\git\\resp_test\\test_yolo\\pod\\240703ET3NTJ.jpg remove C:\\Users\\duphong.hua\\Documents\\phong_document\\git\\resp_test\\test_yolo\\pod\\240703ET4HFN.jpg remove C:\\Users\\duphong.hua\\Documents\\phong_document\\git\\resp_test\\test_yolo\\pod\\240703ET4X37.jpg remove C:\\Users\\duphong.hua\\Documents\\phong_document\\git\\resp_test\\test_yolo\\pod\\240703ET6GYK.jpg remove C:\\Users\\duphong.hua\\Documents\\phong_document\\git\\resp_test\\test_yolo\\pod\\240703ET78E0.jpg remove C:\\Users\\duphong.hua\\Documents\\phong_document\\git\\resp_test\\test_yolo\\pod\\240703ET7KDA.jpg remove C:\\Users\\duphong.hua\\Documents\\phong_document\\git\\resp_test\\test_yolo\\pod\\240703ET7Q14.jpg remove C:\\Users\\duphong.hua\\Documents\\phong_document\\git\\resp_test\\test_yolo\\pod\\240703ET8PEA.jpg remove C:\\Users\\duphong.hua\\Documents\\phong_document\\git\\resp_test\\test_yolo\\pod\\240703ET9006.jpg remove C:\\Users\\duphong.hua\\Documents\\phong_document\\git\\resp_test\\test_yolo\\pod\\240703ET9FDM.jpg remove C:\\Users\\duphong.hua\\Documents\\phong_document\\git\\resp_test\\test_yolo\\pod\\240703ETA69Q.jpg remove C:\\Users\\duphong.hua\\Documents\\phong_document\\git\\resp_test\\test_yolo\\pod\\240703ETBKAU.jpg remove C:\\Users\\duphong.hua\\Documents\\phong_document\\git\\resp_test\\test_yolo\\pod\\240703ETCP3G.jpg remove C:\\Users\\duphong.hua\\Documents\\phong_document\\git\\resp_test\\test_yolo\\pod\\240703ETCS63.jpg remove C:\\Users\\duphong.hua\\Documents\\phong_document\\git\\resp_test\\test_yolo\\pod\\240703ETD9XD.jpg remove C:\\Users\\duphong.hua\\Documents\\phong_document\\git\\resp_test\\test_yolo\\pod\\240703ETDA2O.jpg remove C:\\Users\\duphong.hua\\Documents\\phong_document\\git\\resp_test\\test_yolo\\pod\\240703ETFTSQ.jpg remove C:\\Users\\duphong.hua\\Documents\\phong_document\\git\\resp_test\\test_yolo\\pod\\240703ETFWME.jpg remove C:\\Users\\duphong.hua\\Documents\\phong_document\\git\\resp_test\\test_yolo\\pod\\240703ETG76D.jpg remove C:\\Users\\duphong.hua\\Documents\\phong_document\\git\\resp_test\\test_yolo\\pod\\240703ETGCXL.jpg remove C:\\Users\\duphong.hua\\Documents\\phong_document\\git\\resp_test\\test_yolo\\pod\\240703ETGIRV.jpg remove C:\\Users\\duphong.hua\\Documents\\phong_document\\git\\resp_test\\test_yolo\\pod\\240703ETHSN3.jpg remove C:\\Users\\duphong.hua\\Documents\\phong_document\\git\\resp_test\\test_yolo\\pod\\240703ETHW5P.jpg remove C:\\Users\\duphong.hua\\Documents\\phong_document\\git\\resp_test\\test_yolo\\pod\\240703ETICXV.jpg remove C:\\Users\\duphong.hua\\Documents\\phong_document\\git\\resp_test\\test_yolo\\pod\\240703ETIZ8L.jpg remove C:\\Users\\duphong.hua\\Documents\\phong_document\\git\\resp_test\\test_yolo\\pod\\240703ETKCLM.jpg remove C:\\Users\\duphong.hua\\Documents\\phong_document\\git\\resp_test\\test_yolo\\pod\\240703ETKODX.jpg remove C:\\Users\\duphong.hua\\Documents\\phong_document\\git\\resp_test\\test_yolo\\pod\\240703ETL23F.jpg remove C:\\Users\\duphong.hua\\Documents\\phong_document\\git\\resp_test\\test_yolo\\pod\\240703ETLNQ5.jpg remove C:\\Users\\duphong.hua\\Documents\\phong_document\\git\\resp_test\\test_yolo\\pod\\240703ETMDJ2.jpg remove C:\\Users\\duphong.hua\\Documents\\phong_document\\git\\resp_test\\test_yolo\\pod\\240703ETNU0O.jpg remove C:\\Users\\duphong.hua\\Documents\\phong_document\\git\\resp_test\\test_yolo\\pod\\240703ETPA7N.jpg remove C:\\Users\\duphong.hua\\Documents\\phong_document\\git\\resp_test\\test_yolo\\pod\\240703ETPUED.jpg remove C:\\Users\\duphong.hua\\Documents\\phong_document\\git\\resp_test\\test_yolo\\pod\\240703ETQK86.jpg remove C:\\Users\\duphong.hua\\Documents\\phong_document\\git\\resp_test\\test_yolo\\pod\\240703ETSSCP.jpg remove C:\\Users\\duphong.hua\\Documents\\phong_document\\git\\resp_test\\test_yolo\\pod\\240703ETW3BA.jpg remove C:\\Users\\duphong.hua\\Documents\\phong_document\\git\\resp_test\\test_yolo\\pod\\240703ETW6KO.jpg remove C:\\Users\\duphong.hua\\Documents\\phong_document\\git\\resp_test\\test_yolo\\pod\\240703ETX8QB.jpg remove C:\\Users\\duphong.hua\\Documents\\phong_document\\git\\resp_test\\test_yolo\\pod\\240703ETXQYQ.jpg remove C:\\Users\\duphong.hua\\Documents\\phong_document\\git\\resp_test\\test_yolo\\pod\\240703ETY7TN.jpg remove C:\\Users\\duphong.hua\\Documents\\phong_document\\git\\resp_test\\test_yolo\\pod\\240703ETYMLD.jpg remove C:\\Users\\duphong.hua\\Documents\\phong_document\\git\\resp_test\\test_yolo\\pod\\240703ETYW07.jpg remove C:\\Users\\duphong.hua\\Documents\\phong_document\\git\\resp_test\\test_yolo\\pod\\240703ETZJM4.jpg remove C:\\Users\\duphong.hua\\Documents\\phong_document\\git\\resp_test\\test_yolo\\pod\\240703ETZTGH.jpg remove C:\\Users\\duphong.hua\\Documents\\phong_document\\git\\resp_test\\test_yolo\\pod\\240703EU2DX1.jpg remove C:\\Users\\duphong.hua\\Documents\\phong_document\\git\\resp_test\\test_yolo\\pod\\240703EU3BGT.jpg remove C:\\Users\\duphong.hua\\Documents\\phong_document\\git\\resp_test\\test_yolo\\pod\\240703EU3OF1.jpg remove C:\\Users\\duphong.hua\\Documents\\phong_document\\git\\resp_test\\test_yolo\\pod\\240703EU4APQ.jpg remove C:\\Users\\duphong.hua\\Documents\\phong_document\\git\\resp_test\\test_yolo\\pod\\240703EU6RAM.jpg remove C:\\Users\\duphong.hua\\Documents\\phong_document\\git\\resp_test\\test_yolo\\pod\\240703EUB4HV.jpg remove C:\\Users\\duphong.hua\\Documents\\phong_document\\git\\resp_test\\test_yolo\\pod\\240703EUBPO4.jpg remove C:\\Users\\duphong.hua\\Documents\\phong_document\\git\\resp_test\\test_yolo\\pod\\240703EUD10W.jpg remove C:\\Users\\duphong.hua\\Documents\\phong_document\\git\\resp_test\\test_yolo\\pod\\240703EUF209.jpg remove C:\\Users\\duphong.hua\\Documents\\phong_document\\git\\resp_test\\test_yolo\\pod\\240703EUG9IQ.jpg remove C:\\Users\\duphong.hua\\Documents\\phong_document\\git\\resp_test\\test_yolo\\pod\\240703EUJ2HV.jpg remove C:\\Users\\duphong.hua\\Documents\\phong_document\\git\\resp_test\\test_yolo\\pod\\240703EUJSOZ.jpg remove C:\\Users\\duphong.hua\\Documents\\phong_document\\git\\resp_test\\test_yolo\\pod\\240703EUL7HV.jpg remove C:\\Users\\duphong.hua\\Documents\\phong_document\\git\\resp_test\\test_yolo\\pod\\240703EUM0OK.jpg remove C:\\Users\\duphong.hua\\Documents\\phong_document\\git\\resp_test\\test_yolo\\pod\\240703EUMT9R.jpg remove C:\\Users\\duphong.hua\\Documents\\phong_document\\git\\resp_test\\test_yolo\\pod\\240703EUOC1W.jpg remove C:\\Users\\duphong.hua\\Documents\\phong_document\\git\\resp_test\\test_yolo\\pod\\240703EUOFR3.jpg remove C:\\Users\\duphong.hua\\Documents\\phong_document\\git\\resp_test\\test_yolo\\pod\\240703EUPGAY.jpg remove C:\\Users\\duphong.hua\\Documents\\phong_document\\git\\resp_test\\test_yolo\\pod\\240703EUPPGX.jpg remove C:\\Users\\duphong.hua\\Documents\\phong_document\\git\\resp_test\\test_yolo\\pod\\240703EUPSTQ.jpg remove C:\\Users\\duphong.hua\\Documents\\phong_document\\git\\resp_test\\test_yolo\\pod\\240703EUQ1H1.jpg remove C:\\Users\\duphong.hua\\Documents\\phong_document\\git\\resp_test\\test_yolo\\pod\\240703EUQVZT.jpg remove C:\\Users\\duphong.hua\\Documents\\phong_document\\git\\resp_test\\test_yolo\\pod\\240703EURANY.jpg remove C:\\Users\\duphong.hua\\Documents\\phong_document\\git\\resp_test\\test_yolo\\pod\\240703EUS795.jpg remove C:\\Users\\duphong.hua\\Documents\\phong_document\\git\\resp_test\\test_yolo\\pod\\240703EUTB9C.jpg remove C:\\Users\\duphong.hua\\Documents\\phong_document\\git\\resp_test\\test_yolo\\pod\\240703EUTGXM.jpg remove C:\\Users\\duphong.hua\\Documents\\phong_document\\git\\resp_test\\test_yolo\\pod\\240703EUTTRY.jpg remove C:\\Users\\duphong.hua\\Documents\\phong_document\\git\\resp_test\\test_yolo\\pod\\240703EUUAIX.jpg remove C:\\Users\\duphong.hua\\Documents\\phong_document\\git\\resp_test\\test_yolo\\pod\\240703EUUJU2.jpg remove C:\\Users\\duphong.hua\\Documents\\phong_document\\git\\resp_test\\test_yolo\\pod\\240703EUUWKW.jpg remove C:\\Users\\duphong.hua\\Documents\\phong_document\\git\\resp_test\\test_yolo\\pod\\240703EUUXUL.jpg remove C:\\Users\\duphong.hua\\Documents\\phong_document\\git\\resp_test\\test_yolo\\pod\\240703EUWFPF.jpg remove C:\\Users\\duphong.hua\\Documents\\phong_document\\git\\resp_test\\test_yolo\\pod\\240703EUX2IV.jpg remove C:\\Users\\duphong.hua\\Documents\\phong_document\\git\\resp_test\\test_yolo\\pod\\240703EUXQS7.jpg remove C:\\Users\\duphong.hua\\Documents\\phong_document\\git\\resp_test\\test_yolo\\pod\\240703EUYDBU.jpg remove C:\\Users\\duphong.hua\\Documents\\phong_document\\git\\resp_test\\test_yolo\\pod\\240703EUZFPG.jpg remove C:\\Users\\duphong.hua\\Documents\\phong_document\\git\\resp_test\\test_yolo\\pod\\240703EV02N2.jpg remove C:\\Users\\duphong.hua\\Documents\\phong_document\\git\\resp_test\\test_yolo\\pod\\240703EV0P1R.jpg remove C:\\Users\\duphong.hua\\Documents\\phong_document\\git\\resp_test\\test_yolo\\pod\\240703EV12U1.jpg remove C:\\Users\\duphong.hua\\Documents\\phong_document\\git\\resp_test\\test_yolo\\pod\\240703EV1H5Z.jpg remove C:\\Users\\duphong.hua\\Documents\\phong_document\\git\\resp_test\\test_yolo\\pod\\240703EV20GA.jpg remove C:\\Users\\duphong.hua\\Documents\\phong_document\\git\\resp_test\\test_yolo\\pod\\240703EV2CR2.jpg remove C:\\Users\\duphong.hua\\Documents\\phong_document\\git\\resp_test\\test_yolo\\pod\\240703EV2I0V.jpg remove C:\\Users\\duphong.hua\\Documents\\phong_document\\git\\resp_test\\test_yolo\\pod\\240703EV2O18.jpg remove C:\\Users\\duphong.hua\\Documents\\phong_document\\git\\resp_test\\test_yolo\\pod\\240703EV3LPH.jpg remove C:\\Users\\duphong.hua\\Documents\\phong_document\\git\\resp_test\\test_yolo\\pod\\240703EV3PNF.jpg remove C:\\Users\\duphong.hua\\Documents\\phong_document\\git\\resp_test\\test_yolo\\pod\\240703EV52JG.jpg remove C:\\Users\\duphong.hua\\Documents\\phong_document\\git\\resp_test\\test_yolo\\pod\\240703EV6NOF.jpg remove C:\\Users\\duphong.hua\\Documents\\phong_document\\git\\resp_test\\test_yolo\\pod\\240703EV6O8X.jpg remove C:\\Users\\duphong.hua\\Documents\\phong_document\\git\\resp_test\\test_yolo\\pod\\240703EV6QEG.jpg remove C:\\Users\\duphong.hua\\Documents\\phong_document\\git\\resp_test\\test_yolo\\pod\\240703EV6VKL.jpg remove C:\\Users\\duphong.hua\\Documents\\phong_document\\git\\resp_test\\test_yolo\\pod\\240703EV7IXE.jpg remove C:\\Users\\duphong.hua\\Documents\\phong_document\\git\\resp_test\\test_yolo\\pod\\240703EV81G6.jpg remove C:\\Users\\duphong.hua\\Documents\\phong_document\\git\\resp_test\\test_yolo\\pod\\240703EV90KV.jpg remove C:\\Users\\duphong.hua\\Documents\\phong_document\\git\\resp_test\\test_yolo\\pod\\240703EV9VQS.jpg remove C:\\Users\\duphong.hua\\Documents\\phong_document\\git\\resp_test\\test_yolo\\pod\\240703EVB8SR.jpg remove C:\\Users\\duphong.hua\\Documents\\phong_document\\git\\resp_test\\test_yolo\\pod\\240703EVBYLH.jpg remove C:\\Users\\duphong.hua\\Documents\\phong_document\\git\\resp_test\\test_yolo\\pod\\240703EVCA19.jpg remove C:\\Users\\duphong.hua\\Documents\\phong_document\\git\\resp_test\\test_yolo\\pod\\240703EVCK7M.jpg remove C:\\Users\\duphong.hua\\Documents\\phong_document\\git\\resp_test\\test_yolo\\pod\\240703EVDAUS.jpg remove C:\\Users\\duphong.hua\\Documents\\phong_document\\git\\resp_test\\test_yolo\\pod\\240703EVE8FN.jpg remove C:\\Users\\duphong.hua\\Documents\\phong_document\\git\\resp_test\\test_yolo\\pod\\240703EVE9C4.jpg remove C:\\Users\\duphong.hua\\Documents\\phong_document\\git\\resp_test\\test_yolo\\pod\\240703EVERD9.jpg remove C:\\Users\\duphong.hua\\Documents\\phong_document\\git\\resp_test\\test_yolo\\pod\\240703EVGL3H.jpg remove C:\\Users\\duphong.hua\\Documents\\phong_document\\git\\resp_test\\test_yolo\\pod\\240703EVIQN4.jpg remove C:\\Users\\duphong.hua\\Documents\\phong_document\\git\\resp_test\\test_yolo\\pod\\240703EVIS05.jpg remove C:\\Users\\duphong.hua\\Documents\\phong_document\\git\\resp_test\\test_yolo\\pod\\240703EVIWDI.jpg remove C:\\Users\\duphong.hua\\Documents\\phong_document\\git\\resp_test\\test_yolo\\pod\\240703EVJ1WH.jpg remove C:\\Users\\duphong.hua\\Documents\\phong_document\\git\\resp_test\\test_yolo\\pod\\240703EVK6C0.jpg remove C:\\Users\\duphong.hua\\Documents\\phong_document\\git\\resp_test\\test_yolo\\pod\\240703EVK6MA.jpg remove C:\\Users\\duphong.hua\\Documents\\phong_document\\git\\resp_test\\test_yolo\\pod\\240703EVKBM8.jpg remove C:\\Users\\duphong.hua\\Documents\\phong_document\\git\\resp_test\\test_yolo\\pod\\240703EVKFQR.jpg remove C:\\Users\\duphong.hua\\Documents\\phong_document\\git\\resp_test\\test_yolo\\pod\\240703EVL0OL.jpg remove C:\\Users\\duphong.hua\\Documents\\phong_document\\git\\resp_test\\test_yolo\\pod\\240703EVLDXX.jpg remove C:\\Users\\duphong.hua\\Documents\\phong_document\\git\\resp_test\\test_yolo\\pod\\240703EVLIN8.jpg remove C:\\Users\\duphong.hua\\Documents\\phong_document\\git\\resp_test\\test_yolo\\pod\\240703EVMGQI.jpg remove C:\\Users\\duphong.hua\\Documents\\phong_document\\git\\resp_test\\test_yolo\\pod\\240703EVNHDH.jpg remove C:\\Users\\duphong.hua\\Documents\\phong_document\\git\\resp_test\\test_yolo\\pod\\240703EVNSLB.jpg remove C:\\Users\\duphong.hua\\Documents\\phong_document\\git\\resp_test\\test_yolo\\pod\\240703EVOPSI.jpg remove C:\\Users\\duphong.hua\\Documents\\phong_document\\git\\resp_test\\test_yolo\\pod\\240703EVOSVB.jpg remove C:\\Users\\duphong.hua\\Documents\\phong_document\\git\\resp_test\\test_yolo\\pod\\240703EVOV72.jpg remove C:\\Users\\duphong.hua\\Documents\\phong_document\\git\\resp_test\\test_yolo\\pod\\240703EVP3J2.jpg remove C:\\Users\\duphong.hua\\Documents\\phong_document\\git\\resp_test\\test_yolo\\pod\\240703EVPTLV.jpg remove C:\\Users\\duphong.hua\\Documents\\phong_document\\git\\resp_test\\test_yolo\\pod\\240703EVQ8V0.jpg remove C:\\Users\\duphong.hua\\Documents\\phong_document\\git\\resp_test\\test_yolo\\pod\\240703EVQFKA.jpg remove C:\\Users\\duphong.hua\\Documents\\phong_document\\git\\resp_test\\test_yolo\\pod\\240703EVQN2M.jpg remove C:\\Users\\duphong.hua\\Documents\\phong_document\\git\\resp_test\\test_yolo\\pod\\240703EVR0O2.jpg remove C:\\Users\\duphong.hua\\Documents\\phong_document\\git\\resp_test\\test_yolo\\pod\\240703EVR0WO.jpg remove C:\\Users\\duphong.hua\\Documents\\phong_document\\git\\resp_test\\test_yolo\\pod\\240703EVRJ0Z.jpg remove C:\\Users\\duphong.hua\\Documents\\phong_document\\git\\resp_test\\test_yolo\\pod\\240703EVRWTH.jpg remove C:\\Users\\duphong.hua\\Documents\\phong_document\\git\\resp_test\\test_yolo\\pod\\240703EVSH97.jpg remove C:\\Users\\duphong.hua\\Documents\\phong_document\\git\\resp_test\\test_yolo\\pod\\240703EVSPX9.jpg remove C:\\Users\\duphong.hua\\Documents\\phong_document\\git\\resp_test\\test_yolo\\pod\\240703EVT2FM.jpg remove C:\\Users\\duphong.hua\\Documents\\phong_document\\git\\resp_test\\test_yolo\\pod\\240703EVTA0H.jpg remove C:\\Users\\duphong.hua\\Documents\\phong_document\\git\\resp_test\\test_yolo\\pod\\240703EVTR4L.jpg remove C:\\Users\\duphong.hua\\Documents\\phong_document\\git\\resp_test\\test_yolo\\pod\\240703EVTTU9.jpg remove C:\\Users\\duphong.hua\\Documents\\phong_document\\git\\resp_test\\test_yolo\\pod\\240703EVWP41.jpg remove C:\\Users\\duphong.hua\\Documents\\phong_document\\git\\resp_test\\test_yolo\\pod\\240703EVWTQ7.jpg remove C:\\Users\\duphong.hua\\Documents\\phong_document\\git\\resp_test\\test_yolo\\pod\\240703EVX8ID.jpg remove C:\\Users\\duphong.hua\\Documents\\phong_document\\git\\resp_test\\test_yolo\\pod\\240703EVXRLL.jpg remove C:\\Users\\duphong.hua\\Documents\\phong_document\\git\\resp_test\\test_yolo\\pod\\240703EVY5ZE.jpg remove C:\\Users\\duphong.hua\\Documents\\phong_document\\git\\resp_test\\test_yolo\\pod\\240703EVYYKS.jpg remove C:\\Users\\duphong.hua\\Documents\\phong_document\\git\\resp_test\\test_yolo\\pod\\240703EVZK8S.jpg remove C:\\Users\\duphong.hua\\Documents\\phong_document\\git\\resp_test\\test_yolo\\pod\\240703EW1LV3.jpg remove C:\\Users\\duphong.hua\\Documents\\phong_document\\git\\resp_test\\test_yolo\\pod\\240703EW1WYR.jpg remove C:\\Users\\duphong.hua\\Documents\\phong_document\\git\\resp_test\\test_yolo\\pod\\240703EW4N66.jpg remove C:\\Users\\duphong.hua\\Documents\\phong_document\\git\\resp_test\\test_yolo\\pod\\240703EW4SDZ.jpg remove C:\\Users\\duphong.hua\\Documents\\phong_document\\git\\resp_test\\test_yolo\\pod\\240703EW56OJ.jpg remove C:\\Users\\duphong.hua\\Documents\\phong_document\\git\\resp_test\\test_yolo\\pod\\240703EW6OS5.jpg remove C:\\Users\\duphong.hua\\Documents\\phong_document\\git\\resp_test\\test_yolo\\pod\\240703EW6S6F.jpg remove C:\\Users\\duphong.hua\\Documents\\phong_document\\git\\resp_test\\test_yolo\\pod\\240703EW807K.jpg remove C:\\Users\\duphong.hua\\Documents\\phong_document\\git\\resp_test\\test_yolo\\pod\\240703EW9A1E.jpg remove C:\\Users\\duphong.hua\\Documents\\phong_document\\git\\resp_test\\test_yolo\\pod\\240703EWB03I.jpg remove C:\\Users\\duphong.hua\\Documents\\phong_document\\git\\resp_test\\test_yolo\\pod\\240703EWBJ2R.jpg remove C:\\Users\\duphong.hua\\Documents\\phong_document\\git\\resp_test\\test_yolo\\pod\\240703EWCJ8L.jpg remove C:\\Users\\duphong.hua\\Documents\\phong_document\\git\\resp_test\\test_yolo\\pod\\240703EWFCR3.jpg remove C:\\Users\\duphong.hua\\Documents\\phong_document\\git\\resp_test\\test_yolo\\pod\\240703EWFYII.jpg remove C:\\Users\\duphong.hua\\Documents\\phong_document\\git\\resp_test\\test_yolo\\pod\\240703EWG1LT.jpg remove C:\\Users\\duphong.hua\\Documents\\phong_document\\git\\resp_test\\test_yolo\\pod\\240703EWH281.jpg remove C:\\Users\\duphong.hua\\Documents\\phong_document\\git\\resp_test\\test_yolo\\pod\\240703EWHN0Y.jpg remove C:\\Users\\duphong.hua\\Documents\\phong_document\\git\\resp_test\\test_yolo\\pod\\240703EWHRJO.jpg remove C:\\Users\\duphong.hua\\Documents\\phong_document\\git\\resp_test\\test_yolo\\pod\\240703EWJ7GD.jpg remove C:\\Users\\duphong.hua\\Documents\\phong_document\\git\\resp_test\\test_yolo\\pod\\240703EWJ7ZG.jpg remove C:\\Users\\duphong.hua\\Documents\\phong_document\\git\\resp_test\\test_yolo\\pod\\240703EWJD7J.jpg remove C:\\Users\\duphong.hua\\Documents\\phong_document\\git\\resp_test\\test_yolo\\pod\\240703EWKQOH.jpg remove C:\\Users\\duphong.hua\\Documents\\phong_document\\git\\resp_test\\test_yolo\\pod\\240703EWLI93.jpg remove C:\\Users\\duphong.hua\\Documents\\phong_document\\git\\resp_test\\test_yolo\\pod\\240703EWLSKW.jpg remove C:\\Users\\duphong.hua\\Documents\\phong_document\\git\\resp_test\\test_yolo\\pod\\240703EWMFO9.jpg remove C:\\Users\\duphong.hua\\Documents\\phong_document\\git\\resp_test\\test_yolo\\pod\\240703EWMLAJ.jpg remove C:\\Users\\duphong.hua\\Documents\\phong_document\\git\\resp_test\\test_yolo\\pod\\240703EWMNMJ.jpg remove C:\\Users\\duphong.hua\\Documents\\phong_document\\git\\resp_test\\test_yolo\\pod\\240703EWMUEX.jpg remove C:\\Users\\duphong.hua\\Documents\\phong_document\\git\\resp_test\\test_yolo\\pod\\240703EWNCPP.jpg remove C:\\Users\\duphong.hua\\Documents\\phong_document\\git\\resp_test\\test_yolo\\pod\\240703EWPCTA.jpg remove C:\\Users\\duphong.hua\\Documents\\phong_document\\git\\resp_test\\test_yolo\\pod\\240703EWPK42.jpg remove C:\\Users\\duphong.hua\\Documents\\phong_document\\git\\resp_test\\test_yolo\\pod\\240703EWQJNE.jpg remove C:\\Users\\duphong.hua\\Documents\\phong_document\\git\\resp_test\\test_yolo\\pod\\240703EWQN4Q.jpg remove C:\\Users\\duphong.hua\\Documents\\phong_document\\git\\resp_test\\test_yolo\\pod\\240703EWQN4U.jpg remove C:\\Users\\duphong.hua\\Documents\\phong_document\\git\\resp_test\\test_yolo\\pod\\240703EWT9AZ.jpg remove C:\\Users\\duphong.hua\\Documents\\phong_document\\git\\resp_test\\test_yolo\\pod\\240703EWTB2P.jpg remove C:\\Users\\duphong.hua\\Documents\\phong_document\\git\\resp_test\\test_yolo\\pod\\240703EWUCE2.jpg remove C:\\Users\\duphong.hua\\Documents\\phong_document\\git\\resp_test\\test_yolo\\pod\\240703EWUZP0.jpg remove C:\\Users\\duphong.hua\\Documents\\phong_document\\git\\resp_test\\test_yolo\\pod\\240703EWV51G.jpg remove C:\\Users\\duphong.hua\\Documents\\phong_document\\git\\resp_test\\test_yolo\\pod\\240703EWWKOJ.jpg remove C:\\Users\\duphong.hua\\Documents\\phong_document\\git\\resp_test\\test_yolo\\pod\\240703EWYWLH.jpg remove C:\\Users\\duphong.hua\\Documents\\phong_document\\git\\resp_test\\test_yolo\\pod\\240703EWZ7HF.jpg remove C:\\Users\\duphong.hua\\Documents\\phong_document\\git\\resp_test\\test_yolo\\pod\\240703EWZG96.jpg remove C:\\Users\\duphong.hua\\Documents\\phong_document\\git\\resp_test\\test_yolo\\pod\\240703EWZVOG.jpg remove C:\\Users\\duphong.hua\\Documents\\phong_document\\git\\resp_test\\test_yolo\\pod\\240703EX1631.jpg remove C:\\Users\\duphong.hua\\Documents\\phong_document\\git\\resp_test\\test_yolo\\pod\\240703EX196Y.jpg remove C:\\Users\\duphong.hua\\Documents\\phong_document\\git\\resp_test\\test_yolo\\pod\\240703EX1UFX.jpg remove C:\\Users\\duphong.hua\\Documents\\phong_document\\git\\resp_test\\test_yolo\\pod\\240703EX1Z6E.jpg remove C:\\Users\\duphong.hua\\Documents\\phong_document\\git\\resp_test\\test_yolo\\pod\\240703EX23T9.jpg remove C:\\Users\\duphong.hua\\Documents\\phong_document\\git\\resp_test\\test_yolo\\pod\\240703EX2FHV.jpg remove C:\\Users\\duphong.hua\\Documents\\phong_document\\git\\resp_test\\test_yolo\\pod\\240703EX2KMR.jpg remove C:\\Users\\duphong.hua\\Documents\\phong_document\\git\\resp_test\\test_yolo\\pod\\240703EX3DMW.jpg remove C:\\Users\\duphong.hua\\Documents\\phong_document\\git\\resp_test\\test_yolo\\pod\\240703EX3UT0.jpg remove C:\\Users\\duphong.hua\\Documents\\phong_document\\git\\resp_test\\test_yolo\\pod\\240703EX44DE.jpg remove C:\\Users\\duphong.hua\\Documents\\phong_document\\git\\resp_test\\test_yolo\\pod\\240703EX4HKR.jpg remove C:\\Users\\duphong.hua\\Documents\\phong_document\\git\\resp_test\\test_yolo\\pod\\240703EX4OZO.jpg remove C:\\Users\\duphong.hua\\Documents\\phong_document\\git\\resp_test\\test_yolo\\pod\\240703EX4RUU.jpg remove C:\\Users\\duphong.hua\\Documents\\phong_document\\git\\resp_test\\test_yolo\\pod\\240703EX4VWE.jpg remove C:\\Users\\duphong.hua\\Documents\\phong_document\\git\\resp_test\\test_yolo\\pod\\240703EX5Y9R.jpg remove C:\\Users\\duphong.hua\\Documents\\phong_document\\git\\resp_test\\test_yolo\\pod\\240703EX6NKY.jpg remove C:\\Users\\duphong.hua\\Documents\\phong_document\\git\\resp_test\\test_yolo\\pod\\240703EX789K.jpg remove C:\\Users\\duphong.hua\\Documents\\phong_document\\git\\resp_test\\test_yolo\\pod\\240703EX7F8U.jpg remove C:\\Users\\duphong.hua\\Documents\\phong_document\\git\\resp_test\\test_yolo\\pod\\240703EX7FYQ.jpg remove C:\\Users\\duphong.hua\\Documents\\phong_document\\git\\resp_test\\test_yolo\\pod\\240703EX816U.jpg remove C:\\Users\\duphong.hua\\Documents\\phong_document\\git\\resp_test\\test_yolo\\pod\\240703EX9235.jpg remove C:\\Users\\duphong.hua\\Documents\\phong_document\\git\\resp_test\\test_yolo\\pod\\240703EXA0TY.jpg remove C:\\Users\\duphong.hua\\Documents\\phong_document\\git\\resp_test\\test_yolo\\pod\\240703EXAI4H.jpg remove C:\\Users\\duphong.hua\\Documents\\phong_document\\git\\resp_test\\test_yolo\\pod\\240703EXAMP6.jpg remove C:\\Users\\duphong.hua\\Documents\\phong_document\\git\\resp_test\\test_yolo\\pod\\240703EXBDM6.jpg remove C:\\Users\\duphong.hua\\Documents\\phong_document\\git\\resp_test\\test_yolo\\pod\\240703EXBOUP.jpg remove C:\\Users\\duphong.hua\\Documents\\phong_document\\git\\resp_test\\test_yolo\\pod\\240703EXC0K2.jpg remove C:\\Users\\duphong.hua\\Documents\\phong_document\\git\\resp_test\\test_yolo\\pod\\240703EXCMZO.jpg remove C:\\Users\\duphong.hua\\Documents\\phong_document\\git\\resp_test\\test_yolo\\pod\\240703EXDMK6.jpg remove C:\\Users\\duphong.hua\\Documents\\phong_document\\git\\resp_test\\test_yolo\\pod\\240703EXDT79.jpg remove C:\\Users\\duphong.hua\\Documents\\phong_document\\git\\resp_test\\test_yolo\\pod\\240703EXECRR.jpg remove C:\\Users\\duphong.hua\\Documents\\phong_document\\git\\resp_test\\test_yolo\\pod\\240703EXEESI.jpg remove C:\\Users\\duphong.hua\\Documents\\phong_document\\git\\resp_test\\test_yolo\\pod\\240703EXEI56.jpg remove C:\\Users\\duphong.hua\\Documents\\phong_document\\git\\resp_test\\test_yolo\\pod\\240703EXET8K.jpg remove C:\\Users\\duphong.hua\\Documents\\phong_document\\git\\resp_test\\test_yolo\\pod\\240703EXEVAK.jpg remove C:\\Users\\duphong.hua\\Documents\\phong_document\\git\\resp_test\\test_yolo\\pod\\240703EXFW1R.jpg remove C:\\Users\\duphong.hua\\Documents\\phong_document\\git\\resp_test\\test_yolo\\pod\\240703EXGHBI.jpg remove C:\\Users\\duphong.hua\\Documents\\phong_document\\git\\resp_test\\test_yolo\\pod\\240703EXGK3I.jpg remove C:\\Users\\duphong.hua\\Documents\\phong_document\\git\\resp_test\\test_yolo\\pod\\240703EXGKBY.jpg remove C:\\Users\\duphong.hua\\Documents\\phong_document\\git\\resp_test\\test_yolo\\pod\\240703EXHX74.jpg remove C:\\Users\\duphong.hua\\Documents\\phong_document\\git\\resp_test\\test_yolo\\pod\\240703EXI1R1.jpg remove C:\\Users\\duphong.hua\\Documents\\phong_document\\git\\resp_test\\test_yolo\\pod\\240703EXIB4U.jpg remove C:\\Users\\duphong.hua\\Documents\\phong_document\\git\\resp_test\\test_yolo\\pod\\240703EXJ8BH.jpg remove C:\\Users\\duphong.hua\\Documents\\phong_document\\git\\resp_test\\test_yolo\\pod\\240703EXK171.jpg remove C:\\Users\\duphong.hua\\Documents\\phong_document\\git\\resp_test\\test_yolo\\pod\\240703EXL7MF.jpg remove C:\\Users\\duphong.hua\\Documents\\phong_document\\git\\resp_test\\test_yolo\\pod\\240703EXLK8V.jpg remove C:\\Users\\duphong.hua\\Documents\\phong_document\\git\\resp_test\\test_yolo\\pod\\240703EXLMOX.jpg remove C:\\Users\\duphong.hua\\Documents\\phong_document\\git\\resp_test\\test_yolo\\pod\\240703EXM9QY.jpg remove C:\\Users\\duphong.hua\\Documents\\phong_document\\git\\resp_test\\test_yolo\\pod\\240703EXMF8G.jpg remove C:\\Users\\duphong.hua\\Documents\\phong_document\\git\\resp_test\\test_yolo\\pod\\240703EXMIX0.jpg remove C:\\Users\\duphong.hua\\Documents\\phong_document\\git\\resp_test\\test_yolo\\pod\\240703EXMKSD.jpg remove C:\\Users\\duphong.hua\\Documents\\phong_document\\git\\resp_test\\test_yolo\\pod\\240703EXNCSE.jpg remove C:\\Users\\duphong.hua\\Documents\\phong_document\\git\\resp_test\\test_yolo\\pod\\240703EXNU17.jpg remove C:\\Users\\duphong.hua\\Documents\\phong_document\\git\\resp_test\\test_yolo\\pod\\240703EXOSI4.jpg remove C:\\Users\\duphong.hua\\Documents\\phong_document\\git\\resp_test\\test_yolo\\pod\\240703EXQ9GR.jpg remove C:\\Users\\duphong.hua\\Documents\\phong_document\\git\\resp_test\\test_yolo\\pod\\240703EXQXOX.jpg remove C:\\Users\\duphong.hua\\Documents\\phong_document\\git\\resp_test\\test_yolo\\pod\\240703EXREB7.jpg remove C:\\Users\\duphong.hua\\Documents\\phong_document\\git\\resp_test\\test_yolo\\pod\\240703EXTEN0.jpg remove C:\\Users\\duphong.hua\\Documents\\phong_document\\git\\resp_test\\test_yolo\\pod\\240703EXV3KT.jpg remove C:\\Users\\duphong.hua\\Documents\\phong_document\\git\\resp_test\\test_yolo\\pod\\240703EXVFH5.jpg remove C:\\Users\\duphong.hua\\Documents\\phong_document\\git\\resp_test\\test_yolo\\pod\\240703EXVUXU.jpg remove C:\\Users\\duphong.hua\\Documents\\phong_document\\git\\resp_test\\test_yolo\\pod\\240703EXWHN0.jpg remove C:\\Users\\duphong.hua\\Documents\\phong_document\\git\\resp_test\\test_yolo\\pod\\240703EXWLO3.jpg remove C:\\Users\\duphong.hua\\Documents\\phong_document\\git\\resp_test\\test_yolo\\pod\\240703EXWMCH.jpg remove C:\\Users\\duphong.hua\\Documents\\phong_document\\git\\resp_test\\test_yolo\\pod\\240703EXZ3CV.jpg remove C:\\Users\\duphong.hua\\Documents\\phong_document\\git\\resp_test\\test_yolo\\pod\\240703EXZHMD.jpg remove C:\\Users\\duphong.hua\\Documents\\phong_document\\git\\resp_test\\test_yolo\\pod\\240703EXZN27.jpg remove C:\\Users\\duphong.hua\\Documents\\phong_document\\git\\resp_test\\test_yolo\\pod\\240703EY0VTT.jpg remove C:\\Users\\duphong.hua\\Documents\\phong_document\\git\\resp_test\\test_yolo\\pod\\240703EY11KF.jpg remove C:\\Users\\duphong.hua\\Documents\\phong_document\\git\\resp_test\\test_yolo\\pod\\240703EY1I64.jpg remove C:\\Users\\duphong.hua\\Documents\\phong_document\\git\\resp_test\\test_yolo\\pod\\240703EY4AGQ.jpg remove C:\\Users\\duphong.hua\\Documents\\phong_document\\git\\resp_test\\test_yolo\\pod\\240703EY4FQW.jpg remove C:\\Users\\duphong.hua\\Documents\\phong_document\\git\\resp_test\\test_yolo\\pod\\240703EY4SLB.jpg remove C:\\Users\\duphong.hua\\Documents\\phong_document\\git\\resp_test\\test_yolo\\pod\\240703EY56S2.jpg remove C:\\Users\\duphong.hua\\Documents\\phong_document\\git\\resp_test\\test_yolo\\pod\\240703EY5X14.jpg remove C:\\Users\\duphong.hua\\Documents\\phong_document\\git\\resp_test\\test_yolo\\pod\\240703EY67F5.jpg remove C:\\Users\\duphong.hua\\Documents\\phong_document\\git\\resp_test\\test_yolo\\pod\\240703EY79V0.jpg remove C:\\Users\\duphong.hua\\Documents\\phong_document\\git\\resp_test\\test_yolo\\pod\\240703EY8JE5.jpg remove C:\\Users\\duphong.hua\\Documents\\phong_document\\git\\resp_test\\test_yolo\\pod\\240703EY8PZK.jpg remove C:\\Users\\duphong.hua\\Documents\\phong_document\\git\\resp_test\\test_yolo\\pod\\240703EY9148.jpg remove C:\\Users\\duphong.hua\\Documents\\phong_document\\git\\resp_test\\test_yolo\\pod\\240703EY96UH.jpg remove C:\\Users\\duphong.hua\\Documents\\phong_document\\git\\resp_test\\test_yolo\\pod\\240703EYAKSX.jpg remove C:\\Users\\duphong.hua\\Documents\\phong_document\\git\\resp_test\\test_yolo\\pod\\240703EYBZWL.jpg remove C:\\Users\\duphong.hua\\Documents\\phong_document\\git\\resp_test\\test_yolo\\pod\\240703EYCK0H.jpg remove C:\\Users\\duphong.hua\\Documents\\phong_document\\git\\resp_test\\test_yolo\\pod\\240703EYD8ZI.jpg remove C:\\Users\\duphong.hua\\Documents\\phong_document\\git\\resp_test\\test_yolo\\pod\\240703EYFSEZ.jpg remove C:\\Users\\duphong.hua\\Documents\\phong_document\\git\\resp_test\\test_yolo\\pod\\240703EYGR3S.jpg remove C:\\Users\\duphong.hua\\Documents\\phong_document\\git\\resp_test\\test_yolo\\pod\\240703EYH0GT.jpg remove C:\\Users\\duphong.hua\\Documents\\phong_document\\git\\resp_test\\test_yolo\\pod\\240703EYHIG4.jpg remove C:\\Users\\duphong.hua\\Documents\\phong_document\\git\\resp_test\\test_yolo\\pod\\240703EYJGQL.jpg remove C:\\Users\\duphong.hua\\Documents\\phong_document\\git\\resp_test\\test_yolo\\pod\\240703EYK5GA.jpg remove C:\\Users\\duphong.hua\\Documents\\phong_document\\git\\resp_test\\test_yolo\\pod\\240703EYL0OR.jpg remove C:\\Users\\duphong.hua\\Documents\\phong_document\\git\\resp_test\\test_yolo\\pod\\240703EYLJY1.jpg remove C:\\Users\\duphong.hua\\Documents\\phong_document\\git\\resp_test\\test_yolo\\pod\\240703EYM2GG.jpg remove C:\\Users\\duphong.hua\\Documents\\phong_document\\git\\resp_test\\test_yolo\\pod\\240703EYM5M6.jpg remove C:\\Users\\duphong.hua\\Documents\\phong_document\\git\\resp_test\\test_yolo\\pod\\240703EYMOOC.jpg remove C:\\Users\\duphong.hua\\Documents\\phong_document\\git\\resp_test\\test_yolo\\pod\\240703EYNY6Y.jpg remove C:\\Users\\duphong.hua\\Documents\\phong_document\\git\\resp_test\\test_yolo\\pod\\240703EYOS4D.jpg remove C:\\Users\\duphong.hua\\Documents\\phong_document\\git\\resp_test\\test_yolo\\pod\\240703EYOSZE.jpg remove C:\\Users\\duphong.hua\\Documents\\phong_document\\git\\resp_test\\test_yolo\\pod\\240703EYPJWR.jpg remove C:\\Users\\duphong.hua\\Documents\\phong_document\\git\\resp_test\\test_yolo\\pod\\240703EYPU7N.jpg remove C:\\Users\\duphong.hua\\Documents\\phong_document\\git\\resp_test\\test_yolo\\pod\\240703EYQHIR.jpg remove C:\\Users\\duphong.hua\\Documents\\phong_document\\git\\resp_test\\test_yolo\\pod\\240703EYQNWV.jpg remove C:\\Users\\duphong.hua\\Documents\\phong_document\\git\\resp_test\\test_yolo\\pod\\240703EYRRQP.jpg remove C:\\Users\\duphong.hua\\Documents\\phong_document\\git\\resp_test\\test_yolo\\pod\\240703EYSPO2.jpg remove C:\\Users\\duphong.hua\\Documents\\phong_document\\git\\resp_test\\test_yolo\\pod\\240703EYTQ7P.jpg remove C:\\Users\\duphong.hua\\Documents\\phong_document\\git\\resp_test\\test_yolo\\pod\\240703EYUYLC.jpg remove C:\\Users\\duphong.hua\\Documents\\phong_document\\git\\resp_test\\test_yolo\\pod\\240703EYVRZE.jpg remove C:\\Users\\duphong.hua\\Documents\\phong_document\\git\\resp_test\\test_yolo\\pod\\240703EYVTHE.jpg remove C:\\Users\\duphong.hua\\Documents\\phong_document\\git\\resp_test\\test_yolo\\pod\\240703EYWJDW.jpg remove C:\\Users\\duphong.hua\\Documents\\phong_document\\git\\resp_test\\test_yolo\\pod\\240703EYX1RQ.jpg remove C:\\Users\\duphong.hua\\Documents\\phong_document\\git\\resp_test\\test_yolo\\pod\\240703EYX90Y.jpg remove C:\\Users\\duphong.hua\\Documents\\phong_document\\git\\resp_test\\test_yolo\\pod\\240703EYXIXD.jpg remove C:\\Users\\duphong.hua\\Documents\\phong_document\\git\\resp_test\\test_yolo\\pod\\240703EYXLIM.jpg remove C:\\Users\\duphong.hua\\Documents\\phong_document\\git\\resp_test\\test_yolo\\pod\\240703EYY8NS.jpg remove C:\\Users\\duphong.hua\\Documents\\phong_document\\git\\resp_test\\test_yolo\\pod\\240703EYYEKZ.jpg remove C:\\Users\\duphong.hua\\Documents\\phong_document\\git\\resp_test\\test_yolo\\pod\\240703EYYERG.jpg remove C:\\Users\\duphong.hua\\Documents\\phong_document\\git\\resp_test\\test_yolo\\pod\\240703EYZCZ0.jpg remove C:\\Users\\duphong.hua\\Documents\\phong_document\\git\\resp_test\\test_yolo\\pod\\240703EYZI2Q.jpg remove C:\\Users\\duphong.hua\\Documents\\phong_document\\git\\resp_test\\test_yolo\\pod\\240703EZ0AY2.jpg remove C:\\Users\\duphong.hua\\Documents\\phong_document\\git\\resp_test\\test_yolo\\pod\\240703EZ0CHV.jpg remove C:\\Users\\duphong.hua\\Documents\\phong_document\\git\\resp_test\\test_yolo\\pod\\240703EZ2E70.jpg remove C:\\Users\\duphong.hua\\Documents\\phong_document\\git\\resp_test\\test_yolo\\pod\\240703EZ2WK6.jpg remove C:\\Users\\duphong.hua\\Documents\\phong_document\\git\\resp_test\\test_yolo\\pod\\240703EZ3ERV.jpg remove C:\\Users\\duphong.hua\\Documents\\phong_document\\git\\resp_test\\test_yolo\\pod\\240703EZ3N32.jpg remove C:\\Users\\duphong.hua\\Documents\\phong_document\\git\\resp_test\\test_yolo\\pod\\240703EZ5M1B.jpg remove C:\\Users\\duphong.hua\\Documents\\phong_document\\git\\resp_test\\test_yolo\\pod\\240703EZ6A5K.jpg remove C:\\Users\\duphong.hua\\Documents\\phong_document\\git\\resp_test\\test_yolo\\pod\\240703EZ6F4S.jpg remove C:\\Users\\duphong.hua\\Documents\\phong_document\\git\\resp_test\\test_yolo\\pod\\240703EZ6IZM.jpg remove C:\\Users\\duphong.hua\\Documents\\phong_document\\git\\resp_test\\test_yolo\\pod\\240703EZ80RL.jpg remove C:\\Users\\duphong.hua\\Documents\\phong_document\\git\\resp_test\\test_yolo\\pod\\240703EZ857W.jpg remove C:\\Users\\duphong.hua\\Documents\\phong_document\\git\\resp_test\\test_yolo\\pod\\240703EZ8O21.jpg remove C:\\Users\\duphong.hua\\Documents\\phong_document\\git\\resp_test\\test_yolo\\pod\\240703EZ8PH5.jpg remove C:\\Users\\duphong.hua\\Documents\\phong_document\\git\\resp_test\\test_yolo\\pod\\240703EZ8TN4.jpg remove C:\\Users\\duphong.hua\\Documents\\phong_document\\git\\resp_test\\test_yolo\\pod\\240703EZ9FH2.jpg remove C:\\Users\\duphong.hua\\Documents\\phong_document\\git\\resp_test\\test_yolo\\pod\\240703EZANLO.jpg remove C:\\Users\\duphong.hua\\Documents\\phong_document\\git\\resp_test\\test_yolo\\pod\\240703EZAZN3.jpg remove C:\\Users\\duphong.hua\\Documents\\phong_document\\git\\resp_test\\test_yolo\\pod\\240703EZBIBW.jpg remove C:\\Users\\duphong.hua\\Documents\\phong_document\\git\\resp_test\\test_yolo\\pod\\240703EZBK1V.jpg remove C:\\Users\\duphong.hua\\Documents\\phong_document\\git\\resp_test\\test_yolo\\pod\\240703EZC0WD.jpg remove C:\\Users\\duphong.hua\\Documents\\phong_document\\git\\resp_test\\test_yolo\\pod\\240703EZC1EP.jpg remove C:\\Users\\duphong.hua\\Documents\\phong_document\\git\\resp_test\\test_yolo\\pod\\240703EZD68D.jpg remove C:\\Users\\duphong.hua\\Documents\\phong_document\\git\\resp_test\\test_yolo\\pod\\240703EZE5WQ.jpg remove C:\\Users\\duphong.hua\\Documents\\phong_document\\git\\resp_test\\test_yolo\\pod\\240703EZEPGL.jpg remove C:\\Users\\duphong.hua\\Documents\\phong_document\\git\\resp_test\\test_yolo\\pod\\240703EZGM4Z.jpg remove C:\\Users\\duphong.hua\\Documents\\phong_document\\git\\resp_test\\test_yolo\\pod\\240703EZHIZE.jpg remove C:\\Users\\duphong.hua\\Documents\\phong_document\\git\\resp_test\\test_yolo\\pod\\240703EZHKIR.jpg remove C:\\Users\\duphong.hua\\Documents\\phong_document\\git\\resp_test\\test_yolo\\pod\\240703EZIBHR.jpg remove C:\\Users\\duphong.hua\\Documents\\phong_document\\git\\resp_test\\test_yolo\\pod\\240703EZJ2T0.jpg remove C:\\Users\\duphong.hua\\Documents\\phong_document\\git\\resp_test\\test_yolo\\pod\\240703EZJ5K2.jpg remove C:\\Users\\duphong.hua\\Documents\\phong_document\\git\\resp_test\\test_yolo\\pod\\240703EZKEWA.jpg remove C:\\Users\\duphong.hua\\Documents\\phong_document\\git\\resp_test\\test_yolo\\pod\\240703EZKHYE.jpg remove C:\\Users\\duphong.hua\\Documents\\phong_document\\git\\resp_test\\test_yolo\\pod\\240703EZMDDD.jpg remove C:\\Users\\duphong.hua\\Documents\\phong_document\\git\\resp_test\\test_yolo\\pod\\240703EZOLPW.jpg remove C:\\Users\\duphong.hua\\Documents\\phong_document\\git\\resp_test\\test_yolo\\pod\\240703EZOP2Y.jpg remove C:\\Users\\duphong.hua\\Documents\\phong_document\\git\\resp_test\\test_yolo\\pod\\240703EZP1XW.jpg remove C:\\Users\\duphong.hua\\Documents\\phong_document\\git\\resp_test\\test_yolo\\pod\\240703EZP1ZE.jpg remove C:\\Users\\duphong.hua\\Documents\\phong_document\\git\\resp_test\\test_yolo\\pod\\240703EZQ15H.jpg remove C:\\Users\\duphong.hua\\Documents\\phong_document\\git\\resp_test\\test_yolo\\pod\\240703EZQVF1.jpg remove C:\\Users\\duphong.hua\\Documents\\phong_document\\git\\resp_test\\test_yolo\\pod\\240703EZQZRK.jpg remove C:\\Users\\duphong.hua\\Documents\\phong_document\\git\\resp_test\\test_yolo\\pod\\240703EZR57M.jpg remove C:\\Users\\duphong.hua\\Documents\\phong_document\\git\\resp_test\\test_yolo\\pod\\240703EZRE6O.jpg remove C:\\Users\\duphong.hua\\Documents\\phong_document\\git\\resp_test\\test_yolo\\pod\\240703EZSWJ4.jpg remove C:\\Users\\duphong.hua\\Documents\\phong_document\\git\\resp_test\\test_yolo\\pod\\240703EZSXU0.jpg remove C:\\Users\\duphong.hua\\Documents\\phong_document\\git\\resp_test\\test_yolo\\pod\\240703EZT4T4.jpg remove C:\\Users\\duphong.hua\\Documents\\phong_document\\git\\resp_test\\test_yolo\\pod\\240703EZTVNY.jpg remove C:\\Users\\duphong.hua\\Documents\\phong_document\\git\\resp_test\\test_yolo\\pod\\240703EZV2RF.jpg remove C:\\Users\\duphong.hua\\Documents\\phong_document\\git\\resp_test\\test_yolo\\pod\\240703EZVK8U.jpg remove C:\\Users\\duphong.hua\\Documents\\phong_document\\git\\resp_test\\test_yolo\\pod\\240703EZVMJX.jpg remove C:\\Users\\duphong.hua\\Documents\\phong_document\\git\\resp_test\\test_yolo\\pod\\240703EZXLLA.jpg remove C:\\Users\\duphong.hua\\Documents\\phong_document\\git\\resp_test\\test_yolo\\pod\\240703EZXZZB.jpg remove C:\\Users\\duphong.hua\\Documents\\phong_document\\git\\resp_test\\test_yolo\\pod\\240703EZYKOC.jpg remove C:\\Users\\duphong.hua\\Documents\\phong_document\\git\\resp_test\\test_yolo\\pod\\240703EZYLDX.jpg remove C:\\Users\\duphong.hua\\Documents\\phong_document\\git\\resp_test\\test_yolo\\pod\\240703EZYPEB.jpg "
     ]
    }
   ],
   "source": [
    "import os\n",
    "# path_3 = r'C:\\Users\\duphong.hua\\Documents\\phong_document\\pod'\n",
    "path_1 = r'C:\\Users\\duphong.hua\\Documents\\phong_document\\git\\resp_test\\test_yolo\\pod'\n",
    "path2 = r'C:\\Users\\duphong.hua\\Documents\\phong_document\\git\\resp_test\\test_yolo/pod_label'\n",
    "# os.listdir(path)[0].split('.')\n",
    "check = [i.split('.')[0] for i in os.listdir(path2)]\n",
    "for a in os.listdir(path_1):\n",
    "    file_name = a.split('.')[0]\n",
    "    file_path = os.path.join(path_1,a)\n",
    "    # print(file_path)\n",
    "    if file_name not in check:\n",
    "        os.remove(file_path)\n",
    "        print(f'remove {file_path}',end=' ')"
   ]
  },
  {
   "cell_type": "markdown",
   "metadata": {},
   "source": [
    "<H2> Chia folder"
   ]
  },
  {
   "cell_type": "code",
   "execution_count": 2,
   "metadata": {},
   "outputs": [
    {
     "name": "stdout",
     "output_type": "stream",
     "text": [
      "Done process\n"
     ]
    }
   ],
   "source": [
    "import os \n",
    "import shutil\n",
    "train_path_images = r'C:\\Users\\duphong.hua\\Documents\\phong_document\\test_yolo\\pod_path\\train\\images'\n",
    "test_path_images = r'C:\\Users\\duphong.hua\\Documents\\phong_document\\test_yolo\\pod_path\\test\\images'\n",
    "val_path_images = r'C:\\Users\\duphong.hua\\Documents\\phong_document\\test_yolo\\pod_path\\val\\images'\n",
    "\n",
    "train_path_labels = r'C:\\Users\\duphong.hua\\Documents\\phong_document\\test_yolo\\pod_path\\train\\labels'\n",
    "test_path_labels = r'C:\\Users\\duphong.hua\\Documents\\phong_document\\test_yolo\\pod_path\\test\\labels'\n",
    "val_path_labels = r'C:\\Users\\duphong.hua\\Documents\\phong_document\\test_yolo\\pod_path\\val\\labels'\n",
    "for i in range(0,len(os.listdir(path_1))):\n",
    "    if i / len(os.listdir(path_1)) <= 0.6:\n",
    "        file_image = os.listdir(path_1)[i]\n",
    "        file_label = os.listdir(path2)[i]\n",
    "        # print(file_label)\n",
    "        source_image = os.path.join(path_1,file_image)\n",
    "        source_label = os.path.join(path2,file_label)\n",
    "        dest_image = os.path.join(train_path_images,file_image)\n",
    "        dest_label = os.path.join(train_path_labels,file_label)\n",
    "        shutil.copy(source_image,dest_image)\n",
    "        shutil.copy(source_label,dest_label)\n",
    "for z in range(0,len(os.listdir(path_1))):    \n",
    "    val_file_image = os.listdir(path_1)[z]\n",
    "    val_file_label = os.listdir(path2)[z]\n",
    "    if z / len(os.listdir(path_1)) <= 0.85 and val_file_image not in os.listdir(train_path_images) and val_file_label not in os.listdir(train_path_labels):\n",
    "        # print(val_file_image)\n",
    "        val_source_image = os.path.join(path_1,val_file_image)\n",
    "        val_source_label = os.path.join(path2,val_file_label)\n",
    "        val_dest_image = os.path.join(val_path_images,val_file_image)\n",
    "        val_dest_label = os.path.join(val_path_labels,val_file_label)\n",
    "        shutil.copy(val_source_image,val_dest_image)\n",
    "        shutil.copy(val_source_label,val_dest_label)\n",
    "for k in range(0,len(os.listdir(path_1))): \n",
    "    test_file_image = os.listdir(path_1)[k]\n",
    "    test_file_label = os.listdir(path2)[k]\n",
    "    if test_file_image not in os.listdir(train_path_images) and test_file_label not in os.listdir(train_path_labels) and test_file_image not in os.listdir(val_path_images) and test_file_label not in os.listdir(val_path_labels): \n",
    "        test_source_image = os.path.join(path_1,test_file_image)\n",
    "        test_source_label = os.path.join(path2,test_file_label)\n",
    "        test_dest_image = os.path.join(test_path_images,test_file_image)\n",
    "        test_dest_label = os.path.join(test_path_labels,test_file_label)\n",
    "        shutil.copy(test_source_image,test_dest_image)\n",
    "        shutil.copy(test_source_label,test_dest_label)\n",
    "print('Done process')"
   ]
  },
  {
   "cell_type": "code",
   "execution_count": 5,
   "metadata": {},
   "outputs": [],
   "source": [
    "from ultralytics import YOLOv10\n",
    "# Load a pre-trained YOLOv10n model\n",
    "# model = YOLOv10(\"yolov10n.pt\")\n",
    "path = r'C:\\Users\\duphong.hua\\Documents\\phong_document\\git\\resp_test\\test_yolo\\runs\\detect\\train6\\weights\\best.pt'\n",
    "model = YOLOv10(path)"
   ]
  },
  {
   "cell_type": "code",
   "execution_count": 5,
   "metadata": {},
   "outputs": [],
   "source": [
    "# from ultralytics import YOLOv10\n",
    "# MODEL_PATH = 'yolov10n.pt'\n",
    "# model = YOLOv10(MODEL_PATH)"
   ]
  },
  {
   "cell_type": "code",
   "execution_count": null,
   "metadata": {},
   "outputs": [],
   "source": []
  },
  {
   "cell_type": "code",
   "execution_count": 6,
   "metadata": {},
   "outputs": [
    {
     "name": "stdout",
     "output_type": "stream",
     "text": [
      "YOLOv10n summary: 385 layers, 2707430 parameters, 0 gradients, 8.4 GFLOPs\n"
     ]
    },
    {
     "data": {
      "text/plain": [
       "(385, 2707430, 0, 8.3940352)"
      ]
     },
     "execution_count": 6,
     "metadata": {},
     "output_type": "execute_result"
    }
   ],
   "source": [
    "model.info()"
   ]
  },
  {
   "cell_type": "code",
   "execution_count": 7,
   "metadata": {},
   "outputs": [
    {
     "name": "stdout",
     "output_type": "stream",
     "text": [
      "New https://pypi.org/project/ultralytics/8.2.50 available 😃 Update with 'pip install -U ultralytics'\n",
      "Ultralytics YOLOv8.1.34 🚀 Python-3.12.3 torch-2.3.1+cpu CPU (Intel Core(TM) i7-10610U 1.80GHz)\n",
      "\u001b[34m\u001b[1mengine\\trainer: \u001b[0mtask=detect, mode=train, model=C:\\Users\\duphong.hua\\Documents\\phong_document\\git\\resp_test\\test_yolo\\runs\\detect\\train6\\weights\\best.pt, data=./pod_path/data.yaml, epochs=50, time=None, patience=100, batch=16, imgsz=640, save=True, save_period=-1, val_period=1, cache=False, device=None, workers=8, project=None, name=train7, exist_ok=False, pretrained=True, optimizer=auto, verbose=True, seed=0, deterministic=True, single_cls=False, rect=False, cos_lr=False, close_mosaic=10, resume=False, amp=True, fraction=1.0, profile=False, freeze=None, multi_scale=False, overlap_mask=True, mask_ratio=4, dropout=0.0, val=True, split=val, save_json=False, save_hybrid=False, conf=None, iou=0.7, max_det=300, half=False, dnn=False, plots=True, source=None, vid_stride=1, stream_buffer=False, visualize=False, augment=False, agnostic_nms=False, classes=None, retina_masks=False, embed=None, show=False, save_frames=False, save_txt=False, save_conf=False, save_crop=False, show_labels=True, show_conf=True, show_boxes=True, line_width=None, format=torchscript, keras=False, optimize=False, int8=False, dynamic=False, simplify=False, opset=None, workspace=4, nms=False, lr0=0.01, lrf=0.01, momentum=0.937, weight_decay=0.0005, warmup_epochs=3.0, warmup_momentum=0.8, warmup_bias_lr=0.1, box=7.5, cls=0.5, dfl=1.5, pose=12.0, kobj=1.0, label_smoothing=0.0, nbs=64, hsv_h=0.015, hsv_s=0.7, hsv_v=0.4, degrees=0.0, translate=0.1, scale=0.5, shear=0.0, perspective=0.0, flipud=0.0, fliplr=0.5, bgr=0.0, mosaic=1.0, mixup=0.0, copy_paste=0.0, auto_augment=randaugment, erasing=0.4, crop_fraction=1.0, cfg=None, tracker=botsort.yaml, save_dir=runs\\detect\\train7\n",
      "Downloading https://ultralytics.com/assets/Arial.ttf to 'C:\\Users\\duphong.hua\\AppData\\Roaming\\yolov10\\Arial.ttf'...\n"
     ]
    },
    {
     "name": "stderr",
     "output_type": "stream",
     "text": [
      "100%|██████████| 755k/755k [00:00<00:00, 1.26MB/s]"
     ]
    },
    {
     "name": "stdout",
     "output_type": "stream",
     "text": [
      "\n",
      "                   from  n    params  module                                       arguments                     \n",
      "  0                  -1  1       464  ultralytics.nn.modules.conv.Conv             [3, 16, 3, 2]                 \n",
      "  1                  -1  1      4672  ultralytics.nn.modules.conv.Conv             [16, 32, 3, 2]                \n",
      "  2                  -1  1      7360  ultralytics.nn.modules.block.C2f             [32, 32, 1, True]             \n",
      "  3                  -1  1     18560  ultralytics.nn.modules.conv.Conv             [32, 64, 3, 2]                \n",
      "  4                  -1  2     49664  ultralytics.nn.modules.block.C2f             [64, 64, 2, True]             \n",
      "  5                  -1  1      9856  ultralytics.nn.modules.block.SCDown          [64, 128, 3, 2]               \n",
      "  6                  -1  2    197632  ultralytics.nn.modules.block.C2f             [128, 128, 2, True]           \n",
      "  7                  -1  1     36096  ultralytics.nn.modules.block.SCDown          [128, 256, 3, 2]              \n",
      "  8                  -1  1    460288  ultralytics.nn.modules.block.C2f             [256, 256, 1, True]           \n",
      "  9                  -1  1    164608  ultralytics.nn.modules.block.SPPF            [256, 256, 5]                 \n",
      " 10                  -1  1    249728  ultralytics.nn.modules.block.PSA             [256, 256]                    \n",
      " 11                  -1  1         0  torch.nn.modules.upsampling.Upsample         [None, 2, 'nearest']          \n",
      " 12             [-1, 6]  1         0  ultralytics.nn.modules.conv.Concat           [1]                           \n",
      " 13                  -1  1    148224  ultralytics.nn.modules.block.C2f             [384, 128, 1]                 \n",
      " 14                  -1  1         0  torch.nn.modules.upsampling.Upsample         [None, 2, 'nearest']          \n",
      " 15             [-1, 4]  1         0  ultralytics.nn.modules.conv.Concat           [1]                           \n",
      " 16                  -1  1     37248  ultralytics.nn.modules.block.C2f             [192, 64, 1]                  \n",
      " 17                  -1  1     36992  ultralytics.nn.modules.conv.Conv             [64, 64, 3, 2]                \n",
      " 18            [-1, 13]  1         0  ultralytics.nn.modules.conv.Concat           [1]                           \n",
      " 19                  -1  1    123648  ultralytics.nn.modules.block.C2f             [192, 128, 1]                 \n"
     ]
    },
    {
     "name": "stderr",
     "output_type": "stream",
     "text": [
      "\n"
     ]
    },
    {
     "name": "stdout",
     "output_type": "stream",
     "text": [
      " 20                  -1  1     18048  ultralytics.nn.modules.block.SCDown          [128, 128, 3, 2]              \n",
      " 21            [-1, 10]  1         0  ultralytics.nn.modules.conv.Concat           [1]                           \n",
      " 22                  -1  1    282624  ultralytics.nn.modules.block.C2fCIB          [384, 256, 1, True, True]     \n",
      " 23        [16, 19, 22]  1    861718  ultralytics.nn.modules.head.v10Detect        [1, [64, 128, 256]]           \n",
      "YOLOv10n summary: 385 layers, 2707430 parameters, 2707414 gradients, 8.4 GFLOPs\n",
      "\n",
      "Transferred 595/595 items from pretrained weights\n",
      "Freezing layer 'model.23.dfl.conv.weight'\n"
     ]
    },
    {
     "name": "stderr",
     "output_type": "stream",
     "text": [
      "\u001b[34m\u001b[1mtrain: \u001b[0mScanning C:\\Users\\duphong.hua\\Documents\\phong_document\\git\\resp_test\\test_yolo\\pod_path\\train\\labels.cache... 67 images, 1 backgrounds, 0 corrupt: 100%|██████████| 67/67 [00:00<?, ?it/s]\n",
      "\u001b[34m\u001b[1mval: \u001b[0mScanning C:\\Users\\duphong.hua\\Documents\\phong_document\\git\\resp_test\\test_yolo\\pod_path\\val\\labels.cache... 28 images, 0 backgrounds, 0 corrupt: 100%|██████████| 28/28 [00:00<?, ?it/s]\n"
     ]
    },
    {
     "name": "stdout",
     "output_type": "stream",
     "text": [
      "Plotting labels to runs\\detect\\train7\\labels.jpg... \n",
      "\u001b[34m\u001b[1moptimizer:\u001b[0m 'optimizer=auto' found, ignoring 'lr0=0.01' and 'momentum=0.937' and determining best 'optimizer', 'lr0' and 'momentum' automatically... \n",
      "\u001b[34m\u001b[1moptimizer:\u001b[0m AdamW(lr=0.002, momentum=0.9) with parameter groups 95 weight(decay=0.0), 108 weight(decay=0.0005), 107 bias(decay=0.0)\n",
      "Image sizes 640 train, 640 val\n",
      "Using 0 dataloader workers\n",
      "Logging results to \u001b[1mruns\\detect\\train7\u001b[0m\n",
      "Starting training for 50 epochs...\n",
      "\n",
      "      Epoch    GPU_mem     box_om     cls_om     dfl_om     box_oo     cls_oo     dfl_oo  Instances       Size\n"
     ]
    },
    {
     "name": "stderr",
     "output_type": "stream",
     "text": [
      "       1/50         0G     0.7093     0.7743      1.145     0.7679      1.954      1.154          8        640: 100%|██████████| 5/5 [00:47<00:00,  9.55s/it]\n",
      "                 Class     Images  Instances      Box(P          R      mAP50  mAP50-95): 100%|██████████| 1/1 [00:08<00:00,  8.12s/it]"
     ]
    },
    {
     "name": "stdout",
     "output_type": "stream",
     "text": [
      "                   all         28         28      0.852      0.893      0.934      0.647\n"
     ]
    },
    {
     "name": "stderr",
     "output_type": "stream",
     "text": [
      "\n"
     ]
    },
    {
     "name": "stdout",
     "output_type": "stream",
     "text": [
      "\n",
      "      Epoch    GPU_mem     box_om     cls_om     dfl_om     box_oo     cls_oo     dfl_oo  Instances       Size\n"
     ]
    },
    {
     "name": "stderr",
     "output_type": "stream",
     "text": [
      "       2/50         0G     0.7894      0.917      1.161     0.7832      2.186      1.145          6        640: 100%|██████████| 5/5 [00:48<00:00,  9.78s/it]\n",
      "                 Class     Images  Instances      Box(P          R      mAP50  mAP50-95): 100%|██████████| 1/1 [00:07<00:00,  7.87s/it]"
     ]
    },
    {
     "name": "stdout",
     "output_type": "stream",
     "text": [
      "                   all         28         28      0.923      0.854      0.915      0.596\n"
     ]
    },
    {
     "name": "stderr",
     "output_type": "stream",
     "text": [
      "\n"
     ]
    },
    {
     "name": "stdout",
     "output_type": "stream",
     "text": [
      "\n",
      "      Epoch    GPU_mem     box_om     cls_om     dfl_om     box_oo     cls_oo     dfl_oo  Instances       Size\n"
     ]
    },
    {
     "name": "stderr",
     "output_type": "stream",
     "text": [
      "       3/50         0G     0.8569      0.845      1.309     0.9504      2.077      1.323          7        640: 100%|██████████| 5/5 [00:48<00:00,  9.79s/it]\n",
      "                 Class     Images  Instances      Box(P          R      mAP50  mAP50-95): 100%|██████████| 1/1 [00:07<00:00,  7.95s/it]"
     ]
    },
    {
     "name": "stdout",
     "output_type": "stream",
     "text": [
      "                   all         28         28      0.615      0.643      0.683      0.381\n"
     ]
    },
    {
     "name": "stderr",
     "output_type": "stream",
     "text": [
      "\n"
     ]
    },
    {
     "name": "stdout",
     "output_type": "stream",
     "text": [
      "\n",
      "      Epoch    GPU_mem     box_om     cls_om     dfl_om     box_oo     cls_oo     dfl_oo  Instances       Size\n"
     ]
    },
    {
     "name": "stderr",
     "output_type": "stream",
     "text": [
      "       4/50         0G     0.9241     0.8759      1.308      1.008      2.218      1.316          8        640: 100%|██████████| 5/5 [00:49<00:00,  9.87s/it]\n",
      "                 Class     Images  Instances      Box(P          R      mAP50  mAP50-95): 100%|██████████| 1/1 [00:08<00:00,  8.91s/it]"
     ]
    },
    {
     "name": "stdout",
     "output_type": "stream",
     "text": [
      "                   all         28         28      0.667      0.715      0.705      0.409\n"
     ]
    },
    {
     "name": "stderr",
     "output_type": "stream",
     "text": [
      "\n"
     ]
    },
    {
     "name": "stdout",
     "output_type": "stream",
     "text": [
      "\n",
      "      Epoch    GPU_mem     box_om     cls_om     dfl_om     box_oo     cls_oo     dfl_oo  Instances       Size\n"
     ]
    },
    {
     "name": "stderr",
     "output_type": "stream",
     "text": [
      "       5/50         0G     0.8374     0.8507      1.213     0.8645      2.117      1.213          6        640: 100%|██████████| 5/5 [00:53<00:00, 10.64s/it]\n",
      "                 Class     Images  Instances      Box(P          R      mAP50  mAP50-95): 100%|██████████| 1/1 [00:10<00:00, 10.49s/it]"
     ]
    },
    {
     "name": "stdout",
     "output_type": "stream",
     "text": [
      "                   all         28         28      0.863      0.676      0.818      0.513\n"
     ]
    },
    {
     "name": "stderr",
     "output_type": "stream",
     "text": [
      "\n"
     ]
    },
    {
     "name": "stdout",
     "output_type": "stream",
     "text": [
      "\n",
      "      Epoch    GPU_mem     box_om     cls_om     dfl_om     box_oo     cls_oo     dfl_oo  Instances       Size\n"
     ]
    },
    {
     "name": "stderr",
     "output_type": "stream",
     "text": [
      "       6/50         0G      0.886     0.8286      1.265     0.9628      1.958      1.297         11        640: 100%|██████████| 5/5 [01:10<00:00, 14.12s/it]\n",
      "                 Class     Images  Instances      Box(P          R      mAP50  mAP50-95): 100%|██████████| 1/1 [00:09<00:00,  9.05s/it]"
     ]
    },
    {
     "name": "stdout",
     "output_type": "stream",
     "text": [
      "                   all         28         28      0.816       0.75      0.822      0.554\n"
     ]
    },
    {
     "name": "stderr",
     "output_type": "stream",
     "text": [
      "\n"
     ]
    },
    {
     "name": "stdout",
     "output_type": "stream",
     "text": [
      "\n",
      "      Epoch    GPU_mem     box_om     cls_om     dfl_om     box_oo     cls_oo     dfl_oo  Instances       Size\n"
     ]
    },
    {
     "name": "stderr",
     "output_type": "stream",
     "text": [
      "       7/50         0G     0.9279     0.9243      1.321     0.9753      2.177      1.296          8        640: 100%|██████████| 5/5 [00:49<00:00,  9.87s/it]\n",
      "                 Class     Images  Instances      Box(P          R      mAP50  mAP50-95): 100%|██████████| 1/1 [00:07<00:00,  7.74s/it]"
     ]
    },
    {
     "name": "stdout",
     "output_type": "stream",
     "text": [
      "                   all         28         28      0.691      0.821      0.823      0.491\n"
     ]
    },
    {
     "name": "stderr",
     "output_type": "stream",
     "text": [
      "\n"
     ]
    },
    {
     "name": "stdout",
     "output_type": "stream",
     "text": [
      "\n",
      "      Epoch    GPU_mem     box_om     cls_om     dfl_om     box_oo     cls_oo     dfl_oo  Instances       Size\n"
     ]
    },
    {
     "name": "stderr",
     "output_type": "stream",
     "text": [
      "       8/50         0G     0.8982     0.8376      1.269     0.9282      1.815      1.286          8        640: 100%|██████████| 5/5 [00:51<00:00, 10.24s/it]\n",
      "                 Class     Images  Instances      Box(P          R      mAP50  mAP50-95): 100%|██████████| 1/1 [00:08<00:00,  8.59s/it]"
     ]
    },
    {
     "name": "stdout",
     "output_type": "stream",
     "text": [
      "                   all         28         28      0.629       0.75      0.683       0.45\n"
     ]
    },
    {
     "name": "stderr",
     "output_type": "stream",
     "text": [
      "\n"
     ]
    },
    {
     "name": "stdout",
     "output_type": "stream",
     "text": [
      "\n",
      "      Epoch    GPU_mem     box_om     cls_om     dfl_om     box_oo     cls_oo     dfl_oo  Instances       Size\n"
     ]
    },
    {
     "name": "stderr",
     "output_type": "stream",
     "text": [
      "       9/50         0G     0.8525     0.8604      1.254     0.8541      1.966      1.262          9        640: 100%|██████████| 5/5 [01:13<00:00, 14.71s/it]\n",
      "                 Class     Images  Instances      Box(P          R      mAP50  mAP50-95): 100%|██████████| 1/1 [00:09<00:00,  9.35s/it]"
     ]
    },
    {
     "name": "stdout",
     "output_type": "stream",
     "text": [
      "                   all         28         28      0.789      0.534      0.677      0.407\n"
     ]
    },
    {
     "name": "stderr",
     "output_type": "stream",
     "text": [
      "\n"
     ]
    },
    {
     "name": "stdout",
     "output_type": "stream",
     "text": [
      "\n",
      "      Epoch    GPU_mem     box_om     cls_om     dfl_om     box_oo     cls_oo     dfl_oo  Instances       Size\n"
     ]
    },
    {
     "name": "stderr",
     "output_type": "stream",
     "text": [
      "      10/50         0G      1.012     0.8795      1.311      1.027      1.945      1.292          8        640: 100%|██████████| 5/5 [00:55<00:00, 11.12s/it]\n",
      "                 Class     Images  Instances      Box(P          R      mAP50  mAP50-95): 100%|██████████| 1/1 [00:08<00:00,  8.16s/it]"
     ]
    },
    {
     "name": "stdout",
     "output_type": "stream",
     "text": [
      "                   all         28         28      0.651       0.75      0.712      0.483\n"
     ]
    },
    {
     "name": "stderr",
     "output_type": "stream",
     "text": [
      "\n"
     ]
    },
    {
     "name": "stdout",
     "output_type": "stream",
     "text": [
      "\n",
      "      Epoch    GPU_mem     box_om     cls_om     dfl_om     box_oo     cls_oo     dfl_oo  Instances       Size\n"
     ]
    },
    {
     "name": "stderr",
     "output_type": "stream",
     "text": [
      "      11/50         0G      0.924     0.9707      1.282      1.008      2.202      1.291          5        640: 100%|██████████| 5/5 [00:50<00:00, 10.06s/it]\n",
      "                 Class     Images  Instances      Box(P          R      mAP50  mAP50-95): 100%|██████████| 1/1 [00:08<00:00,  8.40s/it]"
     ]
    },
    {
     "name": "stdout",
     "output_type": "stream",
     "text": [
      "                   all         28         28      0.927      0.571      0.724      0.457\n"
     ]
    },
    {
     "name": "stderr",
     "output_type": "stream",
     "text": [
      "\n"
     ]
    },
    {
     "name": "stdout",
     "output_type": "stream",
     "text": [
      "\n",
      "      Epoch    GPU_mem     box_om     cls_om     dfl_om     box_oo     cls_oo     dfl_oo  Instances       Size\n"
     ]
    },
    {
     "name": "stderr",
     "output_type": "stream",
     "text": [
      "      12/50         0G     0.8557     0.8091      1.211     0.8795      1.798      1.232          9        640: 100%|██████████| 5/5 [00:53<00:00, 10.72s/it]\n",
      "                 Class     Images  Instances      Box(P          R      mAP50  mAP50-95): 100%|██████████| 1/1 [00:08<00:00,  8.00s/it]"
     ]
    },
    {
     "name": "stdout",
     "output_type": "stream",
     "text": [
      "                   all         28         28      0.774      0.736      0.783      0.392\n"
     ]
    },
    {
     "name": "stderr",
     "output_type": "stream",
     "text": [
      "\n"
     ]
    },
    {
     "name": "stdout",
     "output_type": "stream",
     "text": [
      "\n",
      "      Epoch    GPU_mem     box_om     cls_om     dfl_om     box_oo     cls_oo     dfl_oo  Instances       Size\n"
     ]
    },
    {
     "name": "stderr",
     "output_type": "stream",
     "text": [
      "      13/50         0G     0.9344     0.8408      1.305      1.007      1.846      1.296          8        640: 100%|██████████| 5/5 [00:49<00:00,  9.92s/it]\n",
      "                 Class     Images  Instances      Box(P          R      mAP50  mAP50-95): 100%|██████████| 1/1 [00:08<00:00,  8.08s/it]"
     ]
    },
    {
     "name": "stdout",
     "output_type": "stream",
     "text": [
      "                   all         28         28      0.917      0.571      0.738      0.402\n"
     ]
    },
    {
     "name": "stderr",
     "output_type": "stream",
     "text": [
      "\n"
     ]
    },
    {
     "name": "stdout",
     "output_type": "stream",
     "text": [
      "\n",
      "      Epoch    GPU_mem     box_om     cls_om     dfl_om     box_oo     cls_oo     dfl_oo  Instances       Size\n"
     ]
    },
    {
     "name": "stderr",
     "output_type": "stream",
     "text": [
      "      14/50         0G     0.9022     0.8477      1.279     0.9713      1.862      1.288          6        640: 100%|██████████| 5/5 [00:51<00:00, 10.23s/it]\n",
      "                 Class     Images  Instances      Box(P          R      mAP50  mAP50-95): 100%|██████████| 1/1 [00:08<00:00,  8.46s/it]"
     ]
    },
    {
     "name": "stdout",
     "output_type": "stream",
     "text": [
      "                   all         28         28       0.75      0.643      0.669      0.332\n"
     ]
    },
    {
     "name": "stderr",
     "output_type": "stream",
     "text": [
      "\n"
     ]
    },
    {
     "name": "stdout",
     "output_type": "stream",
     "text": [
      "\n",
      "      Epoch    GPU_mem     box_om     cls_om     dfl_om     box_oo     cls_oo     dfl_oo  Instances       Size\n"
     ]
    },
    {
     "name": "stderr",
     "output_type": "stream",
     "text": [
      "      15/50         0G     0.8352     0.8286      1.274     0.9466      1.898      1.314          5        640: 100%|██████████| 5/5 [00:51<00:00, 10.34s/it]\n",
      "                 Class     Images  Instances      Box(P          R      mAP50  mAP50-95): 100%|██████████| 1/1 [00:08<00:00,  8.57s/it]"
     ]
    },
    {
     "name": "stdout",
     "output_type": "stream",
     "text": [
      "                   all         28         28      0.746      0.536      0.567      0.277\n"
     ]
    },
    {
     "name": "stderr",
     "output_type": "stream",
     "text": [
      "\n"
     ]
    },
    {
     "name": "stdout",
     "output_type": "stream",
     "text": [
      "\n",
      "      Epoch    GPU_mem     box_om     cls_om     dfl_om     box_oo     cls_oo     dfl_oo  Instances       Size\n"
     ]
    },
    {
     "name": "stderr",
     "output_type": "stream",
     "text": [
      "      16/50         0G     0.8903     0.8548      1.192     0.9541      1.674      1.197          9        640: 100%|██████████| 5/5 [00:58<00:00, 11.73s/it]\n",
      "                 Class     Images  Instances      Box(P          R      mAP50  mAP50-95): 100%|██████████| 1/1 [00:13<00:00, 13.49s/it]"
     ]
    },
    {
     "name": "stdout",
     "output_type": "stream",
     "text": [
      "                   all         28         28      0.393      0.429      0.361      0.163\n"
     ]
    },
    {
     "name": "stderr",
     "output_type": "stream",
     "text": [
      "\n"
     ]
    },
    {
     "name": "stdout",
     "output_type": "stream",
     "text": [
      "\n",
      "      Epoch    GPU_mem     box_om     cls_om     dfl_om     box_oo     cls_oo     dfl_oo  Instances       Size\n"
     ]
    },
    {
     "name": "stderr",
     "output_type": "stream",
     "text": [
      "      17/50         0G      0.973     0.8661      1.318      1.081      1.749      1.345          8        640: 100%|██████████| 5/5 [00:57<00:00, 11.43s/it]\n",
      "                 Class     Images  Instances      Box(P          R      mAP50  mAP50-95): 100%|██████████| 1/1 [00:19<00:00, 19.60s/it]"
     ]
    },
    {
     "name": "stdout",
     "output_type": "stream",
     "text": [
      "                   all         28         28      0.549      0.357      0.345      0.176\n"
     ]
    },
    {
     "name": "stderr",
     "output_type": "stream",
     "text": [
      "\n"
     ]
    },
    {
     "name": "stdout",
     "output_type": "stream",
     "text": [
      "\n",
      "      Epoch    GPU_mem     box_om     cls_om     dfl_om     box_oo     cls_oo     dfl_oo  Instances       Size\n"
     ]
    },
    {
     "name": "stderr",
     "output_type": "stream",
     "text": [
      "      18/50         0G      1.091     0.9369      1.387      1.165      2.006      1.408          5        640: 100%|██████████| 5/5 [00:55<00:00, 11.06s/it]\n",
      "                 Class     Images  Instances      Box(P          R      mAP50  mAP50-95): 100%|██████████| 1/1 [00:07<00:00,  7.77s/it]"
     ]
    },
    {
     "name": "stdout",
     "output_type": "stream",
     "text": [
      "                   all         28         28      0.717       0.75      0.686      0.355\n"
     ]
    },
    {
     "name": "stderr",
     "output_type": "stream",
     "text": [
      "\n"
     ]
    },
    {
     "name": "stdout",
     "output_type": "stream",
     "text": [
      "\n",
      "      Epoch    GPU_mem     box_om     cls_om     dfl_om     box_oo     cls_oo     dfl_oo  Instances       Size\n"
     ]
    },
    {
     "name": "stderr",
     "output_type": "stream",
     "text": [
      "      19/50         0G     0.8946     0.7957      1.333     0.9787      1.706      1.353          4        640: 100%|██████████| 5/5 [00:53<00:00, 10.79s/it]\n",
      "                 Class     Images  Instances      Box(P          R      mAP50  mAP50-95): 100%|██████████| 1/1 [00:11<00:00, 11.16s/it]"
     ]
    },
    {
     "name": "stdout",
     "output_type": "stream",
     "text": [
      "                   all         28         28      0.587      0.821      0.704      0.438\n"
     ]
    },
    {
     "name": "stderr",
     "output_type": "stream",
     "text": [
      "\n"
     ]
    },
    {
     "name": "stdout",
     "output_type": "stream",
     "text": [
      "\n",
      "      Epoch    GPU_mem     box_om     cls_om     dfl_om     box_oo     cls_oo     dfl_oo  Instances       Size\n"
     ]
    },
    {
     "name": "stderr",
     "output_type": "stream",
     "text": [
      "      20/50         0G     0.7807      0.762      1.222     0.8504      1.655      1.252          7        640: 100%|██████████| 5/5 [00:57<00:00, 11.50s/it]\n",
      "                 Class     Images  Instances      Box(P          R      mAP50  mAP50-95): 100%|██████████| 1/1 [00:11<00:00, 11.18s/it]"
     ]
    },
    {
     "name": "stdout",
     "output_type": "stream",
     "text": [
      "                   all         28         28      0.672      0.679       0.67      0.373\n"
     ]
    },
    {
     "name": "stderr",
     "output_type": "stream",
     "text": [
      "\n"
     ]
    },
    {
     "name": "stdout",
     "output_type": "stream",
     "text": [
      "\n",
      "      Epoch    GPU_mem     box_om     cls_om     dfl_om     box_oo     cls_oo     dfl_oo  Instances       Size\n"
     ]
    },
    {
     "name": "stderr",
     "output_type": "stream",
     "text": [
      "      21/50         0G     0.8765     0.7912      1.265     0.9543      1.569      1.309          6        640: 100%|██████████| 5/5 [00:48<00:00,  9.62s/it]\n",
      "                 Class     Images  Instances      Box(P          R      mAP50  mAP50-95): 100%|██████████| 1/1 [00:11<00:00, 11.25s/it]"
     ]
    },
    {
     "name": "stdout",
     "output_type": "stream",
     "text": [
      "                   all         28         28      0.659      0.786      0.693      0.396\n"
     ]
    },
    {
     "name": "stderr",
     "output_type": "stream",
     "text": [
      "\n"
     ]
    },
    {
     "name": "stdout",
     "output_type": "stream",
     "text": [
      "\n",
      "      Epoch    GPU_mem     box_om     cls_om     dfl_om     box_oo     cls_oo     dfl_oo  Instances       Size\n"
     ]
    },
    {
     "name": "stderr",
     "output_type": "stream",
     "text": [
      "      22/50         0G     0.8527     0.7107      1.216     0.9629      1.432      1.259          6        640: 100%|██████████| 5/5 [00:55<00:00, 11.03s/it]\n",
      "                 Class     Images  Instances      Box(P          R      mAP50  mAP50-95): 100%|██████████| 1/1 [00:09<00:00,  9.81s/it]"
     ]
    },
    {
     "name": "stdout",
     "output_type": "stream",
     "text": [
      "                   all         28         28      0.693      0.805      0.763      0.444\n"
     ]
    },
    {
     "name": "stderr",
     "output_type": "stream",
     "text": [
      "\n"
     ]
    },
    {
     "name": "stdout",
     "output_type": "stream",
     "text": [
      "\n",
      "      Epoch    GPU_mem     box_om     cls_om     dfl_om     box_oo     cls_oo     dfl_oo  Instances       Size\n"
     ]
    },
    {
     "name": "stderr",
     "output_type": "stream",
     "text": [
      "      23/50         0G     0.8761     0.7584      1.303      0.958       1.59      1.316          5        640: 100%|██████████| 5/5 [00:56<00:00, 11.29s/it]\n",
      "                 Class     Images  Instances      Box(P          R      mAP50  mAP50-95): 100%|██████████| 1/1 [00:09<00:00,  9.53s/it]"
     ]
    },
    {
     "name": "stdout",
     "output_type": "stream",
     "text": [
      "                   all         28         28      0.635       0.81      0.729        0.4\n"
     ]
    },
    {
     "name": "stderr",
     "output_type": "stream",
     "text": [
      "\n"
     ]
    },
    {
     "name": "stdout",
     "output_type": "stream",
     "text": [
      "\n",
      "      Epoch    GPU_mem     box_om     cls_om     dfl_om     box_oo     cls_oo     dfl_oo  Instances       Size\n"
     ]
    },
    {
     "name": "stderr",
     "output_type": "stream",
     "text": [
      "      24/50         0G     0.9626     0.8527      1.294      1.098      1.542      1.349          6        640: 100%|██████████| 5/5 [00:49<00:00,  9.92s/it]\n",
      "                 Class     Images  Instances      Box(P          R      mAP50  mAP50-95): 100%|██████████| 1/1 [00:08<00:00,  8.98s/it]"
     ]
    },
    {
     "name": "stdout",
     "output_type": "stream",
     "text": [
      "                   all         28         28      0.685      0.857      0.772      0.462\n"
     ]
    },
    {
     "name": "stderr",
     "output_type": "stream",
     "text": [
      "\n"
     ]
    },
    {
     "name": "stdout",
     "output_type": "stream",
     "text": [
      "\n",
      "      Epoch    GPU_mem     box_om     cls_om     dfl_om     box_oo     cls_oo     dfl_oo  Instances       Size\n"
     ]
    },
    {
     "name": "stderr",
     "output_type": "stream",
     "text": [
      "      25/50         0G     0.8863     0.8291      1.289      1.017      1.514      1.355          7        640: 100%|██████████| 5/5 [00:49<00:00,  9.84s/it]\n",
      "                 Class     Images  Instances      Box(P          R      mAP50  mAP50-95): 100%|██████████| 1/1 [00:07<00:00,  7.41s/it]"
     ]
    },
    {
     "name": "stdout",
     "output_type": "stream",
     "text": [
      "                   all         28         28      0.812      0.714      0.779      0.495\n"
     ]
    },
    {
     "name": "stderr",
     "output_type": "stream",
     "text": [
      "\n"
     ]
    },
    {
     "name": "stdout",
     "output_type": "stream",
     "text": [
      "\n",
      "      Epoch    GPU_mem     box_om     cls_om     dfl_om     box_oo     cls_oo     dfl_oo  Instances       Size\n"
     ]
    },
    {
     "name": "stderr",
     "output_type": "stream",
     "text": [
      "      26/50         0G      1.205       1.31      1.673      1.394      2.282      1.775          3        640: 100%|██████████| 5/5 [00:44<00:00,  8.84s/it]\n",
      "                 Class     Images  Instances      Box(P          R      mAP50  mAP50-95): 100%|██████████| 1/1 [00:07<00:00,  7.35s/it]"
     ]
    },
    {
     "name": "stdout",
     "output_type": "stream",
     "text": [
      "                   all         28         28      0.808      0.602      0.745      0.476\n"
     ]
    },
    {
     "name": "stderr",
     "output_type": "stream",
     "text": [
      "\n"
     ]
    },
    {
     "name": "stdout",
     "output_type": "stream",
     "text": [
      "\n",
      "      Epoch    GPU_mem     box_om     cls_om     dfl_om     box_oo     cls_oo     dfl_oo  Instances       Size\n"
     ]
    },
    {
     "name": "stderr",
     "output_type": "stream",
     "text": [
      "      27/50         0G     0.9263     0.7671      1.262     0.9854      1.334      1.278          8        640: 100%|██████████| 5/5 [00:47<00:00,  9.49s/it]\n",
      "                 Class     Images  Instances      Box(P          R      mAP50  mAP50-95): 100%|██████████| 1/1 [00:08<00:00,  8.70s/it]"
     ]
    },
    {
     "name": "stdout",
     "output_type": "stream",
     "text": [
      "                   all         28         28      0.626      0.777      0.622      0.412\n"
     ]
    },
    {
     "name": "stderr",
     "output_type": "stream",
     "text": [
      "\n"
     ]
    },
    {
     "name": "stdout",
     "output_type": "stream",
     "text": [
      "\n",
      "      Epoch    GPU_mem     box_om     cls_om     dfl_om     box_oo     cls_oo     dfl_oo  Instances       Size\n"
     ]
    },
    {
     "name": "stderr",
     "output_type": "stream",
     "text": [
      "      28/50         0G     0.9953     0.9645      1.381     0.9905       1.75      1.375          6        640: 100%|██████████| 5/5 [00:54<00:00, 10.81s/it]\n",
      "                 Class     Images  Instances      Box(P          R      mAP50  mAP50-95): 100%|██████████| 1/1 [00:08<00:00,  8.65s/it]"
     ]
    },
    {
     "name": "stdout",
     "output_type": "stream",
     "text": [
      "                   all         28         28      0.826       0.85      0.848      0.505\n"
     ]
    },
    {
     "name": "stderr",
     "output_type": "stream",
     "text": [
      "\n"
     ]
    },
    {
     "name": "stdout",
     "output_type": "stream",
     "text": [
      "\n",
      "      Epoch    GPU_mem     box_om     cls_om     dfl_om     box_oo     cls_oo     dfl_oo  Instances       Size\n"
     ]
    },
    {
     "name": "stderr",
     "output_type": "stream",
     "text": [
      "      29/50         0G      0.906     0.7472      1.216     0.9972      1.243      1.231          9        640: 100%|██████████| 5/5 [00:52<00:00, 10.46s/it]\n",
      "                 Class     Images  Instances      Box(P          R      mAP50  mAP50-95): 100%|██████████| 1/1 [00:09<00:00,  9.86s/it]"
     ]
    },
    {
     "name": "stdout",
     "output_type": "stream",
     "text": [
      "                   all         28         28      0.861       0.75      0.848      0.471\n"
     ]
    },
    {
     "name": "stderr",
     "output_type": "stream",
     "text": [
      "\n"
     ]
    },
    {
     "name": "stdout",
     "output_type": "stream",
     "text": [
      "\n",
      "      Epoch    GPU_mem     box_om     cls_om     dfl_om     box_oo     cls_oo     dfl_oo  Instances       Size\n"
     ]
    },
    {
     "name": "stderr",
     "output_type": "stream",
     "text": [
      "      30/50         0G     0.9277     0.8078      1.294     0.9665      1.488      1.315          6        640: 100%|██████████| 5/5 [00:53<00:00, 10.73s/it]\n",
      "                 Class     Images  Instances      Box(P          R      mAP50  mAP50-95): 100%|██████████| 1/1 [00:08<00:00,  8.80s/it]"
     ]
    },
    {
     "name": "stdout",
     "output_type": "stream",
     "text": [
      "                   all         28         28      0.798      0.929      0.906        0.5\n"
     ]
    },
    {
     "name": "stderr",
     "output_type": "stream",
     "text": [
      "\n"
     ]
    },
    {
     "name": "stdout",
     "output_type": "stream",
     "text": [
      "\n",
      "      Epoch    GPU_mem     box_om     cls_om     dfl_om     box_oo     cls_oo     dfl_oo  Instances       Size\n"
     ]
    },
    {
     "name": "stderr",
     "output_type": "stream",
     "text": [
      "      31/50         0G     0.7994       0.72      1.239     0.8767      1.239      1.276         10        640: 100%|██████████| 5/5 [00:53<00:00, 10.74s/it]\n",
      "                 Class     Images  Instances      Box(P          R      mAP50  mAP50-95): 100%|██████████| 1/1 [00:08<00:00,  8.81s/it]"
     ]
    },
    {
     "name": "stdout",
     "output_type": "stream",
     "text": [
      "                   all         28         28      0.806      0.891      0.875      0.461\n"
     ]
    },
    {
     "name": "stderr",
     "output_type": "stream",
     "text": [
      "\n"
     ]
    },
    {
     "name": "stdout",
     "output_type": "stream",
     "text": [
      "\n",
      "      Epoch    GPU_mem     box_om     cls_om     dfl_om     box_oo     cls_oo     dfl_oo  Instances       Size\n"
     ]
    },
    {
     "name": "stderr",
     "output_type": "stream",
     "text": [
      "      32/50         0G     0.7658     0.7217      1.189     0.8424      1.271      1.224          8        640: 100%|██████████| 5/5 [00:53<00:00, 10.64s/it]\n",
      "                 Class     Images  Instances      Box(P          R      mAP50  mAP50-95): 100%|██████████| 1/1 [00:08<00:00,  8.64s/it]"
     ]
    },
    {
     "name": "stdout",
     "output_type": "stream",
     "text": [
      "                   all         28         28      0.755      0.821      0.852      0.478\n"
     ]
    },
    {
     "name": "stderr",
     "output_type": "stream",
     "text": [
      "\n"
     ]
    },
    {
     "name": "stdout",
     "output_type": "stream",
     "text": [
      "\n",
      "      Epoch    GPU_mem     box_om     cls_om     dfl_om     box_oo     cls_oo     dfl_oo  Instances       Size\n"
     ]
    },
    {
     "name": "stderr",
     "output_type": "stream",
     "text": [
      "      33/50         0G     0.9099     0.7897      1.257     0.9161      1.409      1.255          7        640: 100%|██████████| 5/5 [00:52<00:00, 10.57s/it]\n",
      "                 Class     Images  Instances      Box(P          R      mAP50  mAP50-95): 100%|██████████| 1/1 [00:08<00:00,  8.19s/it]"
     ]
    },
    {
     "name": "stdout",
     "output_type": "stream",
     "text": [
      "                   all         28         28      0.886      0.714      0.867      0.506\n"
     ]
    },
    {
     "name": "stderr",
     "output_type": "stream",
     "text": [
      "\n"
     ]
    },
    {
     "name": "stdout",
     "output_type": "stream",
     "text": [
      "\n",
      "      Epoch    GPU_mem     box_om     cls_om     dfl_om     box_oo     cls_oo     dfl_oo  Instances       Size\n"
     ]
    },
    {
     "name": "stderr",
     "output_type": "stream",
     "text": [
      "      34/50         0G      0.785     0.7355      1.218     0.8318      1.291      1.236          8        640: 100%|██████████| 5/5 [00:53<00:00, 10.68s/it]\n",
      "                 Class     Images  Instances      Box(P          R      mAP50  mAP50-95): 100%|██████████| 1/1 [00:11<00:00, 11.60s/it]"
     ]
    },
    {
     "name": "stdout",
     "output_type": "stream",
     "text": [
      "                   all         28         28      0.766       0.75      0.823      0.528\n"
     ]
    },
    {
     "name": "stderr",
     "output_type": "stream",
     "text": [
      "\n"
     ]
    },
    {
     "name": "stdout",
     "output_type": "stream",
     "text": [
      "\n",
      "      Epoch    GPU_mem     box_om     cls_om     dfl_om     box_oo     cls_oo     dfl_oo  Instances       Size\n"
     ]
    },
    {
     "name": "stderr",
     "output_type": "stream",
     "text": [
      "      35/50         0G     0.8141     0.6539      1.219     0.8784      1.219      1.236          7        640: 100%|██████████| 5/5 [00:47<00:00,  9.48s/it]\n",
      "                 Class     Images  Instances      Box(P          R      mAP50  mAP50-95): 100%|██████████| 1/1 [00:07<00:00,  7.44s/it]"
     ]
    },
    {
     "name": "stdout",
     "output_type": "stream",
     "text": [
      "                   all         28         28      0.852      0.643      0.823      0.523\n"
     ]
    },
    {
     "name": "stderr",
     "output_type": "stream",
     "text": [
      "\n"
     ]
    },
    {
     "name": "stdout",
     "output_type": "stream",
     "text": [
      "\n",
      "      Epoch    GPU_mem     box_om     cls_om     dfl_om     box_oo     cls_oo     dfl_oo  Instances       Size\n"
     ]
    },
    {
     "name": "stderr",
     "output_type": "stream",
     "text": [
      "      36/50         0G     0.8669     0.6799      1.231     0.8986       1.19      1.231         10        640: 100%|██████████| 5/5 [00:45<00:00,  9.03s/it]\n",
      "                 Class     Images  Instances      Box(P          R      mAP50  mAP50-95): 100%|██████████| 1/1 [00:08<00:00,  8.21s/it]"
     ]
    },
    {
     "name": "stdout",
     "output_type": "stream",
     "text": [
      "                   all         28         28      0.946      0.821      0.934      0.544\n"
     ]
    },
    {
     "name": "stderr",
     "output_type": "stream",
     "text": [
      "\n"
     ]
    },
    {
     "name": "stdout",
     "output_type": "stream",
     "text": [
      "\n",
      "      Epoch    GPU_mem     box_om     cls_om     dfl_om     box_oo     cls_oo     dfl_oo  Instances       Size\n"
     ]
    },
    {
     "name": "stderr",
     "output_type": "stream",
     "text": [
      "      37/50         0G     0.7977     0.7078      1.194      0.822      1.155       1.19         11        640: 100%|██████████| 5/5 [00:47<00:00,  9.41s/it]\n",
      "                 Class     Images  Instances      Box(P          R      mAP50  mAP50-95): 100%|██████████| 1/1 [00:08<00:00,  8.33s/it]"
     ]
    },
    {
     "name": "stdout",
     "output_type": "stream",
     "text": [
      "                   all         28         28      0.931      0.857      0.908      0.556\n"
     ]
    },
    {
     "name": "stderr",
     "output_type": "stream",
     "text": [
      "\n"
     ]
    },
    {
     "name": "stdout",
     "output_type": "stream",
     "text": [
      "\n",
      "      Epoch    GPU_mem     box_om     cls_om     dfl_om     box_oo     cls_oo     dfl_oo  Instances       Size\n"
     ]
    },
    {
     "name": "stderr",
     "output_type": "stream",
     "text": [
      "      38/50         0G     0.8832     0.7747      1.256     0.9736      1.329      1.293          8        640: 100%|██████████| 5/5 [00:49<00:00,  9.95s/it]\n",
      "                 Class     Images  Instances      Box(P          R      mAP50  mAP50-95): 100%|██████████| 1/1 [00:08<00:00,  8.38s/it]"
     ]
    },
    {
     "name": "stdout",
     "output_type": "stream",
     "text": [
      "                   all         28         28      0.952      0.857      0.923      0.546\n"
     ]
    },
    {
     "name": "stderr",
     "output_type": "stream",
     "text": [
      "\n"
     ]
    },
    {
     "name": "stdout",
     "output_type": "stream",
     "text": [
      "\n",
      "      Epoch    GPU_mem     box_om     cls_om     dfl_om     box_oo     cls_oo     dfl_oo  Instances       Size\n"
     ]
    },
    {
     "name": "stderr",
     "output_type": "stream",
     "text": [
      "      39/50         0G     0.7886     0.6565      1.144     0.8657      1.137      1.175         12        640: 100%|██████████| 5/5 [00:45<00:00,  9.06s/it]\n",
      "                 Class     Images  Instances      Box(P          R      mAP50  mAP50-95): 100%|██████████| 1/1 [00:07<00:00,  7.23s/it]"
     ]
    },
    {
     "name": "stdout",
     "output_type": "stream",
     "text": [
      "                   all         28         28      0.882      0.857      0.917      0.548\n"
     ]
    },
    {
     "name": "stderr",
     "output_type": "stream",
     "text": [
      "\n"
     ]
    },
    {
     "name": "stdout",
     "output_type": "stream",
     "text": [
      "\n",
      "      Epoch    GPU_mem     box_om     cls_om     dfl_om     box_oo     cls_oo     dfl_oo  Instances       Size\n"
     ]
    },
    {
     "name": "stderr",
     "output_type": "stream",
     "text": [
      "      40/50         0G     0.8388     0.6403      1.214     0.8988      1.209      1.189          7        640: 100%|██████████| 5/5 [00:46<00:00,  9.39s/it]\n",
      "                 Class     Images  Instances      Box(P          R      mAP50  mAP50-95): 100%|██████████| 1/1 [00:07<00:00,  7.36s/it]"
     ]
    },
    {
     "name": "stdout",
     "output_type": "stream",
     "text": [
      "                   all         28         28      0.885      0.821      0.902      0.588\n"
     ]
    },
    {
     "name": "stderr",
     "output_type": "stream",
     "text": [
      "\n"
     ]
    },
    {
     "name": "stdout",
     "output_type": "stream",
     "text": [
      "Closing dataloader mosaic\n",
      "\n",
      "      Epoch    GPU_mem     box_om     cls_om     dfl_om     box_oo     cls_oo     dfl_oo  Instances       Size\n"
     ]
    },
    {
     "name": "stderr",
     "output_type": "stream",
     "text": [
      "      41/50         0G       1.06      1.574      1.586       1.13      2.761      1.626          3        640: 100%|██████████| 5/5 [00:46<00:00,  9.35s/it]\n",
      "                 Class     Images  Instances      Box(P          R      mAP50  mAP50-95): 100%|██████████| 1/1 [00:07<00:00,  7.63s/it]"
     ]
    },
    {
     "name": "stdout",
     "output_type": "stream",
     "text": [
      "                   all         28         28      0.834      0.786      0.876      0.578\n"
     ]
    },
    {
     "name": "stderr",
     "output_type": "stream",
     "text": [
      "\n"
     ]
    },
    {
     "name": "stdout",
     "output_type": "stream",
     "text": [
      "\n",
      "      Epoch    GPU_mem     box_om     cls_om     dfl_om     box_oo     cls_oo     dfl_oo  Instances       Size\n"
     ]
    },
    {
     "name": "stderr",
     "output_type": "stream",
     "text": [
      "      42/50         0G     0.6075     0.9089      1.125     0.6299      2.152      1.126          2        640: 100%|██████████| 5/5 [00:43<00:00,  8.79s/it]\n",
      "                 Class     Images  Instances      Box(P          R      mAP50  mAP50-95): 100%|██████████| 1/1 [00:07<00:00,  7.44s/it]"
     ]
    },
    {
     "name": "stdout",
     "output_type": "stream",
     "text": [
      "                   all         28         28      0.883      0.821      0.864      0.567\n"
     ]
    },
    {
     "name": "stderr",
     "output_type": "stream",
     "text": [
      "\n"
     ]
    },
    {
     "name": "stdout",
     "output_type": "stream",
     "text": [
      "\n",
      "      Epoch    GPU_mem     box_om     cls_om     dfl_om     box_oo     cls_oo     dfl_oo  Instances       Size\n"
     ]
    },
    {
     "name": "stderr",
     "output_type": "stream",
     "text": [
      "      43/50         0G      0.761     0.9279      1.318     0.7822      2.131      1.349          3        640: 100%|██████████| 5/5 [00:43<00:00,  8.78s/it]\n",
      "                 Class     Images  Instances      Box(P          R      mAP50  mAP50-95): 100%|██████████| 1/1 [00:07<00:00,  7.16s/it]"
     ]
    },
    {
     "name": "stdout",
     "output_type": "stream",
     "text": [
      "                   all         28         28      0.836      0.786      0.857      0.555\n"
     ]
    },
    {
     "name": "stderr",
     "output_type": "stream",
     "text": [
      "\n"
     ]
    },
    {
     "name": "stdout",
     "output_type": "stream",
     "text": [
      "\n",
      "      Epoch    GPU_mem     box_om     cls_om     dfl_om     box_oo     cls_oo     dfl_oo  Instances       Size\n"
     ]
    },
    {
     "name": "stderr",
     "output_type": "stream",
     "text": [
      "      44/50         0G     0.7734     0.8673      1.274     0.8642      1.924       1.39          3        640: 100%|██████████| 5/5 [00:50<00:00, 10.18s/it]\n",
      "                 Class     Images  Instances      Box(P          R      mAP50  mAP50-95): 100%|██████████| 1/1 [00:07<00:00,  7.90s/it]"
     ]
    },
    {
     "name": "stdout",
     "output_type": "stream",
     "text": [
      "                   all         28         28      0.714      0.893      0.833      0.518\n"
     ]
    },
    {
     "name": "stderr",
     "output_type": "stream",
     "text": [
      "\n"
     ]
    },
    {
     "name": "stdout",
     "output_type": "stream",
     "text": [
      "\n",
      "      Epoch    GPU_mem     box_om     cls_om     dfl_om     box_oo     cls_oo     dfl_oo  Instances       Size\n"
     ]
    },
    {
     "name": "stderr",
     "output_type": "stream",
     "text": [
      "      45/50         0G     0.6939     0.8118      1.221     0.7554       1.99      1.286          3        640: 100%|██████████| 5/5 [00:44<00:00,  8.87s/it]\n",
      "                 Class     Images  Instances      Box(P          R      mAP50  mAP50-95): 100%|██████████| 1/1 [00:07<00:00,  7.50s/it]"
     ]
    },
    {
     "name": "stdout",
     "output_type": "stream",
     "text": [
      "                   all         28         28      0.831       0.75      0.809      0.514\n"
     ]
    },
    {
     "name": "stderr",
     "output_type": "stream",
     "text": [
      "\n"
     ]
    },
    {
     "name": "stdout",
     "output_type": "stream",
     "text": [
      "\n",
      "      Epoch    GPU_mem     box_om     cls_om     dfl_om     box_oo     cls_oo     dfl_oo  Instances       Size\n"
     ]
    },
    {
     "name": "stderr",
     "output_type": "stream",
     "text": [
      "      46/50         0G     0.7164     0.8545      1.125     0.9188      1.908      1.263          3        640: 100%|██████████| 5/5 [00:44<00:00,  8.90s/it]\n",
      "                 Class     Images  Instances      Box(P          R      mAP50  mAP50-95): 100%|██████████| 1/1 [00:07<00:00,  7.42s/it]"
     ]
    },
    {
     "name": "stdout",
     "output_type": "stream",
     "text": [
      "                   all         28         28       0.88      0.857      0.881      0.588\n"
     ]
    },
    {
     "name": "stderr",
     "output_type": "stream",
     "text": [
      "\n"
     ]
    },
    {
     "name": "stdout",
     "output_type": "stream",
     "text": [
      "\n",
      "      Epoch    GPU_mem     box_om     cls_om     dfl_om     box_oo     cls_oo     dfl_oo  Instances       Size\n"
     ]
    },
    {
     "name": "stderr",
     "output_type": "stream",
     "text": [
      "      47/50         0G     0.6414     0.6788      1.149     0.6752      1.761      1.172          3        640: 100%|██████████| 5/5 [00:46<00:00,  9.25s/it]\n",
      "                 Class     Images  Instances      Box(P          R      mAP50  mAP50-95): 100%|██████████| 1/1 [00:07<00:00,  7.26s/it]"
     ]
    },
    {
     "name": "stdout",
     "output_type": "stream",
     "text": [
      "                   all         28         28      0.878      0.893      0.896      0.618\n"
     ]
    },
    {
     "name": "stderr",
     "output_type": "stream",
     "text": [
      "\n"
     ]
    },
    {
     "name": "stdout",
     "output_type": "stream",
     "text": [
      "\n",
      "      Epoch    GPU_mem     box_om     cls_om     dfl_om     box_oo     cls_oo     dfl_oo  Instances       Size\n"
     ]
    },
    {
     "name": "stderr",
     "output_type": "stream",
     "text": [
      "      48/50         0G     0.6993     0.7376      1.251     0.7344      1.787      1.251          3        640: 100%|██████████| 5/5 [00:45<00:00,  9.19s/it]\n",
      "                 Class     Images  Instances      Box(P          R      mAP50  mAP50-95): 100%|██████████| 1/1 [00:07<00:00,  7.38s/it]"
     ]
    },
    {
     "name": "stdout",
     "output_type": "stream",
     "text": [
      "                   all         28         28       0.86      0.879      0.899      0.639\n"
     ]
    },
    {
     "name": "stderr",
     "output_type": "stream",
     "text": [
      "\n"
     ]
    },
    {
     "name": "stdout",
     "output_type": "stream",
     "text": [
      "\n",
      "      Epoch    GPU_mem     box_om     cls_om     dfl_om     box_oo     cls_oo     dfl_oo  Instances       Size\n"
     ]
    },
    {
     "name": "stderr",
     "output_type": "stream",
     "text": [
      "      49/50         0G     0.6219     0.6791      1.165     0.6792      1.764      1.197          3        640: 100%|██████████| 5/5 [00:46<00:00,  9.21s/it]\n",
      "                 Class     Images  Instances      Box(P          R      mAP50  mAP50-95): 100%|██████████| 1/1 [00:09<00:00,  9.12s/it]"
     ]
    },
    {
     "name": "stdout",
     "output_type": "stream",
     "text": [
      "                   all         28         28      0.875      0.857      0.899      0.639\n"
     ]
    },
    {
     "name": "stderr",
     "output_type": "stream",
     "text": [
      "\n"
     ]
    },
    {
     "name": "stdout",
     "output_type": "stream",
     "text": [
      "\n",
      "      Epoch    GPU_mem     box_om     cls_om     dfl_om     box_oo     cls_oo     dfl_oo  Instances       Size\n"
     ]
    },
    {
     "name": "stderr",
     "output_type": "stream",
     "text": [
      "      50/50         0G     0.6437     0.6835        1.1     0.6867      1.633      1.182          3        640: 100%|██████████| 5/5 [01:03<00:00, 12.67s/it]\n",
      "                 Class     Images  Instances      Box(P          R      mAP50  mAP50-95): 100%|██████████| 1/1 [00:08<00:00,  8.44s/it]"
     ]
    },
    {
     "name": "stdout",
     "output_type": "stream",
     "text": [
      "                   all         28         28      0.831      0.893      0.888      0.625\n"
     ]
    },
    {
     "name": "stderr",
     "output_type": "stream",
     "text": [
      "\n"
     ]
    },
    {
     "name": "stdout",
     "output_type": "stream",
     "text": [
      "\n",
      "50 epochs completed in 0.846 hours.\n",
      "Optimizer stripped from runs\\detect\\train7\\weights\\last.pt, 5.8MB\n",
      "Optimizer stripped from runs\\detect\\train7\\weights\\best.pt, 5.8MB\n",
      "\n",
      "Validating runs\\detect\\train7\\weights\\best.pt...\n",
      "Ultralytics YOLOv8.1.34 🚀 Python-3.12.3 torch-2.3.1+cpu CPU (Intel Core(TM) i7-10610U 1.80GHz)\n",
      "YOLOv10n summary (fused): 285 layers, 2694806 parameters, 0 gradients, 8.2 GFLOPs\n"
     ]
    },
    {
     "name": "stderr",
     "output_type": "stream",
     "text": [
      "                 Class     Images  Instances      Box(P          R      mAP50  mAP50-95): 100%|██████████| 1/1 [00:07<00:00,  7.55s/it]\n"
     ]
    },
    {
     "name": "stdout",
     "output_type": "stream",
     "text": [
      "                   all         28         28       0.86      0.879      0.932      0.645\n",
      "Speed: 2.5ms preprocess, 230.9ms inference, 0.0ms loss, 0.2ms postprocess per image\n",
      "Results saved to \u001b[1mruns\\detect\\train7\u001b[0m\n"
     ]
    },
    {
     "data": {
      "text/plain": [
       "ultralytics.utils.metrics.DetMetrics object with attributes:\n",
       "\n",
       "ap_class_index: array([0])\n",
       "box: ultralytics.utils.metrics.Metric object\n",
       "confusion_matrix: <ultralytics.utils.metrics.ConfusionMatrix object at 0x0000024F9239C3E0>\n",
       "curves: ['Precision-Recall(B)', 'F1-Confidence(B)', 'Precision-Confidence(B)', 'Recall-Confidence(B)']\n",
       "curves_results: [[array([          0,    0.001001,    0.002002,    0.003003,    0.004004,    0.005005,    0.006006,    0.007007,    0.008008,    0.009009,     0.01001,    0.011011,    0.012012,    0.013013,    0.014014,    0.015015,    0.016016,    0.017017,    0.018018,    0.019019,     0.02002,    0.021021,    0.022022,    0.023023,\n",
       "          0.024024,    0.025025,    0.026026,    0.027027,    0.028028,    0.029029,     0.03003,    0.031031,    0.032032,    0.033033,    0.034034,    0.035035,    0.036036,    0.037037,    0.038038,    0.039039,     0.04004,    0.041041,    0.042042,    0.043043,    0.044044,    0.045045,    0.046046,    0.047047,\n",
       "          0.048048,    0.049049,     0.05005,    0.051051,    0.052052,    0.053053,    0.054054,    0.055055,    0.056056,    0.057057,    0.058058,    0.059059,     0.06006,    0.061061,    0.062062,    0.063063,    0.064064,    0.065065,    0.066066,    0.067067,    0.068068,    0.069069,     0.07007,    0.071071,\n",
       "          0.072072,    0.073073,    0.074074,    0.075075,    0.076076,    0.077077,    0.078078,    0.079079,     0.08008,    0.081081,    0.082082,    0.083083,    0.084084,    0.085085,    0.086086,    0.087087,    0.088088,    0.089089,     0.09009,    0.091091,    0.092092,    0.093093,    0.094094,    0.095095,\n",
       "          0.096096,    0.097097,    0.098098,    0.099099,      0.1001,      0.1011,      0.1021,      0.1031,      0.1041,     0.10511,     0.10611,     0.10711,     0.10811,     0.10911,     0.11011,     0.11111,     0.11211,     0.11311,     0.11411,     0.11512,     0.11612,     0.11712,     0.11812,     0.11912,\n",
       "           0.12012,     0.12112,     0.12212,     0.12312,     0.12412,     0.12513,     0.12613,     0.12713,     0.12813,     0.12913,     0.13013,     0.13113,     0.13213,     0.13313,     0.13413,     0.13514,     0.13614,     0.13714,     0.13814,     0.13914,     0.14014,     0.14114,     0.14214,     0.14314,\n",
       "           0.14414,     0.14515,     0.14615,     0.14715,     0.14815,     0.14915,     0.15015,     0.15115,     0.15215,     0.15315,     0.15415,     0.15516,     0.15616,     0.15716,     0.15816,     0.15916,     0.16016,     0.16116,     0.16216,     0.16316,     0.16416,     0.16517,     0.16617,     0.16717,\n",
       "           0.16817,     0.16917,     0.17017,     0.17117,     0.17217,     0.17317,     0.17417,     0.17518,     0.17618,     0.17718,     0.17818,     0.17918,     0.18018,     0.18118,     0.18218,     0.18318,     0.18418,     0.18519,     0.18619,     0.18719,     0.18819,     0.18919,     0.19019,     0.19119,\n",
       "           0.19219,     0.19319,     0.19419,      0.1952,      0.1962,      0.1972,      0.1982,      0.1992,      0.2002,      0.2012,      0.2022,      0.2032,      0.2042,     0.20521,     0.20621,     0.20721,     0.20821,     0.20921,     0.21021,     0.21121,     0.21221,     0.21321,     0.21421,     0.21522,\n",
       "           0.21622,     0.21722,     0.21822,     0.21922,     0.22022,     0.22122,     0.22222,     0.22322,     0.22422,     0.22523,     0.22623,     0.22723,     0.22823,     0.22923,     0.23023,     0.23123,     0.23223,     0.23323,     0.23423,     0.23524,     0.23624,     0.23724,     0.23824,     0.23924,\n",
       "           0.24024,     0.24124,     0.24224,     0.24324,     0.24424,     0.24525,     0.24625,     0.24725,     0.24825,     0.24925,     0.25025,     0.25125,     0.25225,     0.25325,     0.25425,     0.25526,     0.25626,     0.25726,     0.25826,     0.25926,     0.26026,     0.26126,     0.26226,     0.26326,\n",
       "           0.26426,     0.26527,     0.26627,     0.26727,     0.26827,     0.26927,     0.27027,     0.27127,     0.27227,     0.27327,     0.27427,     0.27528,     0.27628,     0.27728,     0.27828,     0.27928,     0.28028,     0.28128,     0.28228,     0.28328,     0.28428,     0.28529,     0.28629,     0.28729,\n",
       "           0.28829,     0.28929,     0.29029,     0.29129,     0.29229,     0.29329,     0.29429,      0.2953,      0.2963,      0.2973,      0.2983,      0.2993,      0.3003,      0.3013,      0.3023,      0.3033,      0.3043,     0.30531,     0.30631,     0.30731,     0.30831,     0.30931,     0.31031,     0.31131,\n",
       "           0.31231,     0.31331,     0.31431,     0.31532,     0.31632,     0.31732,     0.31832,     0.31932,     0.32032,     0.32132,     0.32232,     0.32332,     0.32432,     0.32533,     0.32633,     0.32733,     0.32833,     0.32933,     0.33033,     0.33133,     0.33233,     0.33333,     0.33433,     0.33534,\n",
       "           0.33634,     0.33734,     0.33834,     0.33934,     0.34034,     0.34134,     0.34234,     0.34334,     0.34434,     0.34535,     0.34635,     0.34735,     0.34835,     0.34935,     0.35035,     0.35135,     0.35235,     0.35335,     0.35435,     0.35536,     0.35636,     0.35736,     0.35836,     0.35936,\n",
       "           0.36036,     0.36136,     0.36236,     0.36336,     0.36436,     0.36537,     0.36637,     0.36737,     0.36837,     0.36937,     0.37037,     0.37137,     0.37237,     0.37337,     0.37437,     0.37538,     0.37638,     0.37738,     0.37838,     0.37938,     0.38038,     0.38138,     0.38238,     0.38338,\n",
       "           0.38438,     0.38539,     0.38639,     0.38739,     0.38839,     0.38939,     0.39039,     0.39139,     0.39239,     0.39339,     0.39439,      0.3954,      0.3964,      0.3974,      0.3984,      0.3994,      0.4004,      0.4014,      0.4024,      0.4034,      0.4044,     0.40541,     0.40641,     0.40741,\n",
       "           0.40841,     0.40941,     0.41041,     0.41141,     0.41241,     0.41341,     0.41441,     0.41542,     0.41642,     0.41742,     0.41842,     0.41942,     0.42042,     0.42142,     0.42242,     0.42342,     0.42442,     0.42543,     0.42643,     0.42743,     0.42843,     0.42943,     0.43043,     0.43143,\n",
       "           0.43243,     0.43343,     0.43443,     0.43544,     0.43644,     0.43744,     0.43844,     0.43944,     0.44044,     0.44144,     0.44244,     0.44344,     0.44444,     0.44545,     0.44645,     0.44745,     0.44845,     0.44945,     0.45045,     0.45145,     0.45245,     0.45345,     0.45445,     0.45546,\n",
       "           0.45646,     0.45746,     0.45846,     0.45946,     0.46046,     0.46146,     0.46246,     0.46346,     0.46446,     0.46547,     0.46647,     0.46747,     0.46847,     0.46947,     0.47047,     0.47147,     0.47247,     0.47347,     0.47447,     0.47548,     0.47648,     0.47748,     0.47848,     0.47948,\n",
       "           0.48048,     0.48148,     0.48248,     0.48348,     0.48448,     0.48549,     0.48649,     0.48749,     0.48849,     0.48949,     0.49049,     0.49149,     0.49249,     0.49349,     0.49449,      0.4955,      0.4965,      0.4975,      0.4985,      0.4995,      0.5005,      0.5015,      0.5025,      0.5035,\n",
       "            0.5045,     0.50551,     0.50651,     0.50751,     0.50851,     0.50951,     0.51051,     0.51151,     0.51251,     0.51351,     0.51451,     0.51552,     0.51652,     0.51752,     0.51852,     0.51952,     0.52052,     0.52152,     0.52252,     0.52352,     0.52452,     0.52553,     0.52653,     0.52753,\n",
       "           0.52853,     0.52953,     0.53053,     0.53153,     0.53253,     0.53353,     0.53453,     0.53554,     0.53654,     0.53754,     0.53854,     0.53954,     0.54054,     0.54154,     0.54254,     0.54354,     0.54454,     0.54555,     0.54655,     0.54755,     0.54855,     0.54955,     0.55055,     0.55155,\n",
       "           0.55255,     0.55355,     0.55455,     0.55556,     0.55656,     0.55756,     0.55856,     0.55956,     0.56056,     0.56156,     0.56256,     0.56356,     0.56456,     0.56557,     0.56657,     0.56757,     0.56857,     0.56957,     0.57057,     0.57157,     0.57257,     0.57357,     0.57457,     0.57558,\n",
       "           0.57658,     0.57758,     0.57858,     0.57958,     0.58058,     0.58158,     0.58258,     0.58358,     0.58458,     0.58559,     0.58659,     0.58759,     0.58859,     0.58959,     0.59059,     0.59159,     0.59259,     0.59359,     0.59459,      0.5956,      0.5966,      0.5976,      0.5986,      0.5996,\n",
       "            0.6006,      0.6016,      0.6026,      0.6036,      0.6046,     0.60561,     0.60661,     0.60761,     0.60861,     0.60961,     0.61061,     0.61161,     0.61261,     0.61361,     0.61461,     0.61562,     0.61662,     0.61762,     0.61862,     0.61962,     0.62062,     0.62162,     0.62262,     0.62362,\n",
       "           0.62462,     0.62563,     0.62663,     0.62763,     0.62863,     0.62963,     0.63063,     0.63163,     0.63263,     0.63363,     0.63463,     0.63564,     0.63664,     0.63764,     0.63864,     0.63964,     0.64064,     0.64164,     0.64264,     0.64364,     0.64464,     0.64565,     0.64665,     0.64765,\n",
       "           0.64865,     0.64965,     0.65065,     0.65165,     0.65265,     0.65365,     0.65465,     0.65566,     0.65666,     0.65766,     0.65866,     0.65966,     0.66066,     0.66166,     0.66266,     0.66366,     0.66466,     0.66567,     0.66667,     0.66767,     0.66867,     0.66967,     0.67067,     0.67167,\n",
       "           0.67267,     0.67367,     0.67467,     0.67568,     0.67668,     0.67768,     0.67868,     0.67968,     0.68068,     0.68168,     0.68268,     0.68368,     0.68468,     0.68569,     0.68669,     0.68769,     0.68869,     0.68969,     0.69069,     0.69169,     0.69269,     0.69369,     0.69469,      0.6957,\n",
       "            0.6967,      0.6977,      0.6987,      0.6997,      0.7007,      0.7017,      0.7027,      0.7037,      0.7047,     0.70571,     0.70671,     0.70771,     0.70871,     0.70971,     0.71071,     0.71171,     0.71271,     0.71371,     0.71471,     0.71572,     0.71672,     0.71772,     0.71872,     0.71972,\n",
       "           0.72072,     0.72172,     0.72272,     0.72372,     0.72472,     0.72573,     0.72673,     0.72773,     0.72873,     0.72973,     0.73073,     0.73173,     0.73273,     0.73373,     0.73473,     0.73574,     0.73674,     0.73774,     0.73874,     0.73974,     0.74074,     0.74174,     0.74274,     0.74374,\n",
       "           0.74474,     0.74575,     0.74675,     0.74775,     0.74875,     0.74975,     0.75075,     0.75175,     0.75275,     0.75375,     0.75475,     0.75576,     0.75676,     0.75776,     0.75876,     0.75976,     0.76076,     0.76176,     0.76276,     0.76376,     0.76476,     0.76577,     0.76677,     0.76777,\n",
       "           0.76877,     0.76977,     0.77077,     0.77177,     0.77277,     0.77377,     0.77477,     0.77578,     0.77678,     0.77778,     0.77878,     0.77978,     0.78078,     0.78178,     0.78278,     0.78378,     0.78478,     0.78579,     0.78679,     0.78779,     0.78879,     0.78979,     0.79079,     0.79179,\n",
       "           0.79279,     0.79379,     0.79479,      0.7958,      0.7968,      0.7978,      0.7988,      0.7998,      0.8008,      0.8018,      0.8028,      0.8038,      0.8048,     0.80581,     0.80681,     0.80781,     0.80881,     0.80981,     0.81081,     0.81181,     0.81281,     0.81381,     0.81481,     0.81582,\n",
       "           0.81682,     0.81782,     0.81882,     0.81982,     0.82082,     0.82182,     0.82282,     0.82382,     0.82482,     0.82583,     0.82683,     0.82783,     0.82883,     0.82983,     0.83083,     0.83183,     0.83283,     0.83383,     0.83483,     0.83584,     0.83684,     0.83784,     0.83884,     0.83984,\n",
       "           0.84084,     0.84184,     0.84284,     0.84384,     0.84484,     0.84585,     0.84685,     0.84785,     0.84885,     0.84985,     0.85085,     0.85185,     0.85285,     0.85385,     0.85485,     0.85586,     0.85686,     0.85786,     0.85886,     0.85986,     0.86086,     0.86186,     0.86286,     0.86386,\n",
       "           0.86486,     0.86587,     0.86687,     0.86787,     0.86887,     0.86987,     0.87087,     0.87187,     0.87287,     0.87387,     0.87487,     0.87588,     0.87688,     0.87788,     0.87888,     0.87988,     0.88088,     0.88188,     0.88288,     0.88388,     0.88488,     0.88589,     0.88689,     0.88789,\n",
       "           0.88889,     0.88989,     0.89089,     0.89189,     0.89289,     0.89389,     0.89489,      0.8959,      0.8969,      0.8979,      0.8989,      0.8999,      0.9009,      0.9019,      0.9029,      0.9039,      0.9049,     0.90591,     0.90691,     0.90791,     0.90891,     0.90991,     0.91091,     0.91191,\n",
       "           0.91291,     0.91391,     0.91491,     0.91592,     0.91692,     0.91792,     0.91892,     0.91992,     0.92092,     0.92192,     0.92292,     0.92392,     0.92492,     0.92593,     0.92693,     0.92793,     0.92893,     0.92993,     0.93093,     0.93193,     0.93293,     0.93393,     0.93493,     0.93594,\n",
       "           0.93694,     0.93794,     0.93894,     0.93994,     0.94094,     0.94194,     0.94294,     0.94394,     0.94494,     0.94595,     0.94695,     0.94795,     0.94895,     0.94995,     0.95095,     0.95195,     0.95295,     0.95395,     0.95495,     0.95596,     0.95696,     0.95796,     0.95896,     0.95996,\n",
       "           0.96096,     0.96196,     0.96296,     0.96396,     0.96496,     0.96597,     0.96697,     0.96797,     0.96897,     0.96997,     0.97097,     0.97197,     0.97297,     0.97397,     0.97497,     0.97598,     0.97698,     0.97798,     0.97898,     0.97998,     0.98098,     0.98198,     0.98298,     0.98398,\n",
       "           0.98498,     0.98599,     0.98699,     0.98799,     0.98899,     0.98999,     0.99099,     0.99199,     0.99299,     0.99399,     0.99499,       0.996,       0.997,       0.998,       0.999,           1]), array([[          1,           1,           1,           1,           1,           1,           1,           1,           1,           1,           1,           1,           1,           1,           1,           1,           1,           1,           1,           1,           1,           1,           1,\n",
       "                  1,           1,           1,           1,           1,           1,           1,           1,           1,           1,           1,           1,           1,           1,           1,           1,           1,           1,           1,           1,           1,           1,           1,\n",
       "                  1,           1,           1,           1,           1,           1,           1,           1,           1,           1,           1,           1,           1,           1,           1,           1,           1,           1,           1,           1,           1,           1,           1,\n",
       "                  1,           1,           1,           1,           1,           1,           1,           1,           1,           1,           1,           1,           1,           1,           1,           1,           1,           1,           1,           1,           1,           1,           1,\n",
       "                  1,           1,           1,           1,           1,           1,           1,           1,           1,           1,           1,           1,           1,           1,           1,           1,           1,           1,           1,           1,           1,           1,           1,\n",
       "                  1,           1,           1,           1,           1,           1,           1,           1,           1,           1,           1,           1,           1,           1,           1,           1,           1,           1,           1,           1,           1,           1,           1,\n",
       "                  1,           1,           1,           1,           1,           1,           1,           1,           1,           1,           1,           1,           1,           1,           1,           1,           1,           1,           1,           1,           1,           1,           1,\n",
       "                  1,           1,           1,           1,           1,           1,           1,           1,           1,           1,           1,           1,           1,           1,           1,           1,           1,           1,           1,           1,           1,           1,           1,\n",
       "                  1,           1,           1,           1,           1,           1,           1,           1,           1,           1,           1,           1,           1,           1,           1,           1,           1,           1,           1,           1,           1,           1,           1,\n",
       "                  1,           1,           1,           1,           1,           1,           1,           1,           1,           1,           1,           1,           1,           1,           1,           1,           1,           1,           1,           1,           1,           1,           1,\n",
       "                  1,           1,           1,           1,           1,           1,           1,           1,           1,           1,           1,           1,           1,           1,           1,           1,           1,           1,           1,           1,           1,           1,           1,\n",
       "                  1,           1,           1,           1,           1,           1,           1,           1,           1,           1,           1,           1,           1,           1,           1,           1,           1,           1,           1,           1,           1,           1,           1,\n",
       "                  1,           1,           1,           1,           1,           1,           1,           1,           1,           1,           1,           1,           1,           1,           1,           1,           1,           1,           1,           1,           1,           1,           1,\n",
       "                  1,           1,           1,           1,           1,           1,           1,           1,           1,           1,           1,           1,           1,           1,           1,           1,           1,           1,           1,           1,           1,           1,           1,\n",
       "                  1,           1,           1,           1,           1,           1,           1,           1,           1,           1,           1,           1,           1,           1,           1,           1,           1,           1,           1,           1,           1,           1,           1,\n",
       "                  1,           1,           1,           1,           1,           1,           1,           1,           1,           1,           1,           1,           1,           1,           1,           1,           1,           1,           1,           1,           1,           1,           1,\n",
       "                  1,           1,           1,           1,           1,           1,           1,           1,           1,           1,           1,           1,           1,           1,           1,           1,           1,           1,           1,           1,           1,           1,           1,\n",
       "                  1,           1,           1,           1,           1,           1,           1,           1,           1,           1,           1,           1,           1,           1,           1,           1,           1,           1,           1,           1,           1,           1,           1,\n",
       "                  1,           1,           1,           1,           1,           1,           1,           1,           1,           1,           1,           1,           1,           1,           1,           1,           1,           1,           1,           1,           1,           1,           1,\n",
       "                  1,           1,           1,           1,           1,           1,           1,           1,           1,           1,           1,           1,           1,           1,           1,           1,           1,           1,           1,           1,           1,           1,           1,\n",
       "                  1,           1,           1,           1,           1,           1,           1,           1,           1,           1,           1,           1,           1,           1,           1,           1,           1,           1,           1,           1,           1,           1,           1,\n",
       "                  1,           1,           1,           1,           1,           1,           1,           1,           1,           1,           1,           1,           1,           1,           1,           1,           1,           1,           1,           1,           1,           1,           1,\n",
       "                  1,           1,           1,           1,           1,           1,           1,           1,           1,           1,           1,           1,           1,           1,           1,           1,           1,           1,           1,           1,           1,           1,           1,\n",
       "                  1,           1,           1,           1,           1,           1,           1,           1,           1,           1,           1,           1,           1,           1,           1,           1,           1,           1,           1,           1,           1,           1,           1,\n",
       "                  1,           1,           1,           1,           1,           1,           1,           1,           1,           1,           1,           1,           1,           1,           1,           1,           1,           1,           1,           1,           1,           1,           1,\n",
       "                  1,           1,           1,           1,           1,           1,           1,           1,           1,           1,           1,           1,           1,           1,           1,           1,           1,           1,           1,           1,           1,           1,           1,\n",
       "                  1,           1,           1,           1,           1,           1,           1,           1,           1,           1,           1,           1,           1,           1,           1,           1,           1,           1,           1,           1,           1,           1,           1,\n",
       "                  1,           1,           1,           1,           1,           1,           1,           1,           1,           1,           1,           1,           1,           1,           1,           1,           1,           1,           1,           1,           1,           1,           1,\n",
       "                  1,           1,           1,           1,           1,           1,           1,           1,           1,           1,           1,           1,           1,           1,           1,           1,           1,           1,           1,           1,           1,           1,           1,\n",
       "                  1,           1,           1,           1,           1,           1,           1,           1,           1,           1,           1,           1,           1,           1,           1,           1,           1,           1,           1,           1,           1,           1,           1,\n",
       "                  1,           1,           1,           1,           1,           1,           1,           1,           1,           1,           1,           1,           1,           1,           1,           1,           1,           1,           1,           1,           1,           1,           1,\n",
       "                  1,        0.92,        0.92,        0.92,        0.92,        0.92,        0.92,        0.92,        0.92,        0.92,        0.92,        0.92,        0.92,        0.92,        0.92,        0.92,        0.92,        0.92,        0.92,        0.92,        0.92,        0.92,        0.92,\n",
       "               0.92,        0.92,        0.92,        0.92,        0.92,        0.92,        0.92,        0.92,        0.92,        0.92,        0.92,        0.92,        0.92,        0.92,        0.92,        0.92,        0.92,        0.92,        0.92,        0.92,        0.92,        0.92,        0.92,\n",
       "               0.92,        0.92,        0.92,        0.92,        0.92,        0.92,        0.92,        0.92,        0.92,        0.92,        0.92,        0.92,        0.92,        0.92,        0.92,        0.92,        0.92,        0.92,        0.92,        0.92,        0.92,        0.92,        0.92,\n",
       "               0.92,        0.92,        0.92,        0.92,        0.92,        0.92,        0.92,        0.92,        0.92,        0.92,        0.92,        0.92,        0.92,        0.92,        0.92,        0.92,        0.92,        0.92,        0.92,        0.92,        0.92,        0.92,        0.92,\n",
       "               0.92,        0.92,        0.92,        0.92,        0.92,        0.92,        0.92,        0.92,        0.92,        0.92,        0.92,        0.92,        0.92,        0.92,        0.92,        0.92,     0.88889,     0.88889,     0.88889,     0.88889,     0.88889,     0.88889,     0.88889,\n",
       "            0.88889,     0.88889,     0.88889,     0.88889,     0.88889,     0.88889,     0.88889,     0.88889,     0.88889,     0.88889,     0.88889,     0.88889,     0.88889,     0.88889,     0.88889,     0.88889,     0.88889,     0.88889,     0.88889,     0.88889,     0.88889,     0.88889,     0.88889,\n",
       "            0.88889,     0.88889,     0.88889,     0.88889,     0.88889,     0.88889,     0.86207,     0.86207,     0.86207,     0.86207,     0.86207,     0.86207,     0.86207,     0.86207,     0.86207,     0.86207,     0.86207,     0.86207,     0.86207,     0.86207,     0.86207,     0.86207,     0.86207,\n",
       "            0.86207,     0.86207,     0.86207,     0.86207,     0.86207,     0.86207,     0.86207,     0.86207,     0.86207,     0.86207,     0.86207,     0.86207,     0.86207,     0.86207,     0.86207,     0.86207,     0.86207,     0.86207,      0.8125,      0.8125,      0.8125,      0.8125,      0.8125,\n",
       "             0.8125,      0.8125,      0.8125,      0.8125,      0.8125,      0.8125,      0.8125,      0.8125,      0.8125,      0.8125,      0.8125,      0.8125,      0.8125,      0.8125,      0.8125,      0.8125,      0.8125,      0.8125,      0.8125,      0.8125,      0.8125,      0.8125,      0.8125,\n",
       "             0.8125,      0.8125,      0.8125,      0.8125,      0.8125,      0.8125,      0.8125,      0.8125,     0.71053,     0.71053,     0.71053,     0.71053,     0.71053,     0.71053,     0.71053,     0.71053,     0.71053,     0.71053,     0.71053,     0.71053,     0.71053,     0.71053,     0.71053,\n",
       "            0.71053,     0.71053,     0.71053,     0.71053,     0.71053,     0.71053,     0.71053,     0.71053,     0.71053,     0.71053,     0.71053,     0.71053,     0.71053,     0.71053,     0.71053,     0.71053,     0.71053,     0.71053,     0.71053,     0.71053,     0.71053,    0.049734,    0.049734,\n",
       "           0.049734,    0.049734,    0.049734,    0.049734,    0.049734,    0.049734,    0.049734,    0.049734,    0.049734,    0.049734,    0.049734,    0.049734,    0.049734,    0.049734,    0.049734,    0.049734,    0.049734,    0.049734,    0.049734,    0.049734,    0.049734,    0.049734,    0.049734,\n",
       "           0.049734,    0.049734,    0.049734,    0.049734,    0.049734,    0.049734,    0.049734,    0.049734,    0.049734,    0.049734,           0]]), 'Recall', 'Precision'], [array([          0,    0.001001,    0.002002,    0.003003,    0.004004,    0.005005,    0.006006,    0.007007,    0.008008,    0.009009,     0.01001,    0.011011,    0.012012,    0.013013,    0.014014,    0.015015,    0.016016,    0.017017,    0.018018,    0.019019,     0.02002,    0.021021,    0.022022,    0.023023,\n",
       "          0.024024,    0.025025,    0.026026,    0.027027,    0.028028,    0.029029,     0.03003,    0.031031,    0.032032,    0.033033,    0.034034,    0.035035,    0.036036,    0.037037,    0.038038,    0.039039,     0.04004,    0.041041,    0.042042,    0.043043,    0.044044,    0.045045,    0.046046,    0.047047,\n",
       "          0.048048,    0.049049,     0.05005,    0.051051,    0.052052,    0.053053,    0.054054,    0.055055,    0.056056,    0.057057,    0.058058,    0.059059,     0.06006,    0.061061,    0.062062,    0.063063,    0.064064,    0.065065,    0.066066,    0.067067,    0.068068,    0.069069,     0.07007,    0.071071,\n",
       "          0.072072,    0.073073,    0.074074,    0.075075,    0.076076,    0.077077,    0.078078,    0.079079,     0.08008,    0.081081,    0.082082,    0.083083,    0.084084,    0.085085,    0.086086,    0.087087,    0.088088,    0.089089,     0.09009,    0.091091,    0.092092,    0.093093,    0.094094,    0.095095,\n",
       "          0.096096,    0.097097,    0.098098,    0.099099,      0.1001,      0.1011,      0.1021,      0.1031,      0.1041,     0.10511,     0.10611,     0.10711,     0.10811,     0.10911,     0.11011,     0.11111,     0.11211,     0.11311,     0.11411,     0.11512,     0.11612,     0.11712,     0.11812,     0.11912,\n",
       "           0.12012,     0.12112,     0.12212,     0.12312,     0.12412,     0.12513,     0.12613,     0.12713,     0.12813,     0.12913,     0.13013,     0.13113,     0.13213,     0.13313,     0.13413,     0.13514,     0.13614,     0.13714,     0.13814,     0.13914,     0.14014,     0.14114,     0.14214,     0.14314,\n",
       "           0.14414,     0.14515,     0.14615,     0.14715,     0.14815,     0.14915,     0.15015,     0.15115,     0.15215,     0.15315,     0.15415,     0.15516,     0.15616,     0.15716,     0.15816,     0.15916,     0.16016,     0.16116,     0.16216,     0.16316,     0.16416,     0.16517,     0.16617,     0.16717,\n",
       "           0.16817,     0.16917,     0.17017,     0.17117,     0.17217,     0.17317,     0.17417,     0.17518,     0.17618,     0.17718,     0.17818,     0.17918,     0.18018,     0.18118,     0.18218,     0.18318,     0.18418,     0.18519,     0.18619,     0.18719,     0.18819,     0.18919,     0.19019,     0.19119,\n",
       "           0.19219,     0.19319,     0.19419,      0.1952,      0.1962,      0.1972,      0.1982,      0.1992,      0.2002,      0.2012,      0.2022,      0.2032,      0.2042,     0.20521,     0.20621,     0.20721,     0.20821,     0.20921,     0.21021,     0.21121,     0.21221,     0.21321,     0.21421,     0.21522,\n",
       "           0.21622,     0.21722,     0.21822,     0.21922,     0.22022,     0.22122,     0.22222,     0.22322,     0.22422,     0.22523,     0.22623,     0.22723,     0.22823,     0.22923,     0.23023,     0.23123,     0.23223,     0.23323,     0.23423,     0.23524,     0.23624,     0.23724,     0.23824,     0.23924,\n",
       "           0.24024,     0.24124,     0.24224,     0.24324,     0.24424,     0.24525,     0.24625,     0.24725,     0.24825,     0.24925,     0.25025,     0.25125,     0.25225,     0.25325,     0.25425,     0.25526,     0.25626,     0.25726,     0.25826,     0.25926,     0.26026,     0.26126,     0.26226,     0.26326,\n",
       "           0.26426,     0.26527,     0.26627,     0.26727,     0.26827,     0.26927,     0.27027,     0.27127,     0.27227,     0.27327,     0.27427,     0.27528,     0.27628,     0.27728,     0.27828,     0.27928,     0.28028,     0.28128,     0.28228,     0.28328,     0.28428,     0.28529,     0.28629,     0.28729,\n",
       "           0.28829,     0.28929,     0.29029,     0.29129,     0.29229,     0.29329,     0.29429,      0.2953,      0.2963,      0.2973,      0.2983,      0.2993,      0.3003,      0.3013,      0.3023,      0.3033,      0.3043,     0.30531,     0.30631,     0.30731,     0.30831,     0.30931,     0.31031,     0.31131,\n",
       "           0.31231,     0.31331,     0.31431,     0.31532,     0.31632,     0.31732,     0.31832,     0.31932,     0.32032,     0.32132,     0.32232,     0.32332,     0.32432,     0.32533,     0.32633,     0.32733,     0.32833,     0.32933,     0.33033,     0.33133,     0.33233,     0.33333,     0.33433,     0.33534,\n",
       "           0.33634,     0.33734,     0.33834,     0.33934,     0.34034,     0.34134,     0.34234,     0.34334,     0.34434,     0.34535,     0.34635,     0.34735,     0.34835,     0.34935,     0.35035,     0.35135,     0.35235,     0.35335,     0.35435,     0.35536,     0.35636,     0.35736,     0.35836,     0.35936,\n",
       "           0.36036,     0.36136,     0.36236,     0.36336,     0.36436,     0.36537,     0.36637,     0.36737,     0.36837,     0.36937,     0.37037,     0.37137,     0.37237,     0.37337,     0.37437,     0.37538,     0.37638,     0.37738,     0.37838,     0.37938,     0.38038,     0.38138,     0.38238,     0.38338,\n",
       "           0.38438,     0.38539,     0.38639,     0.38739,     0.38839,     0.38939,     0.39039,     0.39139,     0.39239,     0.39339,     0.39439,      0.3954,      0.3964,      0.3974,      0.3984,      0.3994,      0.4004,      0.4014,      0.4024,      0.4034,      0.4044,     0.40541,     0.40641,     0.40741,\n",
       "           0.40841,     0.40941,     0.41041,     0.41141,     0.41241,     0.41341,     0.41441,     0.41542,     0.41642,     0.41742,     0.41842,     0.41942,     0.42042,     0.42142,     0.42242,     0.42342,     0.42442,     0.42543,     0.42643,     0.42743,     0.42843,     0.42943,     0.43043,     0.43143,\n",
       "           0.43243,     0.43343,     0.43443,     0.43544,     0.43644,     0.43744,     0.43844,     0.43944,     0.44044,     0.44144,     0.44244,     0.44344,     0.44444,     0.44545,     0.44645,     0.44745,     0.44845,     0.44945,     0.45045,     0.45145,     0.45245,     0.45345,     0.45445,     0.45546,\n",
       "           0.45646,     0.45746,     0.45846,     0.45946,     0.46046,     0.46146,     0.46246,     0.46346,     0.46446,     0.46547,     0.46647,     0.46747,     0.46847,     0.46947,     0.47047,     0.47147,     0.47247,     0.47347,     0.47447,     0.47548,     0.47648,     0.47748,     0.47848,     0.47948,\n",
       "           0.48048,     0.48148,     0.48248,     0.48348,     0.48448,     0.48549,     0.48649,     0.48749,     0.48849,     0.48949,     0.49049,     0.49149,     0.49249,     0.49349,     0.49449,      0.4955,      0.4965,      0.4975,      0.4985,      0.4995,      0.5005,      0.5015,      0.5025,      0.5035,\n",
       "            0.5045,     0.50551,     0.50651,     0.50751,     0.50851,     0.50951,     0.51051,     0.51151,     0.51251,     0.51351,     0.51451,     0.51552,     0.51652,     0.51752,     0.51852,     0.51952,     0.52052,     0.52152,     0.52252,     0.52352,     0.52452,     0.52553,     0.52653,     0.52753,\n",
       "           0.52853,     0.52953,     0.53053,     0.53153,     0.53253,     0.53353,     0.53453,     0.53554,     0.53654,     0.53754,     0.53854,     0.53954,     0.54054,     0.54154,     0.54254,     0.54354,     0.54454,     0.54555,     0.54655,     0.54755,     0.54855,     0.54955,     0.55055,     0.55155,\n",
       "           0.55255,     0.55355,     0.55455,     0.55556,     0.55656,     0.55756,     0.55856,     0.55956,     0.56056,     0.56156,     0.56256,     0.56356,     0.56456,     0.56557,     0.56657,     0.56757,     0.56857,     0.56957,     0.57057,     0.57157,     0.57257,     0.57357,     0.57457,     0.57558,\n",
       "           0.57658,     0.57758,     0.57858,     0.57958,     0.58058,     0.58158,     0.58258,     0.58358,     0.58458,     0.58559,     0.58659,     0.58759,     0.58859,     0.58959,     0.59059,     0.59159,     0.59259,     0.59359,     0.59459,      0.5956,      0.5966,      0.5976,      0.5986,      0.5996,\n",
       "            0.6006,      0.6016,      0.6026,      0.6036,      0.6046,     0.60561,     0.60661,     0.60761,     0.60861,     0.60961,     0.61061,     0.61161,     0.61261,     0.61361,     0.61461,     0.61562,     0.61662,     0.61762,     0.61862,     0.61962,     0.62062,     0.62162,     0.62262,     0.62362,\n",
       "           0.62462,     0.62563,     0.62663,     0.62763,     0.62863,     0.62963,     0.63063,     0.63163,     0.63263,     0.63363,     0.63463,     0.63564,     0.63664,     0.63764,     0.63864,     0.63964,     0.64064,     0.64164,     0.64264,     0.64364,     0.64464,     0.64565,     0.64665,     0.64765,\n",
       "           0.64865,     0.64965,     0.65065,     0.65165,     0.65265,     0.65365,     0.65465,     0.65566,     0.65666,     0.65766,     0.65866,     0.65966,     0.66066,     0.66166,     0.66266,     0.66366,     0.66466,     0.66567,     0.66667,     0.66767,     0.66867,     0.66967,     0.67067,     0.67167,\n",
       "           0.67267,     0.67367,     0.67467,     0.67568,     0.67668,     0.67768,     0.67868,     0.67968,     0.68068,     0.68168,     0.68268,     0.68368,     0.68468,     0.68569,     0.68669,     0.68769,     0.68869,     0.68969,     0.69069,     0.69169,     0.69269,     0.69369,     0.69469,      0.6957,\n",
       "            0.6967,      0.6977,      0.6987,      0.6997,      0.7007,      0.7017,      0.7027,      0.7037,      0.7047,     0.70571,     0.70671,     0.70771,     0.70871,     0.70971,     0.71071,     0.71171,     0.71271,     0.71371,     0.71471,     0.71572,     0.71672,     0.71772,     0.71872,     0.71972,\n",
       "           0.72072,     0.72172,     0.72272,     0.72372,     0.72472,     0.72573,     0.72673,     0.72773,     0.72873,     0.72973,     0.73073,     0.73173,     0.73273,     0.73373,     0.73473,     0.73574,     0.73674,     0.73774,     0.73874,     0.73974,     0.74074,     0.74174,     0.74274,     0.74374,\n",
       "           0.74474,     0.74575,     0.74675,     0.74775,     0.74875,     0.74975,     0.75075,     0.75175,     0.75275,     0.75375,     0.75475,     0.75576,     0.75676,     0.75776,     0.75876,     0.75976,     0.76076,     0.76176,     0.76276,     0.76376,     0.76476,     0.76577,     0.76677,     0.76777,\n",
       "           0.76877,     0.76977,     0.77077,     0.77177,     0.77277,     0.77377,     0.77477,     0.77578,     0.77678,     0.77778,     0.77878,     0.77978,     0.78078,     0.78178,     0.78278,     0.78378,     0.78478,     0.78579,     0.78679,     0.78779,     0.78879,     0.78979,     0.79079,     0.79179,\n",
       "           0.79279,     0.79379,     0.79479,      0.7958,      0.7968,      0.7978,      0.7988,      0.7998,      0.8008,      0.8018,      0.8028,      0.8038,      0.8048,     0.80581,     0.80681,     0.80781,     0.80881,     0.80981,     0.81081,     0.81181,     0.81281,     0.81381,     0.81481,     0.81582,\n",
       "           0.81682,     0.81782,     0.81882,     0.81982,     0.82082,     0.82182,     0.82282,     0.82382,     0.82482,     0.82583,     0.82683,     0.82783,     0.82883,     0.82983,     0.83083,     0.83183,     0.83283,     0.83383,     0.83483,     0.83584,     0.83684,     0.83784,     0.83884,     0.83984,\n",
       "           0.84084,     0.84184,     0.84284,     0.84384,     0.84484,     0.84585,     0.84685,     0.84785,     0.84885,     0.84985,     0.85085,     0.85185,     0.85285,     0.85385,     0.85485,     0.85586,     0.85686,     0.85786,     0.85886,     0.85986,     0.86086,     0.86186,     0.86286,     0.86386,\n",
       "           0.86486,     0.86587,     0.86687,     0.86787,     0.86887,     0.86987,     0.87087,     0.87187,     0.87287,     0.87387,     0.87487,     0.87588,     0.87688,     0.87788,     0.87888,     0.87988,     0.88088,     0.88188,     0.88288,     0.88388,     0.88488,     0.88589,     0.88689,     0.88789,\n",
       "           0.88889,     0.88989,     0.89089,     0.89189,     0.89289,     0.89389,     0.89489,      0.8959,      0.8969,      0.8979,      0.8989,      0.8999,      0.9009,      0.9019,      0.9029,      0.9039,      0.9049,     0.90591,     0.90691,     0.90791,     0.90891,     0.90991,     0.91091,     0.91191,\n",
       "           0.91291,     0.91391,     0.91491,     0.91592,     0.91692,     0.91792,     0.91892,     0.91992,     0.92092,     0.92192,     0.92292,     0.92392,     0.92492,     0.92593,     0.92693,     0.92793,     0.92893,     0.92993,     0.93093,     0.93193,     0.93293,     0.93393,     0.93493,     0.93594,\n",
       "           0.93694,     0.93794,     0.93894,     0.93994,     0.94094,     0.94194,     0.94294,     0.94394,     0.94494,     0.94595,     0.94695,     0.94795,     0.94895,     0.94995,     0.95095,     0.95195,     0.95295,     0.95395,     0.95495,     0.95596,     0.95696,     0.95796,     0.95896,     0.95996,\n",
       "           0.96096,     0.96196,     0.96296,     0.96396,     0.96496,     0.96597,     0.96697,     0.96797,     0.96897,     0.96997,     0.97097,     0.97197,     0.97297,     0.97397,     0.97497,     0.97598,     0.97698,     0.97798,     0.97898,     0.97998,     0.98098,     0.98198,     0.98298,     0.98398,\n",
       "           0.98498,     0.98599,     0.98699,     0.98799,     0.98899,     0.98999,     0.99099,     0.99199,     0.99299,     0.99399,     0.99499,       0.996,       0.997,       0.998,       0.999,           1]), array([[  0.0066445,   0.0066445,   0.0066445,   0.0066445,   0.0066661,    0.010913,    0.025007,    0.062155,      0.1232,     0.20034,     0.26974,     0.30322,     0.35301,       0.391,     0.42118,     0.44367,     0.46031,     0.48304,     0.49303,     0.50089,     0.50367,     0.50884,     0.52461,\n",
       "            0.52907,     0.53805,     0.54269,     0.55442,     0.56114,     0.57529,     0.57877,     0.58376,     0.58975,     0.59766,     0.60557,     0.61477,     0.61626,     0.61775,     0.61924,     0.62094,     0.62848,      0.6299,     0.63132,     0.63274,     0.63416,     0.64435,     0.65132,\n",
       "            0.65377,     0.65621,     0.65877,     0.66389,     0.66748,     0.66926,     0.67103,      0.6728,     0.67457,     0.67908,     0.69236,     0.69748,     0.70247,     0.70719,     0.71229,     0.71838,     0.72097,      0.7223,     0.72363,     0.72495,     0.72627,     0.72758,      0.7289,\n",
       "            0.73107,     0.73473,     0.73837,     0.74175,     0.74497,     0.74816,     0.75065,     0.75218,     0.75371,     0.75524,     0.75676,     0.75828,     0.75979,     0.76135,     0.76295,     0.76454,     0.76614,     0.76772,     0.76931,     0.77089,      0.7722,     0.77337,     0.77453,\n",
       "             0.7757,     0.77686,     0.77802,     0.77918,     0.78033,     0.78149,     0.78262,     0.78327,     0.78391,     0.78456,      0.7852,     0.78584,     0.78648,     0.78712,     0.78776,      0.7884,     0.78904,     0.78968,     0.79031,     0.79095,     0.79158,     0.79222,     0.79285,\n",
       "            0.79349,     0.79413,     0.80142,     0.80645,     0.80775,     0.80905,     0.81035,     0.81164,     0.81293,     0.81422,     0.81551,     0.81679,     0.81807,     0.81039,     0.80176,     0.81326,     0.82585,     0.82658,     0.82731,     0.82804,     0.82877,     0.82949,     0.83022,\n",
       "            0.83095,     0.83167,     0.83239,     0.83311,     0.83383,     0.83455,     0.83527,     0.83599,     0.83671,     0.83742,     0.83814,     0.83907,     0.84089,      0.8427,     0.84451,     0.84631,     0.84811,      0.8499,     0.85168,     0.85264,     0.85296,     0.85328,      0.8536,\n",
       "            0.85392,     0.85423,     0.85455,     0.85487,     0.85519,     0.85551,     0.85583,     0.85614,     0.85646,     0.85678,      0.8571,     0.85741,     0.85773,     0.85804,     0.85836,     0.85868,     0.85899,     0.85931,     0.85962,     0.85994,     0.86025,     0.86057,     0.86088,\n",
       "             0.8612,     0.86151,     0.86183,     0.86214,     0.86245,     0.86277,     0.86308,     0.86339,     0.86371,     0.86402,     0.86433,     0.86464,     0.86496,     0.86527,     0.86558,     0.86589,      0.8662,     0.86651,     0.85399,     0.84788,     0.84844,     0.84901,     0.84957,\n",
       "            0.85013,     0.85069,     0.85125,     0.85182,     0.85238,     0.85293,     0.85349,     0.85405,     0.85461,     0.85516,     0.85572,     0.85628,     0.85683,     0.85738,     0.85794,     0.85849,     0.85904,     0.85959,     0.86014,     0.86069,     0.86124,     0.86179,     0.86247,\n",
       "            0.86328,     0.86409,     0.86489,      0.8657,      0.8665,     0.86731,     0.86811,     0.86891,     0.86971,      0.8705,      0.8713,     0.87209,     0.87289,     0.87368,     0.87447,     0.87526,     0.87605,     0.87683,     0.87694,     0.87646,     0.87598,     0.87551,     0.87503,\n",
       "            0.87455,     0.87407,      0.8736,     0.87312,     0.87264,     0.87216,     0.87168,      0.8712,     0.87072,     0.87024,     0.86976,     0.86928,      0.8688,     0.86832,     0.86784,     0.86736,     0.86688,     0.86639,     0.86591,     0.86543,     0.86494,     0.86446,     0.86398,\n",
       "            0.86349,     0.86301,     0.86252,     0.86204,     0.86155,     0.86107,     0.86058,     0.86009,     0.85961,     0.85912,     0.85863,     0.85815,     0.85766,     0.85717,     0.86121,     0.86546,     0.86968,      0.8725,     0.87164,     0.87079,     0.86994,     0.86908,     0.86823,\n",
       "            0.86737,     0.86651,     0.86565,     0.86479,     0.86393,     0.86307,      0.8622,     0.86134,     0.86047,     0.85961,     0.85874,     0.85787,       0.857,     0.85613,     0.85526,     0.85439,     0.85351,     0.85264,      0.8519,     0.85233,     0.85275,     0.85318,     0.85361,\n",
       "            0.85404,     0.85446,     0.85489,     0.85531,     0.85574,     0.85616,     0.85659,     0.85701,     0.85743,     0.85786,     0.85828,      0.8587,     0.85912,     0.85954,     0.85996,     0.86038,      0.8608,     0.86122,     0.86164,     0.86206,     0.86248,     0.86289,     0.86331,\n",
       "            0.86373,     0.86414,     0.86456,     0.86497,     0.86539,      0.8658,     0.86622,     0.86663,     0.86704,     0.86745,     0.86787,     0.86653,     0.86491,     0.86329,     0.86166,     0.86002,     0.85839,     0.85674,      0.8551,     0.85345,      0.8518,     0.85014,     0.84848,\n",
       "            0.84681,     0.84581,     0.84525,     0.84469,     0.84413,     0.84357,     0.84301,     0.84244,     0.84188,     0.84132,     0.84075,     0.84019,     0.83962,     0.83906,     0.83849,     0.83793,     0.83736,     0.83679,     0.83622,     0.83566,     0.83509,     0.83452,     0.83395,\n",
       "            0.83338,     0.83281,     0.83224,     0.83166,     0.83109,     0.83052,     0.82995,     0.82937,      0.8288,     0.82823,     0.82765,     0.82707,      0.8265,     0.82592,     0.82535,     0.82477,     0.82419,     0.82361,     0.82254,     0.82137,     0.82021,     0.81905,     0.81788,\n",
       "            0.81671,     0.81554,     0.81437,      0.8132,     0.81202,     0.81085,     0.80967,     0.80848,      0.8073,     0.80611,     0.80493,     0.80374,     0.80254,     0.80135,     0.80015,     0.80142,     0.80304,     0.80465,     0.80626,     0.80785,     0.80944,     0.81102,     0.81259,\n",
       "            0.81415,     0.81571,     0.81851,      0.8221,     0.82566,     0.82917,     0.83264,     0.83243,     0.83129,     0.83015,     0.82901,     0.82787,     0.82672,     0.82557,     0.82442,     0.82327,     0.82211,     0.82096,      0.8198,     0.81864,     0.81747,     0.81631,     0.81514,\n",
       "            0.81397,     0.81279,     0.81162,     0.81044,     0.80926,     0.80831,     0.80774,     0.80718,     0.80662,     0.80606,      0.8055,     0.80493,     0.80437,     0.80381,     0.80324,     0.80267,     0.80211,     0.80154,     0.80098,     0.80041,     0.79984,     0.79927,      0.7987,\n",
       "            0.79813,     0.79756,     0.79699,     0.79642,     0.79585,     0.79528,      0.7947,     0.79413,     0.79355,     0.79298,      0.7924,     0.79183,     0.79125,     0.79068,      0.7901,     0.78952,     0.78894,     0.78836,     0.78778,      0.7872,     0.78662,     0.78604,     0.78546,\n",
       "            0.78488,     0.78429,     0.78371,     0.78313,     0.78256,     0.78212,     0.78168,     0.78124,      0.7808,     0.78036,     0.77992,     0.77948,     0.77904,      0.7786,     0.77816,     0.77772,     0.77728,     0.77684,     0.77639,     0.77595,     0.77551,     0.77507,     0.77462,\n",
       "            0.77418,     0.77373,     0.77329,     0.77284,      0.7724,     0.77195,     0.77151,     0.77106,     0.77062,     0.77017,     0.76972,     0.76927,     0.76883,     0.76838,     0.76793,     0.76748,     0.76703,     0.76658,     0.76613,     0.76568,     0.76523,     0.76478,     0.76433,\n",
       "            0.76388,     0.76343,     0.76297,     0.76252,     0.76207,     0.76162,     0.76116,     0.76071,     0.76025,      0.7598,     0.75935,     0.75889,     0.75843,     0.75798,     0.75752,     0.75707,     0.75661,     0.75615,      0.7557,     0.75525,      0.7548,     0.75436,     0.75391,\n",
       "            0.75346,     0.75302,     0.75257,     0.75212,     0.75168,     0.75123,     0.75078,     0.75033,     0.74989,     0.74944,     0.74899,     0.74854,     0.74809,     0.74764,     0.74719,     0.74674,     0.74628,     0.74583,     0.74538,     0.74493,     0.74448,     0.74402,     0.74357,\n",
       "            0.74312,     0.74266,     0.74221,     0.74176,      0.7413,     0.74085,     0.74039,     0.73993,     0.73948,     0.73902,     0.73857,     0.73811,     0.73765,     0.73719,     0.73674,     0.73628,     0.73582,     0.73536,      0.7349,     0.73444,     0.73398,     0.73352,     0.73306,\n",
       "             0.7326,     0.73214,     0.73167,     0.73121,     0.73075,     0.73029,     0.72982,     0.72936,      0.7289,     0.72843,     0.72797,      0.7275,     0.72696,     0.72633,      0.7257,     0.72507,     0.72444,     0.72381,     0.72318,     0.72255,     0.72192,     0.72129,     0.72065,\n",
       "            0.72002,     0.71938,     0.71875,     0.71811,     0.71748,     0.71684,      0.7162,     0.71556,     0.71492,     0.71428,     0.71364,       0.713,     0.71236,     0.71172,     0.71108,     0.71043,     0.70979,     0.70914,      0.7085,     0.70785,      0.7072,     0.70656,     0.70591,\n",
       "            0.70526,     0.70461,     0.70396,     0.70331,     0.70266,     0.70201,     0.70135,      0.7007,     0.70005,     0.69939,     0.69874,     0.69808,     0.69718,     0.69588,     0.69457,     0.69326,     0.69195,     0.69064,     0.68932,       0.688,     0.68668,     0.68536,     0.68403,\n",
       "             0.6827,     0.68137,     0.68003,      0.6787,     0.67736,     0.67601,     0.67467,     0.67332,     0.67197,     0.67061,     0.66926,      0.6679,     0.66655,      0.6653,     0.66405,      0.6628,     0.66154,     0.66029,     0.65903,     0.65777,      0.6565,     0.65524,     0.65397,\n",
       "             0.6527,     0.65142,     0.65015,     0.64887,     0.64759,     0.64631,     0.64502,     0.64373,     0.64244,     0.64115,     0.63985,     0.63856,     0.63726,     0.63595,     0.63465,     0.62625,     0.61323,     0.59999,     0.59737,     0.59473,     0.59208,     0.58942,     0.58676,\n",
       "            0.58408,     0.58139,     0.57869,     0.57598,     0.57327,     0.57054,      0.5678,     0.56505,      0.5637,     0.56309,     0.56248,     0.56187,     0.56125,     0.56064,     0.56003,     0.55941,      0.5588,     0.55819,     0.55757,     0.55695,     0.55634,     0.55572,      0.5551,\n",
       "            0.55448,     0.55387,     0.55325,     0.55263,     0.55201,     0.55139,     0.55076,     0.55014,     0.54952,      0.5489,     0.54827,     0.54765,     0.54702,      0.5464,     0.54577,     0.54515,     0.54452,     0.54389,     0.54327,     0.54264,     0.54201,     0.54138,     0.54075,\n",
       "            0.54012,     0.53949,     0.53886,     0.53822,     0.53759,     0.53696,     0.53632,     0.53569,     0.53506,     0.53442,     0.53378,     0.53315,     0.53251,     0.53187,     0.53123,      0.5306,     0.52996,     0.52932,     0.52868,     0.52804,     0.52739,     0.52675,     0.52613,\n",
       "            0.52556,     0.52498,      0.5244,     0.52383,     0.52325,     0.52267,      0.5221,     0.52152,     0.52094,     0.52036,     0.51978,      0.5192,     0.51862,     0.51804,     0.51746,     0.51688,     0.51629,     0.51571,     0.51513,     0.51454,     0.51396,     0.51337,     0.51279,\n",
       "             0.5122,     0.51162,     0.51103,     0.51045,     0.50986,     0.50927,     0.50868,     0.50809,      0.5075,     0.50691,     0.50632,     0.50573,     0.50514,     0.50455,     0.50396,     0.50337,     0.50277,     0.50218,     0.50159,     0.50099,      0.5004,      0.4998,     0.49921,\n",
       "            0.49861,     0.49801,     0.49742,     0.49682,     0.49622,     0.49562,     0.49502,     0.49442,     0.49382,     0.49322,     0.49262,     0.49202,     0.49142,     0.49081,     0.49021,     0.48961,       0.489,      0.4884,     0.48779,     0.48719,     0.48658,     0.48529,     0.48387,\n",
       "            0.48244,     0.48101,     0.47958,     0.47815,     0.47671,     0.47527,     0.47382,     0.47238,     0.47093,     0.46948,     0.46803,     0.46657,     0.46511,     0.46365,     0.46218,     0.46071,     0.45924,     0.45777,     0.45629,     0.45481,     0.45333,     0.45185,     0.45036,\n",
       "            0.44887,     0.44738,     0.44588,     0.44419,     0.43823,     0.43223,     0.42618,     0.42008,     0.41393,     0.40774,      0.4015,     0.39737,     0.39391,     0.39044,     0.38695,     0.38344,     0.37992,     0.37638,     0.37283,     0.36926,     0.36568,     0.36208,     0.35846,\n",
       "            0.35483,     0.34701,     0.33452,     0.32185,     0.30899,     0.28911,     0.26282,     0.24856,      0.2458,     0.24303,     0.24025,     0.23746,     0.23466,     0.23185,     0.22904,     0.22621,     0.22338,     0.22054,     0.21769,     0.21483,     0.21196,     0.20908,     0.20619,\n",
       "            0.20329,     0.20038,     0.19747,     0.19454,     0.18957,     0.18353,     0.17744,     0.17131,     0.16514,     0.15893,     0.15268,     0.14638,     0.14004,     0.13366,     0.12151,      0.1089,    0.096117,    0.083159,    0.070024,           0,           0,           0,           0,\n",
       "                  0,           0,           0,           0,           0,           0,           0,           0,           0,           0,           0,           0,           0,           0,           0,           0,           0,           0,           0,           0,           0,           0,           0,\n",
       "                  0,           0,           0,           0,           0,           0,           0,           0,           0,           0,           0]]), 'Confidence', 'F1'], [array([          0,    0.001001,    0.002002,    0.003003,    0.004004,    0.005005,    0.006006,    0.007007,    0.008008,    0.009009,     0.01001,    0.011011,    0.012012,    0.013013,    0.014014,    0.015015,    0.016016,    0.017017,    0.018018,    0.019019,     0.02002,    0.021021,    0.022022,    0.023023,\n",
       "          0.024024,    0.025025,    0.026026,    0.027027,    0.028028,    0.029029,     0.03003,    0.031031,    0.032032,    0.033033,    0.034034,    0.035035,    0.036036,    0.037037,    0.038038,    0.039039,     0.04004,    0.041041,    0.042042,    0.043043,    0.044044,    0.045045,    0.046046,    0.047047,\n",
       "          0.048048,    0.049049,     0.05005,    0.051051,    0.052052,    0.053053,    0.054054,    0.055055,    0.056056,    0.057057,    0.058058,    0.059059,     0.06006,    0.061061,    0.062062,    0.063063,    0.064064,    0.065065,    0.066066,    0.067067,    0.068068,    0.069069,     0.07007,    0.071071,\n",
       "          0.072072,    0.073073,    0.074074,    0.075075,    0.076076,    0.077077,    0.078078,    0.079079,     0.08008,    0.081081,    0.082082,    0.083083,    0.084084,    0.085085,    0.086086,    0.087087,    0.088088,    0.089089,     0.09009,    0.091091,    0.092092,    0.093093,    0.094094,    0.095095,\n",
       "          0.096096,    0.097097,    0.098098,    0.099099,      0.1001,      0.1011,      0.1021,      0.1031,      0.1041,     0.10511,     0.10611,     0.10711,     0.10811,     0.10911,     0.11011,     0.11111,     0.11211,     0.11311,     0.11411,     0.11512,     0.11612,     0.11712,     0.11812,     0.11912,\n",
       "           0.12012,     0.12112,     0.12212,     0.12312,     0.12412,     0.12513,     0.12613,     0.12713,     0.12813,     0.12913,     0.13013,     0.13113,     0.13213,     0.13313,     0.13413,     0.13514,     0.13614,     0.13714,     0.13814,     0.13914,     0.14014,     0.14114,     0.14214,     0.14314,\n",
       "           0.14414,     0.14515,     0.14615,     0.14715,     0.14815,     0.14915,     0.15015,     0.15115,     0.15215,     0.15315,     0.15415,     0.15516,     0.15616,     0.15716,     0.15816,     0.15916,     0.16016,     0.16116,     0.16216,     0.16316,     0.16416,     0.16517,     0.16617,     0.16717,\n",
       "           0.16817,     0.16917,     0.17017,     0.17117,     0.17217,     0.17317,     0.17417,     0.17518,     0.17618,     0.17718,     0.17818,     0.17918,     0.18018,     0.18118,     0.18218,     0.18318,     0.18418,     0.18519,     0.18619,     0.18719,     0.18819,     0.18919,     0.19019,     0.19119,\n",
       "           0.19219,     0.19319,     0.19419,      0.1952,      0.1962,      0.1972,      0.1982,      0.1992,      0.2002,      0.2012,      0.2022,      0.2032,      0.2042,     0.20521,     0.20621,     0.20721,     0.20821,     0.20921,     0.21021,     0.21121,     0.21221,     0.21321,     0.21421,     0.21522,\n",
       "           0.21622,     0.21722,     0.21822,     0.21922,     0.22022,     0.22122,     0.22222,     0.22322,     0.22422,     0.22523,     0.22623,     0.22723,     0.22823,     0.22923,     0.23023,     0.23123,     0.23223,     0.23323,     0.23423,     0.23524,     0.23624,     0.23724,     0.23824,     0.23924,\n",
       "           0.24024,     0.24124,     0.24224,     0.24324,     0.24424,     0.24525,     0.24625,     0.24725,     0.24825,     0.24925,     0.25025,     0.25125,     0.25225,     0.25325,     0.25425,     0.25526,     0.25626,     0.25726,     0.25826,     0.25926,     0.26026,     0.26126,     0.26226,     0.26326,\n",
       "           0.26426,     0.26527,     0.26627,     0.26727,     0.26827,     0.26927,     0.27027,     0.27127,     0.27227,     0.27327,     0.27427,     0.27528,     0.27628,     0.27728,     0.27828,     0.27928,     0.28028,     0.28128,     0.28228,     0.28328,     0.28428,     0.28529,     0.28629,     0.28729,\n",
       "           0.28829,     0.28929,     0.29029,     0.29129,     0.29229,     0.29329,     0.29429,      0.2953,      0.2963,      0.2973,      0.2983,      0.2993,      0.3003,      0.3013,      0.3023,      0.3033,      0.3043,     0.30531,     0.30631,     0.30731,     0.30831,     0.30931,     0.31031,     0.31131,\n",
       "           0.31231,     0.31331,     0.31431,     0.31532,     0.31632,     0.31732,     0.31832,     0.31932,     0.32032,     0.32132,     0.32232,     0.32332,     0.32432,     0.32533,     0.32633,     0.32733,     0.32833,     0.32933,     0.33033,     0.33133,     0.33233,     0.33333,     0.33433,     0.33534,\n",
       "           0.33634,     0.33734,     0.33834,     0.33934,     0.34034,     0.34134,     0.34234,     0.34334,     0.34434,     0.34535,     0.34635,     0.34735,     0.34835,     0.34935,     0.35035,     0.35135,     0.35235,     0.35335,     0.35435,     0.35536,     0.35636,     0.35736,     0.35836,     0.35936,\n",
       "           0.36036,     0.36136,     0.36236,     0.36336,     0.36436,     0.36537,     0.36637,     0.36737,     0.36837,     0.36937,     0.37037,     0.37137,     0.37237,     0.37337,     0.37437,     0.37538,     0.37638,     0.37738,     0.37838,     0.37938,     0.38038,     0.38138,     0.38238,     0.38338,\n",
       "           0.38438,     0.38539,     0.38639,     0.38739,     0.38839,     0.38939,     0.39039,     0.39139,     0.39239,     0.39339,     0.39439,      0.3954,      0.3964,      0.3974,      0.3984,      0.3994,      0.4004,      0.4014,      0.4024,      0.4034,      0.4044,     0.40541,     0.40641,     0.40741,\n",
       "           0.40841,     0.40941,     0.41041,     0.41141,     0.41241,     0.41341,     0.41441,     0.41542,     0.41642,     0.41742,     0.41842,     0.41942,     0.42042,     0.42142,     0.42242,     0.42342,     0.42442,     0.42543,     0.42643,     0.42743,     0.42843,     0.42943,     0.43043,     0.43143,\n",
       "           0.43243,     0.43343,     0.43443,     0.43544,     0.43644,     0.43744,     0.43844,     0.43944,     0.44044,     0.44144,     0.44244,     0.44344,     0.44444,     0.44545,     0.44645,     0.44745,     0.44845,     0.44945,     0.45045,     0.45145,     0.45245,     0.45345,     0.45445,     0.45546,\n",
       "           0.45646,     0.45746,     0.45846,     0.45946,     0.46046,     0.46146,     0.46246,     0.46346,     0.46446,     0.46547,     0.46647,     0.46747,     0.46847,     0.46947,     0.47047,     0.47147,     0.47247,     0.47347,     0.47447,     0.47548,     0.47648,     0.47748,     0.47848,     0.47948,\n",
       "           0.48048,     0.48148,     0.48248,     0.48348,     0.48448,     0.48549,     0.48649,     0.48749,     0.48849,     0.48949,     0.49049,     0.49149,     0.49249,     0.49349,     0.49449,      0.4955,      0.4965,      0.4975,      0.4985,      0.4995,      0.5005,      0.5015,      0.5025,      0.5035,\n",
       "            0.5045,     0.50551,     0.50651,     0.50751,     0.50851,     0.50951,     0.51051,     0.51151,     0.51251,     0.51351,     0.51451,     0.51552,     0.51652,     0.51752,     0.51852,     0.51952,     0.52052,     0.52152,     0.52252,     0.52352,     0.52452,     0.52553,     0.52653,     0.52753,\n",
       "           0.52853,     0.52953,     0.53053,     0.53153,     0.53253,     0.53353,     0.53453,     0.53554,     0.53654,     0.53754,     0.53854,     0.53954,     0.54054,     0.54154,     0.54254,     0.54354,     0.54454,     0.54555,     0.54655,     0.54755,     0.54855,     0.54955,     0.55055,     0.55155,\n",
       "           0.55255,     0.55355,     0.55455,     0.55556,     0.55656,     0.55756,     0.55856,     0.55956,     0.56056,     0.56156,     0.56256,     0.56356,     0.56456,     0.56557,     0.56657,     0.56757,     0.56857,     0.56957,     0.57057,     0.57157,     0.57257,     0.57357,     0.57457,     0.57558,\n",
       "           0.57658,     0.57758,     0.57858,     0.57958,     0.58058,     0.58158,     0.58258,     0.58358,     0.58458,     0.58559,     0.58659,     0.58759,     0.58859,     0.58959,     0.59059,     0.59159,     0.59259,     0.59359,     0.59459,      0.5956,      0.5966,      0.5976,      0.5986,      0.5996,\n",
       "            0.6006,      0.6016,      0.6026,      0.6036,      0.6046,     0.60561,     0.60661,     0.60761,     0.60861,     0.60961,     0.61061,     0.61161,     0.61261,     0.61361,     0.61461,     0.61562,     0.61662,     0.61762,     0.61862,     0.61962,     0.62062,     0.62162,     0.62262,     0.62362,\n",
       "           0.62462,     0.62563,     0.62663,     0.62763,     0.62863,     0.62963,     0.63063,     0.63163,     0.63263,     0.63363,     0.63463,     0.63564,     0.63664,     0.63764,     0.63864,     0.63964,     0.64064,     0.64164,     0.64264,     0.64364,     0.64464,     0.64565,     0.64665,     0.64765,\n",
       "           0.64865,     0.64965,     0.65065,     0.65165,     0.65265,     0.65365,     0.65465,     0.65566,     0.65666,     0.65766,     0.65866,     0.65966,     0.66066,     0.66166,     0.66266,     0.66366,     0.66466,     0.66567,     0.66667,     0.66767,     0.66867,     0.66967,     0.67067,     0.67167,\n",
       "           0.67267,     0.67367,     0.67467,     0.67568,     0.67668,     0.67768,     0.67868,     0.67968,     0.68068,     0.68168,     0.68268,     0.68368,     0.68468,     0.68569,     0.68669,     0.68769,     0.68869,     0.68969,     0.69069,     0.69169,     0.69269,     0.69369,     0.69469,      0.6957,\n",
       "            0.6967,      0.6977,      0.6987,      0.6997,      0.7007,      0.7017,      0.7027,      0.7037,      0.7047,     0.70571,     0.70671,     0.70771,     0.70871,     0.70971,     0.71071,     0.71171,     0.71271,     0.71371,     0.71471,     0.71572,     0.71672,     0.71772,     0.71872,     0.71972,\n",
       "           0.72072,     0.72172,     0.72272,     0.72372,     0.72472,     0.72573,     0.72673,     0.72773,     0.72873,     0.72973,     0.73073,     0.73173,     0.73273,     0.73373,     0.73473,     0.73574,     0.73674,     0.73774,     0.73874,     0.73974,     0.74074,     0.74174,     0.74274,     0.74374,\n",
       "           0.74474,     0.74575,     0.74675,     0.74775,     0.74875,     0.74975,     0.75075,     0.75175,     0.75275,     0.75375,     0.75475,     0.75576,     0.75676,     0.75776,     0.75876,     0.75976,     0.76076,     0.76176,     0.76276,     0.76376,     0.76476,     0.76577,     0.76677,     0.76777,\n",
       "           0.76877,     0.76977,     0.77077,     0.77177,     0.77277,     0.77377,     0.77477,     0.77578,     0.77678,     0.77778,     0.77878,     0.77978,     0.78078,     0.78178,     0.78278,     0.78378,     0.78478,     0.78579,     0.78679,     0.78779,     0.78879,     0.78979,     0.79079,     0.79179,\n",
       "           0.79279,     0.79379,     0.79479,      0.7958,      0.7968,      0.7978,      0.7988,      0.7998,      0.8008,      0.8018,      0.8028,      0.8038,      0.8048,     0.80581,     0.80681,     0.80781,     0.80881,     0.80981,     0.81081,     0.81181,     0.81281,     0.81381,     0.81481,     0.81582,\n",
       "           0.81682,     0.81782,     0.81882,     0.81982,     0.82082,     0.82182,     0.82282,     0.82382,     0.82482,     0.82583,     0.82683,     0.82783,     0.82883,     0.82983,     0.83083,     0.83183,     0.83283,     0.83383,     0.83483,     0.83584,     0.83684,     0.83784,     0.83884,     0.83984,\n",
       "           0.84084,     0.84184,     0.84284,     0.84384,     0.84484,     0.84585,     0.84685,     0.84785,     0.84885,     0.84985,     0.85085,     0.85185,     0.85285,     0.85385,     0.85485,     0.85586,     0.85686,     0.85786,     0.85886,     0.85986,     0.86086,     0.86186,     0.86286,     0.86386,\n",
       "           0.86486,     0.86587,     0.86687,     0.86787,     0.86887,     0.86987,     0.87087,     0.87187,     0.87287,     0.87387,     0.87487,     0.87588,     0.87688,     0.87788,     0.87888,     0.87988,     0.88088,     0.88188,     0.88288,     0.88388,     0.88488,     0.88589,     0.88689,     0.88789,\n",
       "           0.88889,     0.88989,     0.89089,     0.89189,     0.89289,     0.89389,     0.89489,      0.8959,      0.8969,      0.8979,      0.8989,      0.8999,      0.9009,      0.9019,      0.9029,      0.9039,      0.9049,     0.90591,     0.90691,     0.90791,     0.90891,     0.90991,     0.91091,     0.91191,\n",
       "           0.91291,     0.91391,     0.91491,     0.91592,     0.91692,     0.91792,     0.91892,     0.91992,     0.92092,     0.92192,     0.92292,     0.92392,     0.92492,     0.92593,     0.92693,     0.92793,     0.92893,     0.92993,     0.93093,     0.93193,     0.93293,     0.93393,     0.93493,     0.93594,\n",
       "           0.93694,     0.93794,     0.93894,     0.93994,     0.94094,     0.94194,     0.94294,     0.94394,     0.94494,     0.94595,     0.94695,     0.94795,     0.94895,     0.94995,     0.95095,     0.95195,     0.95295,     0.95395,     0.95495,     0.95596,     0.95696,     0.95796,     0.95896,     0.95996,\n",
       "           0.96096,     0.96196,     0.96296,     0.96396,     0.96496,     0.96597,     0.96697,     0.96797,     0.96897,     0.96997,     0.97097,     0.97197,     0.97297,     0.97397,     0.97497,     0.97598,     0.97698,     0.97798,     0.97898,     0.97998,     0.98098,     0.98198,     0.98298,     0.98398,\n",
       "           0.98498,     0.98599,     0.98699,     0.98799,     0.98899,     0.98999,     0.99099,     0.99199,     0.99299,     0.99399,     0.99499,       0.996,       0.997,       0.998,       0.999,           1]), array([[  0.0033333,   0.0033333,   0.0033333,   0.0033333,   0.0033442,   0.0054864,    0.012662,    0.032074,    0.065801,     0.11178,      0.1568,     0.17989,     0.21605,     0.24521,     0.26943,     0.28812,     0.30231,     0.32223,     0.33118,     0.33831,     0.34086,      0.3456,     0.36032,\n",
       "            0.36454,     0.37312,      0.3776,     0.38905,      0.3957,     0.40993,     0.41347,     0.41858,     0.42476,     0.43302,     0.44138,     0.45122,     0.45283,     0.45444,     0.45605,      0.4579,     0.46614,     0.46771,     0.46928,     0.47085,     0.47242,     0.48382,     0.49172,\n",
       "            0.49452,     0.49732,     0.50026,      0.5062,     0.51038,     0.51247,     0.51455,     0.51664,     0.51872,     0.52408,     0.54007,     0.54631,     0.55247,     0.55833,     0.56471,     0.57241,     0.57571,      0.5774,      0.5791,     0.58079,     0.58249,     0.58419,     0.58588,\n",
       "             0.5887,     0.59346,     0.59822,     0.60267,     0.60692,     0.61118,     0.61451,     0.61656,     0.61862,     0.62068,     0.62274,     0.62479,     0.62685,     0.62897,     0.63116,     0.63335,     0.63554,     0.63773,     0.63992,     0.64211,     0.64393,     0.64555,     0.64718,\n",
       "            0.64881,     0.65044,     0.65206,     0.65369,     0.65532,     0.65695,     0.65856,     0.65947,     0.66039,      0.6613,     0.66221,     0.66313,     0.66404,     0.66495,     0.66587,     0.66678,     0.66769,     0.66861,     0.66952,     0.67043,     0.67135,     0.67226,     0.67317,\n",
       "            0.67409,     0.67502,     0.68562,     0.69302,     0.69494,     0.69687,      0.6988,     0.70072,     0.70265,     0.70457,      0.7065,     0.70843,     0.71035,     0.70716,     0.70345,     0.72342,     0.74359,     0.74478,     0.74596,     0.74715,     0.74834,     0.74952,     0.75071,\n",
       "            0.75189,     0.75308,     0.75427,     0.75545,     0.75664,     0.75782,     0.75901,      0.7602,     0.76138,     0.76257,     0.76375,      0.7653,     0.76834,     0.77137,     0.77441,     0.77744,     0.78048,     0.78352,     0.78655,     0.78819,     0.78873,     0.78928,     0.78983,\n",
       "            0.79037,     0.79092,     0.79146,     0.79201,     0.79256,      0.7931,     0.79365,      0.7942,     0.79474,     0.79529,     0.79584,     0.79638,     0.79693,     0.79748,     0.79802,     0.79857,     0.79911,     0.79966,     0.80021,     0.80075,      0.8013,     0.80185,     0.80239,\n",
       "            0.80294,     0.80349,     0.80403,     0.80458,     0.80513,     0.80567,     0.80622,     0.80676,     0.80731,     0.80786,      0.8084,     0.80895,      0.8095,     0.81004,     0.81059,     0.81114,     0.81168,     0.81223,     0.80849,     0.80721,     0.80824,     0.80926,     0.81028,\n",
       "            0.81131,     0.81233,     0.81336,     0.81438,      0.8154,     0.81643,     0.81745,     0.81848,      0.8195,     0.82052,     0.82155,     0.82257,      0.8236,     0.82462,     0.82565,     0.82667,     0.82769,     0.82872,     0.82974,     0.83077,     0.83179,     0.83281,     0.83408,\n",
       "             0.8356,     0.83711,     0.83863,     0.84014,     0.84166,     0.84318,     0.84469,     0.84621,     0.84773,     0.84924,     0.85076,     0.85228,     0.85379,     0.85531,     0.85682,     0.85834,     0.85986,     0.86137,       0.862,     0.86189,     0.86177,     0.86165,     0.86153,\n",
       "            0.86141,     0.86129,     0.86118,     0.86106,     0.86094,     0.86082,      0.8607,     0.86058,     0.86047,     0.86035,     0.86023,     0.86011,     0.85999,     0.85987,     0.85975,     0.85964,     0.85952,      0.8594,     0.85928,     0.85916,     0.85904,     0.85893,     0.85881,\n",
       "            0.85869,     0.85857,     0.85845,     0.85833,     0.85822,      0.8581,     0.85798,     0.85786,     0.85774,     0.85762,      0.8575,     0.85739,     0.85727,     0.85715,     0.86531,     0.87395,     0.88259,     0.88884,     0.88866,     0.88849,     0.88831,     0.88813,     0.88796,\n",
       "            0.88778,      0.8876,     0.88743,     0.88725,     0.88707,      0.8869,     0.88672,     0.88654,     0.88637,     0.88619,     0.88601,     0.88583,     0.88566,     0.88548,      0.8853,     0.88513,     0.88495,     0.88477,     0.88471,     0.88564,     0.88656,     0.88749,     0.88841,\n",
       "            0.88934,     0.89026,     0.89119,     0.89211,     0.89304,     0.89396,     0.89489,     0.89582,     0.89674,     0.89767,     0.89859,     0.89952,     0.90044,     0.90137,     0.90229,     0.90322,     0.90414,     0.90507,     0.90599,     0.90692,     0.90784,     0.90877,     0.90969,\n",
       "            0.91062,     0.91154,     0.91247,     0.91339,     0.91432,     0.91524,     0.91617,     0.91709,     0.91802,     0.91894,     0.91987,     0.91978,     0.91953,     0.91928,     0.91903,     0.91878,     0.91853,     0.91827,     0.91802,     0.91777,     0.91752,     0.91727,     0.91702,\n",
       "            0.91677,     0.91661,     0.91652,     0.91643,     0.91634,     0.91625,     0.91616,     0.91606,     0.91597,     0.91588,     0.91579,      0.9157,     0.91561,     0.91552,     0.91543,     0.91534,     0.91524,     0.91515,     0.91506,     0.91497,     0.91488,     0.91479,      0.9147,\n",
       "            0.91461,     0.91451,     0.91442,     0.91433,     0.91424,     0.91415,     0.91406,     0.91397,     0.91388,     0.91379,     0.91369,      0.9136,     0.91351,     0.91342,     0.91333,     0.91324,     0.91315,     0.91306,     0.91287,     0.91268,     0.91248,     0.91228,     0.91208,\n",
       "            0.91188,     0.91169,     0.91149,     0.91129,     0.91109,      0.9109,      0.9107,      0.9105,      0.9103,     0.91011,     0.90991,     0.90971,     0.90951,     0.90931,     0.90912,     0.91276,     0.91698,     0.92119,     0.92541,     0.92962,     0.93384,     0.93806,     0.94227,\n",
       "            0.94649,      0.9507,     0.95835,     0.96826,     0.97817,     0.98809,       0.998,           1,           1,           1,           1,           1,           1,           1,           1,           1,           1,           1,           1,           1,           1,           1,           1,\n",
       "                  1,           1,           1,           1,           1,           1,           1,           1,           1,           1,           1,           1,           1,           1,           1,           1,           1,           1,           1,           1,           1,           1,           1,\n",
       "                  1,           1,           1,           1,           1,           1,           1,           1,           1,           1,           1,           1,           1,           1,           1,           1,           1,           1,           1,           1,           1,           1,           1,\n",
       "                  1,           1,           1,           1,           1,           1,           1,           1,           1,           1,           1,           1,           1,           1,           1,           1,           1,           1,           1,           1,           1,           1,           1,\n",
       "                  1,           1,           1,           1,           1,           1,           1,           1,           1,           1,           1,           1,           1,           1,           1,           1,           1,           1,           1,           1,           1,           1,           1,\n",
       "                  1,           1,           1,           1,           1,           1,           1,           1,           1,           1,           1,           1,           1,           1,           1,           1,           1,           1,           1,           1,           1,           1,           1,\n",
       "                  1,           1,           1,           1,           1,           1,           1,           1,           1,           1,           1,           1,           1,           1,           1,           1,           1,           1,           1,           1,           1,           1,           1,\n",
       "                  1,           1,           1,           1,           1,           1,           1,           1,           1,           1,           1,           1,           1,           1,           1,           1,           1,           1,           1,           1,           1,           1,           1,\n",
       "                  1,           1,           1,           1,           1,           1,           1,           1,           1,           1,           1,           1,           1,           1,           1,           1,           1,           1,           1,           1,           1,           1,           1,\n",
       "                  1,           1,           1,           1,           1,           1,           1,           1,           1,           1,           1,           1,           1,           1,           1,           1,           1,           1,           1,           1,           1,           1,           1,\n",
       "                  1,           1,           1,           1,           1,           1,           1,           1,           1,           1,           1,           1,           1,           1,           1,           1,           1,           1,           1,           1,           1,           1,           1,\n",
       "                  1,           1,           1,           1,           1,           1,           1,           1,           1,           1,           1,           1,           1,           1,           1,           1,           1,           1,           1,           1,           1,           1,           1,\n",
       "                  1,           1,           1,           1,           1,           1,           1,           1,           1,           1,           1,           1,           1,           1,           1,           1,           1,           1,           1,           1,           1,           1,           1,\n",
       "                  1,           1,           1,           1,           1,           1,           1,           1,           1,           1,           1,           1,           1,           1,           1,           1,           1,           1,           1,           1,           1,           1,           1,\n",
       "                  1,           1,           1,           1,           1,           1,           1,           1,           1,           1,           1,           1,           1,           1,           1,           1,           1,           1,           1,           1,           1,           1,           1,\n",
       "                  1,           1,           1,           1,           1,           1,           1,           1,           1,           1,           1,           1,           1,           1,           1,           1,           1,           1,           1,           1,           1,           1,           1,\n",
       "                  1,           1,           1,           1,           1,           1,           1,           1,           1,           1,           1,           1,           1,           1,           1,           1,           1,           1,           1,           1,           1,           1,           1,\n",
       "                  1,           1,           1,           1,           1,           1,           1,           1,           1,           1,           1,           1,           1,           1,           1,           1,           1,           1,           1,           1,           1,           1,           1,\n",
       "                  1,           1,           1,           1,           1,           1,           1,           1,           1,           1,           1,           1,           1,           1,           1,           1,           1,           1,           1,           1,           1,           1,           1,\n",
       "                  1,           1,           1,           1,           1,           1,           1,           1,           1,           1,           1,           1,           1,           1,           1,           1,           1,           1,           1,           1,           1,           1,           1,\n",
       "                  1,           1,           1,           1,           1,           1,           1,           1,           1,           1,           1,           1,           1,           1,           1,           1,           1,           1,           1,           1,           1,           1,           1,\n",
       "                  1,           1,           1,           1,           1,           1,           1,           1,           1,           1,           1,           1,           1,           1,           1,           1,           1,           1,           1,           1,           1,           1,           1,\n",
       "                  1,           1,           1,           1,           1,           1,           1,           1,           1,           1,           1,           1,           1,           1,           1,           1,           1,           1,           1,           1,           1,           1,           1,\n",
       "                  1,           1,           1,           1,           1,           1,           1,           1,           1,           1,           1,           1,           1,           1,           1,           1,           1,           1,           1,           1,           1,           1,           1,\n",
       "                  1,           1,           1,           1,           1,           1,           1,           1,           1,           1,           1]]), 'Confidence', 'Precision'], [array([          0,    0.001001,    0.002002,    0.003003,    0.004004,    0.005005,    0.006006,    0.007007,    0.008008,    0.009009,     0.01001,    0.011011,    0.012012,    0.013013,    0.014014,    0.015015,    0.016016,    0.017017,    0.018018,    0.019019,     0.02002,    0.021021,    0.022022,    0.023023,\n",
       "          0.024024,    0.025025,    0.026026,    0.027027,    0.028028,    0.029029,     0.03003,    0.031031,    0.032032,    0.033033,    0.034034,    0.035035,    0.036036,    0.037037,    0.038038,    0.039039,     0.04004,    0.041041,    0.042042,    0.043043,    0.044044,    0.045045,    0.046046,    0.047047,\n",
       "          0.048048,    0.049049,     0.05005,    0.051051,    0.052052,    0.053053,    0.054054,    0.055055,    0.056056,    0.057057,    0.058058,    0.059059,     0.06006,    0.061061,    0.062062,    0.063063,    0.064064,    0.065065,    0.066066,    0.067067,    0.068068,    0.069069,     0.07007,    0.071071,\n",
       "          0.072072,    0.073073,    0.074074,    0.075075,    0.076076,    0.077077,    0.078078,    0.079079,     0.08008,    0.081081,    0.082082,    0.083083,    0.084084,    0.085085,    0.086086,    0.087087,    0.088088,    0.089089,     0.09009,    0.091091,    0.092092,    0.093093,    0.094094,    0.095095,\n",
       "          0.096096,    0.097097,    0.098098,    0.099099,      0.1001,      0.1011,      0.1021,      0.1031,      0.1041,     0.10511,     0.10611,     0.10711,     0.10811,     0.10911,     0.11011,     0.11111,     0.11211,     0.11311,     0.11411,     0.11512,     0.11612,     0.11712,     0.11812,     0.11912,\n",
       "           0.12012,     0.12112,     0.12212,     0.12312,     0.12412,     0.12513,     0.12613,     0.12713,     0.12813,     0.12913,     0.13013,     0.13113,     0.13213,     0.13313,     0.13413,     0.13514,     0.13614,     0.13714,     0.13814,     0.13914,     0.14014,     0.14114,     0.14214,     0.14314,\n",
       "           0.14414,     0.14515,     0.14615,     0.14715,     0.14815,     0.14915,     0.15015,     0.15115,     0.15215,     0.15315,     0.15415,     0.15516,     0.15616,     0.15716,     0.15816,     0.15916,     0.16016,     0.16116,     0.16216,     0.16316,     0.16416,     0.16517,     0.16617,     0.16717,\n",
       "           0.16817,     0.16917,     0.17017,     0.17117,     0.17217,     0.17317,     0.17417,     0.17518,     0.17618,     0.17718,     0.17818,     0.17918,     0.18018,     0.18118,     0.18218,     0.18318,     0.18418,     0.18519,     0.18619,     0.18719,     0.18819,     0.18919,     0.19019,     0.19119,\n",
       "           0.19219,     0.19319,     0.19419,      0.1952,      0.1962,      0.1972,      0.1982,      0.1992,      0.2002,      0.2012,      0.2022,      0.2032,      0.2042,     0.20521,     0.20621,     0.20721,     0.20821,     0.20921,     0.21021,     0.21121,     0.21221,     0.21321,     0.21421,     0.21522,\n",
       "           0.21622,     0.21722,     0.21822,     0.21922,     0.22022,     0.22122,     0.22222,     0.22322,     0.22422,     0.22523,     0.22623,     0.22723,     0.22823,     0.22923,     0.23023,     0.23123,     0.23223,     0.23323,     0.23423,     0.23524,     0.23624,     0.23724,     0.23824,     0.23924,\n",
       "           0.24024,     0.24124,     0.24224,     0.24324,     0.24424,     0.24525,     0.24625,     0.24725,     0.24825,     0.24925,     0.25025,     0.25125,     0.25225,     0.25325,     0.25425,     0.25526,     0.25626,     0.25726,     0.25826,     0.25926,     0.26026,     0.26126,     0.26226,     0.26326,\n",
       "           0.26426,     0.26527,     0.26627,     0.26727,     0.26827,     0.26927,     0.27027,     0.27127,     0.27227,     0.27327,     0.27427,     0.27528,     0.27628,     0.27728,     0.27828,     0.27928,     0.28028,     0.28128,     0.28228,     0.28328,     0.28428,     0.28529,     0.28629,     0.28729,\n",
       "           0.28829,     0.28929,     0.29029,     0.29129,     0.29229,     0.29329,     0.29429,      0.2953,      0.2963,      0.2973,      0.2983,      0.2993,      0.3003,      0.3013,      0.3023,      0.3033,      0.3043,     0.30531,     0.30631,     0.30731,     0.30831,     0.30931,     0.31031,     0.31131,\n",
       "           0.31231,     0.31331,     0.31431,     0.31532,     0.31632,     0.31732,     0.31832,     0.31932,     0.32032,     0.32132,     0.32232,     0.32332,     0.32432,     0.32533,     0.32633,     0.32733,     0.32833,     0.32933,     0.33033,     0.33133,     0.33233,     0.33333,     0.33433,     0.33534,\n",
       "           0.33634,     0.33734,     0.33834,     0.33934,     0.34034,     0.34134,     0.34234,     0.34334,     0.34434,     0.34535,     0.34635,     0.34735,     0.34835,     0.34935,     0.35035,     0.35135,     0.35235,     0.35335,     0.35435,     0.35536,     0.35636,     0.35736,     0.35836,     0.35936,\n",
       "           0.36036,     0.36136,     0.36236,     0.36336,     0.36436,     0.36537,     0.36637,     0.36737,     0.36837,     0.36937,     0.37037,     0.37137,     0.37237,     0.37337,     0.37437,     0.37538,     0.37638,     0.37738,     0.37838,     0.37938,     0.38038,     0.38138,     0.38238,     0.38338,\n",
       "           0.38438,     0.38539,     0.38639,     0.38739,     0.38839,     0.38939,     0.39039,     0.39139,     0.39239,     0.39339,     0.39439,      0.3954,      0.3964,      0.3974,      0.3984,      0.3994,      0.4004,      0.4014,      0.4024,      0.4034,      0.4044,     0.40541,     0.40641,     0.40741,\n",
       "           0.40841,     0.40941,     0.41041,     0.41141,     0.41241,     0.41341,     0.41441,     0.41542,     0.41642,     0.41742,     0.41842,     0.41942,     0.42042,     0.42142,     0.42242,     0.42342,     0.42442,     0.42543,     0.42643,     0.42743,     0.42843,     0.42943,     0.43043,     0.43143,\n",
       "           0.43243,     0.43343,     0.43443,     0.43544,     0.43644,     0.43744,     0.43844,     0.43944,     0.44044,     0.44144,     0.44244,     0.44344,     0.44444,     0.44545,     0.44645,     0.44745,     0.44845,     0.44945,     0.45045,     0.45145,     0.45245,     0.45345,     0.45445,     0.45546,\n",
       "           0.45646,     0.45746,     0.45846,     0.45946,     0.46046,     0.46146,     0.46246,     0.46346,     0.46446,     0.46547,     0.46647,     0.46747,     0.46847,     0.46947,     0.47047,     0.47147,     0.47247,     0.47347,     0.47447,     0.47548,     0.47648,     0.47748,     0.47848,     0.47948,\n",
       "           0.48048,     0.48148,     0.48248,     0.48348,     0.48448,     0.48549,     0.48649,     0.48749,     0.48849,     0.48949,     0.49049,     0.49149,     0.49249,     0.49349,     0.49449,      0.4955,      0.4965,      0.4975,      0.4985,      0.4995,      0.5005,      0.5015,      0.5025,      0.5035,\n",
       "            0.5045,     0.50551,     0.50651,     0.50751,     0.50851,     0.50951,     0.51051,     0.51151,     0.51251,     0.51351,     0.51451,     0.51552,     0.51652,     0.51752,     0.51852,     0.51952,     0.52052,     0.52152,     0.52252,     0.52352,     0.52452,     0.52553,     0.52653,     0.52753,\n",
       "           0.52853,     0.52953,     0.53053,     0.53153,     0.53253,     0.53353,     0.53453,     0.53554,     0.53654,     0.53754,     0.53854,     0.53954,     0.54054,     0.54154,     0.54254,     0.54354,     0.54454,     0.54555,     0.54655,     0.54755,     0.54855,     0.54955,     0.55055,     0.55155,\n",
       "           0.55255,     0.55355,     0.55455,     0.55556,     0.55656,     0.55756,     0.55856,     0.55956,     0.56056,     0.56156,     0.56256,     0.56356,     0.56456,     0.56557,     0.56657,     0.56757,     0.56857,     0.56957,     0.57057,     0.57157,     0.57257,     0.57357,     0.57457,     0.57558,\n",
       "           0.57658,     0.57758,     0.57858,     0.57958,     0.58058,     0.58158,     0.58258,     0.58358,     0.58458,     0.58559,     0.58659,     0.58759,     0.58859,     0.58959,     0.59059,     0.59159,     0.59259,     0.59359,     0.59459,      0.5956,      0.5966,      0.5976,      0.5986,      0.5996,\n",
       "            0.6006,      0.6016,      0.6026,      0.6036,      0.6046,     0.60561,     0.60661,     0.60761,     0.60861,     0.60961,     0.61061,     0.61161,     0.61261,     0.61361,     0.61461,     0.61562,     0.61662,     0.61762,     0.61862,     0.61962,     0.62062,     0.62162,     0.62262,     0.62362,\n",
       "           0.62462,     0.62563,     0.62663,     0.62763,     0.62863,     0.62963,     0.63063,     0.63163,     0.63263,     0.63363,     0.63463,     0.63564,     0.63664,     0.63764,     0.63864,     0.63964,     0.64064,     0.64164,     0.64264,     0.64364,     0.64464,     0.64565,     0.64665,     0.64765,\n",
       "           0.64865,     0.64965,     0.65065,     0.65165,     0.65265,     0.65365,     0.65465,     0.65566,     0.65666,     0.65766,     0.65866,     0.65966,     0.66066,     0.66166,     0.66266,     0.66366,     0.66466,     0.66567,     0.66667,     0.66767,     0.66867,     0.66967,     0.67067,     0.67167,\n",
       "           0.67267,     0.67367,     0.67467,     0.67568,     0.67668,     0.67768,     0.67868,     0.67968,     0.68068,     0.68168,     0.68268,     0.68368,     0.68468,     0.68569,     0.68669,     0.68769,     0.68869,     0.68969,     0.69069,     0.69169,     0.69269,     0.69369,     0.69469,      0.6957,\n",
       "            0.6967,      0.6977,      0.6987,      0.6997,      0.7007,      0.7017,      0.7027,      0.7037,      0.7047,     0.70571,     0.70671,     0.70771,     0.70871,     0.70971,     0.71071,     0.71171,     0.71271,     0.71371,     0.71471,     0.71572,     0.71672,     0.71772,     0.71872,     0.71972,\n",
       "           0.72072,     0.72172,     0.72272,     0.72372,     0.72472,     0.72573,     0.72673,     0.72773,     0.72873,     0.72973,     0.73073,     0.73173,     0.73273,     0.73373,     0.73473,     0.73574,     0.73674,     0.73774,     0.73874,     0.73974,     0.74074,     0.74174,     0.74274,     0.74374,\n",
       "           0.74474,     0.74575,     0.74675,     0.74775,     0.74875,     0.74975,     0.75075,     0.75175,     0.75275,     0.75375,     0.75475,     0.75576,     0.75676,     0.75776,     0.75876,     0.75976,     0.76076,     0.76176,     0.76276,     0.76376,     0.76476,     0.76577,     0.76677,     0.76777,\n",
       "           0.76877,     0.76977,     0.77077,     0.77177,     0.77277,     0.77377,     0.77477,     0.77578,     0.77678,     0.77778,     0.77878,     0.77978,     0.78078,     0.78178,     0.78278,     0.78378,     0.78478,     0.78579,     0.78679,     0.78779,     0.78879,     0.78979,     0.79079,     0.79179,\n",
       "           0.79279,     0.79379,     0.79479,      0.7958,      0.7968,      0.7978,      0.7988,      0.7998,      0.8008,      0.8018,      0.8028,      0.8038,      0.8048,     0.80581,     0.80681,     0.80781,     0.80881,     0.80981,     0.81081,     0.81181,     0.81281,     0.81381,     0.81481,     0.81582,\n",
       "           0.81682,     0.81782,     0.81882,     0.81982,     0.82082,     0.82182,     0.82282,     0.82382,     0.82482,     0.82583,     0.82683,     0.82783,     0.82883,     0.82983,     0.83083,     0.83183,     0.83283,     0.83383,     0.83483,     0.83584,     0.83684,     0.83784,     0.83884,     0.83984,\n",
       "           0.84084,     0.84184,     0.84284,     0.84384,     0.84484,     0.84585,     0.84685,     0.84785,     0.84885,     0.84985,     0.85085,     0.85185,     0.85285,     0.85385,     0.85485,     0.85586,     0.85686,     0.85786,     0.85886,     0.85986,     0.86086,     0.86186,     0.86286,     0.86386,\n",
       "           0.86486,     0.86587,     0.86687,     0.86787,     0.86887,     0.86987,     0.87087,     0.87187,     0.87287,     0.87387,     0.87487,     0.87588,     0.87688,     0.87788,     0.87888,     0.87988,     0.88088,     0.88188,     0.88288,     0.88388,     0.88488,     0.88589,     0.88689,     0.88789,\n",
       "           0.88889,     0.88989,     0.89089,     0.89189,     0.89289,     0.89389,     0.89489,      0.8959,      0.8969,      0.8979,      0.8989,      0.8999,      0.9009,      0.9019,      0.9029,      0.9039,      0.9049,     0.90591,     0.90691,     0.90791,     0.90891,     0.90991,     0.91091,     0.91191,\n",
       "           0.91291,     0.91391,     0.91491,     0.91592,     0.91692,     0.91792,     0.91892,     0.91992,     0.92092,     0.92192,     0.92292,     0.92392,     0.92492,     0.92593,     0.92693,     0.92793,     0.92893,     0.92993,     0.93093,     0.93193,     0.93293,     0.93393,     0.93493,     0.93594,\n",
       "           0.93694,     0.93794,     0.93894,     0.93994,     0.94094,     0.94194,     0.94294,     0.94394,     0.94494,     0.94595,     0.94695,     0.94795,     0.94895,     0.94995,     0.95095,     0.95195,     0.95295,     0.95395,     0.95495,     0.95596,     0.95696,     0.95796,     0.95896,     0.95996,\n",
       "           0.96096,     0.96196,     0.96296,     0.96396,     0.96496,     0.96597,     0.96697,     0.96797,     0.96897,     0.96997,     0.97097,     0.97197,     0.97297,     0.97397,     0.97497,     0.97598,     0.97698,     0.97798,     0.97898,     0.97998,     0.98098,     0.98198,     0.98298,     0.98398,\n",
       "           0.98498,     0.98599,     0.98699,     0.98799,     0.98899,     0.98999,     0.99099,     0.99199,     0.99299,     0.99399,     0.99499,       0.996,       0.997,       0.998,       0.999,           1]), array([[          1,           1,           1,           1,           1,           1,           1,           1,     0.96429,     0.96429,     0.96429,     0.96429,     0.96429,     0.96429,     0.96429,     0.96429,     0.96429,     0.96429,     0.96429,     0.96429,     0.96429,     0.96429,     0.96429,\n",
       "            0.96429,     0.96429,     0.96429,     0.96429,     0.96429,     0.96429,     0.96429,     0.96429,     0.96429,     0.96429,     0.96429,     0.96429,     0.96429,     0.96429,     0.96429,     0.96429,     0.96429,     0.96429,     0.96429,     0.96429,     0.96429,     0.96429,     0.96429,\n",
       "            0.96429,     0.96429,     0.96429,     0.96429,     0.96429,     0.96429,     0.96429,     0.96429,     0.96429,     0.96429,     0.96429,     0.96429,     0.96429,     0.96429,     0.96429,     0.96429,     0.96429,     0.96429,     0.96429,     0.96429,     0.96429,     0.96429,     0.96429,\n",
       "            0.96429,     0.96429,     0.96429,     0.96429,     0.96429,     0.96429,     0.96429,     0.96429,     0.96429,     0.96429,     0.96429,     0.96429,     0.96429,     0.96429,     0.96429,     0.96429,     0.96429,     0.96429,     0.96429,     0.96429,     0.96429,     0.96429,     0.96429,\n",
       "            0.96429,     0.96429,     0.96429,     0.96429,     0.96429,     0.96429,     0.96429,     0.96429,     0.96429,     0.96429,     0.96429,     0.96429,     0.96429,     0.96429,     0.96429,     0.96429,     0.96429,     0.96429,     0.96429,     0.96429,     0.96429,     0.96429,     0.96429,\n",
       "            0.96429,     0.96429,     0.96429,     0.96429,     0.96429,     0.96429,     0.96429,     0.96429,     0.96429,     0.96429,     0.96429,     0.96429,     0.96429,     0.94891,     0.93201,     0.92857,     0.92857,     0.92857,     0.92857,     0.92857,     0.92857,     0.92857,     0.92857,\n",
       "            0.92857,     0.92857,     0.92857,     0.92857,     0.92857,     0.92857,     0.92857,     0.92857,     0.92857,     0.92857,     0.92857,     0.92857,     0.92857,     0.92857,     0.92857,     0.92857,     0.92857,     0.92857,     0.92857,     0.92857,     0.92857,     0.92857,     0.92857,\n",
       "            0.92857,     0.92857,     0.92857,     0.92857,     0.92857,     0.92857,     0.92857,     0.92857,     0.92857,     0.92857,     0.92857,     0.92857,     0.92857,     0.92857,     0.92857,     0.92857,     0.92857,     0.92857,     0.92857,     0.92857,     0.92857,     0.92857,     0.92857,\n",
       "            0.92857,     0.92857,     0.92857,     0.92857,     0.92857,     0.92857,     0.92857,     0.92857,     0.92857,     0.92857,     0.92857,     0.92857,     0.92857,     0.92857,     0.92857,     0.92857,     0.92857,     0.92857,     0.90492,     0.89286,     0.89286,     0.89286,     0.89286,\n",
       "            0.89286,     0.89286,     0.89286,     0.89286,     0.89286,     0.89286,     0.89286,     0.89286,     0.89286,     0.89286,     0.89286,     0.89286,     0.89286,     0.89286,     0.89286,     0.89286,     0.89286,     0.89286,     0.89286,     0.89286,     0.89286,     0.89286,     0.89286,\n",
       "            0.89286,     0.89286,     0.89286,     0.89286,     0.89286,     0.89286,     0.89286,     0.89286,     0.89286,     0.89286,     0.89286,     0.89286,     0.89286,     0.89286,     0.89286,     0.89286,     0.89286,     0.89286,     0.89239,     0.89153,     0.89068,     0.88982,     0.88896,\n",
       "             0.8881,     0.88724,     0.88638,     0.88552,     0.88466,     0.88381,     0.88295,     0.88209,     0.88123,     0.88037,     0.87951,     0.87865,      0.8778,     0.87694,     0.87608,     0.87522,     0.87436,      0.8735,     0.87264,     0.87179,     0.87093,     0.87007,     0.86921,\n",
       "            0.86835,     0.86749,     0.86663,     0.86578,     0.86492,     0.86406,      0.8632,     0.86234,     0.86148,     0.86062,     0.85977,     0.85891,     0.85805,     0.85719,     0.85714,     0.85714,     0.85714,     0.85674,     0.85527,     0.85379,     0.85231,     0.85083,     0.84935,\n",
       "            0.84788,      0.8464,     0.84492,     0.84344,     0.84196,     0.84049,     0.83901,     0.83753,     0.83605,     0.83457,      0.8331,     0.83162,     0.83014,     0.82866,     0.82718,     0.82571,     0.82423,     0.82275,     0.82143,     0.82143,     0.82143,     0.82143,     0.82143,\n",
       "            0.82143,     0.82143,     0.82143,     0.82143,     0.82143,     0.82143,     0.82143,     0.82143,     0.82143,     0.82143,     0.82143,     0.82143,     0.82143,     0.82143,     0.82143,     0.82143,     0.82143,     0.82143,     0.82143,     0.82143,     0.82143,     0.82143,     0.82143,\n",
       "            0.82143,     0.82143,     0.82143,     0.82143,     0.82143,     0.82143,     0.82143,     0.82143,     0.82143,     0.82143,     0.82143,     0.81911,     0.81642,     0.81372,     0.81103,     0.80833,     0.80564,     0.80294,     0.80025,     0.79755,     0.79486,     0.79216,     0.78947,\n",
       "            0.78677,     0.78517,     0.78427,     0.78337,     0.78247,     0.78157,     0.78068,     0.77978,     0.77888,     0.77798,     0.77708,     0.77618,     0.77529,     0.77439,     0.77349,     0.77259,     0.77169,     0.77079,     0.76989,       0.769,      0.7681,      0.7672,      0.7663,\n",
       "             0.7654,      0.7645,      0.7636,     0.76271,     0.76181,     0.76091,     0.76001,     0.75911,     0.75821,     0.75732,     0.75642,     0.75552,     0.75462,     0.75372,     0.75282,     0.75192,     0.75103,     0.75013,     0.74847,     0.74668,     0.74489,     0.74311,     0.74132,\n",
       "            0.73953,     0.73775,     0.73596,     0.73417,     0.73239,      0.7306,     0.72881,     0.72702,     0.72524,     0.72345,     0.72166,     0.71988,     0.71809,      0.7163,     0.71452,     0.71429,     0.71429,     0.71429,     0.71429,     0.71429,     0.71429,     0.71429,     0.71429,\n",
       "            0.71429,     0.71429,     0.71429,     0.71429,     0.71429,     0.71429,     0.71429,     0.71296,     0.71129,     0.70962,     0.70796,     0.70629,     0.70462,     0.70296,     0.70129,     0.69962,     0.69796,     0.69629,     0.69463,     0.69296,     0.69129,     0.68963,     0.68796,\n",
       "            0.68629,     0.68463,     0.68296,     0.68129,     0.67963,     0.67828,     0.67749,      0.6767,     0.67591,     0.67513,     0.67434,     0.67355,     0.67276,     0.67197,     0.67118,     0.67039,      0.6696,     0.66881,     0.66802,     0.66723,     0.66644,     0.66565,     0.66487,\n",
       "            0.66408,     0.66329,      0.6625,     0.66171,     0.66092,     0.66013,     0.65934,     0.65855,     0.65776,     0.65697,     0.65618,     0.65539,     0.65461,     0.65382,     0.65303,     0.65224,     0.65145,     0.65066,     0.64987,     0.64908,     0.64829,      0.6475,     0.64671,\n",
       "            0.64592,     0.64513,     0.64435,     0.64356,     0.64279,      0.6422,     0.64161,     0.64102,     0.64043,     0.63983,     0.63924,     0.63865,     0.63806,     0.63747,     0.63688,     0.63629,      0.6357,     0.63511,     0.63451,     0.63392,     0.63333,     0.63274,     0.63215,\n",
       "            0.63156,     0.63097,     0.63038,     0.62979,     0.62919,      0.6286,     0.62801,     0.62742,     0.62683,     0.62624,     0.62565,     0.62506,     0.62447,     0.62387,     0.62328,     0.62269,      0.6221,     0.62151,     0.62092,     0.62033,     0.61974,     0.61915,     0.61855,\n",
       "            0.61796,     0.61737,     0.61678,     0.61619,      0.6156,     0.61501,     0.61442,     0.61383,     0.61323,     0.61264,     0.61205,     0.61146,     0.61087,     0.61028,     0.60969,      0.6091,     0.60851,     0.60791,     0.60732,     0.60674,     0.60617,      0.6056,     0.60502,\n",
       "            0.60445,     0.60387,      0.6033,     0.60272,     0.60215,     0.60158,       0.601,     0.60043,     0.59985,     0.59928,      0.5987,     0.59813,     0.59756,     0.59698,     0.59641,     0.59583,     0.59526,     0.59468,     0.59411,     0.59354,     0.59296,     0.59239,     0.59181,\n",
       "            0.59124,     0.59066,     0.59009,     0.58952,     0.58894,     0.58837,     0.58779,     0.58722,     0.58664,     0.58607,      0.5855,     0.58492,     0.58435,     0.58377,      0.5832,     0.58263,     0.58205,     0.58148,      0.5809,     0.58033,     0.57975,     0.57918,     0.57861,\n",
       "            0.57803,     0.57746,     0.57688,     0.57631,     0.57573,     0.57516,     0.57459,     0.57401,     0.57344,     0.57286,     0.57229,     0.57171,     0.57104,     0.57026,     0.56949,     0.56872,     0.56794,     0.56717,     0.56639,     0.56562,     0.56484,     0.56407,      0.5633,\n",
       "            0.56252,     0.56175,     0.56097,      0.5602,     0.55942,     0.55865,     0.55788,      0.5571,     0.55633,     0.55555,     0.55478,       0.554,     0.55323,     0.55246,     0.55168,     0.55091,     0.55013,     0.54936,     0.54858,     0.54781,     0.54704,     0.54626,     0.54549,\n",
       "            0.54471,     0.54394,     0.54316,     0.54239,     0.54161,     0.54084,     0.54007,     0.53929,     0.53852,     0.53774,     0.53697,     0.53619,     0.53513,      0.5336,     0.53206,     0.53053,       0.529,     0.52746,     0.52593,     0.52439,     0.52286,     0.52133,     0.51979,\n",
       "            0.51826,     0.51672,     0.51519,     0.51366,     0.51212,     0.51059,     0.50905,     0.50752,     0.50599,     0.50445,     0.50292,     0.50138,     0.49986,     0.49846,     0.49706,     0.49566,     0.49426,     0.49286,     0.49145,     0.49005,     0.48865,     0.48725,     0.48585,\n",
       "            0.48445,     0.48304,     0.48164,     0.48024,     0.47884,     0.47744,     0.47604,     0.47464,     0.47323,     0.47183,     0.47043,     0.46903,     0.46763,     0.46623,     0.46482,     0.45587,      0.4422,     0.42856,     0.42589,     0.42321,     0.42054,     0.41786,     0.41518,\n",
       "            0.41251,     0.40983,     0.40715,     0.40448,      0.4018,     0.39913,     0.39645,     0.39377,     0.39247,     0.39188,     0.39128,     0.39069,      0.3901,     0.38951,     0.38892,     0.38832,     0.38773,     0.38714,     0.38655,     0.38596,     0.38536,     0.38477,     0.38418,\n",
       "            0.38359,       0.383,     0.38241,     0.38181,     0.38122,     0.38063,     0.38004,     0.37945,     0.37885,     0.37826,     0.37767,     0.37708,     0.37649,     0.37589,      0.3753,     0.37471,     0.37412,     0.37353,     0.37293,     0.37234,     0.37175,     0.37116,     0.37057,\n",
       "            0.36997,     0.36938,     0.36879,      0.3682,     0.36761,     0.36702,     0.36642,     0.36583,     0.36524,     0.36465,     0.36406,     0.36346,     0.36287,     0.36228,     0.36169,      0.3611,      0.3605,     0.35991,     0.35932,     0.35873,     0.35814,     0.35754,     0.35697,\n",
       "            0.35644,     0.35591,     0.35538,     0.35486,     0.35433,      0.3538,     0.35327,     0.35274,     0.35221,     0.35168,     0.35115,     0.35062,     0.35009,     0.34956,     0.34903,      0.3485,     0.34798,     0.34745,     0.34692,     0.34639,     0.34586,     0.34533,      0.3448,\n",
       "            0.34427,     0.34374,     0.34321,     0.34268,     0.34215,     0.34162,      0.3411,     0.34057,     0.34004,     0.33951,     0.33898,     0.33845,     0.33792,     0.33739,     0.33686,     0.33633,      0.3358,     0.33527,     0.33474,     0.33422,     0.33369,     0.33316,     0.33263,\n",
       "             0.3321,     0.33157,     0.33104,     0.33051,     0.32998,     0.32945,     0.32892,     0.32839,     0.32786,     0.32733,     0.32681,     0.32628,     0.32575,     0.32522,     0.32469,     0.32416,     0.32363,      0.3231,     0.32257,     0.32204,     0.32151,     0.32039,     0.31915,\n",
       "            0.31791,     0.31667,     0.31543,     0.31419,     0.31295,     0.31171,     0.31047,     0.30923,     0.30798,     0.30674,      0.3055,     0.30426,     0.30302,     0.30178,     0.30054,      0.2993,     0.29806,     0.29682,     0.29558,     0.29434,      0.2931,     0.29186,     0.29062,\n",
       "            0.28938,     0.28814,      0.2869,     0.28551,      0.2806,      0.2757,     0.27079,     0.26589,     0.26098,     0.25607,     0.25117,     0.24795,     0.24526,     0.24257,     0.23988,      0.2372,     0.23451,     0.23182,     0.22913,     0.22644,     0.22375,     0.22106,     0.21837,\n",
       "            0.21568,     0.20993,     0.20086,     0.19179,     0.18272,     0.16898,     0.15129,     0.14192,     0.14012,     0.13832,     0.13652,     0.13472,     0.13293,     0.13113,     0.12933,     0.12753,     0.12573,     0.12394,     0.12214,     0.12034,     0.11854,     0.11674,     0.11494,\n",
       "            0.11315,     0.11135,     0.10955,     0.10775,     0.10471,     0.10103,    0.097356,    0.093679,    0.090002,    0.086324,    0.082647,     0.07897,    0.075292,    0.071615,    0.064687,    0.057586,    0.050485,    0.043384,    0.036282,           0,           0,           0,           0,\n",
       "                  0,           0,           0,           0,           0,           0,           0,           0,           0,           0,           0,           0,           0,           0,           0,           0,           0,           0,           0,           0,           0,           0,           0,\n",
       "                  0,           0,           0,           0,           0,           0,           0,           0,           0,           0,           0]]), 'Confidence', 'Recall']]\n",
       "fitness: 0.6739260569017929\n",
       "keys: ['metrics/precision(B)', 'metrics/recall(B)', 'metrics/mAP50(B)', 'metrics/mAP50-95(B)']\n",
       "maps: array([    0.64529])\n",
       "names: {0: 'pod'}\n",
       "plot: True\n",
       "results_dict: {'metrics/precision(B)': 0.8601099934262858, 'metrics/recall(B)': 0.8786545951977157, 'metrics/mAP50(B)': 0.931637485023731, 'metrics/mAP50-95(B)': 0.645291453777133, 'fitness': 0.6739260569017929}\n",
       "save_dir: WindowsPath('runs/detect/train7')\n",
       "speed: {'preprocess': 2.4578401020595004, 'inference': 230.9199231011527, 'loss': 0.0, 'postprocess': 0.24923256465366908}\n",
       "task: 'detect'"
      ]
     },
     "execution_count": 7,
     "metadata": {},
     "output_type": "execute_result"
    }
   ],
   "source": [
    "YAML_PATH = './pod_path/data.yaml'\n",
    "EPOCHS = 50\n",
    "IMG_SIZE = 640\n",
    "BATCH_SIZE = 16\n",
    "\n",
    "model.train(data=YAML_PATH,\n",
    "            epochs=EPOCHS,\n",
    "            batch=BATCH_SIZE,\n",
    "            imgsz=IMG_SIZE)"
   ]
  },
  {
   "cell_type": "code",
   "execution_count": null,
   "metadata": {},
   "outputs": [],
   "source": [
    "# TRAINED_MODEL_PATH = 'runs/detect/train/weights/best.pt'\n",
    "# model = YOLOv10(TRAINED_MODEL_PATH)\n",
    "\n",
    "# model.val(data=YAML_PATH,\n",
    "#           imgsz=IMG_SIZE,\n",
    "#           split='test')"
   ]
  },
  {
   "cell_type": "code",
   "execution_count": 1,
   "metadata": {},
   "outputs": [],
   "source": [
    "# https://github.com/googlecolab/colabtools/issues/3409\n",
    "import locale\n",
    "locale.getpreferredencoding = lambda: \"UTF-8\""
   ]
  },
  {
   "cell_type": "code",
   "execution_count": 25,
   "metadata": {},
   "outputs": [],
   "source": [
    "from ultralytics import YOLO "
   ]
  },
  {
   "cell_type": "code",
   "execution_count": 8,
   "metadata": {},
   "outputs": [],
   "source": [
    "# model = YOLO('runs/detect/train4/weights/best.pt')\n",
    "# YAML_PATH = './pod_path/data.yaml'\n",
    "# EPOCHS = 50\n",
    "# IMG_SIZE = 640\n",
    "# BATCH_SIZE = 16\n",
    "\n",
    "# model.train(data=YAML_PATH,\n",
    "#             epochs=EPOCHS,\n",
    "#             batch=BATCH_SIZE,\n",
    "#             imgsz=IMG_SIZE)"
   ]
  },
  {
   "cell_type": "code",
   "execution_count": 4,
   "metadata": {},
   "outputs": [],
   "source": [
    "from ultralytics import YOLOv10"
   ]
  },
  {
   "cell_type": "code",
   "execution_count": 26,
   "metadata": {},
   "outputs": [
    {
     "name": "stdout",
     "output_type": "stream",
     "text": [
      "\n",
      "0: 640x480 1 pod, 183.5ms\n",
      "Speed: 5.0ms preprocess, 183.5ms inference, 1.0ms postprocess per image at shape (1, 3, 640, 480)\n"
     ]
    }
   ],
   "source": [
    "import requests\n",
    "import cv2\n",
    "import numpy as np\n",
    "from ultralytics import YOLOv10  # Giả sử bạn đã cài đặt thư viện YOLO\n",
    "\n",
    "# Đường dẫn tới mô hình đã huấn luyện\n",
    "TRAINED_MODEL_PATH = 'runs/detect/train7/weights/best.pt'\n",
    "model = YOLOv10(TRAINED_MODEL_PATH)\n",
    "\n",
    "# URL hình ảnh\n",
    "IMAGE_URL = 'https://down-bs-vn.img.susercontent.com/vn-11134525-7r98o-lxezrspy4deh3a.webp'\n",
    "CONF_THRESHOLD = 0.1\n",
    "IMG_SIZE = 640\n",
    "\n",
    "# Tải hình ảnh từ URL\n",
    "response = requests.get(IMAGE_URL)\n",
    "image_array = np.asarray(bytearray(response.content), dtype=np.uint8)\n",
    "image = cv2.imdecode(image_array, cv2.IMREAD_COLOR)\n",
    "\n",
    "# Dự đoán trên hình ảnh\n",
    "results = model.predict(source=image, imgsz=IMG_SIZE, conf=CONF_THRESHOLD)\n",
    "\n",
    "# Vẽ bounding boxes và labels lên hình ảnh\n",
    "for result in results:\n",
    "    for detection in result.boxes:\n",
    "        x1, y1, x2, y2 = map(int, detection.xyxy[0])  # Lấy tọa độ bounding box\n",
    "        label = detection.cls[0]  # Lấy nhãn\n",
    "        conf = detection.conf[0]  # Lấy độ tin cậy\n",
    "\n",
    "        # Vẽ bounding box\n",
    "        cv2.rectangle(image, (x1, y1), (x2, y2), (0, 255, 0), 2)\n",
    "        \n",
    "        # Hiển thị nhãn và độ tin cậy\n",
    "        cv2.putText(image, f'{label} {conf:.2f}', (x1, y1 - 10), cv2.FONT_HERSHEY_SIMPLEX, 0.9, (36, 255, 12), 2)\n",
    "\n",
    "# Hiển thị hình ảnh\n",
    "predicted_image_path = 'predicted_image.jpg'\n",
    "cv2.imwrite(predicted_image_path, image)\n",
    "cv2.imshow('Predicted Image', image)\n",
    "# original_image_path = 'original_image.jpg'\n",
    "cv2.waitKey(0)\n",
    "cv2.destroyAllWindows()"
   ]
  },
  {
   "cell_type": "code",
   "execution_count": 27,
   "metadata": {},
   "outputs": [
    {
     "name": "stdout",
     "output_type": "stream",
     "text": [
      "tensor(0.1929)\n"
     ]
    }
   ],
   "source": [
    "for result in results:\n",
    "    for detection in result.boxes:\n",
    "        x1, y1, x2, y2 = map(int, detection.xyxy[0])  # Lấy tọa độ bounding box\n",
    "        label = detection.cls[0]  # Lấy nhãn\n",
    "        conf = detection.conf[0]  # Lấy độ tin cậy\n",
    "        print(conf)"
   ]
  },
  {
   "cell_type": "code",
   "execution_count": 13,
   "metadata": {},
   "outputs": [],
   "source": [
    "# os.listdir(p)"
   ]
  }
 ],
 "metadata": {
  "kernelspec": {
   "display_name": "Python 3",
   "language": "python",
   "name": "python3"
  },
  "language_info": {
   "codemirror_mode": {
    "name": "ipython",
    "version": 3
   },
   "file_extension": ".py",
   "mimetype": "text/x-python",
   "name": "python",
   "nbconvert_exporter": "python",
   "pygments_lexer": "ipython3",
   "version": "3.12.3"
  }
 },
 "nbformat": 4,
 "nbformat_minor": 2
}
