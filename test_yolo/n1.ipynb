{
 "cells": [
  {
   "cell_type": "markdown",
   "metadata": {},
   "source": [
    "***\n",
    "Removed file not have label by os lib \n",
    "*** "
   ]
  },
  {
   "cell_type": "code",
   "execution_count": 22,
   "metadata": {},
   "outputs": [
    {
     "name": "stdout",
     "output_type": "stream",
     "text": [
      "remove C:\\Users\\duphong.hua\\Documents\\phong_document\\git\\resp_test\\test_yolo\\pod\\240703E0158G.jpg remove C:\\Users\\duphong.hua\\Documents\\phong_document\\git\\resp_test\\test_yolo\\pod\\240703E017LV.jpg remove C:\\Users\\duphong.hua\\Documents\\phong_document\\git\\resp_test\\test_yolo\\pod\\240703E021X3.jpg remove C:\\Users\\duphong.hua\\Documents\\phong_document\\git\\resp_test\\test_yolo\\pod\\240703E024TU.jpg remove C:\\Users\\duphong.hua\\Documents\\phong_document\\git\\resp_test\\test_yolo\\pod\\240703E027FY.jpg remove C:\\Users\\duphong.hua\\Documents\\phong_document\\git\\resp_test\\test_yolo\\pod\\240703E035FR.jpg remove C:\\Users\\duphong.hua\\Documents\\phong_document\\git\\resp_test\\test_yolo\\pod\\240703E08RTD.jpg remove C:\\Users\\duphong.hua\\Documents\\phong_document\\git\\resp_test\\test_yolo\\pod\\240703E101P4.jpg remove C:\\Users\\duphong.hua\\Documents\\phong_document\\git\\resp_test\\test_yolo\\pod\\240703E10QSJ.jpg remove C:\\Users\\duphong.hua\\Documents\\phong_document\\git\\resp_test\\test_yolo\\pod\\240703E11AAW.jpg remove C:\\Users\\duphong.hua\\Documents\\phong_document\\git\\resp_test\\test_yolo\\pod\\240703E123IL.jpg remove C:\\Users\\duphong.hua\\Documents\\phong_document\\git\\resp_test\\test_yolo\\pod\\240703E124FI.jpg remove C:\\Users\\duphong.hua\\Documents\\phong_document\\git\\resp_test\\test_yolo\\pod\\240703E12JUA.jpg remove C:\\Users\\duphong.hua\\Documents\\phong_document\\git\\resp_test\\test_yolo\\pod\\240703E1344Y.jpg remove C:\\Users\\duphong.hua\\Documents\\phong_document\\git\\resp_test\\test_yolo\\pod\\240703E134KV.jpg remove C:\\Users\\duphong.hua\\Documents\\phong_document\\git\\resp_test\\test_yolo\\pod\\240703E13FSU.jpg remove C:\\Users\\duphong.hua\\Documents\\phong_document\\git\\resp_test\\test_yolo\\pod\\240703E13WB1.jpg remove C:\\Users\\duphong.hua\\Documents\\phong_document\\git\\resp_test\\test_yolo\\pod\\240703E13YF3.jpg remove C:\\Users\\duphong.hua\\Documents\\phong_document\\git\\resp_test\\test_yolo\\pod\\240703E16Z2H.jpg remove C:\\Users\\duphong.hua\\Documents\\phong_document\\git\\resp_test\\test_yolo\\pod\\240703E17LN7.jpg remove C:\\Users\\duphong.hua\\Documents\\phong_document\\git\\resp_test\\test_yolo\\pod\\240703E17XD5.jpg remove C:\\Users\\duphong.hua\\Documents\\phong_document\\git\\resp_test\\test_yolo\\pod\\240703E18L1R.jpg remove C:\\Users\\duphong.hua\\Documents\\phong_document\\git\\resp_test\\test_yolo\\pod\\240703E18NWS.jpg remove C:\\Users\\duphong.hua\\Documents\\phong_document\\git\\resp_test\\test_yolo\\pod\\240703E18OVM.jpg remove C:\\Users\\duphong.hua\\Documents\\phong_document\\git\\resp_test\\test_yolo\\pod\\240703E18X0X.jpg remove C:\\Users\\duphong.hua\\Documents\\phong_document\\git\\resp_test\\test_yolo\\pod\\240703E193AJ.jpg remove C:\\Users\\duphong.hua\\Documents\\phong_document\\git\\resp_test\\test_yolo\\pod\\240703E207LC.jpg remove C:\\Users\\duphong.hua\\Documents\\phong_document\\git\\resp_test\\test_yolo\\pod\\240703E20I3V.jpg remove C:\\Users\\duphong.hua\\Documents\\phong_document\\git\\resp_test\\test_yolo\\pod\\240703E20Q1K.jpg remove C:\\Users\\duphong.hua\\Documents\\phong_document\\git\\resp_test\\test_yolo\\pod\\240703E231CM.jpg remove C:\\Users\\duphong.hua\\Documents\\phong_document\\git\\resp_test\\test_yolo\\pod\\240703E24FO4.jpg remove C:\\Users\\duphong.hua\\Documents\\phong_document\\git\\resp_test\\test_yolo\\pod\\240703E24G7M.jpg remove C:\\Users\\duphong.hua\\Documents\\phong_document\\git\\resp_test\\test_yolo\\pod\\240703E24IZP.jpg remove C:\\Users\\duphong.hua\\Documents\\phong_document\\git\\resp_test\\test_yolo\\pod\\240703E24RZ8.jpg remove C:\\Users\\duphong.hua\\Documents\\phong_document\\git\\resp_test\\test_yolo\\pod\\240703E25J87.jpg remove C:\\Users\\duphong.hua\\Documents\\phong_document\\git\\resp_test\\test_yolo\\pod\\240703E25UDZ.jpg remove C:\\Users\\duphong.hua\\Documents\\phong_document\\git\\resp_test\\test_yolo\\pod\\240703E26I5T.jpg remove C:\\Users\\duphong.hua\\Documents\\phong_document\\git\\resp_test\\test_yolo\\pod\\240703E27BLG.jpg remove C:\\Users\\duphong.hua\\Documents\\phong_document\\git\\resp_test\\test_yolo\\pod\\240703E283RC.jpg remove C:\\Users\\duphong.hua\\Documents\\phong_document\\git\\resp_test\\test_yolo\\pod\\240703E284F4.jpg remove C:\\Users\\duphong.hua\\Documents\\phong_document\\git\\resp_test\\test_yolo\\pod\\240703E28ETX.jpg remove C:\\Users\\duphong.hua\\Documents\\phong_document\\git\\resp_test\\test_yolo\\pod\\240703E28I12.jpg remove C:\\Users\\duphong.hua\\Documents\\phong_document\\git\\resp_test\\test_yolo\\pod\\240703E28XBC.jpg remove C:\\Users\\duphong.hua\\Documents\\phong_document\\git\\resp_test\\test_yolo\\pod\\240703E30S5C.jpg remove C:\\Users\\duphong.hua\\Documents\\phong_document\\git\\resp_test\\test_yolo\\pod\\240703E31CJL.jpg remove C:\\Users\\duphong.hua\\Documents\\phong_document\\git\\resp_test\\test_yolo\\pod\\240703E31KDR.jpg remove C:\\Users\\duphong.hua\\Documents\\phong_document\\git\\resp_test\\test_yolo\\pod\\240703E34JGM.jpg remove C:\\Users\\duphong.hua\\Documents\\phong_document\\git\\resp_test\\test_yolo\\pod\\240703E35YGT.jpg remove C:\\Users\\duphong.hua\\Documents\\phong_document\\git\\resp_test\\test_yolo\\pod\\240703E369UL.jpg remove C:\\Users\\duphong.hua\\Documents\\phong_document\\git\\resp_test\\test_yolo\\pod\\240703E36HK8.jpg remove C:\\Users\\duphong.hua\\Documents\\phong_document\\git\\resp_test\\test_yolo\\pod\\240703E38W1J.jpg remove C:\\Users\\duphong.hua\\Documents\\phong_document\\git\\resp_test\\test_yolo\\pod\\240703E40NAM.jpg remove C:\\Users\\duphong.hua\\Documents\\phong_document\\git\\resp_test\\test_yolo\\pod\\240703E40YUT.jpg remove C:\\Users\\duphong.hua\\Documents\\phong_document\\git\\resp_test\\test_yolo\\pod\\240703E41KCE.jpg remove C:\\Users\\duphong.hua\\Documents\\phong_document\\git\\resp_test\\test_yolo\\pod\\240703E44NPP.jpg remove C:\\Users\\duphong.hua\\Documents\\phong_document\\git\\resp_test\\test_yolo\\pod\\240703E45G6B.jpg remove C:\\Users\\duphong.hua\\Documents\\phong_document\\git\\resp_test\\test_yolo\\pod\\240703E477CZ.jpg remove C:\\Users\\duphong.hua\\Documents\\phong_document\\git\\resp_test\\test_yolo\\pod\\240703E47DRE.jpg remove C:\\Users\\duphong.hua\\Documents\\phong_document\\git\\resp_test\\test_yolo\\pod\\240703E483GG.jpg remove C:\\Users\\duphong.hua\\Documents\\phong_document\\git\\resp_test\\test_yolo\\pod\\240703E487VA.jpg remove C:\\Users\\duphong.hua\\Documents\\phong_document\\git\\resp_test\\test_yolo\\pod\\240703E48IY1.jpg remove C:\\Users\\duphong.hua\\Documents\\phong_document\\git\\resp_test\\test_yolo\\pod\\240703E49D4B.jpg remove C:\\Users\\duphong.hua\\Documents\\phong_document\\git\\resp_test\\test_yolo\\pod\\240703E49MU8.jpg remove C:\\Users\\duphong.hua\\Documents\\phong_document\\git\\resp_test\\test_yolo\\pod\\240703E49NFG.jpg remove C:\\Users\\duphong.hua\\Documents\\phong_document\\git\\resp_test\\test_yolo\\pod\\240703E49XHE.jpg remove C:\\Users\\duphong.hua\\Documents\\phong_document\\git\\resp_test\\test_yolo\\pod\\240703E508NK.jpg remove C:\\Users\\duphong.hua\\Documents\\phong_document\\git\\resp_test\\test_yolo\\pod\\240703E512HR.jpg remove C:\\Users\\duphong.hua\\Documents\\phong_document\\git\\resp_test\\test_yolo\\pod\\240703E520DW.jpg remove C:\\Users\\duphong.hua\\Documents\\phong_document\\git\\resp_test\\test_yolo\\pod\\240703E53GJT.jpg remove C:\\Users\\duphong.hua\\Documents\\phong_document\\git\\resp_test\\test_yolo\\pod\\240703E53KIR.jpg remove C:\\Users\\duphong.hua\\Documents\\phong_document\\git\\resp_test\\test_yolo\\pod\\240703E53XGX.jpg remove C:\\Users\\duphong.hua\\Documents\\phong_document\\git\\resp_test\\test_yolo\\pod\\240703E53YO8.jpg remove C:\\Users\\duphong.hua\\Documents\\phong_document\\git\\resp_test\\test_yolo\\pod\\240703E544RK.jpg remove C:\\Users\\duphong.hua\\Documents\\phong_document\\git\\resp_test\\test_yolo\\pod\\240703E545L0.jpg remove C:\\Users\\duphong.hua\\Documents\\phong_document\\git\\resp_test\\test_yolo\\pod\\240703E5460D.jpg remove C:\\Users\\duphong.hua\\Documents\\phong_document\\git\\resp_test\\test_yolo\\pod\\240703E54Y10.jpg remove C:\\Users\\duphong.hua\\Documents\\phong_document\\git\\resp_test\\test_yolo\\pod\\240703E563SX.jpg remove C:\\Users\\duphong.hua\\Documents\\phong_document\\git\\resp_test\\test_yolo\\pod\\240703E568PE.jpg remove C:\\Users\\duphong.hua\\Documents\\phong_document\\git\\resp_test\\test_yolo\\pod\\240703E575KW.jpg remove C:\\Users\\duphong.hua\\Documents\\phong_document\\git\\resp_test\\test_yolo\\pod\\240703E588FL.jpg remove C:\\Users\\duphong.hua\\Documents\\phong_document\\git\\resp_test\\test_yolo\\pod\\240703E59U1Y.jpg remove C:\\Users\\duphong.hua\\Documents\\phong_document\\git\\resp_test\\test_yolo\\pod\\240703E5C0D6.jpg remove C:\\Users\\duphong.hua\\Documents\\phong_document\\git\\resp_test\\test_yolo\\pod\\240703E5C806.jpg remove C:\\Users\\duphong.hua\\Documents\\phong_document\\git\\resp_test\\test_yolo\\pod\\240703E5CR3E.jpg remove C:\\Users\\duphong.hua\\Documents\\phong_document\\git\\resp_test\\test_yolo\\pod\\240703E5EQ5U.jpg remove C:\\Users\\duphong.hua\\Documents\\phong_document\\git\\resp_test\\test_yolo\\pod\\240703E5H22O.jpg remove C:\\Users\\duphong.hua\\Documents\\phong_document\\git\\resp_test\\test_yolo\\pod\\240703E5I8TU.jpg remove C:\\Users\\duphong.hua\\Documents\\phong_document\\git\\resp_test\\test_yolo\\pod\\240703E5MJ6E.jpg remove C:\\Users\\duphong.hua\\Documents\\phong_document\\git\\resp_test\\test_yolo\\pod\\240703E5N0A6.jpg remove C:\\Users\\duphong.hua\\Documents\\phong_document\\git\\resp_test\\test_yolo\\pod\\240703E5Q7RG.jpg remove C:\\Users\\duphong.hua\\Documents\\phong_document\\git\\resp_test\\test_yolo\\pod\\240703E5R19N.jpg remove C:\\Users\\duphong.hua\\Documents\\phong_document\\git\\resp_test\\test_yolo\\pod\\240703E5RHZK.jpg remove C:\\Users\\duphong.hua\\Documents\\phong_document\\git\\resp_test\\test_yolo\\pod\\240703E5RXXT.jpg remove C:\\Users\\duphong.hua\\Documents\\phong_document\\git\\resp_test\\test_yolo\\pod\\240703E5SABR.jpg remove C:\\Users\\duphong.hua\\Documents\\phong_document\\git\\resp_test\\test_yolo\\pod\\240703E5UBFZ.jpg remove C:\\Users\\duphong.hua\\Documents\\phong_document\\git\\resp_test\\test_yolo\\pod\\240703E5US0V.jpg remove C:\\Users\\duphong.hua\\Documents\\phong_document\\git\\resp_test\\test_yolo\\pod\\240703E5VFGZ.jpg remove C:\\Users\\duphong.hua\\Documents\\phong_document\\git\\resp_test\\test_yolo\\pod\\240703E5W64M.jpg remove C:\\Users\\duphong.hua\\Documents\\phong_document\\git\\resp_test\\test_yolo\\pod\\240703E5WUFG.jpg remove C:\\Users\\duphong.hua\\Documents\\phong_document\\git\\resp_test\\test_yolo\\pod\\240703E6050Z.jpg remove C:\\Users\\duphong.hua\\Documents\\phong_document\\git\\resp_test\\test_yolo\\pod\\240703E60G2N.jpg remove C:\\Users\\duphong.hua\\Documents\\phong_document\\git\\resp_test\\test_yolo\\pod\\240703E60N4B.jpg remove C:\\Users\\duphong.hua\\Documents\\phong_document\\git\\resp_test\\test_yolo\\pod\\240703E61J5Q.jpg remove C:\\Users\\duphong.hua\\Documents\\phong_document\\git\\resp_test\\test_yolo\\pod\\240703E61POJ.jpg remove C:\\Users\\duphong.hua\\Documents\\phong_document\\git\\resp_test\\test_yolo\\pod\\240703E6243E.jpg remove C:\\Users\\duphong.hua\\Documents\\phong_document\\git\\resp_test\\test_yolo\\pod\\240703E640WD.jpg remove C:\\Users\\duphong.hua\\Documents\\phong_document\\git\\resp_test\\test_yolo\\pod\\240703E643EL.jpg remove C:\\Users\\duphong.hua\\Documents\\phong_document\\git\\resp_test\\test_yolo\\pod\\240703E65AKA.jpg remove C:\\Users\\duphong.hua\\Documents\\phong_document\\git\\resp_test\\test_yolo\\pod\\240703E65PYF.jpg remove C:\\Users\\duphong.hua\\Documents\\phong_document\\git\\resp_test\\test_yolo\\pod\\240703E663W7.jpg remove C:\\Users\\duphong.hua\\Documents\\phong_document\\git\\resp_test\\test_yolo\\pod\\240703E66JCT.jpg remove C:\\Users\\duphong.hua\\Documents\\phong_document\\git\\resp_test\\test_yolo\\pod\\240703E66KK6.jpg remove C:\\Users\\duphong.hua\\Documents\\phong_document\\git\\resp_test\\test_yolo\\pod\\240703E67C7Q.jpg remove C:\\Users\\duphong.hua\\Documents\\phong_document\\git\\resp_test\\test_yolo\\pod\\240703E685TX.jpg remove C:\\Users\\duphong.hua\\Documents\\phong_document\\git\\resp_test\\test_yolo\\pod\\240703E689M6.jpg remove C:\\Users\\duphong.hua\\Documents\\phong_document\\git\\resp_test\\test_yolo\\pod\\240703E68DB6.jpg remove C:\\Users\\duphong.hua\\Documents\\phong_document\\git\\resp_test\\test_yolo\\pod\\240703E68L8J.jpg remove C:\\Users\\duphong.hua\\Documents\\phong_document\\git\\resp_test\\test_yolo\\pod\\240703E6ADCJ.jpg remove C:\\Users\\duphong.hua\\Documents\\phong_document\\git\\resp_test\\test_yolo\\pod\\240703E6B4Q1.jpg remove C:\\Users\\duphong.hua\\Documents\\phong_document\\git\\resp_test\\test_yolo\\pod\\240703E6BOHB.jpg remove C:\\Users\\duphong.hua\\Documents\\phong_document\\git\\resp_test\\test_yolo\\pod\\240703E6BR8M.jpg remove C:\\Users\\duphong.hua\\Documents\\phong_document\\git\\resp_test\\test_yolo\\pod\\240703E6BWZX.jpg remove C:\\Users\\duphong.hua\\Documents\\phong_document\\git\\resp_test\\test_yolo\\pod\\240703E6CHJ2.jpg remove C:\\Users\\duphong.hua\\Documents\\phong_document\\git\\resp_test\\test_yolo\\pod\\240703E6CVJF.jpg remove C:\\Users\\duphong.hua\\Documents\\phong_document\\git\\resp_test\\test_yolo\\pod\\240703E6CXQY.jpg remove C:\\Users\\duphong.hua\\Documents\\phong_document\\git\\resp_test\\test_yolo\\pod\\240703E6E2D8.jpg remove C:\\Users\\duphong.hua\\Documents\\phong_document\\git\\resp_test\\test_yolo\\pod\\240703E6EGU7.jpg remove C:\\Users\\duphong.hua\\Documents\\phong_document\\git\\resp_test\\test_yolo\\pod\\240703E6EXSY.jpg remove C:\\Users\\duphong.hua\\Documents\\phong_document\\git\\resp_test\\test_yolo\\pod\\240703E6F17F.jpg remove C:\\Users\\duphong.hua\\Documents\\phong_document\\git\\resp_test\\test_yolo\\pod\\240703E6F9BA.jpg remove C:\\Users\\duphong.hua\\Documents\\phong_document\\git\\resp_test\\test_yolo\\pod\\240703E6FDBJ.jpg remove C:\\Users\\duphong.hua\\Documents\\phong_document\\git\\resp_test\\test_yolo\\pod\\240703E6FQRI.jpg remove C:\\Users\\duphong.hua\\Documents\\phong_document\\git\\resp_test\\test_yolo\\pod\\240703E6G22Q.jpg remove C:\\Users\\duphong.hua\\Documents\\phong_document\\git\\resp_test\\test_yolo\\pod\\240703E6GCE7.jpg remove C:\\Users\\duphong.hua\\Documents\\phong_document\\git\\resp_test\\test_yolo\\pod\\240703E6GP7U.jpg remove C:\\Users\\duphong.hua\\Documents\\phong_document\\git\\resp_test\\test_yolo\\pod\\240703E6H3JL.jpg remove C:\\Users\\duphong.hua\\Documents\\phong_document\\git\\resp_test\\test_yolo\\pod\\240703E6H3VD.jpg remove C:\\Users\\duphong.hua\\Documents\\phong_document\\git\\resp_test\\test_yolo\\pod\\240703E6HXJ7.jpg remove C:\\Users\\duphong.hua\\Documents\\phong_document\\git\\resp_test\\test_yolo\\pod\\240703E6IMA7.jpg remove C:\\Users\\duphong.hua\\Documents\\phong_document\\git\\resp_test\\test_yolo\\pod\\240703E6IW07.jpg remove C:\\Users\\duphong.hua\\Documents\\phong_document\\git\\resp_test\\test_yolo\\pod\\240703E6KGFW.jpg remove C:\\Users\\duphong.hua\\Documents\\phong_document\\git\\resp_test\\test_yolo\\pod\\240703E6KQE7.jpg remove C:\\Users\\duphong.hua\\Documents\\phong_document\\git\\resp_test\\test_yolo\\pod\\240703E6L6QN.jpg remove C:\\Users\\duphong.hua\\Documents\\phong_document\\git\\resp_test\\test_yolo\\pod\\240703E6L87D.jpg remove C:\\Users\\duphong.hua\\Documents\\phong_document\\git\\resp_test\\test_yolo\\pod\\240703E6LVTG.jpg remove C:\\Users\\duphong.hua\\Documents\\phong_document\\git\\resp_test\\test_yolo\\pod\\240703E6MPPK.jpg remove C:\\Users\\duphong.hua\\Documents\\phong_document\\git\\resp_test\\test_yolo\\pod\\240703E6NDEN.jpg remove C:\\Users\\duphong.hua\\Documents\\phong_document\\git\\resp_test\\test_yolo\\pod\\240703E6NVBV.jpg remove C:\\Users\\duphong.hua\\Documents\\phong_document\\git\\resp_test\\test_yolo\\pod\\240703E6NZ5S.jpg remove C:\\Users\\duphong.hua\\Documents\\phong_document\\git\\resp_test\\test_yolo\\pod\\240703E6O1YF.jpg remove C:\\Users\\duphong.hua\\Documents\\phong_document\\git\\resp_test\\test_yolo\\pod\\240703E6OLO3.jpg remove C:\\Users\\duphong.hua\\Documents\\phong_document\\git\\resp_test\\test_yolo\\pod\\240703E6OYS8.jpg remove C:\\Users\\duphong.hua\\Documents\\phong_document\\git\\resp_test\\test_yolo\\pod\\240703E6PZTA.jpg remove C:\\Users\\duphong.hua\\Documents\\phong_document\\git\\resp_test\\test_yolo\\pod\\240703E6RP89.jpg remove C:\\Users\\duphong.hua\\Documents\\phong_document\\git\\resp_test\\test_yolo\\pod\\240703E6S998.jpg remove C:\\Users\\duphong.hua\\Documents\\phong_document\\git\\resp_test\\test_yolo\\pod\\240703E6T7XF.jpg remove C:\\Users\\duphong.hua\\Documents\\phong_document\\git\\resp_test\\test_yolo\\pod\\240703E6TPQX.jpg remove C:\\Users\\duphong.hua\\Documents\\phong_document\\git\\resp_test\\test_yolo\\pod\\240703E6U7R5.jpg remove C:\\Users\\duphong.hua\\Documents\\phong_document\\git\\resp_test\\test_yolo\\pod\\240703E6WYCA.jpg remove C:\\Users\\duphong.hua\\Documents\\phong_document\\git\\resp_test\\test_yolo\\pod\\240703E6YB8K.jpg remove C:\\Users\\duphong.hua\\Documents\\phong_document\\git\\resp_test\\test_yolo\\pod\\240703E6YLQ2.jpg remove C:\\Users\\duphong.hua\\Documents\\phong_document\\git\\resp_test\\test_yolo\\pod\\240703E6Z1XB.jpg remove C:\\Users\\duphong.hua\\Documents\\phong_document\\git\\resp_test\\test_yolo\\pod\\240703E6Z9NX.jpg remove C:\\Users\\duphong.hua\\Documents\\phong_document\\git\\resp_test\\test_yolo\\pod\\240703E6ZO4P.jpg remove C:\\Users\\duphong.hua\\Documents\\phong_document\\git\\resp_test\\test_yolo\\pod\\240703E6ZYDL.jpg remove C:\\Users\\duphong.hua\\Documents\\phong_document\\git\\resp_test\\test_yolo\\pod\\240703E70QJQ.jpg remove C:\\Users\\duphong.hua\\Documents\\phong_document\\git\\resp_test\\test_yolo\\pod\\240703E70QTG.jpg remove C:\\Users\\duphong.hua\\Documents\\phong_document\\git\\resp_test\\test_yolo\\pod\\240703E71JKF.jpg remove C:\\Users\\duphong.hua\\Documents\\phong_document\\git\\resp_test\\test_yolo\\pod\\240703E71K7R.jpg remove C:\\Users\\duphong.hua\\Documents\\phong_document\\git\\resp_test\\test_yolo\\pod\\240703E749FX.jpg remove C:\\Users\\duphong.hua\\Documents\\phong_document\\git\\resp_test\\test_yolo\\pod\\240703E76V6J.jpg remove C:\\Users\\duphong.hua\\Documents\\phong_document\\git\\resp_test\\test_yolo\\pod\\240703E771TN.jpg remove C:\\Users\\duphong.hua\\Documents\\phong_document\\git\\resp_test\\test_yolo\\pod\\240703E78KYQ.jpg remove C:\\Users\\duphong.hua\\Documents\\phong_document\\git\\resp_test\\test_yolo\\pod\\240703E79MCY.jpg remove C:\\Users\\duphong.hua\\Documents\\phong_document\\git\\resp_test\\test_yolo\\pod\\240703E79YQM.jpg remove C:\\Users\\duphong.hua\\Documents\\phong_document\\git\\resp_test\\test_yolo\\pod\\240703E7AJYJ.jpg remove C:\\Users\\duphong.hua\\Documents\\phong_document\\git\\resp_test\\test_yolo\\pod\\240703E7B00P.jpg remove C:\\Users\\duphong.hua\\Documents\\phong_document\\git\\resp_test\\test_yolo\\pod\\240703E7B5MG.jpg remove C:\\Users\\duphong.hua\\Documents\\phong_document\\git\\resp_test\\test_yolo\\pod\\240703E7BTTO.jpg remove C:\\Users\\duphong.hua\\Documents\\phong_document\\git\\resp_test\\test_yolo\\pod\\240703E7C5Y0.jpg remove C:\\Users\\duphong.hua\\Documents\\phong_document\\git\\resp_test\\test_yolo\\pod\\240703E7C98J.jpg remove C:\\Users\\duphong.hua\\Documents\\phong_document\\git\\resp_test\\test_yolo\\pod\\240703E7CQ26.jpg remove C:\\Users\\duphong.hua\\Documents\\phong_document\\git\\resp_test\\test_yolo\\pod\\240703E7EUMD.jpg remove C:\\Users\\duphong.hua\\Documents\\phong_document\\git\\resp_test\\test_yolo\\pod\\240703E7EYUB.jpg remove C:\\Users\\duphong.hua\\Documents\\phong_document\\git\\resp_test\\test_yolo\\pod\\240703E7GIFC.jpg remove C:\\Users\\duphong.hua\\Documents\\phong_document\\git\\resp_test\\test_yolo\\pod\\240703E7GTSF.jpg remove C:\\Users\\duphong.hua\\Documents\\phong_document\\git\\resp_test\\test_yolo\\pod\\240703E7J6VS.jpg remove C:\\Users\\duphong.hua\\Documents\\phong_document\\git\\resp_test\\test_yolo\\pod\\240703E7KI10.jpg remove C:\\Users\\duphong.hua\\Documents\\phong_document\\git\\resp_test\\test_yolo\\pod\\240703E7KXMO.jpg remove C:\\Users\\duphong.hua\\Documents\\phong_document\\git\\resp_test\\test_yolo\\pod\\240703E7L5H6.jpg remove C:\\Users\\duphong.hua\\Documents\\phong_document\\git\\resp_test\\test_yolo\\pod\\240703E7LD5U.jpg remove C:\\Users\\duphong.hua\\Documents\\phong_document\\git\\resp_test\\test_yolo\\pod\\240703E7LEHU.jpg remove C:\\Users\\duphong.hua\\Documents\\phong_document\\git\\resp_test\\test_yolo\\pod\\240703E7M5ZB.jpg remove C:\\Users\\duphong.hua\\Documents\\phong_document\\git\\resp_test\\test_yolo\\pod\\240703E7MH5I.jpg remove C:\\Users\\duphong.hua\\Documents\\phong_document\\git\\resp_test\\test_yolo\\pod\\240703E7MIGN.jpg remove C:\\Users\\duphong.hua\\Documents\\phong_document\\git\\resp_test\\test_yolo\\pod\\240703E7MPVV.jpg remove C:\\Users\\duphong.hua\\Documents\\phong_document\\git\\resp_test\\test_yolo\\pod\\240703E7NP8B.jpg remove C:\\Users\\duphong.hua\\Documents\\phong_document\\git\\resp_test\\test_yolo\\pod\\240703E7P4WI.jpg remove C:\\Users\\duphong.hua\\Documents\\phong_document\\git\\resp_test\\test_yolo\\pod\\240703E7P4YE.jpg remove C:\\Users\\duphong.hua\\Documents\\phong_document\\git\\resp_test\\test_yolo\\pod\\240703E7PB2I.jpg remove C:\\Users\\duphong.hua\\Documents\\phong_document\\git\\resp_test\\test_yolo\\pod\\240703E7Q3XO.jpg remove C:\\Users\\duphong.hua\\Documents\\phong_document\\git\\resp_test\\test_yolo\\pod\\240703E7QIFR.jpg remove C:\\Users\\duphong.hua\\Documents\\phong_document\\git\\resp_test\\test_yolo\\pod\\240703E7QJ4F.jpg remove C:\\Users\\duphong.hua\\Documents\\phong_document\\git\\resp_test\\test_yolo\\pod\\240703E7RZ4K.jpg remove C:\\Users\\duphong.hua\\Documents\\phong_document\\git\\resp_test\\test_yolo\\pod\\240703E7T6KL.jpg remove C:\\Users\\duphong.hua\\Documents\\phong_document\\git\\resp_test\\test_yolo\\pod\\240703E7W5A8.jpg remove C:\\Users\\duphong.hua\\Documents\\phong_document\\git\\resp_test\\test_yolo\\pod\\240703E7WOKB.jpg remove C:\\Users\\duphong.hua\\Documents\\phong_document\\git\\resp_test\\test_yolo\\pod\\240703E7X6WC.jpg remove C:\\Users\\duphong.hua\\Documents\\phong_document\\git\\resp_test\\test_yolo\\pod\\240703E7Y33F.jpg remove C:\\Users\\duphong.hua\\Documents\\phong_document\\git\\resp_test\\test_yolo\\pod\\240703E7YC2G.jpg remove C:\\Users\\duphong.hua\\Documents\\phong_document\\git\\resp_test\\test_yolo\\pod\\240703E7YEDL.jpg remove C:\\Users\\duphong.hua\\Documents\\phong_document\\git\\resp_test\\test_yolo\\pod\\240703E7YS2Y.jpg remove C:\\Users\\duphong.hua\\Documents\\phong_document\\git\\resp_test\\test_yolo\\pod\\240703E80O1N.jpg remove C:\\Users\\duphong.hua\\Documents\\phong_document\\git\\resp_test\\test_yolo\\pod\\240703E81EJJ.jpg remove C:\\Users\\duphong.hua\\Documents\\phong_document\\git\\resp_test\\test_yolo\\pod\\240703E82483.jpg remove C:\\Users\\duphong.hua\\Documents\\phong_document\\git\\resp_test\\test_yolo\\pod\\240703E83US4.jpg remove C:\\Users\\duphong.hua\\Documents\\phong_document\\git\\resp_test\\test_yolo\\pod\\240703E841Z5.jpg remove C:\\Users\\duphong.hua\\Documents\\phong_document\\git\\resp_test\\test_yolo\\pod\\240703E84R14.jpg remove C:\\Users\\duphong.hua\\Documents\\phong_document\\git\\resp_test\\test_yolo\\pod\\240703E85L4T.jpg remove C:\\Users\\duphong.hua\\Documents\\phong_document\\git\\resp_test\\test_yolo\\pod\\240703E88WN4.jpg remove C:\\Users\\duphong.hua\\Documents\\phong_document\\git\\resp_test\\test_yolo\\pod\\240703E88XKK.jpg remove C:\\Users\\duphong.hua\\Documents\\phong_document\\git\\resp_test\\test_yolo\\pod\\240703E88ZZT.jpg remove C:\\Users\\duphong.hua\\Documents\\phong_document\\git\\resp_test\\test_yolo\\pod\\240703E895TZ.jpg remove C:\\Users\\duphong.hua\\Documents\\phong_document\\git\\resp_test\\test_yolo\\pod\\240703E89Q3Z.jpg remove C:\\Users\\duphong.hua\\Documents\\phong_document\\git\\resp_test\\test_yolo\\pod\\240703E8A4W0.jpg remove C:\\Users\\duphong.hua\\Documents\\phong_document\\git\\resp_test\\test_yolo\\pod\\240703E8D2BN.jpg remove C:\\Users\\duphong.hua\\Documents\\phong_document\\git\\resp_test\\test_yolo\\pod\\240703E8DF3G.jpg remove C:\\Users\\duphong.hua\\Documents\\phong_document\\git\\resp_test\\test_yolo\\pod\\240703E8DTII.jpg remove C:\\Users\\duphong.hua\\Documents\\phong_document\\git\\resp_test\\test_yolo\\pod\\240703E8E4JR.jpg remove C:\\Users\\duphong.hua\\Documents\\phong_document\\git\\resp_test\\test_yolo\\pod\\240703E8FRQR.jpg remove C:\\Users\\duphong.hua\\Documents\\phong_document\\git\\resp_test\\test_yolo\\pod\\240703E8G4R8.jpg remove C:\\Users\\duphong.hua\\Documents\\phong_document\\git\\resp_test\\test_yolo\\pod\\240703E8GTDN.jpg remove C:\\Users\\duphong.hua\\Documents\\phong_document\\git\\resp_test\\test_yolo\\pod\\240703E8H91S.jpg remove C:\\Users\\duphong.hua\\Documents\\phong_document\\git\\resp_test\\test_yolo\\pod\\240703E8HOT1.jpg remove C:\\Users\\duphong.hua\\Documents\\phong_document\\git\\resp_test\\test_yolo\\pod\\240703E8I5M2.jpg remove C:\\Users\\duphong.hua\\Documents\\phong_document\\git\\resp_test\\test_yolo\\pod\\240703E8JTQK.jpg remove C:\\Users\\duphong.hua\\Documents\\phong_document\\git\\resp_test\\test_yolo\\pod\\240703E8JX9T.jpg remove C:\\Users\\duphong.hua\\Documents\\phong_document\\git\\resp_test\\test_yolo\\pod\\240703E8KOLH.jpg remove C:\\Users\\duphong.hua\\Documents\\phong_document\\git\\resp_test\\test_yolo\\pod\\240703E8LFF1.jpg remove C:\\Users\\duphong.hua\\Documents\\phong_document\\git\\resp_test\\test_yolo\\pod\\240703E8LOX2.jpg remove C:\\Users\\duphong.hua\\Documents\\phong_document\\git\\resp_test\\test_yolo\\pod\\240703E8LY2S.jpg remove C:\\Users\\duphong.hua\\Documents\\phong_document\\git\\resp_test\\test_yolo\\pod\\240703E8MW72.jpg remove C:\\Users\\duphong.hua\\Documents\\phong_document\\git\\resp_test\\test_yolo\\pod\\240703E8NLCN.jpg remove C:\\Users\\duphong.hua\\Documents\\phong_document\\git\\resp_test\\test_yolo\\pod\\240703E8O3ER.jpg remove C:\\Users\\duphong.hua\\Documents\\phong_document\\git\\resp_test\\test_yolo\\pod\\240703E8OJ0H.jpg remove C:\\Users\\duphong.hua\\Documents\\phong_document\\git\\resp_test\\test_yolo\\pod\\240703E8ONQE.jpg remove C:\\Users\\duphong.hua\\Documents\\phong_document\\git\\resp_test\\test_yolo\\pod\\240703E8OR6J.jpg remove C:\\Users\\duphong.hua\\Documents\\phong_document\\git\\resp_test\\test_yolo\\pod\\240703E8ORKG.jpg remove C:\\Users\\duphong.hua\\Documents\\phong_document\\git\\resp_test\\test_yolo\\pod\\240703E8OY54.jpg remove C:\\Users\\duphong.hua\\Documents\\phong_document\\git\\resp_test\\test_yolo\\pod\\240703E8P3US.jpg remove C:\\Users\\duphong.hua\\Documents\\phong_document\\git\\resp_test\\test_yolo\\pod\\240703E8PAGN.jpg remove C:\\Users\\duphong.hua\\Documents\\phong_document\\git\\resp_test\\test_yolo\\pod\\240703E8Q01K.jpg remove C:\\Users\\duphong.hua\\Documents\\phong_document\\git\\resp_test\\test_yolo\\pod\\240703E8Q4TW.jpg remove C:\\Users\\duphong.hua\\Documents\\phong_document\\git\\resp_test\\test_yolo\\pod\\240703E8QVHS.jpg remove C:\\Users\\duphong.hua\\Documents\\phong_document\\git\\resp_test\\test_yolo\\pod\\240703E8SPC3.jpg remove C:\\Users\\duphong.hua\\Documents\\phong_document\\git\\resp_test\\test_yolo\\pod\\240703E8T017.jpg remove C:\\Users\\duphong.hua\\Documents\\phong_document\\git\\resp_test\\test_yolo\\pod\\240703E8TIJB.jpg remove C:\\Users\\duphong.hua\\Documents\\phong_document\\git\\resp_test\\test_yolo\\pod\\240703E8UHX8.jpg remove C:\\Users\\duphong.hua\\Documents\\phong_document\\git\\resp_test\\test_yolo\\pod\\240703E8VB0Y.jpg remove C:\\Users\\duphong.hua\\Documents\\phong_document\\git\\resp_test\\test_yolo\\pod\\240703E8VQ30.jpg remove C:\\Users\\duphong.hua\\Documents\\phong_document\\git\\resp_test\\test_yolo\\pod\\240703E8W6ZU.jpg remove C:\\Users\\duphong.hua\\Documents\\phong_document\\git\\resp_test\\test_yolo\\pod\\240703E8XEU9.jpg remove C:\\Users\\duphong.hua\\Documents\\phong_document\\git\\resp_test\\test_yolo\\pod\\240703E8XVS5.jpg remove C:\\Users\\duphong.hua\\Documents\\phong_document\\git\\resp_test\\test_yolo\\pod\\240703E8ZPU4.jpg remove C:\\Users\\duphong.hua\\Documents\\phong_document\\git\\resp_test\\test_yolo\\pod\\240703E90Y2T.jpg remove C:\\Users\\duphong.hua\\Documents\\phong_document\\git\\resp_test\\test_yolo\\pod\\240703E91XV0.jpg remove C:\\Users\\duphong.hua\\Documents\\phong_document\\git\\resp_test\\test_yolo\\pod\\240703E93ET1.jpg remove C:\\Users\\duphong.hua\\Documents\\phong_document\\git\\resp_test\\test_yolo\\pod\\240703E93Z3K.jpg remove C:\\Users\\duphong.hua\\Documents\\phong_document\\git\\resp_test\\test_yolo\\pod\\240703E94ZHY.jpg remove C:\\Users\\duphong.hua\\Documents\\phong_document\\git\\resp_test\\test_yolo\\pod\\240703E975RN.jpg remove C:\\Users\\duphong.hua\\Documents\\phong_document\\git\\resp_test\\test_yolo\\pod\\240703E97786.jpg remove C:\\Users\\duphong.hua\\Documents\\phong_document\\git\\resp_test\\test_yolo\\pod\\240703E99NIZ.jpg remove C:\\Users\\duphong.hua\\Documents\\phong_document\\git\\resp_test\\test_yolo\\pod\\240703E99NX3.jpg remove C:\\Users\\duphong.hua\\Documents\\phong_document\\git\\resp_test\\test_yolo\\pod\\240703E99UIE.jpg remove C:\\Users\\duphong.hua\\Documents\\phong_document\\git\\resp_test\\test_yolo\\pod\\240703E9ACAR.jpg remove C:\\Users\\duphong.hua\\Documents\\phong_document\\git\\resp_test\\test_yolo\\pod\\240703E9B0J7.jpg remove C:\\Users\\duphong.hua\\Documents\\phong_document\\git\\resp_test\\test_yolo\\pod\\240703E9D6R4.jpg remove C:\\Users\\duphong.hua\\Documents\\phong_document\\git\\resp_test\\test_yolo\\pod\\240703E9DSYA.jpg remove C:\\Users\\duphong.hua\\Documents\\phong_document\\git\\resp_test\\test_yolo\\pod\\240703E9E1SH.jpg remove C:\\Users\\duphong.hua\\Documents\\phong_document\\git\\resp_test\\test_yolo\\pod\\240703E9EALP.jpg remove C:\\Users\\duphong.hua\\Documents\\phong_document\\git\\resp_test\\test_yolo\\pod\\240703E9EBSY.jpg remove C:\\Users\\duphong.hua\\Documents\\phong_document\\git\\resp_test\\test_yolo\\pod\\240703E9ECKU.jpg remove C:\\Users\\duphong.hua\\Documents\\phong_document\\git\\resp_test\\test_yolo\\pod\\240703E9ELHM.jpg remove C:\\Users\\duphong.hua\\Documents\\phong_document\\git\\resp_test\\test_yolo\\pod\\240703E9F39B.jpg remove C:\\Users\\duphong.hua\\Documents\\phong_document\\git\\resp_test\\test_yolo\\pod\\240703E9F4MT.jpg remove C:\\Users\\duphong.hua\\Documents\\phong_document\\git\\resp_test\\test_yolo\\pod\\240703E9FMSU.jpg remove C:\\Users\\duphong.hua\\Documents\\phong_document\\git\\resp_test\\test_yolo\\pod\\240703E9H5P7.jpg remove C:\\Users\\duphong.hua\\Documents\\phong_document\\git\\resp_test\\test_yolo\\pod\\240703E9HNTP.jpg remove C:\\Users\\duphong.hua\\Documents\\phong_document\\git\\resp_test\\test_yolo\\pod\\240703E9I5JZ.jpg remove C:\\Users\\duphong.hua\\Documents\\phong_document\\git\\resp_test\\test_yolo\\pod\\240703E9J1Q2.jpg remove C:\\Users\\duphong.hua\\Documents\\phong_document\\git\\resp_test\\test_yolo\\pod\\240703E9LLAA.jpg remove C:\\Users\\duphong.hua\\Documents\\phong_document\\git\\resp_test\\test_yolo\\pod\\240703E9LU8X.jpg remove C:\\Users\\duphong.hua\\Documents\\phong_document\\git\\resp_test\\test_yolo\\pod\\240703E9M28T.jpg remove C:\\Users\\duphong.hua\\Documents\\phong_document\\git\\resp_test\\test_yolo\\pod\\240703E9MGIC.jpg remove C:\\Users\\duphong.hua\\Documents\\phong_document\\git\\resp_test\\test_yolo\\pod\\240703E9MUK9.jpg remove C:\\Users\\duphong.hua\\Documents\\phong_document\\git\\resp_test\\test_yolo\\pod\\240703E9MW9H.jpg remove C:\\Users\\duphong.hua\\Documents\\phong_document\\git\\resp_test\\test_yolo\\pod\\240703E9NG68.jpg remove C:\\Users\\duphong.hua\\Documents\\phong_document\\git\\resp_test\\test_yolo\\pod\\240703E9NU7N.jpg remove C:\\Users\\duphong.hua\\Documents\\phong_document\\git\\resp_test\\test_yolo\\pod\\240703E9O6H8.jpg remove C:\\Users\\duphong.hua\\Documents\\phong_document\\git\\resp_test\\test_yolo\\pod\\240703E9PVNR.jpg remove C:\\Users\\duphong.hua\\Documents\\phong_document\\git\\resp_test\\test_yolo\\pod\\240703E9PVRQ.jpg remove C:\\Users\\duphong.hua\\Documents\\phong_document\\git\\resp_test\\test_yolo\\pod\\240703E9Q5AE.jpg remove C:\\Users\\duphong.hua\\Documents\\phong_document\\git\\resp_test\\test_yolo\\pod\\240703E9R7Z3.jpg remove C:\\Users\\duphong.hua\\Documents\\phong_document\\git\\resp_test\\test_yolo\\pod\\240703E9STFQ.jpg remove C:\\Users\\duphong.hua\\Documents\\phong_document\\git\\resp_test\\test_yolo\\pod\\240703E9T2BM.jpg remove C:\\Users\\duphong.hua\\Documents\\phong_document\\git\\resp_test\\test_yolo\\pod\\240703E9TXB8.jpg remove C:\\Users\\duphong.hua\\Documents\\phong_document\\git\\resp_test\\test_yolo\\pod\\240703E9U2A7.jpg remove C:\\Users\\duphong.hua\\Documents\\phong_document\\git\\resp_test\\test_yolo\\pod\\240703E9VVRX.jpg remove C:\\Users\\duphong.hua\\Documents\\phong_document\\git\\resp_test\\test_yolo\\pod\\240703E9XSY7.jpg remove C:\\Users\\duphong.hua\\Documents\\phong_document\\git\\resp_test\\test_yolo\\pod\\240703E9XV1L.jpg remove C:\\Users\\duphong.hua\\Documents\\phong_document\\git\\resp_test\\test_yolo\\pod\\240703E9YZGV.jpg remove C:\\Users\\duphong.hua\\Documents\\phong_document\\git\\resp_test\\test_yolo\\pod\\240703E9ZYWG.jpg remove C:\\Users\\duphong.hua\\Documents\\phong_document\\git\\resp_test\\test_yolo\\pod\\240703EA10EV.jpg remove C:\\Users\\duphong.hua\\Documents\\phong_document\\git\\resp_test\\test_yolo\\pod\\240703EA1RY0.jpg remove C:\\Users\\duphong.hua\\Documents\\phong_document\\git\\resp_test\\test_yolo\\pod\\240703EA2BHG.jpg remove C:\\Users\\duphong.hua\\Documents\\phong_document\\git\\resp_test\\test_yolo\\pod\\240703EA3KSW.jpg remove C:\\Users\\duphong.hua\\Documents\\phong_document\\git\\resp_test\\test_yolo\\pod\\240703EA3T0R.jpg remove C:\\Users\\duphong.hua\\Documents\\phong_document\\git\\resp_test\\test_yolo\\pod\\240703EA4CO1.jpg remove C:\\Users\\duphong.hua\\Documents\\phong_document\\git\\resp_test\\test_yolo\\pod\\240703EA4DMO.jpg remove C:\\Users\\duphong.hua\\Documents\\phong_document\\git\\resp_test\\test_yolo\\pod\\240703EA52DF.jpg remove C:\\Users\\duphong.hua\\Documents\\phong_document\\git\\resp_test\\test_yolo\\pod\\240703EA66MX.jpg remove C:\\Users\\duphong.hua\\Documents\\phong_document\\git\\resp_test\\test_yolo\\pod\\240703EA6CPJ.jpg remove C:\\Users\\duphong.hua\\Documents\\phong_document\\git\\resp_test\\test_yolo\\pod\\240703EA6VLM.jpg remove C:\\Users\\duphong.hua\\Documents\\phong_document\\git\\resp_test\\test_yolo\\pod\\240703EAC74C.jpg remove C:\\Users\\duphong.hua\\Documents\\phong_document\\git\\resp_test\\test_yolo\\pod\\240703EAD4C1.jpg remove C:\\Users\\duphong.hua\\Documents\\phong_document\\git\\resp_test\\test_yolo\\pod\\240703EADMYH.jpg remove C:\\Users\\duphong.hua\\Documents\\phong_document\\git\\resp_test\\test_yolo\\pod\\240703EAEP6Q.jpg remove C:\\Users\\duphong.hua\\Documents\\phong_document\\git\\resp_test\\test_yolo\\pod\\240703EAF2TG.jpg remove C:\\Users\\duphong.hua\\Documents\\phong_document\\git\\resp_test\\test_yolo\\pod\\240703EAGV4I.jpg remove C:\\Users\\duphong.hua\\Documents\\phong_document\\git\\resp_test\\test_yolo\\pod\\240703EAIERH.jpg remove C:\\Users\\duphong.hua\\Documents\\phong_document\\git\\resp_test\\test_yolo\\pod\\240703EAJAA1.jpg remove C:\\Users\\duphong.hua\\Documents\\phong_document\\git\\resp_test\\test_yolo\\pod\\240703EAJOR8.jpg remove C:\\Users\\duphong.hua\\Documents\\phong_document\\git\\resp_test\\test_yolo\\pod\\240703EAKFAK.jpg remove C:\\Users\\duphong.hua\\Documents\\phong_document\\git\\resp_test\\test_yolo\\pod\\240703EAO0R8.jpg remove C:\\Users\\duphong.hua\\Documents\\phong_document\\git\\resp_test\\test_yolo\\pod\\240703EAQNK5.jpg remove C:\\Users\\duphong.hua\\Documents\\phong_document\\git\\resp_test\\test_yolo\\pod\\240703EAS3YJ.jpg remove C:\\Users\\duphong.hua\\Documents\\phong_document\\git\\resp_test\\test_yolo\\pod\\240703EATRXI.jpg remove C:\\Users\\duphong.hua\\Documents\\phong_document\\git\\resp_test\\test_yolo\\pod\\240703EATV7N.jpg remove C:\\Users\\duphong.hua\\Documents\\phong_document\\git\\resp_test\\test_yolo\\pod\\240703EAU1I6.jpg remove C:\\Users\\duphong.hua\\Documents\\phong_document\\git\\resp_test\\test_yolo\\pod\\240703EAU9IK.jpg remove C:\\Users\\duphong.hua\\Documents\\phong_document\\git\\resp_test\\test_yolo\\pod\\240703EAUX2A.jpg remove C:\\Users\\duphong.hua\\Documents\\phong_document\\git\\resp_test\\test_yolo\\pod\\240703EAV4DI.jpg remove C:\\Users\\duphong.hua\\Documents\\phong_document\\git\\resp_test\\test_yolo\\pod\\240703EAWTGC.jpg remove C:\\Users\\duphong.hua\\Documents\\phong_document\\git\\resp_test\\test_yolo\\pod\\240703EAXFQE.jpg remove C:\\Users\\duphong.hua\\Documents\\phong_document\\git\\resp_test\\test_yolo\\pod\\240703EAYJ0O.jpg remove C:\\Users\\duphong.hua\\Documents\\phong_document\\git\\resp_test\\test_yolo\\pod\\240703EAYYHN.jpg remove C:\\Users\\duphong.hua\\Documents\\phong_document\\git\\resp_test\\test_yolo\\pod\\240703EAZ3KD.jpg remove C:\\Users\\duphong.hua\\Documents\\phong_document\\git\\resp_test\\test_yolo\\pod\\240703EB3QEX.jpg remove C:\\Users\\duphong.hua\\Documents\\phong_document\\git\\resp_test\\test_yolo\\pod\\240703EB42CK.jpg remove C:\\Users\\duphong.hua\\Documents\\phong_document\\git\\resp_test\\test_yolo\\pod\\240703EB4X3D.jpg remove C:\\Users\\duphong.hua\\Documents\\phong_document\\git\\resp_test\\test_yolo\\pod\\240703EB5VNC.jpg remove C:\\Users\\duphong.hua\\Documents\\phong_document\\git\\resp_test\\test_yolo\\pod\\240703EB6I19.jpg remove C:\\Users\\duphong.hua\\Documents\\phong_document\\git\\resp_test\\test_yolo\\pod\\240703EB6JX8.jpg remove C:\\Users\\duphong.hua\\Documents\\phong_document\\git\\resp_test\\test_yolo\\pod\\240703EB6PLB.jpg remove C:\\Users\\duphong.hua\\Documents\\phong_document\\git\\resp_test\\test_yolo\\pod\\240703EB92IU.jpg remove C:\\Users\\duphong.hua\\Documents\\phong_document\\git\\resp_test\\test_yolo\\pod\\240703EB9BZT.jpg remove C:\\Users\\duphong.hua\\Documents\\phong_document\\git\\resp_test\\test_yolo\\pod\\240703EB9NAS.jpg remove C:\\Users\\duphong.hua\\Documents\\phong_document\\git\\resp_test\\test_yolo\\pod\\240703EBACYK.jpg remove C:\\Users\\duphong.hua\\Documents\\phong_document\\git\\resp_test\\test_yolo\\pod\\240703EBCDVO.jpg remove C:\\Users\\duphong.hua\\Documents\\phong_document\\git\\resp_test\\test_yolo\\pod\\240703EBCFZU.jpg remove C:\\Users\\duphong.hua\\Documents\\phong_document\\git\\resp_test\\test_yolo\\pod\\240703EBCO9Q.jpg remove C:\\Users\\duphong.hua\\Documents\\phong_document\\git\\resp_test\\test_yolo\\pod\\240703EBCUT2.jpg remove C:\\Users\\duphong.hua\\Documents\\phong_document\\git\\resp_test\\test_yolo\\pod\\240703EBEEGA.jpg remove C:\\Users\\duphong.hua\\Documents\\phong_document\\git\\resp_test\\test_yolo\\pod\\240703EBJECJ.jpg remove C:\\Users\\duphong.hua\\Documents\\phong_document\\git\\resp_test\\test_yolo\\pod\\240703EBMPB3.jpg remove C:\\Users\\duphong.hua\\Documents\\phong_document\\git\\resp_test\\test_yolo\\pod\\240703EBOOWB.jpg remove C:\\Users\\duphong.hua\\Documents\\phong_document\\git\\resp_test\\test_yolo\\pod\\240703EBQPA9.jpg remove C:\\Users\\duphong.hua\\Documents\\phong_document\\git\\resp_test\\test_yolo\\pod\\240703EBRBOX.jpg remove C:\\Users\\duphong.hua\\Documents\\phong_document\\git\\resp_test\\test_yolo\\pod\\240703EBRXHI.jpg remove C:\\Users\\duphong.hua\\Documents\\phong_document\\git\\resp_test\\test_yolo\\pod\\240703EBSH8H.jpg remove C:\\Users\\duphong.hua\\Documents\\phong_document\\git\\resp_test\\test_yolo\\pod\\240703EBSQRG.jpg remove C:\\Users\\duphong.hua\\Documents\\phong_document\\git\\resp_test\\test_yolo\\pod\\240703EBTX7R.jpg remove C:\\Users\\duphong.hua\\Documents\\phong_document\\git\\resp_test\\test_yolo\\pod\\240703EBUEQ6.jpg remove C:\\Users\\duphong.hua\\Documents\\phong_document\\git\\resp_test\\test_yolo\\pod\\240703EBVCMU.jpg remove C:\\Users\\duphong.hua\\Documents\\phong_document\\git\\resp_test\\test_yolo\\pod\\240703EBXESX.jpg remove C:\\Users\\duphong.hua\\Documents\\phong_document\\git\\resp_test\\test_yolo\\pod\\240703EBYO5S.jpg remove C:\\Users\\duphong.hua\\Documents\\phong_document\\git\\resp_test\\test_yolo\\pod\\240703EC1LY5.jpg remove C:\\Users\\duphong.hua\\Documents\\phong_document\\git\\resp_test\\test_yolo\\pod\\240703EC1NJR.jpg remove C:\\Users\\duphong.hua\\Documents\\phong_document\\git\\resp_test\\test_yolo\\pod\\240703EC6IT5.jpg remove C:\\Users\\duphong.hua\\Documents\\phong_document\\git\\resp_test\\test_yolo\\pod\\240703EC7B8L.jpg remove C:\\Users\\duphong.hua\\Documents\\phong_document\\git\\resp_test\\test_yolo\\pod\\240703EC8UR3.jpg remove C:\\Users\\duphong.hua\\Documents\\phong_document\\git\\resp_test\\test_yolo\\pod\\240703EC9VQE.jpg remove C:\\Users\\duphong.hua\\Documents\\phong_document\\git\\resp_test\\test_yolo\\pod\\240703ECANHC.jpg remove C:\\Users\\duphong.hua\\Documents\\phong_document\\git\\resp_test\\test_yolo\\pod\\240703ECAQJV.jpg remove C:\\Users\\duphong.hua\\Documents\\phong_document\\git\\resp_test\\test_yolo\\pod\\240703ECB6W2.jpg remove C:\\Users\\duphong.hua\\Documents\\phong_document\\git\\resp_test\\test_yolo\\pod\\240703ECBNN6.jpg remove C:\\Users\\duphong.hua\\Documents\\phong_document\\git\\resp_test\\test_yolo\\pod\\240703ECBT99.jpg remove C:\\Users\\duphong.hua\\Documents\\phong_document\\git\\resp_test\\test_yolo\\pod\\240703ECCRRD.jpg remove C:\\Users\\duphong.hua\\Documents\\phong_document\\git\\resp_test\\test_yolo\\pod\\240703ECDSX4.jpg remove C:\\Users\\duphong.hua\\Documents\\phong_document\\git\\resp_test\\test_yolo\\pod\\240703ECEXMP.jpg remove C:\\Users\\duphong.hua\\Documents\\phong_document\\git\\resp_test\\test_yolo\\pod\\240703ECF1YT.jpg remove C:\\Users\\duphong.hua\\Documents\\phong_document\\git\\resp_test\\test_yolo\\pod\\240703ECFBSX.jpg remove C:\\Users\\duphong.hua\\Documents\\phong_document\\git\\resp_test\\test_yolo\\pod\\240703ECFJKQ.jpg remove C:\\Users\\duphong.hua\\Documents\\phong_document\\git\\resp_test\\test_yolo\\pod\\240703ECGPPE.jpg remove C:\\Users\\duphong.hua\\Documents\\phong_document\\git\\resp_test\\test_yolo\\pod\\240703ECHJU1.jpg remove C:\\Users\\duphong.hua\\Documents\\phong_document\\git\\resp_test\\test_yolo\\pod\\240703ECIH3F.jpg remove C:\\Users\\duphong.hua\\Documents\\phong_document\\git\\resp_test\\test_yolo\\pod\\240703ECJPXL.jpg remove C:\\Users\\duphong.hua\\Documents\\phong_document\\git\\resp_test\\test_yolo\\pod\\240703ECLV52.jpg remove C:\\Users\\duphong.hua\\Documents\\phong_document\\git\\resp_test\\test_yolo\\pod\\240703ECN2WG.jpg remove C:\\Users\\duphong.hua\\Documents\\phong_document\\git\\resp_test\\test_yolo\\pod\\240703ECNMIX.jpg remove C:\\Users\\duphong.hua\\Documents\\phong_document\\git\\resp_test\\test_yolo\\pod\\240703ECNXSF.jpg remove C:\\Users\\duphong.hua\\Documents\\phong_document\\git\\resp_test\\test_yolo\\pod\\240703ECODJA.jpg remove C:\\Users\\duphong.hua\\Documents\\phong_document\\git\\resp_test\\test_yolo\\pod\\240703ECPAYB.jpg remove C:\\Users\\duphong.hua\\Documents\\phong_document\\git\\resp_test\\test_yolo\\pod\\240703ECPTTN.jpg remove C:\\Users\\duphong.hua\\Documents\\phong_document\\git\\resp_test\\test_yolo\\pod\\240703ECR62F.jpg remove C:\\Users\\duphong.hua\\Documents\\phong_document\\git\\resp_test\\test_yolo\\pod\\240703ECR6SY.jpg remove C:\\Users\\duphong.hua\\Documents\\phong_document\\git\\resp_test\\test_yolo\\pod\\240703ECRESY.jpg remove C:\\Users\\duphong.hua\\Documents\\phong_document\\git\\resp_test\\test_yolo\\pod\\240703ECS0LE.jpg remove C:\\Users\\duphong.hua\\Documents\\phong_document\\git\\resp_test\\test_yolo\\pod\\240703ECTRJN.jpg remove C:\\Users\\duphong.hua\\Documents\\phong_document\\git\\resp_test\\test_yolo\\pod\\240703ECVA6F.jpg remove C:\\Users\\duphong.hua\\Documents\\phong_document\\git\\resp_test\\test_yolo\\pod\\240703ECVCEL.jpg remove C:\\Users\\duphong.hua\\Documents\\phong_document\\git\\resp_test\\test_yolo\\pod\\240703ECWLWM.jpg remove C:\\Users\\duphong.hua\\Documents\\phong_document\\git\\resp_test\\test_yolo\\pod\\240703ECX4R9.jpg remove C:\\Users\\duphong.hua\\Documents\\phong_document\\git\\resp_test\\test_yolo\\pod\\240703ECX66U.jpg remove C:\\Users\\duphong.hua\\Documents\\phong_document\\git\\resp_test\\test_yolo\\pod\\240703ECXE17.jpg remove C:\\Users\\duphong.hua\\Documents\\phong_document\\git\\resp_test\\test_yolo\\pod\\240703ECXO8O.jpg remove C:\\Users\\duphong.hua\\Documents\\phong_document\\git\\resp_test\\test_yolo\\pod\\240703ECY6P7.jpg remove C:\\Users\\duphong.hua\\Documents\\phong_document\\git\\resp_test\\test_yolo\\pod\\240703ECY85N.jpg remove C:\\Users\\duphong.hua\\Documents\\phong_document\\git\\resp_test\\test_yolo\\pod\\240703ECYIOJ.jpg remove C:\\Users\\duphong.hua\\Documents\\phong_document\\git\\resp_test\\test_yolo\\pod\\240703ECZMO4.jpg remove C:\\Users\\duphong.hua\\Documents\\phong_document\\git\\resp_test\\test_yolo\\pod\\240703ED03LZ.jpg remove C:\\Users\\duphong.hua\\Documents\\phong_document\\git\\resp_test\\test_yolo\\pod\\240703ED2MJ9.jpg remove C:\\Users\\duphong.hua\\Documents\\phong_document\\git\\resp_test\\test_yolo\\pod\\240703ED480Y.jpg remove C:\\Users\\duphong.hua\\Documents\\phong_document\\git\\resp_test\\test_yolo\\pod\\240703ED5BQU.jpg remove C:\\Users\\duphong.hua\\Documents\\phong_document\\git\\resp_test\\test_yolo\\pod\\240703ED6G6R.jpg remove C:\\Users\\duphong.hua\\Documents\\phong_document\\git\\resp_test\\test_yolo\\pod\\240703ED6PAW.jpg remove C:\\Users\\duphong.hua\\Documents\\phong_document\\git\\resp_test\\test_yolo\\pod\\240703ED76CU.jpg remove C:\\Users\\duphong.hua\\Documents\\phong_document\\git\\resp_test\\test_yolo\\pod\\240703ED8157.jpg remove C:\\Users\\duphong.hua\\Documents\\phong_document\\git\\resp_test\\test_yolo\\pod\\240703ED8X7Z.jpg remove C:\\Users\\duphong.hua\\Documents\\phong_document\\git\\resp_test\\test_yolo\\pod\\240703ED96HX.jpg remove C:\\Users\\duphong.hua\\Documents\\phong_document\\git\\resp_test\\test_yolo\\pod\\240703ED9S7K.jpg remove C:\\Users\\duphong.hua\\Documents\\phong_document\\git\\resp_test\\test_yolo\\pod\\240703EDCX4Y.jpg remove C:\\Users\\duphong.hua\\Documents\\phong_document\\git\\resp_test\\test_yolo\\pod\\240703EDD3EN.jpg remove C:\\Users\\duphong.hua\\Documents\\phong_document\\git\\resp_test\\test_yolo\\pod\\240703EDE9Z8.jpg remove C:\\Users\\duphong.hua\\Documents\\phong_document\\git\\resp_test\\test_yolo\\pod\\240703EDET1Y.jpg remove C:\\Users\\duphong.hua\\Documents\\phong_document\\git\\resp_test\\test_yolo\\pod\\240703EDF4LT.jpg remove C:\\Users\\duphong.hua\\Documents\\phong_document\\git\\resp_test\\test_yolo\\pod\\240703EDFCY3.jpg remove C:\\Users\\duphong.hua\\Documents\\phong_document\\git\\resp_test\\test_yolo\\pod\\240703EDGBOU.jpg remove C:\\Users\\duphong.hua\\Documents\\phong_document\\git\\resp_test\\test_yolo\\pod\\240703EDHNYI.jpg remove C:\\Users\\duphong.hua\\Documents\\phong_document\\git\\resp_test\\test_yolo\\pod\\240703EDIFGD.jpg remove C:\\Users\\duphong.hua\\Documents\\phong_document\\git\\resp_test\\test_yolo\\pod\\240703EDIUXI.jpg remove C:\\Users\\duphong.hua\\Documents\\phong_document\\git\\resp_test\\test_yolo\\pod\\240703EDJHQV.jpg remove C:\\Users\\duphong.hua\\Documents\\phong_document\\git\\resp_test\\test_yolo\\pod\\240703EDJR90.jpg remove C:\\Users\\duphong.hua\\Documents\\phong_document\\git\\resp_test\\test_yolo\\pod\\240703EDKRGD.jpg remove C:\\Users\\duphong.hua\\Documents\\phong_document\\git\\resp_test\\test_yolo\\pod\\240703EDLTLK.jpg remove C:\\Users\\duphong.hua\\Documents\\phong_document\\git\\resp_test\\test_yolo\\pod\\240703EDLU9E.jpg remove C:\\Users\\duphong.hua\\Documents\\phong_document\\git\\resp_test\\test_yolo\\pod\\240703EDM85C.jpg remove C:\\Users\\duphong.hua\\Documents\\phong_document\\git\\resp_test\\test_yolo\\pod\\240703EDMNTZ.jpg remove C:\\Users\\duphong.hua\\Documents\\phong_document\\git\\resp_test\\test_yolo\\pod\\240703EDMQSX.jpg remove C:\\Users\\duphong.hua\\Documents\\phong_document\\git\\resp_test\\test_yolo\\pod\\240703EDMT4X.jpg remove C:\\Users\\duphong.hua\\Documents\\phong_document\\git\\resp_test\\test_yolo\\pod\\240703EDNY9G.jpg remove C:\\Users\\duphong.hua\\Documents\\phong_document\\git\\resp_test\\test_yolo\\pod\\240703EDNYT0.jpg remove C:\\Users\\duphong.hua\\Documents\\phong_document\\git\\resp_test\\test_yolo\\pod\\240703EDONXI.jpg remove C:\\Users\\duphong.hua\\Documents\\phong_document\\git\\resp_test\\test_yolo\\pod\\240703EDOSYZ.jpg remove C:\\Users\\duphong.hua\\Documents\\phong_document\\git\\resp_test\\test_yolo\\pod\\240703EDP7NP.jpg remove C:\\Users\\duphong.hua\\Documents\\phong_document\\git\\resp_test\\test_yolo\\pod\\240703EDQDGZ.jpg remove C:\\Users\\duphong.hua\\Documents\\phong_document\\git\\resp_test\\test_yolo\\pod\\240703EDRFO2.jpg remove C:\\Users\\duphong.hua\\Documents\\phong_document\\git\\resp_test\\test_yolo\\pod\\240703EDRRFW.jpg remove C:\\Users\\duphong.hua\\Documents\\phong_document\\git\\resp_test\\test_yolo\\pod\\240703EDRSXL.jpg remove C:\\Users\\duphong.hua\\Documents\\phong_document\\git\\resp_test\\test_yolo\\pod\\240703EDS8MQ.jpg remove C:\\Users\\duphong.hua\\Documents\\phong_document\\git\\resp_test\\test_yolo\\pod\\240703EDSFVJ.jpg remove C:\\Users\\duphong.hua\\Documents\\phong_document\\git\\resp_test\\test_yolo\\pod\\240703EDSXQ2.jpg remove C:\\Users\\duphong.hua\\Documents\\phong_document\\git\\resp_test\\test_yolo\\pod\\240703EDT05R.jpg remove C:\\Users\\duphong.hua\\Documents\\phong_document\\git\\resp_test\\test_yolo\\pod\\240703EDT06M.jpg remove C:\\Users\\duphong.hua\\Documents\\phong_document\\git\\resp_test\\test_yolo\\pod\\240703EDUEUU.jpg remove C:\\Users\\duphong.hua\\Documents\\phong_document\\git\\resp_test\\test_yolo\\pod\\240703EDULLT.jpg remove C:\\Users\\duphong.hua\\Documents\\phong_document\\git\\resp_test\\test_yolo\\pod\\240703EDULTF.jpg remove C:\\Users\\duphong.hua\\Documents\\phong_document\\git\\resp_test\\test_yolo\\pod\\240703EDV1YD.jpg remove C:\\Users\\duphong.hua\\Documents\\phong_document\\git\\resp_test\\test_yolo\\pod\\240703EDVNGW.jpg remove C:\\Users\\duphong.hua\\Documents\\phong_document\\git\\resp_test\\test_yolo\\pod\\240703EDW35V.jpg remove C:\\Users\\duphong.hua\\Documents\\phong_document\\git\\resp_test\\test_yolo\\pod\\240703EDWHZ8.jpg remove C:\\Users\\duphong.hua\\Documents\\phong_document\\git\\resp_test\\test_yolo\\pod\\240703EDWZU8.jpg remove C:\\Users\\duphong.hua\\Documents\\phong_document\\git\\resp_test\\test_yolo\\pod\\240703EDX5ZA.jpg remove C:\\Users\\duphong.hua\\Documents\\phong_document\\git\\resp_test\\test_yolo\\pod\\240703EDXPEZ.jpg remove C:\\Users\\duphong.hua\\Documents\\phong_document\\git\\resp_test\\test_yolo\\pod\\240703EDY643.jpg remove C:\\Users\\duphong.hua\\Documents\\phong_document\\git\\resp_test\\test_yolo\\pod\\240703EDY9E3.jpg remove C:\\Users\\duphong.hua\\Documents\\phong_document\\git\\resp_test\\test_yolo\\pod\\240703EDZ1S8.jpg remove C:\\Users\\duphong.hua\\Documents\\phong_document\\git\\resp_test\\test_yolo\\pod\\240703EDZE4C.jpg remove C:\\Users\\duphong.hua\\Documents\\phong_document\\git\\resp_test\\test_yolo\\pod\\240703EE2DL4.jpg remove C:\\Users\\duphong.hua\\Documents\\phong_document\\git\\resp_test\\test_yolo\\pod\\240703EE2PH2.jpg remove C:\\Users\\duphong.hua\\Documents\\phong_document\\git\\resp_test\\test_yolo\\pod\\240703EE3EKG.jpg remove C:\\Users\\duphong.hua\\Documents\\phong_document\\git\\resp_test\\test_yolo\\pod\\240703EE41LF.jpg remove C:\\Users\\duphong.hua\\Documents\\phong_document\\git\\resp_test\\test_yolo\\pod\\240703EE4LUY.jpg remove C:\\Users\\duphong.hua\\Documents\\phong_document\\git\\resp_test\\test_yolo\\pod\\240703EE4T2F.jpg remove C:\\Users\\duphong.hua\\Documents\\phong_document\\git\\resp_test\\test_yolo\\pod\\240703EE568B.jpg remove C:\\Users\\duphong.hua\\Documents\\phong_document\\git\\resp_test\\test_yolo\\pod\\240703EE6QQK.jpg remove C:\\Users\\duphong.hua\\Documents\\phong_document\\git\\resp_test\\test_yolo\\pod\\240703EE6YFN.jpg remove C:\\Users\\duphong.hua\\Documents\\phong_document\\git\\resp_test\\test_yolo\\pod\\240703EE78SM.jpg remove C:\\Users\\duphong.hua\\Documents\\phong_document\\git\\resp_test\\test_yolo\\pod\\240703EE78XH.jpg remove C:\\Users\\duphong.hua\\Documents\\phong_document\\git\\resp_test\\test_yolo\\pod\\240703EE7BJA.jpg remove C:\\Users\\duphong.hua\\Documents\\phong_document\\git\\resp_test\\test_yolo\\pod\\240703EE7GE3.jpg remove C:\\Users\\duphong.hua\\Documents\\phong_document\\git\\resp_test\\test_yolo\\pod\\240703EE8JOE.jpg remove C:\\Users\\duphong.hua\\Documents\\phong_document\\git\\resp_test\\test_yolo\\pod\\240703EE9VY7.jpg remove C:\\Users\\duphong.hua\\Documents\\phong_document\\git\\resp_test\\test_yolo\\pod\\240703EEA1Z6.jpg remove C:\\Users\\duphong.hua\\Documents\\phong_document\\git\\resp_test\\test_yolo\\pod\\240703EEAEA8.jpg remove C:\\Users\\duphong.hua\\Documents\\phong_document\\git\\resp_test\\test_yolo\\pod\\240703EEBF0H.jpg remove C:\\Users\\duphong.hua\\Documents\\phong_document\\git\\resp_test\\test_yolo\\pod\\240703EEBIF6.jpg remove C:\\Users\\duphong.hua\\Documents\\phong_document\\git\\resp_test\\test_yolo\\pod\\240703EEDRNQ.jpg remove C:\\Users\\duphong.hua\\Documents\\phong_document\\git\\resp_test\\test_yolo\\pod\\240703EEEDWE.jpg remove C:\\Users\\duphong.hua\\Documents\\phong_document\\git\\resp_test\\test_yolo\\pod\\240703EEEIXK.jpg remove C:\\Users\\duphong.hua\\Documents\\phong_document\\git\\resp_test\\test_yolo\\pod\\240703EEEKVN.jpg remove C:\\Users\\duphong.hua\\Documents\\phong_document\\git\\resp_test\\test_yolo\\pod\\240703EEF8YG.jpg remove C:\\Users\\duphong.hua\\Documents\\phong_document\\git\\resp_test\\test_yolo\\pod\\240703EEHH0S.jpg remove C:\\Users\\duphong.hua\\Documents\\phong_document\\git\\resp_test\\test_yolo\\pod\\240703EEI9M2.jpg remove C:\\Users\\duphong.hua\\Documents\\phong_document\\git\\resp_test\\test_yolo\\pod\\240703EEIISP.jpg remove C:\\Users\\duphong.hua\\Documents\\phong_document\\git\\resp_test\\test_yolo\\pod\\240703EEJAG3.jpg remove C:\\Users\\duphong.hua\\Documents\\phong_document\\git\\resp_test\\test_yolo\\pod\\240703EEJTU2.jpg remove C:\\Users\\duphong.hua\\Documents\\phong_document\\git\\resp_test\\test_yolo\\pod\\240703EEKE3P.jpg remove C:\\Users\\duphong.hua\\Documents\\phong_document\\git\\resp_test\\test_yolo\\pod\\240703EEKJNB.jpg remove C:\\Users\\duphong.hua\\Documents\\phong_document\\git\\resp_test\\test_yolo\\pod\\240703EELH1A.jpg remove C:\\Users\\duphong.hua\\Documents\\phong_document\\git\\resp_test\\test_yolo\\pod\\240703EELVN7.jpg remove C:\\Users\\duphong.hua\\Documents\\phong_document\\git\\resp_test\\test_yolo\\pod\\240703EEMJDZ.jpg remove C:\\Users\\duphong.hua\\Documents\\phong_document\\git\\resp_test\\test_yolo\\pod\\240703EEN2QE.jpg remove C:\\Users\\duphong.hua\\Documents\\phong_document\\git\\resp_test\\test_yolo\\pod\\240703EENNEC.jpg remove C:\\Users\\duphong.hua\\Documents\\phong_document\\git\\resp_test\\test_yolo\\pod\\240703EENQ6P.jpg remove C:\\Users\\duphong.hua\\Documents\\phong_document\\git\\resp_test\\test_yolo\\pod\\240703EEP3BP.jpg remove C:\\Users\\duphong.hua\\Documents\\phong_document\\git\\resp_test\\test_yolo\\pod\\240703EEPDJH.jpg remove C:\\Users\\duphong.hua\\Documents\\phong_document\\git\\resp_test\\test_yolo\\pod\\240703EEQR43.jpg remove C:\\Users\\duphong.hua\\Documents\\phong_document\\git\\resp_test\\test_yolo\\pod\\240703EEQY5G.jpg remove C:\\Users\\duphong.hua\\Documents\\phong_document\\git\\resp_test\\test_yolo\\pod\\240703EERHSO.jpg remove C:\\Users\\duphong.hua\\Documents\\phong_document\\git\\resp_test\\test_yolo\\pod\\240703EES6XG.jpg remove C:\\Users\\duphong.hua\\Documents\\phong_document\\git\\resp_test\\test_yolo\\pod\\240703EEU6X4.jpg remove C:\\Users\\duphong.hua\\Documents\\phong_document\\git\\resp_test\\test_yolo\\pod\\240703EEUGAZ.jpg remove C:\\Users\\duphong.hua\\Documents\\phong_document\\git\\resp_test\\test_yolo\\pod\\240703EEUSM5.jpg remove C:\\Users\\duphong.hua\\Documents\\phong_document\\git\\resp_test\\test_yolo\\pod\\240703EEUVQH.jpg remove C:\\Users\\duphong.hua\\Documents\\phong_document\\git\\resp_test\\test_yolo\\pod\\240703EEVDSV.jpg remove C:\\Users\\duphong.hua\\Documents\\phong_document\\git\\resp_test\\test_yolo\\pod\\240703EEVYRV.jpg remove C:\\Users\\duphong.hua\\Documents\\phong_document\\git\\resp_test\\test_yolo\\pod\\240703EEVZK0.jpg remove C:\\Users\\duphong.hua\\Documents\\phong_document\\git\\resp_test\\test_yolo\\pod\\240703EEWBOH.jpg remove C:\\Users\\duphong.hua\\Documents\\phong_document\\git\\resp_test\\test_yolo\\pod\\240703EEWEPY.jpg remove C:\\Users\\duphong.hua\\Documents\\phong_document\\git\\resp_test\\test_yolo\\pod\\240703EEXJOG.jpg remove C:\\Users\\duphong.hua\\Documents\\phong_document\\git\\resp_test\\test_yolo\\pod\\240703EEZ6IG.jpg remove C:\\Users\\duphong.hua\\Documents\\phong_document\\git\\resp_test\\test_yolo\\pod\\240703EF0939.jpg remove C:\\Users\\duphong.hua\\Documents\\phong_document\\git\\resp_test\\test_yolo\\pod\\240703EF0FY5.jpg remove C:\\Users\\duphong.hua\\Documents\\phong_document\\git\\resp_test\\test_yolo\\pod\\240703EF0IMS.jpg remove C:\\Users\\duphong.hua\\Documents\\phong_document\\git\\resp_test\\test_yolo\\pod\\240703EF2OJT.jpg remove C:\\Users\\duphong.hua\\Documents\\phong_document\\git\\resp_test\\test_yolo\\pod\\240703EF3BFS.jpg remove C:\\Users\\duphong.hua\\Documents\\phong_document\\git\\resp_test\\test_yolo\\pod\\240703EF41VS.jpg remove C:\\Users\\duphong.hua\\Documents\\phong_document\\git\\resp_test\\test_yolo\\pod\\240703EF4DFU.jpg remove C:\\Users\\duphong.hua\\Documents\\phong_document\\git\\resp_test\\test_yolo\\pod\\240703EF4KU3.jpg remove C:\\Users\\duphong.hua\\Documents\\phong_document\\git\\resp_test\\test_yolo\\pod\\240703EF4QED.jpg remove C:\\Users\\duphong.hua\\Documents\\phong_document\\git\\resp_test\\test_yolo\\pod\\240703EF59Q6.jpg remove C:\\Users\\duphong.hua\\Documents\\phong_document\\git\\resp_test\\test_yolo\\pod\\240703EF59SE.jpg remove C:\\Users\\duphong.hua\\Documents\\phong_document\\git\\resp_test\\test_yolo\\pod\\240703EF5JN9.jpg remove C:\\Users\\duphong.hua\\Documents\\phong_document\\git\\resp_test\\test_yolo\\pod\\240703EF617G.jpg remove C:\\Users\\duphong.hua\\Documents\\phong_document\\git\\resp_test\\test_yolo\\pod\\240703EF67TB.jpg remove C:\\Users\\duphong.hua\\Documents\\phong_document\\git\\resp_test\\test_yolo\\pod\\240703EF6DH2.jpg remove C:\\Users\\duphong.hua\\Documents\\phong_document\\git\\resp_test\\test_yolo\\pod\\240703EF8OVQ.jpg remove C:\\Users\\duphong.hua\\Documents\\phong_document\\git\\resp_test\\test_yolo\\pod\\240703EF8ZFC.jpg remove C:\\Users\\duphong.hua\\Documents\\phong_document\\git\\resp_test\\test_yolo\\pod\\240703EF91ZQ.jpg remove C:\\Users\\duphong.hua\\Documents\\phong_document\\git\\resp_test\\test_yolo\\pod\\240703EF9607.jpg remove C:\\Users\\duphong.hua\\Documents\\phong_document\\git\\resp_test\\test_yolo\\pod\\240703EFAJHN.jpg remove C:\\Users\\duphong.hua\\Documents\\phong_document\\git\\resp_test\\test_yolo\\pod\\240703EFDDXY.jpg remove C:\\Users\\duphong.hua\\Documents\\phong_document\\git\\resp_test\\test_yolo\\pod\\240703EFDF0A.jpg remove C:\\Users\\duphong.hua\\Documents\\phong_document\\git\\resp_test\\test_yolo\\pod\\240703EFECWY.jpg remove C:\\Users\\duphong.hua\\Documents\\phong_document\\git\\resp_test\\test_yolo\\pod\\240703EFF0RN.jpg remove C:\\Users\\duphong.hua\\Documents\\phong_document\\git\\resp_test\\test_yolo\\pod\\240703EFFI8E.jpg remove C:\\Users\\duphong.hua\\Documents\\phong_document\\git\\resp_test\\test_yolo\\pod\\240703EFGK09.jpg remove C:\\Users\\duphong.hua\\Documents\\phong_document\\git\\resp_test\\test_yolo\\pod\\240703EFH3DF.jpg remove C:\\Users\\duphong.hua\\Documents\\phong_document\\git\\resp_test\\test_yolo\\pod\\240703EFI107.jpg remove C:\\Users\\duphong.hua\\Documents\\phong_document\\git\\resp_test\\test_yolo\\pod\\240703EFIDD8.jpg remove C:\\Users\\duphong.hua\\Documents\\phong_document\\git\\resp_test\\test_yolo\\pod\\240703EFIUS1.jpg remove C:\\Users\\duphong.hua\\Documents\\phong_document\\git\\resp_test\\test_yolo\\pod\\240703EFJF72.jpg remove C:\\Users\\duphong.hua\\Documents\\phong_document\\git\\resp_test\\test_yolo\\pod\\240703EFKB3R.jpg remove C:\\Users\\duphong.hua\\Documents\\phong_document\\git\\resp_test\\test_yolo\\pod\\240703EFKGHO.jpg remove C:\\Users\\duphong.hua\\Documents\\phong_document\\git\\resp_test\\test_yolo\\pod\\240703EFKP9H.jpg remove C:\\Users\\duphong.hua\\Documents\\phong_document\\git\\resp_test\\test_yolo\\pod\\240703EFKYA0.jpg remove C:\\Users\\duphong.hua\\Documents\\phong_document\\git\\resp_test\\test_yolo\\pod\\240703EFL75W.jpg remove C:\\Users\\duphong.hua\\Documents\\phong_document\\git\\resp_test\\test_yolo\\pod\\240703EFL88K.jpg remove C:\\Users\\duphong.hua\\Documents\\phong_document\\git\\resp_test\\test_yolo\\pod\\240703EFLYLM.jpg remove C:\\Users\\duphong.hua\\Documents\\phong_document\\git\\resp_test\\test_yolo\\pod\\240703EFM80W.jpg remove C:\\Users\\duphong.hua\\Documents\\phong_document\\git\\resp_test\\test_yolo\\pod\\240703EFMG3P.jpg remove C:\\Users\\duphong.hua\\Documents\\phong_document\\git\\resp_test\\test_yolo\\pod\\240703EFN1SB.jpg remove C:\\Users\\duphong.hua\\Documents\\phong_document\\git\\resp_test\\test_yolo\\pod\\240703EFN8OD.jpg remove C:\\Users\\duphong.hua\\Documents\\phong_document\\git\\resp_test\\test_yolo\\pod\\240703EFNQF0.jpg remove C:\\Users\\duphong.hua\\Documents\\phong_document\\git\\resp_test\\test_yolo\\pod\\240703EFNYP4.jpg remove C:\\Users\\duphong.hua\\Documents\\phong_document\\git\\resp_test\\test_yolo\\pod\\240703EFPJWV.jpg remove C:\\Users\\duphong.hua\\Documents\\phong_document\\git\\resp_test\\test_yolo\\pod\\240703EFQ2PI.jpg remove C:\\Users\\duphong.hua\\Documents\\phong_document\\git\\resp_test\\test_yolo\\pod\\240703EFRJJU.jpg remove C:\\Users\\duphong.hua\\Documents\\phong_document\\git\\resp_test\\test_yolo\\pod\\240703EFRZBX.jpg remove C:\\Users\\duphong.hua\\Documents\\phong_document\\git\\resp_test\\test_yolo\\pod\\240703EFU0Y9.jpg remove C:\\Users\\duphong.hua\\Documents\\phong_document\\git\\resp_test\\test_yolo\\pod\\240703EFU1S5.jpg remove C:\\Users\\duphong.hua\\Documents\\phong_document\\git\\resp_test\\test_yolo\\pod\\240703EFU4FS.jpg remove C:\\Users\\duphong.hua\\Documents\\phong_document\\git\\resp_test\\test_yolo\\pod\\240703EFU5UN.jpg remove C:\\Users\\duphong.hua\\Documents\\phong_document\\git\\resp_test\\test_yolo\\pod\\240703EFUALJ.jpg remove C:\\Users\\duphong.hua\\Documents\\phong_document\\git\\resp_test\\test_yolo\\pod\\240703EFUMEW.jpg remove C:\\Users\\duphong.hua\\Documents\\phong_document\\git\\resp_test\\test_yolo\\pod\\240703EFV7UJ.jpg remove C:\\Users\\duphong.hua\\Documents\\phong_document\\git\\resp_test\\test_yolo\\pod\\240703EFVVZ2.jpg remove C:\\Users\\duphong.hua\\Documents\\phong_document\\git\\resp_test\\test_yolo\\pod\\240703EFWA8S.jpg remove C:\\Users\\duphong.hua\\Documents\\phong_document\\git\\resp_test\\test_yolo\\pod\\240703EFY52U.jpg remove C:\\Users\\duphong.hua\\Documents\\phong_document\\git\\resp_test\\test_yolo\\pod\\240703EFYBF3.jpg remove C:\\Users\\duphong.hua\\Documents\\phong_document\\git\\resp_test\\test_yolo\\pod\\240703EFZJ18.jpg remove C:\\Users\\duphong.hua\\Documents\\phong_document\\git\\resp_test\\test_yolo\\pod\\240703EFZTDM.jpg remove C:\\Users\\duphong.hua\\Documents\\phong_document\\git\\resp_test\\test_yolo\\pod\\240703EG07RV.jpg remove C:\\Users\\duphong.hua\\Documents\\phong_document\\git\\resp_test\\test_yolo\\pod\\240703EG0BJ4.jpg remove C:\\Users\\duphong.hua\\Documents\\phong_document\\git\\resp_test\\test_yolo\\pod\\240703EG1FKS.jpg remove C:\\Users\\duphong.hua\\Documents\\phong_document\\git\\resp_test\\test_yolo\\pod\\240703EG1GHJ.jpg remove C:\\Users\\duphong.hua\\Documents\\phong_document\\git\\resp_test\\test_yolo\\pod\\240703EG343G.jpg remove C:\\Users\\duphong.hua\\Documents\\phong_document\\git\\resp_test\\test_yolo\\pod\\240703EG36MR.jpg remove C:\\Users\\duphong.hua\\Documents\\phong_document\\git\\resp_test\\test_yolo\\pod\\240703EG36NB.jpg remove C:\\Users\\duphong.hua\\Documents\\phong_document\\git\\resp_test\\test_yolo\\pod\\240703EG36YW.jpg remove C:\\Users\\duphong.hua\\Documents\\phong_document\\git\\resp_test\\test_yolo\\pod\\240703EG3IQZ.jpg remove C:\\Users\\duphong.hua\\Documents\\phong_document\\git\\resp_test\\test_yolo\\pod\\240703EG3XJQ.jpg remove C:\\Users\\duphong.hua\\Documents\\phong_document\\git\\resp_test\\test_yolo\\pod\\240703EG4GFP.jpg remove C:\\Users\\duphong.hua\\Documents\\phong_document\\git\\resp_test\\test_yolo\\pod\\240703EG6QYM.jpg remove C:\\Users\\duphong.hua\\Documents\\phong_document\\git\\resp_test\\test_yolo\\pod\\240703EG7RGZ.jpg remove C:\\Users\\duphong.hua\\Documents\\phong_document\\git\\resp_test\\test_yolo\\pod\\240703EG8MYR.jpg remove C:\\Users\\duphong.hua\\Documents\\phong_document\\git\\resp_test\\test_yolo\\pod\\240703EG9CGE.jpg remove C:\\Users\\duphong.hua\\Documents\\phong_document\\git\\resp_test\\test_yolo\\pod\\240703EG9DZS.jpg remove C:\\Users\\duphong.hua\\Documents\\phong_document\\git\\resp_test\\test_yolo\\pod\\240703EG9I4G.jpg remove C:\\Users\\duphong.hua\\Documents\\phong_document\\git\\resp_test\\test_yolo\\pod\\240703EGA510.jpg remove C:\\Users\\duphong.hua\\Documents\\phong_document\\git\\resp_test\\test_yolo\\pod\\240703EGAXBK.jpg remove C:\\Users\\duphong.hua\\Documents\\phong_document\\git\\resp_test\\test_yolo\\pod\\240703EGBFIN.jpg remove C:\\Users\\duphong.hua\\Documents\\phong_document\\git\\resp_test\\test_yolo\\pod\\240703EGBJIT.jpg remove C:\\Users\\duphong.hua\\Documents\\phong_document\\git\\resp_test\\test_yolo\\pod\\240703EGBORX.jpg remove C:\\Users\\duphong.hua\\Documents\\phong_document\\git\\resp_test\\test_yolo\\pod\\240703EGBPAU.jpg remove C:\\Users\\duphong.hua\\Documents\\phong_document\\git\\resp_test\\test_yolo\\pod\\240703EGC6XU.jpg remove C:\\Users\\duphong.hua\\Documents\\phong_document\\git\\resp_test\\test_yolo\\pod\\240703EGCPP3.jpg remove C:\\Users\\duphong.hua\\Documents\\phong_document\\git\\resp_test\\test_yolo\\pod\\240703EGCYG5.jpg remove C:\\Users\\duphong.hua\\Documents\\phong_document\\git\\resp_test\\test_yolo\\pod\\240703EGDCMR.jpg remove C:\\Users\\duphong.hua\\Documents\\phong_document\\git\\resp_test\\test_yolo\\pod\\240703EGEF9G.jpg remove C:\\Users\\duphong.hua\\Documents\\phong_document\\git\\resp_test\\test_yolo\\pod\\240703EGGUYG.jpg remove C:\\Users\\duphong.hua\\Documents\\phong_document\\git\\resp_test\\test_yolo\\pod\\240703EGHF8Y.jpg remove C:\\Users\\duphong.hua\\Documents\\phong_document\\git\\resp_test\\test_yolo\\pod\\240703EGKBKP.jpg remove C:\\Users\\duphong.hua\\Documents\\phong_document\\git\\resp_test\\test_yolo\\pod\\240703EGKC0X.jpg remove C:\\Users\\duphong.hua\\Documents\\phong_document\\git\\resp_test\\test_yolo\\pod\\240703EGKTRZ.jpg remove C:\\Users\\duphong.hua\\Documents\\phong_document\\git\\resp_test\\test_yolo\\pod\\240703EGKVRF.jpg remove C:\\Users\\duphong.hua\\Documents\\phong_document\\git\\resp_test\\test_yolo\\pod\\240703EGL53I.jpg remove C:\\Users\\duphong.hua\\Documents\\phong_document\\git\\resp_test\\test_yolo\\pod\\240703EGM7OI.jpg remove C:\\Users\\duphong.hua\\Documents\\phong_document\\git\\resp_test\\test_yolo\\pod\\240703EGMC9C.jpg remove C:\\Users\\duphong.hua\\Documents\\phong_document\\git\\resp_test\\test_yolo\\pod\\240703EGN96J.jpg remove C:\\Users\\duphong.hua\\Documents\\phong_document\\git\\resp_test\\test_yolo\\pod\\240703EGNASW.jpg remove C:\\Users\\duphong.hua\\Documents\\phong_document\\git\\resp_test\\test_yolo\\pod\\240703EGP90F.jpg remove C:\\Users\\duphong.hua\\Documents\\phong_document\\git\\resp_test\\test_yolo\\pod\\240703EGPCRH.jpg remove C:\\Users\\duphong.hua\\Documents\\phong_document\\git\\resp_test\\test_yolo\\pod\\240703EGPXFJ.jpg remove C:\\Users\\duphong.hua\\Documents\\phong_document\\git\\resp_test\\test_yolo\\pod\\240703EGRAOD.jpg remove C:\\Users\\duphong.hua\\Documents\\phong_document\\git\\resp_test\\test_yolo\\pod\\240703EGROKN.jpg remove C:\\Users\\duphong.hua\\Documents\\phong_document\\git\\resp_test\\test_yolo\\pod\\240703EGT7WV.jpg remove C:\\Users\\duphong.hua\\Documents\\phong_document\\git\\resp_test\\test_yolo\\pod\\240703EGTUFZ.jpg remove C:\\Users\\duphong.hua\\Documents\\phong_document\\git\\resp_test\\test_yolo\\pod\\240703EGUZNG.jpg remove C:\\Users\\duphong.hua\\Documents\\phong_document\\git\\resp_test\\test_yolo\\pod\\240703EGWRBB.jpg remove C:\\Users\\duphong.hua\\Documents\\phong_document\\git\\resp_test\\test_yolo\\pod\\240703EGXO7N.jpg remove C:\\Users\\duphong.hua\\Documents\\phong_document\\git\\resp_test\\test_yolo\\pod\\240703EGYA11.jpg remove C:\\Users\\duphong.hua\\Documents\\phong_document\\git\\resp_test\\test_yolo\\pod\\240703EGYFVC.jpg remove C:\\Users\\duphong.hua\\Documents\\phong_document\\git\\resp_test\\test_yolo\\pod\\240703EGZMX0.jpg remove C:\\Users\\duphong.hua\\Documents\\phong_document\\git\\resp_test\\test_yolo\\pod\\240703EGZTBG.jpg remove C:\\Users\\duphong.hua\\Documents\\phong_document\\git\\resp_test\\test_yolo\\pod\\240703EH0ENK.jpg remove C:\\Users\\duphong.hua\\Documents\\phong_document\\git\\resp_test\\test_yolo\\pod\\240703EH0HAQ.jpg remove C:\\Users\\duphong.hua\\Documents\\phong_document\\git\\resp_test\\test_yolo\\pod\\240703EH1MMH.jpg remove C:\\Users\\duphong.hua\\Documents\\phong_document\\git\\resp_test\\test_yolo\\pod\\240703EH270P.jpg remove C:\\Users\\duphong.hua\\Documents\\phong_document\\git\\resp_test\\test_yolo\\pod\\240703EH283R.jpg remove C:\\Users\\duphong.hua\\Documents\\phong_document\\git\\resp_test\\test_yolo\\pod\\240703EH3C23.jpg remove C:\\Users\\duphong.hua\\Documents\\phong_document\\git\\resp_test\\test_yolo\\pod\\240703EH4A1P.jpg remove C:\\Users\\duphong.hua\\Documents\\phong_document\\git\\resp_test\\test_yolo\\pod\\240703EH4N0U.jpg remove C:\\Users\\duphong.hua\\Documents\\phong_document\\git\\resp_test\\test_yolo\\pod\\240703EH6XDX.jpg remove C:\\Users\\duphong.hua\\Documents\\phong_document\\git\\resp_test\\test_yolo\\pod\\240703EH72RH.jpg remove C:\\Users\\duphong.hua\\Documents\\phong_document\\git\\resp_test\\test_yolo\\pod\\240703EH7BMR.jpg remove C:\\Users\\duphong.hua\\Documents\\phong_document\\git\\resp_test\\test_yolo\\pod\\240703EH7EQC.jpg remove C:\\Users\\duphong.hua\\Documents\\phong_document\\git\\resp_test\\test_yolo\\pod\\240703EH7SUT.jpg remove C:\\Users\\duphong.hua\\Documents\\phong_document\\git\\resp_test\\test_yolo\\pod\\240703EH9PUV.jpg remove C:\\Users\\duphong.hua\\Documents\\phong_document\\git\\resp_test\\test_yolo\\pod\\240703EH9XYX.jpg remove C:\\Users\\duphong.hua\\Documents\\phong_document\\git\\resp_test\\test_yolo\\pod\\240703EHATIA.jpg remove C:\\Users\\duphong.hua\\Documents\\phong_document\\git\\resp_test\\test_yolo\\pod\\240703EHB2B4.jpg remove C:\\Users\\duphong.hua\\Documents\\phong_document\\git\\resp_test\\test_yolo\\pod\\240703EHCHUW.jpg remove C:\\Users\\duphong.hua\\Documents\\phong_document\\git\\resp_test\\test_yolo\\pod\\240703EHD0OH.jpg remove C:\\Users\\duphong.hua\\Documents\\phong_document\\git\\resp_test\\test_yolo\\pod\\240703EHDN65.jpg remove C:\\Users\\duphong.hua\\Documents\\phong_document\\git\\resp_test\\test_yolo\\pod\\240703EHEPYF.jpg remove C:\\Users\\duphong.hua\\Documents\\phong_document\\git\\resp_test\\test_yolo\\pod\\240703EHEZJP.jpg remove C:\\Users\\duphong.hua\\Documents\\phong_document\\git\\resp_test\\test_yolo\\pod\\240703EHF50W.jpg remove C:\\Users\\duphong.hua\\Documents\\phong_document\\git\\resp_test\\test_yolo\\pod\\240703EHF64I.jpg remove C:\\Users\\duphong.hua\\Documents\\phong_document\\git\\resp_test\\test_yolo\\pod\\240703EHFAJ7.jpg remove C:\\Users\\duphong.hua\\Documents\\phong_document\\git\\resp_test\\test_yolo\\pod\\240703EHG639.jpg remove C:\\Users\\duphong.hua\\Documents\\phong_document\\git\\resp_test\\test_yolo\\pod\\240703EHGWRS.jpg remove C:\\Users\\duphong.hua\\Documents\\phong_document\\git\\resp_test\\test_yolo\\pod\\240703EHGWUG.jpg remove C:\\Users\\duphong.hua\\Documents\\phong_document\\git\\resp_test\\test_yolo\\pod\\240703EHHT5I.jpg remove C:\\Users\\duphong.hua\\Documents\\phong_document\\git\\resp_test\\test_yolo\\pod\\240703EHHV2Z.jpg remove C:\\Users\\duphong.hua\\Documents\\phong_document\\git\\resp_test\\test_yolo\\pod\\240703EHIMJC.jpg remove C:\\Users\\duphong.hua\\Documents\\phong_document\\git\\resp_test\\test_yolo\\pod\\240703EHJLDM.jpg remove C:\\Users\\duphong.hua\\Documents\\phong_document\\git\\resp_test\\test_yolo\\pod\\240703EHK70J.jpg remove C:\\Users\\duphong.hua\\Documents\\phong_document\\git\\resp_test\\test_yolo\\pod\\240703EHM6WT.jpg remove C:\\Users\\duphong.hua\\Documents\\phong_document\\git\\resp_test\\test_yolo\\pod\\240703EHN96E.jpg remove C:\\Users\\duphong.hua\\Documents\\phong_document\\git\\resp_test\\test_yolo\\pod\\240703EHNADU.jpg remove C:\\Users\\duphong.hua\\Documents\\phong_document\\git\\resp_test\\test_yolo\\pod\\240703EHNLBS.jpg remove C:\\Users\\duphong.hua\\Documents\\phong_document\\git\\resp_test\\test_yolo\\pod\\240703EHNN9W.jpg remove C:\\Users\\duphong.hua\\Documents\\phong_document\\git\\resp_test\\test_yolo\\pod\\240703EHPRNF.jpg remove C:\\Users\\duphong.hua\\Documents\\phong_document\\git\\resp_test\\test_yolo\\pod\\240703EHQIQR.jpg remove C:\\Users\\duphong.hua\\Documents\\phong_document\\git\\resp_test\\test_yolo\\pod\\240703EHQL3S.jpg remove C:\\Users\\duphong.hua\\Documents\\phong_document\\git\\resp_test\\test_yolo\\pod\\240703EHQPTV.jpg remove C:\\Users\\duphong.hua\\Documents\\phong_document\\git\\resp_test\\test_yolo\\pod\\240703EHRI5J.jpg remove C:\\Users\\duphong.hua\\Documents\\phong_document\\git\\resp_test\\test_yolo\\pod\\240703EHRKDW.jpg remove C:\\Users\\duphong.hua\\Documents\\phong_document\\git\\resp_test\\test_yolo\\pod\\240703EHRVPP.jpg remove C:\\Users\\duphong.hua\\Documents\\phong_document\\git\\resp_test\\test_yolo\\pod\\240703EHSCZ2.jpg remove C:\\Users\\duphong.hua\\Documents\\phong_document\\git\\resp_test\\test_yolo\\pod\\240703EHSI6B.jpg remove C:\\Users\\duphong.hua\\Documents\\phong_document\\git\\resp_test\\test_yolo\\pod\\240703EHSKIY.jpg remove C:\\Users\\duphong.hua\\Documents\\phong_document\\git\\resp_test\\test_yolo\\pod\\240703EHT2CM.jpg remove C:\\Users\\duphong.hua\\Documents\\phong_document\\git\\resp_test\\test_yolo\\pod\\240703EHUKXQ.jpg remove C:\\Users\\duphong.hua\\Documents\\phong_document\\git\\resp_test\\test_yolo\\pod\\240703EHUN7U.jpg remove C:\\Users\\duphong.hua\\Documents\\phong_document\\git\\resp_test\\test_yolo\\pod\\240703EHUOXF.jpg remove C:\\Users\\duphong.hua\\Documents\\phong_document\\git\\resp_test\\test_yolo\\pod\\240703EHV6WI.jpg remove C:\\Users\\duphong.hua\\Documents\\phong_document\\git\\resp_test\\test_yolo\\pod\\240703EHVVXA.jpg remove C:\\Users\\duphong.hua\\Documents\\phong_document\\git\\resp_test\\test_yolo\\pod\\240703EHX405.jpg remove C:\\Users\\duphong.hua\\Documents\\phong_document\\git\\resp_test\\test_yolo\\pod\\240703EHX92O.jpg remove C:\\Users\\duphong.hua\\Documents\\phong_document\\git\\resp_test\\test_yolo\\pod\\240703EHX9ZM.jpg remove C:\\Users\\duphong.hua\\Documents\\phong_document\\git\\resp_test\\test_yolo\\pod\\240703EHXKUS.jpg remove C:\\Users\\duphong.hua\\Documents\\phong_document\\git\\resp_test\\test_yolo\\pod\\240703EHZ1WX.jpg remove C:\\Users\\duphong.hua\\Documents\\phong_document\\git\\resp_test\\test_yolo\\pod\\240703EI08AT.jpg remove C:\\Users\\duphong.hua\\Documents\\phong_document\\git\\resp_test\\test_yolo\\pod\\240703EI08KR.jpg remove C:\\Users\\duphong.hua\\Documents\\phong_document\\git\\resp_test\\test_yolo\\pod\\240703EI1KAV.jpg remove C:\\Users\\duphong.hua\\Documents\\phong_document\\git\\resp_test\\test_yolo\\pod\\240703EI1QVC.jpg remove C:\\Users\\duphong.hua\\Documents\\phong_document\\git\\resp_test\\test_yolo\\pod\\240703EI1XVF.jpg remove C:\\Users\\duphong.hua\\Documents\\phong_document\\git\\resp_test\\test_yolo\\pod\\240703EI2618.jpg remove C:\\Users\\duphong.hua\\Documents\\phong_document\\git\\resp_test\\test_yolo\\pod\\240703EI33US.jpg remove C:\\Users\\duphong.hua\\Documents\\phong_document\\git\\resp_test\\test_yolo\\pod\\240703EI4B9Z.jpg remove C:\\Users\\duphong.hua\\Documents\\phong_document\\git\\resp_test\\test_yolo\\pod\\240703EI55QG.jpg remove C:\\Users\\duphong.hua\\Documents\\phong_document\\git\\resp_test\\test_yolo\\pod\\240703EI66PQ.jpg remove C:\\Users\\duphong.hua\\Documents\\phong_document\\git\\resp_test\\test_yolo\\pod\\240703EI69QE.jpg remove C:\\Users\\duphong.hua\\Documents\\phong_document\\git\\resp_test\\test_yolo\\pod\\240703EI82A7.jpg remove C:\\Users\\duphong.hua\\Documents\\phong_document\\git\\resp_test\\test_yolo\\pod\\240703EI8BF5.jpg remove C:\\Users\\duphong.hua\\Documents\\phong_document\\git\\resp_test\\test_yolo\\pod\\240703EI91D8.jpg remove C:\\Users\\duphong.hua\\Documents\\phong_document\\git\\resp_test\\test_yolo\\pod\\240703EI9DXI.jpg remove C:\\Users\\duphong.hua\\Documents\\phong_document\\git\\resp_test\\test_yolo\\pod\\240703EI9NME.jpg remove C:\\Users\\duphong.hua\\Documents\\phong_document\\git\\resp_test\\test_yolo\\pod\\240703EIA364.jpg remove C:\\Users\\duphong.hua\\Documents\\phong_document\\git\\resp_test\\test_yolo\\pod\\240703EIA7D9.jpg remove C:\\Users\\duphong.hua\\Documents\\phong_document\\git\\resp_test\\test_yolo\\pod\\240703EIAHGH.jpg remove C:\\Users\\duphong.hua\\Documents\\phong_document\\git\\resp_test\\test_yolo\\pod\\240703EIBR9R.jpg remove C:\\Users\\duphong.hua\\Documents\\phong_document\\git\\resp_test\\test_yolo\\pod\\240703EID7E3.jpg remove C:\\Users\\duphong.hua\\Documents\\phong_document\\git\\resp_test\\test_yolo\\pod\\240703EIDDSU.jpg remove C:\\Users\\duphong.hua\\Documents\\phong_document\\git\\resp_test\\test_yolo\\pod\\240703EIE1TG.jpg remove C:\\Users\\duphong.hua\\Documents\\phong_document\\git\\resp_test\\test_yolo\\pod\\240703EIEMCU.jpg remove C:\\Users\\duphong.hua\\Documents\\phong_document\\git\\resp_test\\test_yolo\\pod\\240703EIG0B2.jpg remove C:\\Users\\duphong.hua\\Documents\\phong_document\\git\\resp_test\\test_yolo\\pod\\240703EIGH8J.jpg remove C:\\Users\\duphong.hua\\Documents\\phong_document\\git\\resp_test\\test_yolo\\pod\\240703EIGL6V.jpg remove C:\\Users\\duphong.hua\\Documents\\phong_document\\git\\resp_test\\test_yolo\\pod\\240703EIGUED.jpg remove C:\\Users\\duphong.hua\\Documents\\phong_document\\git\\resp_test\\test_yolo\\pod\\240703EIHBRX.jpg remove C:\\Users\\duphong.hua\\Documents\\phong_document\\git\\resp_test\\test_yolo\\pod\\240703EIHUPI.jpg remove C:\\Users\\duphong.hua\\Documents\\phong_document\\git\\resp_test\\test_yolo\\pod\\240703EII11T.jpg remove C:\\Users\\duphong.hua\\Documents\\phong_document\\git\\resp_test\\test_yolo\\pod\\240703EIJA9F.jpg remove C:\\Users\\duphong.hua\\Documents\\phong_document\\git\\resp_test\\test_yolo\\pod\\240703EIJJK1.jpg remove C:\\Users\\duphong.hua\\Documents\\phong_document\\git\\resp_test\\test_yolo\\pod\\240703EIJPZX.jpg remove C:\\Users\\duphong.hua\\Documents\\phong_document\\git\\resp_test\\test_yolo\\pod\\240703EIJR8F.jpg remove C:\\Users\\duphong.hua\\Documents\\phong_document\\git\\resp_test\\test_yolo\\pod\\240703EIKCNW.jpg remove C:\\Users\\duphong.hua\\Documents\\phong_document\\git\\resp_test\\test_yolo\\pod\\240703EIKN0B.jpg remove C:\\Users\\duphong.hua\\Documents\\phong_document\\git\\resp_test\\test_yolo\\pod\\240703EIKTYZ.jpg remove C:\\Users\\duphong.hua\\Documents\\phong_document\\git\\resp_test\\test_yolo\\pod\\240703EIKVYD.jpg remove C:\\Users\\duphong.hua\\Documents\\phong_document\\git\\resp_test\\test_yolo\\pod\\240703EILBLM.jpg remove C:\\Users\\duphong.hua\\Documents\\phong_document\\git\\resp_test\\test_yolo\\pod\\240703EIM9SC.jpg remove C:\\Users\\duphong.hua\\Documents\\phong_document\\git\\resp_test\\test_yolo\\pod\\240703EIMBP6.jpg remove C:\\Users\\duphong.hua\\Documents\\phong_document\\git\\resp_test\\test_yolo\\pod\\240703EIMKIV.jpg remove C:\\Users\\duphong.hua\\Documents\\phong_document\\git\\resp_test\\test_yolo\\pod\\240703EINS2Z.jpg remove C:\\Users\\duphong.hua\\Documents\\phong_document\\git\\resp_test\\test_yolo\\pod\\240703EIOCC9.jpg remove C:\\Users\\duphong.hua\\Documents\\phong_document\\git\\resp_test\\test_yolo\\pod\\240703EIP19T.jpg remove C:\\Users\\duphong.hua\\Documents\\phong_document\\git\\resp_test\\test_yolo\\pod\\240703EIQNST.jpg remove C:\\Users\\duphong.hua\\Documents\\phong_document\\git\\resp_test\\test_yolo\\pod\\240703EIQYEH.jpg remove C:\\Users\\duphong.hua\\Documents\\phong_document\\git\\resp_test\\test_yolo\\pod\\240703EIROTX.jpg remove C:\\Users\\duphong.hua\\Documents\\phong_document\\git\\resp_test\\test_yolo\\pod\\240703EIS5S5.jpg remove C:\\Users\\duphong.hua\\Documents\\phong_document\\git\\resp_test\\test_yolo\\pod\\240703EISL8Z.jpg remove C:\\Users\\duphong.hua\\Documents\\phong_document\\git\\resp_test\\test_yolo\\pod\\240703EISUNH.jpg remove C:\\Users\\duphong.hua\\Documents\\phong_document\\git\\resp_test\\test_yolo\\pod\\240703EITG8N.jpg remove C:\\Users\\duphong.hua\\Documents\\phong_document\\git\\resp_test\\test_yolo\\pod\\240703EIUN9U.jpg remove C:\\Users\\duphong.hua\\Documents\\phong_document\\git\\resp_test\\test_yolo\\pod\\240703EIV0MH.jpg remove C:\\Users\\duphong.hua\\Documents\\phong_document\\git\\resp_test\\test_yolo\\pod\\240703EIVBTC.jpg remove C:\\Users\\duphong.hua\\Documents\\phong_document\\git\\resp_test\\test_yolo\\pod\\240703EIVQUZ.jpg remove C:\\Users\\duphong.hua\\Documents\\phong_document\\git\\resp_test\\test_yolo\\pod\\240703EIVSUI.jpg remove C:\\Users\\duphong.hua\\Documents\\phong_document\\git\\resp_test\\test_yolo\\pod\\240703EIW9P8.jpg remove C:\\Users\\duphong.hua\\Documents\\phong_document\\git\\resp_test\\test_yolo\\pod\\240703EIXJYK.jpg remove C:\\Users\\duphong.hua\\Documents\\phong_document\\git\\resp_test\\test_yolo\\pod\\240703EIXUG1.jpg remove C:\\Users\\duphong.hua\\Documents\\phong_document\\git\\resp_test\\test_yolo\\pod\\240703EIYBOJ.jpg remove C:\\Users\\duphong.hua\\Documents\\phong_document\\git\\resp_test\\test_yolo\\pod\\240703EIZ763.jpg remove C:\\Users\\duphong.hua\\Documents\\phong_document\\git\\resp_test\\test_yolo\\pod\\240703EJ0QDZ.jpg remove C:\\Users\\duphong.hua\\Documents\\phong_document\\git\\resp_test\\test_yolo\\pod\\240703EJ2QKI.jpg remove C:\\Users\\duphong.hua\\Documents\\phong_document\\git\\resp_test\\test_yolo\\pod\\240703EJ2YA5.jpg remove C:\\Users\\duphong.hua\\Documents\\phong_document\\git\\resp_test\\test_yolo\\pod\\240703EJ32G6.jpg remove C:\\Users\\duphong.hua\\Documents\\phong_document\\git\\resp_test\\test_yolo\\pod\\240703EJ421U.jpg remove C:\\Users\\duphong.hua\\Documents\\phong_document\\git\\resp_test\\test_yolo\\pod\\240703EJ4DER.jpg remove C:\\Users\\duphong.hua\\Documents\\phong_document\\git\\resp_test\\test_yolo\\pod\\240703EJ4P8I.jpg remove C:\\Users\\duphong.hua\\Documents\\phong_document\\git\\resp_test\\test_yolo\\pod\\240703EJ4ZDD.jpg remove C:\\Users\\duphong.hua\\Documents\\phong_document\\git\\resp_test\\test_yolo\\pod\\240703EJ52WT.jpg remove C:\\Users\\duphong.hua\\Documents\\phong_document\\git\\resp_test\\test_yolo\\pod\\240703EJ7VMD.jpg remove C:\\Users\\duphong.hua\\Documents\\phong_document\\git\\resp_test\\test_yolo\\pod\\240703EJ9XKY.jpg remove C:\\Users\\duphong.hua\\Documents\\phong_document\\git\\resp_test\\test_yolo\\pod\\240703EJA98Z.jpg remove C:\\Users\\duphong.hua\\Documents\\phong_document\\git\\resp_test\\test_yolo\\pod\\240703EJADRH.jpg remove C:\\Users\\duphong.hua\\Documents\\phong_document\\git\\resp_test\\test_yolo\\pod\\240703EJBQCL.jpg remove C:\\Users\\duphong.hua\\Documents\\phong_document\\git\\resp_test\\test_yolo\\pod\\240703EJCOIZ.jpg remove C:\\Users\\duphong.hua\\Documents\\phong_document\\git\\resp_test\\test_yolo\\pod\\240703EJCRBQ.jpg remove C:\\Users\\duphong.hua\\Documents\\phong_document\\git\\resp_test\\test_yolo\\pod\\240703EJEII6.jpg remove C:\\Users\\duphong.hua\\Documents\\phong_document\\git\\resp_test\\test_yolo\\pod\\240703EJGDWO.jpg remove C:\\Users\\duphong.hua\\Documents\\phong_document\\git\\resp_test\\test_yolo\\pod\\240703EJGKFF.jpg remove C:\\Users\\duphong.hua\\Documents\\phong_document\\git\\resp_test\\test_yolo\\pod\\240703EJIUXV.jpg remove C:\\Users\\duphong.hua\\Documents\\phong_document\\git\\resp_test\\test_yolo\\pod\\240703EJJJUL.jpg remove C:\\Users\\duphong.hua\\Documents\\phong_document\\git\\resp_test\\test_yolo\\pod\\240703EJJMID.jpg remove C:\\Users\\duphong.hua\\Documents\\phong_document\\git\\resp_test\\test_yolo\\pod\\240703EJJSD9.jpg remove C:\\Users\\duphong.hua\\Documents\\phong_document\\git\\resp_test\\test_yolo\\pod\\240703EJJTON.jpg remove C:\\Users\\duphong.hua\\Documents\\phong_document\\git\\resp_test\\test_yolo\\pod\\240703EJLC6A.jpg remove C:\\Users\\duphong.hua\\Documents\\phong_document\\git\\resp_test\\test_yolo\\pod\\240703EJO2NV.jpg remove C:\\Users\\duphong.hua\\Documents\\phong_document\\git\\resp_test\\test_yolo\\pod\\240703EJO97J.jpg remove C:\\Users\\duphong.hua\\Documents\\phong_document\\git\\resp_test\\test_yolo\\pod\\240703EJOK3K.jpg remove C:\\Users\\duphong.hua\\Documents\\phong_document\\git\\resp_test\\test_yolo\\pod\\240703EJR1RV.jpg remove C:\\Users\\duphong.hua\\Documents\\phong_document\\git\\resp_test\\test_yolo\\pod\\240703EJRN5G.jpg remove C:\\Users\\duphong.hua\\Documents\\phong_document\\git\\resp_test\\test_yolo\\pod\\240703EJSJJG.jpg remove C:\\Users\\duphong.hua\\Documents\\phong_document\\git\\resp_test\\test_yolo\\pod\\240703EJT376.jpg remove C:\\Users\\duphong.hua\\Documents\\phong_document\\git\\resp_test\\test_yolo\\pod\\240703EJW0EI.jpg remove C:\\Users\\duphong.hua\\Documents\\phong_document\\git\\resp_test\\test_yolo\\pod\\240703EJWCRA.jpg remove C:\\Users\\duphong.hua\\Documents\\phong_document\\git\\resp_test\\test_yolo\\pod\\240703EJWG7K.jpg remove C:\\Users\\duphong.hua\\Documents\\phong_document\\git\\resp_test\\test_yolo\\pod\\240703EJXDIZ.jpg remove C:\\Users\\duphong.hua\\Documents\\phong_document\\git\\resp_test\\test_yolo\\pod\\240703EJZ8FU.jpg remove C:\\Users\\duphong.hua\\Documents\\phong_document\\git\\resp_test\\test_yolo\\pod\\240703EK096A.jpg remove C:\\Users\\duphong.hua\\Documents\\phong_document\\git\\resp_test\\test_yolo\\pod\\240703EK0MUV.jpg remove C:\\Users\\duphong.hua\\Documents\\phong_document\\git\\resp_test\\test_yolo\\pod\\240703EK1J9N.jpg remove C:\\Users\\duphong.hua\\Documents\\phong_document\\git\\resp_test\\test_yolo\\pod\\240703EK1OC2.jpg remove C:\\Users\\duphong.hua\\Documents\\phong_document\\git\\resp_test\\test_yolo\\pod\\240703EK4X17.jpg remove C:\\Users\\duphong.hua\\Documents\\phong_document\\git\\resp_test\\test_yolo\\pod\\240703EK51PX.jpg remove C:\\Users\\duphong.hua\\Documents\\phong_document\\git\\resp_test\\test_yolo\\pod\\240703EK6AE0.jpg remove C:\\Users\\duphong.hua\\Documents\\phong_document\\git\\resp_test\\test_yolo\\pod\\240703EK6ZPZ.jpg remove C:\\Users\\duphong.hua\\Documents\\phong_document\\git\\resp_test\\test_yolo\\pod\\240703EK7IFV.jpg remove C:\\Users\\duphong.hua\\Documents\\phong_document\\git\\resp_test\\test_yolo\\pod\\240703EK851N.jpg remove C:\\Users\\duphong.hua\\Documents\\phong_document\\git\\resp_test\\test_yolo\\pod\\240703EK8P76.jpg remove C:\\Users\\duphong.hua\\Documents\\phong_document\\git\\resp_test\\test_yolo\\pod\\240703EK9NTW.jpg remove C:\\Users\\duphong.hua\\Documents\\phong_document\\git\\resp_test\\test_yolo\\pod\\240703EK9UB1.jpg remove C:\\Users\\duphong.hua\\Documents\\phong_document\\git\\resp_test\\test_yolo\\pod\\240703EK9V1H.jpg remove C:\\Users\\duphong.hua\\Documents\\phong_document\\git\\resp_test\\test_yolo\\pod\\240703EKA59Y.jpg remove C:\\Users\\duphong.hua\\Documents\\phong_document\\git\\resp_test\\test_yolo\\pod\\240703EKAEUV.jpg remove C:\\Users\\duphong.hua\\Documents\\phong_document\\git\\resp_test\\test_yolo\\pod\\240703EKB21D.jpg remove C:\\Users\\duphong.hua\\Documents\\phong_document\\git\\resp_test\\test_yolo\\pod\\240703EKBZY8.jpg remove C:\\Users\\duphong.hua\\Documents\\phong_document\\git\\resp_test\\test_yolo\\pod\\240703EKDL0V.jpg remove C:\\Users\\duphong.hua\\Documents\\phong_document\\git\\resp_test\\test_yolo\\pod\\240703EKDLQX.jpg remove C:\\Users\\duphong.hua\\Documents\\phong_document\\git\\resp_test\\test_yolo\\pod\\240703EKDPO2.jpg remove C:\\Users\\duphong.hua\\Documents\\phong_document\\git\\resp_test\\test_yolo\\pod\\240703EKE03G.jpg remove C:\\Users\\duphong.hua\\Documents\\phong_document\\git\\resp_test\\test_yolo\\pod\\240703EKEGI1.jpg remove C:\\Users\\duphong.hua\\Documents\\phong_document\\git\\resp_test\\test_yolo\\pod\\240703EKEIAH.jpg remove C:\\Users\\duphong.hua\\Documents\\phong_document\\git\\resp_test\\test_yolo\\pod\\240703EKEMYM.jpg remove C:\\Users\\duphong.hua\\Documents\\phong_document\\git\\resp_test\\test_yolo\\pod\\240703EKFEBL.jpg remove C:\\Users\\duphong.hua\\Documents\\phong_document\\git\\resp_test\\test_yolo\\pod\\240703EKG2R6.jpg remove C:\\Users\\duphong.hua\\Documents\\phong_document\\git\\resp_test\\test_yolo\\pod\\240703EKGGQO.jpg remove C:\\Users\\duphong.hua\\Documents\\phong_document\\git\\resp_test\\test_yolo\\pod\\240703EKH03I.jpg remove C:\\Users\\duphong.hua\\Documents\\phong_document\\git\\resp_test\\test_yolo\\pod\\240703EKH6V3.jpg remove C:\\Users\\duphong.hua\\Documents\\phong_document\\git\\resp_test\\test_yolo\\pod\\240703EKIGJL.jpg remove C:\\Users\\duphong.hua\\Documents\\phong_document\\git\\resp_test\\test_yolo\\pod\\240703EKIN24.jpg remove C:\\Users\\duphong.hua\\Documents\\phong_document\\git\\resp_test\\test_yolo\\pod\\240703EKKUXL.jpg remove C:\\Users\\duphong.hua\\Documents\\phong_document\\git\\resp_test\\test_yolo\\pod\\240703EKLXMZ.jpg remove C:\\Users\\duphong.hua\\Documents\\phong_document\\git\\resp_test\\test_yolo\\pod\\240703EKM7JT.jpg remove C:\\Users\\duphong.hua\\Documents\\phong_document\\git\\resp_test\\test_yolo\\pod\\240703EKNBRZ.jpg remove C:\\Users\\duphong.hua\\Documents\\phong_document\\git\\resp_test\\test_yolo\\pod\\240703EKNEOF.jpg remove C:\\Users\\duphong.hua\\Documents\\phong_document\\git\\resp_test\\test_yolo\\pod\\240703EKNUVA.jpg remove C:\\Users\\duphong.hua\\Documents\\phong_document\\git\\resp_test\\test_yolo\\pod\\240703EKNXM9.jpg remove C:\\Users\\duphong.hua\\Documents\\phong_document\\git\\resp_test\\test_yolo\\pod\\240703EKO4FL.jpg remove C:\\Users\\duphong.hua\\Documents\\phong_document\\git\\resp_test\\test_yolo\\pod\\240703EKOPIC.jpg remove C:\\Users\\duphong.hua\\Documents\\phong_document\\git\\resp_test\\test_yolo\\pod\\240703EKOREP.jpg remove C:\\Users\\duphong.hua\\Documents\\phong_document\\git\\resp_test\\test_yolo\\pod\\240703EKP4PS.jpg remove C:\\Users\\duphong.hua\\Documents\\phong_document\\git\\resp_test\\test_yolo\\pod\\240703EKPTUU.jpg remove C:\\Users\\duphong.hua\\Documents\\phong_document\\git\\resp_test\\test_yolo\\pod\\240703EKQRUO.jpg remove C:\\Users\\duphong.hua\\Documents\\phong_document\\git\\resp_test\\test_yolo\\pod\\240703EKQTUT.jpg remove C:\\Users\\duphong.hua\\Documents\\phong_document\\git\\resp_test\\test_yolo\\pod\\240703EKQWFC.jpg remove C:\\Users\\duphong.hua\\Documents\\phong_document\\git\\resp_test\\test_yolo\\pod\\240703EKTRNU.jpg remove C:\\Users\\duphong.hua\\Documents\\phong_document\\git\\resp_test\\test_yolo\\pod\\240703EKUXRG.jpg remove C:\\Users\\duphong.hua\\Documents\\phong_document\\git\\resp_test\\test_yolo\\pod\\240703EKV9LZ.jpg remove C:\\Users\\duphong.hua\\Documents\\phong_document\\git\\resp_test\\test_yolo\\pod\\240703EKVYE0.jpg remove C:\\Users\\duphong.hua\\Documents\\phong_document\\git\\resp_test\\test_yolo\\pod\\240703EKVZLW.jpg remove C:\\Users\\duphong.hua\\Documents\\phong_document\\git\\resp_test\\test_yolo\\pod\\240703EKW0A4.jpg remove C:\\Users\\duphong.hua\\Documents\\phong_document\\git\\resp_test\\test_yolo\\pod\\240703EKW1PD.jpg remove C:\\Users\\duphong.hua\\Documents\\phong_document\\git\\resp_test\\test_yolo\\pod\\240703EKYL3S.jpg remove C:\\Users\\duphong.hua\\Documents\\phong_document\\git\\resp_test\\test_yolo\\pod\\240703EKYVV8.jpg remove C:\\Users\\duphong.hua\\Documents\\phong_document\\git\\resp_test\\test_yolo\\pod\\240703EKZB4I.jpg remove C:\\Users\\duphong.hua\\Documents\\phong_document\\git\\resp_test\\test_yolo\\pod\\240703EL0GUU.jpg remove C:\\Users\\duphong.hua\\Documents\\phong_document\\git\\resp_test\\test_yolo\\pod\\240703EL1Q5Z.jpg remove C:\\Users\\duphong.hua\\Documents\\phong_document\\git\\resp_test\\test_yolo\\pod\\240703EL2JBQ.jpg remove C:\\Users\\duphong.hua\\Documents\\phong_document\\git\\resp_test\\test_yolo\\pod\\240703EL3EVV.jpg remove C:\\Users\\duphong.hua\\Documents\\phong_document\\git\\resp_test\\test_yolo\\pod\\240703EL3I5S.jpg remove C:\\Users\\duphong.hua\\Documents\\phong_document\\git\\resp_test\\test_yolo\\pod\\240703EL3VMJ.jpg remove C:\\Users\\duphong.hua\\Documents\\phong_document\\git\\resp_test\\test_yolo\\pod\\240703EL3YJA.jpg remove C:\\Users\\duphong.hua\\Documents\\phong_document\\git\\resp_test\\test_yolo\\pod\\240703EL5FXX.jpg remove C:\\Users\\duphong.hua\\Documents\\phong_document\\git\\resp_test\\test_yolo\\pod\\240703EL5LBB.jpg remove C:\\Users\\duphong.hua\\Documents\\phong_document\\git\\resp_test\\test_yolo\\pod\\240703EL5TTH.jpg remove C:\\Users\\duphong.hua\\Documents\\phong_document\\git\\resp_test\\test_yolo\\pod\\240703EL6401.jpg remove C:\\Users\\duphong.hua\\Documents\\phong_document\\git\\resp_test\\test_yolo\\pod\\240703EL6YPG.jpg remove C:\\Users\\duphong.hua\\Documents\\phong_document\\git\\resp_test\\test_yolo\\pod\\240703EL7HDC.jpg remove C:\\Users\\duphong.hua\\Documents\\phong_document\\git\\resp_test\\test_yolo\\pod\\240703EL7QI9.jpg remove C:\\Users\\duphong.hua\\Documents\\phong_document\\git\\resp_test\\test_yolo\\pod\\240703EL88NU.jpg remove C:\\Users\\duphong.hua\\Documents\\phong_document\\git\\resp_test\\test_yolo\\pod\\240703EL8A3D.jpg remove C:\\Users\\duphong.hua\\Documents\\phong_document\\git\\resp_test\\test_yolo\\pod\\240703EL8E2P.jpg remove C:\\Users\\duphong.hua\\Documents\\phong_document\\git\\resp_test\\test_yolo\\pod\\240703EL8PH6.jpg remove C:\\Users\\duphong.hua\\Documents\\phong_document\\git\\resp_test\\test_yolo\\pod\\240703EL9BVA.jpg remove C:\\Users\\duphong.hua\\Documents\\phong_document\\git\\resp_test\\test_yolo\\pod\\240703ELAUEG.jpg remove C:\\Users\\duphong.hua\\Documents\\phong_document\\git\\resp_test\\test_yolo\\pod\\240703ELD5V2.jpg remove C:\\Users\\duphong.hua\\Documents\\phong_document\\git\\resp_test\\test_yolo\\pod\\240703ELD7N3.jpg remove C:\\Users\\duphong.hua\\Documents\\phong_document\\git\\resp_test\\test_yolo\\pod\\240703ELD97V.jpg remove C:\\Users\\duphong.hua\\Documents\\phong_document\\git\\resp_test\\test_yolo\\pod\\240703ELDCL1.jpg remove C:\\Users\\duphong.hua\\Documents\\phong_document\\git\\resp_test\\test_yolo\\pod\\240703ELDROS.jpg remove C:\\Users\\duphong.hua\\Documents\\phong_document\\git\\resp_test\\test_yolo\\pod\\240703ELFFFP.jpg remove C:\\Users\\duphong.hua\\Documents\\phong_document\\git\\resp_test\\test_yolo\\pod\\240703ELFTIL.jpg remove C:\\Users\\duphong.hua\\Documents\\phong_document\\git\\resp_test\\test_yolo\\pod\\240703ELFZ2O.jpg remove C:\\Users\\duphong.hua\\Documents\\phong_document\\git\\resp_test\\test_yolo\\pod\\240703ELGGFK.jpg remove C:\\Users\\duphong.hua\\Documents\\phong_document\\git\\resp_test\\test_yolo\\pod\\240703ELHNYN.jpg remove C:\\Users\\duphong.hua\\Documents\\phong_document\\git\\resp_test\\test_yolo\\pod\\240703ELI28Q.jpg remove C:\\Users\\duphong.hua\\Documents\\phong_document\\git\\resp_test\\test_yolo\\pod\\240703ELIQUC.jpg remove C:\\Users\\duphong.hua\\Documents\\phong_document\\git\\resp_test\\test_yolo\\pod\\240703ELJ0V9.jpg remove C:\\Users\\duphong.hua\\Documents\\phong_document\\git\\resp_test\\test_yolo\\pod\\240703ELK3AC.jpg remove C:\\Users\\duphong.hua\\Documents\\phong_document\\git\\resp_test\\test_yolo\\pod\\240703ELL8RI.jpg remove C:\\Users\\duphong.hua\\Documents\\phong_document\\git\\resp_test\\test_yolo\\pod\\240703ELLC7F.jpg remove C:\\Users\\duphong.hua\\Documents\\phong_document\\git\\resp_test\\test_yolo\\pod\\240703ELLHH8.jpg remove C:\\Users\\duphong.hua\\Documents\\phong_document\\git\\resp_test\\test_yolo\\pod\\240703ELM2DW.jpg remove C:\\Users\\duphong.hua\\Documents\\phong_document\\git\\resp_test\\test_yolo\\pod\\240703ELM5UJ.jpg remove C:\\Users\\duphong.hua\\Documents\\phong_document\\git\\resp_test\\test_yolo\\pod\\240703ELMGH8.jpg remove C:\\Users\\duphong.hua\\Documents\\phong_document\\git\\resp_test\\test_yolo\\pod\\240703ELNSQV.jpg remove C:\\Users\\duphong.hua\\Documents\\phong_document\\git\\resp_test\\test_yolo\\pod\\240703ELNUGR.jpg remove C:\\Users\\duphong.hua\\Documents\\phong_document\\git\\resp_test\\test_yolo\\pod\\240703ELPHC6.jpg remove C:\\Users\\duphong.hua\\Documents\\phong_document\\git\\resp_test\\test_yolo\\pod\\240703ELPY34.jpg remove C:\\Users\\duphong.hua\\Documents\\phong_document\\git\\resp_test\\test_yolo\\pod\\240703ELQB0T.jpg remove C:\\Users\\duphong.hua\\Documents\\phong_document\\git\\resp_test\\test_yolo\\pod\\240703ELQGLB.jpg remove C:\\Users\\duphong.hua\\Documents\\phong_document\\git\\resp_test\\test_yolo\\pod\\240703ELQHJH.jpg remove C:\\Users\\duphong.hua\\Documents\\phong_document\\git\\resp_test\\test_yolo\\pod\\240703ELRICO.jpg remove C:\\Users\\duphong.hua\\Documents\\phong_document\\git\\resp_test\\test_yolo\\pod\\240703ELS9TY.jpg remove C:\\Users\\duphong.hua\\Documents\\phong_document\\git\\resp_test\\test_yolo\\pod\\240703ELSM5R.jpg remove C:\\Users\\duphong.hua\\Documents\\phong_document\\git\\resp_test\\test_yolo\\pod\\240703ELSUTG.jpg remove C:\\Users\\duphong.hua\\Documents\\phong_document\\git\\resp_test\\test_yolo\\pod\\240703ELT5KF.jpg remove C:\\Users\\duphong.hua\\Documents\\phong_document\\git\\resp_test\\test_yolo\\pod\\240703ELTBLU.jpg remove C:\\Users\\duphong.hua\\Documents\\phong_document\\git\\resp_test\\test_yolo\\pod\\240703ELTIIZ.jpg remove C:\\Users\\duphong.hua\\Documents\\phong_document\\git\\resp_test\\test_yolo\\pod\\240703ELU85F.jpg remove C:\\Users\\duphong.hua\\Documents\\phong_document\\git\\resp_test\\test_yolo\\pod\\240703ELVDYB.jpg remove C:\\Users\\duphong.hua\\Documents\\phong_document\\git\\resp_test\\test_yolo\\pod\\240703ELYBT9.jpg remove C:\\Users\\duphong.hua\\Documents\\phong_document\\git\\resp_test\\test_yolo\\pod\\240703ELZD3U.jpg remove C:\\Users\\duphong.hua\\Documents\\phong_document\\git\\resp_test\\test_yolo\\pod\\240703EM12LP.jpg remove C:\\Users\\duphong.hua\\Documents\\phong_document\\git\\resp_test\\test_yolo\\pod\\240703EM23BF.jpg remove C:\\Users\\duphong.hua\\Documents\\phong_document\\git\\resp_test\\test_yolo\\pod\\240703EM3C6C.jpg remove C:\\Users\\duphong.hua\\Documents\\phong_document\\git\\resp_test\\test_yolo\\pod\\240703EM3LGI.jpg remove C:\\Users\\duphong.hua\\Documents\\phong_document\\git\\resp_test\\test_yolo\\pod\\240703EM46U7.jpg remove C:\\Users\\duphong.hua\\Documents\\phong_document\\git\\resp_test\\test_yolo\\pod\\240703EM5AY5.jpg remove C:\\Users\\duphong.hua\\Documents\\phong_document\\git\\resp_test\\test_yolo\\pod\\240703EM5BWU.jpg remove C:\\Users\\duphong.hua\\Documents\\phong_document\\git\\resp_test\\test_yolo\\pod\\240703EM5HJK.jpg remove C:\\Users\\duphong.hua\\Documents\\phong_document\\git\\resp_test\\test_yolo\\pod\\240703EM5SV8.jpg remove C:\\Users\\duphong.hua\\Documents\\phong_document\\git\\resp_test\\test_yolo\\pod\\240703EM75KF.jpg remove C:\\Users\\duphong.hua\\Documents\\phong_document\\git\\resp_test\\test_yolo\\pod\\240703EMABL5.jpg remove C:\\Users\\duphong.hua\\Documents\\phong_document\\git\\resp_test\\test_yolo\\pod\\240703EMBB7U.jpg remove C:\\Users\\duphong.hua\\Documents\\phong_document\\git\\resp_test\\test_yolo\\pod\\240703EMBO6T.jpg remove C:\\Users\\duphong.hua\\Documents\\phong_document\\git\\resp_test\\test_yolo\\pod\\240703EMCDD3.jpg remove C:\\Users\\duphong.hua\\Documents\\phong_document\\git\\resp_test\\test_yolo\\pod\\240703EMD3GK.jpg remove C:\\Users\\duphong.hua\\Documents\\phong_document\\git\\resp_test\\test_yolo\\pod\\240703EMEGHG.jpg remove C:\\Users\\duphong.hua\\Documents\\phong_document\\git\\resp_test\\test_yolo\\pod\\240703EMFNJ8.jpg remove C:\\Users\\duphong.hua\\Documents\\phong_document\\git\\resp_test\\test_yolo\\pod\\240703EMH1CD.jpg remove C:\\Users\\duphong.hua\\Documents\\phong_document\\git\\resp_test\\test_yolo\\pod\\240703EMHDPN.jpg remove C:\\Users\\duphong.hua\\Documents\\phong_document\\git\\resp_test\\test_yolo\\pod\\240703EMJPX5.jpg remove C:\\Users\\duphong.hua\\Documents\\phong_document\\git\\resp_test\\test_yolo\\pod\\240703EMKR03.jpg remove C:\\Users\\duphong.hua\\Documents\\phong_document\\git\\resp_test\\test_yolo\\pod\\240703EMKS2S.jpg remove C:\\Users\\duphong.hua\\Documents\\phong_document\\git\\resp_test\\test_yolo\\pod\\240703EMLVTU.jpg remove C:\\Users\\duphong.hua\\Documents\\phong_document\\git\\resp_test\\test_yolo\\pod\\240703EMMPU9.jpg remove C:\\Users\\duphong.hua\\Documents\\phong_document\\git\\resp_test\\test_yolo\\pod\\240703EMNJKQ.jpg remove C:\\Users\\duphong.hua\\Documents\\phong_document\\git\\resp_test\\test_yolo\\pod\\240703EMOD3S.jpg remove C:\\Users\\duphong.hua\\Documents\\phong_document\\git\\resp_test\\test_yolo\\pod\\240703EMPH3M.jpg remove C:\\Users\\duphong.hua\\Documents\\phong_document\\git\\resp_test\\test_yolo\\pod\\240703EMPPWQ.jpg remove C:\\Users\\duphong.hua\\Documents\\phong_document\\git\\resp_test\\test_yolo\\pod\\240703EMQ0H8.jpg remove C:\\Users\\duphong.hua\\Documents\\phong_document\\git\\resp_test\\test_yolo\\pod\\240703EMQHA7.jpg remove C:\\Users\\duphong.hua\\Documents\\phong_document\\git\\resp_test\\test_yolo\\pod\\240703EMQZM4.jpg remove C:\\Users\\duphong.hua\\Documents\\phong_document\\git\\resp_test\\test_yolo\\pod\\240703EMR43Z.jpg remove C:\\Users\\duphong.hua\\Documents\\phong_document\\git\\resp_test\\test_yolo\\pod\\240703EMRA68.jpg remove C:\\Users\\duphong.hua\\Documents\\phong_document\\git\\resp_test\\test_yolo\\pod\\240703EMRPB8.jpg remove C:\\Users\\duphong.hua\\Documents\\phong_document\\git\\resp_test\\test_yolo\\pod\\240703EMSDNB.jpg remove C:\\Users\\duphong.hua\\Documents\\phong_document\\git\\resp_test\\test_yolo\\pod\\240703EMSEC5.jpg remove C:\\Users\\duphong.hua\\Documents\\phong_document\\git\\resp_test\\test_yolo\\pod\\240703EMTHSS.jpg remove C:\\Users\\duphong.hua\\Documents\\phong_document\\git\\resp_test\\test_yolo\\pod\\240703EMTX7Y.jpg remove C:\\Users\\duphong.hua\\Documents\\phong_document\\git\\resp_test\\test_yolo\\pod\\240703EMUZ3R.jpg remove C:\\Users\\duphong.hua\\Documents\\phong_document\\git\\resp_test\\test_yolo\\pod\\240703EMVUIL.jpg remove C:\\Users\\duphong.hua\\Documents\\phong_document\\git\\resp_test\\test_yolo\\pod\\240703EMWS9Y.jpg remove C:\\Users\\duphong.hua\\Documents\\phong_document\\git\\resp_test\\test_yolo\\pod\\240703EMXT6M.jpg remove C:\\Users\\duphong.hua\\Documents\\phong_document\\git\\resp_test\\test_yolo\\pod\\240703EMY9QQ.jpg remove C:\\Users\\duphong.hua\\Documents\\phong_document\\git\\resp_test\\test_yolo\\pod\\240703EMYW1L.jpg remove C:\\Users\\duphong.hua\\Documents\\phong_document\\git\\resp_test\\test_yolo\\pod\\240703EMZ9VF.jpg remove C:\\Users\\duphong.hua\\Documents\\phong_document\\git\\resp_test\\test_yolo\\pod\\240703EMZORP.jpg remove C:\\Users\\duphong.hua\\Documents\\phong_document\\git\\resp_test\\test_yolo\\pod\\240703EN0QOB.jpg remove C:\\Users\\duphong.hua\\Documents\\phong_document\\git\\resp_test\\test_yolo\\pod\\240703EN27AG.jpg remove C:\\Users\\duphong.hua\\Documents\\phong_document\\git\\resp_test\\test_yolo\\pod\\240703EN2J75.jpg remove C:\\Users\\duphong.hua\\Documents\\phong_document\\git\\resp_test\\test_yolo\\pod\\240703EN2MOA.jpg remove C:\\Users\\duphong.hua\\Documents\\phong_document\\git\\resp_test\\test_yolo\\pod\\240703EN2RHE.jpg remove C:\\Users\\duphong.hua\\Documents\\phong_document\\git\\resp_test\\test_yolo\\pod\\240703EN2XMD.jpg remove C:\\Users\\duphong.hua\\Documents\\phong_document\\git\\resp_test\\test_yolo\\pod\\240703EN3787.jpg remove C:\\Users\\duphong.hua\\Documents\\phong_document\\git\\resp_test\\test_yolo\\pod\\240703EN3C0O.jpg remove C:\\Users\\duphong.hua\\Documents\\phong_document\\git\\resp_test\\test_yolo\\pod\\240703EN3IXA.jpg remove C:\\Users\\duphong.hua\\Documents\\phong_document\\git\\resp_test\\test_yolo\\pod\\240703EN3XL4.jpg remove C:\\Users\\duphong.hua\\Documents\\phong_document\\git\\resp_test\\test_yolo\\pod\\240703EN49OZ.jpg remove C:\\Users\\duphong.hua\\Documents\\phong_document\\git\\resp_test\\test_yolo\\pod\\240703EN4OEX.jpg remove C:\\Users\\duphong.hua\\Documents\\phong_document\\git\\resp_test\\test_yolo\\pod\\240703EN5EEE.jpg remove C:\\Users\\duphong.hua\\Documents\\phong_document\\git\\resp_test\\test_yolo\\pod\\240703EN6C3R.jpg remove C:\\Users\\duphong.hua\\Documents\\phong_document\\git\\resp_test\\test_yolo\\pod\\240703EN7DOP.jpg remove C:\\Users\\duphong.hua\\Documents\\phong_document\\git\\resp_test\\test_yolo\\pod\\240703EN7JNX.jpg remove C:\\Users\\duphong.hua\\Documents\\phong_document\\git\\resp_test\\test_yolo\\pod\\240703EN89Q2.jpg remove C:\\Users\\duphong.hua\\Documents\\phong_document\\git\\resp_test\\test_yolo\\pod\\240703EN8EVR.jpg remove C:\\Users\\duphong.hua\\Documents\\phong_document\\git\\resp_test\\test_yolo\\pod\\240703EN9L1S.jpg remove C:\\Users\\duphong.hua\\Documents\\phong_document\\git\\resp_test\\test_yolo\\pod\\240703ENAUEY.jpg remove C:\\Users\\duphong.hua\\Documents\\phong_document\\git\\resp_test\\test_yolo\\pod\\240703ENAWS5.jpg remove C:\\Users\\duphong.hua\\Documents\\phong_document\\git\\resp_test\\test_yolo\\pod\\240703ENBQBQ.jpg remove C:\\Users\\duphong.hua\\Documents\\phong_document\\git\\resp_test\\test_yolo\\pod\\240703ENDC9Z.jpg remove C:\\Users\\duphong.hua\\Documents\\phong_document\\git\\resp_test\\test_yolo\\pod\\240703ENEHT3.jpg remove C:\\Users\\duphong.hua\\Documents\\phong_document\\git\\resp_test\\test_yolo\\pod\\240703ENF7AL.jpg remove C:\\Users\\duphong.hua\\Documents\\phong_document\\git\\resp_test\\test_yolo\\pod\\240703ENFY9Y.jpg remove C:\\Users\\duphong.hua\\Documents\\phong_document\\git\\resp_test\\test_yolo\\pod\\240703ENG3NK.jpg remove C:\\Users\\duphong.hua\\Documents\\phong_document\\git\\resp_test\\test_yolo\\pod\\240703ENGF3P.jpg remove C:\\Users\\duphong.hua\\Documents\\phong_document\\git\\resp_test\\test_yolo\\pod\\240703ENGINL.jpg remove C:\\Users\\duphong.hua\\Documents\\phong_document\\git\\resp_test\\test_yolo\\pod\\240703ENH0L3.jpg remove C:\\Users\\duphong.hua\\Documents\\phong_document\\git\\resp_test\\test_yolo\\pod\\240703ENHCDM.jpg remove C:\\Users\\duphong.hua\\Documents\\phong_document\\git\\resp_test\\test_yolo\\pod\\240703ENHJ7A.jpg remove C:\\Users\\duphong.hua\\Documents\\phong_document\\git\\resp_test\\test_yolo\\pod\\240703ENI2F1.jpg remove C:\\Users\\duphong.hua\\Documents\\phong_document\\git\\resp_test\\test_yolo\\pod\\240703ENK0DN.jpg remove C:\\Users\\duphong.hua\\Documents\\phong_document\\git\\resp_test\\test_yolo\\pod\\240703ENKE66.jpg remove C:\\Users\\duphong.hua\\Documents\\phong_document\\git\\resp_test\\test_yolo\\pod\\240703ENKLU0.jpg remove C:\\Users\\duphong.hua\\Documents\\phong_document\\git\\resp_test\\test_yolo\\pod\\240703ENMXEY.jpg remove C:\\Users\\duphong.hua\\Documents\\phong_document\\git\\resp_test\\test_yolo\\pod\\240703ENN8I1.jpg remove C:\\Users\\duphong.hua\\Documents\\phong_document\\git\\resp_test\\test_yolo\\pod\\240703ENOXVN.jpg remove C:\\Users\\duphong.hua\\Documents\\phong_document\\git\\resp_test\\test_yolo\\pod\\240703ENPAJ4.jpg remove C:\\Users\\duphong.hua\\Documents\\phong_document\\git\\resp_test\\test_yolo\\pod\\240703ENPISK.jpg remove C:\\Users\\duphong.hua\\Documents\\phong_document\\git\\resp_test\\test_yolo\\pod\\240703ENQ3YJ.jpg remove C:\\Users\\duphong.hua\\Documents\\phong_document\\git\\resp_test\\test_yolo\\pod\\240703ENQR4F.jpg remove C:\\Users\\duphong.hua\\Documents\\phong_document\\git\\resp_test\\test_yolo\\pod\\240703ENR7EY.jpg remove C:\\Users\\duphong.hua\\Documents\\phong_document\\git\\resp_test\\test_yolo\\pod\\240703ENS6WD.jpg remove C:\\Users\\duphong.hua\\Documents\\phong_document\\git\\resp_test\\test_yolo\\pod\\240703ENTJWT.jpg remove C:\\Users\\duphong.hua\\Documents\\phong_document\\git\\resp_test\\test_yolo\\pod\\240703ENTYI4.jpg remove C:\\Users\\duphong.hua\\Documents\\phong_document\\git\\resp_test\\test_yolo\\pod\\240703ENV8QW.jpg remove C:\\Users\\duphong.hua\\Documents\\phong_document\\git\\resp_test\\test_yolo\\pod\\240703ENV9SN.jpg remove C:\\Users\\duphong.hua\\Documents\\phong_document\\git\\resp_test\\test_yolo\\pod\\240703ENW136.jpg remove C:\\Users\\duphong.hua\\Documents\\phong_document\\git\\resp_test\\test_yolo\\pod\\240703ENYHS4.jpg remove C:\\Users\\duphong.hua\\Documents\\phong_document\\git\\resp_test\\test_yolo\\pod\\240703ENZNDQ.jpg remove C:\\Users\\duphong.hua\\Documents\\phong_document\\git\\resp_test\\test_yolo\\pod\\240703ENZUMA.jpg remove C:\\Users\\duphong.hua\\Documents\\phong_document\\git\\resp_test\\test_yolo\\pod\\240703EO0UDV.jpg remove C:\\Users\\duphong.hua\\Documents\\phong_document\\git\\resp_test\\test_yolo\\pod\\240703EO16NV.jpg remove C:\\Users\\duphong.hua\\Documents\\phong_document\\git\\resp_test\\test_yolo\\pod\\240703EO1P3B.jpg remove C:\\Users\\duphong.hua\\Documents\\phong_document\\git\\resp_test\\test_yolo\\pod\\240703EO1Q5O.jpg remove C:\\Users\\duphong.hua\\Documents\\phong_document\\git\\resp_test\\test_yolo\\pod\\240703EO25HD.jpg remove C:\\Users\\duphong.hua\\Documents\\phong_document\\git\\resp_test\\test_yolo\\pod\\240703EO2JNX.jpg remove C:\\Users\\duphong.hua\\Documents\\phong_document\\git\\resp_test\\test_yolo\\pod\\240703EO3013.jpg remove C:\\Users\\duphong.hua\\Documents\\phong_document\\git\\resp_test\\test_yolo\\pod\\240703EO389X.jpg remove C:\\Users\\duphong.hua\\Documents\\phong_document\\git\\resp_test\\test_yolo\\pod\\240703EO4N1R.jpg remove C:\\Users\\duphong.hua\\Documents\\phong_document\\git\\resp_test\\test_yolo\\pod\\240703EO4TE0.jpg remove C:\\Users\\duphong.hua\\Documents\\phong_document\\git\\resp_test\\test_yolo\\pod\\240703EO69QB.jpg remove C:\\Users\\duphong.hua\\Documents\\phong_document\\git\\resp_test\\test_yolo\\pod\\240703EO69TP.jpg remove C:\\Users\\duphong.hua\\Documents\\phong_document\\git\\resp_test\\test_yolo\\pod\\240703EO6X0B.jpg remove C:\\Users\\duphong.hua\\Documents\\phong_document\\git\\resp_test\\test_yolo\\pod\\240703EO6XJ0.jpg remove C:\\Users\\duphong.hua\\Documents\\phong_document\\git\\resp_test\\test_yolo\\pod\\240703EO75SC.jpg remove C:\\Users\\duphong.hua\\Documents\\phong_document\\git\\resp_test\\test_yolo\\pod\\240703EO7KP1.jpg remove C:\\Users\\duphong.hua\\Documents\\phong_document\\git\\resp_test\\test_yolo\\pod\\240703EO7U5L.jpg remove C:\\Users\\duphong.hua\\Documents\\phong_document\\git\\resp_test\\test_yolo\\pod\\240703EO8H95.jpg remove C:\\Users\\duphong.hua\\Documents\\phong_document\\git\\resp_test\\test_yolo\\pod\\240703EOB706.jpg remove C:\\Users\\duphong.hua\\Documents\\phong_document\\git\\resp_test\\test_yolo\\pod\\240703EOBBIU.jpg remove C:\\Users\\duphong.hua\\Documents\\phong_document\\git\\resp_test\\test_yolo\\pod\\240703EOBGB5.jpg remove C:\\Users\\duphong.hua\\Documents\\phong_document\\git\\resp_test\\test_yolo\\pod\\240703EOEF3P.jpg remove C:\\Users\\duphong.hua\\Documents\\phong_document\\git\\resp_test\\test_yolo\\pod\\240703EOF06Z.jpg remove C:\\Users\\duphong.hua\\Documents\\phong_document\\git\\resp_test\\test_yolo\\pod\\240703EOHOGV.jpg remove C:\\Users\\duphong.hua\\Documents\\phong_document\\git\\resp_test\\test_yolo\\pod\\240703EOI4NN.jpg remove C:\\Users\\duphong.hua\\Documents\\phong_document\\git\\resp_test\\test_yolo\\pod\\240703EOIDJM.jpg remove C:\\Users\\duphong.hua\\Documents\\phong_document\\git\\resp_test\\test_yolo\\pod\\240703EOJLQW.jpg remove C:\\Users\\duphong.hua\\Documents\\phong_document\\git\\resp_test\\test_yolo\\pod\\240703EOMFHD.jpg remove C:\\Users\\duphong.hua\\Documents\\phong_document\\git\\resp_test\\test_yolo\\pod\\240703EOMMKF.jpg remove C:\\Users\\duphong.hua\\Documents\\phong_document\\git\\resp_test\\test_yolo\\pod\\240703EOMU10.jpg remove C:\\Users\\duphong.hua\\Documents\\phong_document\\git\\resp_test\\test_yolo\\pod\\240703EONRP5.jpg remove C:\\Users\\duphong.hua\\Documents\\phong_document\\git\\resp_test\\test_yolo\\pod\\240703EOO4ZH.jpg remove C:\\Users\\duphong.hua\\Documents\\phong_document\\git\\resp_test\\test_yolo\\pod\\240703EOOD3X.jpg remove C:\\Users\\duphong.hua\\Documents\\phong_document\\git\\resp_test\\test_yolo\\pod\\240703EOOGJ3.jpg remove C:\\Users\\duphong.hua\\Documents\\phong_document\\git\\resp_test\\test_yolo\\pod\\240703EOOGNA.jpg remove C:\\Users\\duphong.hua\\Documents\\phong_document\\git\\resp_test\\test_yolo\\pod\\240703EOP46S.jpg remove C:\\Users\\duphong.hua\\Documents\\phong_document\\git\\resp_test\\test_yolo\\pod\\240703EOQ4KZ.jpg remove C:\\Users\\duphong.hua\\Documents\\phong_document\\git\\resp_test\\test_yolo\\pod\\240703EOQJTU.jpg remove C:\\Users\\duphong.hua\\Documents\\phong_document\\git\\resp_test\\test_yolo\\pod\\240703EOQVKJ.jpg remove C:\\Users\\duphong.hua\\Documents\\phong_document\\git\\resp_test\\test_yolo\\pod\\240703EOR0R7.jpg remove C:\\Users\\duphong.hua\\Documents\\phong_document\\git\\resp_test\\test_yolo\\pod\\240703EORIG9.jpg remove C:\\Users\\duphong.hua\\Documents\\phong_document\\git\\resp_test\\test_yolo\\pod\\240703EORU2C.jpg remove C:\\Users\\duphong.hua\\Documents\\phong_document\\git\\resp_test\\test_yolo\\pod\\240703EORZY0.jpg remove C:\\Users\\duphong.hua\\Documents\\phong_document\\git\\resp_test\\test_yolo\\pod\\240703EOS6SL.jpg remove C:\\Users\\duphong.hua\\Documents\\phong_document\\git\\resp_test\\test_yolo\\pod\\240703EOUPVW.jpg remove C:\\Users\\duphong.hua\\Documents\\phong_document\\git\\resp_test\\test_yolo\\pod\\240703EOVSSL.jpg remove C:\\Users\\duphong.hua\\Documents\\phong_document\\git\\resp_test\\test_yolo\\pod\\240703EOVXD7.jpg remove C:\\Users\\duphong.hua\\Documents\\phong_document\\git\\resp_test\\test_yolo\\pod\\240703EOW99M.jpg remove C:\\Users\\duphong.hua\\Documents\\phong_document\\git\\resp_test\\test_yolo\\pod\\240703EOX7UT.jpg remove C:\\Users\\duphong.hua\\Documents\\phong_document\\git\\resp_test\\test_yolo\\pod\\240703EOXXOZ.jpg remove C:\\Users\\duphong.hua\\Documents\\phong_document\\git\\resp_test\\test_yolo\\pod\\240703EOXXU1.jpg remove C:\\Users\\duphong.hua\\Documents\\phong_document\\git\\resp_test\\test_yolo\\pod\\240703EP0KWM.jpg remove C:\\Users\\duphong.hua\\Documents\\phong_document\\git\\resp_test\\test_yolo\\pod\\240703EP1JYW.jpg remove C:\\Users\\duphong.hua\\Documents\\phong_document\\git\\resp_test\\test_yolo\\pod\\240703EP1N97.jpg remove C:\\Users\\duphong.hua\\Documents\\phong_document\\git\\resp_test\\test_yolo\\pod\\240703EP47LT.jpg remove C:\\Users\\duphong.hua\\Documents\\phong_document\\git\\resp_test\\test_yolo\\pod\\240703EP4LD3.jpg remove C:\\Users\\duphong.hua\\Documents\\phong_document\\git\\resp_test\\test_yolo\\pod\\240703EP4PNM.jpg remove C:\\Users\\duphong.hua\\Documents\\phong_document\\git\\resp_test\\test_yolo\\pod\\240703EP4QID.jpg remove C:\\Users\\duphong.hua\\Documents\\phong_document\\git\\resp_test\\test_yolo\\pod\\240703EP5MQC.jpg remove C:\\Users\\duphong.hua\\Documents\\phong_document\\git\\resp_test\\test_yolo\\pod\\240703EP7DDH.jpg remove C:\\Users\\duphong.hua\\Documents\\phong_document\\git\\resp_test\\test_yolo\\pod\\240703EP8L32.jpg remove C:\\Users\\duphong.hua\\Documents\\phong_document\\git\\resp_test\\test_yolo\\pod\\240703EP8QGB.jpg remove C:\\Users\\duphong.hua\\Documents\\phong_document\\git\\resp_test\\test_yolo\\pod\\240703EP8VL8.jpg remove C:\\Users\\duphong.hua\\Documents\\phong_document\\git\\resp_test\\test_yolo\\pod\\240703EP91VL.jpg remove C:\\Users\\duphong.hua\\Documents\\phong_document\\git\\resp_test\\test_yolo\\pod\\240703EP9J78.jpg remove C:\\Users\\duphong.hua\\Documents\\phong_document\\git\\resp_test\\test_yolo\\pod\\240703EPA1NI.jpg remove C:\\Users\\duphong.hua\\Documents\\phong_document\\git\\resp_test\\test_yolo\\pod\\240703EPAHLG.jpg remove C:\\Users\\duphong.hua\\Documents\\phong_document\\git\\resp_test\\test_yolo\\pod\\240703EPAR3P.jpg remove C:\\Users\\duphong.hua\\Documents\\phong_document\\git\\resp_test\\test_yolo\\pod\\240703EPB22L.jpg remove C:\\Users\\duphong.hua\\Documents\\phong_document\\git\\resp_test\\test_yolo\\pod\\240703EPBP15.jpg remove C:\\Users\\duphong.hua\\Documents\\phong_document\\git\\resp_test\\test_yolo\\pod\\240703EPCRU1.jpg remove C:\\Users\\duphong.hua\\Documents\\phong_document\\git\\resp_test\\test_yolo\\pod\\240703EPEGQD.jpg remove C:\\Users\\duphong.hua\\Documents\\phong_document\\git\\resp_test\\test_yolo\\pod\\240703EPF2H8.jpg remove C:\\Users\\duphong.hua\\Documents\\phong_document\\git\\resp_test\\test_yolo\\pod\\240703EPFDR8.jpg remove C:\\Users\\duphong.hua\\Documents\\phong_document\\git\\resp_test\\test_yolo\\pod\\240703EPFODT.jpg remove C:\\Users\\duphong.hua\\Documents\\phong_document\\git\\resp_test\\test_yolo\\pod\\240703EPFPXC.jpg remove C:\\Users\\duphong.hua\\Documents\\phong_document\\git\\resp_test\\test_yolo\\pod\\240703EPG8IH.jpg remove C:\\Users\\duphong.hua\\Documents\\phong_document\\git\\resp_test\\test_yolo\\pod\\240703EPGM5R.jpg remove C:\\Users\\duphong.hua\\Documents\\phong_document\\git\\resp_test\\test_yolo\\pod\\240703EPGO3K.jpg remove C:\\Users\\duphong.hua\\Documents\\phong_document\\git\\resp_test\\test_yolo\\pod\\240703EPHDAW.jpg remove C:\\Users\\duphong.hua\\Documents\\phong_document\\git\\resp_test\\test_yolo\\pod\\240703EPJ8LW.jpg remove C:\\Users\\duphong.hua\\Documents\\phong_document\\git\\resp_test\\test_yolo\\pod\\240703EPJZBT.jpg remove C:\\Users\\duphong.hua\\Documents\\phong_document\\git\\resp_test\\test_yolo\\pod\\240703EPKTHZ.jpg remove C:\\Users\\duphong.hua\\Documents\\phong_document\\git\\resp_test\\test_yolo\\pod\\240703EPL4DQ.jpg remove C:\\Users\\duphong.hua\\Documents\\phong_document\\git\\resp_test\\test_yolo\\pod\\240703EPMYQG.jpg remove C:\\Users\\duphong.hua\\Documents\\phong_document\\git\\resp_test\\test_yolo\\pod\\240703EPN0V1.jpg remove C:\\Users\\duphong.hua\\Documents\\phong_document\\git\\resp_test\\test_yolo\\pod\\240703EPN64X.jpg remove C:\\Users\\duphong.hua\\Documents\\phong_document\\git\\resp_test\\test_yolo\\pod\\240703EPNG6O.jpg remove C:\\Users\\duphong.hua\\Documents\\phong_document\\git\\resp_test\\test_yolo\\pod\\240703EPOQC2.jpg remove C:\\Users\\duphong.hua\\Documents\\phong_document\\git\\resp_test\\test_yolo\\pod\\240703EPQ6D2.jpg remove C:\\Users\\duphong.hua\\Documents\\phong_document\\git\\resp_test\\test_yolo\\pod\\240703EPQXYK.jpg remove C:\\Users\\duphong.hua\\Documents\\phong_document\\git\\resp_test\\test_yolo\\pod\\240703EPRKGN.jpg remove C:\\Users\\duphong.hua\\Documents\\phong_document\\git\\resp_test\\test_yolo\\pod\\240703EPUV2K.jpg remove C:\\Users\\duphong.hua\\Documents\\phong_document\\git\\resp_test\\test_yolo\\pod\\240703EPV252.jpg remove C:\\Users\\duphong.hua\\Documents\\phong_document\\git\\resp_test\\test_yolo\\pod\\240703EPX99X.jpg remove C:\\Users\\duphong.hua\\Documents\\phong_document\\git\\resp_test\\test_yolo\\pod\\240703EPXMYF.jpg remove C:\\Users\\duphong.hua\\Documents\\phong_document\\git\\resp_test\\test_yolo\\pod\\240703EPY2SN.jpg remove C:\\Users\\duphong.hua\\Documents\\phong_document\\git\\resp_test\\test_yolo\\pod\\240703EPYDE2.jpg remove C:\\Users\\duphong.hua\\Documents\\phong_document\\git\\resp_test\\test_yolo\\pod\\240703EPYH7C.jpg remove C:\\Users\\duphong.hua\\Documents\\phong_document\\git\\resp_test\\test_yolo\\pod\\240703EPYTWB.jpg remove C:\\Users\\duphong.hua\\Documents\\phong_document\\git\\resp_test\\test_yolo\\pod\\240703EPZF50.jpg remove C:\\Users\\duphong.hua\\Documents\\phong_document\\git\\resp_test\\test_yolo\\pod\\240703EPZLXG.jpg remove C:\\Users\\duphong.hua\\Documents\\phong_document\\git\\resp_test\\test_yolo\\pod\\240703EPZN1P.jpg remove C:\\Users\\duphong.hua\\Documents\\phong_document\\git\\resp_test\\test_yolo\\pod\\240703EPZV6Y.jpg remove C:\\Users\\duphong.hua\\Documents\\phong_document\\git\\resp_test\\test_yolo\\pod\\240703EPZY10.jpg remove C:\\Users\\duphong.hua\\Documents\\phong_document\\git\\resp_test\\test_yolo\\pod\\240703EQ3PSC.jpg remove C:\\Users\\duphong.hua\\Documents\\phong_document\\git\\resp_test\\test_yolo\\pod\\240703EQ3QF1.jpg remove C:\\Users\\duphong.hua\\Documents\\phong_document\\git\\resp_test\\test_yolo\\pod\\240703EQ47NR.jpg remove C:\\Users\\duphong.hua\\Documents\\phong_document\\git\\resp_test\\test_yolo\\pod\\240703EQ4Z0N.jpg remove C:\\Users\\duphong.hua\\Documents\\phong_document\\git\\resp_test\\test_yolo\\pod\\240703EQ575G.jpg remove C:\\Users\\duphong.hua\\Documents\\phong_document\\git\\resp_test\\test_yolo\\pod\\240703EQ6NLP.jpg remove C:\\Users\\duphong.hua\\Documents\\phong_document\\git\\resp_test\\test_yolo\\pod\\240703EQ7NN2.jpg remove C:\\Users\\duphong.hua\\Documents\\phong_document\\git\\resp_test\\test_yolo\\pod\\240703EQ7NXV.jpg remove C:\\Users\\duphong.hua\\Documents\\phong_document\\git\\resp_test\\test_yolo\\pod\\240703EQ80NA.jpg remove C:\\Users\\duphong.hua\\Documents\\phong_document\\git\\resp_test\\test_yolo\\pod\\240703EQ8INI.jpg remove C:\\Users\\duphong.hua\\Documents\\phong_document\\git\\resp_test\\test_yolo\\pod\\240703EQ8L4A.jpg remove C:\\Users\\duphong.hua\\Documents\\phong_document\\git\\resp_test\\test_yolo\\pod\\240703EQAPME.jpg remove C:\\Users\\duphong.hua\\Documents\\phong_document\\git\\resp_test\\test_yolo\\pod\\240703EQBWL5.jpg remove C:\\Users\\duphong.hua\\Documents\\phong_document\\git\\resp_test\\test_yolo\\pod\\240703EQD808.jpg remove C:\\Users\\duphong.hua\\Documents\\phong_document\\git\\resp_test\\test_yolo\\pod\\240703EQEQ02.jpg remove C:\\Users\\duphong.hua\\Documents\\phong_document\\git\\resp_test\\test_yolo\\pod\\240703EQEQKU.jpg remove C:\\Users\\duphong.hua\\Documents\\phong_document\\git\\resp_test\\test_yolo\\pod\\240703EQEUFP.jpg remove C:\\Users\\duphong.hua\\Documents\\phong_document\\git\\resp_test\\test_yolo\\pod\\240703EQEXSL.jpg remove C:\\Users\\duphong.hua\\Documents\\phong_document\\git\\resp_test\\test_yolo\\pod\\240703EQEY5I.jpg remove C:\\Users\\duphong.hua\\Documents\\phong_document\\git\\resp_test\\test_yolo\\pod\\240703EQF814.jpg remove C:\\Users\\duphong.hua\\Documents\\phong_document\\git\\resp_test\\test_yolo\\pod\\240703EQFBVM.jpg remove C:\\Users\\duphong.hua\\Documents\\phong_document\\git\\resp_test\\test_yolo\\pod\\240703EQJ20V.jpg remove C:\\Users\\duphong.hua\\Documents\\phong_document\\git\\resp_test\\test_yolo\\pod\\240703EQK7N0.jpg remove C:\\Users\\duphong.hua\\Documents\\phong_document\\git\\resp_test\\test_yolo\\pod\\240703EQKNRZ.jpg remove C:\\Users\\duphong.hua\\Documents\\phong_document\\git\\resp_test\\test_yolo\\pod\\240703EQLNHN.jpg remove C:\\Users\\duphong.hua\\Documents\\phong_document\\git\\resp_test\\test_yolo\\pod\\240703EQLWGH.jpg remove C:\\Users\\duphong.hua\\Documents\\phong_document\\git\\resp_test\\test_yolo\\pod\\240703EQM2EG.jpg remove C:\\Users\\duphong.hua\\Documents\\phong_document\\git\\resp_test\\test_yolo\\pod\\240703EQMCJ2.jpg remove C:\\Users\\duphong.hua\\Documents\\phong_document\\git\\resp_test\\test_yolo\\pod\\240703EQN0YR.jpg remove C:\\Users\\duphong.hua\\Documents\\phong_document\\git\\resp_test\\test_yolo\\pod\\240703EQODHM.jpg remove C:\\Users\\duphong.hua\\Documents\\phong_document\\git\\resp_test\\test_yolo\\pod\\240703EQOI49.jpg remove C:\\Users\\duphong.hua\\Documents\\phong_document\\git\\resp_test\\test_yolo\\pod\\240703EQP2DS.jpg remove C:\\Users\\duphong.hua\\Documents\\phong_document\\git\\resp_test\\test_yolo\\pod\\240703EQQBM7.jpg remove C:\\Users\\duphong.hua\\Documents\\phong_document\\git\\resp_test\\test_yolo\\pod\\240703EQRX2H.jpg remove C:\\Users\\duphong.hua\\Documents\\phong_document\\git\\resp_test\\test_yolo\\pod\\240703EQSA8H.jpg remove C:\\Users\\duphong.hua\\Documents\\phong_document\\git\\resp_test\\test_yolo\\pod\\240703EQSRO0.jpg remove C:\\Users\\duphong.hua\\Documents\\phong_document\\git\\resp_test\\test_yolo\\pod\\240703EQT4U9.jpg remove C:\\Users\\duphong.hua\\Documents\\phong_document\\git\\resp_test\\test_yolo\\pod\\240703EQTBUN.jpg remove C:\\Users\\duphong.hua\\Documents\\phong_document\\git\\resp_test\\test_yolo\\pod\\240703EQTGE2.jpg remove C:\\Users\\duphong.hua\\Documents\\phong_document\\git\\resp_test\\test_yolo\\pod\\240703EQTQHE.jpg remove C:\\Users\\duphong.hua\\Documents\\phong_document\\git\\resp_test\\test_yolo\\pod\\240703EQU4IF.jpg remove C:\\Users\\duphong.hua\\Documents\\phong_document\\git\\resp_test\\test_yolo\\pod\\240703EQWM2G.jpg remove C:\\Users\\duphong.hua\\Documents\\phong_document\\git\\resp_test\\test_yolo\\pod\\240703EQX45E.jpg remove C:\\Users\\duphong.hua\\Documents\\phong_document\\git\\resp_test\\test_yolo\\pod\\240703EQXR3J.jpg remove C:\\Users\\duphong.hua\\Documents\\phong_document\\git\\resp_test\\test_yolo\\pod\\240703EQYO6S.jpg remove C:\\Users\\duphong.hua\\Documents\\phong_document\\git\\resp_test\\test_yolo\\pod\\240703EQYX9N.jpg remove C:\\Users\\duphong.hua\\Documents\\phong_document\\git\\resp_test\\test_yolo\\pod\\240703EQZID1.jpg remove C:\\Users\\duphong.hua\\Documents\\phong_document\\git\\resp_test\\test_yolo\\pod\\240703ER0BSQ.jpg remove C:\\Users\\duphong.hua\\Documents\\phong_document\\git\\resp_test\\test_yolo\\pod\\240703ER2LK0.jpg remove C:\\Users\\duphong.hua\\Documents\\phong_document\\git\\resp_test\\test_yolo\\pod\\240703ER3DDZ.jpg remove C:\\Users\\duphong.hua\\Documents\\phong_document\\git\\resp_test\\test_yolo\\pod\\240703ER4XNH.jpg remove C:\\Users\\duphong.hua\\Documents\\phong_document\\git\\resp_test\\test_yolo\\pod\\240703ER563L.jpg remove C:\\Users\\duphong.hua\\Documents\\phong_document\\git\\resp_test\\test_yolo\\pod\\240703ER64KJ.jpg remove C:\\Users\\duphong.hua\\Documents\\phong_document\\git\\resp_test\\test_yolo\\pod\\240703ER6ERT.jpg remove C:\\Users\\duphong.hua\\Documents\\phong_document\\git\\resp_test\\test_yolo\\pod\\240703ER6N8G.jpg remove C:\\Users\\duphong.hua\\Documents\\phong_document\\git\\resp_test\\test_yolo\\pod\\240703ER8AQR.jpg remove C:\\Users\\duphong.hua\\Documents\\phong_document\\git\\resp_test\\test_yolo\\pod\\240703ER8PVT.jpg remove C:\\Users\\duphong.hua\\Documents\\phong_document\\git\\resp_test\\test_yolo\\pod\\240703ER93XH.jpg remove C:\\Users\\duphong.hua\\Documents\\phong_document\\git\\resp_test\\test_yolo\\pod\\240703ER9VCW.jpg remove C:\\Users\\duphong.hua\\Documents\\phong_document\\git\\resp_test\\test_yolo\\pod\\240703ERC4PX.jpg remove C:\\Users\\duphong.hua\\Documents\\phong_document\\git\\resp_test\\test_yolo\\pod\\240703ERCXPV.jpg remove C:\\Users\\duphong.hua\\Documents\\phong_document\\git\\resp_test\\test_yolo\\pod\\240703ERDENR.jpg remove C:\\Users\\duphong.hua\\Documents\\phong_document\\git\\resp_test\\test_yolo\\pod\\240703ERDH5H.jpg remove C:\\Users\\duphong.hua\\Documents\\phong_document\\git\\resp_test\\test_yolo\\pod\\240703EREFOJ.jpg remove C:\\Users\\duphong.hua\\Documents\\phong_document\\git\\resp_test\\test_yolo\\pod\\240703EREYN1.jpg remove C:\\Users\\duphong.hua\\Documents\\phong_document\\git\\resp_test\\test_yolo\\pod\\240703ERF30R.jpg remove C:\\Users\\duphong.hua\\Documents\\phong_document\\git\\resp_test\\test_yolo\\pod\\240703ERG3RL.jpg remove C:\\Users\\duphong.hua\\Documents\\phong_document\\git\\resp_test\\test_yolo\\pod\\240703ERHJXB.jpg remove C:\\Users\\duphong.hua\\Documents\\phong_document\\git\\resp_test\\test_yolo\\pod\\240703ERHQBX.jpg remove C:\\Users\\duphong.hua\\Documents\\phong_document\\git\\resp_test\\test_yolo\\pod\\240703ERHRQ4.jpg remove C:\\Users\\duphong.hua\\Documents\\phong_document\\git\\resp_test\\test_yolo\\pod\\240703ERIGG7.jpg remove C:\\Users\\duphong.hua\\Documents\\phong_document\\git\\resp_test\\test_yolo\\pod\\240703ERILMB.jpg remove C:\\Users\\duphong.hua\\Documents\\phong_document\\git\\resp_test\\test_yolo\\pod\\240703ERJ30J.jpg remove C:\\Users\\duphong.hua\\Documents\\phong_document\\git\\resp_test\\test_yolo\\pod\\240703ERJAZR.jpg remove C:\\Users\\duphong.hua\\Documents\\phong_document\\git\\resp_test\\test_yolo\\pod\\240703ERJM3B.jpg remove C:\\Users\\duphong.hua\\Documents\\phong_document\\git\\resp_test\\test_yolo\\pod\\240703ERK3W4.jpg remove C:\\Users\\duphong.hua\\Documents\\phong_document\\git\\resp_test\\test_yolo\\pod\\240703ERLOKQ.jpg remove C:\\Users\\duphong.hua\\Documents\\phong_document\\git\\resp_test\\test_yolo\\pod\\240703ERMNN6.jpg remove C:\\Users\\duphong.hua\\Documents\\phong_document\\git\\resp_test\\test_yolo\\pod\\240703ERMTNZ.jpg remove C:\\Users\\duphong.hua\\Documents\\phong_document\\git\\resp_test\\test_yolo\\pod\\240703ERNE48.jpg remove C:\\Users\\duphong.hua\\Documents\\phong_document\\git\\resp_test\\test_yolo\\pod\\240703ERNGRR.jpg remove C:\\Users\\duphong.hua\\Documents\\phong_document\\git\\resp_test\\test_yolo\\pod\\240703ERNJFP.jpg remove C:\\Users\\duphong.hua\\Documents\\phong_document\\git\\resp_test\\test_yolo\\pod\\240703ERNP3P.jpg remove C:\\Users\\duphong.hua\\Documents\\phong_document\\git\\resp_test\\test_yolo\\pod\\240703EROCT6.jpg remove C:\\Users\\duphong.hua\\Documents\\phong_document\\git\\resp_test\\test_yolo\\pod\\240703ERPU5S.jpg remove C:\\Users\\duphong.hua\\Documents\\phong_document\\git\\resp_test\\test_yolo\\pod\\240703ERPWZ5.jpg remove C:\\Users\\duphong.hua\\Documents\\phong_document\\git\\resp_test\\test_yolo\\pod\\240703ERQJ6I.jpg remove C:\\Users\\duphong.hua\\Documents\\phong_document\\git\\resp_test\\test_yolo\\pod\\240703ERQUNC.jpg remove C:\\Users\\duphong.hua\\Documents\\phong_document\\git\\resp_test\\test_yolo\\pod\\240703ERRF6I.jpg remove C:\\Users\\duphong.hua\\Documents\\phong_document\\git\\resp_test\\test_yolo\\pod\\240703ERS3MY.jpg remove C:\\Users\\duphong.hua\\Documents\\phong_document\\git\\resp_test\\test_yolo\\pod\\240703ERS8I6.jpg remove C:\\Users\\duphong.hua\\Documents\\phong_document\\git\\resp_test\\test_yolo\\pod\\240703ERSHCZ.jpg remove C:\\Users\\duphong.hua\\Documents\\phong_document\\git\\resp_test\\test_yolo\\pod\\240703ERSRF9.jpg remove C:\\Users\\duphong.hua\\Documents\\phong_document\\git\\resp_test\\test_yolo\\pod\\240703ERT0GH.jpg remove C:\\Users\\duphong.hua\\Documents\\phong_document\\git\\resp_test\\test_yolo\\pod\\240703ERT3LK.jpg remove C:\\Users\\duphong.hua\\Documents\\phong_document\\git\\resp_test\\test_yolo\\pod\\240703ERVBGG.jpg remove C:\\Users\\duphong.hua\\Documents\\phong_document\\git\\resp_test\\test_yolo\\pod\\240703ERVHG5.jpg remove C:\\Users\\duphong.hua\\Documents\\phong_document\\git\\resp_test\\test_yolo\\pod\\240703ERVM0E.jpg remove C:\\Users\\duphong.hua\\Documents\\phong_document\\git\\resp_test\\test_yolo\\pod\\240703ERWGS4.jpg remove C:\\Users\\duphong.hua\\Documents\\phong_document\\git\\resp_test\\test_yolo\\pod\\240703ERWIFB.jpg remove C:\\Users\\duphong.hua\\Documents\\phong_document\\git\\resp_test\\test_yolo\\pod\\240703ERXUZK.jpg remove C:\\Users\\duphong.hua\\Documents\\phong_document\\git\\resp_test\\test_yolo\\pod\\240703ERYUV4.jpg remove C:\\Users\\duphong.hua\\Documents\\phong_document\\git\\resp_test\\test_yolo\\pod\\240703ERZ0DU.jpg remove C:\\Users\\duphong.hua\\Documents\\phong_document\\git\\resp_test\\test_yolo\\pod\\240703ERZ3ZQ.jpg remove C:\\Users\\duphong.hua\\Documents\\phong_document\\git\\resp_test\\test_yolo\\pod\\240703ERZDC1.jpg remove C:\\Users\\duphong.hua\\Documents\\phong_document\\git\\resp_test\\test_yolo\\pod\\240703ES1MKE.jpg remove C:\\Users\\duphong.hua\\Documents\\phong_document\\git\\resp_test\\test_yolo\\pod\\240703ES296W.jpg remove C:\\Users\\duphong.hua\\Documents\\phong_document\\git\\resp_test\\test_yolo\\pod\\240703ES2AKK.jpg remove C:\\Users\\duphong.hua\\Documents\\phong_document\\git\\resp_test\\test_yolo\\pod\\240703ES2ICU.jpg remove C:\\Users\\duphong.hua\\Documents\\phong_document\\git\\resp_test\\test_yolo\\pod\\240703ES2Y60.jpg remove C:\\Users\\duphong.hua\\Documents\\phong_document\\git\\resp_test\\test_yolo\\pod\\240703ES4B0L.jpg remove C:\\Users\\duphong.hua\\Documents\\phong_document\\git\\resp_test\\test_yolo\\pod\\240703ES4GZS.jpg remove C:\\Users\\duphong.hua\\Documents\\phong_document\\git\\resp_test\\test_yolo\\pod\\240703ES55OX.jpg remove C:\\Users\\duphong.hua\\Documents\\phong_document\\git\\resp_test\\test_yolo\\pod\\240703ES5AW2.jpg remove C:\\Users\\duphong.hua\\Documents\\phong_document\\git\\resp_test\\test_yolo\\pod\\240703ES6NZF.jpg remove C:\\Users\\duphong.hua\\Documents\\phong_document\\git\\resp_test\\test_yolo\\pod\\240703ES6VQ3.jpg remove C:\\Users\\duphong.hua\\Documents\\phong_document\\git\\resp_test\\test_yolo\\pod\\240703ES81DX.jpg remove C:\\Users\\duphong.hua\\Documents\\phong_document\\git\\resp_test\\test_yolo\\pod\\240703ES8C9H.jpg remove C:\\Users\\duphong.hua\\Documents\\phong_document\\git\\resp_test\\test_yolo\\pod\\240703ES8H0N.jpg remove C:\\Users\\duphong.hua\\Documents\\phong_document\\git\\resp_test\\test_yolo\\pod\\240703ES8JOV.jpg remove C:\\Users\\duphong.hua\\Documents\\phong_document\\git\\resp_test\\test_yolo\\pod\\240703ES8L8C.jpg remove C:\\Users\\duphong.hua\\Documents\\phong_document\\git\\resp_test\\test_yolo\\pod\\240703ES8RJO.jpg remove C:\\Users\\duphong.hua\\Documents\\phong_document\\git\\resp_test\\test_yolo\\pod\\240703ES93I2.jpg remove C:\\Users\\duphong.hua\\Documents\\phong_document\\git\\resp_test\\test_yolo\\pod\\240703ES9LQT.jpg remove C:\\Users\\duphong.hua\\Documents\\phong_document\\git\\resp_test\\test_yolo\\pod\\240703ES9MBZ.jpg remove C:\\Users\\duphong.hua\\Documents\\phong_document\\git\\resp_test\\test_yolo\\pod\\240703ESAMXX.jpg remove C:\\Users\\duphong.hua\\Documents\\phong_document\\git\\resp_test\\test_yolo\\pod\\240703ESB1J6.jpg remove C:\\Users\\duphong.hua\\Documents\\phong_document\\git\\resp_test\\test_yolo\\pod\\240703ESCLDD.jpg remove C:\\Users\\duphong.hua\\Documents\\phong_document\\git\\resp_test\\test_yolo\\pod\\240703ESCYFU.jpg remove C:\\Users\\duphong.hua\\Documents\\phong_document\\git\\resp_test\\test_yolo\\pod\\240703ESD9M1.jpg remove C:\\Users\\duphong.hua\\Documents\\phong_document\\git\\resp_test\\test_yolo\\pod\\240703ESEJ96.jpg remove C:\\Users\\duphong.hua\\Documents\\phong_document\\git\\resp_test\\test_yolo\\pod\\240703ESEZVZ.jpg remove C:\\Users\\duphong.hua\\Documents\\phong_document\\git\\resp_test\\test_yolo\\pod\\240703ESF8DS.jpg remove C:\\Users\\duphong.hua\\Documents\\phong_document\\git\\resp_test\\test_yolo\\pod\\240703ESG6CW.jpg remove C:\\Users\\duphong.hua\\Documents\\phong_document\\git\\resp_test\\test_yolo\\pod\\240703ESGI1P.jpg remove C:\\Users\\duphong.hua\\Documents\\phong_document\\git\\resp_test\\test_yolo\\pod\\240703ESICTC.jpg remove C:\\Users\\duphong.hua\\Documents\\phong_document\\git\\resp_test\\test_yolo\\pod\\240703ESJ93S.jpg remove C:\\Users\\duphong.hua\\Documents\\phong_document\\git\\resp_test\\test_yolo\\pod\\240703ESJEHB.jpg remove C:\\Users\\duphong.hua\\Documents\\phong_document\\git\\resp_test\\test_yolo\\pod\\240703ESKPWG.jpg remove C:\\Users\\duphong.hua\\Documents\\phong_document\\git\\resp_test\\test_yolo\\pod\\240703ESKTPR.jpg remove C:\\Users\\duphong.hua\\Documents\\phong_document\\git\\resp_test\\test_yolo\\pod\\240703ESL8SI.jpg remove C:\\Users\\duphong.hua\\Documents\\phong_document\\git\\resp_test\\test_yolo\\pod\\240703ESNWXI.jpg remove C:\\Users\\duphong.hua\\Documents\\phong_document\\git\\resp_test\\test_yolo\\pod\\240703ESPLF9.jpg remove C:\\Users\\duphong.hua\\Documents\\phong_document\\git\\resp_test\\test_yolo\\pod\\240703ESQ37R.jpg remove C:\\Users\\duphong.hua\\Documents\\phong_document\\git\\resp_test\\test_yolo\\pod\\240703ESQLCJ.jpg remove C:\\Users\\duphong.hua\\Documents\\phong_document\\git\\resp_test\\test_yolo\\pod\\240703ESQNLE.jpg remove C:\\Users\\duphong.hua\\Documents\\phong_document\\git\\resp_test\\test_yolo\\pod\\240703ESQVJC.jpg remove C:\\Users\\duphong.hua\\Documents\\phong_document\\git\\resp_test\\test_yolo\\pod\\240703ESQZ2F.jpg remove C:\\Users\\duphong.hua\\Documents\\phong_document\\git\\resp_test\\test_yolo\\pod\\240703ESS85K.jpg remove C:\\Users\\duphong.hua\\Documents\\phong_document\\git\\resp_test\\test_yolo\\pod\\240703ESSUNP.jpg remove C:\\Users\\duphong.hua\\Documents\\phong_document\\git\\resp_test\\test_yolo\\pod\\240703ESTI12.jpg remove C:\\Users\\duphong.hua\\Documents\\phong_document\\git\\resp_test\\test_yolo\\pod\\240703ESV9H5.jpg remove C:\\Users\\duphong.hua\\Documents\\phong_document\\git\\resp_test\\test_yolo\\pod\\240703ESVF8W.jpg remove C:\\Users\\duphong.hua\\Documents\\phong_document\\git\\resp_test\\test_yolo\\pod\\240703ESVOC4.jpg remove C:\\Users\\duphong.hua\\Documents\\phong_document\\git\\resp_test\\test_yolo\\pod\\240703ESVPUO.jpg remove C:\\Users\\duphong.hua\\Documents\\phong_document\\git\\resp_test\\test_yolo\\pod\\240703ESXSQ6.jpg remove C:\\Users\\duphong.hua\\Documents\\phong_document\\git\\resp_test\\test_yolo\\pod\\240703ESXUMB.jpg remove C:\\Users\\duphong.hua\\Documents\\phong_document\\git\\resp_test\\test_yolo\\pod\\240703ESY4QD.jpg remove C:\\Users\\duphong.hua\\Documents\\phong_document\\git\\resp_test\\test_yolo\\pod\\240703ESYDZI.jpg remove C:\\Users\\duphong.hua\\Documents\\phong_document\\git\\resp_test\\test_yolo\\pod\\240703ESYP4I.jpg remove C:\\Users\\duphong.hua\\Documents\\phong_document\\git\\resp_test\\test_yolo\\pod\\240703ESZIUE.jpg remove C:\\Users\\duphong.hua\\Documents\\phong_document\\git\\resp_test\\test_yolo\\pod\\240703ET02R8.jpg remove C:\\Users\\duphong.hua\\Documents\\phong_document\\git\\resp_test\\test_yolo\\pod\\240703ET13VD.jpg remove C:\\Users\\duphong.hua\\Documents\\phong_document\\git\\resp_test\\test_yolo\\pod\\240703ET1KT8.jpg remove C:\\Users\\duphong.hua\\Documents\\phong_document\\git\\resp_test\\test_yolo\\pod\\240703ET2KJL.jpg remove C:\\Users\\duphong.hua\\Documents\\phong_document\\git\\resp_test\\test_yolo\\pod\\240703ET2P5E.jpg remove C:\\Users\\duphong.hua\\Documents\\phong_document\\git\\resp_test\\test_yolo\\pod\\240703ET2VLX.jpg remove C:\\Users\\duphong.hua\\Documents\\phong_document\\git\\resp_test\\test_yolo\\pod\\240703ET2XPB.jpg remove C:\\Users\\duphong.hua\\Documents\\phong_document\\git\\resp_test\\test_yolo\\pod\\240703ET31X0.jpg remove C:\\Users\\duphong.hua\\Documents\\phong_document\\git\\resp_test\\test_yolo\\pod\\240703ET37BO.jpg remove C:\\Users\\duphong.hua\\Documents\\phong_document\\git\\resp_test\\test_yolo\\pod\\240703ET3NTJ.jpg remove C:\\Users\\duphong.hua\\Documents\\phong_document\\git\\resp_test\\test_yolo\\pod\\240703ET4HFN.jpg remove C:\\Users\\duphong.hua\\Documents\\phong_document\\git\\resp_test\\test_yolo\\pod\\240703ET4JZ9.jpg remove C:\\Users\\duphong.hua\\Documents\\phong_document\\git\\resp_test\\test_yolo\\pod\\240703ET4QZM.jpg remove C:\\Users\\duphong.hua\\Documents\\phong_document\\git\\resp_test\\test_yolo\\pod\\240703ET4X37.jpg remove C:\\Users\\duphong.hua\\Documents\\phong_document\\git\\resp_test\\test_yolo\\pod\\240703ET548N.jpg remove C:\\Users\\duphong.hua\\Documents\\phong_document\\git\\resp_test\\test_yolo\\pod\\240703ET6GYK.jpg remove C:\\Users\\duphong.hua\\Documents\\phong_document\\git\\resp_test\\test_yolo\\pod\\240703ET70P1.jpg remove C:\\Users\\duphong.hua\\Documents\\phong_document\\git\\resp_test\\test_yolo\\pod\\240703ET78E0.jpg remove C:\\Users\\duphong.hua\\Documents\\phong_document\\git\\resp_test\\test_yolo\\pod\\240703ET7KDA.jpg remove C:\\Users\\duphong.hua\\Documents\\phong_document\\git\\resp_test\\test_yolo\\pod\\240703ET7Q14.jpg remove C:\\Users\\duphong.hua\\Documents\\phong_document\\git\\resp_test\\test_yolo\\pod\\240703ET8PEA.jpg remove C:\\Users\\duphong.hua\\Documents\\phong_document\\git\\resp_test\\test_yolo\\pod\\240703ET9006.jpg remove C:\\Users\\duphong.hua\\Documents\\phong_document\\git\\resp_test\\test_yolo\\pod\\240703ET9FDM.jpg remove C:\\Users\\duphong.hua\\Documents\\phong_document\\git\\resp_test\\test_yolo\\pod\\240703ETA69Q.jpg remove C:\\Users\\duphong.hua\\Documents\\phong_document\\git\\resp_test\\test_yolo\\pod\\240703ETBKAU.jpg remove C:\\Users\\duphong.hua\\Documents\\phong_document\\git\\resp_test\\test_yolo\\pod\\240703ETC28T.jpg remove C:\\Users\\duphong.hua\\Documents\\phong_document\\git\\resp_test\\test_yolo\\pod\\240703ETCP3G.jpg remove C:\\Users\\duphong.hua\\Documents\\phong_document\\git\\resp_test\\test_yolo\\pod\\240703ETCS63.jpg remove C:\\Users\\duphong.hua\\Documents\\phong_document\\git\\resp_test\\test_yolo\\pod\\240703ETD9XD.jpg remove C:\\Users\\duphong.hua\\Documents\\phong_document\\git\\resp_test\\test_yolo\\pod\\240703ETDA2O.jpg remove C:\\Users\\duphong.hua\\Documents\\phong_document\\git\\resp_test\\test_yolo\\pod\\240703ETFTSQ.jpg remove C:\\Users\\duphong.hua\\Documents\\phong_document\\git\\resp_test\\test_yolo\\pod\\240703ETFWME.jpg remove C:\\Users\\duphong.hua\\Documents\\phong_document\\git\\resp_test\\test_yolo\\pod\\240703ETG76D.jpg remove C:\\Users\\duphong.hua\\Documents\\phong_document\\git\\resp_test\\test_yolo\\pod\\240703ETGCXL.jpg remove C:\\Users\\duphong.hua\\Documents\\phong_document\\git\\resp_test\\test_yolo\\pod\\240703ETGIRV.jpg remove C:\\Users\\duphong.hua\\Documents\\phong_document\\git\\resp_test\\test_yolo\\pod\\240703ETHSN3.jpg remove C:\\Users\\duphong.hua\\Documents\\phong_document\\git\\resp_test\\test_yolo\\pod\\240703ETHSUW.jpg remove C:\\Users\\duphong.hua\\Documents\\phong_document\\git\\resp_test\\test_yolo\\pod\\240703ETHW5P.jpg remove C:\\Users\\duphong.hua\\Documents\\phong_document\\git\\resp_test\\test_yolo\\pod\\240703ETICXV.jpg remove C:\\Users\\duphong.hua\\Documents\\phong_document\\git\\resp_test\\test_yolo\\pod\\240703ETIZ8L.jpg remove C:\\Users\\duphong.hua\\Documents\\phong_document\\git\\resp_test\\test_yolo\\pod\\240703ETJS19.jpg remove C:\\Users\\duphong.hua\\Documents\\phong_document\\git\\resp_test\\test_yolo\\pod\\240703ETKCLM.jpg remove C:\\Users\\duphong.hua\\Documents\\phong_document\\git\\resp_test\\test_yolo\\pod\\240703ETKODX.jpg remove C:\\Users\\duphong.hua\\Documents\\phong_document\\git\\resp_test\\test_yolo\\pod\\240703ETKZJN.jpg remove C:\\Users\\duphong.hua\\Documents\\phong_document\\git\\resp_test\\test_yolo\\pod\\240703ETL23F.jpg remove C:\\Users\\duphong.hua\\Documents\\phong_document\\git\\resp_test\\test_yolo\\pod\\240703ETLNQ5.jpg remove C:\\Users\\duphong.hua\\Documents\\phong_document\\git\\resp_test\\test_yolo\\pod\\240703ETMDJ2.jpg remove C:\\Users\\duphong.hua\\Documents\\phong_document\\git\\resp_test\\test_yolo\\pod\\240703ETMW0V.jpg remove C:\\Users\\duphong.hua\\Documents\\phong_document\\git\\resp_test\\test_yolo\\pod\\240703ETNU0O.jpg remove C:\\Users\\duphong.hua\\Documents\\phong_document\\git\\resp_test\\test_yolo\\pod\\240703ETOGND.jpg remove C:\\Users\\duphong.hua\\Documents\\phong_document\\git\\resp_test\\test_yolo\\pod\\240703ETPA7N.jpg remove C:\\Users\\duphong.hua\\Documents\\phong_document\\git\\resp_test\\test_yolo\\pod\\240703ETPE51.jpg remove C:\\Users\\duphong.hua\\Documents\\phong_document\\git\\resp_test\\test_yolo\\pod\\240703ETPUED.jpg remove C:\\Users\\duphong.hua\\Documents\\phong_document\\git\\resp_test\\test_yolo\\pod\\240703ETQ7KA.jpg remove C:\\Users\\duphong.hua\\Documents\\phong_document\\git\\resp_test\\test_yolo\\pod\\240703ETQK86.jpg remove C:\\Users\\duphong.hua\\Documents\\phong_document\\git\\resp_test\\test_yolo\\pod\\240703ETSSCP.jpg remove C:\\Users\\duphong.hua\\Documents\\phong_document\\git\\resp_test\\test_yolo\\pod\\240703ETTV0J.jpg remove C:\\Users\\duphong.hua\\Documents\\phong_document\\git\\resp_test\\test_yolo\\pod\\240703ETW3BA.jpg remove C:\\Users\\duphong.hua\\Documents\\phong_document\\git\\resp_test\\test_yolo\\pod\\240703ETW6KO.jpg remove C:\\Users\\duphong.hua\\Documents\\phong_document\\git\\resp_test\\test_yolo\\pod\\240703ETX8QB.jpg remove C:\\Users\\duphong.hua\\Documents\\phong_document\\git\\resp_test\\test_yolo\\pod\\240703ETXQYQ.jpg remove C:\\Users\\duphong.hua\\Documents\\phong_document\\git\\resp_test\\test_yolo\\pod\\240703ETXXKE.jpg remove C:\\Users\\duphong.hua\\Documents\\phong_document\\git\\resp_test\\test_yolo\\pod\\240703ETY7TN.jpg remove C:\\Users\\duphong.hua\\Documents\\phong_document\\git\\resp_test\\test_yolo\\pod\\240703ETYMLD.jpg remove C:\\Users\\duphong.hua\\Documents\\phong_document\\git\\resp_test\\test_yolo\\pod\\240703ETYW07.jpg remove C:\\Users\\duphong.hua\\Documents\\phong_document\\git\\resp_test\\test_yolo\\pod\\240703ETZJM4.jpg remove C:\\Users\\duphong.hua\\Documents\\phong_document\\git\\resp_test\\test_yolo\\pod\\240703ETZTGH.jpg remove C:\\Users\\duphong.hua\\Documents\\phong_document\\git\\resp_test\\test_yolo\\pod\\240703EU05HH.jpg remove C:\\Users\\duphong.hua\\Documents\\phong_document\\git\\resp_test\\test_yolo\\pod\\240703EU1HL3.jpg remove C:\\Users\\duphong.hua\\Documents\\phong_document\\git\\resp_test\\test_yolo\\pod\\240703EU2DX1.jpg remove C:\\Users\\duphong.hua\\Documents\\phong_document\\git\\resp_test\\test_yolo\\pod\\240703EU2NAV.jpg remove C:\\Users\\duphong.hua\\Documents\\phong_document\\git\\resp_test\\test_yolo\\pod\\240703EU3BGT.jpg remove C:\\Users\\duphong.hua\\Documents\\phong_document\\git\\resp_test\\test_yolo\\pod\\240703EU3OF1.jpg remove C:\\Users\\duphong.hua\\Documents\\phong_document\\git\\resp_test\\test_yolo\\pod\\240703EU40TU.jpg remove C:\\Users\\duphong.hua\\Documents\\phong_document\\git\\resp_test\\test_yolo\\pod\\240703EU4APQ.jpg remove C:\\Users\\duphong.hua\\Documents\\phong_document\\git\\resp_test\\test_yolo\\pod\\240703EU4RM1.jpg remove C:\\Users\\duphong.hua\\Documents\\phong_document\\git\\resp_test\\test_yolo\\pod\\240703EU5058.jpg remove C:\\Users\\duphong.hua\\Documents\\phong_document\\git\\resp_test\\test_yolo\\pod\\240703EU6L0M.jpg remove C:\\Users\\duphong.hua\\Documents\\phong_document\\git\\resp_test\\test_yolo\\pod\\240703EU6RAM.jpg remove C:\\Users\\duphong.hua\\Documents\\phong_document\\git\\resp_test\\test_yolo\\pod\\240703EU9IB6.jpg remove C:\\Users\\duphong.hua\\Documents\\phong_document\\git\\resp_test\\test_yolo\\pod\\240703EUAB35.jpg remove C:\\Users\\duphong.hua\\Documents\\phong_document\\git\\resp_test\\test_yolo\\pod\\240703EUB4HV.jpg remove C:\\Users\\duphong.hua\\Documents\\phong_document\\git\\resp_test\\test_yolo\\pod\\240703EUBPO4.jpg remove C:\\Users\\duphong.hua\\Documents\\phong_document\\git\\resp_test\\test_yolo\\pod\\240703EUD10W.jpg remove C:\\Users\\duphong.hua\\Documents\\phong_document\\git\\resp_test\\test_yolo\\pod\\240703EUD5BA.jpg remove C:\\Users\\duphong.hua\\Documents\\phong_document\\git\\resp_test\\test_yolo\\pod\\240703EUDM2V.jpg remove C:\\Users\\duphong.hua\\Documents\\phong_document\\git\\resp_test\\test_yolo\\pod\\240703EUF209.jpg remove C:\\Users\\duphong.hua\\Documents\\phong_document\\git\\resp_test\\test_yolo\\pod\\240703EUF84F.jpg remove C:\\Users\\duphong.hua\\Documents\\phong_document\\git\\resp_test\\test_yolo\\pod\\240703EUG9IQ.jpg remove C:\\Users\\duphong.hua\\Documents\\phong_document\\git\\resp_test\\test_yolo\\pod\\240703EUH5P3.jpg remove C:\\Users\\duphong.hua\\Documents\\phong_document\\git\\resp_test\\test_yolo\\pod\\240703EUJ2HV.jpg remove C:\\Users\\duphong.hua\\Documents\\phong_document\\git\\resp_test\\test_yolo\\pod\\240703EUJDU7.jpg remove C:\\Users\\duphong.hua\\Documents\\phong_document\\git\\resp_test\\test_yolo\\pod\\240703EUJLOP.jpg remove C:\\Users\\duphong.hua\\Documents\\phong_document\\git\\resp_test\\test_yolo\\pod\\240703EUJSOZ.jpg remove C:\\Users\\duphong.hua\\Documents\\phong_document\\git\\resp_test\\test_yolo\\pod\\240703EUL7HV.jpg remove C:\\Users\\duphong.hua\\Documents\\phong_document\\git\\resp_test\\test_yolo\\pod\\240703EUM0OK.jpg remove C:\\Users\\duphong.hua\\Documents\\phong_document\\git\\resp_test\\test_yolo\\pod\\240703EUMT9R.jpg remove C:\\Users\\duphong.hua\\Documents\\phong_document\\git\\resp_test\\test_yolo\\pod\\240703EUOC1W.jpg remove C:\\Users\\duphong.hua\\Documents\\phong_document\\git\\resp_test\\test_yolo\\pod\\240703EUOFR3.jpg remove C:\\Users\\duphong.hua\\Documents\\phong_document\\git\\resp_test\\test_yolo\\pod\\240703EUPGAY.jpg remove C:\\Users\\duphong.hua\\Documents\\phong_document\\git\\resp_test\\test_yolo\\pod\\240703EUPPGX.jpg remove C:\\Users\\duphong.hua\\Documents\\phong_document\\git\\resp_test\\test_yolo\\pod\\240703EUPSTQ.jpg remove C:\\Users\\duphong.hua\\Documents\\phong_document\\git\\resp_test\\test_yolo\\pod\\240703EUQ1H1.jpg remove C:\\Users\\duphong.hua\\Documents\\phong_document\\git\\resp_test\\test_yolo\\pod\\240703EUQVZT.jpg remove C:\\Users\\duphong.hua\\Documents\\phong_document\\git\\resp_test\\test_yolo\\pod\\240703EURANY.jpg remove C:\\Users\\duphong.hua\\Documents\\phong_document\\git\\resp_test\\test_yolo\\pod\\240703EUS795.jpg remove C:\\Users\\duphong.hua\\Documents\\phong_document\\git\\resp_test\\test_yolo\\pod\\240703EUTB9C.jpg remove C:\\Users\\duphong.hua\\Documents\\phong_document\\git\\resp_test\\test_yolo\\pod\\240703EUTGXM.jpg remove C:\\Users\\duphong.hua\\Documents\\phong_document\\git\\resp_test\\test_yolo\\pod\\240703EUTTRY.jpg remove C:\\Users\\duphong.hua\\Documents\\phong_document\\git\\resp_test\\test_yolo\\pod\\240703EUUAIX.jpg remove C:\\Users\\duphong.hua\\Documents\\phong_document\\git\\resp_test\\test_yolo\\pod\\240703EUUJU2.jpg remove C:\\Users\\duphong.hua\\Documents\\phong_document\\git\\resp_test\\test_yolo\\pod\\240703EUUWKW.jpg remove C:\\Users\\duphong.hua\\Documents\\phong_document\\git\\resp_test\\test_yolo\\pod\\240703EUUXUL.jpg remove C:\\Users\\duphong.hua\\Documents\\phong_document\\git\\resp_test\\test_yolo\\pod\\240703EUWFPF.jpg remove C:\\Users\\duphong.hua\\Documents\\phong_document\\git\\resp_test\\test_yolo\\pod\\240703EUX2IV.jpg remove C:\\Users\\duphong.hua\\Documents\\phong_document\\git\\resp_test\\test_yolo\\pod\\240703EUXQS7.jpg remove C:\\Users\\duphong.hua\\Documents\\phong_document\\git\\resp_test\\test_yolo\\pod\\240703EUYDBU.jpg remove C:\\Users\\duphong.hua\\Documents\\phong_document\\git\\resp_test\\test_yolo\\pod\\240703EUZFPG.jpg remove C:\\Users\\duphong.hua\\Documents\\phong_document\\git\\resp_test\\test_yolo\\pod\\240703EV02N2.jpg remove C:\\Users\\duphong.hua\\Documents\\phong_document\\git\\resp_test\\test_yolo\\pod\\240703EV0P1R.jpg remove C:\\Users\\duphong.hua\\Documents\\phong_document\\git\\resp_test\\test_yolo\\pod\\240703EV12U1.jpg remove C:\\Users\\duphong.hua\\Documents\\phong_document\\git\\resp_test\\test_yolo\\pod\\240703EV1H5Z.jpg remove C:\\Users\\duphong.hua\\Documents\\phong_document\\git\\resp_test\\test_yolo\\pod\\240703EV20GA.jpg remove C:\\Users\\duphong.hua\\Documents\\phong_document\\git\\resp_test\\test_yolo\\pod\\240703EV2CR2.jpg remove C:\\Users\\duphong.hua\\Documents\\phong_document\\git\\resp_test\\test_yolo\\pod\\240703EV2I0V.jpg remove C:\\Users\\duphong.hua\\Documents\\phong_document\\git\\resp_test\\test_yolo\\pod\\240703EV2O18.jpg remove C:\\Users\\duphong.hua\\Documents\\phong_document\\git\\resp_test\\test_yolo\\pod\\240703EV3LPH.jpg remove C:\\Users\\duphong.hua\\Documents\\phong_document\\git\\resp_test\\test_yolo\\pod\\240703EV3PNF.jpg remove C:\\Users\\duphong.hua\\Documents\\phong_document\\git\\resp_test\\test_yolo\\pod\\240703EV52JG.jpg remove C:\\Users\\duphong.hua\\Documents\\phong_document\\git\\resp_test\\test_yolo\\pod\\240703EV6NOF.jpg remove C:\\Users\\duphong.hua\\Documents\\phong_document\\git\\resp_test\\test_yolo\\pod\\240703EV6O8X.jpg remove C:\\Users\\duphong.hua\\Documents\\phong_document\\git\\resp_test\\test_yolo\\pod\\240703EV6QEG.jpg remove C:\\Users\\duphong.hua\\Documents\\phong_document\\git\\resp_test\\test_yolo\\pod\\240703EV6VKL.jpg remove C:\\Users\\duphong.hua\\Documents\\phong_document\\git\\resp_test\\test_yolo\\pod\\240703EV7IXE.jpg remove C:\\Users\\duphong.hua\\Documents\\phong_document\\git\\resp_test\\test_yolo\\pod\\240703EV81G6.jpg remove C:\\Users\\duphong.hua\\Documents\\phong_document\\git\\resp_test\\test_yolo\\pod\\240703EV90KV.jpg remove C:\\Users\\duphong.hua\\Documents\\phong_document\\git\\resp_test\\test_yolo\\pod\\240703EV9VQS.jpg remove C:\\Users\\duphong.hua\\Documents\\phong_document\\git\\resp_test\\test_yolo\\pod\\240703EVB8SR.jpg remove C:\\Users\\duphong.hua\\Documents\\phong_document\\git\\resp_test\\test_yolo\\pod\\240703EVBYLH.jpg remove C:\\Users\\duphong.hua\\Documents\\phong_document\\git\\resp_test\\test_yolo\\pod\\240703EVCA19.jpg remove C:\\Users\\duphong.hua\\Documents\\phong_document\\git\\resp_test\\test_yolo\\pod\\240703EVCK7M.jpg remove C:\\Users\\duphong.hua\\Documents\\phong_document\\git\\resp_test\\test_yolo\\pod\\240703EVDAUS.jpg remove C:\\Users\\duphong.hua\\Documents\\phong_document\\git\\resp_test\\test_yolo\\pod\\240703EVE8FN.jpg remove C:\\Users\\duphong.hua\\Documents\\phong_document\\git\\resp_test\\test_yolo\\pod\\240703EVE9C4.jpg remove C:\\Users\\duphong.hua\\Documents\\phong_document\\git\\resp_test\\test_yolo\\pod\\240703EVERD9.jpg remove C:\\Users\\duphong.hua\\Documents\\phong_document\\git\\resp_test\\test_yolo\\pod\\240703EVGL3H.jpg remove C:\\Users\\duphong.hua\\Documents\\phong_document\\git\\resp_test\\test_yolo\\pod\\240703EVIQN4.jpg remove C:\\Users\\duphong.hua\\Documents\\phong_document\\git\\resp_test\\test_yolo\\pod\\240703EVIS05.jpg remove C:\\Users\\duphong.hua\\Documents\\phong_document\\git\\resp_test\\test_yolo\\pod\\240703EVIWDI.jpg remove C:\\Users\\duphong.hua\\Documents\\phong_document\\git\\resp_test\\test_yolo\\pod\\240703EVJ1WH.jpg remove C:\\Users\\duphong.hua\\Documents\\phong_document\\git\\resp_test\\test_yolo\\pod\\240703EVK6C0.jpg remove C:\\Users\\duphong.hua\\Documents\\phong_document\\git\\resp_test\\test_yolo\\pod\\240703EVK6MA.jpg remove C:\\Users\\duphong.hua\\Documents\\phong_document\\git\\resp_test\\test_yolo\\pod\\240703EVKBM8.jpg remove C:\\Users\\duphong.hua\\Documents\\phong_document\\git\\resp_test\\test_yolo\\pod\\240703EVKFQR.jpg remove C:\\Users\\duphong.hua\\Documents\\phong_document\\git\\resp_test\\test_yolo\\pod\\240703EVL0OL.jpg remove C:\\Users\\duphong.hua\\Documents\\phong_document\\git\\resp_test\\test_yolo\\pod\\240703EVLDXX.jpg remove C:\\Users\\duphong.hua\\Documents\\phong_document\\git\\resp_test\\test_yolo\\pod\\240703EVLIN8.jpg remove C:\\Users\\duphong.hua\\Documents\\phong_document\\git\\resp_test\\test_yolo\\pod\\240703EVMGQI.jpg remove C:\\Users\\duphong.hua\\Documents\\phong_document\\git\\resp_test\\test_yolo\\pod\\240703EVNHDH.jpg remove C:\\Users\\duphong.hua\\Documents\\phong_document\\git\\resp_test\\test_yolo\\pod\\240703EVNSLB.jpg remove C:\\Users\\duphong.hua\\Documents\\phong_document\\git\\resp_test\\test_yolo\\pod\\240703EVOPSI.jpg remove C:\\Users\\duphong.hua\\Documents\\phong_document\\git\\resp_test\\test_yolo\\pod\\240703EVOSVB.jpg remove C:\\Users\\duphong.hua\\Documents\\phong_document\\git\\resp_test\\test_yolo\\pod\\240703EVOV72.jpg remove C:\\Users\\duphong.hua\\Documents\\phong_document\\git\\resp_test\\test_yolo\\pod\\240703EVP3J2.jpg remove C:\\Users\\duphong.hua\\Documents\\phong_document\\git\\resp_test\\test_yolo\\pod\\240703EVPTLV.jpg remove C:\\Users\\duphong.hua\\Documents\\phong_document\\git\\resp_test\\test_yolo\\pod\\240703EVQ8V0.jpg remove C:\\Users\\duphong.hua\\Documents\\phong_document\\git\\resp_test\\test_yolo\\pod\\240703EVQFKA.jpg remove C:\\Users\\duphong.hua\\Documents\\phong_document\\git\\resp_test\\test_yolo\\pod\\240703EVQN2M.jpg remove C:\\Users\\duphong.hua\\Documents\\phong_document\\git\\resp_test\\test_yolo\\pod\\240703EVR0O2.jpg remove C:\\Users\\duphong.hua\\Documents\\phong_document\\git\\resp_test\\test_yolo\\pod\\240703EVR0WO.jpg remove C:\\Users\\duphong.hua\\Documents\\phong_document\\git\\resp_test\\test_yolo\\pod\\240703EVRJ0Z.jpg remove C:\\Users\\duphong.hua\\Documents\\phong_document\\git\\resp_test\\test_yolo\\pod\\240703EVRWTH.jpg remove C:\\Users\\duphong.hua\\Documents\\phong_document\\git\\resp_test\\test_yolo\\pod\\240703EVSH97.jpg remove C:\\Users\\duphong.hua\\Documents\\phong_document\\git\\resp_test\\test_yolo\\pod\\240703EVSPX9.jpg remove C:\\Users\\duphong.hua\\Documents\\phong_document\\git\\resp_test\\test_yolo\\pod\\240703EVT2FM.jpg remove C:\\Users\\duphong.hua\\Documents\\phong_document\\git\\resp_test\\test_yolo\\pod\\240703EVTA0H.jpg remove C:\\Users\\duphong.hua\\Documents\\phong_document\\git\\resp_test\\test_yolo\\pod\\240703EVTR4L.jpg remove C:\\Users\\duphong.hua\\Documents\\phong_document\\git\\resp_test\\test_yolo\\pod\\240703EVTTU9.jpg remove C:\\Users\\duphong.hua\\Documents\\phong_document\\git\\resp_test\\test_yolo\\pod\\240703EVWP41.jpg remove C:\\Users\\duphong.hua\\Documents\\phong_document\\git\\resp_test\\test_yolo\\pod\\240703EVWTQ7.jpg remove C:\\Users\\duphong.hua\\Documents\\phong_document\\git\\resp_test\\test_yolo\\pod\\240703EVX8ID.jpg remove C:\\Users\\duphong.hua\\Documents\\phong_document\\git\\resp_test\\test_yolo\\pod\\240703EVXRLL.jpg remove C:\\Users\\duphong.hua\\Documents\\phong_document\\git\\resp_test\\test_yolo\\pod\\240703EVY5ZE.jpg remove C:\\Users\\duphong.hua\\Documents\\phong_document\\git\\resp_test\\test_yolo\\pod\\240703EVYYKS.jpg remove C:\\Users\\duphong.hua\\Documents\\phong_document\\git\\resp_test\\test_yolo\\pod\\240703EVZK8S.jpg remove C:\\Users\\duphong.hua\\Documents\\phong_document\\git\\resp_test\\test_yolo\\pod\\240703EW1LV3.jpg remove C:\\Users\\duphong.hua\\Documents\\phong_document\\git\\resp_test\\test_yolo\\pod\\240703EW1WYR.jpg remove C:\\Users\\duphong.hua\\Documents\\phong_document\\git\\resp_test\\test_yolo\\pod\\240703EW4N66.jpg remove C:\\Users\\duphong.hua\\Documents\\phong_document\\git\\resp_test\\test_yolo\\pod\\240703EW4SDZ.jpg remove C:\\Users\\duphong.hua\\Documents\\phong_document\\git\\resp_test\\test_yolo\\pod\\240703EW56OJ.jpg remove C:\\Users\\duphong.hua\\Documents\\phong_document\\git\\resp_test\\test_yolo\\pod\\240703EW6OS5.jpg remove C:\\Users\\duphong.hua\\Documents\\phong_document\\git\\resp_test\\test_yolo\\pod\\240703EW6S6F.jpg remove C:\\Users\\duphong.hua\\Documents\\phong_document\\git\\resp_test\\test_yolo\\pod\\240703EW807K.jpg remove C:\\Users\\duphong.hua\\Documents\\phong_document\\git\\resp_test\\test_yolo\\pod\\240703EW9A1E.jpg remove C:\\Users\\duphong.hua\\Documents\\phong_document\\git\\resp_test\\test_yolo\\pod\\240703EWB03I.jpg remove C:\\Users\\duphong.hua\\Documents\\phong_document\\git\\resp_test\\test_yolo\\pod\\240703EWBJ2R.jpg remove C:\\Users\\duphong.hua\\Documents\\phong_document\\git\\resp_test\\test_yolo\\pod\\240703EWCJ8L.jpg remove C:\\Users\\duphong.hua\\Documents\\phong_document\\git\\resp_test\\test_yolo\\pod\\240703EWFCR3.jpg remove C:\\Users\\duphong.hua\\Documents\\phong_document\\git\\resp_test\\test_yolo\\pod\\240703EWFYII.jpg remove C:\\Users\\duphong.hua\\Documents\\phong_document\\git\\resp_test\\test_yolo\\pod\\240703EWG1LT.jpg remove C:\\Users\\duphong.hua\\Documents\\phong_document\\git\\resp_test\\test_yolo\\pod\\240703EWH281.jpg remove C:\\Users\\duphong.hua\\Documents\\phong_document\\git\\resp_test\\test_yolo\\pod\\240703EWHN0Y.jpg remove C:\\Users\\duphong.hua\\Documents\\phong_document\\git\\resp_test\\test_yolo\\pod\\240703EWHRJO.jpg remove C:\\Users\\duphong.hua\\Documents\\phong_document\\git\\resp_test\\test_yolo\\pod\\240703EWJ7GD.jpg remove C:\\Users\\duphong.hua\\Documents\\phong_document\\git\\resp_test\\test_yolo\\pod\\240703EWJ7ZG.jpg remove C:\\Users\\duphong.hua\\Documents\\phong_document\\git\\resp_test\\test_yolo\\pod\\240703EWJD7J.jpg remove C:\\Users\\duphong.hua\\Documents\\phong_document\\git\\resp_test\\test_yolo\\pod\\240703EWKQOH.jpg remove C:\\Users\\duphong.hua\\Documents\\phong_document\\git\\resp_test\\test_yolo\\pod\\240703EWLI93.jpg remove C:\\Users\\duphong.hua\\Documents\\phong_document\\git\\resp_test\\test_yolo\\pod\\240703EWLSKW.jpg remove C:\\Users\\duphong.hua\\Documents\\phong_document\\git\\resp_test\\test_yolo\\pod\\240703EWMFO9.jpg remove C:\\Users\\duphong.hua\\Documents\\phong_document\\git\\resp_test\\test_yolo\\pod\\240703EWMLAJ.jpg remove C:\\Users\\duphong.hua\\Documents\\phong_document\\git\\resp_test\\test_yolo\\pod\\240703EWMNMJ.jpg remove C:\\Users\\duphong.hua\\Documents\\phong_document\\git\\resp_test\\test_yolo\\pod\\240703EWMUEX.jpg remove C:\\Users\\duphong.hua\\Documents\\phong_document\\git\\resp_test\\test_yolo\\pod\\240703EWNCPP.jpg remove C:\\Users\\duphong.hua\\Documents\\phong_document\\git\\resp_test\\test_yolo\\pod\\240703EWPCTA.jpg remove C:\\Users\\duphong.hua\\Documents\\phong_document\\git\\resp_test\\test_yolo\\pod\\240703EWPK42.jpg remove C:\\Users\\duphong.hua\\Documents\\phong_document\\git\\resp_test\\test_yolo\\pod\\240703EWQJNE.jpg remove C:\\Users\\duphong.hua\\Documents\\phong_document\\git\\resp_test\\test_yolo\\pod\\240703EWQN4Q.jpg remove C:\\Users\\duphong.hua\\Documents\\phong_document\\git\\resp_test\\test_yolo\\pod\\240703EWQN4U.jpg remove C:\\Users\\duphong.hua\\Documents\\phong_document\\git\\resp_test\\test_yolo\\pod\\240703EWT9AZ.jpg remove C:\\Users\\duphong.hua\\Documents\\phong_document\\git\\resp_test\\test_yolo\\pod\\240703EWTB2P.jpg remove C:\\Users\\duphong.hua\\Documents\\phong_document\\git\\resp_test\\test_yolo\\pod\\240703EWUCE2.jpg remove C:\\Users\\duphong.hua\\Documents\\phong_document\\git\\resp_test\\test_yolo\\pod\\240703EWUZP0.jpg remove C:\\Users\\duphong.hua\\Documents\\phong_document\\git\\resp_test\\test_yolo\\pod\\240703EWV51G.jpg remove C:\\Users\\duphong.hua\\Documents\\phong_document\\git\\resp_test\\test_yolo\\pod\\240703EWWKOJ.jpg remove C:\\Users\\duphong.hua\\Documents\\phong_document\\git\\resp_test\\test_yolo\\pod\\240703EWYWLH.jpg remove C:\\Users\\duphong.hua\\Documents\\phong_document\\git\\resp_test\\test_yolo\\pod\\240703EWZ7HF.jpg remove C:\\Users\\duphong.hua\\Documents\\phong_document\\git\\resp_test\\test_yolo\\pod\\240703EWZG96.jpg remove C:\\Users\\duphong.hua\\Documents\\phong_document\\git\\resp_test\\test_yolo\\pod\\240703EWZVOG.jpg remove C:\\Users\\duphong.hua\\Documents\\phong_document\\git\\resp_test\\test_yolo\\pod\\240703EX1631.jpg remove C:\\Users\\duphong.hua\\Documents\\phong_document\\git\\resp_test\\test_yolo\\pod\\240703EX196Y.jpg remove C:\\Users\\duphong.hua\\Documents\\phong_document\\git\\resp_test\\test_yolo\\pod\\240703EX1UFX.jpg remove C:\\Users\\duphong.hua\\Documents\\phong_document\\git\\resp_test\\test_yolo\\pod\\240703EX1Z6E.jpg remove C:\\Users\\duphong.hua\\Documents\\phong_document\\git\\resp_test\\test_yolo\\pod\\240703EX23T9.jpg remove C:\\Users\\duphong.hua\\Documents\\phong_document\\git\\resp_test\\test_yolo\\pod\\240703EX2FHV.jpg remove C:\\Users\\duphong.hua\\Documents\\phong_document\\git\\resp_test\\test_yolo\\pod\\240703EX2KMR.jpg remove C:\\Users\\duphong.hua\\Documents\\phong_document\\git\\resp_test\\test_yolo\\pod\\240703EX3DMW.jpg remove C:\\Users\\duphong.hua\\Documents\\phong_document\\git\\resp_test\\test_yolo\\pod\\240703EX3UT0.jpg remove C:\\Users\\duphong.hua\\Documents\\phong_document\\git\\resp_test\\test_yolo\\pod\\240703EX44DE.jpg remove C:\\Users\\duphong.hua\\Documents\\phong_document\\git\\resp_test\\test_yolo\\pod\\240703EX4HKR.jpg remove C:\\Users\\duphong.hua\\Documents\\phong_document\\git\\resp_test\\test_yolo\\pod\\240703EX4OZO.jpg remove C:\\Users\\duphong.hua\\Documents\\phong_document\\git\\resp_test\\test_yolo\\pod\\240703EX4RUU.jpg remove C:\\Users\\duphong.hua\\Documents\\phong_document\\git\\resp_test\\test_yolo\\pod\\240703EX4VWE.jpg remove C:\\Users\\duphong.hua\\Documents\\phong_document\\git\\resp_test\\test_yolo\\pod\\240703EX5Y9R.jpg remove C:\\Users\\duphong.hua\\Documents\\phong_document\\git\\resp_test\\test_yolo\\pod\\240703EX6NKY.jpg remove C:\\Users\\duphong.hua\\Documents\\phong_document\\git\\resp_test\\test_yolo\\pod\\240703EX789K.jpg remove C:\\Users\\duphong.hua\\Documents\\phong_document\\git\\resp_test\\test_yolo\\pod\\240703EX7F8U.jpg remove C:\\Users\\duphong.hua\\Documents\\phong_document\\git\\resp_test\\test_yolo\\pod\\240703EX7FYQ.jpg remove C:\\Users\\duphong.hua\\Documents\\phong_document\\git\\resp_test\\test_yolo\\pod\\240703EX816U.jpg remove C:\\Users\\duphong.hua\\Documents\\phong_document\\git\\resp_test\\test_yolo\\pod\\240703EX9235.jpg remove C:\\Users\\duphong.hua\\Documents\\phong_document\\git\\resp_test\\test_yolo\\pod\\240703EXA0TY.jpg remove C:\\Users\\duphong.hua\\Documents\\phong_document\\git\\resp_test\\test_yolo\\pod\\240703EXAI4H.jpg remove C:\\Users\\duphong.hua\\Documents\\phong_document\\git\\resp_test\\test_yolo\\pod\\240703EXAMP6.jpg remove C:\\Users\\duphong.hua\\Documents\\phong_document\\git\\resp_test\\test_yolo\\pod\\240703EXBDM6.jpg remove C:\\Users\\duphong.hua\\Documents\\phong_document\\git\\resp_test\\test_yolo\\pod\\240703EXBOUP.jpg remove C:\\Users\\duphong.hua\\Documents\\phong_document\\git\\resp_test\\test_yolo\\pod\\240703EXC0K2.jpg remove C:\\Users\\duphong.hua\\Documents\\phong_document\\git\\resp_test\\test_yolo\\pod\\240703EXCMZO.jpg remove C:\\Users\\duphong.hua\\Documents\\phong_document\\git\\resp_test\\test_yolo\\pod\\240703EXDMK6.jpg remove C:\\Users\\duphong.hua\\Documents\\phong_document\\git\\resp_test\\test_yolo\\pod\\240703EXDT79.jpg remove C:\\Users\\duphong.hua\\Documents\\phong_document\\git\\resp_test\\test_yolo\\pod\\240703EXECRR.jpg remove C:\\Users\\duphong.hua\\Documents\\phong_document\\git\\resp_test\\test_yolo\\pod\\240703EXEESI.jpg remove C:\\Users\\duphong.hua\\Documents\\phong_document\\git\\resp_test\\test_yolo\\pod\\240703EXEI56.jpg remove C:\\Users\\duphong.hua\\Documents\\phong_document\\git\\resp_test\\test_yolo\\pod\\240703EXET8K.jpg remove C:\\Users\\duphong.hua\\Documents\\phong_document\\git\\resp_test\\test_yolo\\pod\\240703EXEVAK.jpg remove C:\\Users\\duphong.hua\\Documents\\phong_document\\git\\resp_test\\test_yolo\\pod\\240703EXFW1R.jpg remove C:\\Users\\duphong.hua\\Documents\\phong_document\\git\\resp_test\\test_yolo\\pod\\240703EXGHBI.jpg remove C:\\Users\\duphong.hua\\Documents\\phong_document\\git\\resp_test\\test_yolo\\pod\\240703EXGK3I.jpg remove C:\\Users\\duphong.hua\\Documents\\phong_document\\git\\resp_test\\test_yolo\\pod\\240703EXGKBY.jpg remove C:\\Users\\duphong.hua\\Documents\\phong_document\\git\\resp_test\\test_yolo\\pod\\240703EXHX74.jpg remove C:\\Users\\duphong.hua\\Documents\\phong_document\\git\\resp_test\\test_yolo\\pod\\240703EXI1R1.jpg remove C:\\Users\\duphong.hua\\Documents\\phong_document\\git\\resp_test\\test_yolo\\pod\\240703EXIB4U.jpg remove C:\\Users\\duphong.hua\\Documents\\phong_document\\git\\resp_test\\test_yolo\\pod\\240703EXJ8BH.jpg remove C:\\Users\\duphong.hua\\Documents\\phong_document\\git\\resp_test\\test_yolo\\pod\\240703EXK171.jpg remove C:\\Users\\duphong.hua\\Documents\\phong_document\\git\\resp_test\\test_yolo\\pod\\240703EXL7MF.jpg remove C:\\Users\\duphong.hua\\Documents\\phong_document\\git\\resp_test\\test_yolo\\pod\\240703EXLK8V.jpg remove C:\\Users\\duphong.hua\\Documents\\phong_document\\git\\resp_test\\test_yolo\\pod\\240703EXLMOX.jpg remove C:\\Users\\duphong.hua\\Documents\\phong_document\\git\\resp_test\\test_yolo\\pod\\240703EXM9QY.jpg remove C:\\Users\\duphong.hua\\Documents\\phong_document\\git\\resp_test\\test_yolo\\pod\\240703EXMF8G.jpg remove C:\\Users\\duphong.hua\\Documents\\phong_document\\git\\resp_test\\test_yolo\\pod\\240703EXMIX0.jpg remove C:\\Users\\duphong.hua\\Documents\\phong_document\\git\\resp_test\\test_yolo\\pod\\240703EXMKSD.jpg remove C:\\Users\\duphong.hua\\Documents\\phong_document\\git\\resp_test\\test_yolo\\pod\\240703EXNCSE.jpg remove C:\\Users\\duphong.hua\\Documents\\phong_document\\git\\resp_test\\test_yolo\\pod\\240703EXNU17.jpg remove C:\\Users\\duphong.hua\\Documents\\phong_document\\git\\resp_test\\test_yolo\\pod\\240703EXOSI4.jpg remove C:\\Users\\duphong.hua\\Documents\\phong_document\\git\\resp_test\\test_yolo\\pod\\240703EXQ9GR.jpg remove C:\\Users\\duphong.hua\\Documents\\phong_document\\git\\resp_test\\test_yolo\\pod\\240703EXQXOX.jpg remove C:\\Users\\duphong.hua\\Documents\\phong_document\\git\\resp_test\\test_yolo\\pod\\240703EXREB7.jpg remove C:\\Users\\duphong.hua\\Documents\\phong_document\\git\\resp_test\\test_yolo\\pod\\240703EXTEN0.jpg remove C:\\Users\\duphong.hua\\Documents\\phong_document\\git\\resp_test\\test_yolo\\pod\\240703EXV3KT.jpg remove C:\\Users\\duphong.hua\\Documents\\phong_document\\git\\resp_test\\test_yolo\\pod\\240703EXVFH5.jpg remove C:\\Users\\duphong.hua\\Documents\\phong_document\\git\\resp_test\\test_yolo\\pod\\240703EXVUXU.jpg remove C:\\Users\\duphong.hua\\Documents\\phong_document\\git\\resp_test\\test_yolo\\pod\\240703EXWHN0.jpg remove C:\\Users\\duphong.hua\\Documents\\phong_document\\git\\resp_test\\test_yolo\\pod\\240703EXWLO3.jpg remove C:\\Users\\duphong.hua\\Documents\\phong_document\\git\\resp_test\\test_yolo\\pod\\240703EXWMCH.jpg remove C:\\Users\\duphong.hua\\Documents\\phong_document\\git\\resp_test\\test_yolo\\pod\\240703EXZ3CV.jpg remove C:\\Users\\duphong.hua\\Documents\\phong_document\\git\\resp_test\\test_yolo\\pod\\240703EXZHMD.jpg remove C:\\Users\\duphong.hua\\Documents\\phong_document\\git\\resp_test\\test_yolo\\pod\\240703EXZN27.jpg remove C:\\Users\\duphong.hua\\Documents\\phong_document\\git\\resp_test\\test_yolo\\pod\\240703EY0VTT.jpg remove C:\\Users\\duphong.hua\\Documents\\phong_document\\git\\resp_test\\test_yolo\\pod\\240703EY11KF.jpg remove C:\\Users\\duphong.hua\\Documents\\phong_document\\git\\resp_test\\test_yolo\\pod\\240703EY1I64.jpg remove C:\\Users\\duphong.hua\\Documents\\phong_document\\git\\resp_test\\test_yolo\\pod\\240703EY4AGQ.jpg remove C:\\Users\\duphong.hua\\Documents\\phong_document\\git\\resp_test\\test_yolo\\pod\\240703EY4FQW.jpg remove C:\\Users\\duphong.hua\\Documents\\phong_document\\git\\resp_test\\test_yolo\\pod\\240703EY4SLB.jpg remove C:\\Users\\duphong.hua\\Documents\\phong_document\\git\\resp_test\\test_yolo\\pod\\240703EY56S2.jpg remove C:\\Users\\duphong.hua\\Documents\\phong_document\\git\\resp_test\\test_yolo\\pod\\240703EY5X14.jpg remove C:\\Users\\duphong.hua\\Documents\\phong_document\\git\\resp_test\\test_yolo\\pod\\240703EY67F5.jpg remove C:\\Users\\duphong.hua\\Documents\\phong_document\\git\\resp_test\\test_yolo\\pod\\240703EY79V0.jpg remove C:\\Users\\duphong.hua\\Documents\\phong_document\\git\\resp_test\\test_yolo\\pod\\240703EY8JE5.jpg remove C:\\Users\\duphong.hua\\Documents\\phong_document\\git\\resp_test\\test_yolo\\pod\\240703EY8PZK.jpg remove C:\\Users\\duphong.hua\\Documents\\phong_document\\git\\resp_test\\test_yolo\\pod\\240703EY9148.jpg remove C:\\Users\\duphong.hua\\Documents\\phong_document\\git\\resp_test\\test_yolo\\pod\\240703EY96UH.jpg remove C:\\Users\\duphong.hua\\Documents\\phong_document\\git\\resp_test\\test_yolo\\pod\\240703EYAKSX.jpg remove C:\\Users\\duphong.hua\\Documents\\phong_document\\git\\resp_test\\test_yolo\\pod\\240703EYBZWL.jpg remove C:\\Users\\duphong.hua\\Documents\\phong_document\\git\\resp_test\\test_yolo\\pod\\240703EYCK0H.jpg remove C:\\Users\\duphong.hua\\Documents\\phong_document\\git\\resp_test\\test_yolo\\pod\\240703EYD8ZI.jpg remove C:\\Users\\duphong.hua\\Documents\\phong_document\\git\\resp_test\\test_yolo\\pod\\240703EYFSEZ.jpg remove C:\\Users\\duphong.hua\\Documents\\phong_document\\git\\resp_test\\test_yolo\\pod\\240703EYGR3S.jpg remove C:\\Users\\duphong.hua\\Documents\\phong_document\\git\\resp_test\\test_yolo\\pod\\240703EYH0GT.jpg remove C:\\Users\\duphong.hua\\Documents\\phong_document\\git\\resp_test\\test_yolo\\pod\\240703EYHIG4.jpg remove C:\\Users\\duphong.hua\\Documents\\phong_document\\git\\resp_test\\test_yolo\\pod\\240703EYJGQL.jpg remove C:\\Users\\duphong.hua\\Documents\\phong_document\\git\\resp_test\\test_yolo\\pod\\240703EYK5GA.jpg remove C:\\Users\\duphong.hua\\Documents\\phong_document\\git\\resp_test\\test_yolo\\pod\\240703EYL0OR.jpg remove C:\\Users\\duphong.hua\\Documents\\phong_document\\git\\resp_test\\test_yolo\\pod\\240703EYLJY1.jpg remove C:\\Users\\duphong.hua\\Documents\\phong_document\\git\\resp_test\\test_yolo\\pod\\240703EYM2GG.jpg remove C:\\Users\\duphong.hua\\Documents\\phong_document\\git\\resp_test\\test_yolo\\pod\\240703EYM5M6.jpg remove C:\\Users\\duphong.hua\\Documents\\phong_document\\git\\resp_test\\test_yolo\\pod\\240703EYMOOC.jpg remove C:\\Users\\duphong.hua\\Documents\\phong_document\\git\\resp_test\\test_yolo\\pod\\240703EYNY6Y.jpg remove C:\\Users\\duphong.hua\\Documents\\phong_document\\git\\resp_test\\test_yolo\\pod\\240703EYOS4D.jpg remove C:\\Users\\duphong.hua\\Documents\\phong_document\\git\\resp_test\\test_yolo\\pod\\240703EYOSZE.jpg remove C:\\Users\\duphong.hua\\Documents\\phong_document\\git\\resp_test\\test_yolo\\pod\\240703EYPJWR.jpg remove C:\\Users\\duphong.hua\\Documents\\phong_document\\git\\resp_test\\test_yolo\\pod\\240703EYPU7N.jpg remove C:\\Users\\duphong.hua\\Documents\\phong_document\\git\\resp_test\\test_yolo\\pod\\240703EYQHIR.jpg remove C:\\Users\\duphong.hua\\Documents\\phong_document\\git\\resp_test\\test_yolo\\pod\\240703EYQNWV.jpg remove C:\\Users\\duphong.hua\\Documents\\phong_document\\git\\resp_test\\test_yolo\\pod\\240703EYRRQP.jpg remove C:\\Users\\duphong.hua\\Documents\\phong_document\\git\\resp_test\\test_yolo\\pod\\240703EYSPO2.jpg remove C:\\Users\\duphong.hua\\Documents\\phong_document\\git\\resp_test\\test_yolo\\pod\\240703EYTQ7P.jpg remove C:\\Users\\duphong.hua\\Documents\\phong_document\\git\\resp_test\\test_yolo\\pod\\240703EYUYLC.jpg remove C:\\Users\\duphong.hua\\Documents\\phong_document\\git\\resp_test\\test_yolo\\pod\\240703EYVRZE.jpg remove C:\\Users\\duphong.hua\\Documents\\phong_document\\git\\resp_test\\test_yolo\\pod\\240703EYVTHE.jpg remove C:\\Users\\duphong.hua\\Documents\\phong_document\\git\\resp_test\\test_yolo\\pod\\240703EYWJDW.jpg remove C:\\Users\\duphong.hua\\Documents\\phong_document\\git\\resp_test\\test_yolo\\pod\\240703EYX1RQ.jpg remove C:\\Users\\duphong.hua\\Documents\\phong_document\\git\\resp_test\\test_yolo\\pod\\240703EYX90Y.jpg remove C:\\Users\\duphong.hua\\Documents\\phong_document\\git\\resp_test\\test_yolo\\pod\\240703EYXIXD.jpg remove C:\\Users\\duphong.hua\\Documents\\phong_document\\git\\resp_test\\test_yolo\\pod\\240703EYXLIM.jpg remove C:\\Users\\duphong.hua\\Documents\\phong_document\\git\\resp_test\\test_yolo\\pod\\240703EYY8NS.jpg remove C:\\Users\\duphong.hua\\Documents\\phong_document\\git\\resp_test\\test_yolo\\pod\\240703EYYEKZ.jpg remove C:\\Users\\duphong.hua\\Documents\\phong_document\\git\\resp_test\\test_yolo\\pod\\240703EYYERG.jpg remove C:\\Users\\duphong.hua\\Documents\\phong_document\\git\\resp_test\\test_yolo\\pod\\240703EYZCZ0.jpg remove C:\\Users\\duphong.hua\\Documents\\phong_document\\git\\resp_test\\test_yolo\\pod\\240703EYZI2Q.jpg remove C:\\Users\\duphong.hua\\Documents\\phong_document\\git\\resp_test\\test_yolo\\pod\\240703EZ0AY2.jpg remove C:\\Users\\duphong.hua\\Documents\\phong_document\\git\\resp_test\\test_yolo\\pod\\240703EZ0CHV.jpg remove C:\\Users\\duphong.hua\\Documents\\phong_document\\git\\resp_test\\test_yolo\\pod\\240703EZ2E70.jpg remove C:\\Users\\duphong.hua\\Documents\\phong_document\\git\\resp_test\\test_yolo\\pod\\240703EZ2WK6.jpg remove C:\\Users\\duphong.hua\\Documents\\phong_document\\git\\resp_test\\test_yolo\\pod\\240703EZ3ERV.jpg remove C:\\Users\\duphong.hua\\Documents\\phong_document\\git\\resp_test\\test_yolo\\pod\\240703EZ3N32.jpg remove C:\\Users\\duphong.hua\\Documents\\phong_document\\git\\resp_test\\test_yolo\\pod\\240703EZ5M1B.jpg remove C:\\Users\\duphong.hua\\Documents\\phong_document\\git\\resp_test\\test_yolo\\pod\\240703EZ6A5K.jpg remove C:\\Users\\duphong.hua\\Documents\\phong_document\\git\\resp_test\\test_yolo\\pod\\240703EZ6F4S.jpg remove C:\\Users\\duphong.hua\\Documents\\phong_document\\git\\resp_test\\test_yolo\\pod\\240703EZ6IZM.jpg remove C:\\Users\\duphong.hua\\Documents\\phong_document\\git\\resp_test\\test_yolo\\pod\\240703EZ80RL.jpg remove C:\\Users\\duphong.hua\\Documents\\phong_document\\git\\resp_test\\test_yolo\\pod\\240703EZ857W.jpg remove C:\\Users\\duphong.hua\\Documents\\phong_document\\git\\resp_test\\test_yolo\\pod\\240703EZ8O21.jpg remove C:\\Users\\duphong.hua\\Documents\\phong_document\\git\\resp_test\\test_yolo\\pod\\240703EZ8PH5.jpg remove C:\\Users\\duphong.hua\\Documents\\phong_document\\git\\resp_test\\test_yolo\\pod\\240703EZ8TN4.jpg remove C:\\Users\\duphong.hua\\Documents\\phong_document\\git\\resp_test\\test_yolo\\pod\\240703EZ9FH2.jpg remove C:\\Users\\duphong.hua\\Documents\\phong_document\\git\\resp_test\\test_yolo\\pod\\240703EZANLO.jpg remove C:\\Users\\duphong.hua\\Documents\\phong_document\\git\\resp_test\\test_yolo\\pod\\240703EZAZN3.jpg remove C:\\Users\\duphong.hua\\Documents\\phong_document\\git\\resp_test\\test_yolo\\pod\\240703EZBIBW.jpg remove C:\\Users\\duphong.hua\\Documents\\phong_document\\git\\resp_test\\test_yolo\\pod\\240703EZBK1V.jpg remove C:\\Users\\duphong.hua\\Documents\\phong_document\\git\\resp_test\\test_yolo\\pod\\240703EZC0WD.jpg remove C:\\Users\\duphong.hua\\Documents\\phong_document\\git\\resp_test\\test_yolo\\pod\\240703EZC1EP.jpg remove C:\\Users\\duphong.hua\\Documents\\phong_document\\git\\resp_test\\test_yolo\\pod\\240703EZD68D.jpg remove C:\\Users\\duphong.hua\\Documents\\phong_document\\git\\resp_test\\test_yolo\\pod\\240703EZE5WQ.jpg remove C:\\Users\\duphong.hua\\Documents\\phong_document\\git\\resp_test\\test_yolo\\pod\\240703EZEPGL.jpg remove C:\\Users\\duphong.hua\\Documents\\phong_document\\git\\resp_test\\test_yolo\\pod\\240703EZGM4Z.jpg remove C:\\Users\\duphong.hua\\Documents\\phong_document\\git\\resp_test\\test_yolo\\pod\\240703EZHIZE.jpg remove C:\\Users\\duphong.hua\\Documents\\phong_document\\git\\resp_test\\test_yolo\\pod\\240703EZHKIR.jpg remove C:\\Users\\duphong.hua\\Documents\\phong_document\\git\\resp_test\\test_yolo\\pod\\240703EZIBHR.jpg remove C:\\Users\\duphong.hua\\Documents\\phong_document\\git\\resp_test\\test_yolo\\pod\\240703EZJ2T0.jpg remove C:\\Users\\duphong.hua\\Documents\\phong_document\\git\\resp_test\\test_yolo\\pod\\240703EZJ5K2.jpg remove C:\\Users\\duphong.hua\\Documents\\phong_document\\git\\resp_test\\test_yolo\\pod\\240703EZKEWA.jpg remove C:\\Users\\duphong.hua\\Documents\\phong_document\\git\\resp_test\\test_yolo\\pod\\240703EZKHYE.jpg remove C:\\Users\\duphong.hua\\Documents\\phong_document\\git\\resp_test\\test_yolo\\pod\\240703EZMDDD.jpg remove C:\\Users\\duphong.hua\\Documents\\phong_document\\git\\resp_test\\test_yolo\\pod\\240703EZOLPW.jpg remove C:\\Users\\duphong.hua\\Documents\\phong_document\\git\\resp_test\\test_yolo\\pod\\240703EZOP2Y.jpg remove C:\\Users\\duphong.hua\\Documents\\phong_document\\git\\resp_test\\test_yolo\\pod\\240703EZP1XW.jpg remove C:\\Users\\duphong.hua\\Documents\\phong_document\\git\\resp_test\\test_yolo\\pod\\240703EZP1ZE.jpg remove C:\\Users\\duphong.hua\\Documents\\phong_document\\git\\resp_test\\test_yolo\\pod\\240703EZQ15H.jpg remove C:\\Users\\duphong.hua\\Documents\\phong_document\\git\\resp_test\\test_yolo\\pod\\240703EZQVF1.jpg remove C:\\Users\\duphong.hua\\Documents\\phong_document\\git\\resp_test\\test_yolo\\pod\\240703EZQZRK.jpg remove C:\\Users\\duphong.hua\\Documents\\phong_document\\git\\resp_test\\test_yolo\\pod\\240703EZR57M.jpg remove C:\\Users\\duphong.hua\\Documents\\phong_document\\git\\resp_test\\test_yolo\\pod\\240703EZRE6O.jpg remove C:\\Users\\duphong.hua\\Documents\\phong_document\\git\\resp_test\\test_yolo\\pod\\240703EZSWJ4.jpg remove C:\\Users\\duphong.hua\\Documents\\phong_document\\git\\resp_test\\test_yolo\\pod\\240703EZSXU0.jpg remove C:\\Users\\duphong.hua\\Documents\\phong_document\\git\\resp_test\\test_yolo\\pod\\240703EZT4T4.jpg remove C:\\Users\\duphong.hua\\Documents\\phong_document\\git\\resp_test\\test_yolo\\pod\\240703EZTVNY.jpg remove C:\\Users\\duphong.hua\\Documents\\phong_document\\git\\resp_test\\test_yolo\\pod\\240703EZV2RF.jpg remove C:\\Users\\duphong.hua\\Documents\\phong_document\\git\\resp_test\\test_yolo\\pod\\240703EZVK8U.jpg remove C:\\Users\\duphong.hua\\Documents\\phong_document\\git\\resp_test\\test_yolo\\pod\\240703EZVMJX.jpg remove C:\\Users\\duphong.hua\\Documents\\phong_document\\git\\resp_test\\test_yolo\\pod\\240703EZXLLA.jpg remove C:\\Users\\duphong.hua\\Documents\\phong_document\\git\\resp_test\\test_yolo\\pod\\240703EZXZZB.jpg remove C:\\Users\\duphong.hua\\Documents\\phong_document\\git\\resp_test\\test_yolo\\pod\\240703EZYKOC.jpg remove C:\\Users\\duphong.hua\\Documents\\phong_document\\git\\resp_test\\test_yolo\\pod\\240703EZYLDX.jpg remove C:\\Users\\duphong.hua\\Documents\\phong_document\\git\\resp_test\\test_yolo\\pod\\240703EZYPEB.jpg "
     ]
    }
   ],
   "source": [
    "import os\n",
    "# path_3 = r'C:\\Users\\duphong.hua\\Documents\\phong_document\\pod'\n",
    "path_1 = r'C:\\Users\\duphong.hua\\Documents\\phong_document\\git\\resp_test\\test_yolo\\pod'\n",
    "path2 = r'C:\\Users\\duphong.hua\\Documents\\phong_document\\git\\resp_test\\test_yolo/pod_label'\n",
    "# os.listdir(path)[0].split('.')\n",
    "check = [i.split('.')[0] for i in os.listdir(path2)]\n",
    "for a in os.listdir(path_1):\n",
    "    file_name = a.split('.')[0]\n",
    "    file_path = os.path.join(path_1,a)\n",
    "    # print(file_path)\n",
    "    if file_name not in check:\n",
    "        os.remove(file_path)\n",
    "        print(f'remove {file_path}',end=' ')"
   ]
  },
  {
   "cell_type": "markdown",
   "metadata": {},
   "source": [
    "<H2> Chia folder"
   ]
  },
  {
   "cell_type": "code",
   "execution_count": 23,
   "metadata": {},
   "outputs": [
    {
     "name": "stdout",
     "output_type": "stream",
     "text": [
      "Done process\n"
     ]
    }
   ],
   "source": [
    "import os \n",
    "import shutil\n",
    "train_path_images = r'C:\\Users\\duphong.hua\\Documents\\phong_document\\test_yolo\\pod_path\\train\\images'\n",
    "test_path_images = r'C:\\Users\\duphong.hua\\Documents\\phong_document\\test_yolo\\pod_path\\test\\images'\n",
    "val_path_images = r'C:\\Users\\duphong.hua\\Documents\\phong_document\\test_yolo\\pod_path\\val\\images'\n",
    "\n",
    "train_path_labels = r'C:\\Users\\duphong.hua\\Documents\\phong_document\\test_yolo\\pod_path\\train\\labels'\n",
    "test_path_labels = r'C:\\Users\\duphong.hua\\Documents\\phong_document\\test_yolo\\pod_path\\test\\labels'\n",
    "val_path_labels = r'C:\\Users\\duphong.hua\\Documents\\phong_document\\test_yolo\\pod_path\\val\\labels'\n",
    "for i in range(0,len(os.listdir(path_1))):\n",
    "    if i / len(os.listdir(path_1)) <= 0.6:\n",
    "        file_image = os.listdir(path_1)[i]\n",
    "        file_label = os.listdir(path2)[i]\n",
    "        # print(file_label)\n",
    "        source_image = os.path.join(path_1,file_image)\n",
    "        source_label = os.path.join(path2,file_label)\n",
    "        dest_image = os.path.join(train_path_images,file_image)\n",
    "        dest_label = os.path.join(train_path_labels,file_label)\n",
    "        shutil.copy(source_image,dest_image)\n",
    "        shutil.copy(source_label,dest_label)\n",
    "for z in range(0,len(os.listdir(path_1))):    \n",
    "    val_file_image = os.listdir(path_1)[z]\n",
    "    val_file_label = os.listdir(path2)[z]\n",
    "    if z / len(os.listdir(path_1)) <= 0.85 and val_file_image not in os.listdir(train_path_images) and val_file_label not in os.listdir(train_path_labels):\n",
    "        # print(val_file_image)\n",
    "        val_source_image = os.path.join(path_1,val_file_image)\n",
    "        val_source_label = os.path.join(path2,val_file_label)\n",
    "        val_dest_image = os.path.join(val_path_images,val_file_image)\n",
    "        val_dest_label = os.path.join(val_path_labels,val_file_label)\n",
    "        shutil.copy(val_source_image,val_dest_image)\n",
    "        shutil.copy(val_source_label,val_dest_label)\n",
    "for k in range(0,len(os.listdir(path_1))): \n",
    "    test_file_image = os.listdir(path_1)[k]\n",
    "    test_file_label = os.listdir(path2)[k]\n",
    "    if test_file_image not in os.listdir(train_path_images) and test_file_label not in os.listdir(train_path_labels) and test_file_image not in os.listdir(val_path_images) and test_file_label not in os.listdir(val_path_labels): \n",
    "        test_source_image = os.path.join(path_1,test_file_image)\n",
    "        test_source_label = os.path.join(path2,test_file_label)\n",
    "        test_dest_image = os.path.join(test_path_images,test_file_image)\n",
    "        test_dest_label = os.path.join(test_path_labels,test_file_label)\n",
    "        shutil.copy(test_source_image,test_dest_image)\n",
    "        shutil.copy(test_source_label,test_dest_label)\n",
    "print('Done process')"
   ]
  },
  {
   "cell_type": "code",
   "execution_count": 13,
   "metadata": {},
   "outputs": [],
   "source": [
    "from ultralytics import YOLO\n",
    "# Load a pre-trained YOLOv10n model\n",
    "model = YOLO(\"yolov10n.pt\")"
   ]
  },
  {
   "cell_type": "code",
   "execution_count": 5,
   "metadata": {},
   "outputs": [],
   "source": [
    "# from ultralytics import YOLOv10\n",
    "# MODEL_PATH = 'yolov10n.pt'\n",
    "# model = YOLOv10(MODEL_PATH)"
   ]
  },
  {
   "cell_type": "code",
   "execution_count": null,
   "metadata": {},
   "outputs": [],
   "source": []
  },
  {
   "cell_type": "code",
   "execution_count": 2,
   "metadata": {},
   "outputs": [
    {
     "name": "stdout",
     "output_type": "stream",
     "text": [
      "YOLOv10n summary: 385 layers, 2775520 parameters, 2775504 gradients, 8.7 GFLOPs\n"
     ]
    },
    {
     "data": {
      "text/plain": [
       "(385, 2775520, 2775504, 8.7404288)"
      ]
     },
     "execution_count": 2,
     "metadata": {},
     "output_type": "execute_result"
    }
   ],
   "source": [
    "model.info()"
   ]
  },
  {
   "cell_type": "code",
   "execution_count": 36,
   "metadata": {},
   "outputs": [
    {
     "name": "stdout",
     "output_type": "stream",
     "text": [
      "Ultralytics YOLOv8.2.48  Python-3.12.3 torch-2.3.1+cpu CPU (Intel Core(TM) i7-10610U 1.80GHz)\n",
      "\u001b[34m\u001b[1mengine\\trainer: \u001b[0mtask=detect, mode=train, model=yolov10n.pt, data=./pod_path/data.yaml, epochs=50, time=None, patience=100, batch=16, imgsz=640, save=True, save_period=-1, cache=False, device=None, workers=8, project=None, name=train4, exist_ok=False, pretrained=True, optimizer=auto, verbose=True, seed=0, deterministic=True, single_cls=False, rect=False, cos_lr=False, close_mosaic=10, resume=False, amp=True, fraction=1.0, profile=False, freeze=None, multi_scale=False, overlap_mask=True, mask_ratio=4, dropout=0.0, val=True, split=val, save_json=False, save_hybrid=False, conf=None, iou=0.7, max_det=300, half=False, dnn=False, plots=True, source=None, vid_stride=1, stream_buffer=False, visualize=False, augment=False, agnostic_nms=False, classes=None, retina_masks=False, embed=None, show=False, save_frames=False, save_txt=False, save_conf=False, save_crop=False, show_labels=True, show_conf=True, show_boxes=True, line_width=None, format=torchscript, keras=False, optimize=False, int8=False, dynamic=False, simplify=False, opset=None, workspace=4, nms=False, lr0=0.01, lrf=0.01, momentum=0.937, weight_decay=0.0005, warmup_epochs=3.0, warmup_momentum=0.8, warmup_bias_lr=0.1, box=7.5, cls=0.5, dfl=1.5, pose=12.0, kobj=1.0, label_smoothing=0.0, nbs=64, hsv_h=0.015, hsv_s=0.7, hsv_v=0.4, degrees=0.0, translate=0.1, scale=0.5, shear=0.0, perspective=0.0, flipud=0.0, fliplr=0.5, bgr=0.0, mosaic=1.0, mixup=0.0, copy_paste=0.0, auto_augment=randaugment, erasing=0.4, crop_fraction=1.0, cfg=None, tracker=botsort.yaml, save_dir=runs\\detect\\train4\n",
      "Downloading https://ultralytics.com/assets/Arial.ttf to 'C:\\Users\\duphong.hua\\AppData\\Roaming\\Ultralytics\\Arial.ttf'...\n"
     ]
    },
    {
     "name": "stderr",
     "output_type": "stream",
     "text": [
      "100%|██████████| 755k/755k [00:01<00:00, 490kB/s]"
     ]
    },
    {
     "name": "stdout",
     "output_type": "stream",
     "text": [
      "Overriding model.yaml nc=80 with nc=1\n",
      "\n",
      "                   from  n    params  module                                       arguments                     \n",
      "  0                  -1  1       464  ultralytics.nn.modules.conv.Conv             [3, 16, 3, 2]                 \n",
      "  1                  -1  1      4672  ultralytics.nn.modules.conv.Conv             [16, 32, 3, 2]                \n",
      "  2                  -1  1      7360  ultralytics.nn.modules.block.C2f             [32, 32, 1, True]             \n",
      "  3                  -1  1     18560  ultralytics.nn.modules.conv.Conv             [32, 64, 3, 2]                \n",
      "  4                  -1  2     49664  ultralytics.nn.modules.block.C2f             [64, 64, 2, True]             \n",
      "  5                  -1  1      9856  ultralytics.nn.modules.block.SCDown          [64, 128, 3, 2]               \n",
      "  6                  -1  2    197632  ultralytics.nn.modules.block.C2f             [128, 128, 2, True]           \n",
      "  7                  -1  1     36096  ultralytics.nn.modules.block.SCDown          [128, 256, 3, 2]              \n",
      "  8                  -1  1    460288  ultralytics.nn.modules.block.C2f             [256, 256, 1, True]           \n",
      "  9                  -1  1    164608  ultralytics.nn.modules.block.SPPF            [256, 256, 5]                 \n",
      " 10                  -1  1    249728  ultralytics.nn.modules.block.PSA             [256, 256]                    \n",
      " 11                  -1  1         0  torch.nn.modules.upsampling.Upsample         [None, 2, 'nearest']          \n",
      " 12             [-1, 6]  1         0  ultralytics.nn.modules.conv.Concat           [1]                           \n",
      " 13                  -1  1    148224  ultralytics.nn.modules.block.C2f             [384, 128, 1]                 \n",
      " 14                  -1  1         0  torch.nn.modules.upsampling.Upsample         [None, 2, 'nearest']          \n",
      " 15             [-1, 4]  1         0  ultralytics.nn.modules.conv.Concat           [1]                           \n",
      " 16                  -1  1     37248  ultralytics.nn.modules.block.C2f             [192, 64, 1]                  \n",
      " 17                  -1  1     36992  ultralytics.nn.modules.conv.Conv             [64, 64, 3, 2]                \n",
      " 18            [-1, 13]  1         0  ultralytics.nn.modules.conv.Concat           [1]                           \n",
      " 19                  -1  1    123648  ultralytics.nn.modules.block.C2f             [192, 128, 1]                 \n",
      " 20                  -1  1     18048  ultralytics.nn.modules.block.SCDown          [128, 128, 3, 2]              \n",
      " 21            [-1, 10]  1         0  ultralytics.nn.modules.conv.Concat           [1]                           \n",
      " 22                  -1  1    282624  ultralytics.nn.modules.block.C2fCIB          [384, 256, 1, True, True]     \n",
      " 23        [16, 19, 22]  1    861718  ultralytics.nn.modules.head.v10Detect        [1, [64, 128, 256]]           \n"
     ]
    },
    {
     "name": "stderr",
     "output_type": "stream",
     "text": [
      "\n"
     ]
    },
    {
     "name": "stdout",
     "output_type": "stream",
     "text": [
      "YOLOv10n summary: 385 layers, 2707430 parameters, 2707414 gradients, 8.4 GFLOPs\n",
      "\n",
      "Transferred 493/595 items from pretrained weights\n",
      "Freezing layer 'model.23.dfl.conv.weight'\n"
     ]
    },
    {
     "name": "stderr",
     "output_type": "stream",
     "text": [
      "\u001b[34m\u001b[1mtrain: \u001b[0mScanning C:\\Users\\duphong.hua\\Documents\\phong_document\\test_yolo\\pod_path\\train\\labels... 67 images, 1 backgrounds, 0 corrupt: 100%|██████████| 67/67 [00:00<00:00, 1269.52it/s]"
     ]
    },
    {
     "name": "stdout",
     "output_type": "stream",
     "text": [
      "\u001b[34m\u001b[1mtrain: \u001b[0mNew cache created: C:\\Users\\duphong.hua\\Documents\\phong_document\\test_yolo\\pod_path\\train\\labels.cache\n"
     ]
    },
    {
     "name": "stderr",
     "output_type": "stream",
     "text": [
      "\n",
      "\u001b[34m\u001b[1mval: \u001b[0mScanning C:\\Users\\duphong.hua\\Documents\\phong_document\\test_yolo\\pod_path\\val\\labels... 28 images, 0 backgrounds, 0 corrupt: 100%|██████████| 28/28 [00:00<00:00, 2005.54it/s]"
     ]
    },
    {
     "name": "stdout",
     "output_type": "stream",
     "text": [
      "\u001b[34m\u001b[1mval: \u001b[0mNew cache created: C:\\Users\\duphong.hua\\Documents\\phong_document\\test_yolo\\pod_path\\val\\labels.cache\n"
     ]
    },
    {
     "name": "stderr",
     "output_type": "stream",
     "text": [
      "\n"
     ]
    },
    {
     "name": "stdout",
     "output_type": "stream",
     "text": [
      "Plotting labels to runs\\detect\\train4\\labels.jpg... \n",
      "\u001b[34m\u001b[1moptimizer:\u001b[0m 'optimizer=auto' found, ignoring 'lr0=0.01' and 'momentum=0.937' and determining best 'optimizer', 'lr0' and 'momentum' automatically... \n",
      "\u001b[34m\u001b[1moptimizer:\u001b[0m AdamW(lr=0.002, momentum=0.9) with parameter groups 95 weight(decay=0.0), 108 weight(decay=0.0005), 107 bias(decay=0.0)\n",
      "Image sizes 640 train, 640 val\n",
      "Using 0 dataloader workers\n",
      "Logging results to \u001b[1mruns\\detect\\train4\u001b[0m\n",
      "Starting training for 50 epochs...\n",
      "\n",
      "      Epoch    GPU_mem   box_loss   cls_loss   dfl_loss  Instances       Size\n"
     ]
    },
    {
     "name": "stderr",
     "output_type": "stream",
     "text": [
      "       1/50         0G      2.427      8.802      3.397          8        640: 100%|██████████| 5/5 [01:11<00:00, 14.29s/it]\n",
      "                 Class     Images  Instances      Box(P          R      mAP50  mAP50-95): 100%|██████████| 1/1 [00:12<00:00, 12.15s/it]"
     ]
    },
    {
     "name": "stdout",
     "output_type": "stream",
     "text": [
      "                   all         28         28    0.00321      0.964       0.53      0.427\n"
     ]
    },
    {
     "name": "stderr",
     "output_type": "stream",
     "text": [
      "\n"
     ]
    },
    {
     "name": "stdout",
     "output_type": "stream",
     "text": [
      "\n",
      "      Epoch    GPU_mem   box_loss   cls_loss   dfl_loss  Instances       Size\n"
     ]
    },
    {
     "name": "stderr",
     "output_type": "stream",
     "text": [
      "       2/50         0G      1.966      8.277      2.875          6        640: 100%|██████████| 5/5 [01:08<00:00, 13.69s/it]\n",
      "                 Class     Images  Instances      Box(P          R      mAP50  mAP50-95): 100%|██████████| 1/1 [00:11<00:00, 11.93s/it]"
     ]
    },
    {
     "name": "stdout",
     "output_type": "stream",
     "text": [
      "                   all         28         28    0.00321      0.964      0.351      0.273\n"
     ]
    },
    {
     "name": "stderr",
     "output_type": "stream",
     "text": [
      "\n"
     ]
    },
    {
     "name": "stdout",
     "output_type": "stream",
     "text": [
      "\n",
      "      Epoch    GPU_mem   box_loss   cls_loss   dfl_loss  Instances       Size\n"
     ]
    },
    {
     "name": "stderr",
     "output_type": "stream",
     "text": [
      "       3/50         0G      2.095      7.539      3.127          7        640: 100%|██████████| 5/5 [01:08<00:00, 13.80s/it]\n",
      "                 Class     Images  Instances      Box(P          R      mAP50  mAP50-95): 100%|██████████| 1/1 [00:11<00:00, 11.96s/it]"
     ]
    },
    {
     "name": "stdout",
     "output_type": "stream",
     "text": [
      "                   all         28         28    0.00333          1      0.421      0.319\n"
     ]
    },
    {
     "name": "stderr",
     "output_type": "stream",
     "text": [
      "\n"
     ]
    },
    {
     "name": "stdout",
     "output_type": "stream",
     "text": [
      "\n",
      "      Epoch    GPU_mem   box_loss   cls_loss   dfl_loss  Instances       Size\n"
     ]
    },
    {
     "name": "stderr",
     "output_type": "stream",
     "text": [
      "       4/50         0G      2.229      7.246      3.044          8        640: 100%|██████████| 5/5 [01:10<00:00, 14.06s/it]\n",
      "                 Class     Images  Instances      Box(P          R      mAP50  mAP50-95): 100%|██████████| 1/1 [00:13<00:00, 13.96s/it]"
     ]
    },
    {
     "name": "stdout",
     "output_type": "stream",
     "text": [
      "                   all         28         28    0.00333          1      0.533      0.369\n"
     ]
    },
    {
     "name": "stderr",
     "output_type": "stream",
     "text": [
      "\n"
     ]
    },
    {
     "name": "stdout",
     "output_type": "stream",
     "text": [
      "\n",
      "      Epoch    GPU_mem   box_loss   cls_loss   dfl_loss  Instances       Size\n"
     ]
    },
    {
     "name": "stderr",
     "output_type": "stream",
     "text": [
      "       5/50         0G      2.182       6.97      2.966          6        640: 100%|██████████| 5/5 [01:10<00:00, 14.02s/it]\n",
      "                 Class     Images  Instances      Box(P          R      mAP50  mAP50-95): 100%|██████████| 1/1 [00:11<00:00, 11.96s/it]"
     ]
    },
    {
     "name": "stdout",
     "output_type": "stream",
     "text": [
      "                   all         28         28    0.00321      0.964      0.623      0.372\n"
     ]
    },
    {
     "name": "stderr",
     "output_type": "stream",
     "text": [
      "\n"
     ]
    },
    {
     "name": "stdout",
     "output_type": "stream",
     "text": [
      "\n",
      "      Epoch    GPU_mem   box_loss   cls_loss   dfl_loss  Instances       Size\n"
     ]
    },
    {
     "name": "stderr",
     "output_type": "stream",
     "text": [
      "       6/50         0G      2.148      6.253      3.011         11        640: 100%|██████████| 5/5 [01:07<00:00, 13.55s/it]\n",
      "                 Class     Images  Instances      Box(P          R      mAP50  mAP50-95): 100%|██████████| 1/1 [00:12<00:00, 12.22s/it]"
     ]
    },
    {
     "name": "stdout",
     "output_type": "stream",
     "text": [
      "                   all         28         28    0.00321      0.964      0.702      0.467\n"
     ]
    },
    {
     "name": "stderr",
     "output_type": "stream",
     "text": [
      "\n"
     ]
    },
    {
     "name": "stdout",
     "output_type": "stream",
     "text": [
      "\n",
      "      Epoch    GPU_mem   box_loss   cls_loss   dfl_loss  Instances       Size\n"
     ]
    },
    {
     "name": "stderr",
     "output_type": "stream",
     "text": [
      "       7/50         0G      2.449      6.672      3.277          8        640: 100%|██████████| 5/5 [01:08<00:00, 13.64s/it]\n",
      "                 Class     Images  Instances      Box(P          R      mAP50  mAP50-95): 100%|██████████| 1/1 [00:11<00:00, 11.99s/it]"
     ]
    },
    {
     "name": "stdout",
     "output_type": "stream",
     "text": [
      "                   all         28         28    0.00321      0.964      0.492       0.32\n"
     ]
    },
    {
     "name": "stderr",
     "output_type": "stream",
     "text": [
      "\n"
     ]
    },
    {
     "name": "stdout",
     "output_type": "stream",
     "text": [
      "\n",
      "      Epoch    GPU_mem   box_loss   cls_loss   dfl_loss  Instances       Size\n"
     ]
    },
    {
     "name": "stderr",
     "output_type": "stream",
     "text": [
      "       8/50         0G       2.15      5.702      2.949          8        640: 100%|██████████| 5/5 [01:08<00:00, 13.76s/it]\n",
      "                 Class     Images  Instances      Box(P          R      mAP50  mAP50-95): 100%|██████████| 1/1 [00:12<00:00, 12.15s/it]"
     ]
    },
    {
     "name": "stdout",
     "output_type": "stream",
     "text": [
      "                   all         28         28    0.00321      0.964      0.534      0.345\n"
     ]
    },
    {
     "name": "stderr",
     "output_type": "stream",
     "text": [
      "\n"
     ]
    },
    {
     "name": "stdout",
     "output_type": "stream",
     "text": [
      "\n",
      "      Epoch    GPU_mem   box_loss   cls_loss   dfl_loss  Instances       Size\n"
     ]
    },
    {
     "name": "stderr",
     "output_type": "stream",
     "text": [
      "       9/50         0G      2.308      5.809      3.108          9        640: 100%|██████████| 5/5 [01:12<00:00, 14.59s/it]\n",
      "                 Class     Images  Instances      Box(P          R      mAP50  mAP50-95): 100%|██████████| 1/1 [00:13<00:00, 13.28s/it]"
     ]
    },
    {
     "name": "stdout",
     "output_type": "stream",
     "text": [
      "                   all         28         28    0.00321      0.964       0.67      0.458\n"
     ]
    },
    {
     "name": "stderr",
     "output_type": "stream",
     "text": [
      "\n"
     ]
    },
    {
     "name": "stdout",
     "output_type": "stream",
     "text": [
      "\n",
      "      Epoch    GPU_mem   box_loss   cls_loss   dfl_loss  Instances       Size\n"
     ]
    },
    {
     "name": "stderr",
     "output_type": "stream",
     "text": [
      "      10/50         0G       2.41      5.614      3.096          8        640: 100%|██████████| 5/5 [01:12<00:00, 14.53s/it]\n",
      "                 Class     Images  Instances      Box(P          R      mAP50  mAP50-95): 100%|██████████| 1/1 [00:11<00:00, 11.78s/it]"
     ]
    },
    {
     "name": "stdout",
     "output_type": "stream",
     "text": [
      "                   all         28         28    0.00321      0.964      0.626      0.402\n"
     ]
    },
    {
     "name": "stderr",
     "output_type": "stream",
     "text": [
      "\n"
     ]
    },
    {
     "name": "stdout",
     "output_type": "stream",
     "text": [
      "\n",
      "      Epoch    GPU_mem   box_loss   cls_loss   dfl_loss  Instances       Size\n"
     ]
    },
    {
     "name": "stderr",
     "output_type": "stream",
     "text": [
      "      11/50         0G       2.34      6.145       3.04          5        640: 100%|██████████| 5/5 [01:10<00:00, 14.11s/it]\n",
      "                 Class     Images  Instances      Box(P          R      mAP50  mAP50-95): 100%|██████████| 1/1 [00:11<00:00, 11.84s/it]"
     ]
    },
    {
     "name": "stdout",
     "output_type": "stream",
     "text": [
      "                   all         28         28    0.00321      0.964      0.613      0.359\n"
     ]
    },
    {
     "name": "stderr",
     "output_type": "stream",
     "text": [
      "\n"
     ]
    },
    {
     "name": "stdout",
     "output_type": "stream",
     "text": [
      "\n",
      "      Epoch    GPU_mem   box_loss   cls_loss   dfl_loss  Instances       Size\n"
     ]
    },
    {
     "name": "stderr",
     "output_type": "stream",
     "text": [
      "      12/50         0G      2.294      5.349      2.883          9        640: 100%|██████████| 5/5 [01:08<00:00, 13.68s/it]\n",
      "                 Class     Images  Instances      Box(P          R      mAP50  mAP50-95): 100%|██████████| 1/1 [00:11<00:00, 11.98s/it]"
     ]
    },
    {
     "name": "stdout",
     "output_type": "stream",
     "text": [
      "                   all         28         28     0.0191      0.964      0.583      0.337\n"
     ]
    },
    {
     "name": "stderr",
     "output_type": "stream",
     "text": [
      "\n"
     ]
    },
    {
     "name": "stdout",
     "output_type": "stream",
     "text": [
      "\n",
      "      Epoch    GPU_mem   box_loss   cls_loss   dfl_loss  Instances       Size\n"
     ]
    },
    {
     "name": "stderr",
     "output_type": "stream",
     "text": [
      "      13/50         0G      2.233      5.411      2.833          8        640: 100%|██████████| 5/5 [01:08<00:00, 13.64s/it]\n",
      "                 Class     Images  Instances      Box(P          R      mAP50  mAP50-95): 100%|██████████| 1/1 [00:12<00:00, 12.04s/it]"
     ]
    },
    {
     "name": "stdout",
     "output_type": "stream",
     "text": [
      "                   all         28         28    0.00333          1      0.612      0.373\n"
     ]
    },
    {
     "name": "stderr",
     "output_type": "stream",
     "text": [
      "\n"
     ]
    },
    {
     "name": "stdout",
     "output_type": "stream",
     "text": [
      "\n",
      "      Epoch    GPU_mem   box_loss   cls_loss   dfl_loss  Instances       Size\n"
     ]
    },
    {
     "name": "stderr",
     "output_type": "stream",
     "text": [
      "      14/50         0G      2.149      5.149       2.79          6        640: 100%|██████████| 5/5 [01:08<00:00, 13.69s/it]\n",
      "                 Class     Images  Instances      Box(P          R      mAP50  mAP50-95): 100%|██████████| 1/1 [00:11<00:00, 11.82s/it]"
     ]
    },
    {
     "name": "stdout",
     "output_type": "stream",
     "text": [
      "                   all         28         28      0.554     0.0357      0.367      0.195\n"
     ]
    },
    {
     "name": "stderr",
     "output_type": "stream",
     "text": [
      "\n"
     ]
    },
    {
     "name": "stdout",
     "output_type": "stream",
     "text": [
      "\n",
      "      Epoch    GPU_mem   box_loss   cls_loss   dfl_loss  Instances       Size\n"
     ]
    },
    {
     "name": "stderr",
     "output_type": "stream",
     "text": [
      "      15/50         0G      2.051        5.3       2.87          5        640: 100%|██████████| 5/5 [01:10<00:00, 14.07s/it]\n",
      "                 Class     Images  Instances      Box(P          R      mAP50  mAP50-95): 100%|██████████| 1/1 [00:12<00:00, 12.73s/it]"
     ]
    },
    {
     "name": "stdout",
     "output_type": "stream",
     "text": [
      "                   all         28         28       0.36     0.0357     0.0758     0.0377\n"
     ]
    },
    {
     "name": "stderr",
     "output_type": "stream",
     "text": [
      "\n"
     ]
    },
    {
     "name": "stdout",
     "output_type": "stream",
     "text": [
      "\n",
      "      Epoch    GPU_mem   box_loss   cls_loss   dfl_loss  Instances       Size\n"
     ]
    },
    {
     "name": "stderr",
     "output_type": "stream",
     "text": [
      "      16/50         0G      2.163      4.685      2.676          9        640: 100%|██████████| 5/5 [01:13<00:00, 14.62s/it]\n",
      "                 Class     Images  Instances      Box(P          R      mAP50  mAP50-95): 100%|██████████| 1/1 [00:12<00:00, 12.49s/it]"
     ]
    },
    {
     "name": "stdout",
     "output_type": "stream",
     "text": [
      "                   all         28         28      0.254     0.0357       0.07     0.0376\n"
     ]
    },
    {
     "name": "stderr",
     "output_type": "stream",
     "text": [
      "\n"
     ]
    },
    {
     "name": "stdout",
     "output_type": "stream",
     "text": [
      "\n",
      "      Epoch    GPU_mem   box_loss   cls_loss   dfl_loss  Instances       Size\n"
     ]
    },
    {
     "name": "stderr",
     "output_type": "stream",
     "text": [
      "      17/50         0G      2.295      4.829      2.923          8        640: 100%|██████████| 5/5 [01:12<00:00, 14.54s/it]\n",
      "                 Class     Images  Instances      Box(P          R      mAP50  mAP50-95): 100%|██████████| 1/1 [00:12<00:00, 12.03s/it]"
     ]
    },
    {
     "name": "stdout",
     "output_type": "stream",
     "text": [
      "                   all         28         28      0.534      0.107      0.137     0.0771\n"
     ]
    },
    {
     "name": "stderr",
     "output_type": "stream",
     "text": [
      "\n"
     ]
    },
    {
     "name": "stdout",
     "output_type": "stream",
     "text": [
      "\n",
      "      Epoch    GPU_mem   box_loss   cls_loss   dfl_loss  Instances       Size\n"
     ]
    },
    {
     "name": "stderr",
     "output_type": "stream",
     "text": [
      "      18/50         0G      2.366      5.357      3.027          5        640: 100%|██████████| 5/5 [01:08<00:00, 13.78s/it]\n",
      "                 Class     Images  Instances      Box(P          R      mAP50  mAP50-95): 100%|██████████| 1/1 [00:12<00:00, 12.42s/it]"
     ]
    },
    {
     "name": "stdout",
     "output_type": "stream",
     "text": [
      "                   all         28         28      0.615      0.286      0.322      0.176\n"
     ]
    },
    {
     "name": "stderr",
     "output_type": "stream",
     "text": [
      "\n"
     ]
    },
    {
     "name": "stdout",
     "output_type": "stream",
     "text": [
      "\n",
      "      Epoch    GPU_mem   box_loss   cls_loss   dfl_loss  Instances       Size\n"
     ]
    },
    {
     "name": "stderr",
     "output_type": "stream",
     "text": [
      "      19/50         0G      2.108      4.812      2.927          4        640: 100%|██████████| 5/5 [01:08<00:00, 13.62s/it]\n",
      "                 Class     Images  Instances      Box(P          R      mAP50  mAP50-95): 100%|██████████| 1/1 [00:12<00:00, 12.00s/it]"
     ]
    },
    {
     "name": "stdout",
     "output_type": "stream",
     "text": [
      "                   all         28         28      0.668      0.321      0.427      0.207\n"
     ]
    },
    {
     "name": "stderr",
     "output_type": "stream",
     "text": [
      "\n"
     ]
    },
    {
     "name": "stdout",
     "output_type": "stream",
     "text": [
      "\n",
      "      Epoch    GPU_mem   box_loss   cls_loss   dfl_loss  Instances       Size\n"
     ]
    },
    {
     "name": "stderr",
     "output_type": "stream",
     "text": [
      "      20/50         0G      2.022      4.527      2.769          7        640: 100%|██████████| 5/5 [01:07<00:00, 13.56s/it]\n",
      "                 Class     Images  Instances      Box(P          R      mAP50  mAP50-95): 100%|██████████| 1/1 [00:11<00:00, 11.89s/it]"
     ]
    },
    {
     "name": "stdout",
     "output_type": "stream",
     "text": [
      "                   all         28         28      0.351      0.143      0.303      0.143\n"
     ]
    },
    {
     "name": "stderr",
     "output_type": "stream",
     "text": [
      "\n"
     ]
    },
    {
     "name": "stdout",
     "output_type": "stream",
     "text": [
      "\n",
      "      Epoch    GPU_mem   box_loss   cls_loss   dfl_loss  Instances       Size\n"
     ]
    },
    {
     "name": "stderr",
     "output_type": "stream",
     "text": [
      "      21/50         0G      2.162      4.421      2.827          6        640: 100%|██████████| 5/5 [01:17<00:00, 15.49s/it]\n",
      "                 Class     Images  Instances      Box(P          R      mAP50  mAP50-95): 100%|██████████| 1/1 [00:12<00:00, 12.31s/it]"
     ]
    },
    {
     "name": "stdout",
     "output_type": "stream",
     "text": [
      "                   all         28         28      0.683      0.321      0.517      0.296\n"
     ]
    },
    {
     "name": "stderr",
     "output_type": "stream",
     "text": [
      "\n"
     ]
    },
    {
     "name": "stdout",
     "output_type": "stream",
     "text": [
      "\n",
      "      Epoch    GPU_mem   box_loss   cls_loss   dfl_loss  Instances       Size\n"
     ]
    },
    {
     "name": "stderr",
     "output_type": "stream",
     "text": [
      "      22/50         0G      1.877      3.729       2.58          6        640: 100%|██████████| 5/5 [01:13<00:00, 14.63s/it]\n",
      "                 Class     Images  Instances      Box(P          R      mAP50  mAP50-95): 100%|██████████| 1/1 [00:12<00:00, 12.63s/it]"
     ]
    },
    {
     "name": "stdout",
     "output_type": "stream",
     "text": [
      "                   all         28         28      0.676      0.536      0.654      0.433\n"
     ]
    },
    {
     "name": "stderr",
     "output_type": "stream",
     "text": [
      "\n"
     ]
    },
    {
     "name": "stdout",
     "output_type": "stream",
     "text": [
      "\n",
      "      Epoch    GPU_mem   box_loss   cls_loss   dfl_loss  Instances       Size\n"
     ]
    },
    {
     "name": "stderr",
     "output_type": "stream",
     "text": [
      "      23/50         0G      1.985      4.037      2.821          5        640: 100%|██████████| 5/5 [01:11<00:00, 14.28s/it]\n",
      "                 Class     Images  Instances      Box(P          R      mAP50  mAP50-95): 100%|██████████| 1/1 [00:13<00:00, 13.30s/it]"
     ]
    },
    {
     "name": "stdout",
     "output_type": "stream",
     "text": [
      "                   all         28         28      0.749      0.607      0.729      0.434\n"
     ]
    },
    {
     "name": "stderr",
     "output_type": "stream",
     "text": [
      "\n"
     ]
    },
    {
     "name": "stdout",
     "output_type": "stream",
     "text": [
      "\n",
      "      Epoch    GPU_mem   box_loss   cls_loss   dfl_loss  Instances       Size\n"
     ]
    },
    {
     "name": "stderr",
     "output_type": "stream",
     "text": [
      "      24/50         0G      2.181      4.087      2.785          6        640: 100%|██████████| 5/5 [01:14<00:00, 14.92s/it]\n",
      "                 Class     Images  Instances      Box(P          R      mAP50  mAP50-95): 100%|██████████| 1/1 [00:13<00:00, 13.22s/it]"
     ]
    },
    {
     "name": "stdout",
     "output_type": "stream",
     "text": [
      "                   all         28         28      0.928      0.464      0.679      0.387\n"
     ]
    },
    {
     "name": "stderr",
     "output_type": "stream",
     "text": [
      "\n"
     ]
    },
    {
     "name": "stdout",
     "output_type": "stream",
     "text": [
      "\n",
      "      Epoch    GPU_mem   box_loss   cls_loss   dfl_loss  Instances       Size\n"
     ]
    },
    {
     "name": "stderr",
     "output_type": "stream",
     "text": [
      "      25/50         0G      2.261      3.923      2.853          7        640: 100%|██████████| 5/5 [01:08<00:00, 13.64s/it]\n",
      "                 Class     Images  Instances      Box(P          R      mAP50  mAP50-95): 100%|██████████| 1/1 [00:12<00:00, 12.17s/it]"
     ]
    },
    {
     "name": "stdout",
     "output_type": "stream",
     "text": [
      "                   all         28         28      0.542        0.5      0.569      0.305\n"
     ]
    },
    {
     "name": "stderr",
     "output_type": "stream",
     "text": [
      "\n"
     ]
    },
    {
     "name": "stdout",
     "output_type": "stream",
     "text": [
      "\n",
      "      Epoch    GPU_mem   box_loss   cls_loss   dfl_loss  Instances       Size\n"
     ]
    },
    {
     "name": "stderr",
     "output_type": "stream",
     "text": [
      "      26/50         0G      2.517       5.45      3.267          3        640: 100%|██████████| 5/5 [01:08<00:00, 13.62s/it]\n",
      "                 Class     Images  Instances      Box(P          R      mAP50  mAP50-95): 100%|██████████| 1/1 [00:11<00:00, 11.95s/it]"
     ]
    },
    {
     "name": "stdout",
     "output_type": "stream",
     "text": [
      "                   all         28         28      0.542      0.466       0.58      0.313\n"
     ]
    },
    {
     "name": "stderr",
     "output_type": "stream",
     "text": [
      "\n"
     ]
    },
    {
     "name": "stdout",
     "output_type": "stream",
     "text": [
      "\n",
      "      Epoch    GPU_mem   box_loss   cls_loss   dfl_loss  Instances       Size\n"
     ]
    },
    {
     "name": "stderr",
     "output_type": "stream",
     "text": [
      "      27/50         0G      2.166      3.592      2.737          8        640: 100%|██████████| 5/5 [01:10<00:00, 14.17s/it]\n",
      "                 Class     Images  Instances      Box(P          R      mAP50  mAP50-95): 100%|██████████| 1/1 [00:14<00:00, 14.48s/it]"
     ]
    },
    {
     "name": "stdout",
     "output_type": "stream",
     "text": [
      "                   all         28         28      0.726      0.567       0.64      0.349\n"
     ]
    },
    {
     "name": "stderr",
     "output_type": "stream",
     "text": [
      "\n"
     ]
    },
    {
     "name": "stdout",
     "output_type": "stream",
     "text": [
      "\n",
      "      Epoch    GPU_mem   box_loss   cls_loss   dfl_loss  Instances       Size\n"
     ]
    },
    {
     "name": "stderr",
     "output_type": "stream",
     "text": [
      "      28/50         0G      2.119      4.282      2.852          6        640: 100%|██████████| 5/5 [01:21<00:00, 16.20s/it]\n",
      "                 Class     Images  Instances      Box(P          R      mAP50  mAP50-95): 100%|██████████| 1/1 [00:13<00:00, 13.83s/it]"
     ]
    },
    {
     "name": "stdout",
     "output_type": "stream",
     "text": [
      "                   all         28         28      0.715      0.718      0.798      0.512\n"
     ]
    },
    {
     "name": "stderr",
     "output_type": "stream",
     "text": [
      "\n"
     ]
    },
    {
     "name": "stdout",
     "output_type": "stream",
     "text": [
      "\n",
      "      Epoch    GPU_mem   box_loss   cls_loss   dfl_loss  Instances       Size\n"
     ]
    },
    {
     "name": "stderr",
     "output_type": "stream",
     "text": [
      "      29/50         0G          2       3.25      2.549          9        640: 100%|██████████| 5/5 [01:08<00:00, 13.80s/it]\n",
      "                 Class     Images  Instances      Box(P          R      mAP50  mAP50-95): 100%|██████████| 1/1 [00:12<00:00, 12.01s/it]"
     ]
    },
    {
     "name": "stdout",
     "output_type": "stream",
     "text": [
      "                   all         28         28      0.699      0.746      0.755      0.509\n"
     ]
    },
    {
     "name": "stderr",
     "output_type": "stream",
     "text": [
      "\n"
     ]
    },
    {
     "name": "stdout",
     "output_type": "stream",
     "text": [
      "\n",
      "      Epoch    GPU_mem   box_loss   cls_loss   dfl_loss  Instances       Size\n"
     ]
    },
    {
     "name": "stderr",
     "output_type": "stream",
     "text": [
      "      30/50         0G       2.12      3.895      2.828          6        640: 100%|██████████| 5/5 [01:07<00:00, 13.58s/it]\n",
      "                 Class     Images  Instances      Box(P          R      mAP50  mAP50-95): 100%|██████████| 1/1 [00:11<00:00, 11.94s/it]"
     ]
    },
    {
     "name": "stdout",
     "output_type": "stream",
     "text": [
      "                   all         28         28      0.845      0.782      0.853       0.55\n"
     ]
    },
    {
     "name": "stderr",
     "output_type": "stream",
     "text": [
      "\n"
     ]
    },
    {
     "name": "stdout",
     "output_type": "stream",
     "text": [
      "\n",
      "      Epoch    GPU_mem   box_loss   cls_loss   dfl_loss  Instances       Size\n"
     ]
    },
    {
     "name": "stderr",
     "output_type": "stream",
     "text": [
      "      31/50         0G       1.85      3.112      2.642         10        640: 100%|██████████| 5/5 [01:08<00:00, 13.65s/it]\n",
      "                 Class     Images  Instances      Box(P          R      mAP50  mAP50-95): 100%|██████████| 1/1 [00:11<00:00, 11.98s/it]"
     ]
    },
    {
     "name": "stdout",
     "output_type": "stream",
     "text": [
      "                   all         28         28      0.952       0.71      0.855       0.55\n"
     ]
    },
    {
     "name": "stderr",
     "output_type": "stream",
     "text": [
      "\n"
     ]
    },
    {
     "name": "stdout",
     "output_type": "stream",
     "text": [
      "\n",
      "      Epoch    GPU_mem   box_loss   cls_loss   dfl_loss  Instances       Size\n"
     ]
    },
    {
     "name": "stderr",
     "output_type": "stream",
     "text": [
      "      32/50         0G      1.811        3.1      2.508          8        640: 100%|██████████| 5/5 [01:10<00:00, 14.08s/it]\n",
      "                 Class     Images  Instances      Box(P          R      mAP50  mAP50-95): 100%|██████████| 1/1 [00:11<00:00, 11.94s/it]"
     ]
    },
    {
     "name": "stdout",
     "output_type": "stream",
     "text": [
      "                   all         28         28      0.722      0.834      0.877      0.552\n"
     ]
    },
    {
     "name": "stderr",
     "output_type": "stream",
     "text": [
      "\n"
     ]
    },
    {
     "name": "stdout",
     "output_type": "stream",
     "text": [
      "\n",
      "      Epoch    GPU_mem   box_loss   cls_loss   dfl_loss  Instances       Size\n"
     ]
    },
    {
     "name": "stderr",
     "output_type": "stream",
     "text": [
      "      33/50         0G      1.999      3.311      2.588          7        640: 100%|██████████| 5/5 [01:09<00:00, 13.83s/it]\n",
      "                 Class     Images  Instances      Box(P          R      mAP50  mAP50-95): 100%|██████████| 1/1 [00:12<00:00, 12.18s/it]"
     ]
    },
    {
     "name": "stdout",
     "output_type": "stream",
     "text": [
      "                   all         28         28      0.799      0.851      0.903       0.59\n"
     ]
    },
    {
     "name": "stderr",
     "output_type": "stream",
     "text": [
      "\n"
     ]
    },
    {
     "name": "stdout",
     "output_type": "stream",
     "text": [
      "\n",
      "      Epoch    GPU_mem   box_loss   cls_loss   dfl_loss  Instances       Size\n"
     ]
    },
    {
     "name": "stderr",
     "output_type": "stream",
     "text": [
      "      34/50         0G      1.875      3.451      2.646          8        640: 100%|██████████| 5/5 [01:08<00:00, 13.78s/it]\n",
      "                 Class     Images  Instances      Box(P          R      mAP50  mAP50-95): 100%|██████████| 1/1 [00:12<00:00, 12.39s/it]"
     ]
    },
    {
     "name": "stdout",
     "output_type": "stream",
     "text": [
      "                   all         28         28      0.945      0.821      0.911      0.607\n"
     ]
    },
    {
     "name": "stderr",
     "output_type": "stream",
     "text": [
      "\n"
     ]
    },
    {
     "name": "stdout",
     "output_type": "stream",
     "text": [
      "\n",
      "      Epoch    GPU_mem   box_loss   cls_loss   dfl_loss  Instances       Size\n"
     ]
    },
    {
     "name": "stderr",
     "output_type": "stream",
     "text": [
      "      35/50         0G      1.925      3.262      2.658          7        640: 100%|██████████| 5/5 [01:08<00:00, 13.79s/it]\n",
      "                 Class     Images  Instances      Box(P          R      mAP50  mAP50-95): 100%|██████████| 1/1 [00:12<00:00, 12.41s/it]"
     ]
    },
    {
     "name": "stdout",
     "output_type": "stream",
     "text": [
      "                   all         28         28      0.815      0.789      0.871      0.557\n"
     ]
    },
    {
     "name": "stderr",
     "output_type": "stream",
     "text": [
      "\n"
     ]
    },
    {
     "name": "stdout",
     "output_type": "stream",
     "text": [
      "\n",
      "      Epoch    GPU_mem   box_loss   cls_loss   dfl_loss  Instances       Size\n"
     ]
    },
    {
     "name": "stderr",
     "output_type": "stream",
     "text": [
      "      36/50         0G      1.816      2.967      2.528         10        640: 100%|██████████| 5/5 [01:11<00:00, 14.35s/it]\n",
      "                 Class     Images  Instances      Box(P          R      mAP50  mAP50-95): 100%|██████████| 1/1 [00:12<00:00, 12.68s/it]"
     ]
    },
    {
     "name": "stdout",
     "output_type": "stream",
     "text": [
      "                   all         28         28      0.812      0.773      0.851      0.584\n"
     ]
    },
    {
     "name": "stderr",
     "output_type": "stream",
     "text": [
      "\n"
     ]
    },
    {
     "name": "stdout",
     "output_type": "stream",
     "text": [
      "\n",
      "      Epoch    GPU_mem   box_loss   cls_loss   dfl_loss  Instances       Size\n"
     ]
    },
    {
     "name": "stderr",
     "output_type": "stream",
     "text": [
      "      37/50         0G      1.689      2.843      2.464         11        640: 100%|██████████| 5/5 [01:08<00:00, 13.69s/it]\n",
      "                 Class     Images  Instances      Box(P          R      mAP50  mAP50-95): 100%|██████████| 1/1 [00:12<00:00, 12.54s/it]"
     ]
    },
    {
     "name": "stdout",
     "output_type": "stream",
     "text": [
      "                   all         28         28      0.916       0.78      0.892      0.651\n"
     ]
    },
    {
     "name": "stderr",
     "output_type": "stream",
     "text": [
      "\n"
     ]
    },
    {
     "name": "stdout",
     "output_type": "stream",
     "text": [
      "\n",
      "      Epoch    GPU_mem   box_loss   cls_loss   dfl_loss  Instances       Size\n"
     ]
    },
    {
     "name": "stderr",
     "output_type": "stream",
     "text": [
      "      38/50         0G      1.918        3.3      2.607          8        640: 100%|██████████| 5/5 [01:10<00:00, 14.16s/it]\n",
      "                 Class     Images  Instances      Box(P          R      mAP50  mAP50-95): 100%|██████████| 1/1 [00:12<00:00, 12.09s/it]"
     ]
    },
    {
     "name": "stdout",
     "output_type": "stream",
     "text": [
      "                   all         28         28          1      0.758      0.907      0.645\n"
     ]
    },
    {
     "name": "stderr",
     "output_type": "stream",
     "text": [
      "\n"
     ]
    },
    {
     "name": "stdout",
     "output_type": "stream",
     "text": [
      "\n",
      "      Epoch    GPU_mem   box_loss   cls_loss   dfl_loss  Instances       Size\n"
     ]
    },
    {
     "name": "stderr",
     "output_type": "stream",
     "text": [
      "      39/50         0G      1.645       2.81      2.347         12        640: 100%|██████████| 5/5 [01:09<00:00, 13.88s/it]\n",
      "                 Class     Images  Instances      Box(P          R      mAP50  mAP50-95): 100%|██████████| 1/1 [00:12<00:00, 12.52s/it]"
     ]
    },
    {
     "name": "stdout",
     "output_type": "stream",
     "text": [
      "                   all         28         28       0.83      0.875      0.906       0.62\n"
     ]
    },
    {
     "name": "stderr",
     "output_type": "stream",
     "text": [
      "\n"
     ]
    },
    {
     "name": "stdout",
     "output_type": "stream",
     "text": [
      "\n",
      "      Epoch    GPU_mem   box_loss   cls_loss   dfl_loss  Instances       Size\n"
     ]
    },
    {
     "name": "stderr",
     "output_type": "stream",
     "text": [
      "      40/50         0G      1.717       2.95      2.469          7        640: 100%|██████████| 5/5 [01:15<00:00, 15.15s/it]\n",
      "                 Class     Images  Instances      Box(P          R      mAP50  mAP50-95): 100%|██████████| 1/1 [00:15<00:00, 15.59s/it]"
     ]
    },
    {
     "name": "stdout",
     "output_type": "stream",
     "text": [
      "                   all         28         28      0.801      0.863      0.919      0.606\n"
     ]
    },
    {
     "name": "stderr",
     "output_type": "stream",
     "text": [
      "\n"
     ]
    },
    {
     "name": "stdout",
     "output_type": "stream",
     "text": [
      "Closing dataloader mosaic\n",
      "\n",
      "      Epoch    GPU_mem   box_loss   cls_loss   dfl_loss  Instances       Size\n"
     ]
    },
    {
     "name": "stderr",
     "output_type": "stream",
     "text": [
      "      41/50         0G       1.84      5.945      2.999          3        640: 100%|██████████| 5/5 [01:14<00:00, 14.96s/it]\n",
      "                 Class     Images  Instances      Box(P          R      mAP50  mAP50-95): 100%|██████████| 1/1 [00:15<00:00, 15.02s/it]"
     ]
    },
    {
     "name": "stdout",
     "output_type": "stream",
     "text": [
      "                   all         28         28      0.809      0.893      0.887      0.587\n"
     ]
    },
    {
     "name": "stderr",
     "output_type": "stream",
     "text": [
      "\n"
     ]
    },
    {
     "name": "stdout",
     "output_type": "stream",
     "text": [
      "\n",
      "      Epoch    GPU_mem   box_loss   cls_loss   dfl_loss  Instances       Size\n"
     ]
    },
    {
     "name": "stderr",
     "output_type": "stream",
     "text": [
      "      42/50         0G      1.382      5.319      2.396          2        640: 100%|██████████| 5/5 [01:16<00:00, 15.31s/it]\n",
      "                 Class     Images  Instances      Box(P          R      mAP50  mAP50-95): 100%|██████████| 1/1 [00:13<00:00, 13.55s/it]"
     ]
    },
    {
     "name": "stdout",
     "output_type": "stream",
     "text": [
      "                   all         28         28      0.848      0.799      0.838      0.566\n"
     ]
    },
    {
     "name": "stderr",
     "output_type": "stream",
     "text": [
      "\n"
     ]
    },
    {
     "name": "stdout",
     "output_type": "stream",
     "text": [
      "\n",
      "      Epoch    GPU_mem   box_loss   cls_loss   dfl_loss  Instances       Size\n"
     ]
    },
    {
     "name": "stderr",
     "output_type": "stream",
     "text": [
      "      43/50         0G      1.579      5.332      2.682          3        640: 100%|██████████| 5/5 [01:10<00:00, 14.11s/it]\n",
      "                 Class     Images  Instances      Box(P          R      mAP50  mAP50-95): 100%|██████████| 1/1 [00:12<00:00, 12.00s/it]"
     ]
    },
    {
     "name": "stdout",
     "output_type": "stream",
     "text": [
      "                   all         28         28      0.831       0.75      0.828       0.56\n"
     ]
    },
    {
     "name": "stderr",
     "output_type": "stream",
     "text": [
      "\n"
     ]
    },
    {
     "name": "stdout",
     "output_type": "stream",
     "text": [
      "\n",
      "      Epoch    GPU_mem   box_loss   cls_loss   dfl_loss  Instances       Size\n"
     ]
    },
    {
     "name": "stderr",
     "output_type": "stream",
     "text": [
      "      44/50         0G      1.558      5.056      2.605          3        640: 100%|██████████| 5/5 [01:08<00:00, 13.80s/it]\n",
      "                 Class     Images  Instances      Box(P          R      mAP50  mAP50-95): 100%|██████████| 1/1 [00:12<00:00, 12.10s/it]"
     ]
    },
    {
     "name": "stdout",
     "output_type": "stream",
     "text": [
      "                   all         28         28          1       0.77      0.884       0.57\n"
     ]
    },
    {
     "name": "stderr",
     "output_type": "stream",
     "text": [
      "\n"
     ]
    },
    {
     "name": "stdout",
     "output_type": "stream",
     "text": [
      "\n",
      "      Epoch    GPU_mem   box_loss   cls_loss   dfl_loss  Instances       Size\n"
     ]
    },
    {
     "name": "stderr",
     "output_type": "stream",
     "text": [
      "      45/50         0G      1.509      4.728      2.583          3        640: 100%|██████████| 5/5 [01:07<00:00, 13.53s/it]\n",
      "                 Class     Images  Instances      Box(P          R      mAP50  mAP50-95): 100%|██████████| 1/1 [00:12<00:00, 12.14s/it]"
     ]
    },
    {
     "name": "stdout",
     "output_type": "stream",
     "text": [
      "                   all         28         28      0.707       0.75      0.836      0.552\n"
     ]
    },
    {
     "name": "stderr",
     "output_type": "stream",
     "text": [
      "\n"
     ]
    },
    {
     "name": "stdout",
     "output_type": "stream",
     "text": [
      "\n",
      "      Epoch    GPU_mem   box_loss   cls_loss   dfl_loss  Instances       Size\n"
     ]
    },
    {
     "name": "stderr",
     "output_type": "stream",
     "text": [
      "      46/50         0G      1.481      4.854      2.322          3        640: 100%|██████████| 5/5 [01:08<00:00, 13.74s/it]\n",
      "                 Class     Images  Instances      Box(P          R      mAP50  mAP50-95): 100%|██████████| 1/1 [00:12<00:00, 12.46s/it]"
     ]
    },
    {
     "name": "stdout",
     "output_type": "stream",
     "text": [
      "                   all         28         28       0.91      0.643      0.845      0.581\n"
     ]
    },
    {
     "name": "stderr",
     "output_type": "stream",
     "text": [
      "\n"
     ]
    },
    {
     "name": "stdout",
     "output_type": "stream",
     "text": [
      "\n",
      "      Epoch    GPU_mem   box_loss   cls_loss   dfl_loss  Instances       Size\n"
     ]
    },
    {
     "name": "stderr",
     "output_type": "stream",
     "text": [
      "      47/50         0G      1.198      4.441      2.258          3        640: 100%|██████████| 5/5 [01:07<00:00, 13.60s/it]\n",
      "                 Class     Images  Instances      Box(P          R      mAP50  mAP50-95): 100%|██████████| 1/1 [00:12<00:00, 12.27s/it]"
     ]
    },
    {
     "name": "stdout",
     "output_type": "stream",
     "text": [
      "                   all         28         28       0.78      0.714      0.851       0.58\n"
     ]
    },
    {
     "name": "stderr",
     "output_type": "stream",
     "text": [
      "\n"
     ]
    },
    {
     "name": "stdout",
     "output_type": "stream",
     "text": [
      "\n",
      "      Epoch    GPU_mem   box_loss   cls_loss   dfl_loss  Instances       Size\n"
     ]
    },
    {
     "name": "stderr",
     "output_type": "stream",
     "text": [
      "      48/50         0G      1.345      4.523      2.435          3        640: 100%|██████████| 5/5 [01:07<00:00, 13.49s/it]\n",
      "                 Class     Images  Instances      Box(P          R      mAP50  mAP50-95): 100%|██████████| 1/1 [00:12<00:00, 12.09s/it]"
     ]
    },
    {
     "name": "stdout",
     "output_type": "stream",
     "text": [
      "                   all         28         28      0.871      0.786      0.876      0.592\n"
     ]
    },
    {
     "name": "stderr",
     "output_type": "stream",
     "text": [
      "\n"
     ]
    },
    {
     "name": "stdout",
     "output_type": "stream",
     "text": [
      "\n",
      "      Epoch    GPU_mem   box_loss   cls_loss   dfl_loss  Instances       Size\n"
     ]
    },
    {
     "name": "stderr",
     "output_type": "stream",
     "text": [
      "      49/50         0G      1.162      4.439      2.274          3        640: 100%|██████████| 5/5 [01:08<00:00, 13.66s/it]\n",
      "                 Class     Images  Instances      Box(P          R      mAP50  mAP50-95): 100%|██████████| 1/1 [00:12<00:00, 12.43s/it]"
     ]
    },
    {
     "name": "stdout",
     "output_type": "stream",
     "text": [
      "                   all         28         28      0.849      0.805      0.866      0.578\n"
     ]
    },
    {
     "name": "stderr",
     "output_type": "stream",
     "text": [
      "\n"
     ]
    },
    {
     "name": "stdout",
     "output_type": "stream",
     "text": [
      "\n",
      "      Epoch    GPU_mem   box_loss   cls_loss   dfl_loss  Instances       Size\n"
     ]
    },
    {
     "name": "stderr",
     "output_type": "stream",
     "text": [
      "      50/50         0G      1.272      4.375      2.229          3        640: 100%|██████████| 5/5 [01:07<00:00, 13.52s/it]\n",
      "                 Class     Images  Instances      Box(P          R      mAP50  mAP50-95): 100%|██████████| 1/1 [00:11<00:00, 11.91s/it]"
     ]
    },
    {
     "name": "stdout",
     "output_type": "stream",
     "text": [
      "                   all         28         28      0.869      0.821      0.868      0.579\n"
     ]
    },
    {
     "name": "stderr",
     "output_type": "stream",
     "text": [
      "\n"
     ]
    },
    {
     "name": "stdout",
     "output_type": "stream",
     "text": [
      "\n",
      "50 epochs completed in 1.157 hours.\n",
      "Optimizer stripped from runs\\detect\\train4\\weights\\last.pt, 5.8MB\n",
      "Optimizer stripped from runs\\detect\\train4\\weights\\best.pt, 5.8MB\n",
      "\n",
      "Validating runs\\detect\\train4\\weights\\best.pt...\n",
      "Ultralytics YOLOv8.2.48  Python-3.12.3 torch-2.3.1+cpu CPU (Intel Core(TM) i7-10610U 1.80GHz)\n",
      "YOLOv10n summary (fused): 285 layers, 2694806 parameters, 0 gradients, 8.2 GFLOPs\n"
     ]
    },
    {
     "name": "stderr",
     "output_type": "stream",
     "text": [
      "                 Class     Images  Instances      Box(P          R      mAP50  mAP50-95): 100%|██████████| 1/1 [00:11<00:00, 11.26s/it]\n"
     ]
    },
    {
     "name": "stdout",
     "output_type": "stream",
     "text": [
      "                   all         28         28      0.916      0.783      0.893      0.652\n",
      "Speed: 5.3ms preprocess, 368.8ms inference, 0.0ms loss, 0.0ms postprocess per image\n",
      "Results saved to \u001b[1mruns\\detect\\train4\u001b[0m\n"
     ]
    },
    {
     "data": {
      "text/plain": [
       "ultralytics.utils.metrics.DetMetrics object with attributes:\n",
       "\n",
       "ap_class_index: array([0])\n",
       "box: ultralytics.utils.metrics.Metric object\n",
       "confusion_matrix: <ultralytics.utils.metrics.ConfusionMatrix object at 0x000001FC08F7F8C0>\n",
       "curves: ['Precision-Recall(B)', 'F1-Confidence(B)', 'Precision-Confidence(B)', 'Recall-Confidence(B)']\n",
       "curves_results: [[array([          0,    0.001001,    0.002002,    0.003003,    0.004004,    0.005005,    0.006006,    0.007007,    0.008008,    0.009009,     0.01001,    0.011011,    0.012012,    0.013013,    0.014014,    0.015015,    0.016016,    0.017017,    0.018018,    0.019019,     0.02002,    0.021021,    0.022022,    0.023023,\n",
       "          0.024024,    0.025025,    0.026026,    0.027027,    0.028028,    0.029029,     0.03003,    0.031031,    0.032032,    0.033033,    0.034034,    0.035035,    0.036036,    0.037037,    0.038038,    0.039039,     0.04004,    0.041041,    0.042042,    0.043043,    0.044044,    0.045045,    0.046046,    0.047047,\n",
       "          0.048048,    0.049049,     0.05005,    0.051051,    0.052052,    0.053053,    0.054054,    0.055055,    0.056056,    0.057057,    0.058058,    0.059059,     0.06006,    0.061061,    0.062062,    0.063063,    0.064064,    0.065065,    0.066066,    0.067067,    0.068068,    0.069069,     0.07007,    0.071071,\n",
       "          0.072072,    0.073073,    0.074074,    0.075075,    0.076076,    0.077077,    0.078078,    0.079079,     0.08008,    0.081081,    0.082082,    0.083083,    0.084084,    0.085085,    0.086086,    0.087087,    0.088088,    0.089089,     0.09009,    0.091091,    0.092092,    0.093093,    0.094094,    0.095095,\n",
       "          0.096096,    0.097097,    0.098098,    0.099099,      0.1001,      0.1011,      0.1021,      0.1031,      0.1041,     0.10511,     0.10611,     0.10711,     0.10811,     0.10911,     0.11011,     0.11111,     0.11211,     0.11311,     0.11411,     0.11512,     0.11612,     0.11712,     0.11812,     0.11912,\n",
       "           0.12012,     0.12112,     0.12212,     0.12312,     0.12412,     0.12513,     0.12613,     0.12713,     0.12813,     0.12913,     0.13013,     0.13113,     0.13213,     0.13313,     0.13413,     0.13514,     0.13614,     0.13714,     0.13814,     0.13914,     0.14014,     0.14114,     0.14214,     0.14314,\n",
       "           0.14414,     0.14515,     0.14615,     0.14715,     0.14815,     0.14915,     0.15015,     0.15115,     0.15215,     0.15315,     0.15415,     0.15516,     0.15616,     0.15716,     0.15816,     0.15916,     0.16016,     0.16116,     0.16216,     0.16316,     0.16416,     0.16517,     0.16617,     0.16717,\n",
       "           0.16817,     0.16917,     0.17017,     0.17117,     0.17217,     0.17317,     0.17417,     0.17518,     0.17618,     0.17718,     0.17818,     0.17918,     0.18018,     0.18118,     0.18218,     0.18318,     0.18418,     0.18519,     0.18619,     0.18719,     0.18819,     0.18919,     0.19019,     0.19119,\n",
       "           0.19219,     0.19319,     0.19419,      0.1952,      0.1962,      0.1972,      0.1982,      0.1992,      0.2002,      0.2012,      0.2022,      0.2032,      0.2042,     0.20521,     0.20621,     0.20721,     0.20821,     0.20921,     0.21021,     0.21121,     0.21221,     0.21321,     0.21421,     0.21522,\n",
       "           0.21622,     0.21722,     0.21822,     0.21922,     0.22022,     0.22122,     0.22222,     0.22322,     0.22422,     0.22523,     0.22623,     0.22723,     0.22823,     0.22923,     0.23023,     0.23123,     0.23223,     0.23323,     0.23423,     0.23524,     0.23624,     0.23724,     0.23824,     0.23924,\n",
       "           0.24024,     0.24124,     0.24224,     0.24324,     0.24424,     0.24525,     0.24625,     0.24725,     0.24825,     0.24925,     0.25025,     0.25125,     0.25225,     0.25325,     0.25425,     0.25526,     0.25626,     0.25726,     0.25826,     0.25926,     0.26026,     0.26126,     0.26226,     0.26326,\n",
       "           0.26426,     0.26527,     0.26627,     0.26727,     0.26827,     0.26927,     0.27027,     0.27127,     0.27227,     0.27327,     0.27427,     0.27528,     0.27628,     0.27728,     0.27828,     0.27928,     0.28028,     0.28128,     0.28228,     0.28328,     0.28428,     0.28529,     0.28629,     0.28729,\n",
       "           0.28829,     0.28929,     0.29029,     0.29129,     0.29229,     0.29329,     0.29429,      0.2953,      0.2963,      0.2973,      0.2983,      0.2993,      0.3003,      0.3013,      0.3023,      0.3033,      0.3043,     0.30531,     0.30631,     0.30731,     0.30831,     0.30931,     0.31031,     0.31131,\n",
       "           0.31231,     0.31331,     0.31431,     0.31532,     0.31632,     0.31732,     0.31832,     0.31932,     0.32032,     0.32132,     0.32232,     0.32332,     0.32432,     0.32533,     0.32633,     0.32733,     0.32833,     0.32933,     0.33033,     0.33133,     0.33233,     0.33333,     0.33433,     0.33534,\n",
       "           0.33634,     0.33734,     0.33834,     0.33934,     0.34034,     0.34134,     0.34234,     0.34334,     0.34434,     0.34535,     0.34635,     0.34735,     0.34835,     0.34935,     0.35035,     0.35135,     0.35235,     0.35335,     0.35435,     0.35536,     0.35636,     0.35736,     0.35836,     0.35936,\n",
       "           0.36036,     0.36136,     0.36236,     0.36336,     0.36436,     0.36537,     0.36637,     0.36737,     0.36837,     0.36937,     0.37037,     0.37137,     0.37237,     0.37337,     0.37437,     0.37538,     0.37638,     0.37738,     0.37838,     0.37938,     0.38038,     0.38138,     0.38238,     0.38338,\n",
       "           0.38438,     0.38539,     0.38639,     0.38739,     0.38839,     0.38939,     0.39039,     0.39139,     0.39239,     0.39339,     0.39439,      0.3954,      0.3964,      0.3974,      0.3984,      0.3994,      0.4004,      0.4014,      0.4024,      0.4034,      0.4044,     0.40541,     0.40641,     0.40741,\n",
       "           0.40841,     0.40941,     0.41041,     0.41141,     0.41241,     0.41341,     0.41441,     0.41542,     0.41642,     0.41742,     0.41842,     0.41942,     0.42042,     0.42142,     0.42242,     0.42342,     0.42442,     0.42543,     0.42643,     0.42743,     0.42843,     0.42943,     0.43043,     0.43143,\n",
       "           0.43243,     0.43343,     0.43443,     0.43544,     0.43644,     0.43744,     0.43844,     0.43944,     0.44044,     0.44144,     0.44244,     0.44344,     0.44444,     0.44545,     0.44645,     0.44745,     0.44845,     0.44945,     0.45045,     0.45145,     0.45245,     0.45345,     0.45445,     0.45546,\n",
       "           0.45646,     0.45746,     0.45846,     0.45946,     0.46046,     0.46146,     0.46246,     0.46346,     0.46446,     0.46547,     0.46647,     0.46747,     0.46847,     0.46947,     0.47047,     0.47147,     0.47247,     0.47347,     0.47447,     0.47548,     0.47648,     0.47748,     0.47848,     0.47948,\n",
       "           0.48048,     0.48148,     0.48248,     0.48348,     0.48448,     0.48549,     0.48649,     0.48749,     0.48849,     0.48949,     0.49049,     0.49149,     0.49249,     0.49349,     0.49449,      0.4955,      0.4965,      0.4975,      0.4985,      0.4995,      0.5005,      0.5015,      0.5025,      0.5035,\n",
       "            0.5045,     0.50551,     0.50651,     0.50751,     0.50851,     0.50951,     0.51051,     0.51151,     0.51251,     0.51351,     0.51451,     0.51552,     0.51652,     0.51752,     0.51852,     0.51952,     0.52052,     0.52152,     0.52252,     0.52352,     0.52452,     0.52553,     0.52653,     0.52753,\n",
       "           0.52853,     0.52953,     0.53053,     0.53153,     0.53253,     0.53353,     0.53453,     0.53554,     0.53654,     0.53754,     0.53854,     0.53954,     0.54054,     0.54154,     0.54254,     0.54354,     0.54454,     0.54555,     0.54655,     0.54755,     0.54855,     0.54955,     0.55055,     0.55155,\n",
       "           0.55255,     0.55355,     0.55455,     0.55556,     0.55656,     0.55756,     0.55856,     0.55956,     0.56056,     0.56156,     0.56256,     0.56356,     0.56456,     0.56557,     0.56657,     0.56757,     0.56857,     0.56957,     0.57057,     0.57157,     0.57257,     0.57357,     0.57457,     0.57558,\n",
       "           0.57658,     0.57758,     0.57858,     0.57958,     0.58058,     0.58158,     0.58258,     0.58358,     0.58458,     0.58559,     0.58659,     0.58759,     0.58859,     0.58959,     0.59059,     0.59159,     0.59259,     0.59359,     0.59459,      0.5956,      0.5966,      0.5976,      0.5986,      0.5996,\n",
       "            0.6006,      0.6016,      0.6026,      0.6036,      0.6046,     0.60561,     0.60661,     0.60761,     0.60861,     0.60961,     0.61061,     0.61161,     0.61261,     0.61361,     0.61461,     0.61562,     0.61662,     0.61762,     0.61862,     0.61962,     0.62062,     0.62162,     0.62262,     0.62362,\n",
       "           0.62462,     0.62563,     0.62663,     0.62763,     0.62863,     0.62963,     0.63063,     0.63163,     0.63263,     0.63363,     0.63463,     0.63564,     0.63664,     0.63764,     0.63864,     0.63964,     0.64064,     0.64164,     0.64264,     0.64364,     0.64464,     0.64565,     0.64665,     0.64765,\n",
       "           0.64865,     0.64965,     0.65065,     0.65165,     0.65265,     0.65365,     0.65465,     0.65566,     0.65666,     0.65766,     0.65866,     0.65966,     0.66066,     0.66166,     0.66266,     0.66366,     0.66466,     0.66567,     0.66667,     0.66767,     0.66867,     0.66967,     0.67067,     0.67167,\n",
       "           0.67267,     0.67367,     0.67467,     0.67568,     0.67668,     0.67768,     0.67868,     0.67968,     0.68068,     0.68168,     0.68268,     0.68368,     0.68468,     0.68569,     0.68669,     0.68769,     0.68869,     0.68969,     0.69069,     0.69169,     0.69269,     0.69369,     0.69469,      0.6957,\n",
       "            0.6967,      0.6977,      0.6987,      0.6997,      0.7007,      0.7017,      0.7027,      0.7037,      0.7047,     0.70571,     0.70671,     0.70771,     0.70871,     0.70971,     0.71071,     0.71171,     0.71271,     0.71371,     0.71471,     0.71572,     0.71672,     0.71772,     0.71872,     0.71972,\n",
       "           0.72072,     0.72172,     0.72272,     0.72372,     0.72472,     0.72573,     0.72673,     0.72773,     0.72873,     0.72973,     0.73073,     0.73173,     0.73273,     0.73373,     0.73473,     0.73574,     0.73674,     0.73774,     0.73874,     0.73974,     0.74074,     0.74174,     0.74274,     0.74374,\n",
       "           0.74474,     0.74575,     0.74675,     0.74775,     0.74875,     0.74975,     0.75075,     0.75175,     0.75275,     0.75375,     0.75475,     0.75576,     0.75676,     0.75776,     0.75876,     0.75976,     0.76076,     0.76176,     0.76276,     0.76376,     0.76476,     0.76577,     0.76677,     0.76777,\n",
       "           0.76877,     0.76977,     0.77077,     0.77177,     0.77277,     0.77377,     0.77477,     0.77578,     0.77678,     0.77778,     0.77878,     0.77978,     0.78078,     0.78178,     0.78278,     0.78378,     0.78478,     0.78579,     0.78679,     0.78779,     0.78879,     0.78979,     0.79079,     0.79179,\n",
       "           0.79279,     0.79379,     0.79479,      0.7958,      0.7968,      0.7978,      0.7988,      0.7998,      0.8008,      0.8018,      0.8028,      0.8038,      0.8048,     0.80581,     0.80681,     0.80781,     0.80881,     0.80981,     0.81081,     0.81181,     0.81281,     0.81381,     0.81481,     0.81582,\n",
       "           0.81682,     0.81782,     0.81882,     0.81982,     0.82082,     0.82182,     0.82282,     0.82382,     0.82482,     0.82583,     0.82683,     0.82783,     0.82883,     0.82983,     0.83083,     0.83183,     0.83283,     0.83383,     0.83483,     0.83584,     0.83684,     0.83784,     0.83884,     0.83984,\n",
       "           0.84084,     0.84184,     0.84284,     0.84384,     0.84484,     0.84585,     0.84685,     0.84785,     0.84885,     0.84985,     0.85085,     0.85185,     0.85285,     0.85385,     0.85485,     0.85586,     0.85686,     0.85786,     0.85886,     0.85986,     0.86086,     0.86186,     0.86286,     0.86386,\n",
       "           0.86486,     0.86587,     0.86687,     0.86787,     0.86887,     0.86987,     0.87087,     0.87187,     0.87287,     0.87387,     0.87487,     0.87588,     0.87688,     0.87788,     0.87888,     0.87988,     0.88088,     0.88188,     0.88288,     0.88388,     0.88488,     0.88589,     0.88689,     0.88789,\n",
       "           0.88889,     0.88989,     0.89089,     0.89189,     0.89289,     0.89389,     0.89489,      0.8959,      0.8969,      0.8979,      0.8989,      0.8999,      0.9009,      0.9019,      0.9029,      0.9039,      0.9049,     0.90591,     0.90691,     0.90791,     0.90891,     0.90991,     0.91091,     0.91191,\n",
       "           0.91291,     0.91391,     0.91491,     0.91592,     0.91692,     0.91792,     0.91892,     0.91992,     0.92092,     0.92192,     0.92292,     0.92392,     0.92492,     0.92593,     0.92693,     0.92793,     0.92893,     0.92993,     0.93093,     0.93193,     0.93293,     0.93393,     0.93493,     0.93594,\n",
       "           0.93694,     0.93794,     0.93894,     0.93994,     0.94094,     0.94194,     0.94294,     0.94394,     0.94494,     0.94595,     0.94695,     0.94795,     0.94895,     0.94995,     0.95095,     0.95195,     0.95295,     0.95395,     0.95495,     0.95596,     0.95696,     0.95796,     0.95896,     0.95996,\n",
       "           0.96096,     0.96196,     0.96296,     0.96396,     0.96496,     0.96597,     0.96697,     0.96797,     0.96897,     0.96997,     0.97097,     0.97197,     0.97297,     0.97397,     0.97497,     0.97598,     0.97698,     0.97798,     0.97898,     0.97998,     0.98098,     0.98198,     0.98298,     0.98398,\n",
       "           0.98498,     0.98599,     0.98699,     0.98799,     0.98899,     0.98999,     0.99099,     0.99199,     0.99299,     0.99399,     0.99499,       0.996,       0.997,       0.998,       0.999,           1]), array([[          1,           1,           1,           1,           1,           1,           1,           1,           1,           1,           1,           1,           1,           1,           1,           1,           1,           1,           1,           1,           1,           1,           1,\n",
       "                  1,           1,           1,           1,           1,           1,           1,           1,           1,           1,           1,           1,           1,           1,           1,           1,           1,           1,           1,           1,           1,           1,           1,\n",
       "                  1,           1,           1,           1,           1,           1,           1,           1,           1,           1,           1,           1,           1,           1,           1,           1,           1,           1,           1,           1,           1,           1,           1,\n",
       "                  1,           1,           1,           1,           1,           1,           1,           1,           1,           1,           1,           1,           1,           1,           1,           1,           1,           1,           1,           1,           1,           1,           1,\n",
       "                  1,           1,           1,           1,           1,           1,           1,           1,           1,           1,           1,           1,           1,           1,           1,           1,           1,           1,           1,           1,           1,           1,           1,\n",
       "                  1,           1,           1,           1,           1,           1,           1,           1,           1,           1,           1,           1,           1,           1,           1,           1,           1,           1,           1,           1,           1,           1,           1,\n",
       "                  1,           1,           1,           1,           1,           1,           1,           1,           1,           1,           1,           1,           1,           1,           1,           1,           1,           1,           1,           1,           1,           1,           1,\n",
       "                  1,           1,           1,           1,           1,           1,           1,           1,           1,           1,           1,           1,           1,           1,           1,           1,           1,           1,           1,           1,           1,           1,           1,\n",
       "                  1,           1,           1,           1,           1,           1,           1,           1,           1,           1,           1,           1,           1,           1,           1,           1,           1,           1,           1,           1,           1,           1,           1,\n",
       "                  1,           1,           1,           1,           1,           1,           1,           1,           1,           1,           1,           1,           1,           1,           1,           1,           1,           1,           1,           1,           1,           1,           1,\n",
       "                  1,           1,           1,           1,           1,           1,           1,           1,           1,           1,           1,           1,           1,           1,           1,           1,           1,           1,           1,           1,           1,           1,           1,\n",
       "                  1,           1,           1,           1,           1,           1,           1,           1,           1,           1,           1,           1,           1,           1,           1,           1,           1,           1,           1,           1,           1,           1,           1,\n",
       "                  1,           1,           1,           1,           1,           1,           1,           1,           1,           1,           1,           1,           1,           1,           1,           1,           1,           1,           1,           1,           1,           1,           1,\n",
       "                  1,           1,           1,           1,           1,           1,           1,           1,           1,           1,           1,           1,           1,           1,           1,           1,           1,           1,           1,           1,           1,           1,           1,\n",
       "                  1,           1,           1,           1,           1,           1,           1,           1,           1,           1,           1,           1,           1,           1,           1,           1,           1,           1,           1,           1,           1,           1,           1,\n",
       "                  1,           1,           1,           1,           1,           1,           1,           1,           1,           1,           1,           1,           1,           1,           1,           1,           1,           1,           1,           1,           1,           1,           1,\n",
       "                  1,           1,           1,           1,           1,           1,           1,           1,           1,           1,           1,           1,           1,           1,           1,           1,           1,           1,           1,           1,           1,           1,           1,\n",
       "                  1,           1,           1,           1,           1,           1,           1,           1,           1,           1,           1,           1,           1,           1,           1,           1,           1,           1,           1,           1,           1,           1,           1,\n",
       "                  1,           1,           1,           1,           1,           1,           1,           1,           1,           1,           1,           1,           1,           1,           1,           1,           1,           1,           1,           1,           1,           1,           1,\n",
       "                  1,           1,           1,           1,           1,           1,           1,           1,           1,           1,           1,           1,           1,           1,           1,           1,           1,           1,           1,           1,           1,           1,           1,\n",
       "                  1,           1,           1,           1,           1,           1,           1,           1,           1,           1,           1,           1,           1,           1,           1,           1,           1,           1,           1,           1,           1,           1,           1,\n",
       "                  1,           1,           1,           1,           1,           1,           1,           1,           1,           1,           1,           1,           1,           1,           1,           1,           1,           1,           1,           1,           1,           1,           1,\n",
       "                  1,           1,           1,           1,           1,           1,           1,           1,           1,           1,           1,           1,           1,           1,           1,           1,           1,           1,           1,           1,           1,           1,           1,\n",
       "                  1,           1,           1,           1,           1,           1,           1,           1,           1,           1,           1,           1,           1,           1,           1,           1,           1,           1,           1,           1,           1,           1,           1,\n",
       "                  1,           1,           1,           1,           1,           1,           1,           1,           1,           1,           1,           1,           1,           1,           1,           1,           1,           1,           1,           1,           1,           1,           1,\n",
       "                  1,           1,           1,           1,           1,           1,           1,           1,           1,           1,           1,           1,           1,           1,           1,           1,           1,           1,           1,           1,           1,           1,           1,\n",
       "                  1,           1,           1,           1,           1,           1,           1,           1,           1,     0.95455,     0.95455,     0.95455,     0.95455,     0.95455,     0.95455,     0.95455,     0.95455,     0.95455,     0.95455,     0.95455,     0.95455,     0.95455,     0.95455,\n",
       "            0.95455,     0.95455,     0.95455,     0.95455,     0.95455,     0.95455,     0.95455,     0.95455,     0.95455,     0.95455,     0.95455,     0.95455,     0.95455,     0.95455,     0.95455,     0.95455,     0.95455,     0.95455,     0.95455,     0.95455,     0.95455,     0.95455,     0.95455,\n",
       "            0.95455,     0.95455,     0.95455,     0.95455,     0.95455,     0.95455,     0.95455,     0.95455,     0.95455,     0.95455,     0.95455,     0.95455,     0.95455,     0.95455,     0.95455,     0.95455,     0.95455,     0.95455,     0.95455,     0.95455,     0.95455,     0.95455,     0.95455,\n",
       "            0.95455,     0.95455,     0.95455,     0.95455,     0.95455,     0.95455,     0.95455,     0.95455,     0.95455,     0.95455,     0.95455,     0.95455,     0.95455,     0.95455,     0.95455,     0.95455,     0.95455,     0.95455,     0.95455,     0.95455,     0.95455,     0.95455,     0.95455,\n",
       "            0.95455,     0.95455,     0.95455,     0.95455,     0.95455,     0.95455,     0.95455,     0.95455,     0.95455,     0.95455,     0.95455,     0.95455,     0.95455,     0.95455,     0.95455,     0.95455,     0.95455,     0.95455,     0.95455,     0.95455,     0.95455,     0.95455,     0.95455,\n",
       "            0.95455,     0.95455,     0.95455,     0.95455,     0.95455,     0.95455,     0.95455,     0.95455,     0.95455,     0.95455,     0.95455,     0.95455,     0.95455,     0.95455,     0.95455,     0.95455,     0.95455,     0.95455,     0.95455,     0.95455,     0.95455,     0.95455,     0.95455,\n",
       "            0.95455,     0.95455,     0.95455,     0.95455,     0.95455,     0.95455,     0.95455,     0.95455,     0.95455,     0.95455,     0.95455,     0.95455,     0.95455,     0.95455,        0.92,        0.92,        0.92,        0.92,        0.92,        0.92,        0.92,        0.92,        0.92,\n",
       "               0.92,        0.92,        0.92,        0.92,        0.92,        0.92,        0.92,        0.92,        0.92,        0.92,        0.92,        0.92,        0.92,        0.92,        0.92,        0.92,        0.92,        0.92,        0.92,        0.92,        0.92,        0.92,        0.92,\n",
       "               0.92,        0.92,        0.92,        0.92,        0.92,        0.92,        0.92,        0.92,        0.92,        0.92,        0.92,        0.92,        0.92,        0.92,        0.92,        0.92,        0.92,        0.92,        0.92,        0.92,        0.92,        0.92,        0.92,\n",
       "               0.92,        0.92,        0.92,        0.92,        0.92,        0.92,        0.92,        0.92,        0.92,        0.92,        0.92,        0.92,        0.92,        0.92,        0.92,        0.92,         0.8,         0.8,         0.8,         0.8,         0.8,         0.8,         0.8,\n",
       "                0.8,         0.8,         0.8,         0.8,         0.8,         0.8,         0.8,         0.8,         0.8,         0.8,         0.8,         0.8,         0.8,         0.8,         0.8,         0.8,         0.8,         0.8,         0.8,         0.8,         0.8,         0.8,         0.8,\n",
       "                0.8,         0.8,         0.8,         0.8,         0.8,         0.8,     0.71429,     0.71429,     0.71429,     0.71429,     0.71429,     0.71429,     0.71429,     0.71429,     0.71429,     0.71429,     0.71429,     0.71429,     0.71429,     0.71429,     0.71429,     0.71429,     0.71429,\n",
       "            0.71429,     0.71429,     0.71429,     0.71429,     0.71429,     0.71429,     0.71429,     0.71429,     0.71429,     0.71429,     0.71429,     0.71429,     0.71429,     0.71429,     0.71429,     0.71429,     0.71429,     0.71429,     0.63415,     0.63415,     0.63415,     0.63415,     0.63415,\n",
       "            0.63415,     0.63415,     0.63415,     0.63415,     0.63415,     0.63415,     0.63415,     0.63415,     0.63415,     0.63415,     0.63415,     0.63415,     0.63415,     0.63415,     0.63415,     0.63415,     0.63415,     0.63415,     0.63415,     0.63415,     0.63415,     0.63415,     0.63415,\n",
       "            0.63415,     0.63415,     0.63415,     0.63415,     0.63415,     0.63415,     0.63415,     0.63415,     0.21951,     0.21951,     0.21951,     0.21951,     0.21951,     0.21951,     0.21951,     0.21951,     0.21951,     0.21951,     0.21951,     0.21951,     0.21951,     0.21951,     0.21951,\n",
       "            0.21951,     0.21951,     0.21951,     0.21951,     0.21951,     0.21951,     0.21951,     0.21951,     0.21951,     0.21951,     0.21951,     0.21951,     0.21951,     0.21951,     0.21951,     0.21951,     0.21951,     0.21951,     0.21951,     0.21951,     0.21951,    0.013189,    0.013189,\n",
       "           0.013189,    0.013189,    0.013189,    0.013189,    0.013189,    0.013189,    0.013189,    0.013189,    0.013189,    0.013189,    0.013189,    0.013189,    0.013189,    0.013189,    0.013189,    0.013189,    0.013189,    0.013189,    0.013189,    0.013189,    0.013189,    0.013189,    0.013189,\n",
       "           0.013189,    0.013189,    0.013189,    0.013189,    0.013189,    0.013189,    0.013189,    0.013189,    0.013189,    0.013189,           0]]), 'Recall', 'Precision'], [array([          0,    0.001001,    0.002002,    0.003003,    0.004004,    0.005005,    0.006006,    0.007007,    0.008008,    0.009009,     0.01001,    0.011011,    0.012012,    0.013013,    0.014014,    0.015015,    0.016016,    0.017017,    0.018018,    0.019019,     0.02002,    0.021021,    0.022022,    0.023023,\n",
       "          0.024024,    0.025025,    0.026026,    0.027027,    0.028028,    0.029029,     0.03003,    0.031031,    0.032032,    0.033033,    0.034034,    0.035035,    0.036036,    0.037037,    0.038038,    0.039039,     0.04004,    0.041041,    0.042042,    0.043043,    0.044044,    0.045045,    0.046046,    0.047047,\n",
       "          0.048048,    0.049049,     0.05005,    0.051051,    0.052052,    0.053053,    0.054054,    0.055055,    0.056056,    0.057057,    0.058058,    0.059059,     0.06006,    0.061061,    0.062062,    0.063063,    0.064064,    0.065065,    0.066066,    0.067067,    0.068068,    0.069069,     0.07007,    0.071071,\n",
       "          0.072072,    0.073073,    0.074074,    0.075075,    0.076076,    0.077077,    0.078078,    0.079079,     0.08008,    0.081081,    0.082082,    0.083083,    0.084084,    0.085085,    0.086086,    0.087087,    0.088088,    0.089089,     0.09009,    0.091091,    0.092092,    0.093093,    0.094094,    0.095095,\n",
       "          0.096096,    0.097097,    0.098098,    0.099099,      0.1001,      0.1011,      0.1021,      0.1031,      0.1041,     0.10511,     0.10611,     0.10711,     0.10811,     0.10911,     0.11011,     0.11111,     0.11211,     0.11311,     0.11411,     0.11512,     0.11612,     0.11712,     0.11812,     0.11912,\n",
       "           0.12012,     0.12112,     0.12212,     0.12312,     0.12412,     0.12513,     0.12613,     0.12713,     0.12813,     0.12913,     0.13013,     0.13113,     0.13213,     0.13313,     0.13413,     0.13514,     0.13614,     0.13714,     0.13814,     0.13914,     0.14014,     0.14114,     0.14214,     0.14314,\n",
       "           0.14414,     0.14515,     0.14615,     0.14715,     0.14815,     0.14915,     0.15015,     0.15115,     0.15215,     0.15315,     0.15415,     0.15516,     0.15616,     0.15716,     0.15816,     0.15916,     0.16016,     0.16116,     0.16216,     0.16316,     0.16416,     0.16517,     0.16617,     0.16717,\n",
       "           0.16817,     0.16917,     0.17017,     0.17117,     0.17217,     0.17317,     0.17417,     0.17518,     0.17618,     0.17718,     0.17818,     0.17918,     0.18018,     0.18118,     0.18218,     0.18318,     0.18418,     0.18519,     0.18619,     0.18719,     0.18819,     0.18919,     0.19019,     0.19119,\n",
       "           0.19219,     0.19319,     0.19419,      0.1952,      0.1962,      0.1972,      0.1982,      0.1992,      0.2002,      0.2012,      0.2022,      0.2032,      0.2042,     0.20521,     0.20621,     0.20721,     0.20821,     0.20921,     0.21021,     0.21121,     0.21221,     0.21321,     0.21421,     0.21522,\n",
       "           0.21622,     0.21722,     0.21822,     0.21922,     0.22022,     0.22122,     0.22222,     0.22322,     0.22422,     0.22523,     0.22623,     0.22723,     0.22823,     0.22923,     0.23023,     0.23123,     0.23223,     0.23323,     0.23423,     0.23524,     0.23624,     0.23724,     0.23824,     0.23924,\n",
       "           0.24024,     0.24124,     0.24224,     0.24324,     0.24424,     0.24525,     0.24625,     0.24725,     0.24825,     0.24925,     0.25025,     0.25125,     0.25225,     0.25325,     0.25425,     0.25526,     0.25626,     0.25726,     0.25826,     0.25926,     0.26026,     0.26126,     0.26226,     0.26326,\n",
       "           0.26426,     0.26527,     0.26627,     0.26727,     0.26827,     0.26927,     0.27027,     0.27127,     0.27227,     0.27327,     0.27427,     0.27528,     0.27628,     0.27728,     0.27828,     0.27928,     0.28028,     0.28128,     0.28228,     0.28328,     0.28428,     0.28529,     0.28629,     0.28729,\n",
       "           0.28829,     0.28929,     0.29029,     0.29129,     0.29229,     0.29329,     0.29429,      0.2953,      0.2963,      0.2973,      0.2983,      0.2993,      0.3003,      0.3013,      0.3023,      0.3033,      0.3043,     0.30531,     0.30631,     0.30731,     0.30831,     0.30931,     0.31031,     0.31131,\n",
       "           0.31231,     0.31331,     0.31431,     0.31532,     0.31632,     0.31732,     0.31832,     0.31932,     0.32032,     0.32132,     0.32232,     0.32332,     0.32432,     0.32533,     0.32633,     0.32733,     0.32833,     0.32933,     0.33033,     0.33133,     0.33233,     0.33333,     0.33433,     0.33534,\n",
       "           0.33634,     0.33734,     0.33834,     0.33934,     0.34034,     0.34134,     0.34234,     0.34334,     0.34434,     0.34535,     0.34635,     0.34735,     0.34835,     0.34935,     0.35035,     0.35135,     0.35235,     0.35335,     0.35435,     0.35536,     0.35636,     0.35736,     0.35836,     0.35936,\n",
       "           0.36036,     0.36136,     0.36236,     0.36336,     0.36436,     0.36537,     0.36637,     0.36737,     0.36837,     0.36937,     0.37037,     0.37137,     0.37237,     0.37337,     0.37437,     0.37538,     0.37638,     0.37738,     0.37838,     0.37938,     0.38038,     0.38138,     0.38238,     0.38338,\n",
       "           0.38438,     0.38539,     0.38639,     0.38739,     0.38839,     0.38939,     0.39039,     0.39139,     0.39239,     0.39339,     0.39439,      0.3954,      0.3964,      0.3974,      0.3984,      0.3994,      0.4004,      0.4014,      0.4024,      0.4034,      0.4044,     0.40541,     0.40641,     0.40741,\n",
       "           0.40841,     0.40941,     0.41041,     0.41141,     0.41241,     0.41341,     0.41441,     0.41542,     0.41642,     0.41742,     0.41842,     0.41942,     0.42042,     0.42142,     0.42242,     0.42342,     0.42442,     0.42543,     0.42643,     0.42743,     0.42843,     0.42943,     0.43043,     0.43143,\n",
       "           0.43243,     0.43343,     0.43443,     0.43544,     0.43644,     0.43744,     0.43844,     0.43944,     0.44044,     0.44144,     0.44244,     0.44344,     0.44444,     0.44545,     0.44645,     0.44745,     0.44845,     0.44945,     0.45045,     0.45145,     0.45245,     0.45345,     0.45445,     0.45546,\n",
       "           0.45646,     0.45746,     0.45846,     0.45946,     0.46046,     0.46146,     0.46246,     0.46346,     0.46446,     0.46547,     0.46647,     0.46747,     0.46847,     0.46947,     0.47047,     0.47147,     0.47247,     0.47347,     0.47447,     0.47548,     0.47648,     0.47748,     0.47848,     0.47948,\n",
       "           0.48048,     0.48148,     0.48248,     0.48348,     0.48448,     0.48549,     0.48649,     0.48749,     0.48849,     0.48949,     0.49049,     0.49149,     0.49249,     0.49349,     0.49449,      0.4955,      0.4965,      0.4975,      0.4985,      0.4995,      0.5005,      0.5015,      0.5025,      0.5035,\n",
       "            0.5045,     0.50551,     0.50651,     0.50751,     0.50851,     0.50951,     0.51051,     0.51151,     0.51251,     0.51351,     0.51451,     0.51552,     0.51652,     0.51752,     0.51852,     0.51952,     0.52052,     0.52152,     0.52252,     0.52352,     0.52452,     0.52553,     0.52653,     0.52753,\n",
       "           0.52853,     0.52953,     0.53053,     0.53153,     0.53253,     0.53353,     0.53453,     0.53554,     0.53654,     0.53754,     0.53854,     0.53954,     0.54054,     0.54154,     0.54254,     0.54354,     0.54454,     0.54555,     0.54655,     0.54755,     0.54855,     0.54955,     0.55055,     0.55155,\n",
       "           0.55255,     0.55355,     0.55455,     0.55556,     0.55656,     0.55756,     0.55856,     0.55956,     0.56056,     0.56156,     0.56256,     0.56356,     0.56456,     0.56557,     0.56657,     0.56757,     0.56857,     0.56957,     0.57057,     0.57157,     0.57257,     0.57357,     0.57457,     0.57558,\n",
       "           0.57658,     0.57758,     0.57858,     0.57958,     0.58058,     0.58158,     0.58258,     0.58358,     0.58458,     0.58559,     0.58659,     0.58759,     0.58859,     0.58959,     0.59059,     0.59159,     0.59259,     0.59359,     0.59459,      0.5956,      0.5966,      0.5976,      0.5986,      0.5996,\n",
       "            0.6006,      0.6016,      0.6026,      0.6036,      0.6046,     0.60561,     0.60661,     0.60761,     0.60861,     0.60961,     0.61061,     0.61161,     0.61261,     0.61361,     0.61461,     0.61562,     0.61662,     0.61762,     0.61862,     0.61962,     0.62062,     0.62162,     0.62262,     0.62362,\n",
       "           0.62462,     0.62563,     0.62663,     0.62763,     0.62863,     0.62963,     0.63063,     0.63163,     0.63263,     0.63363,     0.63463,     0.63564,     0.63664,     0.63764,     0.63864,     0.63964,     0.64064,     0.64164,     0.64264,     0.64364,     0.64464,     0.64565,     0.64665,     0.64765,\n",
       "           0.64865,     0.64965,     0.65065,     0.65165,     0.65265,     0.65365,     0.65465,     0.65566,     0.65666,     0.65766,     0.65866,     0.65966,     0.66066,     0.66166,     0.66266,     0.66366,     0.66466,     0.66567,     0.66667,     0.66767,     0.66867,     0.66967,     0.67067,     0.67167,\n",
       "           0.67267,     0.67367,     0.67467,     0.67568,     0.67668,     0.67768,     0.67868,     0.67968,     0.68068,     0.68168,     0.68268,     0.68368,     0.68468,     0.68569,     0.68669,     0.68769,     0.68869,     0.68969,     0.69069,     0.69169,     0.69269,     0.69369,     0.69469,      0.6957,\n",
       "            0.6967,      0.6977,      0.6987,      0.6997,      0.7007,      0.7017,      0.7027,      0.7037,      0.7047,     0.70571,     0.70671,     0.70771,     0.70871,     0.70971,     0.71071,     0.71171,     0.71271,     0.71371,     0.71471,     0.71572,     0.71672,     0.71772,     0.71872,     0.71972,\n",
       "           0.72072,     0.72172,     0.72272,     0.72372,     0.72472,     0.72573,     0.72673,     0.72773,     0.72873,     0.72973,     0.73073,     0.73173,     0.73273,     0.73373,     0.73473,     0.73574,     0.73674,     0.73774,     0.73874,     0.73974,     0.74074,     0.74174,     0.74274,     0.74374,\n",
       "           0.74474,     0.74575,     0.74675,     0.74775,     0.74875,     0.74975,     0.75075,     0.75175,     0.75275,     0.75375,     0.75475,     0.75576,     0.75676,     0.75776,     0.75876,     0.75976,     0.76076,     0.76176,     0.76276,     0.76376,     0.76476,     0.76577,     0.76677,     0.76777,\n",
       "           0.76877,     0.76977,     0.77077,     0.77177,     0.77277,     0.77377,     0.77477,     0.77578,     0.77678,     0.77778,     0.77878,     0.77978,     0.78078,     0.78178,     0.78278,     0.78378,     0.78478,     0.78579,     0.78679,     0.78779,     0.78879,     0.78979,     0.79079,     0.79179,\n",
       "           0.79279,     0.79379,     0.79479,      0.7958,      0.7968,      0.7978,      0.7988,      0.7998,      0.8008,      0.8018,      0.8028,      0.8038,      0.8048,     0.80581,     0.80681,     0.80781,     0.80881,     0.80981,     0.81081,     0.81181,     0.81281,     0.81381,     0.81481,     0.81582,\n",
       "           0.81682,     0.81782,     0.81882,     0.81982,     0.82082,     0.82182,     0.82282,     0.82382,     0.82482,     0.82583,     0.82683,     0.82783,     0.82883,     0.82983,     0.83083,     0.83183,     0.83283,     0.83383,     0.83483,     0.83584,     0.83684,     0.83784,     0.83884,     0.83984,\n",
       "           0.84084,     0.84184,     0.84284,     0.84384,     0.84484,     0.84585,     0.84685,     0.84785,     0.84885,     0.84985,     0.85085,     0.85185,     0.85285,     0.85385,     0.85485,     0.85586,     0.85686,     0.85786,     0.85886,     0.85986,     0.86086,     0.86186,     0.86286,     0.86386,\n",
       "           0.86486,     0.86587,     0.86687,     0.86787,     0.86887,     0.86987,     0.87087,     0.87187,     0.87287,     0.87387,     0.87487,     0.87588,     0.87688,     0.87788,     0.87888,     0.87988,     0.88088,     0.88188,     0.88288,     0.88388,     0.88488,     0.88589,     0.88689,     0.88789,\n",
       "           0.88889,     0.88989,     0.89089,     0.89189,     0.89289,     0.89389,     0.89489,      0.8959,      0.8969,      0.8979,      0.8989,      0.8999,      0.9009,      0.9019,      0.9029,      0.9039,      0.9049,     0.90591,     0.90691,     0.90791,     0.90891,     0.90991,     0.91091,     0.91191,\n",
       "           0.91291,     0.91391,     0.91491,     0.91592,     0.91692,     0.91792,     0.91892,     0.91992,     0.92092,     0.92192,     0.92292,     0.92392,     0.92492,     0.92593,     0.92693,     0.92793,     0.92893,     0.92993,     0.93093,     0.93193,     0.93293,     0.93393,     0.93493,     0.93594,\n",
       "           0.93694,     0.93794,     0.93894,     0.93994,     0.94094,     0.94194,     0.94294,     0.94394,     0.94494,     0.94595,     0.94695,     0.94795,     0.94895,     0.94995,     0.95095,     0.95195,     0.95295,     0.95395,     0.95495,     0.95596,     0.95696,     0.95796,     0.95896,     0.95996,\n",
       "           0.96096,     0.96196,     0.96296,     0.96396,     0.96496,     0.96597,     0.96697,     0.96797,     0.96897,     0.96997,     0.97097,     0.97197,     0.97297,     0.97397,     0.97497,     0.97598,     0.97698,     0.97798,     0.97898,     0.97998,     0.98098,     0.98198,     0.98298,     0.98398,\n",
       "           0.98498,     0.98599,     0.98699,     0.98799,     0.98899,     0.98999,     0.99099,     0.99199,     0.99299,     0.99399,     0.99499,       0.996,       0.997,       0.998,       0.999,           1]), array([[  0.0066445,   0.0066445,   0.0066445,   0.0066445,   0.0066445,   0.0092799,    0.019917,    0.046559,    0.097761,     0.14741,     0.20294,     0.25556,     0.30744,     0.33509,      0.3544,     0.37747,      0.4091,      0.4408,     0.46185,     0.47402,     0.48613,     0.49989,     0.51113,\n",
       "            0.51777,      0.5283,     0.54498,      0.5498,     0.55384,     0.55734,     0.56152,      0.5662,     0.57023,     0.57903,     0.58117,     0.58331,     0.60534,     0.60906,     0.61213,     0.61348,     0.61484,     0.61619,     0.61753,     0.61888,     0.61996,       0.621,     0.62203,\n",
       "            0.62307,      0.6241,     0.62513,     0.62616,     0.62948,      0.6339,     0.63767,     0.64138,     0.65165,     0.65429,     0.65691,     0.66342,     0.66928,     0.67306,     0.67794,     0.68471,      0.6951,     0.70166,      0.7075,     0.71244,     0.71323,     0.71402,     0.71481,\n",
       "             0.7156,     0.71638,     0.71717,     0.71795,     0.71873,     0.71951,     0.72029,     0.72107,     0.72185,     0.72281,     0.72393,     0.72505,     0.72617,     0.72728,     0.72839,     0.72951,     0.73061,     0.73172,     0.73398,       0.738,       0.742,     0.74846,     0.75281,\n",
       "            0.74979,     0.74676,     0.74372,     0.74068,     0.73764,     0.73559,     0.73685,     0.73812,     0.73938,     0.74063,     0.74189,     0.74314,     0.74438,     0.74563,     0.75632,     0.75976,     0.76207,     0.76438,     0.76667,     0.76896,     0.77172,     0.77454,     0.77735,\n",
       "            0.78013,     0.78454,        0.79,     0.79252,     0.78903,     0.78553,     0.78202,     0.77849,     0.77496,     0.77498,     0.77599,     0.77699,     0.77799,     0.77899,     0.77999,     0.78098,     0.78197,     0.78296,     0.78395,     0.78494,     0.78592,     0.78697,     0.79189,\n",
       "            0.79676,     0.80007,     0.80027,     0.80047,     0.80067,     0.80087,     0.80107,     0.80126,     0.80146,     0.80166,     0.80186,     0.80206,     0.80226,     0.80246,     0.80266,     0.80286,     0.80306,     0.80326,     0.80345,     0.80365,     0.80385,     0.80405,     0.80425,\n",
       "            0.80445,     0.80465,     0.80484,     0.80504,     0.80524,     0.80544,     0.80563,     0.80583,     0.80603,     0.80623,     0.80642,     0.80662,     0.80682,     0.80702,     0.80721,     0.80741,     0.80761,      0.8078,       0.808,      0.8082,     0.80839,     0.80859,     0.80879,\n",
       "            0.80898,     0.80918,     0.80937,     0.80957,     0.80977,     0.80996,     0.81016,     0.81035,     0.81055,     0.81074,     0.81094,     0.81114,     0.81133,     0.81153,     0.81172,     0.81192,     0.81211,     0.81231,      0.8125,      0.8127,     0.81289,     0.81308,     0.81328,\n",
       "            0.81347,     0.81608,     0.82058,     0.82504,     0.82738,      0.8269,     0.82642,     0.82594,     0.82546,     0.82497,     0.82449,     0.82401,     0.82353,     0.82304,     0.82256,     0.82208,     0.82159,     0.82111,     0.82063,     0.82014,     0.81966,     0.81917,     0.81869,\n",
       "             0.8182,     0.81771,     0.81723,     0.81674,     0.81626,     0.81577,     0.81528,     0.81479,     0.81431,     0.81382,     0.81333,     0.81284,     0.81235,     0.81186,     0.81137,     0.81089,      0.8104,     0.80991,     0.80941,     0.80892,     0.80843,     0.80794,     0.80745,\n",
       "            0.80708,     0.80762,     0.80816,     0.80869,     0.80923,     0.80976,      0.8103,     0.81083,     0.81136,      0.8119,     0.81243,     0.81296,     0.81349,     0.81402,     0.81455,     0.81507,      0.8156,     0.81613,     0.81666,     0.81718,     0.81771,     0.81823,     0.81875,\n",
       "            0.81928,      0.8198,     0.82032,     0.82084,     0.82136,     0.82227,     0.82324,     0.82421,     0.82517,     0.82614,      0.8271,     0.82805,     0.82901,     0.82996,     0.83091,     0.83186,     0.83281,     0.83376,      0.8347,     0.83564,     0.85131,     0.85362,      0.8554,\n",
       "            0.85718,     0.85894,      0.8607,     0.86244,     0.86418,     0.86592,     0.86764,     0.86491,     0.86129,     0.85764,     0.85398,     0.85029,     0.84658,     0.84544,     0.84462,     0.84381,       0.843,     0.84218,     0.84137,     0.84055,     0.83973,     0.83891,     0.83809,\n",
       "            0.83727,     0.83645,     0.83563,     0.83481,     0.83398,     0.83316,     0.83233,      0.8315,     0.83067,     0.82984,     0.82901,     0.82818,     0.82735,     0.82651,     0.82568,     0.82484,     0.82401,     0.82396,     0.82497,     0.82597,     0.82697,     0.82796,     0.82896,\n",
       "            0.82995,     0.83093,     0.83192,      0.8329,     0.83387,     0.83485,     0.83582,     0.83679,     0.83776,     0.83872,     0.83968,     0.83008,     0.81627,     0.81563,       0.815,     0.81436,     0.81372,     0.81308,     0.81244,      0.8118,     0.81116,     0.81052,     0.80987,\n",
       "            0.80923,     0.80859,     0.80794,      0.8073,     0.80665,       0.806,     0.80536,     0.80471,     0.80406,     0.80341,     0.80276,     0.80211,     0.80146,     0.80081,     0.80016,      0.7995,     0.79885,      0.7982,     0.79754,     0.79689,     0.79623,     0.79557,     0.79491,\n",
       "            0.79426,      0.7936,     0.79294,     0.79228,     0.79163,     0.79108,     0.79054,        0.79,     0.78946,     0.78892,     0.78837,     0.78783,     0.78728,     0.78674,     0.78619,     0.78565,      0.7851,     0.78455,     0.78401,     0.78346,     0.78291,     0.78236,     0.78181,\n",
       "            0.78126,     0.78071,     0.78016,     0.77961,     0.77906,     0.77851,     0.77796,     0.77741,     0.77685,      0.7763,     0.77575,     0.77519,     0.77464,     0.77408,     0.77353,     0.77297,     0.77241,     0.77185,      0.7713,     0.77074,     0.77018,     0.76962,     0.76906,\n",
       "             0.7685,     0.76794,     0.76738,     0.76682,     0.76626,     0.76573,     0.76525,     0.76476,     0.76428,     0.76379,     0.76331,     0.76282,     0.76234,     0.76185,     0.76136,     0.76088,     0.76039,      0.7599,     0.75941,     0.75892,     0.75843,     0.75795,     0.75746,\n",
       "            0.75697,     0.75648,     0.75599,     0.75549,       0.755,     0.75451,     0.75402,     0.75353,     0.75303,     0.75254,     0.75205,     0.75155,     0.75106,     0.75056,     0.75007,     0.74957,     0.74908,     0.74858,     0.74809,     0.74759,     0.74709,      0.7466,      0.7461,\n",
       "             0.7456,      0.7451,      0.7446,      0.7441,      0.7436,      0.7431,      0.7426,      0.7421,      0.7416,      0.7411,      0.7406,      0.7401,     0.73959,     0.73924,     0.74054,     0.74184,     0.74313,     0.74441,     0.74569,     0.74696,     0.74822,     0.74947,     0.75072,\n",
       "            0.75196,      0.7532,     0.75443,     0.75551,     0.75494,     0.75437,     0.75379,     0.75322,     0.75264,     0.75207,     0.75149,     0.75092,     0.75034,     0.74976,     0.74919,     0.74861,     0.74803,     0.74745,     0.74687,     0.74629,     0.74571,     0.74513,     0.74454,\n",
       "            0.74396,     0.74338,     0.74279,     0.74221,     0.74163,     0.74104,     0.74045,     0.73987,     0.73928,     0.73869,     0.73811,     0.73752,     0.73693,     0.73634,     0.73575,     0.73516,     0.73457,     0.73397,     0.73338,     0.73279,      0.7322,      0.7316,     0.73101,\n",
       "            0.73041,     0.72982,     0.72922,     0.72862,     0.72803,     0.72743,     0.72623,     0.72482,     0.72341,     0.72199,     0.72057,     0.71915,     0.71773,      0.7163,     0.71487,     0.71343,     0.71199,     0.71055,     0.70911,     0.70766,     0.70621,     0.70476,      0.7033,\n",
       "            0.70184,     0.70037,     0.69891,     0.69716,     0.69396,     0.69075,     0.68753,     0.68428,     0.68103,     0.67775,     0.67446,     0.67115,     0.66783,     0.66653,     0.66633,     0.66612,     0.66591,      0.6657,      0.6655,     0.66529,     0.66508,     0.66488,     0.66467,\n",
       "            0.66446,     0.66425,     0.66405,     0.66384,     0.66363,     0.66342,     0.66321,     0.66301,      0.6628,     0.66259,     0.66238,     0.66217,     0.66197,     0.66176,     0.66155,     0.66134,     0.66113,     0.66092,     0.66072,     0.66051,      0.6603,     0.66009,     0.65988,\n",
       "            0.65967,     0.65946,     0.65925,     0.65904,     0.65884,     0.65863,     0.65842,     0.65821,       0.658,     0.65779,     0.65758,     0.65737,     0.65716,     0.65695,     0.65674,     0.65653,     0.65632,     0.65611,      0.6559,     0.65569,     0.65548,     0.65527,     0.65506,\n",
       "            0.65485,     0.65464,     0.65443,     0.65422,     0.65401,      0.6538,     0.65359,     0.65337,     0.65316,     0.65295,     0.65274,     0.65253,     0.65232,     0.65211,      0.6519,     0.65168,     0.65147,     0.65126,     0.65105,     0.65084,     0.65063,     0.65041,      0.6502,\n",
       "            0.64999,     0.64978,     0.64957,     0.64935,     0.64914,     0.64893,     0.64872,     0.64851,     0.64829,     0.64808,     0.64787,     0.64766,     0.64744,     0.64723,     0.64702,      0.6468,     0.64659,     0.64638,     0.64616,     0.64595,     0.64574,     0.64552,     0.64531,\n",
       "             0.6451,     0.64488,     0.64467,     0.64446,     0.64424,     0.64403,     0.64382,      0.6436,     0.64339,     0.64317,     0.64296,     0.64275,     0.64253,     0.64232,      0.6421,     0.64189,     0.64167,     0.64146,     0.64124,     0.64103,     0.64081,      0.6406,     0.64038,\n",
       "            0.64017,     0.63995,     0.63974,     0.63952,     0.63931,     0.63909,     0.63888,     0.63866,     0.63845,     0.63823,     0.63802,      0.6378,     0.63758,     0.63737,     0.63715,     0.63694,     0.63672,      0.6365,     0.63629,     0.63607,     0.63585,     0.63564,     0.63542,\n",
       "             0.6352,     0.63499,     0.63477,     0.63455,     0.63434,     0.63389,     0.63176,     0.62962,     0.62747,     0.62531,     0.62315,     0.62098,     0.61881,     0.61663,     0.61444,     0.61224,     0.61004,     0.60783,     0.60561,     0.60338,     0.60115,     0.59791,     0.59356,\n",
       "            0.58919,     0.58479,     0.58037,     0.57592,     0.57143,     0.56693,     0.56324,     0.56094,     0.55863,     0.55632,       0.554,     0.55167,     0.54933,     0.54699,     0.54464,     0.54228,     0.53992,     0.53754,     0.53516,     0.53277,     0.53037,     0.52797,     0.52521,\n",
       "             0.5217,     0.51818,     0.51463,     0.51107,     0.50749,      0.5039,     0.50029,     0.49666,     0.49301,     0.48934,       0.482,     0.46164,     0.44269,     0.43263,     0.42244,     0.41212,     0.40167,     0.39958,     0.39909,      0.3986,      0.3981,     0.39761,     0.39711,\n",
       "            0.39661,     0.39612,     0.39562,     0.39513,     0.39463,     0.39413,     0.39363,     0.39314,     0.39264,     0.39214,     0.39164,     0.39114,     0.39064,     0.39014,     0.38964,     0.38914,     0.38864,     0.38814,     0.38764,     0.38714,     0.38664,     0.38613,     0.38563,\n",
       "            0.38513,     0.38462,     0.38412,     0.38362,     0.38311,     0.38261,      0.3821,      0.3816,     0.38109,     0.38059,     0.38008,     0.37958,     0.37907,     0.37856,     0.37805,     0.37755,     0.37704,     0.37653,     0.37602,     0.37551,       0.375,     0.37449,     0.37399,\n",
       "            0.37347,     0.37296,     0.37245,     0.37194,     0.37143,     0.37092,     0.37041,     0.36989,     0.36938,     0.36887,     0.36836,     0.36784,     0.36733,     0.36681,      0.3663,     0.36578,     0.36527,     0.36475,     0.36424,     0.36372,      0.3632,     0.36269,     0.36217,\n",
       "            0.36165,     0.36113,     0.36062,      0.3601,     0.35958,     0.35906,     0.35854,     0.35802,      0.3575,     0.35698,     0.35646,     0.35594,     0.35542,     0.35489,     0.35437,     0.35385,     0.35333,     0.35132,     0.34514,      0.3389,     0.33262,     0.32629,     0.31991,\n",
       "            0.31349,     0.30701,     0.30061,     0.29437,     0.28808,     0.28175,     0.27536,     0.26893,     0.26246,     0.25593,     0.24935,     0.24272,     0.23604,     0.22931,     0.22252,     0.21569,      0.2088,     0.20185,     0.19486,     0.18861,      0.1825,     0.17635,     0.17016,\n",
       "            0.16392,     0.15765,     0.15133,     0.14497,     0.13856,     0.13291,     0.13069,     0.12846,     0.12622,     0.12398,     0.12173,     0.11948,     0.11722,     0.11495,     0.11269,     0.11041,     0.10813,     0.10584,     0.10355,     0.10126,    0.098954,    0.096646,    0.094333,\n",
       "           0.092014,    0.089689,    0.087359,    0.085022,    0.082681,    0.080333,     0.07798,    0.075621,    0.073256,    0.070885,           0,           0,           0,           0,           0,           0,           0,           0,           0,           0,           0,           0,           0,\n",
       "                  0,           0,           0,           0,           0,           0,           0,           0,           0,           0,           0,           0,           0,           0,           0,           0,           0,           0,           0,           0,           0,           0,           0,\n",
       "                  0,           0,           0,           0,           0,           0,           0,           0,           0,           0,           0]]), 'Confidence', 'F1'], [array([          0,    0.001001,    0.002002,    0.003003,    0.004004,    0.005005,    0.006006,    0.007007,    0.008008,    0.009009,     0.01001,    0.011011,    0.012012,    0.013013,    0.014014,    0.015015,    0.016016,    0.017017,    0.018018,    0.019019,     0.02002,    0.021021,    0.022022,    0.023023,\n",
       "          0.024024,    0.025025,    0.026026,    0.027027,    0.028028,    0.029029,     0.03003,    0.031031,    0.032032,    0.033033,    0.034034,    0.035035,    0.036036,    0.037037,    0.038038,    0.039039,     0.04004,    0.041041,    0.042042,    0.043043,    0.044044,    0.045045,    0.046046,    0.047047,\n",
       "          0.048048,    0.049049,     0.05005,    0.051051,    0.052052,    0.053053,    0.054054,    0.055055,    0.056056,    0.057057,    0.058058,    0.059059,     0.06006,    0.061061,    0.062062,    0.063063,    0.064064,    0.065065,    0.066066,    0.067067,    0.068068,    0.069069,     0.07007,    0.071071,\n",
       "          0.072072,    0.073073,    0.074074,    0.075075,    0.076076,    0.077077,    0.078078,    0.079079,     0.08008,    0.081081,    0.082082,    0.083083,    0.084084,    0.085085,    0.086086,    0.087087,    0.088088,    0.089089,     0.09009,    0.091091,    0.092092,    0.093093,    0.094094,    0.095095,\n",
       "          0.096096,    0.097097,    0.098098,    0.099099,      0.1001,      0.1011,      0.1021,      0.1031,      0.1041,     0.10511,     0.10611,     0.10711,     0.10811,     0.10911,     0.11011,     0.11111,     0.11211,     0.11311,     0.11411,     0.11512,     0.11612,     0.11712,     0.11812,     0.11912,\n",
       "           0.12012,     0.12112,     0.12212,     0.12312,     0.12412,     0.12513,     0.12613,     0.12713,     0.12813,     0.12913,     0.13013,     0.13113,     0.13213,     0.13313,     0.13413,     0.13514,     0.13614,     0.13714,     0.13814,     0.13914,     0.14014,     0.14114,     0.14214,     0.14314,\n",
       "           0.14414,     0.14515,     0.14615,     0.14715,     0.14815,     0.14915,     0.15015,     0.15115,     0.15215,     0.15315,     0.15415,     0.15516,     0.15616,     0.15716,     0.15816,     0.15916,     0.16016,     0.16116,     0.16216,     0.16316,     0.16416,     0.16517,     0.16617,     0.16717,\n",
       "           0.16817,     0.16917,     0.17017,     0.17117,     0.17217,     0.17317,     0.17417,     0.17518,     0.17618,     0.17718,     0.17818,     0.17918,     0.18018,     0.18118,     0.18218,     0.18318,     0.18418,     0.18519,     0.18619,     0.18719,     0.18819,     0.18919,     0.19019,     0.19119,\n",
       "           0.19219,     0.19319,     0.19419,      0.1952,      0.1962,      0.1972,      0.1982,      0.1992,      0.2002,      0.2012,      0.2022,      0.2032,      0.2042,     0.20521,     0.20621,     0.20721,     0.20821,     0.20921,     0.21021,     0.21121,     0.21221,     0.21321,     0.21421,     0.21522,\n",
       "           0.21622,     0.21722,     0.21822,     0.21922,     0.22022,     0.22122,     0.22222,     0.22322,     0.22422,     0.22523,     0.22623,     0.22723,     0.22823,     0.22923,     0.23023,     0.23123,     0.23223,     0.23323,     0.23423,     0.23524,     0.23624,     0.23724,     0.23824,     0.23924,\n",
       "           0.24024,     0.24124,     0.24224,     0.24324,     0.24424,     0.24525,     0.24625,     0.24725,     0.24825,     0.24925,     0.25025,     0.25125,     0.25225,     0.25325,     0.25425,     0.25526,     0.25626,     0.25726,     0.25826,     0.25926,     0.26026,     0.26126,     0.26226,     0.26326,\n",
       "           0.26426,     0.26527,     0.26627,     0.26727,     0.26827,     0.26927,     0.27027,     0.27127,     0.27227,     0.27327,     0.27427,     0.27528,     0.27628,     0.27728,     0.27828,     0.27928,     0.28028,     0.28128,     0.28228,     0.28328,     0.28428,     0.28529,     0.28629,     0.28729,\n",
       "           0.28829,     0.28929,     0.29029,     0.29129,     0.29229,     0.29329,     0.29429,      0.2953,      0.2963,      0.2973,      0.2983,      0.2993,      0.3003,      0.3013,      0.3023,      0.3033,      0.3043,     0.30531,     0.30631,     0.30731,     0.30831,     0.30931,     0.31031,     0.31131,\n",
       "           0.31231,     0.31331,     0.31431,     0.31532,     0.31632,     0.31732,     0.31832,     0.31932,     0.32032,     0.32132,     0.32232,     0.32332,     0.32432,     0.32533,     0.32633,     0.32733,     0.32833,     0.32933,     0.33033,     0.33133,     0.33233,     0.33333,     0.33433,     0.33534,\n",
       "           0.33634,     0.33734,     0.33834,     0.33934,     0.34034,     0.34134,     0.34234,     0.34334,     0.34434,     0.34535,     0.34635,     0.34735,     0.34835,     0.34935,     0.35035,     0.35135,     0.35235,     0.35335,     0.35435,     0.35536,     0.35636,     0.35736,     0.35836,     0.35936,\n",
       "           0.36036,     0.36136,     0.36236,     0.36336,     0.36436,     0.36537,     0.36637,     0.36737,     0.36837,     0.36937,     0.37037,     0.37137,     0.37237,     0.37337,     0.37437,     0.37538,     0.37638,     0.37738,     0.37838,     0.37938,     0.38038,     0.38138,     0.38238,     0.38338,\n",
       "           0.38438,     0.38539,     0.38639,     0.38739,     0.38839,     0.38939,     0.39039,     0.39139,     0.39239,     0.39339,     0.39439,      0.3954,      0.3964,      0.3974,      0.3984,      0.3994,      0.4004,      0.4014,      0.4024,      0.4034,      0.4044,     0.40541,     0.40641,     0.40741,\n",
       "           0.40841,     0.40941,     0.41041,     0.41141,     0.41241,     0.41341,     0.41441,     0.41542,     0.41642,     0.41742,     0.41842,     0.41942,     0.42042,     0.42142,     0.42242,     0.42342,     0.42442,     0.42543,     0.42643,     0.42743,     0.42843,     0.42943,     0.43043,     0.43143,\n",
       "           0.43243,     0.43343,     0.43443,     0.43544,     0.43644,     0.43744,     0.43844,     0.43944,     0.44044,     0.44144,     0.44244,     0.44344,     0.44444,     0.44545,     0.44645,     0.44745,     0.44845,     0.44945,     0.45045,     0.45145,     0.45245,     0.45345,     0.45445,     0.45546,\n",
       "           0.45646,     0.45746,     0.45846,     0.45946,     0.46046,     0.46146,     0.46246,     0.46346,     0.46446,     0.46547,     0.46647,     0.46747,     0.46847,     0.46947,     0.47047,     0.47147,     0.47247,     0.47347,     0.47447,     0.47548,     0.47648,     0.47748,     0.47848,     0.47948,\n",
       "           0.48048,     0.48148,     0.48248,     0.48348,     0.48448,     0.48549,     0.48649,     0.48749,     0.48849,     0.48949,     0.49049,     0.49149,     0.49249,     0.49349,     0.49449,      0.4955,      0.4965,      0.4975,      0.4985,      0.4995,      0.5005,      0.5015,      0.5025,      0.5035,\n",
       "            0.5045,     0.50551,     0.50651,     0.50751,     0.50851,     0.50951,     0.51051,     0.51151,     0.51251,     0.51351,     0.51451,     0.51552,     0.51652,     0.51752,     0.51852,     0.51952,     0.52052,     0.52152,     0.52252,     0.52352,     0.52452,     0.52553,     0.52653,     0.52753,\n",
       "           0.52853,     0.52953,     0.53053,     0.53153,     0.53253,     0.53353,     0.53453,     0.53554,     0.53654,     0.53754,     0.53854,     0.53954,     0.54054,     0.54154,     0.54254,     0.54354,     0.54454,     0.54555,     0.54655,     0.54755,     0.54855,     0.54955,     0.55055,     0.55155,\n",
       "           0.55255,     0.55355,     0.55455,     0.55556,     0.55656,     0.55756,     0.55856,     0.55956,     0.56056,     0.56156,     0.56256,     0.56356,     0.56456,     0.56557,     0.56657,     0.56757,     0.56857,     0.56957,     0.57057,     0.57157,     0.57257,     0.57357,     0.57457,     0.57558,\n",
       "           0.57658,     0.57758,     0.57858,     0.57958,     0.58058,     0.58158,     0.58258,     0.58358,     0.58458,     0.58559,     0.58659,     0.58759,     0.58859,     0.58959,     0.59059,     0.59159,     0.59259,     0.59359,     0.59459,      0.5956,      0.5966,      0.5976,      0.5986,      0.5996,\n",
       "            0.6006,      0.6016,      0.6026,      0.6036,      0.6046,     0.60561,     0.60661,     0.60761,     0.60861,     0.60961,     0.61061,     0.61161,     0.61261,     0.61361,     0.61461,     0.61562,     0.61662,     0.61762,     0.61862,     0.61962,     0.62062,     0.62162,     0.62262,     0.62362,\n",
       "           0.62462,     0.62563,     0.62663,     0.62763,     0.62863,     0.62963,     0.63063,     0.63163,     0.63263,     0.63363,     0.63463,     0.63564,     0.63664,     0.63764,     0.63864,     0.63964,     0.64064,     0.64164,     0.64264,     0.64364,     0.64464,     0.64565,     0.64665,     0.64765,\n",
       "           0.64865,     0.64965,     0.65065,     0.65165,     0.65265,     0.65365,     0.65465,     0.65566,     0.65666,     0.65766,     0.65866,     0.65966,     0.66066,     0.66166,     0.66266,     0.66366,     0.66466,     0.66567,     0.66667,     0.66767,     0.66867,     0.66967,     0.67067,     0.67167,\n",
       "           0.67267,     0.67367,     0.67467,     0.67568,     0.67668,     0.67768,     0.67868,     0.67968,     0.68068,     0.68168,     0.68268,     0.68368,     0.68468,     0.68569,     0.68669,     0.68769,     0.68869,     0.68969,     0.69069,     0.69169,     0.69269,     0.69369,     0.69469,      0.6957,\n",
       "            0.6967,      0.6977,      0.6987,      0.6997,      0.7007,      0.7017,      0.7027,      0.7037,      0.7047,     0.70571,     0.70671,     0.70771,     0.70871,     0.70971,     0.71071,     0.71171,     0.71271,     0.71371,     0.71471,     0.71572,     0.71672,     0.71772,     0.71872,     0.71972,\n",
       "           0.72072,     0.72172,     0.72272,     0.72372,     0.72472,     0.72573,     0.72673,     0.72773,     0.72873,     0.72973,     0.73073,     0.73173,     0.73273,     0.73373,     0.73473,     0.73574,     0.73674,     0.73774,     0.73874,     0.73974,     0.74074,     0.74174,     0.74274,     0.74374,\n",
       "           0.74474,     0.74575,     0.74675,     0.74775,     0.74875,     0.74975,     0.75075,     0.75175,     0.75275,     0.75375,     0.75475,     0.75576,     0.75676,     0.75776,     0.75876,     0.75976,     0.76076,     0.76176,     0.76276,     0.76376,     0.76476,     0.76577,     0.76677,     0.76777,\n",
       "           0.76877,     0.76977,     0.77077,     0.77177,     0.77277,     0.77377,     0.77477,     0.77578,     0.77678,     0.77778,     0.77878,     0.77978,     0.78078,     0.78178,     0.78278,     0.78378,     0.78478,     0.78579,     0.78679,     0.78779,     0.78879,     0.78979,     0.79079,     0.79179,\n",
       "           0.79279,     0.79379,     0.79479,      0.7958,      0.7968,      0.7978,      0.7988,      0.7998,      0.8008,      0.8018,      0.8028,      0.8038,      0.8048,     0.80581,     0.80681,     0.80781,     0.80881,     0.80981,     0.81081,     0.81181,     0.81281,     0.81381,     0.81481,     0.81582,\n",
       "           0.81682,     0.81782,     0.81882,     0.81982,     0.82082,     0.82182,     0.82282,     0.82382,     0.82482,     0.82583,     0.82683,     0.82783,     0.82883,     0.82983,     0.83083,     0.83183,     0.83283,     0.83383,     0.83483,     0.83584,     0.83684,     0.83784,     0.83884,     0.83984,\n",
       "           0.84084,     0.84184,     0.84284,     0.84384,     0.84484,     0.84585,     0.84685,     0.84785,     0.84885,     0.84985,     0.85085,     0.85185,     0.85285,     0.85385,     0.85485,     0.85586,     0.85686,     0.85786,     0.85886,     0.85986,     0.86086,     0.86186,     0.86286,     0.86386,\n",
       "           0.86486,     0.86587,     0.86687,     0.86787,     0.86887,     0.86987,     0.87087,     0.87187,     0.87287,     0.87387,     0.87487,     0.87588,     0.87688,     0.87788,     0.87888,     0.87988,     0.88088,     0.88188,     0.88288,     0.88388,     0.88488,     0.88589,     0.88689,     0.88789,\n",
       "           0.88889,     0.88989,     0.89089,     0.89189,     0.89289,     0.89389,     0.89489,      0.8959,      0.8969,      0.8979,      0.8989,      0.8999,      0.9009,      0.9019,      0.9029,      0.9039,      0.9049,     0.90591,     0.90691,     0.90791,     0.90891,     0.90991,     0.91091,     0.91191,\n",
       "           0.91291,     0.91391,     0.91491,     0.91592,     0.91692,     0.91792,     0.91892,     0.91992,     0.92092,     0.92192,     0.92292,     0.92392,     0.92492,     0.92593,     0.92693,     0.92793,     0.92893,     0.92993,     0.93093,     0.93193,     0.93293,     0.93393,     0.93493,     0.93594,\n",
       "           0.93694,     0.93794,     0.93894,     0.93994,     0.94094,     0.94194,     0.94294,     0.94394,     0.94494,     0.94595,     0.94695,     0.94795,     0.94895,     0.94995,     0.95095,     0.95195,     0.95295,     0.95395,     0.95495,     0.95596,     0.95696,     0.95796,     0.95896,     0.95996,\n",
       "           0.96096,     0.96196,     0.96296,     0.96396,     0.96496,     0.96597,     0.96697,     0.96797,     0.96897,     0.96997,     0.97097,     0.97197,     0.97297,     0.97397,     0.97497,     0.97598,     0.97698,     0.97798,     0.97898,     0.97998,     0.98098,     0.98198,     0.98298,     0.98398,\n",
       "           0.98498,     0.98599,     0.98699,     0.98799,     0.98899,     0.98999,     0.99099,     0.99199,     0.99299,     0.99399,     0.99499,       0.996,       0.997,       0.998,       0.999,           1]), array([[  0.0033333,   0.0033333,   0.0033333,   0.0033333,   0.0033333,   0.0046616,    0.010059,    0.023855,    0.051491,    0.079806,     0.11341,      0.1473,     0.18287,     0.20278,     0.21899,     0.23689,     0.26234,       0.289,     0.30737,     0.31824,     0.32925,       0.342,     0.35261,\n",
       "            0.35897,     0.36917,     0.38566,     0.39051,      0.3946,     0.39816,     0.40244,     0.40726,     0.41145,     0.42067,     0.42294,     0.42521,     0.44903,     0.45314,     0.45654,     0.45805,     0.45956,     0.46107,     0.46258,     0.46409,     0.46531,     0.46648,     0.46765,\n",
       "            0.46882,     0.46999,     0.47117,     0.47234,     0.47612,      0.4812,     0.48556,     0.48987,     0.50196,     0.50509,     0.50822,     0.51606,     0.52318,     0.52782,     0.53385,      0.5423,     0.55545,     0.56386,     0.57144,     0.57793,     0.57897,     0.58001,     0.58105,\n",
       "            0.58209,     0.58313,     0.58417,     0.58521,     0.58625,     0.58729,     0.58833,     0.58937,     0.59041,     0.59169,      0.5932,      0.5947,     0.59621,     0.59771,     0.59922,     0.60072,     0.60223,     0.60373,     0.60681,     0.61234,     0.61786,     0.62687,     0.63374,\n",
       "            0.63222,     0.63071,     0.62919,     0.62768,     0.62616,     0.62543,     0.62726,     0.62909,     0.63092,     0.63275,     0.63459,     0.63642,     0.63825,     0.64008,     0.65601,     0.66119,     0.66471,     0.66822,     0.67174,     0.67525,     0.67953,     0.68392,      0.6883,\n",
       "            0.69268,     0.69967,      0.7084,     0.71379,     0.71228,     0.71076,     0.70924,     0.70773,     0.70621,     0.70719,     0.70887,     0.71055,     0.71222,      0.7139,     0.71557,     0.71725,     0.71892,      0.7206,     0.72227,     0.72395,     0.72563,     0.72742,     0.73587,\n",
       "            0.74433,     0.75012,     0.75047,     0.75082,     0.75117,     0.75152,     0.75187,     0.75223,     0.75258,     0.75293,     0.75328,     0.75363,     0.75399,     0.75434,     0.75469,     0.75504,     0.75539,     0.75574,      0.7561,     0.75645,      0.7568,     0.75715,      0.7575,\n",
       "            0.75785,     0.75821,     0.75856,     0.75891,     0.75926,     0.75961,     0.75997,     0.76032,     0.76067,     0.76102,     0.76137,     0.76172,     0.76208,     0.76243,     0.76278,     0.76313,     0.76348,     0.76384,     0.76419,     0.76454,     0.76489,     0.76524,     0.76559,\n",
       "            0.76595,      0.7663,     0.76665,       0.767,     0.76735,      0.7677,     0.76806,     0.76841,     0.76876,     0.76911,     0.76946,     0.76982,     0.77017,     0.77052,     0.77087,     0.77122,     0.77157,     0.77193,     0.77228,     0.77263,     0.77298,     0.77333,     0.77369,\n",
       "            0.77404,     0.77877,     0.78701,     0.79526,     0.79993,     0.79977,      0.7996,     0.79944,     0.79928,     0.79912,     0.79895,     0.79879,     0.79863,     0.79846,      0.7983,     0.79814,     0.79797,     0.79781,     0.79765,     0.79749,     0.79732,     0.79716,       0.797,\n",
       "            0.79683,     0.79667,     0.79651,     0.79634,     0.79618,     0.79602,     0.79586,     0.79569,     0.79553,     0.79537,      0.7952,     0.79504,     0.79488,     0.79471,     0.79455,     0.79439,     0.79423,     0.79406,      0.7939,     0.79374,     0.79357,     0.79341,     0.79325,\n",
       "            0.79323,     0.79427,     0.79531,     0.79635,     0.79738,     0.79842,     0.79946,      0.8005,     0.80154,     0.80258,     0.80362,     0.80466,      0.8057,     0.80674,     0.80778,     0.80882,     0.80986,      0.8109,     0.81194,     0.81298,     0.81402,     0.81506,     0.81609,\n",
       "            0.81713,     0.81817,     0.81921,     0.82025,     0.82129,     0.82312,     0.82506,     0.82701,     0.82895,      0.8309,     0.83284,     0.83479,     0.83673,     0.83868,     0.84062,     0.84257,     0.84451,     0.84646,      0.8484,     0.85035,     0.88346,     0.88845,     0.89231,\n",
       "            0.89618,     0.90004,      0.9039,     0.90777,     0.91163,      0.9155,     0.91936,     0.91953,     0.91897,     0.91841,     0.91785,     0.91729,     0.91673,     0.91655,     0.91642,     0.91629,     0.91615,     0.91602,     0.91589,     0.91576,     0.91563,     0.91549,     0.91536,\n",
       "            0.91523,      0.9151,     0.91497,     0.91483,      0.9147,     0.91457,     0.91444,     0.91431,     0.91417,     0.91404,     0.91391,     0.91378,     0.91365,     0.91351,     0.91338,     0.91325,     0.91312,     0.91411,     0.91659,     0.91906,     0.92154,     0.92401,     0.92649,\n",
       "            0.92897,     0.93144,     0.93392,      0.9364,     0.93887,     0.94135,     0.94382,      0.9463,     0.94878,     0.95125,     0.95373,     0.95363,     0.95238,     0.95231,     0.95225,     0.95219,     0.95212,     0.95206,       0.952,     0.95194,     0.95187,     0.95181,     0.95175,\n",
       "            0.95169,     0.95162,     0.95156,      0.9515,     0.95144,     0.95137,     0.95131,     0.95125,     0.95119,     0.95112,     0.95106,       0.951,     0.95093,     0.95087,     0.95081,     0.95075,     0.95068,     0.95062,     0.95056,      0.9505,     0.95043,     0.95037,     0.95031,\n",
       "            0.95025,     0.95018,     0.95012,     0.95006,        0.95,     0.94994,     0.94988,     0.94983,     0.94977,     0.94971,     0.94966,      0.9496,     0.94954,     0.94949,     0.94943,     0.94937,     0.94932,     0.94926,     0.94921,     0.94915,     0.94909,     0.94904,     0.94898,\n",
       "            0.94892,     0.94887,     0.94881,     0.94875,      0.9487,     0.94864,     0.94858,     0.94853,     0.94847,     0.94841,     0.94836,      0.9483,     0.94825,     0.94819,     0.94813,     0.94808,     0.94802,     0.94796,     0.94791,     0.94785,     0.94779,     0.94774,     0.94768,\n",
       "            0.94762,     0.94757,     0.94751,     0.94745,      0.9474,     0.94734,     0.94729,     0.94724,     0.94718,     0.94713,     0.94707,     0.94702,     0.94697,     0.94691,     0.94686,     0.94681,     0.94675,      0.9467,     0.94664,     0.94659,     0.94654,     0.94648,     0.94643,\n",
       "            0.94638,     0.94632,     0.94627,     0.94621,     0.94616,     0.94611,     0.94605,       0.946,     0.94595,     0.94589,     0.94584,     0.94578,     0.94573,     0.94568,     0.94562,     0.94557,     0.94552,     0.94546,     0.94541,     0.94535,      0.9453,     0.94525,     0.94519,\n",
       "            0.94514,     0.94509,     0.94503,     0.94498,     0.94492,     0.94487,     0.94482,     0.94476,     0.94471,     0.94466,      0.9446,     0.94455,     0.94449,     0.94479,     0.94906,     0.95334,     0.95761,     0.96188,     0.96615,     0.97043,      0.9747,     0.97897,     0.98324,\n",
       "            0.98752,     0.99179,     0.99606,           1,           1,           1,           1,           1,           1,           1,           1,           1,           1,           1,           1,           1,           1,           1,           1,           1,           1,           1,           1,\n",
       "                  1,           1,           1,           1,           1,           1,           1,           1,           1,           1,           1,           1,           1,           1,           1,           1,           1,           1,           1,           1,           1,           1,           1,\n",
       "                  1,           1,           1,           1,           1,           1,           1,           1,           1,           1,           1,           1,           1,           1,           1,           1,           1,           1,           1,           1,           1,           1,           1,\n",
       "                  1,           1,           1,           1,           1,           1,           1,           1,           1,           1,           1,           1,           1,           1,           1,           1,           1,           1,           1,           1,           1,           1,           1,\n",
       "                  1,           1,           1,           1,           1,           1,           1,           1,           1,           1,           1,           1,           1,           1,           1,           1,           1,           1,           1,           1,           1,           1,           1,\n",
       "                  1,           1,           1,           1,           1,           1,           1,           1,           1,           1,           1,           1,           1,           1,           1,           1,           1,           1,           1,           1,           1,           1,           1,\n",
       "                  1,           1,           1,           1,           1,           1,           1,           1,           1,           1,           1,           1,           1,           1,           1,           1,           1,           1,           1,           1,           1,           1,           1,\n",
       "                  1,           1,           1,           1,           1,           1,           1,           1,           1,           1,           1,           1,           1,           1,           1,           1,           1,           1,           1,           1,           1,           1,           1,\n",
       "                  1,           1,           1,           1,           1,           1,           1,           1,           1,           1,           1,           1,           1,           1,           1,           1,           1,           1,           1,           1,           1,           1,           1,\n",
       "                  1,           1,           1,           1,           1,           1,           1,           1,           1,           1,           1,           1,           1,           1,           1,           1,           1,           1,           1,           1,           1,           1,           1,\n",
       "                  1,           1,           1,           1,           1,           1,           1,           1,           1,           1,           1,           1,           1,           1,           1,           1,           1,           1,           1,           1,           1,           1,           1,\n",
       "                  1,           1,           1,           1,           1,           1,           1,           1,           1,           1,           1,           1,           1,           1,           1,           1,           1,           1,           1,           1,           1,           1,           1,\n",
       "                  1,           1,           1,           1,           1,           1,           1,           1,           1,           1,           1,           1,           1,           1,           1,           1,           1,           1,           1,           1,           1,           1,           1,\n",
       "                  1,           1,           1,           1,           1,           1,           1,           1,           1,           1,           1,           1,           1,           1,           1,           1,           1,           1,           1,           1,           1,           1,           1,\n",
       "                  1,           1,           1,           1,           1,           1,           1,           1,           1,           1,           1,           1,           1,           1,           1,           1,           1,           1,           1,           1,           1,           1,           1,\n",
       "                  1,           1,           1,           1,           1,           1,           1,           1,           1,           1,           1,           1,           1,           1,           1,           1,           1,           1,           1,           1,           1,           1,           1,\n",
       "                  1,           1,           1,           1,           1,           1,           1,           1,           1,           1,           1,           1,           1,           1,           1,           1,           1,           1,           1,           1,           1,           1,           1,\n",
       "                  1,           1,           1,           1,           1,           1,           1,           1,           1,           1,           1,           1,           1,           1,           1,           1,           1,           1,           1,           1,           1,           1,           1,\n",
       "                  1,           1,           1,           1,           1,           1,           1,           1,           1,           1,           1,           1,           1,           1,           1,           1,           1,           1,           1,           1,           1,           1,           1,\n",
       "                  1,           1,           1,           1,           1,           1,           1,           1,           1,           1,           1,           1,           1,           1,           1,           1,           1,           1,           1,           1,           1,           1,           1,\n",
       "                  1,           1,           1,           1,           1,           1,           1,           1,           1,           1,           1,           1,           1,           1,           1,           1,           1,           1,           1,           1,           1,           1,           1,\n",
       "                  1,           1,           1,           1,           1,           1,           1,           1,           1,           1,           1]]), 'Confidence', 'Precision'], [array([          0,    0.001001,    0.002002,    0.003003,    0.004004,    0.005005,    0.006006,    0.007007,    0.008008,    0.009009,     0.01001,    0.011011,    0.012012,    0.013013,    0.014014,    0.015015,    0.016016,    0.017017,    0.018018,    0.019019,     0.02002,    0.021021,    0.022022,    0.023023,\n",
       "          0.024024,    0.025025,    0.026026,    0.027027,    0.028028,    0.029029,     0.03003,    0.031031,    0.032032,    0.033033,    0.034034,    0.035035,    0.036036,    0.037037,    0.038038,    0.039039,     0.04004,    0.041041,    0.042042,    0.043043,    0.044044,    0.045045,    0.046046,    0.047047,\n",
       "          0.048048,    0.049049,     0.05005,    0.051051,    0.052052,    0.053053,    0.054054,    0.055055,    0.056056,    0.057057,    0.058058,    0.059059,     0.06006,    0.061061,    0.062062,    0.063063,    0.064064,    0.065065,    0.066066,    0.067067,    0.068068,    0.069069,     0.07007,    0.071071,\n",
       "          0.072072,    0.073073,    0.074074,    0.075075,    0.076076,    0.077077,    0.078078,    0.079079,     0.08008,    0.081081,    0.082082,    0.083083,    0.084084,    0.085085,    0.086086,    0.087087,    0.088088,    0.089089,     0.09009,    0.091091,    0.092092,    0.093093,    0.094094,    0.095095,\n",
       "          0.096096,    0.097097,    0.098098,    0.099099,      0.1001,      0.1011,      0.1021,      0.1031,      0.1041,     0.10511,     0.10611,     0.10711,     0.10811,     0.10911,     0.11011,     0.11111,     0.11211,     0.11311,     0.11411,     0.11512,     0.11612,     0.11712,     0.11812,     0.11912,\n",
       "           0.12012,     0.12112,     0.12212,     0.12312,     0.12412,     0.12513,     0.12613,     0.12713,     0.12813,     0.12913,     0.13013,     0.13113,     0.13213,     0.13313,     0.13413,     0.13514,     0.13614,     0.13714,     0.13814,     0.13914,     0.14014,     0.14114,     0.14214,     0.14314,\n",
       "           0.14414,     0.14515,     0.14615,     0.14715,     0.14815,     0.14915,     0.15015,     0.15115,     0.15215,     0.15315,     0.15415,     0.15516,     0.15616,     0.15716,     0.15816,     0.15916,     0.16016,     0.16116,     0.16216,     0.16316,     0.16416,     0.16517,     0.16617,     0.16717,\n",
       "           0.16817,     0.16917,     0.17017,     0.17117,     0.17217,     0.17317,     0.17417,     0.17518,     0.17618,     0.17718,     0.17818,     0.17918,     0.18018,     0.18118,     0.18218,     0.18318,     0.18418,     0.18519,     0.18619,     0.18719,     0.18819,     0.18919,     0.19019,     0.19119,\n",
       "           0.19219,     0.19319,     0.19419,      0.1952,      0.1962,      0.1972,      0.1982,      0.1992,      0.2002,      0.2012,      0.2022,      0.2032,      0.2042,     0.20521,     0.20621,     0.20721,     0.20821,     0.20921,     0.21021,     0.21121,     0.21221,     0.21321,     0.21421,     0.21522,\n",
       "           0.21622,     0.21722,     0.21822,     0.21922,     0.22022,     0.22122,     0.22222,     0.22322,     0.22422,     0.22523,     0.22623,     0.22723,     0.22823,     0.22923,     0.23023,     0.23123,     0.23223,     0.23323,     0.23423,     0.23524,     0.23624,     0.23724,     0.23824,     0.23924,\n",
       "           0.24024,     0.24124,     0.24224,     0.24324,     0.24424,     0.24525,     0.24625,     0.24725,     0.24825,     0.24925,     0.25025,     0.25125,     0.25225,     0.25325,     0.25425,     0.25526,     0.25626,     0.25726,     0.25826,     0.25926,     0.26026,     0.26126,     0.26226,     0.26326,\n",
       "           0.26426,     0.26527,     0.26627,     0.26727,     0.26827,     0.26927,     0.27027,     0.27127,     0.27227,     0.27327,     0.27427,     0.27528,     0.27628,     0.27728,     0.27828,     0.27928,     0.28028,     0.28128,     0.28228,     0.28328,     0.28428,     0.28529,     0.28629,     0.28729,\n",
       "           0.28829,     0.28929,     0.29029,     0.29129,     0.29229,     0.29329,     0.29429,      0.2953,      0.2963,      0.2973,      0.2983,      0.2993,      0.3003,      0.3013,      0.3023,      0.3033,      0.3043,     0.30531,     0.30631,     0.30731,     0.30831,     0.30931,     0.31031,     0.31131,\n",
       "           0.31231,     0.31331,     0.31431,     0.31532,     0.31632,     0.31732,     0.31832,     0.31932,     0.32032,     0.32132,     0.32232,     0.32332,     0.32432,     0.32533,     0.32633,     0.32733,     0.32833,     0.32933,     0.33033,     0.33133,     0.33233,     0.33333,     0.33433,     0.33534,\n",
       "           0.33634,     0.33734,     0.33834,     0.33934,     0.34034,     0.34134,     0.34234,     0.34334,     0.34434,     0.34535,     0.34635,     0.34735,     0.34835,     0.34935,     0.35035,     0.35135,     0.35235,     0.35335,     0.35435,     0.35536,     0.35636,     0.35736,     0.35836,     0.35936,\n",
       "           0.36036,     0.36136,     0.36236,     0.36336,     0.36436,     0.36537,     0.36637,     0.36737,     0.36837,     0.36937,     0.37037,     0.37137,     0.37237,     0.37337,     0.37437,     0.37538,     0.37638,     0.37738,     0.37838,     0.37938,     0.38038,     0.38138,     0.38238,     0.38338,\n",
       "           0.38438,     0.38539,     0.38639,     0.38739,     0.38839,     0.38939,     0.39039,     0.39139,     0.39239,     0.39339,     0.39439,      0.3954,      0.3964,      0.3974,      0.3984,      0.3994,      0.4004,      0.4014,      0.4024,      0.4034,      0.4044,     0.40541,     0.40641,     0.40741,\n",
       "           0.40841,     0.40941,     0.41041,     0.41141,     0.41241,     0.41341,     0.41441,     0.41542,     0.41642,     0.41742,     0.41842,     0.41942,     0.42042,     0.42142,     0.42242,     0.42342,     0.42442,     0.42543,     0.42643,     0.42743,     0.42843,     0.42943,     0.43043,     0.43143,\n",
       "           0.43243,     0.43343,     0.43443,     0.43544,     0.43644,     0.43744,     0.43844,     0.43944,     0.44044,     0.44144,     0.44244,     0.44344,     0.44444,     0.44545,     0.44645,     0.44745,     0.44845,     0.44945,     0.45045,     0.45145,     0.45245,     0.45345,     0.45445,     0.45546,\n",
       "           0.45646,     0.45746,     0.45846,     0.45946,     0.46046,     0.46146,     0.46246,     0.46346,     0.46446,     0.46547,     0.46647,     0.46747,     0.46847,     0.46947,     0.47047,     0.47147,     0.47247,     0.47347,     0.47447,     0.47548,     0.47648,     0.47748,     0.47848,     0.47948,\n",
       "           0.48048,     0.48148,     0.48248,     0.48348,     0.48448,     0.48549,     0.48649,     0.48749,     0.48849,     0.48949,     0.49049,     0.49149,     0.49249,     0.49349,     0.49449,      0.4955,      0.4965,      0.4975,      0.4985,      0.4995,      0.5005,      0.5015,      0.5025,      0.5035,\n",
       "            0.5045,     0.50551,     0.50651,     0.50751,     0.50851,     0.50951,     0.51051,     0.51151,     0.51251,     0.51351,     0.51451,     0.51552,     0.51652,     0.51752,     0.51852,     0.51952,     0.52052,     0.52152,     0.52252,     0.52352,     0.52452,     0.52553,     0.52653,     0.52753,\n",
       "           0.52853,     0.52953,     0.53053,     0.53153,     0.53253,     0.53353,     0.53453,     0.53554,     0.53654,     0.53754,     0.53854,     0.53954,     0.54054,     0.54154,     0.54254,     0.54354,     0.54454,     0.54555,     0.54655,     0.54755,     0.54855,     0.54955,     0.55055,     0.55155,\n",
       "           0.55255,     0.55355,     0.55455,     0.55556,     0.55656,     0.55756,     0.55856,     0.55956,     0.56056,     0.56156,     0.56256,     0.56356,     0.56456,     0.56557,     0.56657,     0.56757,     0.56857,     0.56957,     0.57057,     0.57157,     0.57257,     0.57357,     0.57457,     0.57558,\n",
       "           0.57658,     0.57758,     0.57858,     0.57958,     0.58058,     0.58158,     0.58258,     0.58358,     0.58458,     0.58559,     0.58659,     0.58759,     0.58859,     0.58959,     0.59059,     0.59159,     0.59259,     0.59359,     0.59459,      0.5956,      0.5966,      0.5976,      0.5986,      0.5996,\n",
       "            0.6006,      0.6016,      0.6026,      0.6036,      0.6046,     0.60561,     0.60661,     0.60761,     0.60861,     0.60961,     0.61061,     0.61161,     0.61261,     0.61361,     0.61461,     0.61562,     0.61662,     0.61762,     0.61862,     0.61962,     0.62062,     0.62162,     0.62262,     0.62362,\n",
       "           0.62462,     0.62563,     0.62663,     0.62763,     0.62863,     0.62963,     0.63063,     0.63163,     0.63263,     0.63363,     0.63463,     0.63564,     0.63664,     0.63764,     0.63864,     0.63964,     0.64064,     0.64164,     0.64264,     0.64364,     0.64464,     0.64565,     0.64665,     0.64765,\n",
       "           0.64865,     0.64965,     0.65065,     0.65165,     0.65265,     0.65365,     0.65465,     0.65566,     0.65666,     0.65766,     0.65866,     0.65966,     0.66066,     0.66166,     0.66266,     0.66366,     0.66466,     0.66567,     0.66667,     0.66767,     0.66867,     0.66967,     0.67067,     0.67167,\n",
       "           0.67267,     0.67367,     0.67467,     0.67568,     0.67668,     0.67768,     0.67868,     0.67968,     0.68068,     0.68168,     0.68268,     0.68368,     0.68468,     0.68569,     0.68669,     0.68769,     0.68869,     0.68969,     0.69069,     0.69169,     0.69269,     0.69369,     0.69469,      0.6957,\n",
       "            0.6967,      0.6977,      0.6987,      0.6997,      0.7007,      0.7017,      0.7027,      0.7037,      0.7047,     0.70571,     0.70671,     0.70771,     0.70871,     0.70971,     0.71071,     0.71171,     0.71271,     0.71371,     0.71471,     0.71572,     0.71672,     0.71772,     0.71872,     0.71972,\n",
       "           0.72072,     0.72172,     0.72272,     0.72372,     0.72472,     0.72573,     0.72673,     0.72773,     0.72873,     0.72973,     0.73073,     0.73173,     0.73273,     0.73373,     0.73473,     0.73574,     0.73674,     0.73774,     0.73874,     0.73974,     0.74074,     0.74174,     0.74274,     0.74374,\n",
       "           0.74474,     0.74575,     0.74675,     0.74775,     0.74875,     0.74975,     0.75075,     0.75175,     0.75275,     0.75375,     0.75475,     0.75576,     0.75676,     0.75776,     0.75876,     0.75976,     0.76076,     0.76176,     0.76276,     0.76376,     0.76476,     0.76577,     0.76677,     0.76777,\n",
       "           0.76877,     0.76977,     0.77077,     0.77177,     0.77277,     0.77377,     0.77477,     0.77578,     0.77678,     0.77778,     0.77878,     0.77978,     0.78078,     0.78178,     0.78278,     0.78378,     0.78478,     0.78579,     0.78679,     0.78779,     0.78879,     0.78979,     0.79079,     0.79179,\n",
       "           0.79279,     0.79379,     0.79479,      0.7958,      0.7968,      0.7978,      0.7988,      0.7998,      0.8008,      0.8018,      0.8028,      0.8038,      0.8048,     0.80581,     0.80681,     0.80781,     0.80881,     0.80981,     0.81081,     0.81181,     0.81281,     0.81381,     0.81481,     0.81582,\n",
       "           0.81682,     0.81782,     0.81882,     0.81982,     0.82082,     0.82182,     0.82282,     0.82382,     0.82482,     0.82583,     0.82683,     0.82783,     0.82883,     0.82983,     0.83083,     0.83183,     0.83283,     0.83383,     0.83483,     0.83584,     0.83684,     0.83784,     0.83884,     0.83984,\n",
       "           0.84084,     0.84184,     0.84284,     0.84384,     0.84484,     0.84585,     0.84685,     0.84785,     0.84885,     0.84985,     0.85085,     0.85185,     0.85285,     0.85385,     0.85485,     0.85586,     0.85686,     0.85786,     0.85886,     0.85986,     0.86086,     0.86186,     0.86286,     0.86386,\n",
       "           0.86486,     0.86587,     0.86687,     0.86787,     0.86887,     0.86987,     0.87087,     0.87187,     0.87287,     0.87387,     0.87487,     0.87588,     0.87688,     0.87788,     0.87888,     0.87988,     0.88088,     0.88188,     0.88288,     0.88388,     0.88488,     0.88589,     0.88689,     0.88789,\n",
       "           0.88889,     0.88989,     0.89089,     0.89189,     0.89289,     0.89389,     0.89489,      0.8959,      0.8969,      0.8979,      0.8989,      0.8999,      0.9009,      0.9019,      0.9029,      0.9039,      0.9049,     0.90591,     0.90691,     0.90791,     0.90891,     0.90991,     0.91091,     0.91191,\n",
       "           0.91291,     0.91391,     0.91491,     0.91592,     0.91692,     0.91792,     0.91892,     0.91992,     0.92092,     0.92192,     0.92292,     0.92392,     0.92492,     0.92593,     0.92693,     0.92793,     0.92893,     0.92993,     0.93093,     0.93193,     0.93293,     0.93393,     0.93493,     0.93594,\n",
       "           0.93694,     0.93794,     0.93894,     0.93994,     0.94094,     0.94194,     0.94294,     0.94394,     0.94494,     0.94595,     0.94695,     0.94795,     0.94895,     0.94995,     0.95095,     0.95195,     0.95295,     0.95395,     0.95495,     0.95596,     0.95696,     0.95796,     0.95896,     0.95996,\n",
       "           0.96096,     0.96196,     0.96296,     0.96396,     0.96496,     0.96597,     0.96697,     0.96797,     0.96897,     0.96997,     0.97097,     0.97197,     0.97297,     0.97397,     0.97497,     0.97598,     0.97698,     0.97798,     0.97898,     0.97998,     0.98098,     0.98198,     0.98298,     0.98398,\n",
       "           0.98498,     0.98599,     0.98699,     0.98799,     0.98899,     0.98999,     0.99099,     0.99199,     0.99299,     0.99399,     0.99499,       0.996,       0.997,       0.998,       0.999,           1]), array([[          1,           1,           1,           1,           1,           1,           1,     0.96429,     0.96429,     0.96429,     0.96429,     0.96429,     0.96429,     0.96429,     0.92857,     0.92857,     0.92857,     0.92857,     0.92857,     0.92857,     0.92857,     0.92857,     0.92857,\n",
       "            0.92857,     0.92857,     0.92857,     0.92857,     0.92857,     0.92857,     0.92857,     0.92857,     0.92857,     0.92857,     0.92857,     0.92857,     0.92857,     0.92857,     0.92857,     0.92857,     0.92857,     0.92857,     0.92857,     0.92857,     0.92857,     0.92857,     0.92857,\n",
       "            0.92857,     0.92857,     0.92857,     0.92857,     0.92857,     0.92857,     0.92857,     0.92857,     0.92857,     0.92857,     0.92857,     0.92857,     0.92857,     0.92857,     0.92857,     0.92857,     0.92857,     0.92857,     0.92857,     0.92857,     0.92857,     0.92857,     0.92857,\n",
       "            0.92857,     0.92857,     0.92857,     0.92857,     0.92857,     0.92857,     0.92857,     0.92857,     0.92857,     0.92857,     0.92857,     0.92857,     0.92857,     0.92857,     0.92857,     0.92857,     0.92857,     0.92857,     0.92857,     0.92857,     0.92857,     0.92857,     0.92698,\n",
       "            0.92106,     0.91514,     0.90923,     0.90331,      0.8974,     0.89286,     0.89286,     0.89286,     0.89286,     0.89286,     0.89286,     0.89286,     0.89286,     0.89286,     0.89286,     0.89286,     0.89286,     0.89286,     0.89286,     0.89286,     0.89286,     0.89286,     0.89286,\n",
       "            0.89286,     0.89286,     0.89286,     0.89076,     0.88432,     0.87787,     0.87143,     0.86499,     0.85854,     0.85714,     0.85714,     0.85714,     0.85714,     0.85714,     0.85714,     0.85714,     0.85714,     0.85714,     0.85714,     0.85714,     0.85714,     0.85714,     0.85714,\n",
       "            0.85714,     0.85714,     0.85714,     0.85714,     0.85714,     0.85714,     0.85714,     0.85714,     0.85714,     0.85714,     0.85714,     0.85714,     0.85714,     0.85714,     0.85714,     0.85714,     0.85714,     0.85714,     0.85714,     0.85714,     0.85714,     0.85714,     0.85714,\n",
       "            0.85714,     0.85714,     0.85714,     0.85714,     0.85714,     0.85714,     0.85714,     0.85714,     0.85714,     0.85714,     0.85714,     0.85714,     0.85714,     0.85714,     0.85714,     0.85714,     0.85714,     0.85714,     0.85714,     0.85714,     0.85714,     0.85714,     0.85714,\n",
       "            0.85714,     0.85714,     0.85714,     0.85714,     0.85714,     0.85714,     0.85714,     0.85714,     0.85714,     0.85714,     0.85714,     0.85714,     0.85714,     0.85714,     0.85714,     0.85714,     0.85714,     0.85714,     0.85714,     0.85714,     0.85714,     0.85714,     0.85714,\n",
       "            0.85714,     0.85714,     0.85714,     0.85714,     0.85678,     0.85594,      0.8551,     0.85425,     0.85341,     0.85256,     0.85172,     0.85088,     0.85003,     0.84919,     0.84834,      0.8475,     0.84665,     0.84581,     0.84497,     0.84412,     0.84328,     0.84243,     0.84159,\n",
       "            0.84074,      0.8399,     0.83906,     0.83821,     0.83737,     0.83652,     0.83568,     0.83484,     0.83399,     0.83315,      0.8323,     0.83146,     0.83061,     0.82977,     0.82893,     0.82808,     0.82724,     0.82639,     0.82555,     0.82471,     0.82386,     0.82302,     0.82217,\n",
       "            0.82143,     0.82143,     0.82143,     0.82143,     0.82143,     0.82143,     0.82143,     0.82143,     0.82143,     0.82143,     0.82143,     0.82143,     0.82143,     0.82143,     0.82143,     0.82143,     0.82143,     0.82143,     0.82143,     0.82143,     0.82143,     0.82143,     0.82143,\n",
       "            0.82143,     0.82143,     0.82143,     0.82143,     0.82143,     0.82143,     0.82143,     0.82143,     0.82143,     0.82143,     0.82143,     0.82143,     0.82143,     0.82143,     0.82143,     0.82143,     0.82143,     0.82143,     0.82143,     0.82143,     0.82143,     0.82143,     0.82143,\n",
       "            0.82143,     0.82143,     0.82143,     0.82143,     0.82143,     0.82143,     0.82143,     0.81642,     0.81042,     0.80441,     0.79841,     0.79241,     0.78641,     0.78456,     0.78326,     0.78196,     0.78066,     0.77936,     0.77806,     0.77676,     0.77546,     0.77416,     0.77286,\n",
       "            0.77155,     0.77025,     0.76895,     0.76765,     0.76635,     0.76505,     0.76375,     0.76245,     0.76115,     0.75985,     0.75855,     0.75725,     0.75594,     0.75464,     0.75334,     0.75204,     0.75074,        0.75,        0.75,        0.75,        0.75,        0.75,        0.75,\n",
       "               0.75,        0.75,        0.75,        0.75,        0.75,        0.75,        0.75,        0.75,        0.75,        0.75,        0.75,     0.73488,      0.7142,     0.71326,     0.71232,     0.71138,     0.71045,     0.70951,     0.70857,     0.70763,     0.70669,     0.70575,     0.70481,\n",
       "            0.70387,     0.70293,     0.70199,     0.70105,     0.70011,     0.69917,     0.69823,     0.69729,     0.69635,     0.69541,     0.69447,     0.69353,     0.69259,     0.69165,     0.69072,     0.68978,     0.68884,      0.6879,     0.68696,     0.68602,     0.68508,     0.68414,      0.6832,\n",
       "            0.68226,     0.68132,     0.68038,     0.67944,     0.67851,     0.67775,     0.67698,     0.67622,     0.67545,     0.67468,     0.67392,     0.67315,     0.67238,     0.67162,     0.67085,     0.67009,     0.66932,     0.66855,     0.66779,     0.66702,     0.66625,     0.66549,     0.66472,\n",
       "            0.66395,     0.66319,     0.66242,     0.66166,     0.66089,     0.66012,     0.65936,     0.65859,     0.65782,     0.65706,     0.65629,     0.65553,     0.65476,     0.65399,     0.65323,     0.65246,     0.65169,     0.65093,     0.65016,      0.6494,     0.64863,     0.64786,      0.6471,\n",
       "            0.64633,     0.64556,      0.6448,     0.64403,     0.64327,     0.64255,     0.64189,     0.64124,     0.64058,     0.63992,     0.63927,     0.63861,     0.63795,      0.6373,     0.63664,     0.63598,     0.63533,     0.63467,     0.63401,     0.63336,      0.6327,     0.63204,     0.63139,\n",
       "            0.63073,     0.63007,     0.62942,     0.62876,      0.6281,     0.62745,     0.62679,     0.62613,     0.62548,     0.62482,     0.62416,     0.62351,     0.62285,     0.62219,     0.62154,     0.62088,     0.62022,     0.61957,     0.61891,     0.61825,      0.6176,     0.61694,     0.61628,\n",
       "            0.61563,     0.61497,     0.61431,     0.61366,       0.613,     0.61234,     0.61169,     0.61103,     0.61037,     0.60972,     0.60906,      0.6084,     0.60775,     0.60714,     0.60714,     0.60714,     0.60714,     0.60714,     0.60714,     0.60714,     0.60714,     0.60714,     0.60714,\n",
       "            0.60714,     0.60714,     0.60714,     0.60709,     0.60635,     0.60561,     0.60487,     0.60413,     0.60339,     0.60265,     0.60191,     0.60117,     0.60044,      0.5997,     0.59896,     0.59822,     0.59748,     0.59674,       0.596,     0.59526,     0.59452,     0.59379,     0.59305,\n",
       "            0.59231,     0.59157,     0.59083,     0.59009,     0.58935,     0.58861,     0.58787,     0.58714,      0.5864,     0.58566,     0.58492,     0.58418,     0.58344,      0.5827,     0.58196,     0.58123,     0.58049,     0.57975,     0.57901,     0.57827,     0.57753,     0.57679,     0.57605,\n",
       "            0.57531,     0.57458,     0.57384,      0.5731,     0.57236,     0.57162,     0.57014,     0.56841,     0.56667,     0.56494,      0.5632,     0.56147,     0.55973,     0.55799,     0.55626,     0.55452,     0.55279,     0.55105,     0.54932,     0.54758,     0.54585,     0.54411,     0.54238,\n",
       "            0.54064,      0.5389,     0.53717,     0.53511,     0.53135,      0.5276,     0.52384,     0.52008,     0.51633,     0.51257,     0.50882,     0.50506,     0.50131,     0.49985,     0.49962,     0.49938,     0.49915,     0.49892,     0.49869,     0.49845,     0.49822,     0.49799,     0.49775,\n",
       "            0.49752,     0.49729,     0.49706,     0.49682,     0.49659,     0.49636,     0.49613,     0.49589,     0.49566,     0.49543,      0.4952,     0.49496,     0.49473,      0.4945,     0.49427,     0.49403,      0.4938,     0.49357,     0.49334,      0.4931,     0.49287,     0.49264,      0.4924,\n",
       "            0.49217,     0.49194,     0.49171,     0.49147,     0.49124,     0.49101,     0.49078,     0.49054,     0.49031,     0.49008,     0.48985,     0.48961,     0.48938,     0.48915,     0.48892,     0.48868,     0.48845,     0.48822,     0.48799,     0.48775,     0.48752,     0.48729,     0.48705,\n",
       "            0.48682,     0.48659,     0.48636,     0.48612,     0.48589,     0.48566,     0.48543,     0.48519,     0.48496,     0.48473,      0.4845,     0.48426,     0.48403,      0.4838,     0.48357,     0.48333,      0.4831,     0.48287,     0.48263,      0.4824,     0.48217,     0.48194,      0.4817,\n",
       "            0.48147,     0.48124,     0.48101,     0.48077,     0.48054,     0.48031,     0.48008,     0.47984,     0.47961,     0.47938,     0.47915,     0.47891,     0.47868,     0.47845,     0.47822,     0.47798,     0.47775,     0.47752,     0.47728,     0.47705,     0.47682,     0.47659,     0.47635,\n",
       "            0.47612,     0.47589,     0.47566,     0.47542,     0.47519,     0.47496,     0.47473,     0.47449,     0.47426,     0.47403,      0.4738,     0.47356,     0.47333,      0.4731,     0.47287,     0.47263,      0.4724,     0.47217,     0.47193,      0.4717,     0.47147,     0.47124,       0.471,\n",
       "            0.47077,     0.47054,     0.47031,     0.47007,     0.46984,     0.46961,     0.46938,     0.46914,     0.46891,     0.46868,     0.46845,     0.46821,     0.46798,     0.46775,     0.46751,     0.46728,     0.46705,     0.46682,     0.46658,     0.46635,     0.46612,     0.46589,     0.46565,\n",
       "            0.46542,     0.46519,     0.46496,     0.46472,     0.46449,     0.46402,     0.46173,     0.45945,     0.45716,     0.45488,     0.45259,     0.45031,     0.44802,     0.44574,     0.44346,     0.44117,     0.43889,      0.4366,     0.43432,     0.43203,     0.42975,     0.42644,     0.42203,\n",
       "            0.41763,     0.41322,     0.40882,     0.40441,     0.40001,      0.3956,     0.39202,     0.38979,     0.38757,     0.38535,     0.38312,      0.3809,     0.37868,     0.37645,     0.37423,     0.37201,     0.36978,     0.36756,     0.36534,     0.36311,     0.36089,     0.35867,     0.35613,\n",
       "            0.35291,     0.34969,     0.34647,     0.34325,     0.34003,     0.33681,     0.33359,     0.33037,     0.32715,     0.32393,     0.31753,     0.30009,     0.28426,     0.27602,     0.26778,     0.25954,      0.2513,     0.24968,     0.24929,      0.2489,     0.24852,     0.24813,     0.24775,\n",
       "            0.24736,     0.24697,     0.24659,      0.2462,     0.24582,     0.24543,     0.24505,     0.24466,     0.24427,     0.24389,      0.2435,     0.24312,     0.24273,     0.24235,     0.24196,     0.24157,     0.24119,      0.2408,     0.24042,     0.24003,     0.23965,     0.23926,     0.23887,\n",
       "            0.23849,      0.2381,     0.23772,     0.23733,     0.23694,     0.23656,     0.23617,     0.23579,      0.2354,     0.23502,     0.23463,     0.23424,     0.23386,     0.23347,     0.23309,      0.2327,     0.23232,     0.23193,     0.23154,     0.23116,     0.23077,     0.23039,        0.23,\n",
       "            0.22962,     0.22923,     0.22884,     0.22846,     0.22807,     0.22769,      0.2273,     0.22691,     0.22653,     0.22614,     0.22576,     0.22537,     0.22499,      0.2246,     0.22421,     0.22383,     0.22344,     0.22306,     0.22267,     0.22229,      0.2219,     0.22151,     0.22113,\n",
       "            0.22074,     0.22036,     0.21997,     0.21959,      0.2192,     0.21881,     0.21843,     0.21804,     0.21766,     0.21727,     0.21688,      0.2165,     0.21611,     0.21573,     0.21534,     0.21496,     0.21457,     0.21309,     0.20856,     0.20402,     0.19949,     0.19495,     0.19041,\n",
       "            0.18588,     0.18134,     0.17689,     0.17259,     0.16828,     0.16397,     0.15966,     0.15536,     0.15105,     0.14674,     0.14243,     0.13812,     0.13381,      0.1295,     0.12519,     0.12088,     0.11657,     0.11226,     0.10794,     0.10412,     0.10041,    0.096701,    0.092991,\n",
       "            0.08928,    0.085569,    0.081859,    0.078148,    0.074438,    0.071187,    0.069912,    0.068636,     0.06736,    0.066085,    0.064809,    0.063533,    0.062258,    0.060982,    0.059707,    0.058431,    0.057155,     0.05588,    0.054604,    0.053328,    0.052053,    0.050777,    0.049501,\n",
       "           0.048226,     0.04695,    0.045674,    0.044399,    0.043123,    0.041847,    0.040572,    0.039296,     0.03802,    0.036745,           0,           0,           0,           0,           0,           0,           0,           0,           0,           0,           0,           0,           0,\n",
       "                  0,           0,           0,           0,           0,           0,           0,           0,           0,           0,           0,           0,           0,           0,           0,           0,           0,           0,           0,           0,           0,           0,           0,\n",
       "                  0,           0,           0,           0,           0,           0,           0,           0,           0,           0,           0]]), 'Confidence', 'Recall']]\n",
       "fitness: 0.6763466906730319\n",
       "keys: ['metrics/precision(B)', 'metrics/recall(B)', 'metrics/mAP50(B)', 'metrics/mAP50-95(B)']\n",
       "maps: array([    0.65227])\n",
       "names: {0: 'pod'}\n",
       "plot: True\n",
       "results_dict: {'metrics/precision(B)': 0.9164179458665085, 'metrics/recall(B)': 0.7832626092555842, 'metrics/mAP50(B)': 0.8930083367662288, 'metrics/mAP50-95(B)': 0.6522731744404544, 'fitness': 0.6763466906730319}\n",
       "save_dir: WindowsPath('runs/detect/train4')\n",
       "speed: {'preprocess': 5.272677966526577, 'inference': 368.79941395350863, 'loss': 0.0, 'postprocess': 0.03561803272792271}\n",
       "task: 'detect'"
      ]
     },
     "execution_count": 36,
     "metadata": {},
     "output_type": "execute_result"
    }
   ],
   "source": [
    "YAML_PATH = './pod_path/data.yaml'\n",
    "EPOCHS = 50\n",
    "IMG_SIZE = 640\n",
    "BATCH_SIZE = 16\n",
    "\n",
    "model.train(data=YAML_PATH,\n",
    "            epochs=EPOCHS,\n",
    "            batch=BATCH_SIZE,\n",
    "            imgsz=IMG_SIZE)"
   ]
  },
  {
   "cell_type": "code",
   "execution_count": null,
   "metadata": {},
   "outputs": [],
   "source": [
    "# TRAINED_MODEL_PATH = 'runs/detect/train/weights/best.pt'\n",
    "# model = YOLOv10(TRAINED_MODEL_PATH)\n",
    "\n",
    "# model.val(data=YAML_PATH,\n",
    "#           imgsz=IMG_SIZE,\n",
    "#           split='test')"
   ]
  },
  {
   "cell_type": "code",
   "execution_count": 1,
   "metadata": {},
   "outputs": [],
   "source": [
    "# https://github.com/googlecolab/colabtools/issues/3409\n",
    "import locale\n",
    "locale.getpreferredencoding = lambda: \"UTF-8\""
   ]
  },
  {
   "cell_type": "code",
   "execution_count": 25,
   "metadata": {},
   "outputs": [],
   "source": [
    "from ultralytics import YOLO "
   ]
  },
  {
   "cell_type": "code",
   "execution_count": 27,
   "metadata": {},
   "outputs": [
    {
     "name": "stdout",
     "output_type": "stream",
     "text": [
      "New https://pypi.org/project/ultralytics/8.2.49 available  Update with 'pip install -U ultralytics'\n",
      "Ultralytics YOLOv8.2.48  Python-3.12.3 torch-2.3.1+cpu CPU (Intel Core(TM) i7-10610U 1.80GHz)\n",
      "\u001b[34m\u001b[1mengine\\trainer: \u001b[0mtask=detect, mode=train, model=runs/detect/train4/weights/best.pt, data=./pod_path/data.yaml, epochs=50, time=None, patience=100, batch=16, imgsz=640, save=True, save_period=-1, cache=False, device=None, workers=8, project=None, name=train6, exist_ok=False, pretrained=True, optimizer=auto, verbose=True, seed=0, deterministic=True, single_cls=False, rect=False, cos_lr=False, close_mosaic=10, resume=False, amp=True, fraction=1.0, profile=False, freeze=None, multi_scale=False, overlap_mask=True, mask_ratio=4, dropout=0.0, val=True, split=val, save_json=False, save_hybrid=False, conf=None, iou=0.7, max_det=300, half=False, dnn=False, plots=True, source=None, vid_stride=1, stream_buffer=False, visualize=False, augment=False, agnostic_nms=False, classes=None, retina_masks=False, embed=None, show=False, save_frames=False, save_txt=False, save_conf=False, save_crop=False, show_labels=True, show_conf=True, show_boxes=True, line_width=None, format=torchscript, keras=False, optimize=False, int8=False, dynamic=False, simplify=False, opset=None, workspace=4, nms=False, lr0=0.01, lrf=0.01, momentum=0.937, weight_decay=0.0005, warmup_epochs=3.0, warmup_momentum=0.8, warmup_bias_lr=0.1, box=7.5, cls=0.5, dfl=1.5, pose=12.0, kobj=1.0, label_smoothing=0.0, nbs=64, hsv_h=0.015, hsv_s=0.7, hsv_v=0.4, degrees=0.0, translate=0.1, scale=0.5, shear=0.0, perspective=0.0, flipud=0.0, fliplr=0.5, bgr=0.0, mosaic=1.0, mixup=0.0, copy_paste=0.0, auto_augment=randaugment, erasing=0.4, crop_fraction=1.0, cfg=None, tracker=botsort.yaml, save_dir=runs\\detect\\train6\n",
      "\n",
      "                   from  n    params  module                                       arguments                     \n",
      "  0                  -1  1       464  ultralytics.nn.modules.conv.Conv             [3, 16, 3, 2]                 \n",
      "  1                  -1  1      4672  ultralytics.nn.modules.conv.Conv             [16, 32, 3, 2]                \n",
      "  2                  -1  1      7360  ultralytics.nn.modules.block.C2f             [32, 32, 1, True]             \n",
      "  3                  -1  1     18560  ultralytics.nn.modules.conv.Conv             [32, 64, 3, 2]                \n",
      "  4                  -1  2     49664  ultralytics.nn.modules.block.C2f             [64, 64, 2, True]             \n",
      "  5                  -1  1      9856  ultralytics.nn.modules.block.SCDown          [64, 128, 3, 2]               \n",
      "  6                  -1  2    197632  ultralytics.nn.modules.block.C2f             [128, 128, 2, True]           \n",
      "  7                  -1  1     36096  ultralytics.nn.modules.block.SCDown          [128, 256, 3, 2]              \n",
      "  8                  -1  1    460288  ultralytics.nn.modules.block.C2f             [256, 256, 1, True]           \n",
      "  9                  -1  1    164608  ultralytics.nn.modules.block.SPPF            [256, 256, 5]                 \n",
      " 10                  -1  1    249728  ultralytics.nn.modules.block.PSA             [256, 256]                    \n",
      " 11                  -1  1         0  torch.nn.modules.upsampling.Upsample         [None, 2, 'nearest']          \n",
      " 12             [-1, 6]  1         0  ultralytics.nn.modules.conv.Concat           [1]                           \n",
      " 13                  -1  1    148224  ultralytics.nn.modules.block.C2f             [384, 128, 1]                 \n",
      " 14                  -1  1         0  torch.nn.modules.upsampling.Upsample         [None, 2, 'nearest']          \n",
      " 15             [-1, 4]  1         0  ultralytics.nn.modules.conv.Concat           [1]                           \n",
      " 16                  -1  1     37248  ultralytics.nn.modules.block.C2f             [192, 64, 1]                  \n",
      " 17                  -1  1     36992  ultralytics.nn.modules.conv.Conv             [64, 64, 3, 2]                \n",
      " 18            [-1, 13]  1         0  ultralytics.nn.modules.conv.Concat           [1]                           \n",
      " 19                  -1  1    123648  ultralytics.nn.modules.block.C2f             [192, 128, 1]                 \n",
      " 20                  -1  1     18048  ultralytics.nn.modules.block.SCDown          [128, 128, 3, 2]              \n",
      " 21            [-1, 10]  1         0  ultralytics.nn.modules.conv.Concat           [1]                           \n",
      " 22                  -1  1    282624  ultralytics.nn.modules.block.C2fCIB          [384, 256, 1, True, True]     \n",
      " 23        [16, 19, 22]  1    861718  ultralytics.nn.modules.head.v10Detect        [1, [64, 128, 256]]           \n",
      "YOLOv10n summary: 385 layers, 2707430 parameters, 2707414 gradients, 8.4 GFLOPs\n",
      "\n",
      "Transferred 595/595 items from pretrained weights\n",
      "Freezing layer 'model.23.dfl.conv.weight'\n"
     ]
    },
    {
     "name": "stderr",
     "output_type": "stream",
     "text": [
      "\u001b[34m\u001b[1mtrain: \u001b[0mScanning C:\\Users\\duphong.hua\\Documents\\phong_document\\git\\resp_test\\test_yolo\\pod_path\\train\\labels... 67 images, 1 backgrounds, 0 corrupt: 100%|██████████| 67/67 [00:00<00:00, 1296.50it/s]"
     ]
    },
    {
     "name": "stdout",
     "output_type": "stream",
     "text": [
      "\u001b[34m\u001b[1mtrain: \u001b[0mNew cache created: C:\\Users\\duphong.hua\\Documents\\phong_document\\git\\resp_test\\test_yolo\\pod_path\\train\\labels.cache\n"
     ]
    },
    {
     "name": "stderr",
     "output_type": "stream",
     "text": [
      "\n",
      "\u001b[34m\u001b[1mval: \u001b[0mScanning C:\\Users\\duphong.hua\\Documents\\phong_document\\git\\resp_test\\test_yolo\\pod_path\\val\\labels... 28 images, 0 backgrounds, 0 corrupt: 100%|██████████| 28/28 [00:00<00:00, 1051.24it/s]"
     ]
    },
    {
     "name": "stdout",
     "output_type": "stream",
     "text": [
      "\u001b[34m\u001b[1mval: \u001b[0mNew cache created: C:\\Users\\duphong.hua\\Documents\\phong_document\\git\\resp_test\\test_yolo\\pod_path\\val\\labels.cache\n"
     ]
    },
    {
     "name": "stderr",
     "output_type": "stream",
     "text": [
      "\n"
     ]
    },
    {
     "name": "stdout",
     "output_type": "stream",
     "text": [
      "Plotting labels to runs\\detect\\train6\\labels.jpg... \n",
      "\u001b[34m\u001b[1moptimizer:\u001b[0m 'optimizer=auto' found, ignoring 'lr0=0.01' and 'momentum=0.937' and determining best 'optimizer', 'lr0' and 'momentum' automatically... \n",
      "\u001b[34m\u001b[1moptimizer:\u001b[0m AdamW(lr=0.002, momentum=0.9) with parameter groups 95 weight(decay=0.0), 108 weight(decay=0.0005), 107 bias(decay=0.0)\n",
      "Image sizes 640 train, 640 val\n",
      "Using 0 dataloader workers\n",
      "Logging results to \u001b[1mruns\\detect\\train6\u001b[0m\n",
      "Starting training for 50 epochs...\n",
      "\n",
      "      Epoch    GPU_mem   box_loss   cls_loss   dfl_loss  Instances       Size\n"
     ]
    },
    {
     "name": "stderr",
     "output_type": "stream",
     "text": [
      "       1/50         0G       1.89      3.023      2.511          8        640: 100%|██████████| 5/5 [01:36<00:00, 19.23s/it]\n",
      "                 Class     Images  Instances      Box(P          R      mAP50  mAP50-95): 100%|██████████| 1/1 [00:17<00:00, 17.22s/it]"
     ]
    },
    {
     "name": "stdout",
     "output_type": "stream",
     "text": [
      "                   all         28         28      0.925      0.887      0.942      0.671\n"
     ]
    },
    {
     "name": "stderr",
     "output_type": "stream",
     "text": [
      "\n"
     ]
    },
    {
     "name": "stdout",
     "output_type": "stream",
     "text": [
      "\n",
      "      Epoch    GPU_mem   box_loss   cls_loss   dfl_loss  Instances       Size\n"
     ]
    },
    {
     "name": "stderr",
     "output_type": "stream",
     "text": [
      "       2/50         0G      1.606       3.13      2.329          6        640: 100%|██████████| 5/5 [01:37<00:00, 19.57s/it]\n",
      "                 Class     Images  Instances      Box(P          R      mAP50  mAP50-95): 100%|██████████| 1/1 [00:18<00:00, 18.14s/it]"
     ]
    },
    {
     "name": "stdout",
     "output_type": "stream",
     "text": [
      "                   all         28         28      0.956      0.857      0.909      0.604\n"
     ]
    },
    {
     "name": "stderr",
     "output_type": "stream",
     "text": [
      "\n"
     ]
    },
    {
     "name": "stdout",
     "output_type": "stream",
     "text": [
      "\n",
      "      Epoch    GPU_mem   box_loss   cls_loss   dfl_loss  Instances       Size\n"
     ]
    },
    {
     "name": "stderr",
     "output_type": "stream",
     "text": [
      "       3/50         0G      1.832      2.998      2.668          7        640: 100%|██████████| 5/5 [01:37<00:00, 19.46s/it]\n",
      "                 Class     Images  Instances      Box(P          R      mAP50  mAP50-95): 100%|██████████| 1/1 [00:15<00:00, 15.13s/it]"
     ]
    },
    {
     "name": "stdout",
     "output_type": "stream",
     "text": [
      "                   all         28         28      0.623      0.648      0.737      0.381\n"
     ]
    },
    {
     "name": "stderr",
     "output_type": "stream",
     "text": [
      "\n"
     ]
    },
    {
     "name": "stdout",
     "output_type": "stream",
     "text": [
      "\n",
      "      Epoch    GPU_mem   box_loss   cls_loss   dfl_loss  Instances       Size\n"
     ]
    },
    {
     "name": "stderr",
     "output_type": "stream",
     "text": [
      "       4/50         0G      2.067      3.237      2.716          8        640: 100%|██████████| 5/5 [01:39<00:00, 19.96s/it]\n",
      "                 Class     Images  Instances      Box(P          R      mAP50  mAP50-95): 100%|██████████| 1/1 [00:18<00:00, 18.94s/it]"
     ]
    },
    {
     "name": "stdout",
     "output_type": "stream",
     "text": [
      "                   all         28         28       0.71      0.821      0.807      0.435\n"
     ]
    },
    {
     "name": "stderr",
     "output_type": "stream",
     "text": [
      "\n"
     ]
    },
    {
     "name": "stdout",
     "output_type": "stream",
     "text": [
      "\n",
      "      Epoch    GPU_mem   box_loss   cls_loss   dfl_loss  Instances       Size\n"
     ]
    },
    {
     "name": "stderr",
     "output_type": "stream",
     "text": [
      "       5/50         0G       1.71      2.998      2.445          6        640: 100%|██████████| 5/5 [01:40<00:00, 20.19s/it]\n",
      "                 Class     Images  Instances      Box(P          R      mAP50  mAP50-95): 100%|██████████| 1/1 [00:18<00:00, 18.34s/it]"
     ]
    },
    {
     "name": "stdout",
     "output_type": "stream",
     "text": [
      "                   all         28         28      0.725      0.714       0.79      0.466\n"
     ]
    },
    {
     "name": "stderr",
     "output_type": "stream",
     "text": [
      "\n"
     ]
    },
    {
     "name": "stdout",
     "output_type": "stream",
     "text": [
      "\n",
      "      Epoch    GPU_mem   box_loss   cls_loss   dfl_loss  Instances       Size\n"
     ]
    },
    {
     "name": "stderr",
     "output_type": "stream",
     "text": [
      "       6/50         0G        1.8      2.767      2.568         11        640: 100%|██████████| 5/5 [01:41<00:00, 20.30s/it]\n",
      "                 Class     Images  Instances      Box(P          R      mAP50  mAP50-95): 100%|██████████| 1/1 [00:18<00:00, 18.18s/it]"
     ]
    },
    {
     "name": "stdout",
     "output_type": "stream",
     "text": [
      "                   all         28         28      0.744      0.829      0.863      0.491\n"
     ]
    },
    {
     "name": "stderr",
     "output_type": "stream",
     "text": [
      "\n"
     ]
    },
    {
     "name": "stdout",
     "output_type": "stream",
     "text": [
      "\n",
      "      Epoch    GPU_mem   box_loss   cls_loss   dfl_loss  Instances       Size\n"
     ]
    },
    {
     "name": "stderr",
     "output_type": "stream",
     "text": [
      "       7/50         0G       1.89      3.188      2.617          8        640: 100%|██████████| 5/5 [01:57<00:00, 23.55s/it]\n",
      "                 Class     Images  Instances      Box(P          R      mAP50  mAP50-95): 100%|██████████| 1/1 [00:22<00:00, 22.46s/it]"
     ]
    },
    {
     "name": "stdout",
     "output_type": "stream",
     "text": [
      "                   all         28         28      0.885      0.821      0.916      0.519\n"
     ]
    },
    {
     "name": "stderr",
     "output_type": "stream",
     "text": [
      "\n"
     ]
    },
    {
     "name": "stdout",
     "output_type": "stream",
     "text": [
      "\n",
      "      Epoch    GPU_mem   box_loss   cls_loss   dfl_loss  Instances       Size\n"
     ]
    },
    {
     "name": "stderr",
     "output_type": "stream",
     "text": [
      "       8/50         0G      1.866      2.731      2.587          8        640: 100%|██████████| 5/5 [01:47<00:00, 21.49s/it]\n",
      "                 Class     Images  Instances      Box(P          R      mAP50  mAP50-95): 100%|██████████| 1/1 [00:17<00:00, 17.12s/it]"
     ]
    },
    {
     "name": "stdout",
     "output_type": "stream",
     "text": [
      "                   all         28         28      0.817      0.643      0.756       0.51\n"
     ]
    },
    {
     "name": "stderr",
     "output_type": "stream",
     "text": [
      "\n"
     ]
    },
    {
     "name": "stdout",
     "output_type": "stream",
     "text": [
      "\n",
      "      Epoch    GPU_mem   box_loss   cls_loss   dfl_loss  Instances       Size\n"
     ]
    },
    {
     "name": "stderr",
     "output_type": "stream",
     "text": [
      "       9/50         0G      1.698      2.585      2.518          9        640: 100%|██████████| 5/5 [01:51<00:00, 22.38s/it]\n",
      "                 Class     Images  Instances      Box(P          R      mAP50  mAP50-95): 100%|██████████| 1/1 [00:19<00:00, 19.42s/it]"
     ]
    },
    {
     "name": "stdout",
     "output_type": "stream",
     "text": [
      "                   all         28         28      0.867      0.857      0.929       0.47\n"
     ]
    },
    {
     "name": "stderr",
     "output_type": "stream",
     "text": [
      "\n"
     ]
    },
    {
     "name": "stdout",
     "output_type": "stream",
     "text": [
      "\n",
      "      Epoch    GPU_mem   box_loss   cls_loss   dfl_loss  Instances       Size\n"
     ]
    },
    {
     "name": "stderr",
     "output_type": "stream",
     "text": [
      "      10/50         0G      2.096       2.81      2.605          8        640: 100%|██████████| 5/5 [01:56<00:00, 23.27s/it]\n",
      "                 Class     Images  Instances      Box(P          R      mAP50  mAP50-95): 100%|██████████| 1/1 [00:22<00:00, 22.71s/it]"
     ]
    },
    {
     "name": "stdout",
     "output_type": "stream",
     "text": [
      "                   all         28         28      0.845      0.857      0.869      0.492\n"
     ]
    },
    {
     "name": "stderr",
     "output_type": "stream",
     "text": [
      "\n"
     ]
    },
    {
     "name": "stdout",
     "output_type": "stream",
     "text": [
      "\n",
      "      Epoch    GPU_mem   box_loss   cls_loss   dfl_loss  Instances       Size\n"
     ]
    },
    {
     "name": "stderr",
     "output_type": "stream",
     "text": [
      "      11/50         0G      2.097      3.208      2.753          5        640: 100%|██████████| 5/5 [01:51<00:00, 22.31s/it]\n",
      "                 Class     Images  Instances      Box(P          R      mAP50  mAP50-95): 100%|██████████| 1/1 [00:21<00:00, 21.45s/it]"
     ]
    },
    {
     "name": "stdout",
     "output_type": "stream",
     "text": [
      "                   all         28         28      0.765      0.816       0.84      0.469\n"
     ]
    },
    {
     "name": "stderr",
     "output_type": "stream",
     "text": [
      "\n"
     ]
    },
    {
     "name": "stdout",
     "output_type": "stream",
     "text": [
      "\n",
      "      Epoch    GPU_mem   box_loss   cls_loss   dfl_loss  Instances       Size\n"
     ]
    },
    {
     "name": "stderr",
     "output_type": "stream",
     "text": [
      "      12/50         0G      1.792      2.602      2.472          9        640: 100%|██████████| 5/5 [02:00<00:00, 24.12s/it]\n",
      "                 Class     Images  Instances      Box(P          R      mAP50  mAP50-95): 100%|██████████| 1/1 [00:18<00:00, 18.50s/it]"
     ]
    },
    {
     "name": "stdout",
     "output_type": "stream",
     "text": [
      "                   all         28         28      0.764      0.821      0.763      0.513\n"
     ]
    },
    {
     "name": "stderr",
     "output_type": "stream",
     "text": [
      "\n"
     ]
    },
    {
     "name": "stdout",
     "output_type": "stream",
     "text": [
      "\n",
      "      Epoch    GPU_mem   box_loss   cls_loss   dfl_loss  Instances       Size\n"
     ]
    },
    {
     "name": "stderr",
     "output_type": "stream",
     "text": [
      "      13/50         0G      1.952      2.679      2.614          8        640: 100%|██████████| 5/5 [01:46<00:00, 21.37s/it]\n",
      "                 Class     Images  Instances      Box(P          R      mAP50  mAP50-95): 100%|██████████| 1/1 [00:20<00:00, 20.40s/it]"
     ]
    },
    {
     "name": "stdout",
     "output_type": "stream",
     "text": [
      "                   all         28         28      0.911      0.821      0.861       0.55\n"
     ]
    },
    {
     "name": "stderr",
     "output_type": "stream",
     "text": [
      "\n"
     ]
    },
    {
     "name": "stdout",
     "output_type": "stream",
     "text": [
      "\n",
      "      Epoch    GPU_mem   box_loss   cls_loss   dfl_loss  Instances       Size\n"
     ]
    },
    {
     "name": "stderr",
     "output_type": "stream",
     "text": [
      "      14/50         0G      1.879       2.77      2.586          6        640: 100%|██████████| 5/5 [01:46<00:00, 21.30s/it]\n",
      "                 Class     Images  Instances      Box(P          R      mAP50  mAP50-95): 100%|██████████| 1/1 [00:20<00:00, 20.81s/it]"
     ]
    },
    {
     "name": "stdout",
     "output_type": "stream",
     "text": [
      "                   all         28         28      0.826      0.677      0.747      0.484\n"
     ]
    },
    {
     "name": "stderr",
     "output_type": "stream",
     "text": [
      "\n"
     ]
    },
    {
     "name": "stdout",
     "output_type": "stream",
     "text": [
      "\n",
      "      Epoch    GPU_mem   box_loss   cls_loss   dfl_loss  Instances       Size\n"
     ]
    },
    {
     "name": "stderr",
     "output_type": "stream",
     "text": [
      "      15/50         0G      1.939      2.918      2.693          5        640: 100%|██████████| 5/5 [01:57<00:00, 23.42s/it]\n",
      "                 Class     Images  Instances      Box(P          R      mAP50  mAP50-95): 100%|██████████| 1/1 [00:20<00:00, 20.58s/it]"
     ]
    },
    {
     "name": "stdout",
     "output_type": "stream",
     "text": [
      "                   all         28         28      0.578      0.643      0.612      0.326\n"
     ]
    },
    {
     "name": "stderr",
     "output_type": "stream",
     "text": [
      "\n"
     ]
    },
    {
     "name": "stdout",
     "output_type": "stream",
     "text": [
      "\n",
      "      Epoch    GPU_mem   box_loss   cls_loss   dfl_loss  Instances       Size\n"
     ]
    },
    {
     "name": "stderr",
     "output_type": "stream",
     "text": [
      "      16/50         0G      1.898      2.515      2.429          9        640: 100%|██████████| 5/5 [01:45<00:00, 21.05s/it]\n",
      "                 Class     Images  Instances      Box(P          R      mAP50  mAP50-95): 100%|██████████| 1/1 [00:22<00:00, 22.06s/it]"
     ]
    },
    {
     "name": "stdout",
     "output_type": "stream",
     "text": [
      "                   all         28         28      0.507      0.514       0.48      0.241\n"
     ]
    },
    {
     "name": "stderr",
     "output_type": "stream",
     "text": [
      "\n"
     ]
    },
    {
     "name": "stdout",
     "output_type": "stream",
     "text": [
      "\n",
      "      Epoch    GPU_mem   box_loss   cls_loss   dfl_loss  Instances       Size\n"
     ]
    },
    {
     "name": "stderr",
     "output_type": "stream",
     "text": [
      "      17/50         0G      1.956      2.622      2.569          8        640: 100%|██████████| 5/5 [01:54<00:00, 22.93s/it]\n",
      "                 Class     Images  Instances      Box(P          R      mAP50  mAP50-95): 100%|██████████| 1/1 [00:22<00:00, 22.71s/it]"
     ]
    },
    {
     "name": "stdout",
     "output_type": "stream",
     "text": [
      "                   all         28         28      0.807      0.607      0.724      0.379\n"
     ]
    },
    {
     "name": "stderr",
     "output_type": "stream",
     "text": [
      "\n"
     ]
    },
    {
     "name": "stdout",
     "output_type": "stream",
     "text": [
      "\n",
      "      Epoch    GPU_mem   box_loss   cls_loss   dfl_loss  Instances       Size\n"
     ]
    },
    {
     "name": "stderr",
     "output_type": "stream",
     "text": [
      "      18/50         0G       2.17      2.857      2.813          5        640: 100%|██████████| 5/5 [01:59<00:00, 23.87s/it]\n",
      "                 Class     Images  Instances      Box(P          R      mAP50  mAP50-95): 100%|██████████| 1/1 [00:21<00:00, 21.49s/it]"
     ]
    },
    {
     "name": "stdout",
     "output_type": "stream",
     "text": [
      "                   all         28         28      0.756      0.775      0.857      0.529\n"
     ]
    },
    {
     "name": "stderr",
     "output_type": "stream",
     "text": [
      "\n"
     ]
    },
    {
     "name": "stdout",
     "output_type": "stream",
     "text": [
      "\n",
      "      Epoch    GPU_mem   box_loss   cls_loss   dfl_loss  Instances       Size\n"
     ]
    },
    {
     "name": "stderr",
     "output_type": "stream",
     "text": [
      "      19/50         0G      1.829      2.595      2.602          4        640: 100%|██████████| 5/5 [01:56<00:00, 23.36s/it]\n",
      "                 Class     Images  Instances      Box(P          R      mAP50  mAP50-95): 100%|██████████| 1/1 [00:20<00:00, 20.00s/it]"
     ]
    },
    {
     "name": "stdout",
     "output_type": "stream",
     "text": [
      "                   all         28         28      0.741      0.818      0.876       0.58\n"
     ]
    },
    {
     "name": "stderr",
     "output_type": "stream",
     "text": [
      "\n"
     ]
    },
    {
     "name": "stdout",
     "output_type": "stream",
     "text": [
      "\n",
      "      Epoch    GPU_mem   box_loss   cls_loss   dfl_loss  Instances       Size\n"
     ]
    },
    {
     "name": "stderr",
     "output_type": "stream",
     "text": [
      "      20/50         0G      1.824      2.459      2.555          7        640: 100%|██████████| 5/5 [01:47<00:00, 21.44s/it]\n",
      "                 Class     Images  Instances      Box(P          R      mAP50  mAP50-95): 100%|██████████| 1/1 [00:17<00:00, 17.52s/it]"
     ]
    },
    {
     "name": "stdout",
     "output_type": "stream",
     "text": [
      "                   all         28         28      0.913      0.786      0.843      0.553\n"
     ]
    },
    {
     "name": "stderr",
     "output_type": "stream",
     "text": [
      "\n"
     ]
    },
    {
     "name": "stdout",
     "output_type": "stream",
     "text": [
      "\n",
      "      Epoch    GPU_mem   box_loss   cls_loss   dfl_loss  Instances       Size\n"
     ]
    },
    {
     "name": "stderr",
     "output_type": "stream",
     "text": [
      "      21/50         0G      1.675      2.164      2.443          6        640: 100%|██████████| 5/5 [01:38<00:00, 19.63s/it]\n",
      "                 Class     Images  Instances      Box(P          R      mAP50  mAP50-95): 100%|██████████| 1/1 [00:18<00:00, 18.49s/it]"
     ]
    },
    {
     "name": "stdout",
     "output_type": "stream",
     "text": [
      "                   all         28         28      0.849      0.804      0.826      0.535\n"
     ]
    },
    {
     "name": "stderr",
     "output_type": "stream",
     "text": [
      "\n"
     ]
    },
    {
     "name": "stdout",
     "output_type": "stream",
     "text": [
      "\n",
      "      Epoch    GPU_mem   box_loss   cls_loss   dfl_loss  Instances       Size\n"
     ]
    },
    {
     "name": "stderr",
     "output_type": "stream",
     "text": [
      "      22/50         0G       1.54       2.09      2.336          6        640: 100%|██████████| 5/5 [01:38<00:00, 19.71s/it]\n",
      "                 Class     Images  Instances      Box(P          R      mAP50  mAP50-95): 100%|██████████| 1/1 [00:19<00:00, 19.02s/it]"
     ]
    },
    {
     "name": "stdout",
     "output_type": "stream",
     "text": [
      "                   all         28         28      0.722      0.743      0.743      0.459\n"
     ]
    },
    {
     "name": "stderr",
     "output_type": "stream",
     "text": [
      "\n"
     ]
    },
    {
     "name": "stdout",
     "output_type": "stream",
     "text": [
      "\n",
      "      Epoch    GPU_mem   box_loss   cls_loss   dfl_loss  Instances       Size\n"
     ]
    },
    {
     "name": "stderr",
     "output_type": "stream",
     "text": [
      "      23/50         0G      1.721      2.245      2.501          5        640: 100%|██████████| 5/5 [01:37<00:00, 19.54s/it]\n",
      "                 Class     Images  Instances      Box(P          R      mAP50  mAP50-95): 100%|██████████| 1/1 [00:18<00:00, 18.63s/it]"
     ]
    },
    {
     "name": "stdout",
     "output_type": "stream",
     "text": [
      "                   all         28         28       0.73      0.774      0.792      0.433\n"
     ]
    },
    {
     "name": "stderr",
     "output_type": "stream",
     "text": [
      "\n"
     ]
    },
    {
     "name": "stdout",
     "output_type": "stream",
     "text": [
      "\n",
      "      Epoch    GPU_mem   box_loss   cls_loss   dfl_loss  Instances       Size\n"
     ]
    },
    {
     "name": "stderr",
     "output_type": "stream",
     "text": [
      "      24/50         0G      1.843      2.256      2.517          6        640: 100%|██████████| 5/5 [01:37<00:00, 19.58s/it]\n",
      "                 Class     Images  Instances      Box(P          R      mAP50  mAP50-95): 100%|██████████| 1/1 [00:18<00:00, 18.72s/it]"
     ]
    },
    {
     "name": "stdout",
     "output_type": "stream",
     "text": [
      "                   all         28         28      0.812      0.643      0.712      0.464\n"
     ]
    },
    {
     "name": "stderr",
     "output_type": "stream",
     "text": [
      "\n"
     ]
    },
    {
     "name": "stdout",
     "output_type": "stream",
     "text": [
      "\n",
      "      Epoch    GPU_mem   box_loss   cls_loss   dfl_loss  Instances       Size\n"
     ]
    },
    {
     "name": "stderr",
     "output_type": "stream",
     "text": [
      "      25/50         0G      1.735      2.205      2.489          7        640: 100%|██████████| 5/5 [01:38<00:00, 19.74s/it]\n",
      "                 Class     Images  Instances      Box(P          R      mAP50  mAP50-95): 100%|██████████| 1/1 [00:20<00:00, 20.68s/it]"
     ]
    },
    {
     "name": "stdout",
     "output_type": "stream",
     "text": [
      "                   all         28         28       0.63      0.679      0.642      0.447\n"
     ]
    },
    {
     "name": "stderr",
     "output_type": "stream",
     "text": [
      "\n"
     ]
    },
    {
     "name": "stdout",
     "output_type": "stream",
     "text": [
      "\n",
      "      Epoch    GPU_mem   box_loss   cls_loss   dfl_loss  Instances       Size\n"
     ]
    },
    {
     "name": "stderr",
     "output_type": "stream",
     "text": [
      "      26/50         0G      1.961      2.674      2.761          3        640: 100%|██████████| 5/5 [01:36<00:00, 19.23s/it]\n",
      "                 Class     Images  Instances      Box(P          R      mAP50  mAP50-95): 100%|██████████| 1/1 [00:16<00:00, 16.93s/it]"
     ]
    },
    {
     "name": "stdout",
     "output_type": "stream",
     "text": [
      "                   all         28         28      0.717      0.679      0.755      0.511\n"
     ]
    },
    {
     "name": "stderr",
     "output_type": "stream",
     "text": [
      "\n"
     ]
    },
    {
     "name": "stdout",
     "output_type": "stream",
     "text": [
      "\n",
      "      Epoch    GPU_mem   box_loss   cls_loss   dfl_loss  Instances       Size\n"
     ]
    },
    {
     "name": "stderr",
     "output_type": "stream",
     "text": [
      "      27/50         0G      1.725       2.06       2.45          8        640: 100%|██████████| 5/5 [01:34<00:00, 18.99s/it]\n",
      "                 Class     Images  Instances      Box(P          R      mAP50  mAP50-95): 100%|██████████| 1/1 [00:20<00:00, 20.65s/it]"
     ]
    },
    {
     "name": "stdout",
     "output_type": "stream",
     "text": [
      "                   all         28         28      0.793      0.857      0.861      0.557\n"
     ]
    },
    {
     "name": "stderr",
     "output_type": "stream",
     "text": [
      "\n"
     ]
    },
    {
     "name": "stdout",
     "output_type": "stream",
     "text": [
      "\n",
      "      Epoch    GPU_mem   box_loss   cls_loss   dfl_loss  Instances       Size\n"
     ]
    },
    {
     "name": "stderr",
     "output_type": "stream",
     "text": [
      "      28/50         0G      1.736      2.476      2.575          6        640: 100%|██████████| 5/5 [01:35<00:00, 19.15s/it]\n",
      "                 Class     Images  Instances      Box(P          R      mAP50  mAP50-95): 100%|██████████| 1/1 [00:18<00:00, 18.52s/it]"
     ]
    },
    {
     "name": "stdout",
     "output_type": "stream",
     "text": [
      "                   all         28         28      0.727      0.857      0.839      0.521\n"
     ]
    },
    {
     "name": "stderr",
     "output_type": "stream",
     "text": [
      "\n"
     ]
    },
    {
     "name": "stdout",
     "output_type": "stream",
     "text": [
      "\n",
      "      Epoch    GPU_mem   box_loss   cls_loss   dfl_loss  Instances       Size\n"
     ]
    },
    {
     "name": "stderr",
     "output_type": "stream",
     "text": [
      "      29/50         0G      1.662      1.946      2.306          9        640: 100%|██████████| 5/5 [01:41<00:00, 20.25s/it]\n",
      "                 Class     Images  Instances      Box(P          R      mAP50  mAP50-95): 100%|██████████| 1/1 [00:19<00:00, 19.37s/it]"
     ]
    },
    {
     "name": "stdout",
     "output_type": "stream",
     "text": [
      "                   all         28         28      0.733      0.893       0.83      0.504\n"
     ]
    },
    {
     "name": "stderr",
     "output_type": "stream",
     "text": [
      "\n"
     ]
    },
    {
     "name": "stdout",
     "output_type": "stream",
     "text": [
      "\n",
      "      Epoch    GPU_mem   box_loss   cls_loss   dfl_loss  Instances       Size\n"
     ]
    },
    {
     "name": "stderr",
     "output_type": "stream",
     "text": [
      "      30/50         0G      1.713      2.164      2.492          6        640: 100%|██████████| 5/5 [01:38<00:00, 19.67s/it]\n",
      "                 Class     Images  Instances      Box(P          R      mAP50  mAP50-95): 100%|██████████| 1/1 [00:19<00:00, 19.33s/it]"
     ]
    },
    {
     "name": "stdout",
     "output_type": "stream",
     "text": [
      "                   all         28         28      0.689      0.679      0.758      0.433\n"
     ]
    },
    {
     "name": "stderr",
     "output_type": "stream",
     "text": [
      "\n"
     ]
    },
    {
     "name": "stdout",
     "output_type": "stream",
     "text": [
      "\n",
      "      Epoch    GPU_mem   box_loss   cls_loss   dfl_loss  Instances       Size\n"
     ]
    },
    {
     "name": "stderr",
     "output_type": "stream",
     "text": [
      "      31/50         0G      1.679      1.814      2.498         10        640: 100%|██████████| 5/5 [01:44<00:00, 20.83s/it]\n",
      "                 Class     Images  Instances      Box(P          R      mAP50  mAP50-95): 100%|██████████| 1/1 [00:16<00:00, 16.66s/it]"
     ]
    },
    {
     "name": "stdout",
     "output_type": "stream",
     "text": [
      "                   all         28         28      0.741      0.643      0.728      0.412\n"
     ]
    },
    {
     "name": "stderr",
     "output_type": "stream",
     "text": [
      "\n"
     ]
    },
    {
     "name": "stdout",
     "output_type": "stream",
     "text": [
      "\n",
      "      Epoch    GPU_mem   box_loss   cls_loss   dfl_loss  Instances       Size\n"
     ]
    },
    {
     "name": "stderr",
     "output_type": "stream",
     "text": [
      "      32/50         0G      1.562      1.808      2.377          8        640: 100%|██████████| 5/5 [01:38<00:00, 19.73s/it]\n",
      "                 Class     Images  Instances      Box(P          R      mAP50  mAP50-95): 100%|██████████| 1/1 [00:19<00:00, 19.96s/it]"
     ]
    },
    {
     "name": "stdout",
     "output_type": "stream",
     "text": [
      "                   all         28         28      0.951       0.75      0.848      0.388\n"
     ]
    },
    {
     "name": "stderr",
     "output_type": "stream",
     "text": [
      "\n"
     ]
    },
    {
     "name": "stdout",
     "output_type": "stream",
     "text": [
      "\n",
      "      Epoch    GPU_mem   box_loss   cls_loss   dfl_loss  Instances       Size\n"
     ]
    },
    {
     "name": "stderr",
     "output_type": "stream",
     "text": [
      "      33/50         0G      1.729      1.932       2.35          7        640: 100%|██████████| 5/5 [01:38<00:00, 19.72s/it]\n",
      "                 Class     Images  Instances      Box(P          R      mAP50  mAP50-95): 100%|██████████| 1/1 [00:18<00:00, 18.16s/it]"
     ]
    },
    {
     "name": "stdout",
     "output_type": "stream",
     "text": [
      "                   all         28         28      0.845       0.78      0.789      0.413\n"
     ]
    },
    {
     "name": "stderr",
     "output_type": "stream",
     "text": [
      "\n"
     ]
    },
    {
     "name": "stdout",
     "output_type": "stream",
     "text": [
      "\n",
      "      Epoch    GPU_mem   box_loss   cls_loss   dfl_loss  Instances       Size\n"
     ]
    },
    {
     "name": "stderr",
     "output_type": "stream",
     "text": [
      "      34/50         0G      1.557      1.844      2.366          8        640: 100%|██████████| 5/5 [01:38<00:00, 19.66s/it]\n",
      "                 Class     Images  Instances      Box(P          R      mAP50  mAP50-95): 100%|██████████| 1/1 [00:17<00:00, 17.76s/it]"
     ]
    },
    {
     "name": "stdout",
     "output_type": "stream",
     "text": [
      "                   all         28         28      0.698      0.857      0.815      0.472\n"
     ]
    },
    {
     "name": "stderr",
     "output_type": "stream",
     "text": [
      "\n"
     ]
    },
    {
     "name": "stdout",
     "output_type": "stream",
     "text": [
      "\n",
      "      Epoch    GPU_mem   box_loss   cls_loss   dfl_loss  Instances       Size\n"
     ]
    },
    {
     "name": "stderr",
     "output_type": "stream",
     "text": [
      "      35/50         0G      1.487      1.761      2.317          7        640: 100%|██████████| 5/5 [01:39<00:00, 19.81s/it]\n",
      "                 Class     Images  Instances      Box(P          R      mAP50  mAP50-95): 100%|██████████| 1/1 [00:18<00:00, 18.50s/it]"
     ]
    },
    {
     "name": "stdout",
     "output_type": "stream",
     "text": [
      "                   all         28         28       0.88      0.857       0.85      0.511\n"
     ]
    },
    {
     "name": "stderr",
     "output_type": "stream",
     "text": [
      "\n"
     ]
    },
    {
     "name": "stdout",
     "output_type": "stream",
     "text": [
      "\n",
      "      Epoch    GPU_mem   box_loss   cls_loss   dfl_loss  Instances       Size\n"
     ]
    },
    {
     "name": "stderr",
     "output_type": "stream",
     "text": [
      "      36/50         0G      1.514      1.637      2.322         10        640: 100%|██████████| 5/5 [01:48<00:00, 21.66s/it]\n",
      "                 Class     Images  Instances      Box(P          R      mAP50  mAP50-95): 100%|██████████| 1/1 [00:21<00:00, 21.53s/it]"
     ]
    },
    {
     "name": "stdout",
     "output_type": "stream",
     "text": [
      "                   all         28         28      0.925      0.878      0.903      0.558\n"
     ]
    },
    {
     "name": "stderr",
     "output_type": "stream",
     "text": [
      "\n"
     ]
    },
    {
     "name": "stdout",
     "output_type": "stream",
     "text": [
      "\n",
      "      Epoch    GPU_mem   box_loss   cls_loss   dfl_loss  Instances       Size\n"
     ]
    },
    {
     "name": "stderr",
     "output_type": "stream",
     "text": [
      "      37/50         0G       1.46      1.724      2.284         11        640: 100%|██████████| 5/5 [02:09<00:00, 25.82s/it]\n",
      "                 Class     Images  Instances      Box(P          R      mAP50  mAP50-95): 100%|██████████| 1/1 [00:26<00:00, 26.19s/it]"
     ]
    },
    {
     "name": "stdout",
     "output_type": "stream",
     "text": [
      "                   all         28         28      0.902      0.893      0.908      0.564\n"
     ]
    },
    {
     "name": "stderr",
     "output_type": "stream",
     "text": [
      "\n"
     ]
    },
    {
     "name": "stdout",
     "output_type": "stream",
     "text": [
      "\n",
      "      Epoch    GPU_mem   box_loss   cls_loss   dfl_loss  Instances       Size\n"
     ]
    },
    {
     "name": "stderr",
     "output_type": "stream",
     "text": [
      "      38/50         0G      1.651       1.89      2.426          8        640: 100%|██████████| 5/5 [02:10<00:00, 26.01s/it]\n",
      "                 Class     Images  Instances      Box(P          R      mAP50  mAP50-95): 100%|██████████| 1/1 [00:24<00:00, 24.96s/it]"
     ]
    },
    {
     "name": "stdout",
     "output_type": "stream",
     "text": [
      "                   all         28         28      0.778      0.929      0.864      0.561\n"
     ]
    },
    {
     "name": "stderr",
     "output_type": "stream",
     "text": [
      "\n"
     ]
    },
    {
     "name": "stdout",
     "output_type": "stream",
     "text": [
      "\n",
      "      Epoch    GPU_mem   box_loss   cls_loss   dfl_loss  Instances       Size\n"
     ]
    },
    {
     "name": "stderr",
     "output_type": "stream",
     "text": [
      "      39/50         0G      1.542      1.643       2.24         12        640: 100%|██████████| 5/5 [02:18<00:00, 27.66s/it]\n",
      "                 Class     Images  Instances      Box(P          R      mAP50  mAP50-95): 100%|██████████| 1/1 [00:25<00:00, 25.73s/it]"
     ]
    },
    {
     "name": "stdout",
     "output_type": "stream",
     "text": [
      "                   all         28         28      0.893      0.893      0.868      0.578\n"
     ]
    },
    {
     "name": "stderr",
     "output_type": "stream",
     "text": [
      "\n"
     ]
    },
    {
     "name": "stdout",
     "output_type": "stream",
     "text": [
      "\n",
      "      Epoch    GPU_mem   box_loss   cls_loss   dfl_loss  Instances       Size\n"
     ]
    },
    {
     "name": "stderr",
     "output_type": "stream",
     "text": [
      "      40/50         0G      1.514      1.593      2.277          7        640: 100%|██████████| 5/5 [02:10<00:00, 26.08s/it]\n",
      "                 Class     Images  Instances      Box(P          R      mAP50  mAP50-95): 100%|██████████| 1/1 [00:22<00:00, 22.52s/it]"
     ]
    },
    {
     "name": "stdout",
     "output_type": "stream",
     "text": [
      "                   all         28         28      0.859      0.868      0.877      0.586\n"
     ]
    },
    {
     "name": "stderr",
     "output_type": "stream",
     "text": [
      "\n"
     ]
    },
    {
     "name": "stdout",
     "output_type": "stream",
     "text": [
      "Closing dataloader mosaic\n",
      "\n",
      "      Epoch    GPU_mem   box_loss   cls_loss   dfl_loss  Instances       Size\n"
     ]
    },
    {
     "name": "stderr",
     "output_type": "stream",
     "text": [
      "      41/50         0G       1.57      3.772      2.749          3        640: 100%|██████████| 5/5 [02:04<00:00, 24.83s/it]\n",
      "                 Class     Images  Instances      Box(P          R      mAP50  mAP50-95): 100%|██████████| 1/1 [00:20<00:00, 20.48s/it]"
     ]
    },
    {
     "name": "stdout",
     "output_type": "stream",
     "text": [
      "                   all         28         28      0.925      0.883      0.904        0.6\n"
     ]
    },
    {
     "name": "stderr",
     "output_type": "stream",
     "text": [
      "\n"
     ]
    },
    {
     "name": "stdout",
     "output_type": "stream",
     "text": [
      "\n",
      "      Epoch    GPU_mem   box_loss   cls_loss   dfl_loss  Instances       Size\n"
     ]
    },
    {
     "name": "stderr",
     "output_type": "stream",
     "text": [
      "      42/50         0G      1.069      2.646      2.157          2        640: 100%|██████████| 5/5 [01:54<00:00, 22.88s/it]\n",
      "                 Class     Images  Instances      Box(P          R      mAP50  mAP50-95): 100%|██████████| 1/1 [00:20<00:00, 20.06s/it]"
     ]
    },
    {
     "name": "stdout",
     "output_type": "stream",
     "text": [
      "                   all         28         28      0.801      0.929        0.9      0.601\n"
     ]
    },
    {
     "name": "stderr",
     "output_type": "stream",
     "text": [
      "\n"
     ]
    },
    {
     "name": "stdout",
     "output_type": "stream",
     "text": [
      "\n",
      "      Epoch    GPU_mem   box_loss   cls_loss   dfl_loss  Instances       Size\n"
     ]
    },
    {
     "name": "stderr",
     "output_type": "stream",
     "text": [
      "      43/50         0G      1.279      2.701      2.406          3        640: 100%|██████████| 5/5 [01:52<00:00, 22.49s/it]\n",
      "                 Class     Images  Instances      Box(P          R      mAP50  mAP50-95): 100%|██████████| 1/1 [00:20<00:00, 20.78s/it]"
     ]
    },
    {
     "name": "stdout",
     "output_type": "stream",
     "text": [
      "                   all         28         28      0.816      0.929      0.909      0.557\n"
     ]
    },
    {
     "name": "stderr",
     "output_type": "stream",
     "text": [
      "\n"
     ]
    },
    {
     "name": "stdout",
     "output_type": "stream",
     "text": [
      "\n",
      "      Epoch    GPU_mem   box_loss   cls_loss   dfl_loss  Instances       Size\n"
     ]
    },
    {
     "name": "stderr",
     "output_type": "stream",
     "text": [
      "      44/50         0G      1.142      2.313      2.295          3        640: 100%|██████████| 5/5 [01:51<00:00, 22.28s/it]\n",
      "                 Class     Images  Instances      Box(P          R      mAP50  mAP50-95): 100%|██████████| 1/1 [00:21<00:00, 21.29s/it]"
     ]
    },
    {
     "name": "stdout",
     "output_type": "stream",
     "text": [
      "                   all         28         28       0.91      0.893      0.951      0.608\n"
     ]
    },
    {
     "name": "stderr",
     "output_type": "stream",
     "text": [
      "\n"
     ]
    },
    {
     "name": "stdout",
     "output_type": "stream",
     "text": [
      "\n",
      "      Epoch    GPU_mem   box_loss   cls_loss   dfl_loss  Instances       Size\n"
     ]
    },
    {
     "name": "stderr",
     "output_type": "stream",
     "text": [
      "      45/50         0G      1.121      2.317      2.219          3        640: 100%|██████████| 5/5 [01:55<00:00, 23.15s/it]\n",
      "                 Class     Images  Instances      Box(P          R      mAP50  mAP50-95): 100%|██████████| 1/1 [00:25<00:00, 26.00s/it]"
     ]
    },
    {
     "name": "stdout",
     "output_type": "stream",
     "text": [
      "                   all         28         28       0.93      0.929      0.955      0.644\n"
     ]
    },
    {
     "name": "stderr",
     "output_type": "stream",
     "text": [
      "\n"
     ]
    },
    {
     "name": "stdout",
     "output_type": "stream",
     "text": [
      "\n",
      "      Epoch    GPU_mem   box_loss   cls_loss   dfl_loss  Instances       Size\n"
     ]
    },
    {
     "name": "stderr",
     "output_type": "stream",
     "text": [
      "      46/50         0G      1.162       2.42      2.088          3        640: 100%|██████████| 5/5 [02:01<00:00, 24.25s/it]\n",
      "                 Class     Images  Instances      Box(P          R      mAP50  mAP50-95): 100%|██████████| 1/1 [00:22<00:00, 22.79s/it]"
     ]
    },
    {
     "name": "stdout",
     "output_type": "stream",
     "text": [
      "                   all         28         28      0.964      0.963      0.943      0.657\n"
     ]
    },
    {
     "name": "stderr",
     "output_type": "stream",
     "text": [
      "\n"
     ]
    },
    {
     "name": "stdout",
     "output_type": "stream",
     "text": [
      "\n",
      "      Epoch    GPU_mem   box_loss   cls_loss   dfl_loss  Instances       Size\n"
     ]
    },
    {
     "name": "stderr",
     "output_type": "stream",
     "text": [
      "      47/50         0G     0.9967      2.073      2.077          3        640: 100%|██████████| 5/5 [01:59<00:00, 23.98s/it]\n",
      "                 Class     Images  Instances      Box(P          R      mAP50  mAP50-95): 100%|██████████| 1/1 [00:23<00:00, 23.55s/it]"
     ]
    },
    {
     "name": "stdout",
     "output_type": "stream",
     "text": [
      "                   all         28         28      0.923      0.964      0.935      0.661\n"
     ]
    },
    {
     "name": "stderr",
     "output_type": "stream",
     "text": [
      "\n"
     ]
    },
    {
     "name": "stdout",
     "output_type": "stream",
     "text": [
      "\n",
      "      Epoch    GPU_mem   box_loss   cls_loss   dfl_loss  Instances       Size\n"
     ]
    },
    {
     "name": "stderr",
     "output_type": "stream",
     "text": [
      "      48/50         0G      1.181      2.302      2.369          3        640: 100%|██████████| 5/5 [02:02<00:00, 24.40s/it]\n",
      "                 Class     Images  Instances      Box(P          R      mAP50  mAP50-95): 100%|██████████| 1/1 [00:21<00:00, 21.96s/it]"
     ]
    },
    {
     "name": "stdout",
     "output_type": "stream",
     "text": [
      "                   all         28         28      0.952      0.893       0.93      0.649\n"
     ]
    },
    {
     "name": "stderr",
     "output_type": "stream",
     "text": [
      "\n"
     ]
    },
    {
     "name": "stdout",
     "output_type": "stream",
     "text": [
      "\n",
      "      Epoch    GPU_mem   box_loss   cls_loss   dfl_loss  Instances       Size\n"
     ]
    },
    {
     "name": "stderr",
     "output_type": "stream",
     "text": [
      "      49/50         0G      1.044      2.138      2.142          3        640: 100%|██████████| 5/5 [01:45<00:00, 21.09s/it]\n",
      "                 Class     Images  Instances      Box(P          R      mAP50  mAP50-95): 100%|██████████| 1/1 [00:20<00:00, 20.03s/it]"
     ]
    },
    {
     "name": "stdout",
     "output_type": "stream",
     "text": [
      "                   all         28         28      0.895      0.929      0.925      0.637\n"
     ]
    },
    {
     "name": "stderr",
     "output_type": "stream",
     "text": [
      "\n"
     ]
    },
    {
     "name": "stdout",
     "output_type": "stream",
     "text": [
      "\n",
      "      Epoch    GPU_mem   box_loss   cls_loss   dfl_loss  Instances       Size\n"
     ]
    },
    {
     "name": "stderr",
     "output_type": "stream",
     "text": [
      "      50/50         0G     0.9574      2.063      2.005          3        640: 100%|██████████| 5/5 [01:48<00:00, 21.68s/it]\n",
      "                 Class     Images  Instances      Box(P          R      mAP50  mAP50-95): 100%|██████████| 1/1 [00:21<00:00, 21.03s/it]"
     ]
    },
    {
     "name": "stdout",
     "output_type": "stream",
     "text": [
      "                   all         28         28      0.928      0.922      0.928      0.641\n"
     ]
    },
    {
     "name": "stderr",
     "output_type": "stream",
     "text": [
      "\n"
     ]
    },
    {
     "name": "stdout",
     "output_type": "stream",
     "text": [
      "\n",
      "50 epochs completed in 1.802 hours.\n",
      "Optimizer stripped from runs\\detect\\train6\\weights\\last.pt, 5.8MB\n",
      "Optimizer stripped from runs\\detect\\train6\\weights\\best.pt, 5.7MB\n",
      "\n",
      "Validating runs\\detect\\train6\\weights\\best.pt...\n",
      "Ultralytics YOLOv8.2.48  Python-3.12.3 torch-2.3.1+cpu CPU (Intel Core(TM) i7-10610U 1.80GHz)\n",
      "YOLOv10n summary (fused): 285 layers, 2694806 parameters, 0 gradients, 8.2 GFLOPs\n"
     ]
    },
    {
     "name": "stderr",
     "output_type": "stream",
     "text": [
      "                 Class     Images  Instances      Box(P          R      mAP50  mAP50-95): 100%|██████████| 1/1 [00:16<00:00, 16.93s/it]\n"
     ]
    },
    {
     "name": "stdout",
     "output_type": "stream",
     "text": [
      "                   all         28         28      0.926      0.891      0.941       0.67\n",
      "Speed: 7.2ms preprocess, 560.4ms inference, 0.0ms loss, 0.1ms postprocess per image\n",
      "Results saved to \u001b[1mruns\\detect\\train6\u001b[0m\n"
     ]
    },
    {
     "data": {
      "text/plain": [
       "ultralytics.utils.metrics.DetMetrics object with attributes:\n",
       "\n",
       "ap_class_index: array([0])\n",
       "box: ultralytics.utils.metrics.Metric object\n",
       "confusion_matrix: <ultralytics.utils.metrics.ConfusionMatrix object at 0x000001B8A51D87D0>\n",
       "curves: ['Precision-Recall(B)', 'F1-Confidence(B)', 'Precision-Confidence(B)', 'Recall-Confidence(B)']\n",
       "curves_results: [[array([          0,    0.001001,    0.002002,    0.003003,    0.004004,    0.005005,    0.006006,    0.007007,    0.008008,    0.009009,     0.01001,    0.011011,    0.012012,    0.013013,    0.014014,    0.015015,    0.016016,    0.017017,    0.018018,    0.019019,     0.02002,    0.021021,    0.022022,    0.023023,\n",
       "          0.024024,    0.025025,    0.026026,    0.027027,    0.028028,    0.029029,     0.03003,    0.031031,    0.032032,    0.033033,    0.034034,    0.035035,    0.036036,    0.037037,    0.038038,    0.039039,     0.04004,    0.041041,    0.042042,    0.043043,    0.044044,    0.045045,    0.046046,    0.047047,\n",
       "          0.048048,    0.049049,     0.05005,    0.051051,    0.052052,    0.053053,    0.054054,    0.055055,    0.056056,    0.057057,    0.058058,    0.059059,     0.06006,    0.061061,    0.062062,    0.063063,    0.064064,    0.065065,    0.066066,    0.067067,    0.068068,    0.069069,     0.07007,    0.071071,\n",
       "          0.072072,    0.073073,    0.074074,    0.075075,    0.076076,    0.077077,    0.078078,    0.079079,     0.08008,    0.081081,    0.082082,    0.083083,    0.084084,    0.085085,    0.086086,    0.087087,    0.088088,    0.089089,     0.09009,    0.091091,    0.092092,    0.093093,    0.094094,    0.095095,\n",
       "          0.096096,    0.097097,    0.098098,    0.099099,      0.1001,      0.1011,      0.1021,      0.1031,      0.1041,     0.10511,     0.10611,     0.10711,     0.10811,     0.10911,     0.11011,     0.11111,     0.11211,     0.11311,     0.11411,     0.11512,     0.11612,     0.11712,     0.11812,     0.11912,\n",
       "           0.12012,     0.12112,     0.12212,     0.12312,     0.12412,     0.12513,     0.12613,     0.12713,     0.12813,     0.12913,     0.13013,     0.13113,     0.13213,     0.13313,     0.13413,     0.13514,     0.13614,     0.13714,     0.13814,     0.13914,     0.14014,     0.14114,     0.14214,     0.14314,\n",
       "           0.14414,     0.14515,     0.14615,     0.14715,     0.14815,     0.14915,     0.15015,     0.15115,     0.15215,     0.15315,     0.15415,     0.15516,     0.15616,     0.15716,     0.15816,     0.15916,     0.16016,     0.16116,     0.16216,     0.16316,     0.16416,     0.16517,     0.16617,     0.16717,\n",
       "           0.16817,     0.16917,     0.17017,     0.17117,     0.17217,     0.17317,     0.17417,     0.17518,     0.17618,     0.17718,     0.17818,     0.17918,     0.18018,     0.18118,     0.18218,     0.18318,     0.18418,     0.18519,     0.18619,     0.18719,     0.18819,     0.18919,     0.19019,     0.19119,\n",
       "           0.19219,     0.19319,     0.19419,      0.1952,      0.1962,      0.1972,      0.1982,      0.1992,      0.2002,      0.2012,      0.2022,      0.2032,      0.2042,     0.20521,     0.20621,     0.20721,     0.20821,     0.20921,     0.21021,     0.21121,     0.21221,     0.21321,     0.21421,     0.21522,\n",
       "           0.21622,     0.21722,     0.21822,     0.21922,     0.22022,     0.22122,     0.22222,     0.22322,     0.22422,     0.22523,     0.22623,     0.22723,     0.22823,     0.22923,     0.23023,     0.23123,     0.23223,     0.23323,     0.23423,     0.23524,     0.23624,     0.23724,     0.23824,     0.23924,\n",
       "           0.24024,     0.24124,     0.24224,     0.24324,     0.24424,     0.24525,     0.24625,     0.24725,     0.24825,     0.24925,     0.25025,     0.25125,     0.25225,     0.25325,     0.25425,     0.25526,     0.25626,     0.25726,     0.25826,     0.25926,     0.26026,     0.26126,     0.26226,     0.26326,\n",
       "           0.26426,     0.26527,     0.26627,     0.26727,     0.26827,     0.26927,     0.27027,     0.27127,     0.27227,     0.27327,     0.27427,     0.27528,     0.27628,     0.27728,     0.27828,     0.27928,     0.28028,     0.28128,     0.28228,     0.28328,     0.28428,     0.28529,     0.28629,     0.28729,\n",
       "           0.28829,     0.28929,     0.29029,     0.29129,     0.29229,     0.29329,     0.29429,      0.2953,      0.2963,      0.2973,      0.2983,      0.2993,      0.3003,      0.3013,      0.3023,      0.3033,      0.3043,     0.30531,     0.30631,     0.30731,     0.30831,     0.30931,     0.31031,     0.31131,\n",
       "           0.31231,     0.31331,     0.31431,     0.31532,     0.31632,     0.31732,     0.31832,     0.31932,     0.32032,     0.32132,     0.32232,     0.32332,     0.32432,     0.32533,     0.32633,     0.32733,     0.32833,     0.32933,     0.33033,     0.33133,     0.33233,     0.33333,     0.33433,     0.33534,\n",
       "           0.33634,     0.33734,     0.33834,     0.33934,     0.34034,     0.34134,     0.34234,     0.34334,     0.34434,     0.34535,     0.34635,     0.34735,     0.34835,     0.34935,     0.35035,     0.35135,     0.35235,     0.35335,     0.35435,     0.35536,     0.35636,     0.35736,     0.35836,     0.35936,\n",
       "           0.36036,     0.36136,     0.36236,     0.36336,     0.36436,     0.36537,     0.36637,     0.36737,     0.36837,     0.36937,     0.37037,     0.37137,     0.37237,     0.37337,     0.37437,     0.37538,     0.37638,     0.37738,     0.37838,     0.37938,     0.38038,     0.38138,     0.38238,     0.38338,\n",
       "           0.38438,     0.38539,     0.38639,     0.38739,     0.38839,     0.38939,     0.39039,     0.39139,     0.39239,     0.39339,     0.39439,      0.3954,      0.3964,      0.3974,      0.3984,      0.3994,      0.4004,      0.4014,      0.4024,      0.4034,      0.4044,     0.40541,     0.40641,     0.40741,\n",
       "           0.40841,     0.40941,     0.41041,     0.41141,     0.41241,     0.41341,     0.41441,     0.41542,     0.41642,     0.41742,     0.41842,     0.41942,     0.42042,     0.42142,     0.42242,     0.42342,     0.42442,     0.42543,     0.42643,     0.42743,     0.42843,     0.42943,     0.43043,     0.43143,\n",
       "           0.43243,     0.43343,     0.43443,     0.43544,     0.43644,     0.43744,     0.43844,     0.43944,     0.44044,     0.44144,     0.44244,     0.44344,     0.44444,     0.44545,     0.44645,     0.44745,     0.44845,     0.44945,     0.45045,     0.45145,     0.45245,     0.45345,     0.45445,     0.45546,\n",
       "           0.45646,     0.45746,     0.45846,     0.45946,     0.46046,     0.46146,     0.46246,     0.46346,     0.46446,     0.46547,     0.46647,     0.46747,     0.46847,     0.46947,     0.47047,     0.47147,     0.47247,     0.47347,     0.47447,     0.47548,     0.47648,     0.47748,     0.47848,     0.47948,\n",
       "           0.48048,     0.48148,     0.48248,     0.48348,     0.48448,     0.48549,     0.48649,     0.48749,     0.48849,     0.48949,     0.49049,     0.49149,     0.49249,     0.49349,     0.49449,      0.4955,      0.4965,      0.4975,      0.4985,      0.4995,      0.5005,      0.5015,      0.5025,      0.5035,\n",
       "            0.5045,     0.50551,     0.50651,     0.50751,     0.50851,     0.50951,     0.51051,     0.51151,     0.51251,     0.51351,     0.51451,     0.51552,     0.51652,     0.51752,     0.51852,     0.51952,     0.52052,     0.52152,     0.52252,     0.52352,     0.52452,     0.52553,     0.52653,     0.52753,\n",
       "           0.52853,     0.52953,     0.53053,     0.53153,     0.53253,     0.53353,     0.53453,     0.53554,     0.53654,     0.53754,     0.53854,     0.53954,     0.54054,     0.54154,     0.54254,     0.54354,     0.54454,     0.54555,     0.54655,     0.54755,     0.54855,     0.54955,     0.55055,     0.55155,\n",
       "           0.55255,     0.55355,     0.55455,     0.55556,     0.55656,     0.55756,     0.55856,     0.55956,     0.56056,     0.56156,     0.56256,     0.56356,     0.56456,     0.56557,     0.56657,     0.56757,     0.56857,     0.56957,     0.57057,     0.57157,     0.57257,     0.57357,     0.57457,     0.57558,\n",
       "           0.57658,     0.57758,     0.57858,     0.57958,     0.58058,     0.58158,     0.58258,     0.58358,     0.58458,     0.58559,     0.58659,     0.58759,     0.58859,     0.58959,     0.59059,     0.59159,     0.59259,     0.59359,     0.59459,      0.5956,      0.5966,      0.5976,      0.5986,      0.5996,\n",
       "            0.6006,      0.6016,      0.6026,      0.6036,      0.6046,     0.60561,     0.60661,     0.60761,     0.60861,     0.60961,     0.61061,     0.61161,     0.61261,     0.61361,     0.61461,     0.61562,     0.61662,     0.61762,     0.61862,     0.61962,     0.62062,     0.62162,     0.62262,     0.62362,\n",
       "           0.62462,     0.62563,     0.62663,     0.62763,     0.62863,     0.62963,     0.63063,     0.63163,     0.63263,     0.63363,     0.63463,     0.63564,     0.63664,     0.63764,     0.63864,     0.63964,     0.64064,     0.64164,     0.64264,     0.64364,     0.64464,     0.64565,     0.64665,     0.64765,\n",
       "           0.64865,     0.64965,     0.65065,     0.65165,     0.65265,     0.65365,     0.65465,     0.65566,     0.65666,     0.65766,     0.65866,     0.65966,     0.66066,     0.66166,     0.66266,     0.66366,     0.66466,     0.66567,     0.66667,     0.66767,     0.66867,     0.66967,     0.67067,     0.67167,\n",
       "           0.67267,     0.67367,     0.67467,     0.67568,     0.67668,     0.67768,     0.67868,     0.67968,     0.68068,     0.68168,     0.68268,     0.68368,     0.68468,     0.68569,     0.68669,     0.68769,     0.68869,     0.68969,     0.69069,     0.69169,     0.69269,     0.69369,     0.69469,      0.6957,\n",
       "            0.6967,      0.6977,      0.6987,      0.6997,      0.7007,      0.7017,      0.7027,      0.7037,      0.7047,     0.70571,     0.70671,     0.70771,     0.70871,     0.70971,     0.71071,     0.71171,     0.71271,     0.71371,     0.71471,     0.71572,     0.71672,     0.71772,     0.71872,     0.71972,\n",
       "           0.72072,     0.72172,     0.72272,     0.72372,     0.72472,     0.72573,     0.72673,     0.72773,     0.72873,     0.72973,     0.73073,     0.73173,     0.73273,     0.73373,     0.73473,     0.73574,     0.73674,     0.73774,     0.73874,     0.73974,     0.74074,     0.74174,     0.74274,     0.74374,\n",
       "           0.74474,     0.74575,     0.74675,     0.74775,     0.74875,     0.74975,     0.75075,     0.75175,     0.75275,     0.75375,     0.75475,     0.75576,     0.75676,     0.75776,     0.75876,     0.75976,     0.76076,     0.76176,     0.76276,     0.76376,     0.76476,     0.76577,     0.76677,     0.76777,\n",
       "           0.76877,     0.76977,     0.77077,     0.77177,     0.77277,     0.77377,     0.77477,     0.77578,     0.77678,     0.77778,     0.77878,     0.77978,     0.78078,     0.78178,     0.78278,     0.78378,     0.78478,     0.78579,     0.78679,     0.78779,     0.78879,     0.78979,     0.79079,     0.79179,\n",
       "           0.79279,     0.79379,     0.79479,      0.7958,      0.7968,      0.7978,      0.7988,      0.7998,      0.8008,      0.8018,      0.8028,      0.8038,      0.8048,     0.80581,     0.80681,     0.80781,     0.80881,     0.80981,     0.81081,     0.81181,     0.81281,     0.81381,     0.81481,     0.81582,\n",
       "           0.81682,     0.81782,     0.81882,     0.81982,     0.82082,     0.82182,     0.82282,     0.82382,     0.82482,     0.82583,     0.82683,     0.82783,     0.82883,     0.82983,     0.83083,     0.83183,     0.83283,     0.83383,     0.83483,     0.83584,     0.83684,     0.83784,     0.83884,     0.83984,\n",
       "           0.84084,     0.84184,     0.84284,     0.84384,     0.84484,     0.84585,     0.84685,     0.84785,     0.84885,     0.84985,     0.85085,     0.85185,     0.85285,     0.85385,     0.85485,     0.85586,     0.85686,     0.85786,     0.85886,     0.85986,     0.86086,     0.86186,     0.86286,     0.86386,\n",
       "           0.86486,     0.86587,     0.86687,     0.86787,     0.86887,     0.86987,     0.87087,     0.87187,     0.87287,     0.87387,     0.87487,     0.87588,     0.87688,     0.87788,     0.87888,     0.87988,     0.88088,     0.88188,     0.88288,     0.88388,     0.88488,     0.88589,     0.88689,     0.88789,\n",
       "           0.88889,     0.88989,     0.89089,     0.89189,     0.89289,     0.89389,     0.89489,      0.8959,      0.8969,      0.8979,      0.8989,      0.8999,      0.9009,      0.9019,      0.9029,      0.9039,      0.9049,     0.90591,     0.90691,     0.90791,     0.90891,     0.90991,     0.91091,     0.91191,\n",
       "           0.91291,     0.91391,     0.91491,     0.91592,     0.91692,     0.91792,     0.91892,     0.91992,     0.92092,     0.92192,     0.92292,     0.92392,     0.92492,     0.92593,     0.92693,     0.92793,     0.92893,     0.92993,     0.93093,     0.93193,     0.93293,     0.93393,     0.93493,     0.93594,\n",
       "           0.93694,     0.93794,     0.93894,     0.93994,     0.94094,     0.94194,     0.94294,     0.94394,     0.94494,     0.94595,     0.94695,     0.94795,     0.94895,     0.94995,     0.95095,     0.95195,     0.95295,     0.95395,     0.95495,     0.95596,     0.95696,     0.95796,     0.95896,     0.95996,\n",
       "           0.96096,     0.96196,     0.96296,     0.96396,     0.96496,     0.96597,     0.96697,     0.96797,     0.96897,     0.96997,     0.97097,     0.97197,     0.97297,     0.97397,     0.97497,     0.97598,     0.97698,     0.97798,     0.97898,     0.97998,     0.98098,     0.98198,     0.98298,     0.98398,\n",
       "           0.98498,     0.98599,     0.98699,     0.98799,     0.98899,     0.98999,     0.99099,     0.99199,     0.99299,     0.99399,     0.99499,       0.996,       0.997,       0.998,       0.999,           1]), array([[          1,           1,           1,           1,           1,           1,           1,           1,           1,           1,           1,           1,           1,           1,           1,           1,           1,           1,           1,           1,           1,           1,           1,\n",
       "                  1,           1,           1,           1,           1,           1,           1,           1,           1,           1,           1,           1,           1,           1,           1,           1,           1,           1,           1,           1,           1,           1,           1,\n",
       "                  1,           1,           1,           1,           1,           1,           1,           1,           1,           1,           1,           1,           1,           1,           1,           1,           1,           1,           1,           1,           1,           1,           1,\n",
       "                  1,           1,           1,           1,           1,           1,           1,           1,           1,           1,           1,           1,           1,           1,           1,           1,           1,           1,           1,           1,           1,           1,           1,\n",
       "                  1,           1,           1,           1,           1,           1,           1,           1,           1,           1,           1,           1,           1,           1,           1,           1,           1,           1,           1,           1,           1,           1,           1,\n",
       "                  1,           1,           1,           1,           1,           1,           1,           1,           1,           1,           1,           1,           1,           1,           1,           1,           1,           1,           1,           1,           1,           1,           1,\n",
       "                  1,           1,           1,           1,           1,           1,           1,           1,           1,           1,           1,           1,           1,           1,           1,           1,           1,           1,           1,           1,           1,           1,           1,\n",
       "                  1,           1,           1,           1,           1,           1,           1,           1,           1,           1,           1,           1,           1,           1,           1,           1,           1,           1,           1,           1,           1,           1,           1,\n",
       "                  1,           1,           1,           1,           1,           1,           1,           1,           1,           1,           1,           1,           1,           1,           1,           1,           1,           1,           1,           1,           1,           1,           1,\n",
       "                  1,           1,           1,           1,           1,           1,           1,           1,           1,           1,           1,           1,           1,           1,           1,           1,           1,           1,           1,           1,           1,           1,           1,\n",
       "                  1,           1,           1,           1,           1,           1,           1,           1,           1,           1,           1,           1,           1,           1,           1,           1,           1,           1,           1,           1,           1,           1,           1,\n",
       "                  1,           1,           1,           1,           1,           1,           1,           1,           1,           1,           1,           1,           1,           1,           1,           1,           1,           1,           1,           1,           1,           1,           1,\n",
       "                  1,           1,           1,           1,           1,           1,           1,           1,           1,           1,           1,           1,           1,           1,           1,           1,           1,           1,           1,           1,           1,           1,           1,\n",
       "                  1,           1,           1,           1,           1,           1,           1,           1,           1,           1,           1,           1,           1,           1,           1,           1,           1,           1,           1,           1,           1,           1,           1,\n",
       "                  1,           1,           1,           1,           1,           1,           1,           1,           1,           1,           1,           1,           1,           1,           1,           1,           1,           1,           1,           1,           1,           1,           1,\n",
       "                  1,           1,           1,           1,           1,           1,           1,           1,           1,           1,           1,           1,           1,           1,           1,           1,           1,           1,           1,           1,           1,           1,           1,\n",
       "                  1,           1,           1,           1,           1,           1,           1,           1,           1,           1,           1,           1,           1,           1,           1,           1,           1,           1,           1,           1,           1,           1,           1,\n",
       "                  1,           1,           1,           1,           1,           1,           1,           1,           1,           1,           1,           1,           1,           1,           1,           1,           1,           1,           1,           1,           1,           1,           1,\n",
       "                  1,           1,           1,           1,           1,           1,           1,           1,           1,           1,           1,           1,           1,           1,           1,           1,           1,           1,           1,           1,           1,           1,           1,\n",
       "                  1,           1,           1,           1,           1,           1,           1,           1,           1,           1,           1,           1,           1,           1,           1,           1,           1,           1,           1,           1,           1,           1,           1,\n",
       "                  1,           1,           1,           1,           1,           1,           1,           1,           1,           1,           1,           1,           1,           1,           1,           1,           1,           1,           1,           1,           1,           1,           1,\n",
       "                  1,           1,           1,           1,           1,           1,           1,           1,           1,           1,           1,           1,           1,           1,           1,           1,           1,           1,           1,           1,           1,           1,           1,\n",
       "                  1,           1,           1,           1,           1,           1,           1,           1,           1,           1,           1,           1,           1,           1,           1,           1,           1,           1,           1,           1,           1,           1,           1,\n",
       "                  1,           1,           1,           1,           1,           1,           1,           1,           1,           1,           1,           1,           1,           1,           1,           1,           1,           1,           1,           1,           1,           1,           1,\n",
       "                  1,           1,           1,           1,           1,           1,           1,           1,           1,           1,           1,           1,           1,           1,           1,           1,           1,           1,           1,           1,           1,           1,           1,\n",
       "                  1,           1,           1,           1,           1,           1,           1,           1,           1,           1,           1,           1,           1,           1,           1,           1,           1,           1,           1,           1,           1,           1,           1,\n",
       "                  1,           1,           1,           1,           1,           1,           1,           1,           1,           1,           1,           1,           1,           1,           1,           1,           1,           1,           1,           1,           1,           1,           1,\n",
       "                  1,           1,           1,           1,           1,           1,           1,           1,           1,           1,           1,           1,           1,           1,           1,           1,           1,           1,           1,           1,           1,           1,           1,\n",
       "                  1,           1,           1,           1,           1,           1,           1,           1,           1,           1,           1,           1,           1,           1,           1,           1,           1,           1,           1,           1,           1,           1,           1,\n",
       "                  1,           1,           1,           1,           1,           1,           1,           1,           1,           1,           1,           1,           1,           1,           1,           1,           1,           1,           1,           1,           1,           1,           1,\n",
       "                  1,           1,           1,           1,           1,           1,           1,           1,           1,           1,           1,           1,           1,           1,           1,           1,           1,           1,           1,           1,           1,           1,           1,\n",
       "                  1,           1,           1,           1,           1,           1,           1,           1,           1,           1,           1,           1,           1,           1,           1,           1,           1,           1,           1,           1,           1,           1,           1,\n",
       "                  1,           1,           1,           1,           1,           1,           1,           1,           1,           1,           1,           1,           1,           1,           1,           1,           1,           1,           1,           1,           1,           1,           1,\n",
       "                  1,           1,           1,           1,           1,           1,           1,           1,           1,           1,           1,           1,           1,           1,           1,           1,           1,           1,           1,           1,           1,           1,           1,\n",
       "                  1,           1,           1,     0.95833,     0.95833,     0.95833,     0.95833,     0.95833,     0.95833,     0.95833,     0.95833,     0.95833,     0.95833,     0.95833,     0.95833,     0.95833,     0.95833,     0.95833,     0.95833,     0.95833,     0.95833,     0.95833,     0.95833,\n",
       "            0.95833,     0.95833,     0.95833,     0.95833,     0.95833,     0.95833,     0.95833,     0.95833,     0.95833,     0.95833,     0.95833,     0.95833,     0.95833,     0.95833,     0.95833,     0.95833,     0.92593,     0.92593,     0.92593,     0.92593,     0.92593,     0.92593,     0.92593,\n",
       "            0.92593,     0.92593,     0.92593,     0.92593,     0.92593,     0.92593,     0.92593,     0.92593,     0.92593,     0.92593,     0.92593,     0.92593,     0.92593,     0.92593,     0.92593,     0.92593,     0.92593,     0.92593,     0.92593,     0.92593,     0.92593,     0.92593,     0.92593,\n",
       "            0.92593,     0.92593,     0.92593,     0.92593,     0.92593,     0.92593,     0.92593,     0.92593,     0.92593,     0.92593,     0.92593,     0.92593,     0.92593,     0.92593,     0.92593,     0.92593,     0.92593,     0.92593,     0.92593,     0.92593,     0.92593,     0.92593,     0.92593,\n",
       "            0.92593,     0.92593,     0.92593,     0.92593,     0.92593,     0.92593,     0.92593,     0.92593,     0.92593,     0.92593,     0.92593,     0.92593,     0.92593,     0.92593,     0.92593,     0.92593,     0.92593,     0.92593,     0.78788,     0.78788,     0.78788,     0.78788,     0.78788,\n",
       "            0.78788,     0.78788,     0.78788,     0.78788,     0.78788,     0.78788,     0.78788,     0.78788,     0.78788,     0.78788,     0.78788,     0.78788,     0.78788,     0.78788,     0.78788,     0.78788,     0.78788,     0.78788,     0.78788,     0.78788,     0.78788,     0.78788,     0.78788,\n",
       "            0.78788,     0.78788,     0.78788,     0.78788,     0.78788,     0.78788,     0.78788,     0.78788,     0.69231,     0.69231,     0.69231,     0.69231,     0.69231,     0.69231,     0.69231,     0.69231,     0.69231,     0.69231,     0.69231,     0.69231,     0.69231,     0.69231,     0.69231,\n",
       "            0.69231,     0.69231,     0.69231,     0.69231,     0.69231,     0.69231,     0.69231,     0.69231,     0.69231,     0.69231,     0.69231,     0.69231,     0.69231,     0.69231,     0.69231,     0.69231,     0.69231,     0.69231,     0.69231,     0.69231,     0.69231,    0.047059,    0.047059,\n",
       "           0.047059,    0.047059,    0.047059,    0.047059,    0.047059,    0.047059,    0.047059,    0.047059,    0.047059,    0.047059,    0.047059,    0.047059,    0.047059,    0.047059,    0.047059,    0.047059,    0.047059,    0.047059,    0.047059,    0.047059,    0.047059,    0.047059,    0.047059,\n",
       "           0.047059,    0.047059,    0.047059,    0.047059,    0.047059,    0.047059,    0.047059,    0.047059,    0.047059,    0.047059,           0]]), 'Recall', 'Precision'], [array([          0,    0.001001,    0.002002,    0.003003,    0.004004,    0.005005,    0.006006,    0.007007,    0.008008,    0.009009,     0.01001,    0.011011,    0.012012,    0.013013,    0.014014,    0.015015,    0.016016,    0.017017,    0.018018,    0.019019,     0.02002,    0.021021,    0.022022,    0.023023,\n",
       "          0.024024,    0.025025,    0.026026,    0.027027,    0.028028,    0.029029,     0.03003,    0.031031,    0.032032,    0.033033,    0.034034,    0.035035,    0.036036,    0.037037,    0.038038,    0.039039,     0.04004,    0.041041,    0.042042,    0.043043,    0.044044,    0.045045,    0.046046,    0.047047,\n",
       "          0.048048,    0.049049,     0.05005,    0.051051,    0.052052,    0.053053,    0.054054,    0.055055,    0.056056,    0.057057,    0.058058,    0.059059,     0.06006,    0.061061,    0.062062,    0.063063,    0.064064,    0.065065,    0.066066,    0.067067,    0.068068,    0.069069,     0.07007,    0.071071,\n",
       "          0.072072,    0.073073,    0.074074,    0.075075,    0.076076,    0.077077,    0.078078,    0.079079,     0.08008,    0.081081,    0.082082,    0.083083,    0.084084,    0.085085,    0.086086,    0.087087,    0.088088,    0.089089,     0.09009,    0.091091,    0.092092,    0.093093,    0.094094,    0.095095,\n",
       "          0.096096,    0.097097,    0.098098,    0.099099,      0.1001,      0.1011,      0.1021,      0.1031,      0.1041,     0.10511,     0.10611,     0.10711,     0.10811,     0.10911,     0.11011,     0.11111,     0.11211,     0.11311,     0.11411,     0.11512,     0.11612,     0.11712,     0.11812,     0.11912,\n",
       "           0.12012,     0.12112,     0.12212,     0.12312,     0.12412,     0.12513,     0.12613,     0.12713,     0.12813,     0.12913,     0.13013,     0.13113,     0.13213,     0.13313,     0.13413,     0.13514,     0.13614,     0.13714,     0.13814,     0.13914,     0.14014,     0.14114,     0.14214,     0.14314,\n",
       "           0.14414,     0.14515,     0.14615,     0.14715,     0.14815,     0.14915,     0.15015,     0.15115,     0.15215,     0.15315,     0.15415,     0.15516,     0.15616,     0.15716,     0.15816,     0.15916,     0.16016,     0.16116,     0.16216,     0.16316,     0.16416,     0.16517,     0.16617,     0.16717,\n",
       "           0.16817,     0.16917,     0.17017,     0.17117,     0.17217,     0.17317,     0.17417,     0.17518,     0.17618,     0.17718,     0.17818,     0.17918,     0.18018,     0.18118,     0.18218,     0.18318,     0.18418,     0.18519,     0.18619,     0.18719,     0.18819,     0.18919,     0.19019,     0.19119,\n",
       "           0.19219,     0.19319,     0.19419,      0.1952,      0.1962,      0.1972,      0.1982,      0.1992,      0.2002,      0.2012,      0.2022,      0.2032,      0.2042,     0.20521,     0.20621,     0.20721,     0.20821,     0.20921,     0.21021,     0.21121,     0.21221,     0.21321,     0.21421,     0.21522,\n",
       "           0.21622,     0.21722,     0.21822,     0.21922,     0.22022,     0.22122,     0.22222,     0.22322,     0.22422,     0.22523,     0.22623,     0.22723,     0.22823,     0.22923,     0.23023,     0.23123,     0.23223,     0.23323,     0.23423,     0.23524,     0.23624,     0.23724,     0.23824,     0.23924,\n",
       "           0.24024,     0.24124,     0.24224,     0.24324,     0.24424,     0.24525,     0.24625,     0.24725,     0.24825,     0.24925,     0.25025,     0.25125,     0.25225,     0.25325,     0.25425,     0.25526,     0.25626,     0.25726,     0.25826,     0.25926,     0.26026,     0.26126,     0.26226,     0.26326,\n",
       "           0.26426,     0.26527,     0.26627,     0.26727,     0.26827,     0.26927,     0.27027,     0.27127,     0.27227,     0.27327,     0.27427,     0.27528,     0.27628,     0.27728,     0.27828,     0.27928,     0.28028,     0.28128,     0.28228,     0.28328,     0.28428,     0.28529,     0.28629,     0.28729,\n",
       "           0.28829,     0.28929,     0.29029,     0.29129,     0.29229,     0.29329,     0.29429,      0.2953,      0.2963,      0.2973,      0.2983,      0.2993,      0.3003,      0.3013,      0.3023,      0.3033,      0.3043,     0.30531,     0.30631,     0.30731,     0.30831,     0.30931,     0.31031,     0.31131,\n",
       "           0.31231,     0.31331,     0.31431,     0.31532,     0.31632,     0.31732,     0.31832,     0.31932,     0.32032,     0.32132,     0.32232,     0.32332,     0.32432,     0.32533,     0.32633,     0.32733,     0.32833,     0.32933,     0.33033,     0.33133,     0.33233,     0.33333,     0.33433,     0.33534,\n",
       "           0.33634,     0.33734,     0.33834,     0.33934,     0.34034,     0.34134,     0.34234,     0.34334,     0.34434,     0.34535,     0.34635,     0.34735,     0.34835,     0.34935,     0.35035,     0.35135,     0.35235,     0.35335,     0.35435,     0.35536,     0.35636,     0.35736,     0.35836,     0.35936,\n",
       "           0.36036,     0.36136,     0.36236,     0.36336,     0.36436,     0.36537,     0.36637,     0.36737,     0.36837,     0.36937,     0.37037,     0.37137,     0.37237,     0.37337,     0.37437,     0.37538,     0.37638,     0.37738,     0.37838,     0.37938,     0.38038,     0.38138,     0.38238,     0.38338,\n",
       "           0.38438,     0.38539,     0.38639,     0.38739,     0.38839,     0.38939,     0.39039,     0.39139,     0.39239,     0.39339,     0.39439,      0.3954,      0.3964,      0.3974,      0.3984,      0.3994,      0.4004,      0.4014,      0.4024,      0.4034,      0.4044,     0.40541,     0.40641,     0.40741,\n",
       "           0.40841,     0.40941,     0.41041,     0.41141,     0.41241,     0.41341,     0.41441,     0.41542,     0.41642,     0.41742,     0.41842,     0.41942,     0.42042,     0.42142,     0.42242,     0.42342,     0.42442,     0.42543,     0.42643,     0.42743,     0.42843,     0.42943,     0.43043,     0.43143,\n",
       "           0.43243,     0.43343,     0.43443,     0.43544,     0.43644,     0.43744,     0.43844,     0.43944,     0.44044,     0.44144,     0.44244,     0.44344,     0.44444,     0.44545,     0.44645,     0.44745,     0.44845,     0.44945,     0.45045,     0.45145,     0.45245,     0.45345,     0.45445,     0.45546,\n",
       "           0.45646,     0.45746,     0.45846,     0.45946,     0.46046,     0.46146,     0.46246,     0.46346,     0.46446,     0.46547,     0.46647,     0.46747,     0.46847,     0.46947,     0.47047,     0.47147,     0.47247,     0.47347,     0.47447,     0.47548,     0.47648,     0.47748,     0.47848,     0.47948,\n",
       "           0.48048,     0.48148,     0.48248,     0.48348,     0.48448,     0.48549,     0.48649,     0.48749,     0.48849,     0.48949,     0.49049,     0.49149,     0.49249,     0.49349,     0.49449,      0.4955,      0.4965,      0.4975,      0.4985,      0.4995,      0.5005,      0.5015,      0.5025,      0.5035,\n",
       "            0.5045,     0.50551,     0.50651,     0.50751,     0.50851,     0.50951,     0.51051,     0.51151,     0.51251,     0.51351,     0.51451,     0.51552,     0.51652,     0.51752,     0.51852,     0.51952,     0.52052,     0.52152,     0.52252,     0.52352,     0.52452,     0.52553,     0.52653,     0.52753,\n",
       "           0.52853,     0.52953,     0.53053,     0.53153,     0.53253,     0.53353,     0.53453,     0.53554,     0.53654,     0.53754,     0.53854,     0.53954,     0.54054,     0.54154,     0.54254,     0.54354,     0.54454,     0.54555,     0.54655,     0.54755,     0.54855,     0.54955,     0.55055,     0.55155,\n",
       "           0.55255,     0.55355,     0.55455,     0.55556,     0.55656,     0.55756,     0.55856,     0.55956,     0.56056,     0.56156,     0.56256,     0.56356,     0.56456,     0.56557,     0.56657,     0.56757,     0.56857,     0.56957,     0.57057,     0.57157,     0.57257,     0.57357,     0.57457,     0.57558,\n",
       "           0.57658,     0.57758,     0.57858,     0.57958,     0.58058,     0.58158,     0.58258,     0.58358,     0.58458,     0.58559,     0.58659,     0.58759,     0.58859,     0.58959,     0.59059,     0.59159,     0.59259,     0.59359,     0.59459,      0.5956,      0.5966,      0.5976,      0.5986,      0.5996,\n",
       "            0.6006,      0.6016,      0.6026,      0.6036,      0.6046,     0.60561,     0.60661,     0.60761,     0.60861,     0.60961,     0.61061,     0.61161,     0.61261,     0.61361,     0.61461,     0.61562,     0.61662,     0.61762,     0.61862,     0.61962,     0.62062,     0.62162,     0.62262,     0.62362,\n",
       "           0.62462,     0.62563,     0.62663,     0.62763,     0.62863,     0.62963,     0.63063,     0.63163,     0.63263,     0.63363,     0.63463,     0.63564,     0.63664,     0.63764,     0.63864,     0.63964,     0.64064,     0.64164,     0.64264,     0.64364,     0.64464,     0.64565,     0.64665,     0.64765,\n",
       "           0.64865,     0.64965,     0.65065,     0.65165,     0.65265,     0.65365,     0.65465,     0.65566,     0.65666,     0.65766,     0.65866,     0.65966,     0.66066,     0.66166,     0.66266,     0.66366,     0.66466,     0.66567,     0.66667,     0.66767,     0.66867,     0.66967,     0.67067,     0.67167,\n",
       "           0.67267,     0.67367,     0.67467,     0.67568,     0.67668,     0.67768,     0.67868,     0.67968,     0.68068,     0.68168,     0.68268,     0.68368,     0.68468,     0.68569,     0.68669,     0.68769,     0.68869,     0.68969,     0.69069,     0.69169,     0.69269,     0.69369,     0.69469,      0.6957,\n",
       "            0.6967,      0.6977,      0.6987,      0.6997,      0.7007,      0.7017,      0.7027,      0.7037,      0.7047,     0.70571,     0.70671,     0.70771,     0.70871,     0.70971,     0.71071,     0.71171,     0.71271,     0.71371,     0.71471,     0.71572,     0.71672,     0.71772,     0.71872,     0.71972,\n",
       "           0.72072,     0.72172,     0.72272,     0.72372,     0.72472,     0.72573,     0.72673,     0.72773,     0.72873,     0.72973,     0.73073,     0.73173,     0.73273,     0.73373,     0.73473,     0.73574,     0.73674,     0.73774,     0.73874,     0.73974,     0.74074,     0.74174,     0.74274,     0.74374,\n",
       "           0.74474,     0.74575,     0.74675,     0.74775,     0.74875,     0.74975,     0.75075,     0.75175,     0.75275,     0.75375,     0.75475,     0.75576,     0.75676,     0.75776,     0.75876,     0.75976,     0.76076,     0.76176,     0.76276,     0.76376,     0.76476,     0.76577,     0.76677,     0.76777,\n",
       "           0.76877,     0.76977,     0.77077,     0.77177,     0.77277,     0.77377,     0.77477,     0.77578,     0.77678,     0.77778,     0.77878,     0.77978,     0.78078,     0.78178,     0.78278,     0.78378,     0.78478,     0.78579,     0.78679,     0.78779,     0.78879,     0.78979,     0.79079,     0.79179,\n",
       "           0.79279,     0.79379,     0.79479,      0.7958,      0.7968,      0.7978,      0.7988,      0.7998,      0.8008,      0.8018,      0.8028,      0.8038,      0.8048,     0.80581,     0.80681,     0.80781,     0.80881,     0.80981,     0.81081,     0.81181,     0.81281,     0.81381,     0.81481,     0.81582,\n",
       "           0.81682,     0.81782,     0.81882,     0.81982,     0.82082,     0.82182,     0.82282,     0.82382,     0.82482,     0.82583,     0.82683,     0.82783,     0.82883,     0.82983,     0.83083,     0.83183,     0.83283,     0.83383,     0.83483,     0.83584,     0.83684,     0.83784,     0.83884,     0.83984,\n",
       "           0.84084,     0.84184,     0.84284,     0.84384,     0.84484,     0.84585,     0.84685,     0.84785,     0.84885,     0.84985,     0.85085,     0.85185,     0.85285,     0.85385,     0.85485,     0.85586,     0.85686,     0.85786,     0.85886,     0.85986,     0.86086,     0.86186,     0.86286,     0.86386,\n",
       "           0.86486,     0.86587,     0.86687,     0.86787,     0.86887,     0.86987,     0.87087,     0.87187,     0.87287,     0.87387,     0.87487,     0.87588,     0.87688,     0.87788,     0.87888,     0.87988,     0.88088,     0.88188,     0.88288,     0.88388,     0.88488,     0.88589,     0.88689,     0.88789,\n",
       "           0.88889,     0.88989,     0.89089,     0.89189,     0.89289,     0.89389,     0.89489,      0.8959,      0.8969,      0.8979,      0.8989,      0.8999,      0.9009,      0.9019,      0.9029,      0.9039,      0.9049,     0.90591,     0.90691,     0.90791,     0.90891,     0.90991,     0.91091,     0.91191,\n",
       "           0.91291,     0.91391,     0.91491,     0.91592,     0.91692,     0.91792,     0.91892,     0.91992,     0.92092,     0.92192,     0.92292,     0.92392,     0.92492,     0.92593,     0.92693,     0.92793,     0.92893,     0.92993,     0.93093,     0.93193,     0.93293,     0.93393,     0.93493,     0.93594,\n",
       "           0.93694,     0.93794,     0.93894,     0.93994,     0.94094,     0.94194,     0.94294,     0.94394,     0.94494,     0.94595,     0.94695,     0.94795,     0.94895,     0.94995,     0.95095,     0.95195,     0.95295,     0.95395,     0.95495,     0.95596,     0.95696,     0.95796,     0.95896,     0.95996,\n",
       "           0.96096,     0.96196,     0.96296,     0.96396,     0.96496,     0.96597,     0.96697,     0.96797,     0.96897,     0.96997,     0.97097,     0.97197,     0.97297,     0.97397,     0.97497,     0.97598,     0.97698,     0.97798,     0.97898,     0.97998,     0.98098,     0.98198,     0.98298,     0.98398,\n",
       "           0.98498,     0.98599,     0.98699,     0.98799,     0.98899,     0.98999,     0.99099,     0.99199,     0.99299,     0.99399,     0.99499,       0.996,       0.997,       0.998,       0.999,           1]), array([[  0.0066445,   0.0066445,   0.0066445,   0.0066445,   0.0066803,    0.010164,    0.021966,    0.055464,     0.10763,     0.17499,     0.23087,      0.2982,     0.34598,     0.39661,     0.43464,     0.46169,     0.46634,     0.47261,      0.4905,     0.53111,     0.54871,     0.56228,     0.57433,\n",
       "            0.59108,     0.60707,     0.60886,     0.61064,     0.61241,     0.61503,      0.6195,     0.62948,     0.63413,     0.63707,     0.63943,     0.64178,     0.64526,     0.64968,     0.65894,     0.66142,     0.66388,     0.66633,     0.67028,     0.67444,     0.70178,     0.70368,     0.70557,\n",
       "            0.70746,     0.70934,     0.71192,      0.7157,     0.71945,     0.73003,     0.73306,     0.73607,     0.73906,     0.75636,     0.76162,      0.7629,     0.76417,     0.76545,     0.76672,     0.76798,     0.76925,     0.77051,     0.77154,     0.77195,     0.77236,     0.77277,     0.77318,\n",
       "            0.77359,       0.774,      0.7744,     0.77481,     0.77522,     0.77563,     0.77604,     0.77644,     0.77685,     0.77726,     0.77766,     0.77807,     0.77847,     0.77888,     0.77928,     0.77969,     0.78009,      0.7805,      0.7809,     0.78131,     0.78171,     0.78211,     0.78251,\n",
       "            0.78368,     0.78507,     0.78645,     0.78783,     0.78921,     0.79059,     0.79196,     0.79333,     0.79505,     0.79725,     0.79944,     0.80162,     0.80379,     0.80596,     0.80146,     0.79691,     0.79234,     0.78796,     0.79099,       0.794,     0.79699,     0.79996,     0.80145,\n",
       "            0.80291,     0.80437,     0.80583,     0.80728,     0.80873,     0.81017,     0.81161,     0.81271,     0.81326,      0.8138,     0.81435,     0.81489,     0.81544,     0.81598,     0.81653,     0.81707,     0.81761,     0.81815,      0.8187,     0.81924,     0.81978,     0.82032,     0.82086,\n",
       "            0.82139,     0.82193,     0.82247,     0.82301,     0.82354,     0.82408,     0.82461,     0.82515,     0.82571,      0.8263,     0.82689,     0.82748,     0.82807,     0.82866,     0.82924,     0.82983,     0.83041,       0.831,     0.83158,     0.83216,     0.83275,     0.83333,     0.83391,\n",
       "            0.83449,     0.83507,     0.83565,     0.83623,     0.83681,     0.83738,     0.83796,     0.83854,     0.83895,     0.83929,     0.83963,     0.83997,     0.84031,     0.84065,     0.84099,     0.84133,     0.84167,     0.84201,     0.84235,     0.84269,     0.84302,     0.84336,      0.8437,\n",
       "            0.84404,     0.84438,     0.84471,     0.84505,     0.84539,     0.84572,     0.84606,      0.8464,     0.84673,     0.84707,      0.8474,     0.84774,     0.84807,     0.84841,     0.84874,     0.84908,     0.84941,     0.84975,     0.85008,     0.85041,     0.85075,     0.85108,     0.85141,\n",
       "            0.85175,     0.85208,     0.85241,     0.84352,     0.83335,     0.83377,      0.8342,     0.83462,     0.83504,     0.83546,     0.83588,      0.8363,     0.83672,     0.83714,     0.83756,     0.83798,      0.8384,     0.83882,     0.83924,     0.83966,     0.84007,     0.84049,     0.84091,\n",
       "            0.84132,     0.84174,     0.84215,     0.84257,     0.84298,      0.8434,     0.84381,     0.84423,     0.84464,     0.84505,     0.84547,     0.84588,     0.84629,      0.8467,     0.84711,     0.84779,     0.84986,     0.85192,     0.85397,     0.85601,     0.85804,     0.86006,     0.86207,\n",
       "            0.86372,     0.86535,     0.86699,     0.86861,     0.87023,     0.87185,     0.87346,     0.87506,     0.87666,      0.8779,     0.87896,     0.88002,     0.88107,     0.88212,     0.88317,     0.88422,     0.88526,      0.8863,     0.88734,     0.88838,     0.88941,     0.89044,     0.89147,\n",
       "             0.8925,     0.89326,     0.89387,     0.89448,     0.89509,      0.8957,     0.89631,     0.89692,     0.89753,     0.89813,     0.89874,     0.89934,     0.89995,     0.90055,     0.90115,     0.90175,     0.90236,     0.90296,     0.90355,     0.90415,     0.90475,     0.90535,     0.90594,\n",
       "            0.90654,     0.90713,     0.90773,     0.90832,     0.90891,     0.90789,     0.90615,     0.90441,     0.90266,     0.90091,     0.89915,     0.89739,     0.89563,     0.89386,     0.89208,      0.8903,     0.88645,     0.87471,     0.86842,     0.86957,     0.87072,     0.87187,     0.87301,\n",
       "            0.87415,     0.87528,     0.87642,     0.87755,     0.87867,     0.87979,     0.88091,     0.88203,     0.88314,     0.88425,     0.88325,     0.88119,     0.87913,     0.87706,     0.87499,      0.8729,     0.87081,     0.86872,     0.86661,      0.8645,     0.86278,     0.86295,     0.86313,\n",
       "            0.86331,     0.86349,     0.86367,     0.86385,     0.86402,      0.8642,     0.86438,     0.86456,     0.86474,     0.86491,     0.86509,     0.86527,     0.86545,     0.86562,      0.8658,     0.86598,     0.86615,     0.86633,     0.86651,     0.86668,     0.86686,     0.86704,     0.86721,\n",
       "            0.86739,     0.86757,     0.86774,     0.86792,      0.8681,     0.86827,     0.86845,     0.86862,      0.8688,     0.86897,     0.86915,     0.86933,      0.8695,     0.86968,     0.86985,     0.87003,      0.8702,     0.87038,     0.87055,     0.87073,      0.8709,     0.87108,     0.87125,\n",
       "            0.87142,      0.8716,     0.87177,     0.87195,     0.87212,     0.87229,     0.87247,     0.87264,     0.87282,     0.87299,     0.87316,     0.87334,     0.87351,     0.87368,     0.87386,     0.87403,      0.8742,     0.87438,     0.87455,     0.87472,     0.87489,     0.87507,     0.87524,\n",
       "            0.87541,     0.87558,     0.87576,     0.87593,      0.8761,     0.87627,     0.87644,     0.87662,     0.87679,     0.87696,     0.87713,      0.8773,     0.87747,     0.87764,     0.87782,     0.87799,     0.87816,     0.87833,      0.8785,     0.87867,     0.87884,     0.87901,     0.87918,\n",
       "            0.87935,     0.87952,     0.87969,     0.87986,      0.8797,     0.87823,     0.87674,     0.87526,     0.87377,     0.87228,     0.87078,     0.86928,     0.86777,     0.86626,     0.86475,     0.86323,     0.86171,     0.86018,     0.85865,     0.85713,     0.85611,     0.85509,     0.85407,\n",
       "            0.85305,     0.85203,       0.851,     0.84997,     0.84894,     0.84791,     0.84688,     0.84584,     0.84481,     0.84377,     0.84273,     0.84168,     0.84064,     0.83959,     0.83854,     0.83749,     0.83644,     0.83539,     0.83433,     0.83332,     0.83317,     0.83301,     0.83285,\n",
       "            0.83269,     0.83253,     0.83237,     0.83221,     0.83205,     0.83189,     0.83174,     0.83158,     0.83142,     0.83126,      0.8311,     0.83094,     0.83078,     0.83062,     0.83046,      0.8303,     0.83014,     0.82998,     0.82982,     0.82966,      0.8295,     0.82934,     0.82918,\n",
       "            0.82902,     0.82886,      0.8287,     0.82854,     0.82838,     0.82822,     0.82806,      0.8279,     0.82774,     0.82758,     0.82742,     0.82726,      0.8271,     0.82694,     0.82678,     0.82662,     0.82646,      0.8263,     0.82614,     0.82598,     0.82582,     0.82566,      0.8255,\n",
       "            0.82533,     0.82517,     0.82501,     0.82485,     0.82469,     0.82453,     0.82437,     0.82421,     0.82405,     0.82388,     0.82372,     0.82356,      0.8234,     0.82324,     0.82308,     0.82292,     0.82275,     0.82259,     0.82243,     0.82227,     0.82211,     0.82195,     0.82178,\n",
       "            0.82162,     0.82146,      0.8213,     0.82114,     0.82097,     0.82081,     0.82065,     0.82049,     0.82032,     0.82016,        0.82,     0.81984,     0.81968,     0.81951,     0.81935,     0.81919,     0.81903,     0.81886,      0.8187,     0.81854,     0.81837,     0.81821,     0.81805,\n",
       "            0.81789,     0.81772,     0.81756,      0.8174,     0.81723,     0.81707,     0.81691,     0.81674,     0.81658,     0.81642,     0.81625,     0.81609,     0.81593,     0.81576,      0.8156,     0.81544,     0.81527,     0.81511,     0.81495,     0.81478,     0.81462,     0.81445,     0.81429,\n",
       "            0.81413,     0.81396,      0.8138,     0.81363,     0.81347,     0.81331,     0.81314,     0.81298,     0.81281,     0.81265,     0.81248,     0.81232,     0.81215,     0.81199,     0.81183,     0.81166,      0.8115,     0.81133,     0.81117,       0.811,     0.81084,     0.81067,     0.81051,\n",
       "            0.81034,     0.81018,     0.81001,     0.80985,     0.80968,     0.80952,     0.80935,     0.80919,     0.80902,     0.80886,     0.80869,     0.80852,     0.78662,     0.78227,     0.78186,     0.78145,     0.78104,     0.78063,     0.78022,     0.77981,     0.77939,     0.77898,     0.77857,\n",
       "            0.77816,     0.77775,     0.77733,     0.77692,     0.77651,      0.7761,     0.77568,     0.77527,     0.77485,     0.77444,     0.77402,     0.77361,     0.77319,     0.77278,     0.77236,     0.77195,     0.77153,     0.77111,      0.7707,     0.77028,     0.76986,     0.76944,     0.76903,\n",
       "            0.76861,     0.76819,     0.76777,     0.76735,     0.76693,     0.76651,     0.76609,     0.76567,     0.76525,     0.76483,     0.76441,     0.76399,     0.76356,     0.76314,     0.76272,      0.7623,     0.76187,     0.76145,     0.76103,      0.7606,     0.76018,     0.75975,     0.75933,\n",
       "             0.7589,     0.75848,     0.75805,     0.75763,      0.7572,     0.75677,     0.75635,     0.75592,     0.75322,     0.73714,     0.72677,     0.72551,     0.72424,     0.72298,     0.72171,     0.72044,     0.71916,     0.71788,     0.71661,     0.71532,     0.71404,     0.71275,     0.71146,\n",
       "            0.71017,     0.70887,     0.70758,     0.70628,     0.70497,     0.70367,     0.70236,     0.70105,     0.69974,     0.69842,     0.69387,     0.68504,     0.67608,       0.667,     0.66559,     0.66447,     0.66334,     0.66222,     0.66109,     0.65996,     0.65883,     0.65769,     0.65656,\n",
       "            0.65542,     0.65428,     0.65314,       0.652,     0.65085,     0.64971,     0.64856,     0.64741,     0.64626,      0.6451,     0.64394,     0.64279,     0.64162,     0.64046,      0.6393,     0.63813,     0.63696,     0.63579,     0.63462,     0.63348,     0.63237,     0.63126,     0.63015,\n",
       "            0.62904,     0.62792,      0.6268,     0.62568,     0.62456,     0.62343,     0.62231,     0.62118,     0.62005,     0.61892,     0.61778,     0.61665,     0.61551,     0.61437,     0.61323,     0.61209,     0.61094,      0.6098,     0.60865,      0.6075,     0.60635,     0.60519,     0.60404,\n",
       "            0.60288,     0.60172,     0.60056,      0.5977,     0.59328,     0.58882,     0.58434,     0.57983,     0.57529,     0.57072,     0.56612,     0.56207,     0.55845,     0.55481,     0.55116,     0.54748,     0.54378,     0.54007,     0.53634,     0.53259,     0.52881,     0.52519,     0.52188,\n",
       "            0.51856,     0.51521,     0.51186,     0.50849,      0.5051,      0.5017,     0.49828,     0.49485,      0.4914,     0.48793,     0.48514,     0.48283,     0.48051,     0.47818,     0.47585,     0.47351,     0.47117,     0.46881,     0.46645,     0.46408,     0.46171,     0.45932,     0.45693,\n",
       "            0.45454,     0.45213,     0.44972,      0.4473,     0.44487,     0.44285,     0.44092,     0.43898,     0.43703,     0.43509,     0.43313,     0.43117,     0.42921,     0.42724,     0.42527,     0.42329,     0.42131,     0.41932,     0.41733,     0.41533,     0.41333,     0.41132,      0.4093,\n",
       "            0.40729,     0.40526,     0.40323,      0.4012,     0.39891,     0.39624,     0.39357,     0.39088,     0.38819,     0.38549,     0.38278,     0.38006,     0.37733,     0.37459,     0.37185,     0.36909,     0.36632,     0.36355,     0.36076,     0.35797,     0.35517,     0.35265,     0.35125,\n",
       "            0.34985,     0.34844,     0.34703,     0.34562,     0.34421,     0.34279,     0.34138,     0.33996,     0.33853,     0.33711,     0.33568,     0.33425,     0.33282,     0.33139,     0.32995,     0.32851,     0.32707,     0.32562,     0.32418,     0.32273,     0.32127,     0.31982,     0.31836,\n",
       "             0.3169,     0.31544,     0.31397,     0.31251,     0.31104,     0.30957,     0.30809,     0.30661,     0.30513,     0.30365,      0.3016,     0.29915,     0.29669,     0.29422,     0.29174,     0.28926,     0.28677,     0.28427,     0.28176,     0.27925,     0.27673,      0.2742,     0.27167,\n",
       "            0.26912,     0.26657,     0.26402,     0.26145,     0.25888,      0.2563,     0.25371,     0.25111,     0.23698,     0.21372,     0.19155,     0.17842,     0.16511,      0.1516,     0.13789,     0.13203,     0.13009,     0.12815,      0.1262,     0.12424,     0.12229,     0.12033,     0.11836,\n",
       "            0.11639,     0.11442,     0.11244,     0.11046,     0.10847,     0.10648,     0.10449,     0.10249,     0.10049,    0.098478,    0.096467,    0.094451,    0.092431,    0.090407,    0.088378,    0.086346,    0.084308,    0.082267,    0.080221,    0.078171,    0.076116,    0.074057,    0.071994,\n",
       "           0.069926,           0,           0,           0,           0,           0,           0,           0,           0,           0,           0,           0,           0,           0,           0,           0,           0,           0,           0,           0,           0,           0,           0,\n",
       "                  0,           0,           0,           0,           0,           0,           0,           0,           0,           0,           0]]), 'Confidence', 'F1'], [array([          0,    0.001001,    0.002002,    0.003003,    0.004004,    0.005005,    0.006006,    0.007007,    0.008008,    0.009009,     0.01001,    0.011011,    0.012012,    0.013013,    0.014014,    0.015015,    0.016016,    0.017017,    0.018018,    0.019019,     0.02002,    0.021021,    0.022022,    0.023023,\n",
       "          0.024024,    0.025025,    0.026026,    0.027027,    0.028028,    0.029029,     0.03003,    0.031031,    0.032032,    0.033033,    0.034034,    0.035035,    0.036036,    0.037037,    0.038038,    0.039039,     0.04004,    0.041041,    0.042042,    0.043043,    0.044044,    0.045045,    0.046046,    0.047047,\n",
       "          0.048048,    0.049049,     0.05005,    0.051051,    0.052052,    0.053053,    0.054054,    0.055055,    0.056056,    0.057057,    0.058058,    0.059059,     0.06006,    0.061061,    0.062062,    0.063063,    0.064064,    0.065065,    0.066066,    0.067067,    0.068068,    0.069069,     0.07007,    0.071071,\n",
       "          0.072072,    0.073073,    0.074074,    0.075075,    0.076076,    0.077077,    0.078078,    0.079079,     0.08008,    0.081081,    0.082082,    0.083083,    0.084084,    0.085085,    0.086086,    0.087087,    0.088088,    0.089089,     0.09009,    0.091091,    0.092092,    0.093093,    0.094094,    0.095095,\n",
       "          0.096096,    0.097097,    0.098098,    0.099099,      0.1001,      0.1011,      0.1021,      0.1031,      0.1041,     0.10511,     0.10611,     0.10711,     0.10811,     0.10911,     0.11011,     0.11111,     0.11211,     0.11311,     0.11411,     0.11512,     0.11612,     0.11712,     0.11812,     0.11912,\n",
       "           0.12012,     0.12112,     0.12212,     0.12312,     0.12412,     0.12513,     0.12613,     0.12713,     0.12813,     0.12913,     0.13013,     0.13113,     0.13213,     0.13313,     0.13413,     0.13514,     0.13614,     0.13714,     0.13814,     0.13914,     0.14014,     0.14114,     0.14214,     0.14314,\n",
       "           0.14414,     0.14515,     0.14615,     0.14715,     0.14815,     0.14915,     0.15015,     0.15115,     0.15215,     0.15315,     0.15415,     0.15516,     0.15616,     0.15716,     0.15816,     0.15916,     0.16016,     0.16116,     0.16216,     0.16316,     0.16416,     0.16517,     0.16617,     0.16717,\n",
       "           0.16817,     0.16917,     0.17017,     0.17117,     0.17217,     0.17317,     0.17417,     0.17518,     0.17618,     0.17718,     0.17818,     0.17918,     0.18018,     0.18118,     0.18218,     0.18318,     0.18418,     0.18519,     0.18619,     0.18719,     0.18819,     0.18919,     0.19019,     0.19119,\n",
       "           0.19219,     0.19319,     0.19419,      0.1952,      0.1962,      0.1972,      0.1982,      0.1992,      0.2002,      0.2012,      0.2022,      0.2032,      0.2042,     0.20521,     0.20621,     0.20721,     0.20821,     0.20921,     0.21021,     0.21121,     0.21221,     0.21321,     0.21421,     0.21522,\n",
       "           0.21622,     0.21722,     0.21822,     0.21922,     0.22022,     0.22122,     0.22222,     0.22322,     0.22422,     0.22523,     0.22623,     0.22723,     0.22823,     0.22923,     0.23023,     0.23123,     0.23223,     0.23323,     0.23423,     0.23524,     0.23624,     0.23724,     0.23824,     0.23924,\n",
       "           0.24024,     0.24124,     0.24224,     0.24324,     0.24424,     0.24525,     0.24625,     0.24725,     0.24825,     0.24925,     0.25025,     0.25125,     0.25225,     0.25325,     0.25425,     0.25526,     0.25626,     0.25726,     0.25826,     0.25926,     0.26026,     0.26126,     0.26226,     0.26326,\n",
       "           0.26426,     0.26527,     0.26627,     0.26727,     0.26827,     0.26927,     0.27027,     0.27127,     0.27227,     0.27327,     0.27427,     0.27528,     0.27628,     0.27728,     0.27828,     0.27928,     0.28028,     0.28128,     0.28228,     0.28328,     0.28428,     0.28529,     0.28629,     0.28729,\n",
       "           0.28829,     0.28929,     0.29029,     0.29129,     0.29229,     0.29329,     0.29429,      0.2953,      0.2963,      0.2973,      0.2983,      0.2993,      0.3003,      0.3013,      0.3023,      0.3033,      0.3043,     0.30531,     0.30631,     0.30731,     0.30831,     0.30931,     0.31031,     0.31131,\n",
       "           0.31231,     0.31331,     0.31431,     0.31532,     0.31632,     0.31732,     0.31832,     0.31932,     0.32032,     0.32132,     0.32232,     0.32332,     0.32432,     0.32533,     0.32633,     0.32733,     0.32833,     0.32933,     0.33033,     0.33133,     0.33233,     0.33333,     0.33433,     0.33534,\n",
       "           0.33634,     0.33734,     0.33834,     0.33934,     0.34034,     0.34134,     0.34234,     0.34334,     0.34434,     0.34535,     0.34635,     0.34735,     0.34835,     0.34935,     0.35035,     0.35135,     0.35235,     0.35335,     0.35435,     0.35536,     0.35636,     0.35736,     0.35836,     0.35936,\n",
       "           0.36036,     0.36136,     0.36236,     0.36336,     0.36436,     0.36537,     0.36637,     0.36737,     0.36837,     0.36937,     0.37037,     0.37137,     0.37237,     0.37337,     0.37437,     0.37538,     0.37638,     0.37738,     0.37838,     0.37938,     0.38038,     0.38138,     0.38238,     0.38338,\n",
       "           0.38438,     0.38539,     0.38639,     0.38739,     0.38839,     0.38939,     0.39039,     0.39139,     0.39239,     0.39339,     0.39439,      0.3954,      0.3964,      0.3974,      0.3984,      0.3994,      0.4004,      0.4014,      0.4024,      0.4034,      0.4044,     0.40541,     0.40641,     0.40741,\n",
       "           0.40841,     0.40941,     0.41041,     0.41141,     0.41241,     0.41341,     0.41441,     0.41542,     0.41642,     0.41742,     0.41842,     0.41942,     0.42042,     0.42142,     0.42242,     0.42342,     0.42442,     0.42543,     0.42643,     0.42743,     0.42843,     0.42943,     0.43043,     0.43143,\n",
       "           0.43243,     0.43343,     0.43443,     0.43544,     0.43644,     0.43744,     0.43844,     0.43944,     0.44044,     0.44144,     0.44244,     0.44344,     0.44444,     0.44545,     0.44645,     0.44745,     0.44845,     0.44945,     0.45045,     0.45145,     0.45245,     0.45345,     0.45445,     0.45546,\n",
       "           0.45646,     0.45746,     0.45846,     0.45946,     0.46046,     0.46146,     0.46246,     0.46346,     0.46446,     0.46547,     0.46647,     0.46747,     0.46847,     0.46947,     0.47047,     0.47147,     0.47247,     0.47347,     0.47447,     0.47548,     0.47648,     0.47748,     0.47848,     0.47948,\n",
       "           0.48048,     0.48148,     0.48248,     0.48348,     0.48448,     0.48549,     0.48649,     0.48749,     0.48849,     0.48949,     0.49049,     0.49149,     0.49249,     0.49349,     0.49449,      0.4955,      0.4965,      0.4975,      0.4985,      0.4995,      0.5005,      0.5015,      0.5025,      0.5035,\n",
       "            0.5045,     0.50551,     0.50651,     0.50751,     0.50851,     0.50951,     0.51051,     0.51151,     0.51251,     0.51351,     0.51451,     0.51552,     0.51652,     0.51752,     0.51852,     0.51952,     0.52052,     0.52152,     0.52252,     0.52352,     0.52452,     0.52553,     0.52653,     0.52753,\n",
       "           0.52853,     0.52953,     0.53053,     0.53153,     0.53253,     0.53353,     0.53453,     0.53554,     0.53654,     0.53754,     0.53854,     0.53954,     0.54054,     0.54154,     0.54254,     0.54354,     0.54454,     0.54555,     0.54655,     0.54755,     0.54855,     0.54955,     0.55055,     0.55155,\n",
       "           0.55255,     0.55355,     0.55455,     0.55556,     0.55656,     0.55756,     0.55856,     0.55956,     0.56056,     0.56156,     0.56256,     0.56356,     0.56456,     0.56557,     0.56657,     0.56757,     0.56857,     0.56957,     0.57057,     0.57157,     0.57257,     0.57357,     0.57457,     0.57558,\n",
       "           0.57658,     0.57758,     0.57858,     0.57958,     0.58058,     0.58158,     0.58258,     0.58358,     0.58458,     0.58559,     0.58659,     0.58759,     0.58859,     0.58959,     0.59059,     0.59159,     0.59259,     0.59359,     0.59459,      0.5956,      0.5966,      0.5976,      0.5986,      0.5996,\n",
       "            0.6006,      0.6016,      0.6026,      0.6036,      0.6046,     0.60561,     0.60661,     0.60761,     0.60861,     0.60961,     0.61061,     0.61161,     0.61261,     0.61361,     0.61461,     0.61562,     0.61662,     0.61762,     0.61862,     0.61962,     0.62062,     0.62162,     0.62262,     0.62362,\n",
       "           0.62462,     0.62563,     0.62663,     0.62763,     0.62863,     0.62963,     0.63063,     0.63163,     0.63263,     0.63363,     0.63463,     0.63564,     0.63664,     0.63764,     0.63864,     0.63964,     0.64064,     0.64164,     0.64264,     0.64364,     0.64464,     0.64565,     0.64665,     0.64765,\n",
       "           0.64865,     0.64965,     0.65065,     0.65165,     0.65265,     0.65365,     0.65465,     0.65566,     0.65666,     0.65766,     0.65866,     0.65966,     0.66066,     0.66166,     0.66266,     0.66366,     0.66466,     0.66567,     0.66667,     0.66767,     0.66867,     0.66967,     0.67067,     0.67167,\n",
       "           0.67267,     0.67367,     0.67467,     0.67568,     0.67668,     0.67768,     0.67868,     0.67968,     0.68068,     0.68168,     0.68268,     0.68368,     0.68468,     0.68569,     0.68669,     0.68769,     0.68869,     0.68969,     0.69069,     0.69169,     0.69269,     0.69369,     0.69469,      0.6957,\n",
       "            0.6967,      0.6977,      0.6987,      0.6997,      0.7007,      0.7017,      0.7027,      0.7037,      0.7047,     0.70571,     0.70671,     0.70771,     0.70871,     0.70971,     0.71071,     0.71171,     0.71271,     0.71371,     0.71471,     0.71572,     0.71672,     0.71772,     0.71872,     0.71972,\n",
       "           0.72072,     0.72172,     0.72272,     0.72372,     0.72472,     0.72573,     0.72673,     0.72773,     0.72873,     0.72973,     0.73073,     0.73173,     0.73273,     0.73373,     0.73473,     0.73574,     0.73674,     0.73774,     0.73874,     0.73974,     0.74074,     0.74174,     0.74274,     0.74374,\n",
       "           0.74474,     0.74575,     0.74675,     0.74775,     0.74875,     0.74975,     0.75075,     0.75175,     0.75275,     0.75375,     0.75475,     0.75576,     0.75676,     0.75776,     0.75876,     0.75976,     0.76076,     0.76176,     0.76276,     0.76376,     0.76476,     0.76577,     0.76677,     0.76777,\n",
       "           0.76877,     0.76977,     0.77077,     0.77177,     0.77277,     0.77377,     0.77477,     0.77578,     0.77678,     0.77778,     0.77878,     0.77978,     0.78078,     0.78178,     0.78278,     0.78378,     0.78478,     0.78579,     0.78679,     0.78779,     0.78879,     0.78979,     0.79079,     0.79179,\n",
       "           0.79279,     0.79379,     0.79479,      0.7958,      0.7968,      0.7978,      0.7988,      0.7998,      0.8008,      0.8018,      0.8028,      0.8038,      0.8048,     0.80581,     0.80681,     0.80781,     0.80881,     0.80981,     0.81081,     0.81181,     0.81281,     0.81381,     0.81481,     0.81582,\n",
       "           0.81682,     0.81782,     0.81882,     0.81982,     0.82082,     0.82182,     0.82282,     0.82382,     0.82482,     0.82583,     0.82683,     0.82783,     0.82883,     0.82983,     0.83083,     0.83183,     0.83283,     0.83383,     0.83483,     0.83584,     0.83684,     0.83784,     0.83884,     0.83984,\n",
       "           0.84084,     0.84184,     0.84284,     0.84384,     0.84484,     0.84585,     0.84685,     0.84785,     0.84885,     0.84985,     0.85085,     0.85185,     0.85285,     0.85385,     0.85485,     0.85586,     0.85686,     0.85786,     0.85886,     0.85986,     0.86086,     0.86186,     0.86286,     0.86386,\n",
       "           0.86486,     0.86587,     0.86687,     0.86787,     0.86887,     0.86987,     0.87087,     0.87187,     0.87287,     0.87387,     0.87487,     0.87588,     0.87688,     0.87788,     0.87888,     0.87988,     0.88088,     0.88188,     0.88288,     0.88388,     0.88488,     0.88589,     0.88689,     0.88789,\n",
       "           0.88889,     0.88989,     0.89089,     0.89189,     0.89289,     0.89389,     0.89489,      0.8959,      0.8969,      0.8979,      0.8989,      0.8999,      0.9009,      0.9019,      0.9029,      0.9039,      0.9049,     0.90591,     0.90691,     0.90791,     0.90891,     0.90991,     0.91091,     0.91191,\n",
       "           0.91291,     0.91391,     0.91491,     0.91592,     0.91692,     0.91792,     0.91892,     0.91992,     0.92092,     0.92192,     0.92292,     0.92392,     0.92492,     0.92593,     0.92693,     0.92793,     0.92893,     0.92993,     0.93093,     0.93193,     0.93293,     0.93393,     0.93493,     0.93594,\n",
       "           0.93694,     0.93794,     0.93894,     0.93994,     0.94094,     0.94194,     0.94294,     0.94394,     0.94494,     0.94595,     0.94695,     0.94795,     0.94895,     0.94995,     0.95095,     0.95195,     0.95295,     0.95395,     0.95495,     0.95596,     0.95696,     0.95796,     0.95896,     0.95996,\n",
       "           0.96096,     0.96196,     0.96296,     0.96396,     0.96496,     0.96597,     0.96697,     0.96797,     0.96897,     0.96997,     0.97097,     0.97197,     0.97297,     0.97397,     0.97497,     0.97598,     0.97698,     0.97798,     0.97898,     0.97998,     0.98098,     0.98198,     0.98298,     0.98398,\n",
       "           0.98498,     0.98599,     0.98699,     0.98799,     0.98899,     0.98999,     0.99099,     0.99199,     0.99299,     0.99399,     0.99499,       0.996,       0.997,       0.998,       0.999,           1]), array([[  0.0033333,   0.0033333,   0.0033333,   0.0033333,   0.0033514,   0.0051079,    0.011105,    0.028523,    0.056998,    0.096227,     0.13114,     0.17637,     0.21081,     0.24964,     0.28055,      0.3035,     0.30753,     0.31301,      0.3289,     0.36648,     0.38345,     0.39684,     0.40895,\n",
       "            0.42615,     0.44298,     0.44488,     0.44678,     0.44869,      0.4515,     0.45634,     0.46724,     0.47239,     0.47566,      0.4783,     0.48093,     0.48485,     0.48986,     0.50047,     0.50333,     0.50619,     0.50905,     0.51367,     0.51857,     0.55161,     0.55396,     0.55631,\n",
       "            0.55866,     0.56101,     0.56425,     0.56901,     0.57377,     0.58734,     0.59127,      0.5952,     0.59913,     0.62219,     0.62935,      0.6311,     0.63284,     0.63459,     0.63634,     0.63809,     0.63983,     0.64158,     0.64301,     0.64358,     0.64415,     0.64472,     0.64529,\n",
       "            0.64586,     0.64643,       0.647,     0.64757,     0.64814,     0.64871,     0.64928,     0.64985,     0.65042,     0.65099,     0.65156,     0.65213,      0.6527,     0.65327,     0.65384,     0.65441,     0.65498,     0.65555,     0.65612,     0.65669,     0.65726,     0.65783,      0.6584,\n",
       "            0.66005,     0.66202,       0.664,     0.66597,     0.66794,     0.66992,     0.67189,     0.67387,     0.67636,     0.67954,     0.68273,     0.68591,      0.6891,     0.69229,     0.69028,     0.68824,      0.6862,     0.68434,     0.68891,     0.69349,     0.69807,     0.70265,     0.70494,\n",
       "            0.70721,     0.70948,     0.71175,     0.71401,     0.71628,     0.71855,     0.72082,     0.72255,     0.72342,     0.72428,     0.72515,     0.72601,     0.72688,     0.72774,     0.72861,     0.72948,     0.73034,     0.73121,     0.73207,     0.73294,      0.7338,     0.73467,     0.73553,\n",
       "             0.7364,     0.73726,     0.73813,     0.73899,     0.73986,     0.74073,     0.74159,     0.74246,     0.74337,     0.74433,     0.74528,     0.74624,      0.7472,     0.74815,     0.74911,     0.75007,     0.75102,     0.75198,     0.75294,     0.75389,     0.75485,     0.75581,     0.75676,\n",
       "            0.75772,     0.75868,     0.75963,     0.76059,     0.76155,      0.7625,     0.76346,     0.76442,      0.7651,     0.76567,     0.76624,      0.7668,     0.76737,     0.76794,     0.76851,     0.76907,     0.76964,     0.77021,     0.77078,     0.77134,     0.77191,     0.77248,     0.77304,\n",
       "            0.77361,     0.77418,     0.77475,     0.77531,     0.77588,     0.77645,     0.77702,     0.77758,     0.77815,     0.77872,     0.77929,     0.77985,     0.78042,     0.78099,     0.78155,     0.78212,     0.78269,     0.78326,     0.78382,     0.78439,     0.78496,     0.78553,     0.78609,\n",
       "            0.78666,     0.78723,      0.7878,     0.78476,     0.78128,     0.78202,     0.78277,     0.78351,     0.78425,       0.785,     0.78574,     0.78649,     0.78723,     0.78797,     0.78872,     0.78946,     0.79021,     0.79095,     0.79169,     0.79244,     0.79318,     0.79393,     0.79467,\n",
       "            0.79541,     0.79616,      0.7969,     0.79764,     0.79839,     0.79913,     0.79988,     0.80062,     0.80136,     0.80211,     0.80285,      0.8036,     0.80434,     0.80508,     0.80583,     0.80706,     0.81081,     0.81457,     0.81832,     0.82208,     0.82583,     0.82959,     0.83334,\n",
       "            0.83642,      0.8395,     0.84257,     0.84565,     0.84873,     0.85181,     0.85489,     0.85796,     0.86104,     0.86344,     0.86549,     0.86754,     0.86959,     0.87164,     0.87369,     0.87574,     0.87779,     0.87984,     0.88189,     0.88394,     0.88599,     0.88805,      0.8901,\n",
       "            0.89215,     0.89366,     0.89489,     0.89611,     0.89734,     0.89857,     0.89979,     0.90102,     0.90225,     0.90347,      0.9047,     0.90593,     0.90715,     0.90838,      0.9096,     0.91083,     0.91206,     0.91328,     0.91451,     0.91574,     0.91696,     0.91819,     0.91942,\n",
       "            0.92064,     0.92187,      0.9231,     0.92432,     0.92555,     0.92575,     0.92551,     0.92526,     0.92501,     0.92476,     0.92451,     0.92427,     0.92402,     0.92377,     0.92352,     0.92327,     0.92271,     0.92099,     0.92112,     0.92371,     0.92631,     0.92891,      0.9315,\n",
       "             0.9341,      0.9367,      0.9393,     0.94189,     0.94449,     0.94709,     0.94968,     0.95228,     0.95488,     0.95747,     0.95822,     0.95805,     0.95787,      0.9577,     0.95753,     0.95736,     0.95718,     0.95701,     0.95684,     0.95666,      0.9566,     0.95704,     0.95748,\n",
       "            0.95791,     0.95835,     0.95879,     0.95923,     0.95967,     0.96011,     0.96055,     0.96099,     0.96143,     0.96187,     0.96231,     0.96275,     0.96319,     0.96363,     0.96407,      0.9645,     0.96494,     0.96538,     0.96582,     0.96626,      0.9667,     0.96714,     0.96758,\n",
       "            0.96802,     0.96846,      0.9689,     0.96934,     0.96978,     0.97022,     0.97065,     0.97109,     0.97153,     0.97197,     0.97241,     0.97285,     0.97329,     0.97373,     0.97417,     0.97461,     0.97505,     0.97549,     0.97593,     0.97637,     0.97681,     0.97724,     0.97768,\n",
       "            0.97812,     0.97856,       0.979,     0.97944,     0.97988,     0.98032,     0.98076,      0.9812,     0.98164,     0.98208,     0.98252,     0.98296,     0.98339,     0.98383,     0.98427,     0.98471,     0.98515,     0.98559,     0.98603,     0.98647,     0.98691,     0.98735,     0.98779,\n",
       "            0.98823,     0.98867,     0.98911,     0.98954,     0.98998,     0.99042,     0.99086,      0.9913,     0.99174,     0.99218,     0.99262,     0.99306,      0.9935,     0.99394,     0.99438,     0.99482,     0.99526,      0.9957,     0.99613,     0.99657,     0.99701,     0.99745,     0.99789,\n",
       "            0.99833,     0.99877,     0.99921,     0.99965,           1,           1,           1,           1,           1,           1,           1,           1,           1,           1,           1,           1,           1,           1,           1,           1,           1,           1,           1,\n",
       "                  1,           1,           1,           1,           1,           1,           1,           1,           1,           1,           1,           1,           1,           1,           1,           1,           1,           1,           1,           1,           1,           1,           1,\n",
       "                  1,           1,           1,           1,           1,           1,           1,           1,           1,           1,           1,           1,           1,           1,           1,           1,           1,           1,           1,           1,           1,           1,           1,\n",
       "                  1,           1,           1,           1,           1,           1,           1,           1,           1,           1,           1,           1,           1,           1,           1,           1,           1,           1,           1,           1,           1,           1,           1,\n",
       "                  1,           1,           1,           1,           1,           1,           1,           1,           1,           1,           1,           1,           1,           1,           1,           1,           1,           1,           1,           1,           1,           1,           1,\n",
       "                  1,           1,           1,           1,           1,           1,           1,           1,           1,           1,           1,           1,           1,           1,           1,           1,           1,           1,           1,           1,           1,           1,           1,\n",
       "                  1,           1,           1,           1,           1,           1,           1,           1,           1,           1,           1,           1,           1,           1,           1,           1,           1,           1,           1,           1,           1,           1,           1,\n",
       "                  1,           1,           1,           1,           1,           1,           1,           1,           1,           1,           1,           1,           1,           1,           1,           1,           1,           1,           1,           1,           1,           1,           1,\n",
       "                  1,           1,           1,           1,           1,           1,           1,           1,           1,           1,           1,           1,           1,           1,           1,           1,           1,           1,           1,           1,           1,           1,           1,\n",
       "                  1,           1,           1,           1,           1,           1,           1,           1,           1,           1,           1,           1,           1,           1,           1,           1,           1,           1,           1,           1,           1,           1,           1,\n",
       "                  1,           1,           1,           1,           1,           1,           1,           1,           1,           1,           1,           1,           1,           1,           1,           1,           1,           1,           1,           1,           1,           1,           1,\n",
       "                  1,           1,           1,           1,           1,           1,           1,           1,           1,           1,           1,           1,           1,           1,           1,           1,           1,           1,           1,           1,           1,           1,           1,\n",
       "                  1,           1,           1,           1,           1,           1,           1,           1,           1,           1,           1,           1,           1,           1,           1,           1,           1,           1,           1,           1,           1,           1,           1,\n",
       "                  1,           1,           1,           1,           1,           1,           1,           1,           1,           1,           1,           1,           1,           1,           1,           1,           1,           1,           1,           1,           1,           1,           1,\n",
       "                  1,           1,           1,           1,           1,           1,           1,           1,           1,           1,           1,           1,           1,           1,           1,           1,           1,           1,           1,           1,           1,           1,           1,\n",
       "                  1,           1,           1,           1,           1,           1,           1,           1,           1,           1,           1,           1,           1,           1,           1,           1,           1,           1,           1,           1,           1,           1,           1,\n",
       "                  1,           1,           1,           1,           1,           1,           1,           1,           1,           1,           1,           1,           1,           1,           1,           1,           1,           1,           1,           1,           1,           1,           1,\n",
       "                  1,           1,           1,           1,           1,           1,           1,           1,           1,           1,           1,           1,           1,           1,           1,           1,           1,           1,           1,           1,           1,           1,           1,\n",
       "                  1,           1,           1,           1,           1,           1,           1,           1,           1,           1,           1,           1,           1,           1,           1,           1,           1,           1,           1,           1,           1,           1,           1,\n",
       "                  1,           1,           1,           1,           1,           1,           1,           1,           1,           1,           1,           1,           1,           1,           1,           1,           1,           1,           1,           1,           1,           1,           1,\n",
       "                  1,           1,           1,           1,           1,           1,           1,           1,           1,           1,           1,           1,           1,           1,           1,           1,           1,           1,           1,           1,           1,           1,           1,\n",
       "                  1,           1,           1,           1,           1,           1,           1,           1,           1,           1,           1,           1,           1,           1,           1,           1,           1,           1,           1,           1,           1,           1,           1,\n",
       "                  1,           1,           1,           1,           1,           1,           1,           1,           1,           1,           1,           1,           1,           1,           1,           1,           1,           1,           1,           1,           1,           1,           1,\n",
       "                  1,           1,           1,           1,           1,           1,           1,           1,           1,           1,           1,           1,           1,           1,           1,           1,           1,           1,           1,           1,           1,           1,           1,\n",
       "                  1,           1,           1,           1,           1,           1,           1,           1,           1,           1,           1]]), 'Confidence', 'Precision'], [array([          0,    0.001001,    0.002002,    0.003003,    0.004004,    0.005005,    0.006006,    0.007007,    0.008008,    0.009009,     0.01001,    0.011011,    0.012012,    0.013013,    0.014014,    0.015015,    0.016016,    0.017017,    0.018018,    0.019019,     0.02002,    0.021021,    0.022022,    0.023023,\n",
       "          0.024024,    0.025025,    0.026026,    0.027027,    0.028028,    0.029029,     0.03003,    0.031031,    0.032032,    0.033033,    0.034034,    0.035035,    0.036036,    0.037037,    0.038038,    0.039039,     0.04004,    0.041041,    0.042042,    0.043043,    0.044044,    0.045045,    0.046046,    0.047047,\n",
       "          0.048048,    0.049049,     0.05005,    0.051051,    0.052052,    0.053053,    0.054054,    0.055055,    0.056056,    0.057057,    0.058058,    0.059059,     0.06006,    0.061061,    0.062062,    0.063063,    0.064064,    0.065065,    0.066066,    0.067067,    0.068068,    0.069069,     0.07007,    0.071071,\n",
       "          0.072072,    0.073073,    0.074074,    0.075075,    0.076076,    0.077077,    0.078078,    0.079079,     0.08008,    0.081081,    0.082082,    0.083083,    0.084084,    0.085085,    0.086086,    0.087087,    0.088088,    0.089089,     0.09009,    0.091091,    0.092092,    0.093093,    0.094094,    0.095095,\n",
       "          0.096096,    0.097097,    0.098098,    0.099099,      0.1001,      0.1011,      0.1021,      0.1031,      0.1041,     0.10511,     0.10611,     0.10711,     0.10811,     0.10911,     0.11011,     0.11111,     0.11211,     0.11311,     0.11411,     0.11512,     0.11612,     0.11712,     0.11812,     0.11912,\n",
       "           0.12012,     0.12112,     0.12212,     0.12312,     0.12412,     0.12513,     0.12613,     0.12713,     0.12813,     0.12913,     0.13013,     0.13113,     0.13213,     0.13313,     0.13413,     0.13514,     0.13614,     0.13714,     0.13814,     0.13914,     0.14014,     0.14114,     0.14214,     0.14314,\n",
       "           0.14414,     0.14515,     0.14615,     0.14715,     0.14815,     0.14915,     0.15015,     0.15115,     0.15215,     0.15315,     0.15415,     0.15516,     0.15616,     0.15716,     0.15816,     0.15916,     0.16016,     0.16116,     0.16216,     0.16316,     0.16416,     0.16517,     0.16617,     0.16717,\n",
       "           0.16817,     0.16917,     0.17017,     0.17117,     0.17217,     0.17317,     0.17417,     0.17518,     0.17618,     0.17718,     0.17818,     0.17918,     0.18018,     0.18118,     0.18218,     0.18318,     0.18418,     0.18519,     0.18619,     0.18719,     0.18819,     0.18919,     0.19019,     0.19119,\n",
       "           0.19219,     0.19319,     0.19419,      0.1952,      0.1962,      0.1972,      0.1982,      0.1992,      0.2002,      0.2012,      0.2022,      0.2032,      0.2042,     0.20521,     0.20621,     0.20721,     0.20821,     0.20921,     0.21021,     0.21121,     0.21221,     0.21321,     0.21421,     0.21522,\n",
       "           0.21622,     0.21722,     0.21822,     0.21922,     0.22022,     0.22122,     0.22222,     0.22322,     0.22422,     0.22523,     0.22623,     0.22723,     0.22823,     0.22923,     0.23023,     0.23123,     0.23223,     0.23323,     0.23423,     0.23524,     0.23624,     0.23724,     0.23824,     0.23924,\n",
       "           0.24024,     0.24124,     0.24224,     0.24324,     0.24424,     0.24525,     0.24625,     0.24725,     0.24825,     0.24925,     0.25025,     0.25125,     0.25225,     0.25325,     0.25425,     0.25526,     0.25626,     0.25726,     0.25826,     0.25926,     0.26026,     0.26126,     0.26226,     0.26326,\n",
       "           0.26426,     0.26527,     0.26627,     0.26727,     0.26827,     0.26927,     0.27027,     0.27127,     0.27227,     0.27327,     0.27427,     0.27528,     0.27628,     0.27728,     0.27828,     0.27928,     0.28028,     0.28128,     0.28228,     0.28328,     0.28428,     0.28529,     0.28629,     0.28729,\n",
       "           0.28829,     0.28929,     0.29029,     0.29129,     0.29229,     0.29329,     0.29429,      0.2953,      0.2963,      0.2973,      0.2983,      0.2993,      0.3003,      0.3013,      0.3023,      0.3033,      0.3043,     0.30531,     0.30631,     0.30731,     0.30831,     0.30931,     0.31031,     0.31131,\n",
       "           0.31231,     0.31331,     0.31431,     0.31532,     0.31632,     0.31732,     0.31832,     0.31932,     0.32032,     0.32132,     0.32232,     0.32332,     0.32432,     0.32533,     0.32633,     0.32733,     0.32833,     0.32933,     0.33033,     0.33133,     0.33233,     0.33333,     0.33433,     0.33534,\n",
       "           0.33634,     0.33734,     0.33834,     0.33934,     0.34034,     0.34134,     0.34234,     0.34334,     0.34434,     0.34535,     0.34635,     0.34735,     0.34835,     0.34935,     0.35035,     0.35135,     0.35235,     0.35335,     0.35435,     0.35536,     0.35636,     0.35736,     0.35836,     0.35936,\n",
       "           0.36036,     0.36136,     0.36236,     0.36336,     0.36436,     0.36537,     0.36637,     0.36737,     0.36837,     0.36937,     0.37037,     0.37137,     0.37237,     0.37337,     0.37437,     0.37538,     0.37638,     0.37738,     0.37838,     0.37938,     0.38038,     0.38138,     0.38238,     0.38338,\n",
       "           0.38438,     0.38539,     0.38639,     0.38739,     0.38839,     0.38939,     0.39039,     0.39139,     0.39239,     0.39339,     0.39439,      0.3954,      0.3964,      0.3974,      0.3984,      0.3994,      0.4004,      0.4014,      0.4024,      0.4034,      0.4044,     0.40541,     0.40641,     0.40741,\n",
       "           0.40841,     0.40941,     0.41041,     0.41141,     0.41241,     0.41341,     0.41441,     0.41542,     0.41642,     0.41742,     0.41842,     0.41942,     0.42042,     0.42142,     0.42242,     0.42342,     0.42442,     0.42543,     0.42643,     0.42743,     0.42843,     0.42943,     0.43043,     0.43143,\n",
       "           0.43243,     0.43343,     0.43443,     0.43544,     0.43644,     0.43744,     0.43844,     0.43944,     0.44044,     0.44144,     0.44244,     0.44344,     0.44444,     0.44545,     0.44645,     0.44745,     0.44845,     0.44945,     0.45045,     0.45145,     0.45245,     0.45345,     0.45445,     0.45546,\n",
       "           0.45646,     0.45746,     0.45846,     0.45946,     0.46046,     0.46146,     0.46246,     0.46346,     0.46446,     0.46547,     0.46647,     0.46747,     0.46847,     0.46947,     0.47047,     0.47147,     0.47247,     0.47347,     0.47447,     0.47548,     0.47648,     0.47748,     0.47848,     0.47948,\n",
       "           0.48048,     0.48148,     0.48248,     0.48348,     0.48448,     0.48549,     0.48649,     0.48749,     0.48849,     0.48949,     0.49049,     0.49149,     0.49249,     0.49349,     0.49449,      0.4955,      0.4965,      0.4975,      0.4985,      0.4995,      0.5005,      0.5015,      0.5025,      0.5035,\n",
       "            0.5045,     0.50551,     0.50651,     0.50751,     0.50851,     0.50951,     0.51051,     0.51151,     0.51251,     0.51351,     0.51451,     0.51552,     0.51652,     0.51752,     0.51852,     0.51952,     0.52052,     0.52152,     0.52252,     0.52352,     0.52452,     0.52553,     0.52653,     0.52753,\n",
       "           0.52853,     0.52953,     0.53053,     0.53153,     0.53253,     0.53353,     0.53453,     0.53554,     0.53654,     0.53754,     0.53854,     0.53954,     0.54054,     0.54154,     0.54254,     0.54354,     0.54454,     0.54555,     0.54655,     0.54755,     0.54855,     0.54955,     0.55055,     0.55155,\n",
       "           0.55255,     0.55355,     0.55455,     0.55556,     0.55656,     0.55756,     0.55856,     0.55956,     0.56056,     0.56156,     0.56256,     0.56356,     0.56456,     0.56557,     0.56657,     0.56757,     0.56857,     0.56957,     0.57057,     0.57157,     0.57257,     0.57357,     0.57457,     0.57558,\n",
       "           0.57658,     0.57758,     0.57858,     0.57958,     0.58058,     0.58158,     0.58258,     0.58358,     0.58458,     0.58559,     0.58659,     0.58759,     0.58859,     0.58959,     0.59059,     0.59159,     0.59259,     0.59359,     0.59459,      0.5956,      0.5966,      0.5976,      0.5986,      0.5996,\n",
       "            0.6006,      0.6016,      0.6026,      0.6036,      0.6046,     0.60561,     0.60661,     0.60761,     0.60861,     0.60961,     0.61061,     0.61161,     0.61261,     0.61361,     0.61461,     0.61562,     0.61662,     0.61762,     0.61862,     0.61962,     0.62062,     0.62162,     0.62262,     0.62362,\n",
       "           0.62462,     0.62563,     0.62663,     0.62763,     0.62863,     0.62963,     0.63063,     0.63163,     0.63263,     0.63363,     0.63463,     0.63564,     0.63664,     0.63764,     0.63864,     0.63964,     0.64064,     0.64164,     0.64264,     0.64364,     0.64464,     0.64565,     0.64665,     0.64765,\n",
       "           0.64865,     0.64965,     0.65065,     0.65165,     0.65265,     0.65365,     0.65465,     0.65566,     0.65666,     0.65766,     0.65866,     0.65966,     0.66066,     0.66166,     0.66266,     0.66366,     0.66466,     0.66567,     0.66667,     0.66767,     0.66867,     0.66967,     0.67067,     0.67167,\n",
       "           0.67267,     0.67367,     0.67467,     0.67568,     0.67668,     0.67768,     0.67868,     0.67968,     0.68068,     0.68168,     0.68268,     0.68368,     0.68468,     0.68569,     0.68669,     0.68769,     0.68869,     0.68969,     0.69069,     0.69169,     0.69269,     0.69369,     0.69469,      0.6957,\n",
       "            0.6967,      0.6977,      0.6987,      0.6997,      0.7007,      0.7017,      0.7027,      0.7037,      0.7047,     0.70571,     0.70671,     0.70771,     0.70871,     0.70971,     0.71071,     0.71171,     0.71271,     0.71371,     0.71471,     0.71572,     0.71672,     0.71772,     0.71872,     0.71972,\n",
       "           0.72072,     0.72172,     0.72272,     0.72372,     0.72472,     0.72573,     0.72673,     0.72773,     0.72873,     0.72973,     0.73073,     0.73173,     0.73273,     0.73373,     0.73473,     0.73574,     0.73674,     0.73774,     0.73874,     0.73974,     0.74074,     0.74174,     0.74274,     0.74374,\n",
       "           0.74474,     0.74575,     0.74675,     0.74775,     0.74875,     0.74975,     0.75075,     0.75175,     0.75275,     0.75375,     0.75475,     0.75576,     0.75676,     0.75776,     0.75876,     0.75976,     0.76076,     0.76176,     0.76276,     0.76376,     0.76476,     0.76577,     0.76677,     0.76777,\n",
       "           0.76877,     0.76977,     0.77077,     0.77177,     0.77277,     0.77377,     0.77477,     0.77578,     0.77678,     0.77778,     0.77878,     0.77978,     0.78078,     0.78178,     0.78278,     0.78378,     0.78478,     0.78579,     0.78679,     0.78779,     0.78879,     0.78979,     0.79079,     0.79179,\n",
       "           0.79279,     0.79379,     0.79479,      0.7958,      0.7968,      0.7978,      0.7988,      0.7998,      0.8008,      0.8018,      0.8028,      0.8038,      0.8048,     0.80581,     0.80681,     0.80781,     0.80881,     0.80981,     0.81081,     0.81181,     0.81281,     0.81381,     0.81481,     0.81582,\n",
       "           0.81682,     0.81782,     0.81882,     0.81982,     0.82082,     0.82182,     0.82282,     0.82382,     0.82482,     0.82583,     0.82683,     0.82783,     0.82883,     0.82983,     0.83083,     0.83183,     0.83283,     0.83383,     0.83483,     0.83584,     0.83684,     0.83784,     0.83884,     0.83984,\n",
       "           0.84084,     0.84184,     0.84284,     0.84384,     0.84484,     0.84585,     0.84685,     0.84785,     0.84885,     0.84985,     0.85085,     0.85185,     0.85285,     0.85385,     0.85485,     0.85586,     0.85686,     0.85786,     0.85886,     0.85986,     0.86086,     0.86186,     0.86286,     0.86386,\n",
       "           0.86486,     0.86587,     0.86687,     0.86787,     0.86887,     0.86987,     0.87087,     0.87187,     0.87287,     0.87387,     0.87487,     0.87588,     0.87688,     0.87788,     0.87888,     0.87988,     0.88088,     0.88188,     0.88288,     0.88388,     0.88488,     0.88589,     0.88689,     0.88789,\n",
       "           0.88889,     0.88989,     0.89089,     0.89189,     0.89289,     0.89389,     0.89489,      0.8959,      0.8969,      0.8979,      0.8989,      0.8999,      0.9009,      0.9019,      0.9029,      0.9039,      0.9049,     0.90591,     0.90691,     0.90791,     0.90891,     0.90991,     0.91091,     0.91191,\n",
       "           0.91291,     0.91391,     0.91491,     0.91592,     0.91692,     0.91792,     0.91892,     0.91992,     0.92092,     0.92192,     0.92292,     0.92392,     0.92492,     0.92593,     0.92693,     0.92793,     0.92893,     0.92993,     0.93093,     0.93193,     0.93293,     0.93393,     0.93493,     0.93594,\n",
       "           0.93694,     0.93794,     0.93894,     0.93994,     0.94094,     0.94194,     0.94294,     0.94394,     0.94494,     0.94595,     0.94695,     0.94795,     0.94895,     0.94995,     0.95095,     0.95195,     0.95295,     0.95395,     0.95495,     0.95596,     0.95696,     0.95796,     0.95896,     0.95996,\n",
       "           0.96096,     0.96196,     0.96296,     0.96396,     0.96496,     0.96597,     0.96697,     0.96797,     0.96897,     0.96997,     0.97097,     0.97197,     0.97297,     0.97397,     0.97497,     0.97598,     0.97698,     0.97798,     0.97898,     0.97998,     0.98098,     0.98198,     0.98298,     0.98398,\n",
       "           0.98498,     0.98599,     0.98699,     0.98799,     0.98899,     0.98999,     0.99099,     0.99199,     0.99299,     0.99399,     0.99499,       0.996,       0.997,       0.998,       0.999,           1]), array([[          1,           1,           1,           1,           1,           1,           1,           1,     0.96429,     0.96429,     0.96429,     0.96429,     0.96429,     0.96429,     0.96429,     0.96429,     0.96429,     0.96429,     0.96429,     0.96429,     0.96429,     0.96429,     0.96429,\n",
       "            0.96429,     0.96429,     0.96429,     0.96429,     0.96429,     0.96429,     0.96429,     0.96429,     0.96429,     0.96429,     0.96429,     0.96429,     0.96429,     0.96429,     0.96429,     0.96429,     0.96429,     0.96429,     0.96429,     0.96429,     0.96429,     0.96429,     0.96429,\n",
       "            0.96429,     0.96429,     0.96429,     0.96429,     0.96429,     0.96429,     0.96429,     0.96429,     0.96429,     0.96429,     0.96429,     0.96429,     0.96429,     0.96429,     0.96429,     0.96429,     0.96429,     0.96429,     0.96429,     0.96429,     0.96429,     0.96429,     0.96429,\n",
       "            0.96429,     0.96429,     0.96429,     0.96429,     0.96429,     0.96429,     0.96429,     0.96429,     0.96429,     0.96429,     0.96429,     0.96429,     0.96429,     0.96429,     0.96429,     0.96429,     0.96429,     0.96429,     0.96429,     0.96429,     0.96429,     0.96429,     0.96429,\n",
       "            0.96429,     0.96429,     0.96429,     0.96429,     0.96429,     0.96429,     0.96429,     0.96429,     0.96429,     0.96429,     0.96429,     0.96429,     0.96429,     0.96429,     0.95534,     0.94633,     0.93733,     0.92857,     0.92857,     0.92857,     0.92857,     0.92857,     0.92857,\n",
       "            0.92857,     0.92857,     0.92857,     0.92857,     0.92857,     0.92857,     0.92857,     0.92857,     0.92857,     0.92857,     0.92857,     0.92857,     0.92857,     0.92857,     0.92857,     0.92857,     0.92857,     0.92857,     0.92857,     0.92857,     0.92857,     0.92857,     0.92857,\n",
       "            0.92857,     0.92857,     0.92857,     0.92857,     0.92857,     0.92857,     0.92857,     0.92857,     0.92857,     0.92857,     0.92857,     0.92857,     0.92857,     0.92857,     0.92857,     0.92857,     0.92857,     0.92857,     0.92857,     0.92857,     0.92857,     0.92857,     0.92857,\n",
       "            0.92857,     0.92857,     0.92857,     0.92857,     0.92857,     0.92857,     0.92857,     0.92857,     0.92857,     0.92857,     0.92857,     0.92857,     0.92857,     0.92857,     0.92857,     0.92857,     0.92857,     0.92857,     0.92857,     0.92857,     0.92857,     0.92857,     0.92857,\n",
       "            0.92857,     0.92857,     0.92857,     0.92857,     0.92857,     0.92857,     0.92857,     0.92857,     0.92857,     0.92857,     0.92857,     0.92857,     0.92857,     0.92857,     0.92857,     0.92857,     0.92857,     0.92857,     0.92857,     0.92857,     0.92857,     0.92857,     0.92857,\n",
       "            0.92857,     0.92857,     0.92857,     0.91178,     0.89286,     0.89286,     0.89286,     0.89286,     0.89286,     0.89286,     0.89286,     0.89286,     0.89286,     0.89286,     0.89286,     0.89286,     0.89286,     0.89286,     0.89286,     0.89286,     0.89286,     0.89286,     0.89286,\n",
       "            0.89286,     0.89286,     0.89286,     0.89286,     0.89286,     0.89286,     0.89286,     0.89286,     0.89286,     0.89286,     0.89286,     0.89286,     0.89286,     0.89286,     0.89286,     0.89286,     0.89286,     0.89286,     0.89286,     0.89286,     0.89286,     0.89286,     0.89286,\n",
       "            0.89286,     0.89286,     0.89286,     0.89286,     0.89286,     0.89286,     0.89286,     0.89286,     0.89286,     0.89286,     0.89286,     0.89286,     0.89286,     0.89286,     0.89286,     0.89286,     0.89286,     0.89286,     0.89286,     0.89286,     0.89286,     0.89286,     0.89286,\n",
       "            0.89286,     0.89286,     0.89286,     0.89286,     0.89286,     0.89286,     0.89286,     0.89286,     0.89286,     0.89286,     0.89286,     0.89286,     0.89286,     0.89286,     0.89286,     0.89286,     0.89286,     0.89286,     0.89286,     0.89286,     0.89286,     0.89286,     0.89286,\n",
       "            0.89286,     0.89286,     0.89286,     0.89286,     0.89286,      0.8907,     0.88759,     0.88448,     0.88137,     0.87826,     0.87515,     0.87204,     0.86893,     0.86582,     0.86271,      0.8596,     0.85293,     0.83286,     0.82143,     0.82143,     0.82143,     0.82143,     0.82143,\n",
       "            0.82143,     0.82143,     0.82143,     0.82143,     0.82143,     0.82143,     0.82143,     0.82143,     0.82143,     0.82143,     0.81915,     0.81575,     0.81235,     0.80895,     0.80554,     0.80214,     0.79874,     0.79534,     0.79194,     0.78853,     0.78571,     0.78571,     0.78571,\n",
       "            0.78571,     0.78571,     0.78571,     0.78571,     0.78571,     0.78571,     0.78571,     0.78571,     0.78571,     0.78571,     0.78571,     0.78571,     0.78571,     0.78571,     0.78571,     0.78571,     0.78571,     0.78571,     0.78571,     0.78571,     0.78571,     0.78571,     0.78571,\n",
       "            0.78571,     0.78571,     0.78571,     0.78571,     0.78571,     0.78571,     0.78571,     0.78571,     0.78571,     0.78571,     0.78571,     0.78571,     0.78571,     0.78571,     0.78571,     0.78571,     0.78571,     0.78571,     0.78571,     0.78571,     0.78571,     0.78571,     0.78571,\n",
       "            0.78571,     0.78571,     0.78571,     0.78571,     0.78571,     0.78571,     0.78571,     0.78571,     0.78571,     0.78571,     0.78571,     0.78571,     0.78571,     0.78571,     0.78571,     0.78571,     0.78571,     0.78571,     0.78571,     0.78571,     0.78571,     0.78571,     0.78571,\n",
       "            0.78571,     0.78571,     0.78571,     0.78571,     0.78571,     0.78571,     0.78571,     0.78571,     0.78571,     0.78571,     0.78571,     0.78571,     0.78571,     0.78571,     0.78571,     0.78571,     0.78571,     0.78571,     0.78571,     0.78571,     0.78571,     0.78571,     0.78571,\n",
       "            0.78571,     0.78571,     0.78571,     0.78571,     0.78524,     0.78289,     0.78054,     0.77819,     0.77583,     0.77348,     0.77113,     0.76878,     0.76643,     0.76408,     0.76172,     0.75937,     0.75702,     0.75467,     0.75232,     0.74998,     0.74842,     0.74687,     0.74531,\n",
       "            0.74376,      0.7422,     0.74064,     0.73909,     0.73753,     0.73598,     0.73442,     0.73287,     0.73131,     0.72976,      0.7282,     0.72664,     0.72509,     0.72353,     0.72198,     0.72042,     0.71887,     0.71731,     0.71575,     0.71427,     0.71404,     0.71381,     0.71357,\n",
       "            0.71334,     0.71311,     0.71287,     0.71264,     0.71241,     0.71217,     0.71194,     0.71171,     0.71147,     0.71124,     0.71101,     0.71077,     0.71054,     0.71031,     0.71007,     0.70984,     0.70961,     0.70938,     0.70914,     0.70891,     0.70868,     0.70844,     0.70821,\n",
       "            0.70798,     0.70774,     0.70751,     0.70728,     0.70704,     0.70681,     0.70658,     0.70634,     0.70611,     0.70588,     0.70564,     0.70541,     0.70518,     0.70494,     0.70471,     0.70448,     0.70424,     0.70401,     0.70378,     0.70354,     0.70331,     0.70308,     0.70285,\n",
       "            0.70261,     0.70238,     0.70215,     0.70191,     0.70168,     0.70145,     0.70121,     0.70098,     0.70075,     0.70051,     0.70028,     0.70005,     0.69981,     0.69958,     0.69935,     0.69911,     0.69888,     0.69865,     0.69841,     0.69818,     0.69795,     0.69771,     0.69748,\n",
       "            0.69725,     0.69701,     0.69678,     0.69655,     0.69631,     0.69608,     0.69585,     0.69562,     0.69538,     0.69515,     0.69492,     0.69468,     0.69445,     0.69422,     0.69398,     0.69375,     0.69352,     0.69328,     0.69305,     0.69282,     0.69258,     0.69235,     0.69212,\n",
       "            0.69188,     0.69165,     0.69142,     0.69118,     0.69095,     0.69072,     0.69048,     0.69025,     0.69002,     0.68978,     0.68955,     0.68932,     0.68909,     0.68885,     0.68862,     0.68839,     0.68815,     0.68792,     0.68769,     0.68745,     0.68722,     0.68699,     0.68675,\n",
       "            0.68652,     0.68629,     0.68605,     0.68582,     0.68559,     0.68535,     0.68512,     0.68489,     0.68465,     0.68442,     0.68419,     0.68395,     0.68372,     0.68349,     0.68325,     0.68302,     0.68279,     0.68256,     0.68232,     0.68209,     0.68186,     0.68162,     0.68139,\n",
       "            0.68116,     0.68092,     0.68069,     0.68046,     0.68022,     0.67999,     0.67976,     0.67952,     0.67929,     0.67906,     0.67882,     0.67859,     0.64829,      0.6424,     0.64184,     0.64129,     0.64074,     0.64019,     0.63964,     0.63908,     0.63853,     0.63798,     0.63743,\n",
       "            0.63687,     0.63632,     0.63577,     0.63522,     0.63467,     0.63411,     0.63356,     0.63301,     0.63246,     0.63191,     0.63135,      0.6308,     0.63025,      0.6297,     0.62915,     0.62859,     0.62804,     0.62749,     0.62694,     0.62638,     0.62583,     0.62528,     0.62473,\n",
       "            0.62418,     0.62362,     0.62307,     0.62252,     0.62197,     0.62142,     0.62086,     0.62031,     0.61976,     0.61921,     0.61866,      0.6181,     0.61755,       0.617,     0.61645,     0.61589,     0.61534,     0.61479,     0.61424,     0.61369,     0.61313,     0.61258,     0.61203,\n",
       "            0.61148,     0.61093,     0.61037,     0.60982,     0.60927,     0.60872,     0.60817,     0.60761,     0.60413,     0.58371,     0.57081,     0.56925,      0.5677,     0.56614,     0.56459,     0.56303,     0.56148,     0.55992,     0.55837,     0.55681,     0.55526,      0.5537,     0.55215,\n",
       "            0.55059,     0.54904,     0.54748,     0.54593,     0.54437,     0.54281,     0.54126,      0.5397,     0.53815,     0.53659,     0.53124,     0.52096,     0.51067,     0.50038,     0.49879,     0.49753,     0.49627,     0.49501,     0.49375,     0.49249,     0.49123,     0.48997,     0.48871,\n",
       "            0.48746,      0.4862,     0.48494,     0.48368,     0.48242,     0.48116,      0.4799,     0.47864,     0.47738,     0.47612,     0.47487,     0.47361,     0.47235,     0.47109,     0.46983,     0.46857,     0.46731,     0.46605,     0.46479,     0.46358,     0.46239,      0.4612,     0.46001,\n",
       "            0.45883,     0.45764,     0.45645,     0.45526,     0.45408,     0.45289,      0.4517,     0.45051,     0.44933,     0.44814,     0.44695,     0.44576,     0.44458,     0.44339,      0.4422,     0.44101,     0.43983,     0.43864,     0.43745,     0.43626,     0.43508,     0.43389,      0.4327,\n",
       "            0.43151,     0.43033,     0.42914,     0.42623,     0.42174,     0.41725,     0.41277,     0.40828,     0.40379,     0.39931,     0.39482,     0.39089,      0.3874,      0.3839,     0.38041,     0.37692,     0.37342,     0.36993,     0.36644,     0.36294,     0.35945,     0.35611,     0.35307,\n",
       "            0.35003,       0.347,     0.34396,     0.34092,     0.33788,     0.33484,     0.33181,     0.32877,     0.32573,     0.32269,     0.32025,     0.31824,     0.31623,     0.31422,     0.31221,      0.3102,     0.30819,     0.30618,     0.30416,     0.30215,     0.30014,     0.29813,     0.29612,\n",
       "            0.29411,      0.2921,     0.29009,     0.28808,     0.28606,      0.2844,     0.28281,     0.28121,     0.27962,     0.27803,     0.27643,     0.27484,     0.27324,     0.27165,     0.27006,     0.26846,     0.26687,     0.26528,     0.26368,     0.26209,      0.2605,      0.2589,     0.25731,\n",
       "            0.25572,     0.25412,     0.25253,     0.25094,     0.24915,     0.24707,     0.24499,     0.24292,     0.24084,     0.23877,     0.23669,     0.23461,     0.23254,     0.23046,     0.22839,     0.22631,     0.22423,     0.22216,     0.22008,       0.218,     0.21593,     0.21407,     0.21304,\n",
       "            0.21201,     0.21098,     0.20994,     0.20891,     0.20788,     0.20685,     0.20582,     0.20479,     0.20376,     0.20272,     0.20169,     0.20066,     0.19963,      0.1986,     0.19757,     0.19654,      0.1955,     0.19447,     0.19344,     0.19241,     0.19138,     0.19035,     0.18932,\n",
       "            0.18828,     0.18725,     0.18622,     0.18519,     0.18416,     0.18313,      0.1821,     0.18106,     0.18003,       0.179,     0.17758,     0.17588,     0.17418,     0.17248,     0.17078,     0.16908,     0.16738,     0.16568,     0.16398,     0.16228,     0.16058,     0.15888,     0.15718,\n",
       "            0.15548,     0.15378,     0.15208,     0.15038,     0.14868,     0.14699,     0.14529,     0.14359,     0.13441,     0.11964,     0.10592,    0.097951,    0.089983,    0.082015,    0.074048,    0.070683,    0.069571,     0.06846,    0.067348,    0.066237,    0.065126,    0.064014,    0.062903,\n",
       "           0.061791,     0.06068,    0.059569,    0.058457,    0.057346,    0.056235,    0.055123,    0.054012,      0.0529,    0.051789,    0.050678,    0.049566,    0.048455,    0.047344,    0.046232,    0.045121,    0.044009,    0.042898,    0.041787,    0.040675,    0.039564,    0.038453,    0.037341,\n",
       "            0.03623,           0,           0,           0,           0,           0,           0,           0,           0,           0,           0,           0,           0,           0,           0,           0,           0,           0,           0,           0,           0,           0,           0,\n",
       "                  0,           0,           0,           0,           0,           0,           0,           0,           0,           0,           0]]), 'Confidence', 'Recall']]\n",
       "fitness: 0.697079797249706\n",
       "keys: ['metrics/precision(B)', 'metrics/recall(B)', 'metrics/mAP50(B)', 'metrics/mAP50-95(B)']\n",
       "maps: array([    0.66999])\n",
       "names: {0: 'pod'}\n",
       "plot: True\n",
       "results_dict: {'metrics/precision(B)': 0.9257538200238773, 'metrics/recall(B)': 0.8906996724421754, 'metrics/mAP50(B)': 0.9408885841827018, 'metrics/mAP50-95(B)': 0.6699899320349287, 'fitness': 0.697079797249706}\n",
       "save_dir: WindowsPath('runs/detect/train6')\n",
       "speed: {'preprocess': 7.230401039123535, 'inference': 560.3941253253391, 'loss': 0.0, 'postprocess': 0.10779925755092076}\n",
       "task: 'detect'"
      ]
     },
     "execution_count": 27,
     "metadata": {},
     "output_type": "execute_result"
    }
   ],
   "source": [
    "model = YOLO('runs/detect/train4/weights/best.pt')\n",
    "YAML_PATH = './pod_path/data.yaml'\n",
    "EPOCHS = 50\n",
    "IMG_SIZE = 640\n",
    "BATCH_SIZE = 16\n",
    "\n",
    "model.train(data=YAML_PATH,\n",
    "            epochs=EPOCHS,\n",
    "            batch=BATCH_SIZE,\n",
    "            imgsz=IMG_SIZE)"
   ]
  },
  {
   "cell_type": "code",
   "execution_count": 4,
   "metadata": {},
   "outputs": [],
   "source": [
    "from ultralytics import YOLOv10"
   ]
  },
  {
   "cell_type": "code",
   "execution_count": 2,
   "metadata": {},
   "outputs": [
    {
     "name": "stdout",
     "output_type": "stream",
     "text": [
      "\n",
      "0: 640x480 2 pods, 287.6ms\n",
      "Speed: 4.0ms preprocess, 287.6ms inference, 1.0ms postprocess per image at shape (1, 3, 640, 480)\n"
     ]
    }
   ],
   "source": [
    "import requests\n",
    "import cv2\n",
    "import numpy as np\n",
    "from ultralytics import YOLO  # Giả sử bạn đã cài đặt thư viện YOLO\n",
    "\n",
    "# Đường dẫn tới mô hình đã huấn luyện\n",
    "TRAINED_MODEL_PATH = 'runs/detect/train4/weights/best.pt'\n",
    "model = YOLO(TRAINED_MODEL_PATH)\n",
    "\n",
    "# URL hình ảnh\n",
    "IMAGE_URL = 'https://down-cvs-vn.img.susercontent.com/vn-11134525-7r98o-lxcfabvq29cr9b.webp'\n",
    "CONF_THRESHOLD = 0.1\n",
    "IMG_SIZE = 640\n",
    "\n",
    "# Tải hình ảnh từ URL\n",
    "response = requests.get(IMAGE_URL)\n",
    "image_array = np.asarray(bytearray(response.content), dtype=np.uint8)\n",
    "image = cv2.imdecode(image_array, cv2.IMREAD_COLOR)\n",
    "\n",
    "# Dự đoán trên hình ảnh\n",
    "results = model.predict(source=image, imgsz=IMG_SIZE, conf=CONF_THRESHOLD)\n",
    "\n",
    "# Vẽ bounding boxes và labels lên hình ảnh\n",
    "for result in results:\n",
    "    for detection in result.boxes:\n",
    "        x1, y1, x2, y2 = map(int, detection.xyxy[0])  # Lấy tọa độ bounding box\n",
    "        label = detection.cls[0]  # Lấy nhãn\n",
    "        conf = detection.conf[0]  # Lấy độ tin cậy\n",
    "\n",
    "        # Vẽ bounding box\n",
    "        cv2.rectangle(image, (x1, y1), (x2, y2), (0, 255, 0), 2)\n",
    "        \n",
    "        # Hiển thị nhãn và độ tin cậy\n",
    "        cv2.putText(image, f'{label} {conf:.2f}', (x1, y1 - 10), cv2.FONT_HERSHEY_SIMPLEX, 0.9, (36, 255, 12), 2)\n",
    "\n",
    "# Hiển thị hình ảnh\n",
    "predicted_image_path = 'predicted_image.jpg'\n",
    "cv2.imwrite(predicted_image_path, image)\n",
    "cv2.imshow('Predicted Image', image)\n",
    "# original_image_path = 'original_image.jpg'\n",
    "cv2.waitKey(0)\n",
    "cv2.destroyAllWindows()"
   ]
  },
  {
   "cell_type": "code",
   "execution_count": 9,
   "metadata": {},
   "outputs": [],
   "source": [
    "import os "
   ]
  },
  {
   "cell_type": "code",
   "execution_count": 18,
   "metadata": {},
   "outputs": [],
   "source": [
    "# "
   ]
  },
  {
   "cell_type": "code",
   "execution_count": 13,
   "metadata": {},
   "outputs": [],
   "source": [
    "# os.listdir(p)"
   ]
  }
 ],
 "metadata": {
  "kernelspec": {
   "display_name": "Python 3",
   "language": "python",
   "name": "python3"
  },
  "language_info": {
   "codemirror_mode": {
    "name": "ipython",
    "version": 3
   },
   "file_extension": ".py",
   "mimetype": "text/x-python",
   "name": "python",
   "nbconvert_exporter": "python",
   "pygments_lexer": "ipython3",
   "version": "3.12.3"
  }
 },
 "nbformat": 4,
 "nbformat_minor": 2
}
